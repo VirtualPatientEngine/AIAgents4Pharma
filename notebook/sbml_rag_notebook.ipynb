{
 "cells": [
  {
   "cell_type": "markdown",
   "metadata": {},
   "source": [
    "# SBML Model RAG System for Background Knowledge Extraction\n",
    "\n",
    "This notebook demonstrates how to extract background knowledge for species in an SBML model using a RAG (Retrieval Augmented Generation) approach with LangChain and OpenAI.\n",
    "\n",
    "**What this notebook does:**\n",
    "1. Loads and processes a PDF containing background information\n",
    "2. Extracts key concepts/keywords from the PDF\n",
    "3. Parses an SBML model to identify species\n",
    "4. Uses RAG to generate background knowledge for each species\n",
    "5. Returns two lists: species background knowledge and PDF keywords"
   ]
  },
  {
   "cell_type": "markdown",
   "metadata": {},
   "source": [
    "## 1. Install Required Packages\n",
    "\n",
    "First, let's make sure we have all the required packages installed."
   ]
  },
  {
   "cell_type": "code",
   "execution_count": 1,
   "metadata": {},
   "outputs": [],
   "source": [
    "# Uncomment to install required packages if not already installed\n",
    "# !pip install langchain langchain-openai langchain-community faiss-cpu python-libsbml pypdf"
   ]
  },
  {
   "cell_type": "markdown",
   "metadata": {},
   "source": [
    "## 2. Import the SBML RAG Utilities"
   ]
  },
  {
   "cell_type": "code",
   "execution_count": 2,
   "metadata": {},
   "outputs": [],
   "source": [
    "# Import the utilities from our custom module\n",
    "import sys\n",
    "sys.path.append('/Users/U1013680/workplace/projects/inigoo18/AIAgents4Pharma/notebook')\n",
    "from sbml_rag_utils import process_sbml_and_pdf\n",
    "import os\n",
    "import pandas as pd"
   ]
  },
  {
   "cell_type": "markdown",
   "metadata": {},
   "source": [
    "## 3. Setup File Paths and API Key"
   ]
  },
  {
   "cell_type": "code",
   "execution_count": 3,
   "metadata": {},
   "outputs": [],
   "source": [
    "# Set your OpenAI API key\n",
    "\n",
    "# Get the API key from environment variables\n",
    "openai_api_key = os.environ.get(\"OPENAI_API_KEY\")\n",
    "\n",
    "# Check if the key exists\n",
    "if openai_api_key is None:\n",
    "    raise ValueError(\"The OPENAI_API_KEY environment variable is not set\")\n",
    "\n",
    "# Define file paths\n",
    "sbml_file_path = \"./data/Dwivedi_Model537_empty.xml\"   # Replace with your SBML file path\n",
    "pdf_file_path = \"./data/psp201364a.pdf\"  # Replace with your PDF file path\n",
    "\n",
    "# Verify files exist\n",
    "assert os.path.exists(sbml_file_path), f\"SBML file not found at {sbml_file_path}\"\n",
    "assert os.path.exists(pdf_file_path), f\"PDF file not found at {pdf_file_path}\""
   ]
  },
  {
   "cell_type": "markdown",
   "metadata": {},
   "source": [
    "## 4. Process the SBML Model and PDF\n",
    "\n",
    "Now we'll run the main processing function to extract species background knowledge and PDF keywords."
   ]
  },
  {
   "cell_type": "code",
   "execution_count": 4,
   "metadata": {},
   "outputs": [
    {
     "name": "stdout",
     "output_type": "stream",
     "text": [
      "Analyzing SBML model species...\n",
      "Found 44 species in the model\n",
      "Species are distributed across 4 compartments\n",
      "Loading and processing PDF...\n",
      "Extracting keywords from PDF...\n",
      "Parsing SBML model for species...\n",
      "Extracting background information for 44 species...\n",
      "Processing species 1/44: IL6\n",
      "Processing species 2/44: sgp130\n",
      "Processing species 3/44: sR_IL6_sgp130\n",
      "Processing species 4/44: CRP\n",
      "Processing species 5/44: sR\n",
      "Processing species 6/44: sR_IL6\n",
      "Processing species 7/44: Ab\n",
      "Processing species 8/44: Ab_sR\n",
      "Processing species 9/44: Ab_sR_IL6\n",
      "Processing species 10/44: CRP Suppression (%)\n",
      "Processing species 11/44: CRP (% of baseline)\n",
      "Processing species 12/44: gp130\n",
      "Processing species 13/44: R_IL6_gp130\n",
      "Processing species 14/44: sR_IL6 (mw88ca8d9a_f5cf_41bf_9d9d_fc48f6e1a19e, #2)\n"
     ]
    }
   ],
   "source": [
    "# Process the SBML model and PDF\n",
    "species_backgrounds, keywords = process_sbml_and_pdf(\n",
    "    sbml_file_path=sbml_file_path,\n",
    "    pdf_file_path=pdf_file_path,\n",
    "    api_key=openai_api_key,\n",
    "    max_species=10 \n",
    ")"
   ]
  },
  {
   "cell_type": "markdown",
   "metadata": {},
   "source": [
    "## 5. Display the Results\n",
    "\n",
    "### 5.1 PDF Keywords"
   ]
  },
  {
   "cell_type": "code",
   "execution_count": null,
   "metadata": {},
   "outputs": [],
   "source": [
    "print(\"PDF Keywords:\")\n",
    "for i, keyword in enumerate(keywords, 1):\n",
    "    print(f\"{i}. {keyword}\")"
   ]
  },
  {
   "cell_type": "markdown",
   "metadata": {},
   "source": [
    "### 5.2 Species Background Knowledge"
   ]
  },
  {
   "cell_type": "code",
   "execution_count": null,
   "metadata": {},
   "outputs": [],
   "source": [
    "# Create a DataFrame for better visualization\n",
    "species_df = pd.DataFrame(species_backgrounds)\n",
    "species_df"
   ]
  },
  {
   "cell_type": "markdown",
   "metadata": {},
   "source": [
    "### 5.3 Detailed Species Information"
   ]
  },
  {
   "cell_type": "code",
   "execution_count": null,
   "metadata": {},
   "outputs": [],
   "source": [
    "# Display detailed information for each species\n",
    "for i, species in enumerate(species_backgrounds, 1):\n",
    "    print(f\"\\n{'='*80}\\n{i}. {species['name']} (ID: {species['id']})\\n{'='*80}\")\n",
    "    print(species['background'])"
   ]
  },
  {
   "cell_type": "markdown",
   "metadata": {},
   "source": [
    "## 6. Save Results to Files (Optional)"
   ]
  },
  {
   "cell_type": "code",
   "execution_count": null,
   "metadata": {},
   "outputs": [],
   "source": [
    "# Save species background information to CSV\n",
    "species_df.to_csv(\"species_backgrounds.csv\", index=False)\n",
    "\n",
    "# Save keywords to a text file\n",
    "with open(\"pdf_keywords.txt\", \"w\") as f:\n",
    "    f.write(\", \".join(keywords))\n",
    "\n",
    "print(\"Results saved to 'species_backgrounds.csv' and 'pdf_keywords.txt'\")"
   ]
  },
  {
   "cell_type": "markdown",
   "metadata": {},
   "source": [
    "## 7. Return the Required Lists\n",
    "\n",
    "Here are the two lists that were requested:"
   ]
  },
  {
   "cell_type": "code",
   "execution_count": null,
   "metadata": {},
   "outputs": [],
   "source": [
    "# List 1: Species background knowledge\n",
    "species_backgrounds"
   ]
  },
  {
   "cell_type": "code",
   "execution_count": null,
   "metadata": {},
   "outputs": [],
   "source": [
    "# List 2: PDF keywords\n",
    "keywords"
   ]
  },
  {
   "cell_type": "code",
   "execution_count": null,
   "metadata": {},
   "outputs": [],
   "source": []
  },
  {
   "cell_type": "code",
   "execution_count": null,
   "metadata": {},
   "outputs": [],
   "source": []
  }
 ],
 "metadata": {
  "kernelspec": {
   "display_name": "Python 3",
   "language": "python",
   "name": "python3"
  },
  "language_info": {
   "codemirror_mode": {
    "name": "ipython",
    "version": 3
   },
   "file_extension": ".py",
   "mimetype": "text/x-python",
   "name": "python",
   "nbconvert_exporter": "python",
   "pygments_lexer": "ipython3",
   "version": "3.11.11"
  }
 },
 "nbformat": 4,
 "nbformat_minor": 4
}
