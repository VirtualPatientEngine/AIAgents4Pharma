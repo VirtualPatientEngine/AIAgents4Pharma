{
 "cells": [
  {
   "cell_type": "markdown",
   "metadata": {},
   "source": [
    "# SBML Model RAG System for Background Knowledge Extraction\n",
    "\n",
    "This notebook demonstrates how to extract background knowledge for species in an SBML model using a RAG (Retrieval Augmented Generation) approach with LangChain and OpenAI.\n",
    "\n",
    "**What this notebook does:**\n",
    "1. Loads and processes a PDF containing background information\n",
    "2. Extracts key concepts/keywords from the PDF\n",
    "3. Parses an SBML model to identify species\n",
    "4. Uses RAG to generate background knowledge for each species\n",
    "5. Returns two lists: species background knowledge and PDF keywords"
   ]
  },
  {
   "cell_type": "markdown",
   "metadata": {},
   "source": [
    "## 1. Install Required Packages"
   ]
  },
  {
   "cell_type": "code",
   "execution_count": 1,
   "metadata": {},
   "outputs": [],
   "source": [
    "# Uncomment to install required packages if not already installed\n",
    "# !pip install langchain langchain-openai langchain-community faiss-cpu python-libsbml pypdf"
   ]
  },
  {
   "cell_type": "markdown",
   "metadata": {},
   "source": [
    "## 2. Import the SBML RAG Utilities"
   ]
  },
  {
   "cell_type": "code",
   "execution_count": 2,
   "metadata": {},
   "outputs": [],
   "source": [
    "# Import the utilities from our custom module\n",
    "import sys\n",
    "sys.path.append('/Users/U1013680/workplace/projects/inigoo18/AIAgents4Pharma/notebook')\n",
    "from sbml_rag_utils import process_sbml_and_pdf\n",
    "import os\n",
    "import pandas as pd\n",
    "import re"
   ]
  },
  {
   "cell_type": "markdown",
   "metadata": {},
   "source": [
    "## 3. Setup File Paths and API Key"
   ]
  },
  {
   "cell_type": "code",
   "execution_count": 3,
   "metadata": {},
   "outputs": [],
   "source": [
    "# Set your OpenAI API key\n",
    "\n",
    "# Get the API key from environment variables\n",
    "openai_api_key = os.environ.get(\"OPENAI_API_KEY\")\n",
    "\n",
    "# Check if the key exists\n",
    "if openai_api_key is None:\n",
    "    raise ValueError(\"The OPENAI_API_KEY environment variable is not set\")\n",
    "\n",
    "# Define file paths\n",
    "sbml_file_path = \"./data/Dwivedi_Model537_empty.xml\"   # Replace with your SBML file path\n",
    "pdf_file_path = \"./data/psp201364a.pdf\"  # Replace with your PDF file path\n",
    "\n",
    "# Verify files exist\n",
    "assert os.path.exists(sbml_file_path), f\"SBML file not found at {sbml_file_path}\"\n",
    "assert os.path.exists(pdf_file_path), f\"PDF file not found at {pdf_file_path}\""
   ]
  },
  {
   "cell_type": "markdown",
   "metadata": {},
   "source": [
    "## 4. Process the SBML Model and PDF\n",
    "\n",
    "Now we'll run the main processing function to extract species background knowledge and PDF keywords."
   ]
  },
  {
   "cell_type": "code",
   "execution_count": 4,
   "metadata": {},
   "outputs": [
    {
     "name": "stdout",
     "output_type": "stream",
     "text": [
      "Analyzing SBML model species...\n",
      "Found 44 species in the model\n",
      "Species are distributed across 4 compartments\n",
      "Loading and processing PDF...\n",
      "Extracting keywords from PDF...\n",
      "Parsing SBML model for species...\n",
      "Limiting processing to 1 species (out of 44 total)\n",
      "Extracting background information for 1 species...\n",
      "Processing species 1/1: IL6\n"
     ]
    }
   ],
   "source": [
    "# Process the SBML model and PDF\n",
    "species_backgrounds, keywords, species_stats = process_sbml_and_pdf(\n",
    "    sbml_file_path=sbml_file_path,\n",
    "    pdf_file_path=pdf_file_path,\n",
    "    api_key=openai_api_key,\n",
    "    max_species=44\n",
    ")"
   ]
  },
  {
   "cell_type": "markdown",
   "metadata": {},
   "source": [
    "## 5. Display the Results\n",
    "\n",
    "### 5.1 PDF Keywords"
   ]
  },
  {
   "cell_type": "code",
   "execution_count": 5,
   "metadata": {},
   "outputs": [
    {
     "name": "stdout",
     "output_type": "stream",
     "text": [
      "PDF Keywords:\n",
      "1. Crohns disease\n",
      "2. IL-6\n",
      "3. T-cells\n",
      "4. apoptosis\n",
      "5. inflammation\n",
      "6. IL-6Rα\n",
      "7. sIL-6Rα\n",
      "8. gp130\n",
      "9. Jak\n",
      "10. STAT3\n",
      "11. CRP\n",
      "12. hepatocytes\n",
      "13. leukocytes\n",
      "14. sgp130\n",
      "15. tocilizumab\n",
      "16. GI tract\n",
      "17. liver\n",
      "18. monoclonal antibodies\n",
      "19. SOCS\n",
      "20. circulation\n"
     ]
    }
   ],
   "source": [
    "print(\"PDF Keywords:\")\n",
    "for i, keyword in enumerate(keywords, 1):\n",
    "    print(f\"{i}. {keyword}\")"
   ]
  },
  {
   "cell_type": "markdown",
   "metadata": {},
   "source": [
    "### 5.2 Species Background Knowledge"
   ]
  },
  {
   "cell_type": "code",
   "execution_count": 6,
   "metadata": {},
   "outputs": [
    {
     "data": {
      "text/html": [
       "<div>\n",
       "<style scoped>\n",
       "    .dataframe tbody tr th:only-of-type {\n",
       "        vertical-align: middle;\n",
       "    }\n",
       "\n",
       "    .dataframe tbody tr th {\n",
       "        vertical-align: top;\n",
       "    }\n",
       "\n",
       "    .dataframe thead th {\n",
       "        text-align: right;\n",
       "    }\n",
       "</style>\n",
       "<table border=\"1\" class=\"dataframe\">\n",
       "  <thead>\n",
       "    <tr style=\"text-align: right;\">\n",
       "      <th></th>\n",
       "      <th>id</th>\n",
       "      <th>name</th>\n",
       "      <th>original_name</th>\n",
       "      <th>compartment</th>\n",
       "      <th>background</th>\n",
       "    </tr>\n",
       "  </thead>\n",
       "  <tbody>\n",
       "    <tr>\n",
       "      <th>0</th>\n",
       "      <td>mwf626e95e_543f_41e4_aad4_c6bf60ab345b</td>\n",
       "      <td>IL6</td>\n",
       "      <td>IL6</td>\n",
       "      <td>mw53ffe9e6_beef_45c4_90a5_a79197ed506e</td>\n",
       "      <td>IL6, or Interleukin 6, is a cytokine that play...</td>\n",
       "    </tr>\n",
       "  </tbody>\n",
       "</table>\n",
       "</div>"
      ],
      "text/plain": [
       "                                       id name original_name  \\\n",
       "0  mwf626e95e_543f_41e4_aad4_c6bf60ab345b  IL6           IL6   \n",
       "\n",
       "                              compartment  \\\n",
       "0  mw53ffe9e6_beef_45c4_90a5_a79197ed506e   \n",
       "\n",
       "                                          background  \n",
       "0  IL6, or Interleukin 6, is a cytokine that play...  "
      ]
     },
     "execution_count": 6,
     "metadata": {},
     "output_type": "execute_result"
    }
   ],
   "source": [
    "# Create a DataFrame for better visualization\n",
    "species_df = pd.DataFrame(species_backgrounds)\n",
    "species_df"
   ]
  },
  {
   "cell_type": "markdown",
   "metadata": {},
   "source": [
    "### 5.3 Detailed Species Information"
   ]
  },
  {
   "cell_type": "code",
   "execution_count": 7,
   "metadata": {},
   "outputs": [
    {
     "name": "stdout",
     "output_type": "stream",
     "text": [
      "\n",
      "================================================================================\n",
      "1. IL6 (ID: mwf626e95e_543f_41e4_aad4_c6bf60ab345b)\n",
      "================================================================================\n",
      "IL6, or Interleukin 6, is a cytokine that plays a significant role in the immune system. It is particularly important in the context of Crohn's disease, as it contributes to enhanced T-cell survival and apoptosis resistance in the lamina propria, along with increased chemokine secretion. IL-6 signaling occurs through two pathways: the classical pathway mediated by the membrane-bound IL-6 receptor (IL-6Rα) and the trans-signaling pathway mediated by the soluble IL-6 receptor (sIL-6Rα). Both pathways involve the recruitment of the gp130 coreceptor to form a receptor complex that initiates downstream signaling cascades.\n",
      "\n",
      "The active hexameric IL-6 receptor complex leads to the phosphorylation of gp130-bound Janus kinase (Jak) family proteins and subsequent activation of signal transducer and activator of transcription 3 (STAT3) via phosphorylation. This signaling is implicated in inflammation and autoimmunity processes, which are central to the pathology of Crohn's disease. \n",
      "\n",
      "Additionally, the model discussed in the provided context focuses on the pharmacokinetics and dynamics of anti–IL-6 and anti–IL-6Rα antibodies, such as tocilizumab, used in the treatment of autoimmune diseases like rheumatoid arthritis. These antibodies target the IL-6 pathways, particularly affecting how IL-6 signaling is modulated, and the model attempts to understand the therapeutic impact and dosing regimens of these biologics.\n",
      "\n",
      "Overall, IL6 is critical in immune regulation and is a key target for therapeutic intervention in diseases characterized by dysregulated immune responses.\n"
     ]
    }
   ],
   "source": [
    "# Display detailed information for each species\n",
    "for i, species in enumerate(species_backgrounds, 1):\n",
    "    print(f\"\\n{'='*80}\\n{i}. {species['name']} (ID: {species['id']})\\n{'='*80}\")\n",
    "    print(species['background'])"
   ]
  },
  {
   "cell_type": "markdown",
   "metadata": {},
   "source": [
    "## 6. Save Results to Files"
   ]
  },
  {
   "cell_type": "code",
   "execution_count": 8,
   "metadata": {},
   "outputs": [
    {
     "name": "stdout",
     "output_type": "stream",
     "text": [
      "Results saved to 'species_backgrounds.csv' and 'pdf_keywords.txt'\n"
     ]
    }
   ],
   "source": [
    "# Save species background information to CSV\n",
    "species_df.to_csv(\"species_backgrounds.csv\", index=False)\n",
    "\n",
    "# Save keywords to a text file\n",
    "with open(\"pdf_keywords.txt\", \"w\") as f:\n",
    "    f.write(\", \".join(keywords))\n",
    "\n",
    "print(\"Results saved to 'species_backgrounds.csv' and 'pdf_keywords.txt'\")"
   ]
  },
  {
   "cell_type": "markdown",
   "metadata": {},
   "source": [
    "## 7. Return the Required Lists\n",
    "\n",
    "Here are the two lists that were requested:"
   ]
  },
  {
   "cell_type": "code",
   "execution_count": 9,
   "metadata": {},
   "outputs": [
    {
     "data": {
      "text/plain": [
       "[{'id': 'mwf626e95e_543f_41e4_aad4_c6bf60ab345b',\n",
       "  'name': 'IL6',\n",
       "  'original_name': 'IL6',\n",
       "  'compartment': 'mw53ffe9e6_beef_45c4_90a5_a79197ed506e',\n",
       "  'background': \"IL6, or Interleukin 6, is a cytokine that plays a significant role in the immune system. It is particularly important in the context of Crohn's disease, as it contributes to enhanced T-cell survival and apoptosis resistance in the lamina propria, along with increased chemokine secretion. IL-6 signaling occurs through two pathways: the classical pathway mediated by the membrane-bound IL-6 receptor (IL-6Rα) and the trans-signaling pathway mediated by the soluble IL-6 receptor (sIL-6Rα). Both pathways involve the recruitment of the gp130 coreceptor to form a receptor complex that initiates downstream signaling cascades.\\n\\nThe active hexameric IL-6 receptor complex leads to the phosphorylation of gp130-bound Janus kinase (Jak) family proteins and subsequent activation of signal transducer and activator of transcription 3 (STAT3) via phosphorylation. This signaling is implicated in inflammation and autoimmunity processes, which are central to the pathology of Crohn's disease. \\n\\nAdditionally, the model discussed in the provided context focuses on the pharmacokinetics and dynamics of anti–IL-6 and anti–IL-6Rα antibodies, such as tocilizumab, used in the treatment of autoimmune diseases like rheumatoid arthritis. These antibodies target the IL-6 pathways, particularly affecting how IL-6 signaling is modulated, and the model attempts to understand the therapeutic impact and dosing regimens of these biologics.\\n\\nOverall, IL6 is critical in immune regulation and is a key target for therapeutic intervention in diseases characterized by dysregulated immune responses.\"}]"
      ]
     },
     "execution_count": 9,
     "metadata": {},
     "output_type": "execute_result"
    }
   ],
   "source": [
    "# List 1: Species background knowledge\n",
    "species_backgrounds"
   ]
  },
  {
   "cell_type": "code",
   "execution_count": 10,
   "metadata": {},
   "outputs": [
    {
     "data": {
      "text/plain": [
       "['Crohns disease',\n",
       " 'IL-6',\n",
       " 'T-cells',\n",
       " 'apoptosis',\n",
       " 'inflammation',\n",
       " 'IL-6Rα',\n",
       " 'sIL-6Rα',\n",
       " 'gp130',\n",
       " 'Jak',\n",
       " 'STAT3',\n",
       " 'CRP',\n",
       " 'hepatocytes',\n",
       " 'leukocytes',\n",
       " 'sgp130',\n",
       " 'tocilizumab',\n",
       " 'GI tract',\n",
       " 'liver',\n",
       " 'monoclonal antibodies',\n",
       " 'SOCS',\n",
       " 'circulation']"
      ]
     },
     "execution_count": 10,
     "metadata": {},
     "output_type": "execute_result"
    }
   ],
   "source": [
    "# List 2: PDF keywords\n",
    "keywords"
   ]
  },
  {
   "cell_type": "code",
   "execution_count": null,
   "metadata": {},
   "outputs": [],
   "source": []
  },
  {
   "cell_type": "code",
   "execution_count": null,
   "metadata": {},
   "outputs": [],
   "source": []
  },
  {
   "cell_type": "code",
   "execution_count": null,
   "metadata": {},
   "outputs": [],
   "source": []
  }
 ],
 "metadata": {
  "kernelspec": {
   "display_name": "Python 3",
   "language": "python",
   "name": "python3"
  },
  "language_info": {
   "codemirror_mode": {
    "name": "ipython",
    "version": 3
   },
   "file_extension": ".py",
   "mimetype": "text/x-python",
   "name": "python",
   "nbconvert_exporter": "python",
   "pygments_lexer": "ipython3",
   "version": "3.11.11"
  }
 },
 "nbformat": 4,
 "nbformat_minor": 4
}
