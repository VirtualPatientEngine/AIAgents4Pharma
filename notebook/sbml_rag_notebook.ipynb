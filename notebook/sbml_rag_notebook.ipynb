{
 "cells": [
  {
   "cell_type": "markdown",
   "metadata": {},
   "source": [
    "# SBML Model RAG System for Background Knowledge Extraction\n",
    "\n",
    "This notebook demonstrates how to extract background knowledge for species in an SBML model using a RAG (Retrieval Augmented Generation) approach with LangChain and OpenAI.\n",
    "\n",
    "**What this notebook does:**\n",
    "1. Loads and processes a PDF containing background information\n",
    "2. Extracts key concepts/keywords from the PDF\n",
    "3. Parses an SBML model to identify species\n",
    "4. Uses RAG to generate background knowledge for each species\n",
    "5. Returns two lists: species background knowledge and PDF keywords"
   ]
  },
  {
   "cell_type": "markdown",
   "metadata": {},
   "source": [
    "## 1. Install Required Packages"
   ]
  },
  {
   "cell_type": "code",
   "execution_count": 1,
   "metadata": {},
   "outputs": [],
   "source": [
    "# Uncomment to install required packages if not already installed\n",
    "# !pip install langchain langchain-openai langchain-community faiss-cpu python-libsbml pypdf"
   ]
  },
  {
   "cell_type": "markdown",
   "metadata": {},
   "source": [
    "## 2. Import the SBML RAG Utilities"
   ]
  },
  {
   "cell_type": "code",
   "execution_count": 2,
   "metadata": {},
   "outputs": [],
   "source": [
    "# Import the utilities from our custom module\n",
    "import sys\n",
    "sys.path.append('/Users/U1013680/workplace/projects/inigoo18/AIAgents4Pharma/notebook')\n",
    "from sbml_rag_utils import process_sbml_and_pdf\n",
    "import os\n",
    "import pandas as pd"
   ]
  },
  {
   "cell_type": "markdown",
   "metadata": {},
   "source": [
    "## 3. Setup File Paths and API Key"
   ]
  },
  {
   "cell_type": "code",
   "execution_count": 3,
   "metadata": {},
   "outputs": [],
   "source": [
    "# Set your OpenAI API key\n",
    "\n",
    "# Get the API key from environment variables\n",
    "openai_api_key = os.environ.get(\"OPENAI_API_KEY\")\n",
    "\n",
    "# Check if the key exists\n",
    "if openai_api_key is None:\n",
    "    raise ValueError(\"The OPENAI_API_KEY environment variable is not set\")\n",
    "\n",
    "# Define file paths\n",
    "sbml_file_path = \"./data/Dwivedi_Model537_empty.xml\"   # Replace with your SBML file path\n",
    "pdf_file_path = \"./data/psp201364a.pdf\"  # Replace with your PDF file path\n",
    "\n",
    "# Verify files exist\n",
    "assert os.path.exists(sbml_file_path), f\"SBML file not found at {sbml_file_path}\"\n",
    "assert os.path.exists(pdf_file_path), f\"PDF file not found at {pdf_file_path}\""
   ]
  },
  {
   "cell_type": "markdown",
   "metadata": {},
   "source": [
    "## 4. Process the SBML Model and PDF\n",
    "\n",
    "Now we'll run the main processing function to extract species background knowledge and PDF keywords."
   ]
  },
  {
   "cell_type": "code",
   "execution_count": 5,
   "metadata": {},
   "outputs": [
    {
     "name": "stdout",
     "output_type": "stream",
     "text": [
      "Analyzing SBML model species...\n",
      "Found 44 species in the model\n",
      "Species are distributed across 4 compartments\n",
      "Loading and processing PDF...\n",
      "Extracting keywords from PDF...\n",
      "Parsing SBML model for species...\n",
      "Limiting processing to 2 species (out of 44 total)\n",
      "Extracting background information for 2 species...\n",
      "Processing species 1/2: IL6\n",
      "Processing species 2/2: sgp130\n"
     ]
    }
   ],
   "source": [
    "# Process the SBML model and PDF\n",
    "species_backgrounds, keywords, species_stats = process_sbml_and_pdf(\n",
    "    sbml_file_path=sbml_file_path,\n",
    "    pdf_file_path=pdf_file_path,\n",
    "    api_key=openai_api_key,\n",
    "    max_species=2\n",
    ")"
   ]
  },
  {
   "cell_type": "markdown",
   "metadata": {},
   "source": [
    "## 5. Display the Results\n",
    "\n",
    "### 5.1 PDF Keywords"
   ]
  },
  {
   "cell_type": "code",
   "execution_count": 6,
   "metadata": {},
   "outputs": [
    {
     "name": "stdout",
     "output_type": "stream",
     "text": [
      "PDF Keywords:\n",
      "1. Crohn's disease\n",
      "2. Interleukin-6 (IL-6)\n",
      "3. T-cells\n"
     ]
    }
   ],
   "source": [
    "print(\"PDF Keywords:\")\n",
    "for i, keyword in enumerate(keywords, 1):\n",
    "    print(f\"{i}. {keyword}\")"
   ]
  },
  {
   "cell_type": "markdown",
   "metadata": {},
   "source": [
    "### 5.2 Species Background Knowledge"
   ]
  },
  {
   "cell_type": "code",
   "execution_count": 7,
   "metadata": {},
   "outputs": [
    {
     "data": {
      "text/html": [
       "<div>\n",
       "<style scoped>\n",
       "    .dataframe tbody tr th:only-of-type {\n",
       "        vertical-align: middle;\n",
       "    }\n",
       "\n",
       "    .dataframe tbody tr th {\n",
       "        vertical-align: top;\n",
       "    }\n",
       "\n",
       "    .dataframe thead th {\n",
       "        text-align: right;\n",
       "    }\n",
       "</style>\n",
       "<table border=\"1\" class=\"dataframe\">\n",
       "  <thead>\n",
       "    <tr style=\"text-align: right;\">\n",
       "      <th></th>\n",
       "      <th>id</th>\n",
       "      <th>name</th>\n",
       "      <th>original_name</th>\n",
       "      <th>compartment</th>\n",
       "      <th>background</th>\n",
       "    </tr>\n",
       "  </thead>\n",
       "  <tbody>\n",
       "    <tr>\n",
       "      <th>0</th>\n",
       "      <td>mwf626e95e_543f_41e4_aad4_c6bf60ab345b</td>\n",
       "      <td>IL6</td>\n",
       "      <td>IL6</td>\n",
       "      <td>mw53ffe9e6_beef_45c4_90a5_a79197ed506e</td>\n",
       "      <td>Interleukin-6 (IL-6) is a cytokine that plays ...</td>\n",
       "    </tr>\n",
       "    <tr>\n",
       "      <th>1</th>\n",
       "      <td>mwbbbce920_e8dd_4320_9386_fc94bfb2fc99</td>\n",
       "      <td>sgp130</td>\n",
       "      <td>sgp130</td>\n",
       "      <td>mw53ffe9e6_beef_45c4_90a5_a79197ed506e</td>\n",
       "      <td>Based on the provided context from the documen...</td>\n",
       "    </tr>\n",
       "  </tbody>\n",
       "</table>\n",
       "</div>"
      ],
      "text/plain": [
       "                                       id    name original_name  \\\n",
       "0  mwf626e95e_543f_41e4_aad4_c6bf60ab345b     IL6           IL6   \n",
       "1  mwbbbce920_e8dd_4320_9386_fc94bfb2fc99  sgp130        sgp130   \n",
       "\n",
       "                              compartment  \\\n",
       "0  mw53ffe9e6_beef_45c4_90a5_a79197ed506e   \n",
       "1  mw53ffe9e6_beef_45c4_90a5_a79197ed506e   \n",
       "\n",
       "                                          background  \n",
       "0  Interleukin-6 (IL-6) is a cytokine that plays ...  \n",
       "1  Based on the provided context from the documen...  "
      ]
     },
     "execution_count": 7,
     "metadata": {},
     "output_type": "execute_result"
    }
   ],
   "source": [
    "# Create a DataFrame for better visualization\n",
    "species_df = pd.DataFrame(species_backgrounds)\n",
    "species_df"
   ]
  },
  {
   "cell_type": "markdown",
   "metadata": {},
   "source": [
    "### 5.3 Detailed Species Information"
   ]
  },
  {
   "cell_type": "code",
   "execution_count": 8,
   "metadata": {},
   "outputs": [
    {
     "name": "stdout",
     "output_type": "stream",
     "text": [
      "\n",
      "================================================================================\n",
      "1. IL6 (ID: mwf626e95e_543f_41e4_aad4_c6bf60ab345b)\n",
      "================================================================================\n",
      "Interleukin-6 (IL-6) is a cytokine that plays a significant role in the immune system and has been implicated in various inflammatory diseases, including Crohn’s disease. In the context of Crohn's disease, IL-6 is identified as an important factor contributing to enhanced T-cell survival and resistance to apoptosis in the lamina propria, which is a part of the intestinal mucosa. This activity is associated with increased chemokine secretion, which can exacerbate the inflammatory response.\n",
      "\n",
      "IL-6 signaling can occur via two pathways: the classical signaling pathway and the trans-signaling pathway. The classical pathway is mediated by the membrane-bound IL-6 receptor (IL-6Rα), while the trans-signaling pathway involves a soluble form of the IL-6 receptor (sIL-6Rα). Both pathways involve the recruitment of a membrane-bound gp130 coreceptor, forming a complex that ultimately leads to the activation of Janus kinase (Jak) proteins and signal transducer and activator of transcription 3 (STAT3) phosphorylation. The trans-signaling pathway is particularly relevant in disease states because it allows IL-6 to exert effects even in cells that do not express the membrane-bound IL-6Rα.\n",
      "\n",
      "In therapeutic contexts, antibodies targeting IL-6 or IL-6Rα can modulate IL-6 signaling. For instance, the anti-IL-6Rα antibody tocilizumab is used in the treatment of diseases like rheumatoid arthritis. In modeling studies, differences in the pharmacokinetics and interactions of anti-IL-6 and anti-IL-6Rα antibodies have been observed, with studies showing that certain antibodies can effectively suppress IL-6 signaling and alter the dose-response curves of these interactions.\n",
      "\n",
      "Overall, IL-6 is an important molecule in the biological system being modeled, particularly in the context of immune regulation and inflammatory diseases. Its signaling pathways and interactions with other molecules are critical to understanding the disease mechanisms and developing therapeutic interventions.\n",
      "\n",
      "================================================================================\n",
      "2. sgp130 (ID: mwbbbce920_e8dd_4320_9386_fc94bfb2fc99)\n",
      "================================================================================\n",
      "Based on the provided context from the document, the species 'sgp130' is described as a molecule involved in the inhibition of IL-6 trans-signaling. This characterization stems from its fusion form, sgp130Fc, which combines the extracellular portion of gp130 with the Fc region of human IgG1. This fusion protein is utilized to explore therapeutic applications, such as for conditions like Crohn’s disease. Here are the key points regarding sgp130:\n",
      "\n",
      "1. **Biological Function**: sgp130 functions primarily as an inhibitor of IL-6 trans-signaling. This signaling pathway is significant because it mediates inflammation and is implicated in various inflammatory diseases. The role of sgp130 in natural physiology appears to involve the regulation or modulation of IL-6 signaling pathways by binding to the IL-6/sIL-6Rα complex.\n",
      "\n",
      "2. **Role in Pathways**: sgp130 is involved in the IL-6 signaling pathway. It functions to compete with, and hence regulate, IL-6 and its receptor (sIL-6Rα). This regulation is important because excessive IL-6 signaling is associated with inflammatory conditions.\n",
      "\n",
      "3. **Interactions with Other Molecules**: sgp130 interacts specifically with the IL-6/sIL-6Rα complex, indicating a competition for binding that can attenuate downstream signaling effects typically mediated by this complex. This interaction is a critical component of its inhibitory action.\n",
      "\n",
      "4. **Importance in the Biological System Being Modeled**: While sgp130 is present at high concentrations compared to free IL-6, the sensitivity analyses from the models suggest that small changes in sgp130 levels have minimal effects on the system dynamics due to its high baseline level. Its impact seems to be less pronounced under typical physiological conditions; however, it can be significant under therapeutic conditions when used in high doses as sgp130Fc.\n",
      "\n",
      "Overall, sgp130 plays a regulatory role in the IL-6 pathway, and its therapeutic potential lies in its ability to inhibit IL-6 trans-signaling, albeit requiring high and frequent dosing for effectiveness in models such as Crohn's disease.\n"
     ]
    }
   ],
   "source": [
    "# Display detailed information for each species\n",
    "for i, species in enumerate(species_backgrounds, 1):\n",
    "    print(f\"\\n{'='*80}\\n{i}. {species['name']} (ID: {species['id']})\\n{'='*80}\")\n",
    "    print(species['background'])"
   ]
  },
  {
   "cell_type": "markdown",
   "metadata": {},
   "source": [
    "## 6. Save Results to Files (Optional)"
   ]
  },
  {
   "cell_type": "code",
   "execution_count": 9,
   "metadata": {},
   "outputs": [
    {
     "name": "stdout",
     "output_type": "stream",
     "text": [
      "Results saved to 'species_backgrounds.csv' and 'pdf_keywords.txt'\n"
     ]
    }
   ],
   "source": [
    "# Save species background information to CSV\n",
    "species_df.to_csv(\"species_backgrounds.csv\", index=False)\n",
    "\n",
    "# Save keywords to a text file\n",
    "with open(\"pdf_keywords.txt\", \"w\") as f:\n",
    "    f.write(\", \".join(keywords))\n",
    "\n",
    "print(\"Results saved to 'species_backgrounds.csv' and 'pdf_keywords.txt'\")"
   ]
  },
  {
   "cell_type": "markdown",
   "metadata": {},
   "source": [
    "## 7. Return the Required Lists\n",
    "\n",
    "Here are the two lists that were requested:"
   ]
  },
  {
   "cell_type": "code",
   "execution_count": 10,
   "metadata": {},
   "outputs": [
    {
     "data": {
      "text/plain": [
       "[{'id': 'mwf626e95e_543f_41e4_aad4_c6bf60ab345b',\n",
       "  'name': 'IL6',\n",
       "  'original_name': 'IL6',\n",
       "  'compartment': 'mw53ffe9e6_beef_45c4_90a5_a79197ed506e',\n",
       "  'background': \"Interleukin-6 (IL-6) is a cytokine that plays a significant role in the immune system and has been implicated in various inflammatory diseases, including Crohn’s disease. In the context of Crohn's disease, IL-6 is identified as an important factor contributing to enhanced T-cell survival and resistance to apoptosis in the lamina propria, which is a part of the intestinal mucosa. This activity is associated with increased chemokine secretion, which can exacerbate the inflammatory response.\\n\\nIL-6 signaling can occur via two pathways: the classical signaling pathway and the trans-signaling pathway. The classical pathway is mediated by the membrane-bound IL-6 receptor (IL-6Rα), while the trans-signaling pathway involves a soluble form of the IL-6 receptor (sIL-6Rα). Both pathways involve the recruitment of a membrane-bound gp130 coreceptor, forming a complex that ultimately leads to the activation of Janus kinase (Jak) proteins and signal transducer and activator of transcription 3 (STAT3) phosphorylation. The trans-signaling pathway is particularly relevant in disease states because it allows IL-6 to exert effects even in cells that do not express the membrane-bound IL-6Rα.\\n\\nIn therapeutic contexts, antibodies targeting IL-6 or IL-6Rα can modulate IL-6 signaling. For instance, the anti-IL-6Rα antibody tocilizumab is used in the treatment of diseases like rheumatoid arthritis. In modeling studies, differences in the pharmacokinetics and interactions of anti-IL-6 and anti-IL-6Rα antibodies have been observed, with studies showing that certain antibodies can effectively suppress IL-6 signaling and alter the dose-response curves of these interactions.\\n\\nOverall, IL-6 is an important molecule in the biological system being modeled, particularly in the context of immune regulation and inflammatory diseases. Its signaling pathways and interactions with other molecules are critical to understanding the disease mechanisms and developing therapeutic interventions.\"},\n",
       " {'id': 'mwbbbce920_e8dd_4320_9386_fc94bfb2fc99',\n",
       "  'name': 'sgp130',\n",
       "  'original_name': 'sgp130',\n",
       "  'compartment': 'mw53ffe9e6_beef_45c4_90a5_a79197ed506e',\n",
       "  'background': \"Based on the provided context from the document, the species 'sgp130' is described as a molecule involved in the inhibition of IL-6 trans-signaling. This characterization stems from its fusion form, sgp130Fc, which combines the extracellular portion of gp130 with the Fc region of human IgG1. This fusion protein is utilized to explore therapeutic applications, such as for conditions like Crohn’s disease. Here are the key points regarding sgp130:\\n\\n1. **Biological Function**: sgp130 functions primarily as an inhibitor of IL-6 trans-signaling. This signaling pathway is significant because it mediates inflammation and is implicated in various inflammatory diseases. The role of sgp130 in natural physiology appears to involve the regulation or modulation of IL-6 signaling pathways by binding to the IL-6/sIL-6Rα complex.\\n\\n2. **Role in Pathways**: sgp130 is involved in the IL-6 signaling pathway. It functions to compete with, and hence regulate, IL-6 and its receptor (sIL-6Rα). This regulation is important because excessive IL-6 signaling is associated with inflammatory conditions.\\n\\n3. **Interactions with Other Molecules**: sgp130 interacts specifically with the IL-6/sIL-6Rα complex, indicating a competition for binding that can attenuate downstream signaling effects typically mediated by this complex. This interaction is a critical component of its inhibitory action.\\n\\n4. **Importance in the Biological System Being Modeled**: While sgp130 is present at high concentrations compared to free IL-6, the sensitivity analyses from the models suggest that small changes in sgp130 levels have minimal effects on the system dynamics due to its high baseline level. Its impact seems to be less pronounced under typical physiological conditions; however, it can be significant under therapeutic conditions when used in high doses as sgp130Fc.\\n\\nOverall, sgp130 plays a regulatory role in the IL-6 pathway, and its therapeutic potential lies in its ability to inhibit IL-6 trans-signaling, albeit requiring high and frequent dosing for effectiveness in models such as Crohn's disease.\"}]"
      ]
     },
     "execution_count": 10,
     "metadata": {},
     "output_type": "execute_result"
    }
   ],
   "source": [
    "# List 1: Species background knowledge\n",
    "species_backgrounds"
   ]
  },
  {
   "cell_type": "code",
   "execution_count": 11,
   "metadata": {},
   "outputs": [
    {
     "data": {
      "text/plain": [
       "[\"Crohn's disease\", 'Interleukin-6 (IL-6)', 'T-cells']"
      ]
     },
     "execution_count": 11,
     "metadata": {},
     "output_type": "execute_result"
    }
   ],
   "source": [
    "# List 2: PDF keywords\n",
    "keywords"
   ]
  },
  {
   "cell_type": "code",
   "execution_count": null,
   "metadata": {},
   "outputs": [],
   "source": []
  },
  {
   "cell_type": "code",
   "execution_count": null,
   "metadata": {},
   "outputs": [],
   "source": []
  },
  {
   "cell_type": "code",
   "execution_count": null,
   "metadata": {},
   "outputs": [],
   "source": []
  }
 ],
 "metadata": {
  "kernelspec": {
   "display_name": "Python 3",
   "language": "python",
   "name": "python3"
  },
  "language_info": {
   "codemirror_mode": {
    "name": "ipython",
    "version": 3
   },
   "file_extension": ".py",
   "mimetype": "text/x-python",
   "name": "python",
   "nbconvert_exporter": "python",
   "pygments_lexer": "ipython3",
   "version": "3.11.11"
  }
 },
 "nbformat": 4,
 "nbformat_minor": 4
}
