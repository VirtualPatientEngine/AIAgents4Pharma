{
 "cells": [
  {
   "cell_type": "code",
   "execution_count": 1,
   "metadata": {},
   "outputs": [
    {
     "name": "stderr",
     "output_type": "stream",
     "text": [
      "/home/awmulyadi/Repositories/temp/office/AIAgents4Pharma/venv/lib/python3.12/site-packages/tqdm/auto.py:21: TqdmWarning: IProgress not found. Please update jupyter and ipywidgets. See https://ipywidgets.readthedocs.io/en/stable/user_install.html\n",
      "  from .autonotebook import tqdm as notebook_tqdm\n"
     ]
    }
   ],
   "source": [
    "import pytest\n",
    "from langchain_core.messages import HumanMessage\n",
    "from langchain_ollama import OllamaEmbeddings, ChatOllama\n",
    "import sys\n",
    "sys.path.append('../../..')\n",
    "from aiagents4pharma.talk2knowledgegraphs.agents.t2kg_agent import get_app"
   ]
  },
  {
   "cell_type": "code",
   "execution_count": 2,
   "metadata": {},
   "outputs": [],
   "source": [
    "# Define the data path\n",
    "DATA_PATH = \"files\"\n",
    "\n",
    "# Prepare the input dictionary\n",
    "llm_model = ChatOllama(model=\"llama3.2:1b\", temperature=0.0)\n",
    "embedding_model = OllamaEmbeddings(model=\"nomic-embed-text\")\n",
    "input_dict = {\n",
    "    \"llm_model\": llm_model,\n",
    "    \"embedding_model\": embedding_model,\n",
    "    \"uploaded_files\": [],\n",
    "    \"input_tkg\": f\"{DATA_PATH}/kg_pyg_graph.pkl\",\n",
    "    \"input_text_tkg\": f\"{DATA_PATH}/kg_text_graph.pkl\",\n",
    "    \"topk_nodes\": 3,\n",
    "    \"topk_edges\": 3,\n",
    "}"
   ]
  },
  {
   "cell_type": "code",
   "execution_count": 3,
   "metadata": {},
   "outputs": [
    {
     "name": "stderr",
     "output_type": "stream",
     "text": [
      "INFO:aiagents4pharma.talk2knowledgegraphs.agents.t2kg_agent:Load Hydra configuration for Talk2KnowledgeGraphs agent.\n",
      "INFO:aiagents4pharma.talk2knowledgegraphs.agents.t2kg_agent:Compiled the graph with thread_id 12345 and llm_model model='llama3.2:1b' temperature=0.0\n",
      "INFO:aiagents4pharma.talk2knowledgegraphs.agents.t2kg_agent:Calling t2kg_agent node with thread_id 12345\n",
      "INFO:httpx:HTTP Request: POST http://127.0.0.1:11434/api/chat \"HTTP/1.1 200 OK\"\n",
      "INFO:aiagents4pharma.talk2knowledgegraphs.tools.subgraph_extraction:Loading Hydra configuration for subgraph extraction\n",
      "INFO:httpx:HTTP Request: POST http://127.0.0.1:11434/api/embed \"HTTP/1.1 200 OK\"\n",
      "INFO:httpx:HTTP Request: POST http://127.0.0.1:11434/api/embed \"HTTP/1.1 200 OK\"\n",
      "INFO:httpx:HTTP Request: POST http://127.0.0.1:11434/api/chat \"HTTP/1.1 200 OK\"\n",
      "INFO:httpx:HTTP Request: GET http://127.0.0.1:11434/api/tags \"HTTP/1.1 200 OK\"\n",
      "INFO:httpx:HTTP Request: POST http://127.0.0.1:11434/api/embed \"HTTP/1.1 200 OK\"\n",
      "INFO:httpx:HTTP Request: POST http://127.0.0.1:11434/api/chat \"HTTP/1.1 200 OK\"\n"
     ]
    }
   ],
   "source": [
    "# Setup the app\n",
    "unique_id = 12345\n",
    "app = get_app(unique_id, llm_model=input_dict[\"llm_model\"])\n",
    "config = {\"configurable\": {\"thread_id\": unique_id}}\n",
    "# Update state\n",
    "input_dict[\"uploaded_files\"] = [\n",
    "    {\n",
    "        \"file_name\": \"DGE_human_Colon_UC-vs-Colon_Control.pdf\",\n",
    "        \"file_path\": f\"{DATA_PATH}/DGE_human_Colon_UC-vs-Colon_Control.pdf\",\n",
    "        \"file_type\": \"endotype\",\n",
    "        \"uploaded_by\": \"VPEUser\",\n",
    "        \"uploaded_timestamp\": \"2024-11-05 00:00:00\",\n",
    "    }\n",
    "]\n",
    "app.update_state(\n",
    "    config,\n",
    "    input_dict,\n",
    ")\n",
    "prompt = \"\"\"\n",
    "Please ONLY invoke `subgraph_extraction` tool without calling any other tools \n",
    "to respond to the following prompt:\n",
    "\n",
    "Extract all relevant information related to nodes of genes existed in the knowledge graph.\n",
    "\"\"\"\n",
    "\n",
    "# Test the tool subgraph_extraction\n",
    "response = app.invoke({\"messages\": [HumanMessage(content=prompt)]}, config=config)"
   ]
  },
  {
   "cell_type": "code",
   "execution_count": 4,
   "metadata": {},
   "outputs": [
    {
     "data": {
      "text/plain": [
       "{'messages': [HumanMessage(content='\\nPlease ONLY invoke `subgraph_extraction` tool without calling any other tools \\nto respond to the following prompt:\\n\\nExtract all relevant information related to nodes of genes existed in the knowledge graph.\\n', additional_kwargs={}, response_metadata={}, id='ab34e39e-c8df-4331-b303-699595a81fbe'),\n",
       "  AIMessage(content='', additional_kwargs={}, response_metadata={'model': 'llama3.2:1b', 'created_at': '2025-02-10T14:28:31.863293084Z', 'done': True, 'done_reason': 'stop', 'total_duration': 304776907, 'load_duration': 11321903, 'prompt_eval_count': 1298, 'prompt_eval_duration': 22000000, 'eval_count': 36, 'eval_duration': 269000000, 'message': Message(role='assistant', content='', images=None, tool_calls=None)}, id='run-7c13d586-c575-483e-a7ce-8bc6562c5e39-0', tool_calls=[{'name': 'subgraph_extraction', 'args': {'prompt': 'Extract all relevant information related to nodes of genes existed in the knowledge graph.'}, 'id': '41c6a9ea-6bbc-415f-bbd9-677644158554', 'type': 'tool_call'}], usage_metadata={'input_tokens': 1298, 'output_tokens': 36, 'total_tokens': 1334}),\n",
       "  ToolMessage(content='Subgraph Extraction Result: node_id,node_attr\\ng1,\"NOD2 is a gene that contributes to immune responses and has been implicated in Crohn\\'s disease, particularly through genetic mutations linked to inflammation.\"\\nd2,\"Crohn disease is a type of inflammatory bowel disease that causes chronic inflammation in any part of the gastrointestinal tract, from mouth to anus, leading to symptoms like abdominal pain, diarrhea, and weight loss.\"\\ng4,\"IL10 is an anti-inflammatory cytokine that regulates immune responses, particularly in limiting host immune response to pathogens to prevent damage to the body.\"\\np10,\"Th17 Activation Pathway refers to a subset of CD4+ T helper cells that produce IL-17 cytokine, playing a crucial role in autoimmune diseases such as multiple sclerosis and rheumatoid arthritis.\"\\np1,\"Autophagy is a cellular process responsible for recycling and removing damaged or dysfunctional cellular components, playing a crucial role in maintaining cellular homeostasis and preventing disease.\"\\np6,Inflammasome pathway refers to the multi-protein complexes that activate inflammatory processes through the cleavage of pro-inflammatory cytokines like IL-1β.\\n\\nsource,edge_attr,target\\ng4,\"(\\'gene\\', \\'causation\\', \\'disease\\')\",d2\\ng4,\"(\\'gene\\', \\'member_of\\', \\'pathway\\')\",p10\\ng1,\"(\\'gene\\', \\'causation\\', \\'disease\\')\",d2\\ng1,\"(\\'gene\\', \\'member_of\\', \\'pathway\\')\",p1\\ng1,\"(\\'gene\\', \\'member_of\\', \\'pathway\\')\",p6\\n', name='subgraph_extraction', id='330f1805-e857-481e-8ff7-bef6598b1827', tool_call_id='41c6a9ea-6bbc-415f-bbd9-677644158554'),\n",
       "  AIMessage(content=\"The nodes related to genes involved in the immune response and inflammation are:\\n\\n- NOD2 (NOD2 is a gene that contributes to immune responses and has been implicated in Crohn's disease, particularly through genetic mutations linked to inflammation.)\\n- IL10 (IL10 is an anti-inflammatory cytokine that regulates immune responses, particularly in limiting host immune response to pathogens to prevent damage to the body.)\\n- Th17 Activation Pathway (Th17 Activation Pathway refers to a subset of CD4+ T helper cells that produce IL-17 cytokine, playing a crucial role in autoimmune diseases such as multiple sclerosis and rheumatoid arthritis.)\\n- Autophagy (Autophagy is a cellular process responsible for recycling and removing damaged or dysfunctional cellular components, playing a crucial role in maintaining cellular homeostasis and preventing disease.)\\n\\nThese genes are involved in the immune response and inflammation, and have been implicated in various diseases.\", additional_kwargs={}, response_metadata={'model': 'llama3.2:1b', 'created_at': '2025-02-10T14:28:34.025022265Z', 'done': True, 'done_reason': 'stop', 'total_duration': 1358947287, 'load_duration': 11501008, 'prompt_eval_count': 1441, 'prompt_eval_duration': 98000000, 'eval_count': 185, 'eval_duration': 1244000000, 'message': Message(role='assistant', content=\"The nodes related to genes involved in the immune response and inflammation are:\\n\\n- NOD2 (NOD2 is a gene that contributes to immune responses and has been implicated in Crohn's disease, particularly through genetic mutations linked to inflammation.)\\n- IL10 (IL10 is an anti-inflammatory cytokine that regulates immune responses, particularly in limiting host immune response to pathogens to prevent damage to the body.)\\n- Th17 Activation Pathway (Th17 Activation Pathway refers to a subset of CD4+ T helper cells that produce IL-17 cytokine, playing a crucial role in autoimmune diseases such as multiple sclerosis and rheumatoid arthritis.)\\n- Autophagy (Autophagy is a cellular process responsible for recycling and removing damaged or dysfunctional cellular components, playing a crucial role in maintaining cellular homeostasis and preventing disease.)\\n\\nThese genes are involved in the immune response and inflammation, and have been implicated in various diseases.\", images=None, tool_calls=None)}, id='run-d7d771e2-ca26-4b6f-96f2-839c75f6d9e4-0', usage_metadata={'input_tokens': 1441, 'output_tokens': 185, 'total_tokens': 1626})],\n",
       " 'llm_model': ChatOllama(model='llama3.2:1b', temperature=0.0),\n",
       " 'embedding_model': OllamaEmbeddings(model='nomic-embed-text', base_url=None, client_kwargs={}),\n",
       " 'uploaded_files': [{'file_name': 'DGE_human_Colon_UC-vs-Colon_Control.pdf',\n",
       "   'file_path': 'files/DGE_human_Colon_UC-vs-Colon_Control.pdf',\n",
       "   'file_type': 'endotype',\n",
       "   'uploaded_by': 'VPEUser',\n",
       "   'uploaded_timestamp': '2024-11-05 00:00:00'}],\n",
       " 'topk_nodes': 3,\n",
       " 'topk_edges': 3,\n",
       " 'graph_dict': {'nodes': [('g1', {}),\n",
       "   ('d2', {}),\n",
       "   ('g4', {}),\n",
       "   ('p10', {}),\n",
       "   ('p1', {}),\n",
       "   ('p6', {})],\n",
       "  'edges': [('g1',\n",
       "    'd2',\n",
       "    {'relation': ['gene', 'causation', 'disease'],\n",
       "     'label': ['gene', 'causation', 'disease']}),\n",
       "   ('g1',\n",
       "    'p1',\n",
       "    {'relation': ['gene', 'member_of', 'pathway'],\n",
       "     'label': ['gene', 'member_of', 'pathway']}),\n",
       "   ('g1',\n",
       "    'p6',\n",
       "    {'relation': ['gene', 'member_of', 'pathway'],\n",
       "     'label': ['gene', 'member_of', 'pathway']}),\n",
       "   ('g4',\n",
       "    'd2',\n",
       "    {'relation': ['gene', 'causation', 'disease'],\n",
       "     'label': ['gene', 'causation', 'disease']}),\n",
       "   ('g4',\n",
       "    'p10',\n",
       "    {'relation': ['gene', 'member_of', 'pathway'],\n",
       "     'label': ['gene', 'member_of', 'pathway']})]},\n",
       " 'graph_text': 'node_id,node_attr\\ng1,\"NOD2 is a gene that contributes to immune responses and has been implicated in Crohn\\'s disease, particularly through genetic mutations linked to inflammation.\"\\nd2,\"Crohn disease is a type of inflammatory bowel disease that causes chronic inflammation in any part of the gastrointestinal tract, from mouth to anus, leading to symptoms like abdominal pain, diarrhea, and weight loss.\"\\ng4,\"IL10 is an anti-inflammatory cytokine that regulates immune responses, particularly in limiting host immune response to pathogens to prevent damage to the body.\"\\np10,\"Th17 Activation Pathway refers to a subset of CD4+ T helper cells that produce IL-17 cytokine, playing a crucial role in autoimmune diseases such as multiple sclerosis and rheumatoid arthritis.\"\\np1,\"Autophagy is a cellular process responsible for recycling and removing damaged or dysfunctional cellular components, playing a crucial role in maintaining cellular homeostasis and preventing disease.\"\\np6,Inflammasome pathway refers to the multi-protein complexes that activate inflammatory processes through the cleavage of pro-inflammatory cytokines like IL-1β.\\n\\nsource,edge_attr,target\\ng4,\"(\\'gene\\', \\'causation\\', \\'disease\\')\",d2\\ng4,\"(\\'gene\\', \\'member_of\\', \\'pathway\\')\",p10\\ng1,\"(\\'gene\\', \\'causation\\', \\'disease\\')\",d2\\ng1,\"(\\'gene\\', \\'member_of\\', \\'pathway\\')\",p1\\ng1,\"(\\'gene\\', \\'member_of\\', \\'pathway\\')\",p6\\n',\n",
       " 'input_tkg': 'files/kg_pyg_graph.pkl',\n",
       " 'input_text_tkg': 'files/kg_text_graph.pkl'}"
      ]
     },
     "execution_count": 4,
     "metadata": {},
     "output_type": "execute_result"
    }
   ],
   "source": [
    "response"
   ]
  },
  {
   "cell_type": "code",
   "execution_count": null,
   "metadata": {},
   "outputs": [],
   "source": []
  }
 ],
 "metadata": {
  "kernelspec": {
   "display_name": "venv",
   "language": "python",
   "name": "python3"
  },
  "language_info": {
   "codemirror_mode": {
    "name": "ipython",
    "version": 3
   },
   "file_extension": ".py",
   "mimetype": "text/x-python",
   "name": "python",
   "nbconvert_exporter": "python",
   "pygments_lexer": "ipython3",
   "version": "3.12.9"
  }
 },
 "nbformat": 4,
 "nbformat_minor": 2
}
