{
 "cells": [
  {
   "cell_type": "code",
   "execution_count": 4,
   "id": "3ebd14cf",
   "metadata": {},
   "outputs": [],
   "source": [
    "from pymilvus import (\n",
    "    db,\n",
    "    connections,\n",
    "    utility\n",
    ")"
   ]
  },
  {
   "cell_type": "code",
   "execution_count": 2,
   "id": "7e0fb394",
   "metadata": {},
   "outputs": [],
   "source": [
    "# Configuration for Milvus\n",
    "milvus_host = \"localhost\"\n",
    "milvus_port = \"19530\"\n",
    "milvus_uri = \"http://localhost:19530\"\n",
    "milvus_token = \"root:Milvus\"\n",
    "milvus_user = \"root\"\n",
    "milvus_password = \"Milvus\"\n",
    "milvus_database = \"t2kg_primekg\""
   ]
  },
  {
   "cell_type": "code",
   "execution_count": 3,
   "id": "16f0f0f1",
   "metadata": {},
   "outputs": [],
   "source": [
    "# Connect to Milvus\n",
    "connections.connect(\n",
    "    alias=\"default\",\n",
    "    host=milvus_host,\n",
    "    port=milvus_port,\n",
    "    user=milvus_user,\n",
    "    password=milvus_password\n",
    ")"
   ]
  },
  {
   "cell_type": "code",
   "execution_count": 6,
   "id": "27d4bb57",
   "metadata": {},
   "outputs": [],
   "source": [
    "db.using_database(milvus_database)"
   ]
  },
  {
   "cell_type": "code",
   "execution_count": 7,
   "id": "7e31b665",
   "metadata": {},
   "outputs": [
    {
     "data": {
      "text/plain": [
       "['t2kg_primekg_nodes_drug',\n",
       " 't2kg_primekg_nodes_disease',\n",
       " 't2kg_primekg_nodes_molecular_function',\n",
       " 't2kg_primekg_nodes_cellular_component',\n",
       " 't2kg_primekg_nodes_biological_process',\n",
       " 't2kg_primekg_nodes_gene_protein',\n",
       " 't2kg_primekg_edges',\n",
       " 't2kg_primekg_nodes']"
      ]
     },
     "execution_count": 7,
     "metadata": {},
     "output_type": "execute_result"
    }
   ],
   "source": [
    "utility.list_collections()"
   ]
  },
  {
   "cell_type": "code",
   "execution_count": 7,
   "id": "09d0601e",
   "metadata": {},
   "outputs": [],
   "source": [
    "connections.disconnect(\"default\")"
   ]
  },
  {
   "cell_type": "code",
   "execution_count": 10,
   "id": "c9de20ef",
   "metadata": {},
   "outputs": [
    {
     "data": {
      "text/plain": [
       "True"
      ]
     },
     "execution_count": 10,
     "metadata": {},
     "output_type": "execute_result"
    }
   ],
   "source": [
    "connections.has_connection(\"default\")"
   ]
  },
  {
   "cell_type": "code",
   "execution_count": 11,
   "id": "4c61372a",
   "metadata": {},
   "outputs": [
    {
     "data": {
      "text/plain": [
       "[('default', <pymilvus.client.grpc_handler.GrpcHandler at 0x7123e0da3a10>)]"
      ]
     },
     "execution_count": 11,
     "metadata": {},
     "output_type": "execute_result"
    }
   ],
   "source": [
    "connections.list_connections()"
   ]
  },
  {
   "cell_type": "code",
   "execution_count": 16,
   "id": "1a6cee3c",
   "metadata": {},
   "outputs": [
    {
     "data": {
      "text/plain": [
       "{'address': 'localhost:19530', 'user': 'root'}"
      ]
     },
     "execution_count": 16,
     "metadata": {},
     "output_type": "execute_result"
    }
   ],
   "source": [
    "connections.get_connection_addr(\"default\")"
   ]
  },
  {
   "cell_type": "code",
   "execution_count": null,
   "id": "9a3180e0",
   "metadata": {},
   "outputs": [],
   "source": []
  }
 ],
 "metadata": {
  "kernelspec": {
   "display_name": "venv",
   "language": "python",
   "name": "python3"
  },
  "language_info": {
   "codemirror_mode": {
    "name": "ipython",
    "version": 3
   },
   "file_extension": ".py",
   "mimetype": "text/x-python",
   "name": "python",
   "nbconvert_exporter": "python",
   "pygments_lexer": "ipython3",
   "version": "3.12.7"
  }
 },
 "nbformat": 4,
 "nbformat_minor": 5
}
