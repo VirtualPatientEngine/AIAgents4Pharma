{
    "cells": [
        {
            "cell_type": "markdown",
            "metadata": {},
            "source": [
                "### Talk2Competitors Tutorial\n",
                "\n",
                "This tutorial will walk you through the process of using Talk2Competitors for academic paper search and analysis. We'll cover installation, setup, and how to use each of the available tools."
            ]
        },
        {
            "cell_type": "markdown",
            "metadata": {},
            "source": [
                "#### Installation\n",
                "\n",
                "First, install the Talk2Competitors package using pip:"
            ]
        },
        {
            "cell_type": "code",
            "execution_count": null,
            "metadata": {},
            "outputs": [],
            "source": [
                "# !pip install talk2competitors\n",
                "# This will install the package and all required dependencies"
            ]
        },
        {
            "cell_type": "markdown",
            "metadata": {},
            "source": [
                "#### Set up your API key\n",
                "\n",
                "Before using the tools, you need to set up your OpenAI API key. You can do this in two ways:"
            ]
        },
        {
            "cell_type": "markdown",
            "metadata": {},
            "source": [
                "##### Option 1: Use Environment Variable"
            ]
        },
        {
            "cell_type": "code",
            "execution_count": 1,
            "metadata": {},
            "outputs": [
                {
                    "data": {
                        "text/plain": [
                            "True"
                        ]
                    },
                    "execution_count": 1,
                    "metadata": {},
                    "output_type": "execute_result"
                }
            ],
            "source": [
                "import os\n",
                "from dotenv import load_dotenv\n",
                "\n",
                "# Load API key from .env file\n",
                "load_dotenv()"
            ]
        },
        {
            "cell_type": "markdown",
            "metadata": {},
            "source": [
                "##### Option 2: Set API Key Directly (for testing only)"
            ]
        },
        {
            "cell_type": "code",
            "execution_count": 2,
            "metadata": {},
            "outputs": [],
            "source": [
                "os.environ[\"OPENAI_API_KEY\"] = \"your_api_key_here\""
            ]
        },
        {
            "cell_type": "markdown",
            "metadata": {},
            "source": [
                "#### 1. Paper Search Tool\n",
                "\n",
                "Let's start by searching for academic papers using the search tool:"
            ]
        },
        {
            "cell_type": "code",
            "execution_count": null,
            "metadata": {},
            "outputs": [],
            "source": [
                "from aiagents4pharma.talk2competitors.tools.s2.search import search_tool\n",
                "\n",
                "# Define search parameters\n",
                "search_input = {\n",
                "    \"query\": \"machine learning in healthcare\",\n",
                "    \"limit\": 5,  # Number of results to return\n",
                "    \"year\": \"2023-\",  # Papers from 2023 onwards\n",
                "    \"tool_call_id\": \"search_demo_1\"\n",
                "}\n",
                "\n",
                "# Execute search\n",
                "search_results = search_tool.invoke(input=search_input)"
            ]
        },
        {
            "cell_type": "markdown",
            "metadata": {},
            "source": [
                "#### 2. Display Results Tool\n",
                "\n",
                "After searching, we can display the results in a structured format:"
            ]
        },
        {
            "cell_type": "code",
            "execution_count": null,
            "metadata": {},
            "outputs": [],
            "source": [
                "from aiagents4pharma.talk2competitors.tools.s2.display_results import display_results\n",
                "\n",
                "# Create state with search results\n",
                "state = {\"papers\": search_results.update[\"papers\"]}\n",
                "\n",
                "# Display results\n",
                "displayed_results = display_results.invoke(state=state)\n",
                "print(displayed_results)"
            ]
        },
        {
            "cell_type": "markdown",
            "metadata": {},
            "source": [
                "#### 3. Single Paper Recommendations\n",
                "\n",
                "Get recommendations based on a specific paper:"
            ]
        },
        {
            "cell_type": "code",
            "execution_count": null,
            "metadata": {},
            "outputs": [],
            "source": [
                "from aiagents4pharma.talk2competitors.tools.s2.single_paper_rec import get_single_paper_recommendations\n",
                "\n",
                "# Get first paper ID from search results\n",
                "paper_id = list(search_results.update[\"papers\"].keys())[0]\n",
                "\n",
                "# Get recommendations\n",
                "rec_input = {\n",
                "    \"paper_id\": paper_id,\n",
                "    \"limit\": 3,\n",
                "    \"year\": \"2022-\",\n",
                "    \"tool_call_id\": \"rec_demo_1\"\n",
                "}\n",
                "\n",
                "recommendations = get_single_paper_recommendations.invoke(input=rec_input)"
            ]
        },
        {
            "cell_type": "markdown",
            "metadata": {},
            "source": [
                "#### 4. Multi-Paper Recommendations\n",
                "\n",
                "Get recommendations based on multiple papers:"
            ]
        },
        {
            "cell_type": "code",
            "execution_count": null,
            "metadata": {},
            "outputs": [],
            "source": [
                "from aiagents4pharma.talk2competitors.tools.s2.multi_paper_rec import get_multi_paper_recommendations\n",
                "\n",
                "# Get first two paper IDs\n",
                "paper_ids = list(search_results.update[\"papers\"].keys())[:2]\n",
                "\n",
                "# Get multi-paper recommendations\n",
                "multi_rec_input = {\n",
                "    \"paper_ids\": paper_ids,\n",
                "    \"limit\": 3,\n",
                "    \"year\": \"2022-\",\n",
                "    \"tool_call_id\": \"multi_rec_demo_1\"\n",
                "}\n",
                "\n",
                "multi_recommendations = get_multi_paper_recommendations.invoke(input=multi_rec_input)"
            ]
        },
        {
            "cell_type": "markdown",
            "metadata": {},
            "source": [
                "#### Using the Main Agent\n",
                "\n",
                "Instead of using individual tools, you can use the main agent for a more integrated experience:"
            ]
        },
        {
            "cell_type": "code",
            "execution_count": null,
            "metadata": {},
            "outputs": [],
            "source": [
                "from aiagents4pharma.talk2competitors.agents.main_agent import get_app\n",
                "from langchain_core.messages import HumanMessage\n",
                "\n",
                "# Initialize the app\n",
                "app = get_app(thread_id=\"tutorial_demo\", llm_model=\"gpt-4o-mini\")\n",
                "\n",
                "# Create initial state\n",
                "initial_state = {\n",
                "    \"messages\": [HumanMessage(content=\"search for recent papers about machine learning in healthcare\")],\n",
                "    \"papers\": {},\n",
                "    \"is_last_step\": False,\n",
                "    \"current_agent\": None,\n",
                "    \"llm_model\": \"gpt-4o-mini\"\n",
                "}\n",
                "\n",
                "# Run query through main agent\n",
                "response = app.invoke(initial_state)"
            ]
        },
        {
            "cell_type": "markdown",
            "metadata": {},
            "source": [
                "#### Testing the Application\n",
                "\n",
                "The application includes comprehensive tests. Here's how to run them:"
            ]
        },
        {
            "cell_type": "code",
            "execution_count": null,
            "metadata": {},
            "outputs": [],
            "source": [
                "# !pytest tests/test_langgraph.py -v\n",
                "# This will run all tests and show detailed output"
            ]
        },
        {
            "cell_type": "markdown",
            "metadata": {},
            "source": [
                "#### Tips for Best Results\n",
                "\n",
                "1. For paper searches:\n",
                "   - Use specific academic terms\n",
                "   - Include relevant keywords\n",
                "   - Specify year ranges when needed\n",
                "\n",
                "2. For recommendations:\n",
                "   - Use paper IDs from search results\n",
                "   - Try both single and multi-paper recommendations\n",
                "   - Adjust the limit parameter based on your needs\n",
                "\n",
                "3. Error handling:\n",
                "   - Always check the response structure\n",
                "   - Use try-except blocks for robust error handling\n",
                "   - Verify paper IDs exist before requesting recommendations"
            ]
        }
    ],
    "metadata": {
        "kernelspec": {
            "display_name": "env",
            "language": "python",
            "name": "python3"
        },
        "language_info": {
            "codemirror_mode": {
                "name": "ipython",
                "version": 3
            },
            "file_extension": ".py",
            "mimetype": "text/x-python",
            "name": "python",
            "nbconvert_exporter": "python",
            "pygments_lexer": "ipython3",
            "version": "3.12.7"
        }
    },
    "nbformat": 4,
    "nbformat_minor": 2
}
