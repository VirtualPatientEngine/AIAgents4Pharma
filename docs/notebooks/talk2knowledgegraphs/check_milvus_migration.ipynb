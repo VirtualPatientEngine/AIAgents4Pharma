{
 "cells": [
  {
   "cell_type": "code",
   "execution_count": 1,
   "id": "221e252e",
   "metadata": {},
   "outputs": [
    {
     "name": "stderr",
     "output_type": "stream",
     "text": [
      "/home/awmulyadi/Repositories/AIAgents4Pharma/venv/lib/python3.12/site-packages/tqdm/auto.py:21: TqdmWarning: IProgress not found. Please update jupyter and ipywidgets. See https://ipywidgets.readthedocs.io/en/stable/user_install.html\n",
      "  from .autonotebook import tqdm as notebook_tqdm\n"
     ]
    }
   ],
   "source": [
    "import torch\n",
    "if torch.cuda.is_available():\n",
    "    import cudf as df\n",
    "    import cupy as py\n",
    "else:\n",
    "    import pandas as df\n",
    "    import numpy as py\n",
    "import pandas as pd\n",
    "from pymilvus import (\n",
    "    db,\n",
    "    connections,\n",
    "    utility,\n",
    "    Collection,\n",
    ")\n",
    "import os\n",
    "import glob\n",
    "import cudf\n",
    "import dask_cudf\n",
    "import hydra\n",
    "import logging\n",
    "import sys\n",
    "sys.path.append('../../..')\n",
    "from aiagents4pharma.talk2knowledgegraphs.utils.embeddings.ollama import EmbeddingWithOllama"
   ]
  },
  {
   "cell_type": "code",
   "execution_count": 2,
   "id": "190c7228",
   "metadata": {},
   "outputs": [],
   "source": [
    "# Define the data path\n",
    "DATA_PATH = \"../../../aiagents4pharma/talk2knowledgegraphs/tests/files\"\n",
    "\n",
    "# Define the agent state\n",
    "state = {\n",
    "    \"selections\": {\n",
    "        \"gene/protein\": [],\n",
    "        \"molecular_function\": [],\n",
    "        \"cellular_component\": [],\n",
    "        \"biological_process\": [],\n",
    "        \"drug\": [],\n",
    "        \"disease\": []\n",
    "    },\n",
    "    \"uploaded_files\": [],\n",
    "    \"topk_nodes\": 3,\n",
    "    \"topk_edges\": 3,\n",
    "    \"dic_source_graph\": [\n",
    "        {\n",
    "            \"name\": \"BioBridge\",\n",
    "            \"kg_pyg_path\": f\"{DATA_PATH}/biobridge_multimodal_pyg_graph.pkl\",\n",
    "            \"kg_text_path\": f\"{DATA_PATH}/biobridge_multimodal_text_graph.pkl\",\n",
    "        }\n",
    "    ],\n",
    "}"
   ]
  },
  {
   "cell_type": "code",
   "execution_count": 3,
   "id": "98a52931",
   "metadata": {},
   "outputs": [],
   "source": [
    "# Update state\n",
    "state[\"uploaded_files\"] = [\n",
    "    {\n",
    "        \"file_name\": \"multimodal-analysis_single_gene.xlsx\",\n",
    "        \"file_path\": f\"{DATA_PATH}/multimodal-analysis_single_gene.xlsx\",\n",
    "        \"file_type\": \"multimodal\",\n",
    "        \"uploaded_by\": \"VPEUser\",\n",
    "        \"uploaded_timestamp\": \"2025-05-12 00:00:00\",\n",
    "    }\n",
    "]"
   ]
  },
  {
   "cell_type": "code",
   "execution_count": 4,
   "id": "276ec7d1",
   "metadata": {},
   "outputs": [],
   "source": [
    "# Initialize logger\n",
    "logging.basicConfig(level=logging.INFO)\n",
    "logger = logging.getLogger(__name__)"
   ]
  },
  {
   "cell_type": "code",
   "execution_count": 10,
   "id": "d83d3ccc",
   "metadata": {},
   "outputs": [
    {
     "name": "stderr",
     "output_type": "stream",
     "text": [
      "INFO:__main__:Initializing dataframes\n",
      "INFO:__main__:Looping over uploaded files\n",
      "INFO:__main__:Checking if multimodal_df is empty\n",
      "INFO:__main__:Preparing multimodal_df\n",
      "INFO:__main__:Querying Milvus database for each node type in multimodal_df\n",
      "INFO:__main__:Concatenating all results into a single DataFrame\n",
      "INFO:__main__:Updating state with selected node IDs\n"
     ]
    },
    {
     "name": "stdout",
     "output_type": "stream",
     "text": [
      "Processing node type: gene_protein\n"
     ]
    }
   ],
   "source": [
    "# Initialize dataframes\n",
    "logger.log(logging.INFO, \"Initializing dataframes\")\n",
    "multimodal_df = df.DataFrame({\"name\": [], \"node_type\": []})\n",
    "query_df = []\n",
    "\n",
    "# Loop over the uploaded files and find multimodal files\n",
    "logger.log(logging.INFO, \"Looping over uploaded files\")\n",
    "for i in range(len(state[\"uploaded_files\"])):\n",
    "    # Check if multimodal file is uploaded\n",
    "    if state[\"uploaded_files\"][i][\"file_type\"] == \"multimodal\":\n",
    "        # Read the Excel file\n",
    "        multimodal_df = pd.read_excel(state[\"uploaded_files\"][i][\"file_path\"],\n",
    "                                        sheet_name=None)\n",
    "        \n",
    "        \n",
    "# Check if the multimodal_df is empty\n",
    "logger.log(logging.INFO, \"Checking if multimodal_df is empty\")\n",
    "if len(multimodal_df) > 0:\n",
    "    # Prepare multimodal_df\n",
    "    logger.log(logging.INFO, \"Preparing multimodal_df\")\n",
    "    # Merge all obtained dataframes into a single dataframe\n",
    "    multimodal_df = pd.concat(multimodal_df).reset_index()\n",
    "    multimodal_df = df.DataFrame(multimodal_df)\n",
    "    multimodal_df.drop(columns=[\"level_1\"], inplace=True)\n",
    "    multimodal_df.rename(columns={\"level_0\": \"q_node_type\",\n",
    "                                  \"name\": \"q_node_name\"}, inplace=True)\n",
    "    # Since an excel sheet name could not contain a `/`,\n",
    "    # but the node type can be 'gene/protein' as exists in the PrimeKG\n",
    "    multimodal_df[\"q_node_type\"] = multimodal_df[\"q_node_type\"].str.replace('-', '_')\n",
    "    \n",
    "    # Query the Milvus database for each node type in multimodal_df\n",
    "    logger.log(logging.INFO, \"Querying Milvus database for each node type in multimodal_df\")\n",
    "    for node_type, node_type_df in multimodal_df.groupby(\"q_node_type\"):\n",
    "        print(f\"Processing node type: {node_type}\")\n",
    "        \n",
    "        # Load the collection\n",
    "        collection = Collection(name=f\"{milvus_database}_nodes_{node_type.replace('/', '_')}\")\n",
    "        collection.load()\n",
    "\n",
    "        # Query the collection with node names from multimodal_df\n",
    "        q_node_names =  getattr(node_type_df['q_node_name'], \n",
    "                                \"to_pandas\", \n",
    "                                lambda: node_type_df['q_node_name'])().tolist()\n",
    "        q_columns = [\"node_id\", \"node_type\", \"feat\", \"feat_emb\", \"desc\", \"desc_emb\"]\n",
    "        res = collection.query(\n",
    "            expr=f'node_name IN [{','.join(f'\"{name}\"' for name in q_node_names)}]',\n",
    "            output_fields=q_columns,\n",
    "        )\n",
    "        \n",
    "        # Convert the result to a DataFrame\n",
    "        res_df = df.DataFrame(res)[q_columns]\n",
    "        res_df[\"use_description\"] = False\n",
    "        \n",
    "        # Append the results to query_df\n",
    "        query_df.append(res_df)\n",
    "    \n",
    "    # Concatenate all results into a single DataFrame\n",
    "    logger.log(logging.INFO, \"Concatenating all results into a single DataFrame\")\n",
    "    query_df = df.concat(query_df, ignore_index=True)\n",
    "    \n",
    "    # Update the state by adding the the selected node IDs\n",
    "    logger.log(logging.INFO, \"Updating state with selected node IDs\")\n",
    "    state[\"selections\"] = query_df.to_pandas().groupby(\n",
    "        \"node_type\"\n",
    "    )[\"node_id\"].apply(list).to_dict()\n"
   ]
  },
  {
   "cell_type": "code",
   "execution_count": 11,
   "id": "2079648d",
   "metadata": {},
   "outputs": [
    {
     "data": {
      "text/html": [
       "<div>\n",
       "<style scoped>\n",
       "    .dataframe tbody tr th:only-of-type {\n",
       "        vertical-align: middle;\n",
       "    }\n",
       "\n",
       "    .dataframe tbody tr th {\n",
       "        vertical-align: top;\n",
       "    }\n",
       "\n",
       "    .dataframe thead th {\n",
       "        text-align: right;\n",
       "    }\n",
       "</style>\n",
       "<table border=\"1\" class=\"dataframe\">\n",
       "  <thead>\n",
       "    <tr style=\"text-align: right;\">\n",
       "      <th></th>\n",
       "      <th>node_id</th>\n",
       "      <th>node_type</th>\n",
       "      <th>feat</th>\n",
       "      <th>feat_emb</th>\n",
       "      <th>desc</th>\n",
       "      <th>desc_emb</th>\n",
       "      <th>use_description</th>\n",
       "    </tr>\n",
       "  </thead>\n",
       "  <tbody>\n",
       "    <tr>\n",
       "      <th>0</th>\n",
       "      <td>IL7R_(625)</td>\n",
       "      <td>gene/protein</td>\n",
       "      <td>MTILGTTFGMVFSLLQVVSGESGYAQNGDLEDAELDDYSFSCYSQL...</td>\n",
       "      <td>[0.005123700015246868, 0.005596505478024483, 0...</td>\n",
       "      <td>IL7R belongs to gene/protein node. IL7R is int...</td>\n",
       "      <td>[0.04506901279091835, 0.008911124430596828, -0...</td>\n",
       "      <td>False</td>\n",
       "    </tr>\n",
       "    <tr>\n",
       "      <th>1</th>\n",
       "      <td>TCF7_(5195)</td>\n",
       "      <td>gene/protein</td>\n",
       "      <td>MPQLDSGGGGAGGGDDLGAPDELLAFQDEGEEQDDKSRDSAAGPER...</td>\n",
       "      <td>[0.0020665288902819157, 0.00025825444026850164...</td>\n",
       "      <td>TCF7 belongs to gene/protein node. TCF7 is tra...</td>\n",
       "      <td>[0.03699759021401405, 0.038098547607660294, -0...</td>\n",
       "      <td>False</td>\n",
       "    </tr>\n",
       "  </tbody>\n",
       "</table>\n",
       "</div>"
      ],
      "text/plain": [
       "       node_id     node_type  \\\n",
       "0   IL7R_(625)  gene/protein   \n",
       "1  TCF7_(5195)  gene/protein   \n",
       "\n",
       "                                                feat  \\\n",
       "0  MTILGTTFGMVFSLLQVVSGESGYAQNGDLEDAELDDYSFSCYSQL...   \n",
       "1  MPQLDSGGGGAGGGDDLGAPDELLAFQDEGEEQDDKSRDSAAGPER...   \n",
       "\n",
       "                                            feat_emb  \\\n",
       "0  [0.005123700015246868, 0.005596505478024483, 0...   \n",
       "1  [0.0020665288902819157, 0.00025825444026850164...   \n",
       "\n",
       "                                                desc  \\\n",
       "0  IL7R belongs to gene/protein node. IL7R is int...   \n",
       "1  TCF7 belongs to gene/protein node. TCF7 is tra...   \n",
       "\n",
       "                                            desc_emb  use_description  \n",
       "0  [0.04506901279091835, 0.008911124430596828, -0...            False  \n",
       "1  [0.03699759021401405, 0.038098547607660294, -0...            False  "
      ]
     },
     "execution_count": 11,
     "metadata": {},
     "output_type": "execute_result"
    }
   ],
   "source": [
    "query_df"
   ]
  },
  {
   "cell_type": "code",
   "execution_count": 121,
   "id": "5f23f3cd",
   "metadata": {},
   "outputs": [
    {
     "data": {
      "text/plain": [
       "{'gene/protein': ['IL7R_(625)', 'TCF7_(5195)']}"
      ]
     },
     "execution_count": 121,
     "metadata": {},
     "output_type": "execute_result"
    }
   ],
   "source": [
    "state[\"selections\"]"
   ]
  },
  {
   "cell_type": "code",
   "execution_count": 6,
   "id": "851e5f2a",
   "metadata": {},
   "outputs": [],
   "source": [
    "# Configuration for Milvus\n",
    "milvus_host = \"localhost\"\n",
    "milvus_port = \"19530\"\n",
    "milvus_uri = \"http://localhost:19530\"\n",
    "milvus_token = \"root:Milvus\"\n",
    "milvus_user = \"root\"\n",
    "milvus_password = \"Milvus\"\n",
    "milvus_database = \"t2kg_primekg\""
   ]
  },
  {
   "cell_type": "code",
   "execution_count": 7,
   "id": "591478b6",
   "metadata": {},
   "outputs": [],
   "source": [
    "# Connect to Milvus\n",
    "connections.connect(\n",
    "    alias=\"default\",\n",
    "    host=milvus_host,\n",
    "    port=milvus_port,\n",
    "    user=milvus_user,\n",
    "    password=milvus_password\n",
    ")"
   ]
  },
  {
   "cell_type": "code",
   "execution_count": 8,
   "id": "81a7007e",
   "metadata": {},
   "outputs": [
    {
     "data": {
      "text/plain": [
       "True"
      ]
     },
     "execution_count": 8,
     "metadata": {},
     "output_type": "execute_result"
    }
   ],
   "source": [
    "# Query the milvus database\n",
    "connections.has_connection(\"default\")"
   ]
  },
  {
   "cell_type": "code",
   "execution_count": 9,
   "id": "0ba82b9e",
   "metadata": {},
   "outputs": [
    {
     "data": {
      "text/plain": [
       "['t2kg_primekg_nodes_molecular_function',\n",
       " 't2kg_primekg_edges',\n",
       " 't2kg_primekg_nodes',\n",
       " 't2kg_primekg_nodes_biological_process',\n",
       " 't2kg_primekg_nodes_gene_protein',\n",
       " 't2kg_primekg_nodes_cellular_component',\n",
       " 't2kg_primekg_nodes_disease',\n",
       " 't2kg_primekg_nodes_drug']"
      ]
     },
     "execution_count": 9,
     "metadata": {},
     "output_type": "execute_result"
    }
   ],
   "source": [
    "db.using_database(milvus_database)\n",
    "\n",
    "utility.list_collections()"
   ]
  },
  {
   "cell_type": "code",
   "execution_count": null,
   "id": "38db726c",
   "metadata": {},
   "outputs": [
    {
     "name": "stdout",
     "output_type": "stream",
     "text": [
      "Processing node type: gene_protein\n"
     ]
    }
   ],
   "source": [
    "for node_type, group in multimodal_df.groupby(\"q_node_type\"):\n",
    "    print(f\"Processing node type: {node_type}\")\n",
    "    \n",
    "    # Load the collection\n",
    "    collection = Collection(name=f\"{milvus_database}_nodes_{node_type.replace('/', '_')}\")\n",
    "    collection.load()\n",
    "\n",
    "    # Query the collection with node names from multimodal_df\n",
    "    q_node_names =  getattr(multimodal_df['q_node_name'], \n",
    "                            \"to_pandas\", \n",
    "                            lambda: multimodal_df['q_node_name'])().tolist()\n",
    "    q_columns = [\"node_id\", \"node_type\", \"feat\", \"feat_emb\", \"desc\", \"desc_emb\"]\n",
    "    res = collection.query(\n",
    "        expr=f'node_name IN [{','.join(f'\"{name}\"' for name in q_node_names)}]',\n",
    "        output_fields=q_columns,\n",
    "    )\n",
    "    \n",
    "    # Convert the result to a DataFrame\n",
    "    res_df = df.DataFrame(res)[q_columns]\n",
    "    \n"
   ]
  },
  {
   "cell_type": "code",
   "execution_count": 109,
   "id": "a9ea4816",
   "metadata": {},
   "outputs": [
    {
     "data": {
      "text/html": [
       "<div>\n",
       "<style scoped>\n",
       "    .dataframe tbody tr th:only-of-type {\n",
       "        vertical-align: middle;\n",
       "    }\n",
       "\n",
       "    .dataframe tbody tr th {\n",
       "        vertical-align: top;\n",
       "    }\n",
       "\n",
       "    .dataframe thead th {\n",
       "        text-align: right;\n",
       "    }\n",
       "</style>\n",
       "<table border=\"1\" class=\"dataframe\">\n",
       "  <thead>\n",
       "    <tr style=\"text-align: right;\">\n",
       "      <th></th>\n",
       "      <th>node_id</th>\n",
       "      <th>node_type</th>\n",
       "      <th>feat</th>\n",
       "      <th>feat_emb</th>\n",
       "      <th>desc</th>\n",
       "      <th>desc_emb</th>\n",
       "    </tr>\n",
       "  </thead>\n",
       "  <tbody>\n",
       "    <tr>\n",
       "      <th>0</th>\n",
       "      <td>IL7R_(625)</td>\n",
       "      <td>gene/protein</td>\n",
       "      <td>MTILGTTFGMVFSLLQVVSGESGYAQNGDLEDAELDDYSFSCYSQL...</td>\n",
       "      <td>[0.005123700015246868, 0.005596505478024483, 0...</td>\n",
       "      <td>IL7R belongs to gene/protein node. IL7R is int...</td>\n",
       "      <td>[0.04506901279091835, 0.008911124430596828, -0...</td>\n",
       "    </tr>\n",
       "    <tr>\n",
       "      <th>1</th>\n",
       "      <td>TCF7_(5195)</td>\n",
       "      <td>gene/protein</td>\n",
       "      <td>MPQLDSGGGGAGGGDDLGAPDELLAFQDEGEEQDDKSRDSAAGPER...</td>\n",
       "      <td>[0.0020665288902819157, 0.00025825444026850164...</td>\n",
       "      <td>TCF7 belongs to gene/protein node. TCF7 is tra...</td>\n",
       "      <td>[0.03699759021401405, 0.038098547607660294, -0...</td>\n",
       "    </tr>\n",
       "  </tbody>\n",
       "</table>\n",
       "</div>"
      ],
      "text/plain": [
       "       node_id     node_type  \\\n",
       "0   IL7R_(625)  gene/protein   \n",
       "1  TCF7_(5195)  gene/protein   \n",
       "\n",
       "                                                feat  \\\n",
       "0  MTILGTTFGMVFSLLQVVSGESGYAQNGDLEDAELDDYSFSCYSQL...   \n",
       "1  MPQLDSGGGGAGGGDDLGAPDELLAFQDEGEEQDDKSRDSAAGPER...   \n",
       "\n",
       "                                            feat_emb  \\\n",
       "0  [0.005123700015246868, 0.005596505478024483, 0...   \n",
       "1  [0.0020665288902819157, 0.00025825444026850164...   \n",
       "\n",
       "                                                desc  \\\n",
       "0  IL7R belongs to gene/protein node. IL7R is int...   \n",
       "1  TCF7 belongs to gene/protein node. TCF7 is tra...   \n",
       "\n",
       "                                            desc_emb  \n",
       "0  [0.04506901279091835, 0.008911124430596828, -0...  \n",
       "1  [0.03699759021401405, 0.038098547607660294, -0...  "
      ]
     },
     "execution_count": 109,
     "metadata": {},
     "output_type": "execute_result"
    }
   ],
   "source": [
    "res_df"
   ]
  },
  {
   "cell_type": "code",
   "execution_count": null,
   "id": "696188c5",
   "metadata": {},
   "outputs": [],
   "source": []
  },
  {
   "cell_type": "code",
   "execution_count": 102,
   "id": "505af30a",
   "metadata": {},
   "outputs": [
    {
     "data": {
      "text/plain": [
       "['IL7R_(625)', 'TCF7_(5195)']"
      ]
     },
     "execution_count": 102,
     "metadata": {},
     "output_type": "execute_result"
    }
   ],
   "source": [
    "[r['node_id'] for r in res]"
   ]
  },
  {
   "cell_type": "code",
   "execution_count": 98,
   "id": "161363b9",
   "metadata": {},
   "outputs": [
    {
     "data": {
      "text/plain": [
       "['gene/protein', 'gene/protein']"
      ]
     },
     "execution_count": 98,
     "metadata": {},
     "output_type": "execute_result"
    }
   ],
   "source": [
    "[r['node_type'] for r in res]"
   ]
  },
  {
   "cell_type": "code",
   "execution_count": 99,
   "id": "2e12f7e1",
   "metadata": {},
   "outputs": [
    {
     "data": {
      "text/plain": [
       "['IL7R belongs to gene/protein node. IL7R is interleukin 7 receptor. The protein encoded by this gene is a receptor for interleukin 7 (IL7). The function of this receptor requires the interleukin 2 receptor, gamma chain (IL2RG), which is a common gamma chain shared by the receptors of various cytokines, including interleukins 2, 4, 7, 9, and 15. This protein has been shown to play a critical role in V(D)J recombination during lymphocyte development. Defects in this gene may be associated with severe combined immunodeficiency (SCID). Alternatively spliced transcript variants have been found. [provided by RefSeq, Dec 2015].',\n",
       " 'TCF7 belongs to gene/protein node. TCF7 is transcription factor 7. This gene encodes a member of the T-cell factor/lymphoid enhancer-binding factor family of high mobility group (HMG) box transcriptional activators. This gene is expressed predominantly in T-cells and plays a critical role in natural killer cell and innate lymphoid cell development. The encoded protein forms a complex with beta-catenin and activates transcription through a Wnt/beta-catenin signaling pathway. Mice with a knockout of this gene are viable and fertile, but display a block in T-lymphocyte differentiation. Alternative splicing results in multiple transcript variants. Naturally-occurring isoforms lacking the N-terminal beta-catenin interaction domain may act as dominant negative regulators of Wnt signaling. [provided by RefSeq, Oct 2016].']"
      ]
     },
     "execution_count": 99,
     "metadata": {},
     "output_type": "execute_result"
    }
   ],
   "source": [
    "[r['desc'] for r in res]"
   ]
  },
  {
   "cell_type": "code",
   "execution_count": null,
   "id": "7f2c01db",
   "metadata": {},
   "outputs": [
    {
     "data": {
      "text/plain": [
       "data: ['{\\'node_id\\': \\'SMAD3_(144)\\', \\'node_type\\': \\'gene/protein\\', \\'desc\\': \"SMAD3 belongs to gene/protein node. SMAD3 is SMAD family member 3. The SMAD family of proteins are a group of intracellular signal transducer proteins similar to the gene products of the Drosophila gene \\'mothers against decapentaplegic\\' (Mad) and the C. elegans gene Sma. The SMAD3 protein functions in the transforming growth factor-beta signaling pathway, and transmits signals from the cell surface to the nucleus, regulating gene activity and cell proliferation. This protein forms a complex with other SMAD proteins and binds DNA, functioning both as a transcription factor and tumor suppressor. Mutations in this gene are associated with aneurysms-osteoarthritis syndrome and Loeys-Dietz Syndrome 3. [provided by RefSeq, May 2022].\", \\'node_index\\': 0}']"
      ]
     },
     "execution_count": 50,
     "metadata": {},
     "output_type": "execute_result"
    }
   ],
   "source": []
  },
  {
   "cell_type": "code",
   "execution_count": 64,
   "id": "ad5e96ed",
   "metadata": {},
   "outputs": [
    {
     "data": {
      "text/plain": [
       "0        ACTG1\n",
       "1         AIF1\n",
       "2      ALOX5AP\n",
       "3      ANKRD12\n",
       "4        ANXA1\n",
       "        ...   \n",
       "184      TXNIP\n",
       "185     TYROBP\n",
       "186       UCP2\n",
       "187        VIM\n",
       "188       ZEB2\n",
       "Name: q_node_name, Length: 189, dtype: object"
      ]
     },
     "execution_count": 64,
     "metadata": {},
     "output_type": "execute_result"
    }
   ],
   "source": [
    "multimodal_df['q_node_name']"
   ]
  },
  {
   "cell_type": "code",
   "execution_count": 81,
   "id": "895a4e6a",
   "metadata": {},
   "outputs": [
    {
     "data": {
      "text/plain": [
       "'ACTG1\\nAIF1\\nALOX5AP\\nANKRD12\\nANXA1\\nANXA5\\nAPBB1IP\\nARF6\\nARHGDIB\\nARID4B\\nATP5D\\nB2M\\nBTG1\\nC12ORF57\\nC12ORF75\\nC19ORF60\\nC9ORF142\\nCALM1\\nCAPZB\\nCCL5\\nCCR7\\nCD2\\nCD3E\\nCD52\\nCD74\\nCD8A\\nCD8B\\nCD96\\nCEBPD\\nCHCHD10\\nCKLF\\nCMC1\\nCOA4\\nCORO1B\\nCOX4I1\\nCRIP1\\nCST7\\nCTSW\\nCX3CR1\\nDDX5\\nDSTN\\nDUSP1\\nEEF1A1\\nEEF1G\\nEEF2\\nEFHD2\\nEIF1\\nEIF1AX\\nEIF3E\\nFAM173A\\nFGD3\\nFGFBP2\\nFOS\\nFTH1\\nFUBP1\\nFYB\\nGLRX\\nGLTSCR2\\nGMFG\\nGNAS\\nGNLY\\nGPR183\\nGYPC\\nGZMA\\nGZMB\\nGZMH\\nGZMK\\nGZMM\\nH3F3A\\nHCST\\nHLA-A\\nHLA-DPB1\\nHMGB2\\nHNRNPU\\nHOPX\\nHSP90B1\\nIFITM2\\nIL32\\nIL7R\\nILF2\\nITGA4\\nITGB1\\nITM2B\\nKLF6\\nKLRB1\\nKLRD1\\nKLRF1\\nKLRG1\\nKLRK1\\nKRTCAP2\\nLEPROTL1\\nLGALS1\\nLGALS3\\nLIME1\\nLIMS1\\nLTB\\nLYAR\\nMALT1\\nMBP\\nMT-ATP6\\nMT-CO1\\nMT-CO2\\nMT-CO3\\nMT-CYB\\nMT-ND1\\nMT-ND2\\nMT-ND3\\nMT-ND4\\nMT-ND5\\nMT-ND6\\nMT2A\\nMTIF3\\nMTRNR2L12\\nNCR3\\nNDUFA13\\nNDUFV2\\nNKG7\\nNKTR\\nNOSIP\\nNSA2\\nNSG1\\nPASK\\nPFN1\\nPHACTR2\\nPHF11\\nPHF3\\nPLCG2\\nPLEK\\nPLIN2\\nPNISR\\nPPIB\\nPPP2R5C\\nPRF1\\nPTPRC\\nRNASET2\\nRPL13A\\nRPL14\\nRPL17\\nRPL21\\nRPL23\\nRPL30\\nRPL31\\nRPL32\\nRPL36\\nRPL36AL\\nRPL37\\nRPL38\\nRPL39\\nRPL41\\nRPLP0\\nRPLP1\\nRPS11\\nRPS12\\nRPS15A\\nRPS18\\nRPS19\\nRPS21\\nRPS24\\nRPS27\\nRPS29\\nRPS3A\\nRPS6\\nRPS8\\nRPSA\\nS100A10\\nS100A11\\nS100A4\\nS100A6\\nSELL\\nSET\\nSH2D1A\\nSLC25A5\\nSLC4A10\\nSPOCK2\\nSRP14\\nTCF7\\nTIGIT\\nTIMP1\\nTMEM66\\nTMSB10\\nTMSB4X\\nTPT1\\nTSHZ2\\nTXN\\nTXNIP\\nTYROBP\\nUCP2\\nVIM\\nZEB2\\n'"
      ]
     },
     "execution_count": 81,
     "metadata": {},
     "output_type": "execute_result"
    }
   ],
   "source": [
    "multimodal_df[['q_node_name']].to_csv(header=False, index=False, sep=\",\")"
   ]
  },
  {
   "cell_type": "code",
   "execution_count": 82,
   "id": "3fcac410",
   "metadata": {},
   "outputs": [
    {
     "data": {
      "text/plain": [
       "['ACTG1',\n",
       " 'AIF1',\n",
       " 'ALOX5AP',\n",
       " 'ANKRD12',\n",
       " 'ANXA1',\n",
       " 'ANXA5',\n",
       " 'APBB1IP',\n",
       " 'ARF6',\n",
       " 'ARHGDIB',\n",
       " 'ARID4B',\n",
       " 'ATP5D',\n",
       " 'B2M',\n",
       " 'BTG1',\n",
       " 'C12ORF57',\n",
       " 'C12ORF75',\n",
       " 'C19ORF60',\n",
       " 'C9ORF142',\n",
       " 'CALM1',\n",
       " 'CAPZB',\n",
       " 'CCL5',\n",
       " 'CCR7',\n",
       " 'CD2',\n",
       " 'CD3E',\n",
       " 'CD52',\n",
       " 'CD74',\n",
       " 'CD8A',\n",
       " 'CD8B',\n",
       " 'CD96',\n",
       " 'CEBPD',\n",
       " 'CHCHD10',\n",
       " 'CKLF',\n",
       " 'CMC1',\n",
       " 'COA4',\n",
       " 'CORO1B',\n",
       " 'COX4I1',\n",
       " 'CRIP1',\n",
       " 'CST7',\n",
       " 'CTSW',\n",
       " 'CX3CR1',\n",
       " 'DDX5',\n",
       " 'DSTN',\n",
       " 'DUSP1',\n",
       " 'EEF1A1',\n",
       " 'EEF1G',\n",
       " 'EEF2',\n",
       " 'EFHD2',\n",
       " 'EIF1',\n",
       " 'EIF1AX',\n",
       " 'EIF3E',\n",
       " 'FAM173A',\n",
       " 'FGD3',\n",
       " 'FGFBP2',\n",
       " 'FOS',\n",
       " 'FTH1',\n",
       " 'FUBP1',\n",
       " 'FYB',\n",
       " 'GLRX',\n",
       " 'GLTSCR2',\n",
       " 'GMFG',\n",
       " 'GNAS',\n",
       " 'GNLY',\n",
       " 'GPR183',\n",
       " 'GYPC',\n",
       " 'GZMA',\n",
       " 'GZMB',\n",
       " 'GZMH',\n",
       " 'GZMK',\n",
       " 'GZMM',\n",
       " 'H3F3A',\n",
       " 'HCST',\n",
       " 'HLA-A',\n",
       " 'HLA-DPB1',\n",
       " 'HMGB2',\n",
       " 'HNRNPU',\n",
       " 'HOPX',\n",
       " 'HSP90B1',\n",
       " 'IFITM2',\n",
       " 'IL32',\n",
       " 'IL7R',\n",
       " 'ILF2',\n",
       " 'ITGA4',\n",
       " 'ITGB1',\n",
       " 'ITM2B',\n",
       " 'KLF6',\n",
       " 'KLRB1',\n",
       " 'KLRD1',\n",
       " 'KLRF1',\n",
       " 'KLRG1',\n",
       " 'KLRK1',\n",
       " 'KRTCAP2',\n",
       " 'LEPROTL1',\n",
       " 'LGALS1',\n",
       " 'LGALS3',\n",
       " 'LIME1',\n",
       " 'LIMS1',\n",
       " 'LTB',\n",
       " 'LYAR',\n",
       " 'MALT1',\n",
       " 'MBP',\n",
       " 'MT-ATP6',\n",
       " 'MT-CO1',\n",
       " 'MT-CO2',\n",
       " 'MT-CO3',\n",
       " 'MT-CYB',\n",
       " 'MT-ND1',\n",
       " 'MT-ND2',\n",
       " 'MT-ND3',\n",
       " 'MT-ND4',\n",
       " 'MT-ND5',\n",
       " 'MT-ND6',\n",
       " 'MT2A',\n",
       " 'MTIF3',\n",
       " 'MTRNR2L12',\n",
       " 'NCR3',\n",
       " 'NDUFA13',\n",
       " 'NDUFV2',\n",
       " 'NKG7',\n",
       " 'NKTR',\n",
       " 'NOSIP',\n",
       " 'NSA2',\n",
       " 'NSG1',\n",
       " 'PASK',\n",
       " 'PFN1',\n",
       " 'PHACTR2',\n",
       " 'PHF11',\n",
       " 'PHF3',\n",
       " 'PLCG2',\n",
       " 'PLEK',\n",
       " 'PLIN2',\n",
       " 'PNISR',\n",
       " 'PPIB',\n",
       " 'PPP2R5C',\n",
       " 'PRF1',\n",
       " 'PTPRC',\n",
       " 'RNASET2',\n",
       " 'RPL13A',\n",
       " 'RPL14',\n",
       " 'RPL17',\n",
       " 'RPL21',\n",
       " 'RPL23',\n",
       " 'RPL30',\n",
       " 'RPL31',\n",
       " 'RPL32',\n",
       " 'RPL36',\n",
       " 'RPL36AL',\n",
       " 'RPL37',\n",
       " 'RPL38',\n",
       " 'RPL39',\n",
       " 'RPL41',\n",
       " 'RPLP0',\n",
       " 'RPLP1',\n",
       " 'RPS11',\n",
       " 'RPS12',\n",
       " 'RPS15A',\n",
       " 'RPS18',\n",
       " 'RPS19',\n",
       " 'RPS21',\n",
       " 'RPS24',\n",
       " 'RPS27',\n",
       " 'RPS29',\n",
       " 'RPS3A',\n",
       " 'RPS6',\n",
       " 'RPS8',\n",
       " 'RPSA',\n",
       " 'S100A10',\n",
       " 'S100A11',\n",
       " 'S100A4',\n",
       " 'S100A6',\n",
       " 'SELL',\n",
       " 'SET',\n",
       " 'SH2D1A',\n",
       " 'SLC25A5',\n",
       " 'SLC4A10',\n",
       " 'SPOCK2',\n",
       " 'SRP14',\n",
       " 'TCF7',\n",
       " 'TIGIT',\n",
       " 'TIMP1',\n",
       " 'TMEM66',\n",
       " 'TMSB10',\n",
       " 'TMSB4X',\n",
       " 'TPT1',\n",
       " 'TSHZ2',\n",
       " 'TXN',\n",
       " 'TXNIP',\n",
       " 'TYROBP',\n",
       " 'UCP2',\n",
       " 'VIM',\n",
       " 'ZEB2']"
      ]
     },
     "execution_count": 82,
     "metadata": {},
     "output_type": "execute_result"
    }
   ],
   "source": [
    "getattr(multimodal_df['q_node_name'], \"to_pandas\", lambda: multimodal_df['q_node_name'])().tolist()"
   ]
  },
  {
   "cell_type": "code",
   "execution_count": null,
   "id": "67a804f8",
   "metadata": {},
   "outputs": [],
   "source": [
    "milvus"
   ]
  }
 ],
 "metadata": {
  "kernelspec": {
   "display_name": "venv",
   "language": "python",
   "name": "python3"
  },
  "language_info": {
   "codemirror_mode": {
    "name": "ipython",
    "version": 3
   },
   "file_extension": ".py",
   "mimetype": "text/x-python",
   "name": "python",
   "nbconvert_exporter": "python",
   "pygments_lexer": "ipython3",
   "version": "3.12.7"
  }
 },
 "nbformat": 4,
 "nbformat_minor": 5
}
