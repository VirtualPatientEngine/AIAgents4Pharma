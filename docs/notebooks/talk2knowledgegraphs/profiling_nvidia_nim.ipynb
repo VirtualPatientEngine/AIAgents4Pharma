{
 "cells": [
  {
   "cell_type": "code",
   "execution_count": null,
   "id": "00d4b423",
   "metadata": {},
   "outputs": [
    {
     "name": "stdout",
     "output_type": "stream",
     "text": [
      "Embedding for Text 1: [-0.01328277587890625, -0.009063720703125, 8.058547973632812e-05, 0.00589752197265625, -0.01099395751953125]... (dim=2048)\n",
      "Embedding for Text 2: [-0.0265960693359375, -0.0173492431640625, 0.00034117698669433594, -0.004852294921875, 0.026458740234375]... (dim=2048)\n"
     ]
    }
   ],
   "source": [
    "from langchain_nvidia_ai_endpoints import NVIDIAEmbeddings\n",
    "\n",
    "# Set your API key from NVIDIA NGC\n",
    "nvidia_embeddings = NVIDIAEmbeddings(\n",
    "    model=\"nvidia/llama-3.2-nv-embedqa-1b-v2\",  # Available models: \"nvolveqa_40k\", \"nvolveqa_1.5\", etc.\n",
    "    api_key=\"XXX\"\n",
    ")\n",
    "\n",
    "# Input text for embedding\n",
    "texts = [\"LangChain integrates with NVIDIA NIM.\", \"Text embeddings are useful for semantic search.\"]\n",
    "\n",
    "# Get embeddings\n",
    "embeddings = nvidia_embeddings.embed_documents(texts)\n",
    "\n",
    "# Print results\n",
    "for i, vector in enumerate(embeddings):\n",
    "    print(f\"Embedding for Text {i+1}: {vector[:5]}... (dim={len(vector)})\")\n"
   ]
  }
 ],
 "metadata": {
  "kernelspec": {
   "display_name": "venv",
   "language": "python",
   "name": "python3"
  },
  "language_info": {
   "codemirror_mode": {
    "name": "ipython",
    "version": 3
   },
   "file_extension": ".py",
   "mimetype": "text/x-python",
   "name": "python",
   "nbconvert_exporter": "python",
   "pygments_lexer": "ipython3",
   "version": "3.12.9"
  }
 },
 "nbformat": 4,
 "nbformat_minor": 5
}
