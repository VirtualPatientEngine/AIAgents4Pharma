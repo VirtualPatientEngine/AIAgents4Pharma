{
 "cells": [
  {
   "cell_type": "code",
   "execution_count": 1,
   "id": "3d586c12",
   "metadata": {},
   "outputs": [
    {
     "name": "stderr",
     "output_type": "stream",
     "text": [
      "/home/awmulyadi/Repositories/temp/office2/AIAgents4Pharma/venv/lib/python3.12/site-packages/tqdm/auto.py:21: TqdmWarning: IProgress not found. Please update jupyter and ipywidgets. See https://ipywidgets.readthedocs.io/en/stable/user_install.html\n",
      "  from .autonotebook import tqdm as notebook_tqdm\n",
      "/home/awmulyadi/Repositories/temp/office2/AIAgents4Pharma/venv/lib/python3.12/site-packages/torch_geometric/typing.py:86: UserWarning: An issue occurred while importing 'torch-scatter'. Disabling its usage. Stacktrace: /home/awmulyadi/Repositories/temp/office2/AIAgents4Pharma/venv/lib/python3.12/site-packages/torch_scatter/_version_cuda.so: undefined symbol: _ZN5torch3jit17parseSchemaOrNameERKSsb\n",
      "  warnings.warn(f\"An issue occurred while importing 'torch-scatter'. \"\n",
      "/home/awmulyadi/Repositories/temp/office2/AIAgents4Pharma/venv/lib/python3.12/site-packages/torch_geometric/typing.py:124: UserWarning: An issue occurred while importing 'torch-sparse'. Disabling its usage. Stacktrace: /home/awmulyadi/Repositories/temp/office2/AIAgents4Pharma/venv/lib/python3.12/site-packages/torch_sparse/_version_cuda.so: undefined symbol: _ZN5torch3jit17parseSchemaOrNameERKSsb\n",
      "  warnings.warn(f\"An issue occurred while importing 'torch-sparse'. \"\n",
      "/home/awmulyadi/Repositories/temp/office2/AIAgents4Pharma/venv/lib/python3.12/site-packages/tensordict/_pytree.py:180: UserWarning: torch.utils._pytree._register_pytree_node is deprecated. Please use torch.utils._pytree.register_pytree_node instead.\n",
      "  register_pytree_node(\n",
      "/home/awmulyadi/Repositories/temp/office2/AIAgents4Pharma/venv/lib/python3.12/site-packages/tensordict/_pytree.py:199: UserWarning: torch.utils._pytree._register_pytree_node is deprecated. Please use torch.utils._pytree.register_pytree_node instead.\n",
      "  register_pytree_node(\n"
     ]
    }
   ],
   "source": [
    "# Import necessary libraries\n",
    "import pickle\n",
    "import pandas as pd\n",
    "\n",
    "import sys\n",
    "sys.path.append('../../..')\n",
    "from aiagents4pharma.talk2knowledgegraphs.tools.multimodal_subgraph_extraction import MultimodalSubgraphExtractionTool"
   ]
  },
  {
   "cell_type": "code",
   "execution_count": 2,
   "id": "855c1307",
   "metadata": {},
   "outputs": [],
   "source": [
    "# Define the data path\n",
    "DATA_PATH = \"../../../aiagents4pharma/talk2knowledgegraphs/tests/files\"\n",
    "\n",
    "# Define the agent state\n",
    "agent_state = {\n",
    "    \"selections\": {\n",
    "        \"gene/protein\": [],\n",
    "        \"molecular_function\": [],\n",
    "        \"cellular_component\": [],\n",
    "        \"biological_process\": [],\n",
    "        \"drug\": [],\n",
    "        \"disease\": []\n",
    "    },\n",
    "    \"uploaded_files\": [],\n",
    "    \"topk_nodes\": 3,\n",
    "    \"topk_edges\": 3,\n",
    "    \"dic_source_graph\": [\n",
    "        {\n",
    "            \"name\": \"BioBridge\",\n",
    "            \"kg_pyg_path\": f\"{DATA_PATH}/biobridge_multimodal_pyg_graph.pkl\",\n",
    "            \"kg_text_path\": f\"{DATA_PATH}/biobridge_multimodal_text_graph.pkl\",\n",
    "        }\n",
    "    ],\n",
    "}"
   ]
  },
  {
   "cell_type": "code",
   "execution_count": 3,
   "id": "510787c4",
   "metadata": {},
   "outputs": [],
   "source": [
    "# Retrieve source graph from the state\n",
    "initial_graph = {}\n",
    "initial_graph[\"source\"] = agent_state[\"dic_source_graph\"][-1]  # The last source graph as of now\n",
    "\n",
    "# Load the knowledge graph\n",
    "with open(initial_graph[\"source\"][\"kg_pyg_path\"], \"rb\") as f:\n",
    "    initial_graph[\"pyg\"] = pickle.load(f)\n"
   ]
  },
  {
   "cell_type": "code",
   "execution_count": 4,
   "id": "3e8f1782",
   "metadata": {},
   "outputs": [],
   "source": [
    "pyg_graph = initial_graph[\"pyg\"]\n",
    "\n",
    "# Convert PyG graph to a DataFrame for easier filtering\n",
    "graph_df = pd.DataFrame({\n",
    "    \"node_id\": pyg_graph.node_id,\n",
    "    \"node_name\": pyg_graph.node_name,\n",
    "    \"node_type\": pyg_graph.node_type,\n",
    "    \"x\": pyg_graph.x,\n",
    "    \"desc_x\": pyg_graph.desc_x.tolist(),\n",
    "})"
   ]
  },
  {
   "cell_type": "code",
   "execution_count": 5,
   "id": "acafa628",
   "metadata": {},
   "outputs": [
    {
     "data": {
      "text/plain": [
       "node_type\n",
       "biological_process    1615\n",
       "drug                   748\n",
       "molecular_function     317\n",
       "cellular_component     202\n",
       "gene/protein           102\n",
       "disease                  7\n",
       "Name: count, dtype: int64"
      ]
     },
     "execution_count": 5,
     "metadata": {},
     "output_type": "execute_result"
    }
   ],
   "source": [
    "# Get statistics of the graph by node type\n",
    "graph_df.node_type.value_counts()"
   ]
  },
  {
   "cell_type": "code",
   "execution_count": 6,
   "id": "4f331036",
   "metadata": {},
   "outputs": [],
   "source": [
    "# Update state\n",
    "agent_state[\"uploaded_files\"] = [\n",
    "    {\n",
    "        \"file_name\": \"multimodal-analysis.xlsx\",\n",
    "        \"file_path\": f\"{DATA_PATH}/multimodal-analysis_single_gene.xlsx\",\n",
    "        \"file_type\": \"multimodal\",\n",
    "        \"uploaded_by\": \"VPEUser\",\n",
    "        \"uploaded_timestamp\": \"2025-05-12 00:00:00\",\n",
    "    }\n",
    "]"
   ]
  },
  {
   "cell_type": "code",
   "execution_count": 7,
   "id": "6f8201a7",
   "metadata": {},
   "outputs": [],
   "source": [
    "prompt = \"\"\"\n",
    "Extract all relevant information related to nodes of genes related to inflammatory bowel disease\n",
    "(IBD) that existed in the knowledge graph.\n",
    "Please set the extraction name for this process as `subkg_12345`.\n",
    "\"\"\""
   ]
  },
  {
   "cell_type": "code",
   "execution_count": 8,
   "id": "3a50196d",
   "metadata": {},
   "outputs": [],
   "source": [
    "# Instantiate the SubgraphExtractionTool\n",
    "subgraph_extraction_tool = MultimodalSubgraphExtractionTool()"
   ]
  },
  {
   "cell_type": "code",
   "execution_count": 9,
   "id": "40dda977",
   "metadata": {},
   "outputs": [
    {
     "name": "stderr",
     "output_type": "stream",
     "text": [
      "INFO:aiagents4pharma.talk2knowledgegraphs.tools.multimodal_subgraph_extraction:Invoking subgraph_extraction tool\n",
      "INFO:httpx:HTTP Request: GET http://127.0.0.1:11434/api/tags \"HTTP/1.1 200 OK\"\n",
      "INFO:httpx:HTTP Request: POST http://127.0.0.1:11434/api/embed \"HTTP/1.1 200 OK\"\n"
     ]
    },
    {
     "name": "stdout",
     "output_type": "stream",
     "text": [
      "CPU times: user 4.62 s, sys: 548 ms, total: 5.17 s\n",
      "Wall time: 5.28 s\n"
     ]
    }
   ],
   "source": [
    "%%time\n",
    "\n",
    "# Invoking the subgraph_extraction_tool\n",
    "response = subgraph_extraction_tool.invoke(\n",
    "    input={\"prompt\": prompt,\n",
    "            \"tool_call_id\": \"subgraph_extraction_tool\",\n",
    "            \"state\": agent_state,\n",
    "            \"arg_data\": {\"extraction_name\": \"subkg_12345\"}})"
   ]
  },
  {
   "cell_type": "code",
   "execution_count": 10,
   "id": "65f96762",
   "metadata": {},
   "outputs": [
    {
     "name": "stderr",
     "output_type": "stream",
     "text": [
      "INFO:aiagents4pharma.talk2knowledgegraphs.tools.multimodal_subgraph_extraction:Invoking subgraph_extraction tool\n",
      "INFO:httpx:HTTP Request: GET http://127.0.0.1:11434/api/tags \"HTTP/1.1 200 OK\"\n",
      "INFO:httpx:HTTP Request: POST http://127.0.0.1:11434/api/embed \"HTTP/1.1 200 OK\"\n"
     ]
    },
    {
     "data": {
      "text/plain": [
       "'/tmp/tmp4pwstklq.html'"
      ]
     },
     "execution_count": 10,
     "metadata": {},
     "output_type": "execute_result"
    }
   ],
   "source": [
    "from pyinstrument import Profiler\n",
    "\n",
    "profiler = Profiler()\n",
    "profiler.start()\n",
    "subgraph_extraction_tool.invoke(input={\"prompt\": prompt,\n",
    "                                       \"tool_call_id\": \"subgraph_extraction_tool\",\n",
    "                                       \"state\": agent_state,\n",
    "                                       \"arg_data\": {\"extraction_name\": \"subkg_12345\"}})\n",
    "profiler.stop()\n",
    "\n",
    "profiler.open_in_browser()\n"
   ]
  },
  {
   "cell_type": "code",
   "execution_count": null,
   "id": "305166ba",
   "metadata": {},
   "outputs": [],
   "source": []
  }
 ],
 "metadata": {
  "kernelspec": {
   "display_name": "venv",
   "language": "python",
   "name": "python3"
  },
  "language_info": {
   "codemirror_mode": {
    "name": "ipython",
    "version": 3
   },
   "file_extension": ".py",
   "mimetype": "text/x-python",
   "name": "python",
   "nbconvert_exporter": "python",
   "pygments_lexer": "ipython3",
   "version": "3.12.9"
  }
 },
 "nbformat": 4,
 "nbformat_minor": 5
}
