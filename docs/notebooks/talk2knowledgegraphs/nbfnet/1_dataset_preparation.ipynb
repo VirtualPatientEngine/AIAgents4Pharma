{
 "cells": [
  {
   "cell_type": "markdown",
   "id": "75221e01",
   "metadata": {},
   "source": [
    "### PrimeKG Subgraph Construction (Multi-Modal)"
   ]
  },
  {
   "cell_type": "code",
   "execution_count": 1,
   "id": "45ac2292",
   "metadata": {},
   "outputs": [
    {
     "name": "stderr",
     "output_type": "stream",
     "text": [
      "/home/awmulyadi/Repositories/temp/office2/AIAgents4Pharma/venv/lib/python3.12/site-packages/tqdm/auto.py:21: TqdmWarning: IProgress not found. Please update jupyter and ipywidgets. See https://ipywidgets.readthedocs.io/en/stable/user_install.html\n",
      "  from .autonotebook import tqdm as notebook_tqdm\n",
      "INFO:aiagents4pharma.talk2scholars.tools.pdf.question_and_answer:Loaded Question and Answer tool configuration.\n"
     ]
    }
   ],
   "source": [
    "# Import necessary libraries\n",
    "import os\n",
    "import numpy as np\n",
    "import pandas as pd\n",
    "import networkx as nx\n",
    "import pickle\n",
    "from tqdm import tqdm\n",
    "import torch \n",
    "from torch_geometric.utils import from_networkx\n",
    "import sys\n",
    "sys.path.append('../../../../')\n",
    "from aiagents4pharma.talk2knowledgegraphs.datasets.starkqa_primekg import StarkQAPrimeKG\n",
    "from aiagents4pharma.talk2knowledgegraphs.datasets.biobridge_primekg import BioBridgePrimeKG\n",
    "from aiagents4pharma.talk2knowledgegraphs.utils.embeddings.ollama import EmbeddingWithOllama\n",
    "from aiagents4pharma.talk2knowledgegraphs.utils import kg_utils\n",
    "\n",
    "# # Set the logging level for httpx to WARNING to suppress INFO messages\n",
    "import logging\n",
    "logging.getLogger(\"httpx\").setLevel(logging.WARNING)"
   ]
  },
  {
   "cell_type": "code",
   "execution_count": 2,
   "id": "6e5ecbd8",
   "metadata": {},
   "outputs": [
    {
     "name": "stdout",
     "output_type": "stream",
     "text": [
      "Loading PrimeKG dataset...\n",
      "Loading nodes of PrimeKG dataset ...\n",
      "../../../../../data/primekg/primekg_nodes.tsv.gz already exists. Loading the data from the local directory.\n",
      "Loading edges of PrimeKG dataset ...\n",
      "../../../../../data/primekg/primekg_edges.tsv.gz already exists. Loading the data from the local directory.\n",
      "Loading data config file of BioBridgePrimeKG...\n",
      "File data_config.json already exists in ../../../../../data/biobridge_primekg/.\n",
      "Building node embeddings...\n",
      "Building full triplets...\n",
      "Building train-test split...\n",
      "Building negative triplets...\n"
     ]
    },
    {
     "data": {
      "text/plain": [
       "dict_keys(['gene/protein', 'molecular_function', 'cellular_component', 'biological_process', 'drug', 'disease'])"
      ]
     },
     "execution_count": 2,
     "metadata": {},
     "output_type": "execute_result"
    }
   ],
   "source": [
    "# Define biobridge primekg data by providing a local directory where the data is stored\n",
    "biobridge_data = BioBridgePrimeKG(primekg_dir=\"../../../../../data/primekg/\",\n",
    "                                  local_dir=\"../../../../../data/biobridge_primekg/\")\n",
    "\n",
    "# Invoke a method to load the data\n",
    "biobridge_data.load_data()\n",
    "\n",
    "# Get the node information of the BioBridge PrimeKG\n",
    "biobridge_node_info = biobridge_data.get_node_info_dict()\n",
    "biobridge_node_info.keys()"
   ]
  },
  {
   "cell_type": "code",
   "execution_count": 3,
   "id": "d2d87330",
   "metadata": {},
   "outputs": [],
   "source": [
    "train_split = biobridge_data.get_primekg_triplets_negative()\n",
    "test_split = biobridge_data.get_train_test_split()[\"test\"]\n",
    "node_train_split = biobridge_data.get_train_test_split()[\"node_train\"]\n",
    "node_test_split = biobridge_data.get_train_test_split()[\"node_test\"]\n",
    "\n",
    "df_all = biobridge_data.get_primekg_triplets()\n",
    "df_node_all = pd.concat([node_train_split, node_test_split], axis=0).reset_index(drop=True)\n",
    "\n",
    "# drop duplicate nodes and triples\n",
    "train_split = train_split.drop_duplicates(subset=[\"head_index\", \"tail_index\", \"display_relation\"]).reset_index(drop=True)\n",
    "# test_split = test_split.drop_duplicates(subset=[\"head_index\", \"tail_index\", \"display_relation\"]).reset_index(drop=True)\n",
    "node_train_split = node_train_split.drop_duplicates(subset=[\"node_index\"]).reset_index(drop=True)\n",
    "node_test_split = node_test_split.drop_duplicates(subset=[\"node_index\"]).reset_index(drop=True)\n",
    "df_all = df_all.drop_duplicates(subset=[\"head_index\", \"tail_index\", \"display_relation\"]).reset_index(drop=True)\n",
    "df_node_all = df_node_all.drop_duplicates(subset=[\"node_index\"]).reset_index(drop=True)\n",
    "\n",
    "split_data = {\n",
    "    \"train\": train_split,\n",
    "    \"test\": test_split,\n",
    "    \"node_train\": node_train_split,\n",
    "    \"node_test\": node_test_split,\n",
    "    \"all\": df_all,\n",
    "    \"node_all\": df_node_all,\n",
    "}"
   ]
  },
  {
   "cell_type": "code",
   "execution_count": null,
   "id": "ecbac686",
   "metadata": {},
   "outputs": [],
   "source": []
  }
 ],
 "metadata": {
  "kernelspec": {
   "display_name": "venv",
   "language": "python",
   "name": "python3"
  },
  "language_info": {
   "codemirror_mode": {
    "name": "ipython",
    "version": 3
   },
   "file_extension": ".py",
   "mimetype": "text/x-python",
   "name": "python",
   "nbconvert_exporter": "python",
   "pygments_lexer": "ipython3",
   "version": "3.12.10"
  }
 },
 "nbformat": 4,
 "nbformat_minor": 5
}
