{
 "cells": [
  {
   "cell_type": "code",
   "execution_count": 1,
   "id": "bb43998a",
   "metadata": {},
   "outputs": [
    {
     "name": "stderr",
     "output_type": "stream",
     "text": [
      "c:\\Users\\mulyadi\\TempRepo\\AIAgents4Pharma\\venv\\Lib\\site-packages\\tqdm\\auto.py:21: TqdmWarning: IProgress not found. Please update jupyter and ipywidgets. See https://ipywidgets.readthedocs.io/en/stable/user_install.html\n",
      "  from .autonotebook import tqdm as notebook_tqdm\n",
      "INFO:aiagents4pharma.talk2scholars.tools.pdf.question_and_answer:Loaded Question and Answer tool configuration.\n"
     ]
    }
   ],
   "source": [
    "import sys\n",
    "sys.path.append('../../../../')\n",
    "from aiagents4pharma.talk2knowledgegraphs.models.nbfnet import tasks, util, models, datasets\n",
    "\n",
    "import hydra\n",
    "import os\n",
    "import time\n",
    "import torch\n",
    "\n",
    "from torch_geometric.data import Data\n",
    "from torch_geometric.datasets import RelLinkPredDataset, WordNet18RR"
   ]
  },
  {
   "cell_type": "code",
   "execution_count": 2,
   "id": "d84fe365",
   "metadata": {},
   "outputs": [],
   "source": [
    "args = {\n",
    "    \"config\": \"../../../../aiagents4pharma/talk2knowledgegraphs/models/config/transductive/wn18rr.yaml\"\n",
    "}"
   ]
  },
  {
   "cell_type": "code",
   "execution_count": 3,
   "id": "4441d2b8",
   "metadata": {},
   "outputs": [
    {
     "data": {
      "text/plain": [
       "{'output_dir': '~/experiments/', 'dataset': {'class': 'WN18RR', 'root': '../../../../../data/datasets/knowledge_graphs'}, 'model': {'class': 'NBFNet', 'input_dim': 32, 'hidden_dims': [32, 32, 32, 32, 32, 32], 'message_func': 'distmult', 'aggregate_func': 'pna', 'short_cut': True, 'layer_norm': True, 'dependent': False}, 'task': {'num_negative': 32, 'strict_negative': True, 'adversarial_temperature': 1, 'metric': ['mr', 'mrr', 'hits@1', 'hits@3', 'hits@10']}, 'optimizer': {'class': 'Adam', 'lr': 0.005}, 'train': {'gpus': [0], 'batch_size': 16, 'num_epoch': 20, 'log_interval': 100}}"
      ]
     },
     "execution_count": 3,
     "metadata": {},
     "output_type": "execute_result"
    }
   ],
   "source": [
    "# Load Config\n",
    "with hydra.initialize(version_base=None, config_path=\"../../../../aiagents4pharma/talk2knowledgegraphs/models/config/transductive\"):\n",
    "    cfg = hydra.compose(config_name=\"wn18rr\")\n",
    "# cfg.dataset.version = \"v1\"\n",
    "cfg.train.gpus = [0]\n",
    "cfg.dataset.root = \"../../../../../data/datasets/knowledge_graphs\"\n",
    "cfg\n"
   ]
  },
  {
   "cell_type": "code",
   "execution_count": 4,
   "id": "73dc8c11",
   "metadata": {},
   "outputs": [
    {
     "data": {
      "text/plain": [
       "'C:\\\\Users\\\\mulyadi/experiments/NBFNet\\\\WN18RR\\\\2025-04-30-17-58-53'"
      ]
     },
     "execution_count": 4,
     "metadata": {},
     "output_type": "execute_result"
    }
   ],
   "source": [
    "# Create Working Directory\n",
    "working_dir = os.path.join(os.path.expanduser(cfg.output_dir), cfg.model[\"class\"], cfg.dataset[\"class\"], time.strftime(\"%Y-%m-%d-%H-%M-%S\"))\n",
    "working_dir"
   ]
  },
  {
   "cell_type": "code",
   "execution_count": 5,
   "id": "769c684a",
   "metadata": {},
   "outputs": [
    {
     "data": {
      "text/plain": [
       "<torch._C.Generator at 0x1a1e68bcc10>"
      ]
     },
     "execution_count": 5,
     "metadata": {},
     "output_type": "execute_result"
    }
   ],
   "source": [
    "# Set random seed\n",
    "default_seed = 1024\n",
    "torch.manual_seed(default_seed + util.get_rank())"
   ]
  },
  {
   "cell_type": "code",
   "execution_count": 6,
   "id": "c07b7294",
   "metadata": {},
   "outputs": [
    {
     "data": {
      "text/plain": [
       "False"
      ]
     },
     "execution_count": 6,
     "metadata": {},
     "output_type": "execute_result"
    }
   ],
   "source": [
    "# Check Inductive or Transductive\n",
    "is_inductive = cfg.dataset[\"class\"].startswith(\"Ind\")\n",
    "is_inductive\n"
   ]
  },
  {
   "cell_type": "code",
   "execution_count": 7,
   "id": "278598e2",
   "metadata": {},
   "outputs": [
    {
     "data": {
      "text/plain": [
       "'WN18RR'"
      ]
     },
     "execution_count": 7,
     "metadata": {},
     "output_type": "execute_result"
    }
   ],
   "source": [
    "# Build dataset\n",
    "cfg.dataset[\"class\"]"
   ]
  },
  {
   "cell_type": "code",
   "execution_count": 8,
   "id": "2906b8a7",
   "metadata": {},
   "outputs": [
    {
     "data": {
      "text/plain": [
       "{'class': 'WN18RR', 'root': '../../../../../data/datasets/knowledge_graphs'}"
      ]
     },
     "execution_count": 8,
     "metadata": {},
     "output_type": "execute_result"
    }
   ],
   "source": [
    "cfg.dataset"
   ]
  },
  {
   "cell_type": "code",
   "execution_count": 9,
   "id": "9b7bb53a",
   "metadata": {},
   "outputs": [
    {
     "data": {
      "text/plain": [
       "'WN18RR'"
      ]
     },
     "execution_count": 9,
     "metadata": {},
     "output_type": "execute_result"
    }
   ],
   "source": [
    "cls = cfg.dataset[\"class\"]\n",
    "cls"
   ]
  },
  {
   "cell_type": "code",
   "execution_count": 10,
   "id": "ee2cd825",
   "metadata": {},
   "outputs": [
    {
     "data": {
      "text/plain": [
       "{'output_dir': '~/experiments/', 'dataset': {'root': '../../../../../data/datasets/knowledge_graphs'}, 'model': {'class': 'NBFNet', 'input_dim': 32, 'hidden_dims': [32, 32, 32, 32, 32, 32], 'message_func': 'distmult', 'aggregate_func': 'pna', 'short_cut': True, 'layer_norm': True, 'dependent': False}, 'task': {'num_negative': 32, 'strict_negative': True, 'adversarial_temperature': 1, 'metric': ['mr', 'mrr', 'hits@1', 'hits@3', 'hits@10']}, 'optimizer': {'class': 'Adam', 'lr': 0.005}, 'train': {'gpus': [0], 'batch_size': 16, 'num_epoch': 20, 'log_interval': 100}}"
      ]
     },
     "execution_count": 10,
     "metadata": {},
     "output_type": "execute_result"
    }
   ],
   "source": [
    "from omegaconf import OmegaConf\n",
    "\n",
    "cfg_ = OmegaConf.to_container(cfg, resolve=True)\n",
    "cfg_ = OmegaConf.create(cfg_)\n",
    "del cfg_[\"dataset\"][\"class\"]\n",
    "cfg_"
   ]
  },
  {
   "cell_type": "code",
   "execution_count": 11,
   "id": "d8c9413d",
   "metadata": {},
   "outputs": [
    {
     "data": {
      "text/plain": [
       "{'root': '../../../../../data/datasets/knowledge_graphs'}"
      ]
     },
     "execution_count": 11,
     "metadata": {},
     "output_type": "execute_result"
    }
   ],
   "source": [
    "cfg_.dataset"
   ]
  },
  {
   "cell_type": "markdown",
   "id": "054f8852",
   "metadata": {},
   "source": [
    "### WN18RR"
   ]
  },
  {
   "cell_type": "code",
   "execution_count": 19,
   "id": "6b0b9a2f",
   "metadata": {},
   "outputs": [],
   "source": [
    "# Check dataset\n",
    "dataset = WordNet18RR(**cfg_.dataset)\n",
    "# convert wn18rr into the same format as fb15k-237"
   ]
  },
  {
   "cell_type": "code",
   "execution_count": 20,
   "id": "5f86569d",
   "metadata": {},
   "outputs": [
    {
     "name": "stderr",
     "output_type": "stream",
     "text": [
      "c:\\Users\\mulyadi\\TempRepo\\AIAgents4Pharma\\venv\\Lib\\site-packages\\torch_geometric\\data\\in_memory_dataset.py:300: UserWarning: It is not recommended to directly access the internal storage format `data` of an 'InMemoryDataset'. If you are absolutely certain what you are doing, access the internal storage via `InMemoryDataset._data` instead to suppress this warning. Alternatively, you can access stacked individual attributes of every graph via `dataset.{attr_name}`.\n",
      "  warnings.warn(msg)\n"
     ]
    },
    {
     "data": {
      "text/plain": [
       "Data(edge_index=[2, 93003], edge_type=[93003], train_mask=[93003], val_mask=[93003], test_mask=[93003], num_nodes=40943)"
      ]
     },
     "execution_count": 20,
     "metadata": {},
     "output_type": "execute_result"
    }
   ],
   "source": [
    "# Build Dataset\n",
    "data = dataset.data\n",
    "data"
   ]
  },
  {
   "cell_type": "code",
   "execution_count": 21,
   "id": "def5fd69",
   "metadata": {},
   "outputs": [
    {
     "data": {
      "text/plain": [
       "tensor(40942)"
      ]
     },
     "execution_count": 21,
     "metadata": {},
     "output_type": "execute_result"
    }
   ],
   "source": [
    "data.edge_index.max()"
   ]
  },
  {
   "cell_type": "code",
   "execution_count": 22,
   "id": "d7caa3a7",
   "metadata": {},
   "outputs": [
    {
     "data": {
      "text/plain": [
       "tensor([ 3,  9, 10,  ...,  3,  3,  3])"
      ]
     },
     "execution_count": 22,
     "metadata": {},
     "output_type": "execute_result"
    }
   ],
   "source": [
    "edge_type = data.edge_type[data.train_mask]\n",
    "edge_type"
   ]
  },
  {
   "cell_type": "code",
   "execution_count": 23,
   "id": "070e7a17",
   "metadata": {},
   "outputs": [
    {
     "data": {
      "text/plain": [
       "tensor([[    0,     0,     1,  ..., 39607, 39608, 39609],\n",
       "        [10211, 25525,  3891,  ...,   227,  2995,  7084]])"
      ]
     },
     "execution_count": 23,
     "metadata": {},
     "output_type": "execute_result"
    }
   ],
   "source": [
    "edge_index = data.edge_index[:, data.train_mask]\n",
    "edge_index"
   ]
  },
  {
   "cell_type": "code",
   "execution_count": 24,
   "id": "8d5a2d87",
   "metadata": {},
   "outputs": [],
   "source": [
    "# Transductive WN18RR\n",
    "data = dataset.data\n",
    "num_nodes = int(data.edge_index.max()) + 1\n",
    "num_relations = int(data.edge_type.max()) + 1\n",
    "edge_index = data.edge_index[:, data.train_mask]\n",
    "edge_type = data.edge_type[data.train_mask]\n",
    "edge_index = torch.cat([edge_index, edge_index.flip(0)], dim=-1)\n",
    "edge_type = torch.cat([edge_type, edge_type + num_relations])\n",
    "train_data = Data(edge_index=edge_index, edge_type=edge_type, num_nodes=num_nodes,\n",
    "                          target_edge_index=data.edge_index[:, data.train_mask],\n",
    "                          target_edge_type=data.edge_type[data.train_mask])\n",
    "valid_data = Data(edge_index=edge_index, edge_type=edge_type, num_nodes=num_nodes,\n",
    "                    target_edge_index=data.edge_index[:, data.val_mask],\n",
    "                    target_edge_type=data.edge_type[data.val_mask])\n",
    "test_data = Data(edge_index=edge_index, edge_type=edge_type, num_nodes=num_nodes,\n",
    "                    target_edge_index=data.edge_index[:, data.test_mask],\n",
    "                    target_edge_type=data.edge_type[data.test_mask])\n",
    "dataset.data, dataset.slices = dataset.collate([train_data, valid_data, test_data])\n",
    "dataset.num_relations = num_relations * 2"
   ]
  },
  {
   "cell_type": "code",
   "execution_count": 27,
   "id": "84b427f6",
   "metadata": {},
   "outputs": [
    {
     "data": {
      "text/plain": [
       "11"
      ]
     },
     "execution_count": 27,
     "metadata": {},
     "output_type": "execute_result"
    }
   ],
   "source": [
    "num_relations"
   ]
  },
  {
   "cell_type": "code",
   "execution_count": 28,
   "id": "baf49b33",
   "metadata": {},
   "outputs": [
    {
     "data": {
      "text/plain": [
       "22"
      ]
     },
     "execution_count": 28,
     "metadata": {},
     "output_type": "execute_result"
    }
   ],
   "source": [
    "dataset.num_relations"
   ]
  },
  {
   "cell_type": "code",
   "execution_count": 26,
   "id": "9adfdb21",
   "metadata": {},
   "outputs": [
    {
     "data": {
      "text/plain": [
       "(tensor([[    0,     0,     1,  ..., 39607, 39608, 39609],\n",
       "         [10211, 25525,  3891,  ...,   227,  2995,  7084]]),\n",
       " tensor([ 3,  9, 10,  ...,  3,  3,  3]))"
      ]
     },
     "execution_count": 26,
     "metadata": {},
     "output_type": "execute_result"
    }
   ],
   "source": [
    "train_data.target_edge_index, train_data.target_edge_type"
   ]
  },
  {
   "cell_type": "code",
   "execution_count": null,
   "id": "4160dd96",
   "metadata": {},
   "outputs": [],
   "source": [
    "train_data.target_edge_type()"
   ]
  },
  {
   "cell_type": "code",
   "execution_count": 25,
   "id": "fe5386f9",
   "metadata": {},
   "outputs": [
    {
     "data": {
      "text/plain": [
       "(Data(edge_index=[2, 173670], edge_type=[173670], num_nodes=40943, target_edge_index=[2, 86835], target_edge_type=[86835]),\n",
       " Data(edge_index=[2, 173670], edge_type=[173670], num_nodes=40943, target_edge_index=[2, 3034], target_edge_type=[3034]),\n",
       " Data(edge_index=[2, 173670], edge_type=[173670], num_nodes=40943, target_edge_index=[2, 3134], target_edge_type=[3134]))"
      ]
     },
     "execution_count": 25,
     "metadata": {},
     "output_type": "execute_result"
    }
   ],
   "source": [
    "train_data, valid_data, test_data"
   ]
  },
  {
   "cell_type": "code",
   "execution_count": 77,
   "id": "41a6d945",
   "metadata": {},
   "outputs": [
    {
     "data": {
      "text/plain": [
       "(Data(edge_index=[2, 521010], edge_type=[521010], num_nodes=122829, target_edge_index=[2, 93003], target_edge_type=[93003]),\n",
       " {'edge_index': tensor([     0, 173670, 347340, 521010]),\n",
       "  'edge_type': tensor([     0, 173670, 347340, 521010]),\n",
       "  'target_edge_index': tensor([    0, 86835, 89869, 93003]),\n",
       "  'target_edge_type': tensor([    0, 86835, 89869, 93003])})"
      ]
     },
     "execution_count": 77,
     "metadata": {},
     "output_type": "execute_result"
    }
   ],
   "source": [
    "dataset.collate([train_data, valid_data, test_data])"
   ]
  },
  {
   "cell_type": "code",
   "execution_count": 81,
   "id": "fdec56a4",
   "metadata": {},
   "outputs": [
    {
     "name": "stderr",
     "output_type": "stream",
     "text": [
      "c:\\Users\\mulyadi\\TempRepo\\AIAgents4Pharma\\venv\\Lib\\site-packages\\torch_geometric\\data\\in_memory_dataset.py:300: UserWarning: It is not recommended to directly access the internal storage format `data` of an 'InMemoryDataset'. If you are absolutely certain what you are doing, access the internal storage via `InMemoryDataset._data` instead to suppress this warning. Alternatively, you can access stacked individual attributes of every graph via `dataset.{attr_name}`.\n",
      "  warnings.warn(msg)\n"
     ]
    },
    {
     "data": {
      "text/plain": [
       "(WordNet18RR(3),\n",
       " Data(edge_index=[2, 521010], edge_type=[521010], num_nodes=122829, target_edge_index=[2, 93003], target_edge_type=[93003]),\n",
       " {'edge_index': tensor([     0, 173670, 347340, 521010]),\n",
       "  'edge_type': tensor([     0, 173670, 347340, 521010]),\n",
       "  'target_edge_index': tensor([    0, 86835, 89869, 93003]),\n",
       "  'target_edge_type': tensor([    0, 86835, 89869, 93003])})"
      ]
     },
     "execution_count": 81,
     "metadata": {},
     "output_type": "execute_result"
    }
   ],
   "source": [
    "dataset, dataset.data, dataset.slices"
   ]
  },
  {
   "cell_type": "code",
   "execution_count": 83,
   "id": "eb2f5b2b",
   "metadata": {},
   "outputs": [
    {
     "data": {
      "text/plain": [
       "tensor([     0, 173670, 347340, 521010])"
      ]
     },
     "execution_count": 83,
     "metadata": {},
     "output_type": "execute_result"
    }
   ],
   "source": [
    "dataset.slices['edge_index']"
   ]
  },
  {
   "cell_type": "markdown",
   "id": "e2a0bf50",
   "metadata": {},
   "source": [
    "### FB15K-237"
   ]
  },
  {
   "cell_type": "code",
   "execution_count": 12,
   "id": "ab1866f7",
   "metadata": {},
   "outputs": [
    {
     "data": {
      "text/plain": [
       "{'class': 'WN18RR', 'root': '../../../../../data/datasets/knowledge_graphs'}"
      ]
     },
     "execution_count": 12,
     "metadata": {},
     "output_type": "execute_result"
    }
   ],
   "source": [
    "cfg.dataset"
   ]
  },
  {
   "cell_type": "code",
   "execution_count": null,
   "id": "69f712b1",
   "metadata": {},
   "outputs": [],
   "source": []
  },
  {
   "cell_type": "code",
   "execution_count": 13,
   "id": "92ff554b",
   "metadata": {},
   "outputs": [
    {
     "data": {
      "text/plain": [
       "FB15k-237()"
      ]
     },
     "execution_count": 13,
     "metadata": {},
     "output_type": "execute_result"
    }
   ],
   "source": [
    "# Transductive FB15K-237\n",
    "dataset = RelLinkPredDataset(name='FB15k-237', **{'root': '../../../../../data/datasets/knowledge_graphs'})\n",
    "dataset"
   ]
  },
  {
   "cell_type": "code",
   "execution_count": 14,
   "id": "ac1afb51",
   "metadata": {},
   "outputs": [
    {
     "name": "stderr",
     "output_type": "stream",
     "text": [
      "c:\\Users\\mulyadi\\TempRepo\\AIAgents4Pharma\\venv\\Lib\\site-packages\\torch_geometric\\data\\in_memory_dataset.py:300: UserWarning: It is not recommended to directly access the internal storage format `data` of an 'InMemoryDataset'. If you are absolutely certain what you are doing, access the internal storage via `InMemoryDataset._data` instead to suppress this warning. Alternatively, you can access stacked individual attributes of every graph via `dataset.{attr_name}`.\n",
      "  warnings.warn(msg)\n"
     ]
    },
    {
     "data": {
      "text/plain": [
       "Data(edge_index=[2, 544230], num_nodes=14541, edge_type=[544230], train_edge_index=[2, 272115], train_edge_type=[272115], valid_edge_index=[2, 17535], valid_edge_type=[17535], test_edge_index=[2, 20466], test_edge_type=[20466])"
      ]
     },
     "execution_count": 14,
     "metadata": {},
     "output_type": "execute_result"
    }
   ],
   "source": [
    "data = dataset.data\n",
    "data"
   ]
  },
  {
   "cell_type": "code",
   "execution_count": 15,
   "id": "e8134df1",
   "metadata": {},
   "outputs": [],
   "source": [
    "data = dataset.data\n",
    "train_data = Data(edge_index=data.edge_index, edge_type=data.edge_type, num_nodes=data.num_nodes,\n",
    "                  target_edge_index=data.train_edge_index, target_edge_type=data.train_edge_type)\n",
    "valid_data = Data(edge_index=data.edge_index, edge_type=data.edge_type, num_nodes=data.num_nodes,\n",
    "                  target_edge_index=data.valid_edge_index, target_edge_type=data.valid_edge_type)\n",
    "test_data = Data(edge_index=data.edge_index, edge_type=data.edge_type, num_nodes=data.num_nodes,\n",
    "                 target_edge_index=data.test_edge_index, target_edge_type=data.test_edge_type)\n",
    "dataset.data, dataset.slices = dataset.collate([train_data, valid_data, test_data])"
   ]
  },
  {
   "cell_type": "code",
   "execution_count": 18,
   "id": "fee7f597",
   "metadata": {},
   "outputs": [
    {
     "data": {
      "text/plain": [
       "(tensor([[3364, 8077, 3776,  ..., 9124, 1318, 7664],\n",
       "         [8619, 6142, 7385,  ..., 7803, 3679, 6680]]),\n",
       " tensor([183, 124, 166,  ..., 189, 155,   9]))"
      ]
     },
     "execution_count": 18,
     "metadata": {},
     "output_type": "execute_result"
    }
   ],
   "source": [
    "train_data.target_edge_index, train_data.target_edge_type"
   ]
  },
  {
   "cell_type": "code",
   "execution_count": 16,
   "id": "62a2c371",
   "metadata": {},
   "outputs": [
    {
     "data": {
      "text/plain": [
       "(Data(edge_index=[2, 544230], edge_type=[544230], num_nodes=14541, target_edge_index=[2, 272115], target_edge_type=[272115]),\n",
       " Data(edge_index=[2, 544230], edge_type=[544230], num_nodes=14541, target_edge_index=[2, 17535], target_edge_type=[17535]),\n",
       " Data(edge_index=[2, 544230], edge_type=[544230], num_nodes=14541, target_edge_index=[2, 20466], target_edge_type=[20466]))"
      ]
     },
     "execution_count": 16,
     "metadata": {},
     "output_type": "execute_result"
    }
   ],
   "source": [
    "train_data, valid_data, test_data"
   ]
  },
  {
   "cell_type": "code",
   "execution_count": 17,
   "id": "9c922e53",
   "metadata": {},
   "outputs": [
    {
     "data": {
      "text/plain": [
       "(Data(edge_index=[2, 1632690], edge_type=[1632690], num_nodes=43623, target_edge_index=[2, 310116], target_edge_type=[310116]),\n",
       " {'edge_index': tensor([      0,  544230, 1088460, 1632690]),\n",
       "  'edge_type': tensor([      0,  544230, 1088460, 1632690]),\n",
       "  'target_edge_index': tensor([     0, 272115, 289650, 310116]),\n",
       "  'target_edge_type': tensor([     0, 272115, 289650, 310116])})"
      ]
     },
     "execution_count": 17,
     "metadata": {},
     "output_type": "execute_result"
    }
   ],
   "source": [
    "dataset.data, dataset.slices"
   ]
  },
  {
   "cell_type": "code",
   "execution_count": 94,
   "id": "12aa6072",
   "metadata": {},
   "outputs": [
    {
     "data": {
      "text/plain": [
       "FB15k-237()"
      ]
     },
     "execution_count": 94,
     "metadata": {},
     "output_type": "execute_result"
    }
   ],
   "source": [
    "dataset"
   ]
  },
  {
   "cell_type": "code",
   "execution_count": 97,
   "id": "4629f553",
   "metadata": {},
   "outputs": [
    {
     "name": "stdout",
     "output_type": "stream",
     "text": [
      "#train: 272115, #valid: 17535, #test: 20466\n"
     ]
    }
   ],
   "source": [
    "print(\"#train: %d, #valid: %d, #test: %d\" % (dataset[0].target_edge_index.shape[1], dataset[1].target_edge_index.shape[1], dataset[2].target_edge_index.shape[1]))"
   ]
  },
  {
   "cell_type": "code",
   "execution_count": 121,
   "id": "d37fba6c",
   "metadata": {},
   "outputs": [
    {
     "data": {
      "text/plain": [
       "Data(edge_index=[2, 544230], edge_type=[544230], target_edge_index=[2, 272115], target_edge_type=[272115], num_nodes=14541)"
      ]
     },
     "execution_count": 121,
     "metadata": {},
     "output_type": "execute_result"
    }
   ],
   "source": [
    "dataset[0]"
   ]
  },
  {
   "cell_type": "code",
   "execution_count": 120,
   "id": "0590f4ba",
   "metadata": {},
   "outputs": [
    {
     "data": {
      "text/plain": [
       "tensor([[3364, 8077, 3776,  ..., 7803, 3679, 6680],\n",
       "        [8619, 6142, 7385,  ..., 9124, 1318, 7664]])"
      ]
     },
     "execution_count": 120,
     "metadata": {},
     "output_type": "execute_result"
    }
   ],
   "source": [
    "dataset[0].edge_index"
   ]
  },
  {
   "cell_type": "code",
   "execution_count": 122,
   "id": "894ca973",
   "metadata": {},
   "outputs": [
    {
     "data": {
      "text/plain": [
       "tensor([183, 124, 166,  ..., 426, 392, 246])"
      ]
     },
     "execution_count": 122,
     "metadata": {},
     "output_type": "execute_result"
    }
   ],
   "source": [
    "dataset[0].edge_type"
   ]
  },
  {
   "cell_type": "code",
   "execution_count": 126,
   "id": "b165000b",
   "metadata": {},
   "outputs": [
    {
     "data": {
      "text/plain": [
       "(544230, 544230)"
      ]
     },
     "execution_count": 126,
     "metadata": {},
     "output_type": "execute_result"
    }
   ],
   "source": [
    "dataset[0].edge_index.shape[1], dataset[0].edge_type.shape[0]"
   ]
  },
  {
   "cell_type": "code",
   "execution_count": 131,
   "id": "913a8f0d",
   "metadata": {},
   "outputs": [
    {
     "data": {
      "text/plain": [
       "tensor([[3364, 8077, 3776,  ..., 9124, 1318, 7664],\n",
       "        [8619, 6142, 7385,  ..., 7803, 3679, 6680]])"
      ]
     },
     "execution_count": 131,
     "metadata": {},
     "output_type": "execute_result"
    }
   ],
   "source": [
    "dataset[0].target_edge_index"
   ]
  },
  {
   "cell_type": "code",
   "execution_count": 132,
   "id": "1e540d93",
   "metadata": {},
   "outputs": [
    {
     "data": {
      "text/plain": [
       "tensor([183, 124, 166,  ..., 189, 155,   9])"
      ]
     },
     "execution_count": 132,
     "metadata": {},
     "output_type": "execute_result"
    }
   ],
   "source": [
    "dataset[0].target_edge_type"
   ]
  },
  {
   "cell_type": "code",
   "execution_count": 143,
   "id": "fc36db56",
   "metadata": {},
   "outputs": [
    {
     "data": {
      "text/plain": [
       "tensor(420)"
      ]
     },
     "execution_count": 143,
     "metadata": {},
     "output_type": "execute_result"
    }
   ],
   "source": [
    "dataset[0].edge_type[272115]"
   ]
  },
  {
   "cell_type": "code",
   "execution_count": 146,
   "id": "56ff8833",
   "metadata": {},
   "outputs": [
    {
     "data": {
      "text/plain": [
       "Data(edge_index=[2, 544230], edge_type=[544230], target_edge_index=[2, 17535], target_edge_type=[17535], num_nodes=14541)"
      ]
     },
     "execution_count": 146,
     "metadata": {},
     "output_type": "execute_result"
    }
   ],
   "source": [
    "dataset[1]"
   ]
  },
  {
   "cell_type": "code",
   "execution_count": null,
   "id": "63d9ab2c",
   "metadata": {},
   "outputs": [
    {
     "data": {
      "text/plain": [
       "(272115, 272115)"
      ]
     },
     "execution_count": 130,
     "metadata": {},
     "output_type": "execute_result"
    }
   ],
   "source": [
    "dataset[0].target_edge_index.shape[1], dataset[0].target_edge_type.shape[0]"
   ]
  },
  {
   "cell_type": "code",
   "execution_count": 116,
   "id": "8f2e5d86",
   "metadata": {},
   "outputs": [
    {
     "name": "stdout",
     "output_type": "stream",
     "text": [
      "train: 0.88, valid: 0.06, test: 0.07\n"
     ]
    }
   ],
   "source": [
    "total_a = (272115 + 17535 + 20466)\n",
    "percent_train = 272115 / total_a\n",
    "percent_valid = 17535 / total_a\n",
    "percent_test = 20466 / total_a\n",
    "print(\"train: %.2f, valid: %.2f, test: %.2f\" % (percent_train, percent_valid, percent_test))"
   ]
  },
  {
   "cell_type": "code",
   "execution_count": 100,
   "id": "4eb923d6",
   "metadata": {},
   "outputs": [
    {
     "data": {
      "text/plain": [
       "474"
      ]
     },
     "execution_count": 100,
     "metadata": {},
     "output_type": "execute_result"
    }
   ],
   "source": [
    "cfg_num_relation = dataset.num_relations\n",
    "cfg_num_relation"
   ]
  },
  {
   "cell_type": "markdown",
   "id": "5d0d3571",
   "metadata": {},
   "source": [
    "### Build Model"
   ]
  },
  {
   "cell_type": "code",
   "execution_count": 101,
   "id": "06f63f53",
   "metadata": {},
   "outputs": [
    {
     "data": {
      "text/plain": [
       "{'class': 'NBFNet', 'input_dim': 32, 'hidden_dims': [32, 32, 32, 32, 32, 32], 'message_func': 'distmult', 'aggregate_func': 'pna', 'short_cut': True, 'layer_norm': True, 'dependent': False}"
      ]
     },
     "execution_count": 101,
     "metadata": {},
     "output_type": "execute_result"
    }
   ],
   "source": [
    "cfg.model"
   ]
  },
  {
   "cell_type": "code",
   "execution_count": 107,
   "id": "1b89cc5c",
   "metadata": {},
   "outputs": [],
   "source": [
    "from omegaconf import OmegaConf\n",
    "\n",
    "cfg_ = OmegaConf.to_container(cfg, resolve=True)\n",
    "cfg_ = OmegaConf.create(cfg_)\n",
    "del cfg_[\"model\"][\"class\"]\n",
    "cfg_\n",
    "cfg_.model[\"num_relation\"] = dataset.num_relations"
   ]
  },
  {
   "cell_type": "code",
   "execution_count": 105,
   "id": "58d5a9dc",
   "metadata": {},
   "outputs": [
    {
     "data": {
      "text/plain": [
       "{'input_dim': 32, 'hidden_dims': [32, 32, 32, 32, 32, 32], 'message_func': 'distmult', 'aggregate_func': 'pna', 'short_cut': True, 'layer_norm': True, 'dependent': False}"
      ]
     },
     "execution_count": 105,
     "metadata": {},
     "output_type": "execute_result"
    }
   ],
   "source": [
    "cfg_.model"
   ]
  },
  {
   "cell_type": "code",
   "execution_count": 108,
   "id": "ea215293",
   "metadata": {},
   "outputs": [
    {
     "data": {
      "text/plain": [
       "NBFNet(\n",
       "  (layers): ModuleList(\n",
       "    (0-5): 6 x GeneralizedRelationalConv()\n",
       "  )\n",
       "  (query): Embedding(474, 32)\n",
       "  (mlp): Sequential(\n",
       "    (0): Linear(in_features=64, out_features=64, bias=True)\n",
       "    (1): ReLU()\n",
       "    (2): Linear(in_features=64, out_features=1, bias=True)\n",
       "  )\n",
       ")"
      ]
     },
     "execution_count": 108,
     "metadata": {},
     "output_type": "execute_result"
    }
   ],
   "source": [
    "model = models.NBFNet(**cfg_.model)\n",
    "model"
   ]
  },
  {
   "cell_type": "code",
   "execution_count": null,
   "id": "9b76f306",
   "metadata": {},
   "outputs": [],
   "source": [
    "# Checkpoint\n",
    "state = torch.load(cfg.checkpoint, map_location=\"cpu\")\n",
    "model.load_state_dict(state[\"model\"])"
   ]
  },
  {
   "cell_type": "code",
   "execution_count": null,
   "id": "e7cbd144",
   "metadata": {},
   "outputs": [],
   "source": [
    "def get_device(cfg):\n",
    "    if cfg.train.gpus:\n",
    "        device = torch.device(cfg.train.gpus[get_rank()])\n",
    "    else:\n",
    "        device = torch.device(\"cpu\")\n",
    "    return device"
   ]
  },
  {
   "cell_type": "markdown",
   "id": "3b781641",
   "metadata": {},
   "source": [
    "### Training"
   ]
  },
  {
   "cell_type": "code",
   "execution_count": 112,
   "id": "68d529f1",
   "metadata": {},
   "outputs": [
    {
     "data": {
      "text/plain": [
       "device(type='cpu')"
      ]
     },
     "execution_count": 112,
     "metadata": {},
     "output_type": "execute_result"
    }
   ],
   "source": [
    "device = torch.device(\"cuda:0\" if torch.cuda.is_available() else \"cpu\")\n",
    "device"
   ]
  },
  {
   "cell_type": "code",
   "execution_count": 113,
   "id": "33953ece",
   "metadata": {},
   "outputs": [],
   "source": [
    "train_data, valid_data, test_data = dataset[0], dataset[1], dataset[2]\n",
    "train_data = train_data.to(device)\n",
    "valid_data = valid_data.to(device)\n",
    "test_data = test_data.to(device)"
   ]
  },
  {
   "cell_type": "code",
   "execution_count": 114,
   "id": "a6c41337",
   "metadata": {},
   "outputs": [
    {
     "name": "stderr",
     "output_type": "stream",
     "text": [
      "c:\\Users\\mulyadi\\TempRepo\\AIAgents4Pharma\\venv\\Lib\\site-packages\\torch_geometric\\data\\in_memory_dataset.py:300: UserWarning: It is not recommended to directly access the internal storage format `data` of an 'InMemoryDataset'. The data of the dataset is already cached, so any modifications to `data` will not be reflected when accessing its elements. Clearing the cache now by removing all elements in `dataset._data_list`. If you are absolutely certain what you are doing, access the internal storage via `InMemoryDataset._data` instead to suppress this warning. Alternatively, you can access stacked individual attributes of every graph via `dataset.{attr_name}`.\n",
      "  warnings.warn(msg)\n",
      "c:\\Users\\mulyadi\\TempRepo\\AIAgents4Pharma\\venv\\Lib\\site-packages\\torch_geometric\\data\\in_memory_dataset.py:300: UserWarning: It is not recommended to directly access the internal storage format `data` of an 'InMemoryDataset'. If you are absolutely certain what you are doing, access the internal storage via `InMemoryDataset._data` instead to suppress this warning. Alternatively, you can access stacked individual attributes of every graph via `dataset.{attr_name}`.\n",
      "  warnings.warn(msg)\n"
     ]
    }
   ],
   "source": [
    "# for transductive setting, use the whole graph for filtered ranking\n",
    "filtered_data = Data(edge_index=dataset.data.target_edge_index, edge_type=dataset.data.target_edge_type)\n",
    "filtered_data = filtered_data.to(device)"
   ]
  },
  {
   "cell_type": "markdown",
   "id": "f70a132f",
   "metadata": {},
   "source": [
    "### Training"
   ]
  },
  {
   "cell_type": "code",
   "execution_count": null,
   "id": "60511e5a",
   "metadata": {},
   "outputs": [],
   "source": [
    "train_and_validate(cfg, model, train_data, valid_data, filtered_data=filtered_data)"
   ]
  },
  {
   "cell_type": "markdown",
   "id": "5b5c420a",
   "metadata": {},
   "source": [
    "### Validation"
   ]
  },
  {
   "cell_type": "code",
   "execution_count": null,
   "id": "a087414f",
   "metadata": {},
   "outputs": [],
   "source": [
    "test(cfg, model, valid_data, filtered_data=filtered_data)"
   ]
  },
  {
   "cell_type": "markdown",
   "id": "b3fa6e26",
   "metadata": {},
   "source": [
    "### Testing"
   ]
  },
  {
   "cell_type": "code",
   "execution_count": null,
   "id": "5f526e51",
   "metadata": {},
   "outputs": [],
   "source": [
    "test(cfg, model, test_data, filtered_data=filtered_data)"
   ]
  }
 ],
 "metadata": {
  "kernelspec": {
   "display_name": "venv",
   "language": "python",
   "name": "python3"
  },
  "language_info": {
   "codemirror_mode": {
    "name": "ipython",
    "version": 3
   },
   "file_extension": ".py",
   "mimetype": "text/x-python",
   "name": "python",
   "nbconvert_exporter": "python",
   "pygments_lexer": "ipython3",
   "version": "3.12.10"
  }
 },
 "nbformat": 4,
 "nbformat_minor": 5
}
