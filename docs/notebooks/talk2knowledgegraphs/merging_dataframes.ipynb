{
 "cells": [
  {
   "cell_type": "code",
   "execution_count": 1,
   "id": "1f89f526",
   "metadata": {},
   "outputs": [],
   "source": [
    "import os\n",
    "import glob\n",
    "import cudf\n",
    "import dask_cudf\n",
    "import hydra"
   ]
  },
  {
   "cell_type": "code",
   "execution_count": 2,
   "id": "8ee6c673",
   "metadata": {},
   "outputs": [
    {
     "data": {
      "text/plain": [
       "{'_target_': 'talk2knowledgegraphs.tools.multimodal_subgraph_extraction', 'ollama_embeddings': ['nomic-embed-text'], 'temperature': 0.1, 'streaming': False, 'topk': 5, 'topk_e': 5, 'cost_e': 0.5, 'c_const': 0.01, 'root': -1, 'num_clusters': 1, 'pruning': 'gw', 'verbosity_level': 0, 'node_id_column': 'node_id', 'node_attr_column': 'node_attr', 'edge_src_column': 'edge_src', 'edge_attr_column': 'edge_attr', 'edge_dst_column': 'edge_dst', 'node_colors_dict': {'gene/protein': '#6a79f7', 'molecular_function': '#82cafc', 'cellular_component': '#3f9b0b', 'biological_process': '#c5c9c7', 'drug': '#c4a661', 'disease': '#80013f'}, 'biobridge': {'source': 'aiagents4pharma/talk2knowledgegraphs/tests/files/biobridge_multimodal/', 'node_type': ['gene/protein', 'molecular_function', 'cellular_component', 'biological_process', 'drug', 'disease']}}"
      ]
     },
     "execution_count": 2,
     "metadata": {},
     "output_type": "execute_result"
    }
   ],
   "source": [
    "# Load hydra configuration\n",
    "with hydra.initialize(version_base=None, config_path=\"../../../aiagents4pharma/talk2knowledgegraphs/configs\"):\n",
    "    cfg = hydra.compose(\n",
    "        config_name=\"config\", overrides=[\"tools/multimodal_subgraph_extraction=default\"]\n",
    "    )\n",
    "    cfg = cfg.tools.multimodal_subgraph_extraction\n",
    "cfg"
   ]
  },
  {
   "cell_type": "code",
   "execution_count": 192,
   "id": "ae0cba6e",
   "metadata": {},
   "outputs": [],
   "source": [
    "# Loop over nodes and edges\n",
    "graph_dict = {}\n",
    "for element in [\"nodes\", \"edges\"]:\n",
    "    # Make an empty dictionary for each folder\n",
    "    graph_dict[element] = {}\n",
    "    for stage in [\"enrichment\", \"embedding\"]:\n",
    "        # print(key, path, stage)\n",
    "        # Create the file pattern for the current subfolder\n",
    "        file_list = glob.glob(os.path.join('../../../', \n",
    "                                           cfg.biobridge.source, \n",
    "                                           element, \n",
    "                                           stage, '*.parquet.gzip'))\n",
    "        # if element != \"edges\" and stage == \"embedding\":\n",
    "        # Read and concatenate all dataframes in the folder\n",
    "        graph_dict[element][stage] = cudf.concat([cudf.read_parquet(f) for f in file_list], ignore_index=True)"
   ]
  },
  {
   "cell_type": "code",
   "execution_count": 4,
   "id": "efe05483",
   "metadata": {},
   "outputs": [
    {
     "name": "stderr",
     "output_type": "stream",
     "text": [
      "/home/awmulyadi/Repositories/temp/office2/AIAgents4Pharma/venv/lib/python3.12/site-packages/torch_geometric/typing.py:86: UserWarning: An issue occurred while importing 'torch-scatter'. Disabling its usage. Stacktrace: /home/awmulyadi/Repositories/temp/office2/AIAgents4Pharma/venv/lib/python3.12/site-packages/torch_scatter/_version_cuda.so: undefined symbol: _ZN5torch3jit17parseSchemaOrNameERKSsb\n",
      "  warnings.warn(f\"An issue occurred while importing 'torch-scatter'. \"\n",
      "/home/awmulyadi/Repositories/temp/office2/AIAgents4Pharma/venv/lib/python3.12/site-packages/torch_geometric/typing.py:124: UserWarning: An issue occurred while importing 'torch-sparse'. Disabling its usage. Stacktrace: /home/awmulyadi/Repositories/temp/office2/AIAgents4Pharma/venv/lib/python3.12/site-packages/torch_sparse/_version_cuda.so: undefined symbol: _ZN5torch3jit17parseSchemaOrNameERKSsb\n",
      "  warnings.warn(f\"An issue occurred while importing 'torch-sparse'. \"\n",
      "/home/awmulyadi/Repositories/temp/office2/AIAgents4Pharma/venv/lib/python3.12/site-packages/tqdm/auto.py:21: TqdmWarning: IProgress not found. Please update jupyter and ipywidgets. See https://ipywidgets.readthedocs.io/en/stable/user_install.html\n",
      "  from .autonotebook import tqdm as notebook_tqdm\n",
      "/home/awmulyadi/Repositories/temp/office2/AIAgents4Pharma/venv/lib/python3.12/site-packages/tensordict/_pytree.py:180: UserWarning: torch.utils._pytree._register_pytree_node is deprecated. Please use torch.utils._pytree.register_pytree_node instead.\n",
      "  register_pytree_node(\n",
      "/home/awmulyadi/Repositories/temp/office2/AIAgents4Pharma/venv/lib/python3.12/site-packages/tensordict/_pytree.py:199: UserWarning: torch.utils._pytree._register_pytree_node is deprecated. Please use torch.utils._pytree.register_pytree_node instead.\n",
      "  register_pytree_node(\n"
     ]
    }
   ],
   "source": [
    "import cugraph_pyg"
   ]
  },
  {
   "cell_type": "code",
   "execution_count": 239,
   "id": "8587716c",
   "metadata": {},
   "outputs": [
    {
     "data": {
      "text/html": [
       "<div>\n",
       "<style scoped>\n",
       "    .dataframe tbody tr th:only-of-type {\n",
       "        vertical-align: middle;\n",
       "    }\n",
       "\n",
       "    .dataframe tbody tr th {\n",
       "        vertical-align: top;\n",
       "    }\n",
       "\n",
       "    .dataframe thead th {\n",
       "        text-align: right;\n",
       "    }\n",
       "</style>\n",
       "<table border=\"1\" class=\"dataframe\">\n",
       "  <thead>\n",
       "    <tr style=\"text-align: right;\">\n",
       "      <th></th>\n",
       "      <th>node_index</th>\n",
       "      <th>node_id</th>\n",
       "      <th>node_name</th>\n",
       "      <th>node_type</th>\n",
       "      <th>desc</th>\n",
       "      <th>feat</th>\n",
       "      <th>desc_emb</th>\n",
       "      <th>feat_emb</th>\n",
       "    </tr>\n",
       "  </thead>\n",
       "  <tbody>\n",
       "    <tr>\n",
       "      <th>0</th>\n",
       "      <td>74881</td>\n",
       "      <td>GMP binding_(117117)</td>\n",
       "      <td>GMP binding</td>\n",
       "      <td>molecular_function</td>\n",
       "      <td>GMP binding belongs to molecular_function node.</td>\n",
       "      <td>Binding to GMP, guanosine monophosphate.</td>\n",
       "      <td>[-0.0013809444, 0.045085534, -0.14073932, -0.0...</td>\n",
       "      <td>[-0.006424577, 0.037433047, -0.11737241, -0.00...</td>\n",
       "    </tr>\n",
       "    <tr>\n",
       "      <th>1</th>\n",
       "      <td>74882</td>\n",
       "      <td>dATP binding_(117118)</td>\n",
       "      <td>dATP binding</td>\n",
       "      <td>molecular_function</td>\n",
       "      <td>dATP binding belongs to molecular_function node.</td>\n",
       "      <td>Binding to dATP, deoxyadenosine triphosphate.</td>\n",
       "      <td>[0.006549959, 0.020447463, -0.14197575, -0.045...</td>\n",
       "      <td>[-0.014702543, 0.028529385, -0.12821108, -0.06...</td>\n",
       "    </tr>\n",
       "    <tr>\n",
       "      <th>2</th>\n",
       "      <td>74883</td>\n",
       "      <td>GDP binding_(117119)</td>\n",
       "      <td>GDP binding</td>\n",
       "      <td>molecular_function</td>\n",
       "      <td>GDP binding belongs to molecular_function node.</td>\n",
       "      <td>Binding to GDP, guanosine 5'-diphosphate.</td>\n",
       "      <td>[0.011018618, 0.057139404, -0.16011557, -0.027...</td>\n",
       "      <td>[0.008387973, 0.0810471, -0.15771577, -0.03594...</td>\n",
       "    </tr>\n",
       "    <tr>\n",
       "      <th>3</th>\n",
       "      <td>74884</td>\n",
       "      <td>cyclic-GMP-AMP binding_(117120)</td>\n",
       "      <td>cyclic-GMP-AMP binding</td>\n",
       "      <td>molecular_function</td>\n",
       "      <td>cyclic-GMP-AMP binding belongs to molecular_fu...</td>\n",
       "      <td>Binding to 2',3' cyclic GMP-AMP (cGAMP) nucleo...</td>\n",
       "      <td>[-0.011152258, 0.01837751, -0.15741584, 0.0022...</td>\n",
       "      <td>[-0.050510645, 0.046024974, -0.16424122, -0.04...</td>\n",
       "    </tr>\n",
       "    <tr>\n",
       "      <th>4</th>\n",
       "      <td>74885</td>\n",
       "      <td>dGMP binding_(117121)</td>\n",
       "      <td>dGMP binding</td>\n",
       "      <td>molecular_function</td>\n",
       "      <td>dGMP binding belongs to molecular_function node.</td>\n",
       "      <td>Binding to dGMP, deoxyguanosine monophosphate.</td>\n",
       "      <td>[0.0146955475, 0.04383626, -0.14428326, -0.028...</td>\n",
       "      <td>[0.00027230568, 0.0482017, -0.122989565, -0.03...</td>\n",
       "    </tr>\n",
       "  </tbody>\n",
       "</table>\n",
       "</div>"
      ],
      "text/plain": [
       "   node_index                          node_id               node_name  \\\n",
       "0       74881             GMP binding_(117117)             GMP binding   \n",
       "1       74882            dATP binding_(117118)            dATP binding   \n",
       "2       74883             GDP binding_(117119)             GDP binding   \n",
       "3       74884  cyclic-GMP-AMP binding_(117120)  cyclic-GMP-AMP binding   \n",
       "4       74885            dGMP binding_(117121)            dGMP binding   \n",
       "\n",
       "            node_type                                               desc  \\\n",
       "0  molecular_function   GMP binding belongs to molecular_function node.    \n",
       "1  molecular_function  dATP binding belongs to molecular_function node.    \n",
       "2  molecular_function   GDP binding belongs to molecular_function node.    \n",
       "3  molecular_function  cyclic-GMP-AMP binding belongs to molecular_fu...   \n",
       "4  molecular_function  dGMP binding belongs to molecular_function node.    \n",
       "\n",
       "                                                feat  \\\n",
       "0           Binding to GMP, guanosine monophosphate.   \n",
       "1      Binding to dATP, deoxyadenosine triphosphate.   \n",
       "2          Binding to GDP, guanosine 5'-diphosphate.   \n",
       "3  Binding to 2',3' cyclic GMP-AMP (cGAMP) nucleo...   \n",
       "4     Binding to dGMP, deoxyguanosine monophosphate.   \n",
       "\n",
       "                                            desc_emb  \\\n",
       "0  [-0.0013809444, 0.045085534, -0.14073932, -0.0...   \n",
       "1  [0.006549959, 0.020447463, -0.14197575, -0.045...   \n",
       "2  [0.011018618, 0.057139404, -0.16011557, -0.027...   \n",
       "3  [-0.011152258, 0.01837751, -0.15741584, 0.0022...   \n",
       "4  [0.0146955475, 0.04383626, -0.14428326, -0.028...   \n",
       "\n",
       "                                            feat_emb  \n",
       "0  [-0.006424577, 0.037433047, -0.11737241, -0.00...  \n",
       "1  [-0.014702543, 0.028529385, -0.12821108, -0.06...  \n",
       "2  [0.008387973, 0.0810471, -0.15771577, -0.03594...  \n",
       "3  [-0.050510645, 0.046024974, -0.16424122, -0.04...  \n",
       "4  [0.00027230568, 0.0482017, -0.122989565, -0.03...  "
      ]
     },
     "execution_count": 239,
     "metadata": {},
     "output_type": "execute_result"
    }
   ],
   "source": [
    "unified_nodes_df = graph_dict[\"nodes\"][\"enrichment\"].merge(\n",
    "    graph_dict[\"nodes\"][\"embedding\"],\n",
    "    on=[\"node_id\"],\n",
    "    how=\"left\"\n",
    ")\n",
    "unified_nodes_df.head(5)"
   ]
  },
  {
   "cell_type": "code",
   "execution_count": 241,
   "id": "35bd3548",
   "metadata": {},
   "outputs": [
    {
     "ename": "MemoryError",
     "evalue": "std::bad_alloc: out_of_memory: CUDA error (failed to allocate 1779554560 bytes) at: /pyenv/versions/3.12.9/lib/python3.12/site-packages/librmm/include/rmm/mr/device/cuda_memory_resource.hpp:62: cudaErrorMemoryAllocation out of memory",
     "output_type": "error",
     "traceback": [
      "\u001b[0;31m---------------------------------------------------------------------------\u001b[0m",
      "\u001b[0;31mMemoryError\u001b[0m                               Traceback (most recent call last)",
      "Cell \u001b[0;32mIn[241], line 1\u001b[0m\n\u001b[0;32m----> 1\u001b[0m unified_edges_df \u001b[38;5;241m=\u001b[39m \u001b[43mgraph_dict\u001b[49m\u001b[43m[\u001b[49m\u001b[38;5;124;43m\"\u001b[39;49m\u001b[38;5;124;43medges\u001b[39;49m\u001b[38;5;124;43m\"\u001b[39;49m\u001b[43m]\u001b[49m\u001b[43m[\u001b[49m\u001b[38;5;124;43m\"\u001b[39;49m\u001b[38;5;124;43menrichment\u001b[39;49m\u001b[38;5;124;43m\"\u001b[39;49m\u001b[43m]\u001b[49m\u001b[38;5;241;43m.\u001b[39;49m\u001b[43mmerge\u001b[49m\u001b[43m(\u001b[49m\n\u001b[1;32m      2\u001b[0m \u001b[43m    \u001b[49m\u001b[43mgraph_dict\u001b[49m\u001b[43m[\u001b[49m\u001b[38;5;124;43m\"\u001b[39;49m\u001b[38;5;124;43medges\u001b[39;49m\u001b[38;5;124;43m\"\u001b[39;49m\u001b[43m]\u001b[49m\u001b[43m[\u001b[49m\u001b[38;5;124;43m\"\u001b[39;49m\u001b[38;5;124;43membedding\u001b[39;49m\u001b[38;5;124;43m\"\u001b[39;49m\u001b[43m]\u001b[49m\u001b[43m,\u001b[49m\n\u001b[1;32m      3\u001b[0m \u001b[43m    \u001b[49m\u001b[43mon\u001b[49m\u001b[38;5;241;43m=\u001b[39;49m\u001b[43m[\u001b[49m\u001b[38;5;124;43m\"\u001b[39;49m\u001b[38;5;124;43medge_type_str\u001b[39;49m\u001b[38;5;124;43m\"\u001b[39;49m\u001b[43m]\u001b[49m\u001b[43m,\u001b[49m\n\u001b[1;32m      4\u001b[0m \u001b[43m    \u001b[49m\u001b[43mhow\u001b[49m\u001b[38;5;241;43m=\u001b[39;49m\u001b[38;5;124;43m\"\u001b[39;49m\u001b[38;5;124;43mcross\u001b[39;49m\u001b[38;5;124;43m\"\u001b[39;49m\n\u001b[1;32m      5\u001b[0m \u001b[43m)\u001b[49m\n",
      "File \u001b[0;32m~/Repositories/temp/office2/AIAgents4Pharma/venv/lib/python3.12/site-packages/cudf/utils/performance_tracking.py:51\u001b[0m, in \u001b[0;36m_performance_tracking.<locals>.wrapper\u001b[0;34m(*args, **kwargs)\u001b[0m\n\u001b[1;32m     43\u001b[0m \u001b[38;5;28;01mif\u001b[39;00m nvtx\u001b[38;5;241m.\u001b[39menabled():\n\u001b[1;32m     44\u001b[0m     stack\u001b[38;5;241m.\u001b[39menter_context(\n\u001b[1;32m     45\u001b[0m         nvtx\u001b[38;5;241m.\u001b[39mannotate(\n\u001b[1;32m     46\u001b[0m             message\u001b[38;5;241m=\u001b[39mfunc\u001b[38;5;241m.\u001b[39m\u001b[38;5;18m__qualname__\u001b[39m,\n\u001b[0;32m   (...)\u001b[0m\n\u001b[1;32m     49\u001b[0m         )\n\u001b[1;32m     50\u001b[0m     )\n\u001b[0;32m---> 51\u001b[0m \u001b[38;5;28;01mreturn\u001b[39;00m \u001b[43mfunc\u001b[49m\u001b[43m(\u001b[49m\u001b[38;5;241;43m*\u001b[39;49m\u001b[43margs\u001b[49m\u001b[43m,\u001b[49m\u001b[43m \u001b[49m\u001b[38;5;241;43m*\u001b[39;49m\u001b[38;5;241;43m*\u001b[39;49m\u001b[43mkwargs\u001b[49m\u001b[43m)\u001b[49m\n",
      "File \u001b[0;32m~/Repositories/temp/office2/AIAgents4Pharma/venv/lib/python3.12/site-packages/cudf/core/dataframe.py:4354\u001b[0m, in \u001b[0;36mDataFrame.merge\u001b[0;34m(self, right, how, on, left_on, right_on, left_index, right_index, sort, suffixes, indicator, validate)\u001b[0m\n\u001b[1;32m   4339\u001b[0m \u001b[38;5;28;01melif\u001b[39;00m how \u001b[38;5;129;01min\u001b[39;00m {\u001b[38;5;124m\"\u001b[39m\u001b[38;5;124mleftsemi\u001b[39m\u001b[38;5;124m\"\u001b[39m, \u001b[38;5;124m\"\u001b[39m\u001b[38;5;124mleftanti\u001b[39m\u001b[38;5;124m\"\u001b[39m}:\n\u001b[1;32m   4340\u001b[0m     merge_cls \u001b[38;5;241m=\u001b[39m MergeSemi\n\u001b[1;32m   4342\u001b[0m \u001b[38;5;28;01mreturn\u001b[39;00m \u001b[43mmerge_cls\u001b[49m\u001b[43m(\u001b[49m\n\u001b[1;32m   4343\u001b[0m \u001b[43m    \u001b[49m\u001b[43mlhs\u001b[49m\u001b[43m,\u001b[49m\n\u001b[1;32m   4344\u001b[0m \u001b[43m    \u001b[49m\u001b[43mrhs\u001b[49m\u001b[43m,\u001b[49m\n\u001b[1;32m   4345\u001b[0m \u001b[43m    \u001b[49m\u001b[43mon\u001b[49m\u001b[38;5;241;43m=\u001b[39;49m\u001b[43mon\u001b[49m\u001b[43m,\u001b[49m\n\u001b[1;32m   4346\u001b[0m \u001b[43m    \u001b[49m\u001b[43mleft_on\u001b[49m\u001b[38;5;241;43m=\u001b[39;49m\u001b[43mleft_on\u001b[49m\u001b[43m,\u001b[49m\n\u001b[1;32m   4347\u001b[0m \u001b[43m    \u001b[49m\u001b[43mright_on\u001b[49m\u001b[38;5;241;43m=\u001b[39;49m\u001b[43mright_on\u001b[49m\u001b[43m,\u001b[49m\n\u001b[1;32m   4348\u001b[0m \u001b[43m    \u001b[49m\u001b[43mleft_index\u001b[49m\u001b[38;5;241;43m=\u001b[39;49m\u001b[43mleft_index\u001b[49m\u001b[43m,\u001b[49m\n\u001b[1;32m   4349\u001b[0m \u001b[43m    \u001b[49m\u001b[43mright_index\u001b[49m\u001b[38;5;241;43m=\u001b[39;49m\u001b[43mright_index\u001b[49m\u001b[43m,\u001b[49m\n\u001b[1;32m   4350\u001b[0m \u001b[43m    \u001b[49m\u001b[43mhow\u001b[49m\u001b[38;5;241;43m=\u001b[39;49m\u001b[43mhow\u001b[49m\u001b[43m,\u001b[49m\n\u001b[1;32m   4351\u001b[0m \u001b[43m    \u001b[49m\u001b[43msort\u001b[49m\u001b[38;5;241;43m=\u001b[39;49m\u001b[43msort\u001b[49m\u001b[43m,\u001b[49m\n\u001b[1;32m   4352\u001b[0m \u001b[43m    \u001b[49m\u001b[43mindicator\u001b[49m\u001b[38;5;241;43m=\u001b[39;49m\u001b[43mindicator\u001b[49m\u001b[43m,\u001b[49m\n\u001b[1;32m   4353\u001b[0m \u001b[43m    \u001b[49m\u001b[43msuffixes\u001b[49m\u001b[38;5;241;43m=\u001b[39;49m\u001b[43msuffixes\u001b[49m\u001b[43m,\u001b[49m\n\u001b[0;32m-> 4354\u001b[0m \u001b[43m\u001b[49m\u001b[43m)\u001b[49m\u001b[38;5;241;43m.\u001b[39;49m\u001b[43mperform_merge\u001b[49m\u001b[43m(\u001b[49m\u001b[43m)\u001b[49m\n",
      "File \u001b[0;32m~/Repositories/temp/office2/AIAgents4Pharma/venv/lib/python3.12/site-packages/cudf/core/join/join.py:311\u001b[0m, in \u001b[0;36mMerge.perform_merge\u001b[0;34m(self)\u001b[0m\n\u001b[1;32m    308\u001b[0m     right_key\u001b[38;5;241m.\u001b[39mset(\u001b[38;5;28mself\u001b[39m\u001b[38;5;241m.\u001b[39mrhs, rcol_casted)\n\u001b[1;32m    310\u001b[0m \u001b[38;5;28;01mif\u001b[39;00m \u001b[38;5;28mself\u001b[39m\u001b[38;5;241m.\u001b[39mhow \u001b[38;5;241m==\u001b[39m \u001b[38;5;124m\"\u001b[39m\u001b[38;5;124mcross\u001b[39m\u001b[38;5;124m\"\u001b[39m:\n\u001b[0;32m--> 311\u001b[0m     lib_table \u001b[38;5;241m=\u001b[39m \u001b[43mplc\u001b[49m\u001b[38;5;241;43m.\u001b[39;49m\u001b[43mjoin\u001b[49m\u001b[38;5;241;43m.\u001b[39;49m\u001b[43mcross_join\u001b[49m\u001b[43m(\u001b[49m\n\u001b[1;32m    312\u001b[0m \u001b[43m        \u001b[49m\u001b[43mplc\u001b[49m\u001b[38;5;241;43m.\u001b[39;49m\u001b[43mTable\u001b[49m\u001b[43m(\u001b[49m\n\u001b[1;32m    313\u001b[0m \u001b[43m            \u001b[49m\u001b[43m[\u001b[49m\n\u001b[1;32m    314\u001b[0m \u001b[43m                \u001b[49m\u001b[43mcol\u001b[49m\u001b[38;5;241;43m.\u001b[39;49m\u001b[43mto_pylibcudf\u001b[49m\u001b[43m(\u001b[49m\u001b[43mmode\u001b[49m\u001b[38;5;241;43m=\u001b[39;49m\u001b[38;5;124;43m\"\u001b[39;49m\u001b[38;5;124;43mread\u001b[39;49m\u001b[38;5;124;43m\"\u001b[39;49m\u001b[43m)\u001b[49m\n\u001b[1;32m    315\u001b[0m \u001b[43m                \u001b[49m\u001b[38;5;28;43;01mfor\u001b[39;49;00m\u001b[43m \u001b[49m\u001b[43mcol\u001b[49m\u001b[43m \u001b[49m\u001b[38;5;129;43;01min\u001b[39;49;00m\u001b[43m \u001b[49m\u001b[38;5;28;43mself\u001b[39;49m\u001b[38;5;241;43m.\u001b[39;49m\u001b[43mlhs\u001b[49m\u001b[38;5;241;43m.\u001b[39;49m\u001b[43m_columns\u001b[49m\n\u001b[1;32m    316\u001b[0m \u001b[43m            \u001b[49m\u001b[43m]\u001b[49m\n\u001b[1;32m    317\u001b[0m \u001b[43m        \u001b[49m\u001b[43m)\u001b[49m\u001b[43m,\u001b[49m\n\u001b[1;32m    318\u001b[0m \u001b[43m        \u001b[49m\u001b[43mplc\u001b[49m\u001b[38;5;241;43m.\u001b[39;49m\u001b[43mTable\u001b[49m\u001b[43m(\u001b[49m\n\u001b[1;32m    319\u001b[0m \u001b[43m            \u001b[49m\u001b[43m[\u001b[49m\n\u001b[1;32m    320\u001b[0m \u001b[43m                \u001b[49m\u001b[43mcol\u001b[49m\u001b[38;5;241;43m.\u001b[39;49m\u001b[43mto_pylibcudf\u001b[49m\u001b[43m(\u001b[49m\u001b[43mmode\u001b[49m\u001b[38;5;241;43m=\u001b[39;49m\u001b[38;5;124;43m\"\u001b[39;49m\u001b[38;5;124;43mread\u001b[39;49m\u001b[38;5;124;43m\"\u001b[39;49m\u001b[43m)\u001b[49m\n\u001b[1;32m    321\u001b[0m \u001b[43m                \u001b[49m\u001b[38;5;28;43;01mfor\u001b[39;49;00m\u001b[43m \u001b[49m\u001b[43mcol\u001b[49m\u001b[43m \u001b[49m\u001b[38;5;129;43;01min\u001b[39;49;00m\u001b[43m \u001b[49m\u001b[38;5;28;43mself\u001b[39;49m\u001b[38;5;241;43m.\u001b[39;49m\u001b[43mrhs\u001b[49m\u001b[38;5;241;43m.\u001b[39;49m\u001b[43m_columns\u001b[49m\n\u001b[1;32m    322\u001b[0m \u001b[43m            \u001b[49m\u001b[43m]\u001b[49m\n\u001b[1;32m    323\u001b[0m \u001b[43m        \u001b[49m\u001b[43m)\u001b[49m\u001b[43m,\u001b[49m\n\u001b[1;32m    324\u001b[0m \u001b[43m    \u001b[49m\u001b[43m)\u001b[49m\n\u001b[1;32m    325\u001b[0m     columns \u001b[38;5;241m=\u001b[39m lib_table\u001b[38;5;241m.\u001b[39mcolumns()\n\u001b[1;32m    326\u001b[0m     left_names, right_names \u001b[38;5;241m=\u001b[39m (\n\u001b[1;32m    327\u001b[0m         \u001b[38;5;28mself\u001b[39m\u001b[38;5;241m.\u001b[39mlhs\u001b[38;5;241m.\u001b[39m_column_names,\n\u001b[1;32m    328\u001b[0m         \u001b[38;5;28mself\u001b[39m\u001b[38;5;241m.\u001b[39mrhs\u001b[38;5;241m.\u001b[39m_column_names,\n\u001b[1;32m    329\u001b[0m     )\n",
      "File \u001b[0;32mjoin.pyx:215\u001b[0m, in \u001b[0;36mpylibcudf.join.cross_join\u001b[0;34m()\u001b[0m\n",
      "File \u001b[0;32mjoin.pyx:234\u001b[0m, in \u001b[0;36mpylibcudf.join.cross_join\u001b[0;34m()\u001b[0m\n",
      "\u001b[0;31mMemoryError\u001b[0m: std::bad_alloc: out_of_memory: CUDA error (failed to allocate 1779554560 bytes) at: /pyenv/versions/3.12.9/lib/python3.12/site-packages/librmm/include/rmm/mr/device/cuda_memory_resource.hpp:62: cudaErrorMemoryAllocation out of memory"
     ]
    }
   ],
   "source": [
    "unified_edges_df = graph_dict[\"edges\"][\"enrichment\"].merge(\n",
    "    graph_dict[\"edges\"][\"embedding\"],\n",
    "    on=[\"edge_type_str\"],\n",
    "    how=\"cross\"\n",
    ")"
   ]
  },
  {
   "cell_type": "code",
   "execution_count": null,
   "id": "ba9833fc",
   "metadata": {},
   "outputs": [
    {
     "name": "stdout",
     "output_type": "stream",
     "text": [
      "Node type: molecular_function\n",
      "Number of nodes: 10951\n",
      "===\n",
      "Node type: disease\n",
      "Number of nodes: 17054\n",
      "===\n",
      "Node type: drug\n",
      "Number of nodes: 6759\n",
      "===\n",
      "Node type: biological_process\n",
      "Number of nodes: 27409\n",
      "===\n",
      "Node type: cellular_component\n",
      "Number of nodes: 4011\n",
      "===\n",
      "Node type: gene/protein\n",
      "Number of nodes: 18797\n",
      "===\n"
     ]
    }
   ],
   "source": [
    "import torch\n",
    "from torch_geometric.data import TensorAttr\n",
    "from cugraph_pyg.data import CuGraphStore, TensorDictFeatureStore\n",
    "\n",
    "# Create and initialize FeatureStore for each column that can be used as a feature\n",
    "mapper = {}\n",
    "fs = TensorDictFeatureStore()\n",
    "for nt in graph_dict['nodes']['enrichment'].node_type.unique().to_arrow().to_pylist():\n",
    "    print(f\"Node type: {nt}\")\n",
    "    nodes_df = graph_dict['nodes']['enrichment'][graph_dict['nodes']['enrichment'].node_type == nt]\n",
    "    print(f\"Number of nodes: {len(nodes_df)}\")\n",
    "\n",
    "    # Node Index\n",
    "    node_index = nodes_df[\"node_index\"].to_arrow().to_pylist()\n",
    "    mapper[nt] = {}\n",
    "    mapper[nt]['to_node_index'] = {i: node_index[i] for i in range(len(node_index))}\n",
    "    mapper[nt]['from_node_index'] = {node_index[i]: i for i in range(len(node_index))}\n",
    "    fs[TensorAttr(group_name=nt, \n",
    "                    attr_name=\"node_index\")] = torch.tensor(node_index, dtype=torch.int64)\n",
    "    \n",
    "    # Node Features\n",
    "    nodes_emb_df = graph_dict['nodes']['embedding'][graph_dict['nodes']['embedding'].node_id.isin(nodes_df.node_id)]\n",
    "    fs[TensorAttr(group_name=nt,\n",
    "                  attr_name=\"desc_emb\")] = torch.tensor(nodes_emb_df[\"desc_emb\"].to_arrow().to_pylist(), dtype=torch.float32)\n",
    "    fs[TensorAttr(group_name=nt,\n",
    "                  attr_name=\"feat_emb\")] = torch.tensor(nodes_emb_df[\"feat_emb\"].to_arrow().to_pylist(), dtype=torch.float32)\n"
   ]
  },
  {
   "cell_type": "code",
   "execution_count": 117,
   "id": "be87db02",
   "metadata": {},
   "outputs": [],
   "source": [
    "# Get nodes enrichment and embedding dataframes\n",
    "enrichment_df = graph_dict['nodes']['enrichment']\n",
    "embedding_df = graph_dict['nodes']['embedding']\n",
    "\n",
    "# Convert node_id columns once to set\n",
    "embedding_node_ids = set(embedding_df['node_id'].to_pandas())\n"
   ]
  },
  {
   "cell_type": "code",
   "execution_count": null,
   "id": "6f5e5609",
   "metadata": {},
   "outputs": [
    {
     "name": "stderr",
     "output_type": "stream",
     "text": [
      "/home/awmulyadi/Repositories/temp/office2/AIAgents4Pharma/venv/lib/python3.12/site-packages/cugraph_pyg/data/__init__.py:27: FutureWarning: TensorDictFeatureStore is deprecated.  Consider changing your workflow to launch using 'torchrun' and store data in the faster and more memory-efficient WholeFeatureStore instead.\n",
      "  warnings.warn(\n"
     ]
    },
    {
     "name": "stdout",
     "output_type": "stream",
     "text": [
      "Node type: biological_process\n",
      "Number of nodes: 27409\n"
     ]
    },
    {
     "name": "stderr",
     "output_type": "stream",
     "text": [
      "/home/awmulyadi/Repositories/temp/office2/AIAgents4Pharma/venv/lib/python3.12/site-packages/cugraph_pyg/data/feature_store.py:67: UserWarning: Ignoring index parameter (attribute does not exist for group biological_process)\n",
      "  warnings.warn(\n"
     ]
    },
    {
     "name": "stdout",
     "output_type": "stream",
     "text": [
      "Node type: cellular_component\n",
      "Number of nodes: 4011\n"
     ]
    },
    {
     "name": "stderr",
     "output_type": "stream",
     "text": [
      "/home/awmulyadi/Repositories/temp/office2/AIAgents4Pharma/venv/lib/python3.12/site-packages/cugraph_pyg/data/feature_store.py:67: UserWarning: Ignoring index parameter (attribute does not exist for group cellular_component)\n",
      "  warnings.warn(\n"
     ]
    },
    {
     "name": "stdout",
     "output_type": "stream",
     "text": [
      "Node type: disease\n",
      "Number of nodes: 17054\n"
     ]
    },
    {
     "name": "stderr",
     "output_type": "stream",
     "text": [
      "/home/awmulyadi/Repositories/temp/office2/AIAgents4Pharma/venv/lib/python3.12/site-packages/cugraph_pyg/data/feature_store.py:67: UserWarning: Ignoring index parameter (attribute does not exist for group disease)\n",
      "  warnings.warn(\n"
     ]
    },
    {
     "name": "stdout",
     "output_type": "stream",
     "text": [
      "Node type: drug\n",
      "Number of nodes: 6759\n"
     ]
    },
    {
     "name": "stderr",
     "output_type": "stream",
     "text": [
      "/home/awmulyadi/Repositories/temp/office2/AIAgents4Pharma/venv/lib/python3.12/site-packages/cugraph_pyg/data/feature_store.py:67: UserWarning: Ignoring index parameter (attribute does not exist for group drug)\n",
      "  warnings.warn(\n"
     ]
    },
    {
     "name": "stdout",
     "output_type": "stream",
     "text": [
      "Node type: gene/protein\n",
      "Number of nodes: 18797\n"
     ]
    },
    {
     "name": "stderr",
     "output_type": "stream",
     "text": [
      "/home/awmulyadi/Repositories/temp/office2/AIAgents4Pharma/venv/lib/python3.12/site-packages/cugraph_pyg/data/feature_store.py:67: UserWarning: Ignoring index parameter (attribute does not exist for group gene/protein)\n",
      "  warnings.warn(\n"
     ]
    },
    {
     "name": "stdout",
     "output_type": "stream",
     "text": [
      "Node type: molecular_function\n",
      "Number of nodes: 10951\n"
     ]
    },
    {
     "name": "stderr",
     "output_type": "stream",
     "text": [
      "/home/awmulyadi/Repositories/temp/office2/AIAgents4Pharma/venv/lib/python3.12/site-packages/cugraph_pyg/data/feature_store.py:67: UserWarning: Ignoring index parameter (attribute does not exist for group molecular_function)\n",
      "  warnings.warn(\n"
     ]
    }
   ],
   "source": [
    "import torch\n",
    "import cudf\n",
    "from torch_geometric.data import TensorAttr\n",
    "from cugraph_pyg.data import TensorDictFeatureStore\n",
    "\n",
    "# Initialize FeatureStore and mapper\n",
    "fs = TensorDictFeatureStore()\n",
    "mapper = {}\n",
    "\n",
    "# Get nodes enrichment and embedding dataframes\n",
    "nodes_enrichment_df = graph_dict['nodes']['enrichment']\n",
    "nodes_embedding_df = graph_dict['nodes']['embedding']\n",
    "\n",
    "# Get node_ids\n",
    "embedding_node_ids = set(nodes_embedding_df['node_id'].to_pandas())\n",
    "\n",
    "# Loop over group enrichment nodes by type \n",
    "for nt, nodes_df in nodes_enrichment_df.groupby('node_type'):\n",
    "    print(f\"Node type: {nt}\")\n",
    "    node_count = len(nodes_df)\n",
    "    print(f\"Number of nodes: {node_count}\")\n",
    "\n",
    "    # Get node_index as torch tensor directly\n",
    "    node_index_tensor = torch.tensor(nodes_df[\"node_index\"].to_numpy(), dtype=torch.int64)\n",
    "    fs[TensorAttr(group_name=nt, attr_name=\"node_index\")] = node_index_tensor\n",
    "\n",
    "    # Construct mapper for node_index\n",
    "    node_index_list = node_index_tensor.tolist()\n",
    "    mapper[nt] = {\n",
    "        'to_node_index': dict(enumerate(node_index_list)),\n",
    "        'from_node_index': {v: i for i, v in enumerate(node_index_list)}\n",
    "    }\n",
    "\n",
    "    # Filter embeddings once by node_id\n",
    "    mask = nodes_embedding_df['node_id'].isin(set(nodes_df['node_id'].to_pandas()))\n",
    "    nodes_emb_df = nodes_embedding_df[mask]\n",
    "\n",
    "    # Convert embeddings as tensors and add to FeatureStore\n",
    "    for attr_name in [\"desc_emb\", \"feat_emb\"]:\n",
    "        emb_tensor = torch.tensor(nodes_emb_df[attr_name].to_arrow().to_pylist(), dtype=torch.float32)\n",
    "        fs[TensorAttr(group_name=nt, attr_name=attr_name)] = emb_tensor\n"
   ]
  },
  {
   "cell_type": "code",
   "execution_count": 236,
   "id": "e93fe0f9",
   "metadata": {},
   "outputs": [
    {
     "name": "stderr",
     "output_type": "stream",
     "text": [
      "/home/awmulyadi/Repositories/temp/office2/AIAgents4Pharma/venv/lib/python3.12/site-packages/cugraph_pyg/data/__init__.py:27: FutureWarning: TensorDictFeatureStore is deprecated.  Consider changing your workflow to launch using 'torchrun' and store data in the faster and more memory-efficient WholeFeatureStore instead.\n",
      "  warnings.warn(\n"
     ]
    },
    {
     "name": "stdout",
     "output_type": "stream",
     "text": [
      "Node type: biological_process\n",
      "Number of nodes: 27409\n"
     ]
    },
    {
     "name": "stderr",
     "output_type": "stream",
     "text": [
      "/home/awmulyadi/Repositories/temp/office2/AIAgents4Pharma/venv/lib/python3.12/site-packages/cugraph_pyg/data/feature_store.py:67: UserWarning: Ignoring index parameter (attribute does not exist for group biological_process)\n",
      "  warnings.warn(\n"
     ]
    },
    {
     "name": "stdout",
     "output_type": "stream",
     "text": [
      "Node type: cellular_component\n",
      "Number of nodes: 4011\n"
     ]
    },
    {
     "name": "stderr",
     "output_type": "stream",
     "text": [
      "/home/awmulyadi/Repositories/temp/office2/AIAgents4Pharma/venv/lib/python3.12/site-packages/cugraph_pyg/data/feature_store.py:67: UserWarning: Ignoring index parameter (attribute does not exist for group cellular_component)\n",
      "  warnings.warn(\n"
     ]
    },
    {
     "name": "stdout",
     "output_type": "stream",
     "text": [
      "Node type: disease\n",
      "Number of nodes: 17054\n"
     ]
    },
    {
     "name": "stderr",
     "output_type": "stream",
     "text": [
      "/home/awmulyadi/Repositories/temp/office2/AIAgents4Pharma/venv/lib/python3.12/site-packages/cugraph_pyg/data/feature_store.py:67: UserWarning: Ignoring index parameter (attribute does not exist for group disease)\n",
      "  warnings.warn(\n"
     ]
    },
    {
     "name": "stdout",
     "output_type": "stream",
     "text": [
      "Node type: drug\n",
      "Number of nodes: 6759\n"
     ]
    },
    {
     "name": "stderr",
     "output_type": "stream",
     "text": [
      "/home/awmulyadi/Repositories/temp/office2/AIAgents4Pharma/venv/lib/python3.12/site-packages/cugraph_pyg/data/feature_store.py:67: UserWarning: Ignoring index parameter (attribute does not exist for group drug)\n",
      "  warnings.warn(\n"
     ]
    },
    {
     "name": "stdout",
     "output_type": "stream",
     "text": [
      "Node type: gene/protein\n",
      "Number of nodes: 18797\n"
     ]
    },
    {
     "name": "stderr",
     "output_type": "stream",
     "text": [
      "/home/awmulyadi/Repositories/temp/office2/AIAgents4Pharma/venv/lib/python3.12/site-packages/cugraph_pyg/data/feature_store.py:67: UserWarning: Ignoring index parameter (attribute does not exist for group gene/protein)\n",
      "  warnings.warn(\n"
     ]
    },
    {
     "name": "stdout",
     "output_type": "stream",
     "text": [
      "Node type: molecular_function\n",
      "Number of nodes: 10951\n"
     ]
    },
    {
     "name": "stderr",
     "output_type": "stream",
     "text": [
      "/home/awmulyadi/Repositories/temp/office2/AIAgents4Pharma/venv/lib/python3.12/site-packages/cugraph_pyg/data/feature_store.py:67: UserWarning: Ignoring index parameter (attribute does not exist for group molecular_function)\n",
      "  warnings.warn(\n"
     ]
    }
   ],
   "source": [
    "import torch\n",
    "import cudf\n",
    "from torch_geometric.data import TensorAttr\n",
    "from cugraph_pyg.data import GraphStore, TensorDictFeatureStore\n",
    "# cugraph_pyg.data.GraphStore()\n",
    "# Initialize FeatureStore and mapper\n",
    "fs = TensorDictFeatureStore()\n",
    "mapper = {}\n",
    "\n",
    "# Get nodes enrichment and embedding dataframes\n",
    "nodes_enrichment_df = graph_dict['nodes']['enrichment']\n",
    "nodes_embedding_df = graph_dict['nodes']['embedding']\n",
    "\n",
    "# Loop over group enrichment nodes by type \n",
    "for nt, nodes_df in nodes_enrichment_df.groupby('node_type'):\n",
    "    print(f\"Node type: {nt}\")\n",
    "    node_count = len(nodes_df)\n",
    "    print(f\"Number of nodes: {node_count}\")\n",
    "\n",
    "\n",
    "    # Get node_ids\n",
    "    emb_df = nodes_embedding_df[nodes_embedding_df['node_id'].isin(nodes_df['node_id'])]\n",
    "\n",
    "    # Sort both by node_id for alignment\n",
    "    nodes_df_sorted = nodes_df.sort_values('node_id')\n",
    "    emb_df_sorted = emb_df.sort_values('node_id')\n",
    "\n",
    "    # Ensure sorted node_ids match\n",
    "    assert cudf.Series.equals(nodes_df_sorted['node_id'].reset_index(drop=True),\n",
    "                              emb_df_sorted['node_id'].reset_index(drop=True)), \\\n",
    "                                f\"Node ID mismatch in {nt} after sorting\"\n",
    "\n",
    "    # Get node_index as torch tensor directly\n",
    "    node_index_tensor = torch.tensor(nodes_df_sorted[\"node_index\"].to_numpy(), dtype=torch.int64)\n",
    "    fs[TensorAttr(group_name=nt, attr_name=\"node_index\")] = node_index_tensor\n",
    "\n",
    "    # # Construct mapper for node_index\n",
    "    node_index_list = nodes_df_sorted[\"node_index\"].to_numpy().tolist()\n",
    "    mapper[nt] = {\n",
    "        'to_node_index': dict(enumerate(node_index_list)),\n",
    "        'from_node_index': {v: i for i, v in enumerate(node_index_list)}\n",
    "    }\n",
    "\n",
    "    # Convert embeddings as tensors and add to FeatureStore\n",
    "    for attr_name in [\"desc_emb\", \"feat_emb\"]:\n",
    "        emb_tensor = torch.tensor(emb_df_sorted[attr_name].to_arrow().to_pylist(), dtype=torch.float32)\n",
    "        fs[TensorAttr(group_name=nt, attr_name=attr_name)] = emb_tensor\n"
   ]
  },
  {
   "cell_type": "code",
   "execution_count": 237,
   "id": "8c5533d6",
   "metadata": {},
   "outputs": [],
   "source": [
    "# Initialize GraphStore\n",
    "gs = GraphStore()\n",
    "\n",
    "# Get edges enrichment and embedding dataframes\n",
    "edges_enrichment_df = graph_dict['edges']['enrichment']\n",
    "edges_embedding_df = graph_dict['edges']['embedding']\n",
    "\n",
    "# Loop over edge types \n",
    "for edge_type_str in edges_enrichment_df['edge_type_str'].unique().to_arrow().to_pylist():\n",
    "    src_type, rel_type, tgt_type = edge_type_str.split('|')\n",
    "\n",
    "    # Filter edges for this edge_type_str once\n",
    "    filtered_df = edges_enrichment_df[edges_enrichment_df['edge_type_str'] == edge_type_str][['head_index', 'tail_index']]\n",
    "\n",
    "    # Convert mapper dicts to cudf Series for vectorized mapping\n",
    "    src_map = cudf.Series(mapper[src_type]['from_node_index'])\n",
    "    tgt_map = cudf.Series(mapper[tgt_type]['from_node_index'])\n",
    "\n",
    "    # Vectorized mapping of head_index and tail_index using replace (works like dict lookup)\n",
    "    mapped_head = filtered_df['head_index'].replace(src_map).astype('int64')\n",
    "    mapped_tail = filtered_df['tail_index'].replace(tgt_map).astype('int64')\n",
    "\n",
    "    # Check if mapping was successful\n",
    "    if mapped_head.isnull().any() or mapped_tail.isnull().any():\n",
    "            raise ValueError(f\"Mapping failure for edge type {edge_type_str}\")\n",
    "\n",
    "    # Edge index\n",
    "    edge_index = torch.tensor(\n",
    "        cudf.concat([mapped_head, mapped_tail], axis=1).to_pandas().values.T,\n",
    "        dtype=torch.long\n",
    "    ).contiguous()\n",
    "\n",
    "    # Store edge index in the GraphStore\n",
    "    gs[(src_type, rel_type, tgt_type), \"coo\"] = edge_index\n",
    "\n",
    "\n",
    "    # Store edge embeddings in the FeatureStore\n",
    "    edge_emb_df = edges_embedding_df[edges_embedding_df['edge_type_str'] == edge_type_str]\n",
    "\n",
    "    # Convert edge embeddings to torch tensor\n",
    "    edge_emb_tensor = torch.tensor(edge_emb_df['edge_emb'].to_arrow().to_pylist(), dtype=torch.float32)\n",
    "    fs[TensorAttr(group_name=(src_type, rel_type, tgt_type), attr_name='edge_emb')] = edge_emb_tensor\n"
   ]
  },
  {
   "cell_type": "code",
   "execution_count": null,
   "id": "b8a010a6",
   "metadata": {},
   "outputs": [],
   "source": []
  },
  {
   "cell_type": "code",
   "execution_count": null,
   "id": "7ab91e9c",
   "metadata": {},
   "outputs": [],
   "source": []
  },
  {
   "cell_type": "code",
   "execution_count": null,
   "id": "4fe1c91c",
   "metadata": {},
   "outputs": [],
   "source": []
  },
  {
   "cell_type": "code",
   "execution_count": null,
   "id": "771d0fa6",
   "metadata": {},
   "outputs": [],
   "source": []
  },
  {
   "cell_type": "code",
   "execution_count": null,
   "id": "905cef61",
   "metadata": {},
   "outputs": [],
   "source": []
  }
 ],
 "metadata": {
  "kernelspec": {
   "display_name": "venv",
   "language": "python",
   "name": "python3"
  },
  "language_info": {
   "codemirror_mode": {
    "name": "ipython",
    "version": 3
   },
   "file_extension": ".py",
   "mimetype": "text/x-python",
   "name": "python",
   "nbconvert_exporter": "python",
   "pygments_lexer": "ipython3",
   "version": "3.12.10"
  }
 },
 "nbformat": 4,
 "nbformat_minor": 5
}
