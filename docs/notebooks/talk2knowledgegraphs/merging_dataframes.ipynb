{
 "cells": [
  {
   "cell_type": "code",
   "execution_count": 1,
   "id": "1f89f526",
   "metadata": {},
   "outputs": [
    {
     "name": "stderr",
     "output_type": "stream",
     "text": [
      "/home/awmulyadi/Repositories/temp/office2/AIAgents4Pharma/venv/lib/python3.12/site-packages/tqdm/auto.py:21: TqdmWarning: IProgress not found. Please update jupyter and ipywidgets. See https://ipywidgets.readthedocs.io/en/stable/user_install.html\n",
      "  from .autonotebook import tqdm as notebook_tqdm\n",
      "/home/awmulyadi/Repositories/temp/office2/AIAgents4Pharma/venv/lib/python3.12/site-packages/torch_geometric/typing.py:86: UserWarning: An issue occurred while importing 'torch-scatter'. Disabling its usage. Stacktrace: /home/awmulyadi/Repositories/temp/office2/AIAgents4Pharma/venv/lib/python3.12/site-packages/torch_scatter/_version_cuda.so: undefined symbol: _ZN5torch3jit17parseSchemaOrNameERKSsb\n",
      "  warnings.warn(f\"An issue occurred while importing 'torch-scatter'. \"\n",
      "/home/awmulyadi/Repositories/temp/office2/AIAgents4Pharma/venv/lib/python3.12/site-packages/torch_geometric/typing.py:124: UserWarning: An issue occurred while importing 'torch-sparse'. Disabling its usage. Stacktrace: /home/awmulyadi/Repositories/temp/office2/AIAgents4Pharma/venv/lib/python3.12/site-packages/torch_sparse/_version_cuda.so: undefined symbol: _ZN5torch3jit17parseSchemaOrNameERKSsb\n",
      "  warnings.warn(f\"An issue occurred while importing 'torch-sparse'. \"\n",
      "/home/awmulyadi/Repositories/temp/office2/AIAgents4Pharma/venv/lib/python3.12/site-packages/tensordict/_pytree.py:180: UserWarning: torch.utils._pytree._register_pytree_node is deprecated. Please use torch.utils._pytree.register_pytree_node instead.\n",
      "  register_pytree_node(\n",
      "/home/awmulyadi/Repositories/temp/office2/AIAgents4Pharma/venv/lib/python3.12/site-packages/tensordict/_pytree.py:199: UserWarning: torch.utils._pytree._register_pytree_node is deprecated. Please use torch.utils._pytree.register_pytree_node instead.\n",
      "  register_pytree_node(\n"
     ]
    }
   ],
   "source": [
    "import os\n",
    "import glob\n",
    "import cudf\n",
    "import dask_cudf\n",
    "import hydra\n",
    "\n",
    "import sys\n",
    "sys.path.append('../../..')\n",
    "from aiagents4pharma.talk2knowledgegraphs.utils.embeddings.ollama import EmbeddingWithOllama"
   ]
  },
  {
   "cell_type": "code",
   "execution_count": 2,
   "id": "8ee6c673",
   "metadata": {},
   "outputs": [
    {
     "data": {
      "text/plain": [
       "{'_target_': 'talk2knowledgegraphs.tools.multimodal_subgraph_extraction', 'ollama_embeddings': ['nomic-embed-text'], 'temperature': 0.1, 'streaming': False, 'topk': 5, 'topk_e': 5, 'cost_e': 0.5, 'c_const': 0.01, 'root': -1, 'num_clusters': 1, 'pruning': 'gw', 'verbosity_level': 0, 'node_id_column': 'node_id', 'node_attr_column': 'node_attr', 'edge_src_column': 'edge_src', 'edge_attr_column': 'edge_attr', 'edge_dst_column': 'edge_dst', 'node_colors_dict': {'gene/protein': '#6a79f7', 'molecular_function': '#82cafc', 'cellular_component': '#3f9b0b', 'biological_process': '#c5c9c7', 'drug': '#c4a661', 'disease': '#80013f'}, 'biobridge': {'source': 'aiagents4pharma/talk2knowledgegraphs/tests/files/ibd_biobridge_multimodal/', 'node_type': ['gene/protein', 'molecular_function', 'cellular_component', 'biological_process', 'drug', 'disease']}}"
      ]
     },
     "execution_count": 2,
     "metadata": {},
     "output_type": "execute_result"
    }
   ],
   "source": [
    "# Load hydra configuration\n",
    "with hydra.initialize(version_base=None, config_path=\"../../../aiagents4pharma/talk2knowledgegraphs/configs\"):\n",
    "    cfg = hydra.compose(\n",
    "        config_name=\"config\", overrides=[\"tools/multimodal_subgraph_extraction=default\"]\n",
    "    )\n",
    "    cfg = cfg.tools.multimodal_subgraph_extraction\n",
    "cfg"
   ]
  },
  {
   "cell_type": "code",
   "execution_count": 3,
   "id": "f685829b",
   "metadata": {},
   "outputs": [],
   "source": [
    "cfg.biobridge.source = \"aiagents4pharma/talk2knowledgegraphs/tests/files/ibd_biobridge_multimodal\""
   ]
  },
  {
   "cell_type": "code",
   "execution_count": 4,
   "id": "ae0cba6e",
   "metadata": {},
   "outputs": [
    {
     "name": "stdout",
     "output_type": "stream",
     "text": [
      "nodes enrichment\n",
      "nodes embedding\n",
      "edges enrichment\n",
      "edges embedding\n"
     ]
    }
   ],
   "source": [
    "# Loop over nodes and edges\n",
    "graph_dict = {}\n",
    "for element in [\"nodes\", \"edges\"]:\n",
    "    # Make an empty dictionary for each folder\n",
    "    graph_dict[element] = {}\n",
    "    for stage in [\"enrichment\", \"embedding\"]:\n",
    "        print(element, stage)\n",
    "        # Create the file pattern for the current subfolder\n",
    "        file_list = glob.glob(os.path.join('../../../', \n",
    "                                           cfg.biobridge.source, \n",
    "                                           element, \n",
    "                                           stage, '*.parquet.gzip'))\n",
    "        # if element != \"edges\" and stage == \"embedding\":\n",
    "        # Read and concatenate all dataframes in the folder\n",
    "        graph_dict[element][stage] = cudf.concat([cudf.read_parquet(f) for f in file_list], ignore_index=True)"
   ]
  },
  {
   "cell_type": "code",
   "execution_count": 5,
   "id": "8587716c",
   "metadata": {},
   "outputs": [],
   "source": [
    "# unified_nodes_df = graph_dict[\"nodes\"][\"enrichment\"].merge(\n",
    "#     graph_dict[\"nodes\"][\"embedding\"],\n",
    "#     on=[\"node_id\"],\n",
    "#     how=\"left\"\n",
    "# )\n",
    "# unified_nodes_df.head(5)"
   ]
  },
  {
   "cell_type": "code",
   "execution_count": 6,
   "id": "e09c7436",
   "metadata": {},
   "outputs": [],
   "source": [
    "# # Perform mini batch merging of edges \n",
    "# from tqdm import tqdm\n",
    "# import pandas as pd\n",
    "\n",
    "# mini_batch_size = 10000\n",
    "# df = pd.DataFrame()\n",
    "# # Iterate over the edges in mini-batches\n",
    "# for i in tqdm(range(0, graph_dict[\"edges\"][\"enrichment\"].shape[0], mini_batch_size)):\n",
    "#     u_df = graph_dict[\"edges\"][\"enrichment\"][i:i+mini_batch_size].merge(\n",
    "#         graph_dict[\"edges\"][\"embedding\"],\n",
    "#         on=[\"edge_type_str\"],\n",
    "#         how=\"left\"\n",
    "#     ).to_pandas()\n",
    "#     df = pd.concat([df, u_df], ignore_index=True)\n",
    "# df.head(5)"
   ]
  },
  {
   "cell_type": "code",
   "execution_count": 7,
   "id": "ada15eaa",
   "metadata": {},
   "outputs": [],
   "source": [
    "# from tqdm import tqdm\n",
    "# import pandas as pd\n",
    "\n",
    "# mini_batch_size = 10000\n",
    "# dfs = []\n",
    "\n",
    "# for i in tqdm(range(0, graph_dict[\"edges\"][\"enrichment\"].shape[0], mini_batch_size)):\n",
    "#     batch_df = graph_dict[\"edges\"][\"enrichment\"][i:i+mini_batch_size].merge(\n",
    "#         graph_dict[\"edges\"][\"embedding\"],\n",
    "#         on=\"edge_type_str\",\n",
    "#         how=\"left\"\n",
    "#     ).to_pandas()\n",
    "#     dfs.append(batch_df)\n",
    "\n",
    "# # One-time concat (much faster)\n",
    "# unified_edges_df = pd.concat(dfs, ignore_index=True)\n",
    "# unified_edges_df"
   ]
  },
  {
   "cell_type": "code",
   "execution_count": 8,
   "id": "35bd3548",
   "metadata": {},
   "outputs": [],
   "source": [
    "# unified_edges_df = graph_dict[\"edges\"][\"enrichment\"].merge(\n",
    "#     graph_dict[\"edges\"][\"embedding\"],\n",
    "#     on=[\"edge_type_str\"],\n",
    "#     how=\"left\"\n",
    "# )"
   ]
  },
  {
   "cell_type": "code",
   "execution_count": 9,
   "id": "ba9833fc",
   "metadata": {},
   "outputs": [],
   "source": [
    "# import torch\n",
    "# from torch_geometric.data import TensorAttr\n",
    "# from cugraph_pyg.data import CuGraphStore, TensorDictFeatureStore\n",
    "\n",
    "# # Create and initialize FeatureStore for each column that can be used as a feature\n",
    "# mapper = {}\n",
    "# fs = TensorDictFeatureStore()\n",
    "# for nt in graph_dict['nodes']['enrichment'].node_type.unique().to_arrow().to_pylist():\n",
    "#     print(f\"Node type: {nt}\")\n",
    "#     nodes_df = graph_dict['nodes']['enrichment'][graph_dict['nodes']['enrichment'].node_type == nt]\n",
    "#     print(f\"Number of nodes: {len(nodes_df)}\")\n",
    "\n",
    "#     # Node Index\n",
    "#     node_index = nodes_df[\"node_index\"].to_arrow().to_pylist()\n",
    "#     mapper[nt] = {}\n",
    "#     mapper[nt]['to_node_index'] = {i: node_index[i] for i in range(len(node_index))}\n",
    "#     mapper[nt]['from_node_index'] = {node_index[i]: i for i in range(len(node_index))}\n",
    "#     fs[TensorAttr(group_name=nt, \n",
    "#                     attr_name=\"node_index\")] = torch.tensor(node_index, dtype=torch.int64)\n",
    "    \n",
    "#     # Node Features\n",
    "#     nodes_emb_df = graph_dict['nodes']['embedding'][graph_dict['nodes']['embedding'].node_id.isin(nodes_df.node_id)]\n",
    "#     fs[TensorAttr(group_name=nt,\n",
    "#                   attr_name=\"desc_emb\")] = torch.tensor(nodes_emb_df[\"desc_emb\"].to_arrow().to_pylist(), dtype=torch.float32)\n",
    "#     fs[TensorAttr(group_name=nt,\n",
    "#                   attr_name=\"feat_emb\")] = torch.tensor(nodes_emb_df[\"feat_emb\"].to_arrow().to_pylist(), dtype=torch.float32)\n"
   ]
  },
  {
   "cell_type": "code",
   "execution_count": 10,
   "id": "be87db02",
   "metadata": {},
   "outputs": [],
   "source": [
    "# # Get nodes enrichment and embedding dataframes\n",
    "# enrichment_df = graph_dict['nodes']['enrichment']\n",
    "# embedding_df = graph_dict['nodes']['embedding']\n",
    "\n",
    "# # Convert node_id columns once to set\n",
    "# embedding_node_ids = set(embedding_df['node_id'].to_pandas())\n"
   ]
  },
  {
   "cell_type": "code",
   "execution_count": 11,
   "id": "6f5e5609",
   "metadata": {},
   "outputs": [],
   "source": [
    "# import torch\n",
    "# import cudf\n",
    "# from torch_geometric.data import TensorAttr\n",
    "# from cugraph_pyg.data import TensorDictFeatureStore\n",
    "\n",
    "# # Initialize FeatureStore and mapper\n",
    "# fs = TensorDictFeatureStore()\n",
    "# mapper = {}\n",
    "\n",
    "# # Get nodes enrichment and embedding dataframes\n",
    "# nodes_enrichment_df = graph_dict['nodes']['enrichment']\n",
    "# nodes_embedding_df = graph_dict['nodes']['embedding']\n",
    "\n",
    "# # Get node_ids\n",
    "# embedding_node_ids = set(nodes_embedding_df['node_id'].to_pandas())\n",
    "\n",
    "# # Loop over group enrichment nodes by type \n",
    "# for nt, nodes_df in nodes_enrichment_df.groupby('node_type'):\n",
    "#     print(f\"Node type: {nt}\")\n",
    "#     node_count = len(nodes_df)\n",
    "#     print(f\"Number of nodes: {node_count}\")\n",
    "\n",
    "#     # Get node_index as torch tensor directly\n",
    "#     node_index_tensor = torch.tensor(nodes_df[\"node_index\"].to_numpy(), dtype=torch.int64)\n",
    "#     fs[TensorAttr(group_name=nt, attr_name=\"node_index\")] = node_index_tensor\n",
    "\n",
    "#     # Construct mapper for node_index\n",
    "#     node_index_list = node_index_tensor.tolist()\n",
    "#     mapper[nt] = {\n",
    "#         'to_node_index': dict(enumerate(node_index_list)),\n",
    "#         'from_node_index': {v: i for i, v in enumerate(node_index_list)}\n",
    "#     }\n",
    "\n",
    "#     # Filter embeddings once by node_id\n",
    "#     mask = nodes_embedding_df['node_id'].isin(set(nodes_df['node_id'].to_pandas()))\n",
    "#     nodes_emb_df = nodes_embedding_df[mask]\n",
    "\n",
    "#     # Convert embeddings as tensors and add to FeatureStore\n",
    "#     for attr_name in [\"desc_emb\", \"feat_emb\"]:\n",
    "#         emb_tensor = torch.tensor(nodes_emb_df[attr_name].to_arrow().to_pylist(), dtype=torch.float32)\n",
    "#         fs[TensorAttr(group_name=nt, attr_name=attr_name)] = emb_tensor\n"
   ]
  },
  {
   "cell_type": "code",
   "execution_count": 12,
   "id": "e93fe0f9",
   "metadata": {},
   "outputs": [
    {
     "name": "stderr",
     "output_type": "stream",
     "text": [
      "/home/awmulyadi/Repositories/temp/office2/AIAgents4Pharma/venv/lib/python3.12/site-packages/cugraph_pyg/data/__init__.py:27: FutureWarning: TensorDictFeatureStore is deprecated.  Consider changing your workflow to launch using 'torchrun' and store data in the faster and more memory-efficient WholeFeatureStore instead.\n",
      "  warnings.warn(\n",
      "INFO:numba.cuda.cudadrv.driver:init\n"
     ]
    },
    {
     "name": "stdout",
     "output_type": "stream",
     "text": [
      "Node type: biological_process\n",
      "Number of nodes: 1615\n"
     ]
    },
    {
     "name": "stderr",
     "output_type": "stream",
     "text": [
      "/home/awmulyadi/Repositories/temp/office2/AIAgents4Pharma/venv/lib/python3.12/site-packages/cugraph_pyg/data/feature_store.py:67: UserWarning: Ignoring index parameter (attribute does not exist for group biological_process)\n",
      "  warnings.warn(\n"
     ]
    },
    {
     "name": "stdout",
     "output_type": "stream",
     "text": [
      "Node type: cellular_component\n",
      "Number of nodes: 202\n",
      "Node type: disease\n",
      "Number of nodes: 7\n",
      "Node type: drug\n",
      "Number of nodes: 748\n"
     ]
    },
    {
     "name": "stderr",
     "output_type": "stream",
     "text": [
      "/home/awmulyadi/Repositories/temp/office2/AIAgents4Pharma/venv/lib/python3.12/site-packages/cugraph_pyg/data/feature_store.py:67: UserWarning: Ignoring index parameter (attribute does not exist for group cellular_component)\n",
      "  warnings.warn(\n",
      "/home/awmulyadi/Repositories/temp/office2/AIAgents4Pharma/venv/lib/python3.12/site-packages/cugraph_pyg/data/feature_store.py:67: UserWarning: Ignoring index parameter (attribute does not exist for group disease)\n",
      "  warnings.warn(\n",
      "/home/awmulyadi/Repositories/temp/office2/AIAgents4Pharma/venv/lib/python3.12/site-packages/cugraph_pyg/data/feature_store.py:67: UserWarning: Ignoring index parameter (attribute does not exist for group drug)\n",
      "  warnings.warn(\n"
     ]
    },
    {
     "name": "stdout",
     "output_type": "stream",
     "text": [
      "Node type: gene/protein\n",
      "Number of nodes: 102\n",
      "Node type: molecular_function\n",
      "Number of nodes: 317\n"
     ]
    },
    {
     "name": "stderr",
     "output_type": "stream",
     "text": [
      "/home/awmulyadi/Repositories/temp/office2/AIAgents4Pharma/venv/lib/python3.12/site-packages/cugraph_pyg/data/feature_store.py:67: UserWarning: Ignoring index parameter (attribute does not exist for group gene/protein)\n",
      "  warnings.warn(\n",
      "/home/awmulyadi/Repositories/temp/office2/AIAgents4Pharma/venv/lib/python3.12/site-packages/cugraph_pyg/data/feature_store.py:67: UserWarning: Ignoring index parameter (attribute does not exist for group molecular_function)\n",
      "  warnings.warn(\n"
     ]
    }
   ],
   "source": [
    "import torch\n",
    "import cudf\n",
    "from torch_geometric.data import TensorAttr\n",
    "from cugraph_pyg.data import GraphStore, TensorDictFeatureStore\n",
    "# cugraph_pyg.data.GraphStore()\n",
    "# Initialize FeatureStore and mapper\n",
    "fs = TensorDictFeatureStore()\n",
    "mapper = {}\n",
    "\n",
    "# Get nodes enrichment and embedding dataframes\n",
    "nodes_enrichment_df = graph_dict['nodes']['enrichment']\n",
    "nodes_embedding_df = graph_dict['nodes']['embedding']\n",
    "\n",
    "# Loop over group enrichment nodes by type \n",
    "for nt, nodes_df in nodes_enrichment_df.groupby('node_type'):\n",
    "    print(f\"Node type: {nt}\")\n",
    "    node_count = len(nodes_df)\n",
    "    print(f\"Number of nodes: {node_count}\")\n",
    "\n",
    "\n",
    "    # Get node_ids\n",
    "    emb_df = nodes_embedding_df[nodes_embedding_df['node_id'].isin(nodes_df['node_id'])]\n",
    "\n",
    "    # Sort both by node_id for alignment\n",
    "    nodes_df_sorted = nodes_df.sort_values('node_id')\n",
    "    emb_df_sorted = emb_df.sort_values('node_id')\n",
    "\n",
    "    # Ensure sorted node_ids match\n",
    "    assert cudf.Series.equals(nodes_df_sorted['node_id'].reset_index(drop=True),\n",
    "                              emb_df_sorted['node_id'].reset_index(drop=True)), \\\n",
    "                                f\"Node ID mismatch in {nt} after sorting\"\n",
    "\n",
    "    # Get node_index as torch tensor directly\n",
    "    node_index_tensor = torch.tensor(nodes_df_sorted[\"node_index\"].to_numpy(), dtype=torch.int64)\n",
    "    fs[TensorAttr(group_name=nt, attr_name=\"node_index\")] = node_index_tensor\n",
    "\n",
    "    # # Construct mapper for node_index\n",
    "    node_index_list = nodes_df_sorted[\"node_index\"].to_numpy().tolist()\n",
    "    mapper[nt] = {\n",
    "        'to_node_index': dict(enumerate(node_index_list)),\n",
    "        'from_node_index': {v: i for i, v in enumerate(node_index_list)}\n",
    "    }\n",
    "\n",
    "    # Convert embeddings as tensors and add to FeatureStore\n",
    "    for attr_name in [\"desc_emb\", \"feat_emb\"]:\n",
    "        emb_tensor = torch.tensor(emb_df_sorted[attr_name].to_arrow().to_pylist(), dtype=torch.float32)\n",
    "        fs[TensorAttr(group_name=nt, attr_name=attr_name)] = emb_tensor\n"
   ]
  },
  {
   "cell_type": "code",
   "execution_count": 13,
   "id": "8c5533d6",
   "metadata": {},
   "outputs": [
    {
     "name": "stdout",
     "output_type": "stream",
     "text": [
      "Processing edge type: drug|carrier|gene/protein\n",
      "Processing edge type: drug|enzyme|gene/protein\n",
      "Processing edge type: drug|target|gene/protein\n",
      "Processing edge type: drug|transporter|gene/protein\n"
     ]
    },
    {
     "name": "stderr",
     "output_type": "stream",
     "text": [
      "/home/awmulyadi/Repositories/temp/office2/AIAgents4Pharma/venv/lib/python3.12/site-packages/cugraph_pyg/data/feature_store.py:67: UserWarning: Ignoring index parameter (attribute does not exist for group ('drug', 'carrier', 'gene/protein'))\n",
      "  warnings.warn(\n",
      "/home/awmulyadi/Repositories/temp/office2/AIAgents4Pharma/venv/lib/python3.12/site-packages/cugraph_pyg/data/feature_store.py:67: UserWarning: Ignoring index parameter (attribute does not exist for group ('drug', 'enzyme', 'gene/protein'))\n",
      "  warnings.warn(\n",
      "/home/awmulyadi/Repositories/temp/office2/AIAgents4Pharma/venv/lib/python3.12/site-packages/cugraph_pyg/data/feature_store.py:67: UserWarning: Ignoring index parameter (attribute does not exist for group ('drug', 'target', 'gene/protein'))\n",
      "  warnings.warn(\n",
      "/home/awmulyadi/Repositories/temp/office2/AIAgents4Pharma/venv/lib/python3.12/site-packages/cugraph_pyg/data/feature_store.py:67: UserWarning: Ignoring index parameter (attribute does not exist for group ('drug', 'transporter', 'gene/protein'))\n",
      "  warnings.warn(\n"
     ]
    },
    {
     "name": "stdout",
     "output_type": "stream",
     "text": [
      "Processing edge type: gene/protein|associated with|disease\n",
      "Processing edge type: gene/protein|interacts with|molecular_function\n"
     ]
    },
    {
     "name": "stderr",
     "output_type": "stream",
     "text": [
      "/home/awmulyadi/Repositories/temp/office2/AIAgents4Pharma/venv/lib/python3.12/site-packages/cugraph_pyg/data/feature_store.py:67: UserWarning: Ignoring index parameter (attribute does not exist for group ('gene/protein', 'associated with', 'disease'))\n",
      "  warnings.warn(\n",
      "/home/awmulyadi/Repositories/temp/office2/AIAgents4Pharma/venv/lib/python3.12/site-packages/cugraph_pyg/data/feature_store.py:67: UserWarning: Ignoring index parameter (attribute does not exist for group ('gene/protein', 'interacts with', 'molecular_function'))\n",
      "  warnings.warn(\n"
     ]
    },
    {
     "name": "stdout",
     "output_type": "stream",
     "text": [
      "Processing edge type: gene/protein|interacts with|cellular_component\n",
      "Processing edge type: gene/protein|interacts with|biological_process\n"
     ]
    },
    {
     "name": "stderr",
     "output_type": "stream",
     "text": [
      "/home/awmulyadi/Repositories/temp/office2/AIAgents4Pharma/venv/lib/python3.12/site-packages/cugraph_pyg/data/feature_store.py:67: UserWarning: Ignoring index parameter (attribute does not exist for group ('gene/protein', 'interacts with', 'cellular_component'))\n",
      "  warnings.warn(\n",
      "/home/awmulyadi/Repositories/temp/office2/AIAgents4Pharma/venv/lib/python3.12/site-packages/cugraph_pyg/data/feature_store.py:67: UserWarning: Ignoring index parameter (attribute does not exist for group ('gene/protein', 'interacts with', 'biological_process'))\n",
      "  warnings.warn(\n",
      "/home/awmulyadi/Repositories/temp/office2/AIAgents4Pharma/venv/lib/python3.12/site-packages/cugraph_pyg/data/feature_store.py:67: UserWarning: Ignoring index parameter (attribute does not exist for group ('gene/protein', 'carrier', 'drug'))\n",
      "  warnings.warn(\n",
      "/home/awmulyadi/Repositories/temp/office2/AIAgents4Pharma/venv/lib/python3.12/site-packages/cugraph_pyg/data/feature_store.py:67: UserWarning: Ignoring index parameter (attribute does not exist for group ('gene/protein', 'enzyme', 'drug'))\n",
      "  warnings.warn(\n",
      "/home/awmulyadi/Repositories/temp/office2/AIAgents4Pharma/venv/lib/python3.12/site-packages/cugraph_pyg/data/feature_store.py:67: UserWarning: Ignoring index parameter (attribute does not exist for group ('gene/protein', 'target', 'drug'))\n",
      "  warnings.warn(\n",
      "/home/awmulyadi/Repositories/temp/office2/AIAgents4Pharma/venv/lib/python3.12/site-packages/cugraph_pyg/data/feature_store.py:67: UserWarning: Ignoring index parameter (attribute does not exist for group ('gene/protein', 'transporter', 'drug'))\n",
      "  warnings.warn(\n"
     ]
    },
    {
     "name": "stdout",
     "output_type": "stream",
     "text": [
      "Processing edge type: gene/protein|carrier|drug\n",
      "Processing edge type: gene/protein|enzyme|drug\n",
      "Processing edge type: gene/protein|target|drug\n",
      "Processing edge type: gene/protein|transporter|drug\n",
      "Processing edge type: disease|associated with|gene/protein\n"
     ]
    },
    {
     "name": "stderr",
     "output_type": "stream",
     "text": [
      "/home/awmulyadi/Repositories/temp/office2/AIAgents4Pharma/venv/lib/python3.12/site-packages/cugraph_pyg/data/feature_store.py:67: UserWarning: Ignoring index parameter (attribute does not exist for group ('disease', 'associated with', 'gene/protein'))\n",
      "  warnings.warn(\n",
      "/home/awmulyadi/Repositories/temp/office2/AIAgents4Pharma/venv/lib/python3.12/site-packages/cugraph_pyg/data/feature_store.py:67: UserWarning: Ignoring index parameter (attribute does not exist for group ('molecular_function', 'interacts with', 'gene/protein'))\n",
      "  warnings.warn(\n"
     ]
    },
    {
     "name": "stdout",
     "output_type": "stream",
     "text": [
      "Processing edge type: molecular_function|interacts with|gene/protein\n",
      "Processing edge type: cellular_component|interacts with|gene/protein\n"
     ]
    },
    {
     "name": "stderr",
     "output_type": "stream",
     "text": [
      "/home/awmulyadi/Repositories/temp/office2/AIAgents4Pharma/venv/lib/python3.12/site-packages/cugraph_pyg/data/feature_store.py:67: UserWarning: Ignoring index parameter (attribute does not exist for group ('cellular_component', 'interacts with', 'gene/protein'))\n",
      "  warnings.warn(\n"
     ]
    },
    {
     "name": "stdout",
     "output_type": "stream",
     "text": [
      "Processing edge type: biological_process|interacts with|gene/protein\n"
     ]
    },
    {
     "name": "stderr",
     "output_type": "stream",
     "text": [
      "/home/awmulyadi/Repositories/temp/office2/AIAgents4Pharma/venv/lib/python3.12/site-packages/cugraph_pyg/data/feature_store.py:67: UserWarning: Ignoring index parameter (attribute does not exist for group ('biological_process', 'interacts with', 'gene/protein'))\n",
      "  warnings.warn(\n"
     ]
    }
   ],
   "source": [
    "# Initialize GraphStore\n",
    "gs = GraphStore()\n",
    "\n",
    "# Get edges enrichment and embedding dataframes\n",
    "edges_enrichment_df = graph_dict['edges']['enrichment']\n",
    "edges_embedding_df = graph_dict['edges']['embedding']\n",
    "\n",
    "# Loop over edge types \n",
    "for edge_type_str in edges_enrichment_df['edge_type_str'].unique().to_arrow().to_pylist():\n",
    "    print(f\"Processing edge type: {edge_type_str}\")\n",
    "    src_type, rel_type, tgt_type = edge_type_str.split('|')\n",
    "\n",
    "    # Filter edges for this edge_type_str once\n",
    "    filtered_df = edges_enrichment_df[edges_enrichment_df['edge_type_str'] == edge_type_str][['triplet_index', 'head_index', 'tail_index']]\n",
    "\n",
    "    # Convert mapper dicts to cudf Series for vectorized mapping\n",
    "    src_map = cudf.Series(mapper[src_type]['from_node_index'])\n",
    "    tgt_map = cudf.Series(mapper[tgt_type]['from_node_index'])\n",
    "\n",
    "    # Vectorized mapping of head_index and tail_index using replace (works like dict lookup)\n",
    "    mapped_head = filtered_df['head_index'].replace(src_map).astype('int64')\n",
    "    mapped_tail = filtered_df['tail_index'].replace(tgt_map).astype('int64')\n",
    "\n",
    "    # Check if mapping was successful\n",
    "    if mapped_head.isnull().any() or mapped_tail.isnull().any():\n",
    "            raise ValueError(f\"Mapping failure for edge type {edge_type_str}\")\n",
    "\n",
    "    # Edge index\n",
    "    edge_index = torch.tensor(\n",
    "        cudf.concat([mapped_head, mapped_tail], axis=1).to_pandas().values.T,\n",
    "        dtype=torch.long\n",
    "    ).contiguous()\n",
    "\n",
    "    # Store edge index in the GraphStore\n",
    "    gs[(src_type, rel_type, tgt_type), \"coo\"] = edge_index\n",
    "\n",
    "    # Add triplet index to the FeatureStore\n",
    "    triplet_index_tensor = torch.tensor(filtered_df['triplet_index'].to_numpy(), dtype=torch.long).unsqueeze(0)\n",
    "    fs[TensorAttr(group_name=(src_type, rel_type, tgt_type), attr_name='triplet_index')] = triplet_index_tensor\n",
    "\n",
    "    # Store edge embeddings in the FeatureStore\n",
    "    edge_emb_df = edges_embedding_df[edges_embedding_df['edge_type_str'] == edge_type_str]\n",
    "\n",
    "    # Convert edge embeddings to torch tensor\n",
    "    edge_emb_tensor = torch.tensor(edge_emb_df['edge_emb'].to_arrow().to_pylist(), dtype=torch.float32).unsqueeze(0)\n",
    "    fs[TensorAttr(group_name=(src_type, rel_type, tgt_type), attr_name='edge_emb')] = edge_emb_tensor\n",
    "\n"
   ]
  },
  {
   "cell_type": "markdown",
   "id": "409f07b4",
   "metadata": {},
   "source": [
    "## Prepare Query DF\n"
   ]
  },
  {
   "cell_type": "code",
   "execution_count": 14,
   "id": "154d69e9",
   "metadata": {},
   "outputs": [],
   "source": [
    "# Define the data path\n",
    "DATA_PATH = \"../../../aiagents4pharma/talk2knowledgegraphs/tests/files\"\n",
    "\n",
    "# Define the agent state\n",
    "state = {\n",
    "    \"selections\": {\n",
    "        \"gene/protein\": [],\n",
    "        \"molecular_function\": [],\n",
    "        \"cellular_component\": [],\n",
    "        \"biological_process\": [],\n",
    "        \"drug\": [],\n",
    "        \"disease\": []\n",
    "    },\n",
    "    \"uploaded_files\": [],\n",
    "    \"topk_nodes\": 3,\n",
    "    \"topk_edges\": 3,\n",
    "    \"dic_source_graph\": [\n",
    "        {\n",
    "            \"name\": \"BioBridge\",\n",
    "            \"kg_pyg_path\": f\"{DATA_PATH}/biobridge_multimodal_pyg_graph.pkl\",\n",
    "            \"kg_text_path\": f\"{DATA_PATH}/biobridge_multimodal_text_graph.pkl\",\n",
    "        }\n",
    "    ],\n",
    "}"
   ]
  },
  {
   "cell_type": "code",
   "execution_count": 15,
   "id": "31367689",
   "metadata": {},
   "outputs": [],
   "source": [
    "# Update state\n",
    "state[\"uploaded_files\"] = [\n",
    "    {\n",
    "        \"file_name\": \"multimodal-analysis.csv\",\n",
    "        \"file_path\": f\"{DATA_PATH}/multimodal-analysis.csv\",\n",
    "        \"file_type\": \"multimodal\",\n",
    "        \"uploaded_by\": \"VPEUser\",\n",
    "        \"uploaded_timestamp\": \"2025-05-12 00:00:00\",\n",
    "    }\n",
    "]"
   ]
  },
  {
   "cell_type": "code",
   "execution_count": 16,
   "id": "e8ae75fe",
   "metadata": {},
   "outputs": [],
   "source": [
    "# Parameters\n",
    "prompt = \"\"\"\n",
    "Extract all relevant information related to nodes of genes related to inflammatory bowel disease\n",
    "(IBD) that existed in the knowledge graph.\n",
    "Please set the extraction name for this process as `subkg_12345`.\n",
    "\"\"\"\n",
    "tool_call_id = \"subgraph_extraction_tool\"\n",
    "extraction_name = \"subgraph_12345\""
   ]
  },
  {
   "cell_type": "code",
   "execution_count": 17,
   "id": "63961e67",
   "metadata": {},
   "outputs": [],
   "source": [
    "\n",
    "# Initialize dataframes\n",
    "# logger.log(logging.INFO, \"Initializing dataframes\")\n",
    "multimodal_df = cudf.DataFrame({\"name\": [], \"node_type\": []})\n",
    "query_df = cudf.DataFrame({\"node_id\": [],\n",
    "                            \"node_type\": [],\n",
    "                            \"x\": [],\n",
    "                            \"desc_x\": [],\n",
    "                            \"use_description\": []})\n",
    "\n",
    "# Loop over the uploaded files and find multimodal files\n",
    "# logger.log(logging.INFO, \"Looping over uploaded files\")\n",
    "for i in range(len(state[\"uploaded_files\"])):\n",
    "    # Check if multimodal file is uploaded\n",
    "    if state[\"uploaded_files\"][i][\"file_type\"] == \"multimodal\":\n",
    "        # Read the csv file\n",
    "        multimodal_df = cudf.read_csv(state[\"uploaded_files\"][i][\"file_path\"])"
   ]
  },
  {
   "cell_type": "code",
   "execution_count": 20,
   "id": "b3384a43",
   "metadata": {},
   "outputs": [
    {
     "data": {
      "text/html": [
       "<div>\n",
       "<style scoped>\n",
       "    .dataframe tbody tr th:only-of-type {\n",
       "        vertical-align: middle;\n",
       "    }\n",
       "\n",
       "    .dataframe tbody tr th {\n",
       "        vertical-align: top;\n",
       "    }\n",
       "\n",
       "    .dataframe thead th {\n",
       "        text-align: right;\n",
       "    }\n",
       "</style>\n",
       "<table border=\"1\" class=\"dataframe\">\n",
       "  <thead>\n",
       "    <tr style=\"text-align: right;\">\n",
       "      <th></th>\n",
       "      <th>node_index</th>\n",
       "      <th>primekg_node_index</th>\n",
       "      <th>node_id</th>\n",
       "      <th>node_name</th>\n",
       "      <th>node_type</th>\n",
       "      <th>desc</th>\n",
       "      <th>feat</th>\n",
       "    </tr>\n",
       "  </thead>\n",
       "  <tbody>\n",
       "    <tr>\n",
       "      <th>0</th>\n",
       "      <td>1851</td>\n",
       "      <td>53517</td>\n",
       "      <td>methyltransferase activity_(53517)</td>\n",
       "      <td>methyltransferase activity</td>\n",
       "      <td>molecular_function</td>\n",
       "      <td>methyltransferase activity belongs to molecula...</td>\n",
       "      <td>Catalysis of the transfer of a methyl group to...</td>\n",
       "    </tr>\n",
       "    <tr>\n",
       "      <th>1</th>\n",
       "      <td>1852</td>\n",
       "      <td>53528</td>\n",
       "      <td>protein serine/threonine kinase activity_(53528)</td>\n",
       "      <td>protein serine/threonine kinase activity</td>\n",
       "      <td>molecular_function</td>\n",
       "      <td>protein serine/threonine kinase activity belon...</td>\n",
       "      <td>Catalysis of the reactions: ATP + protein seri...</td>\n",
       "    </tr>\n",
       "    <tr>\n",
       "      <th>2</th>\n",
       "      <td>1853</td>\n",
       "      <td>53551</td>\n",
       "      <td>carboxylic acid transmembrane transporter acti...</td>\n",
       "      <td>carboxylic acid transmembrane transporter acti...</td>\n",
       "      <td>molecular_function</td>\n",
       "      <td>carboxylic acid transmembrane transporter acti...</td>\n",
       "      <td>Enables the transfer of carboxylic acids from ...</td>\n",
       "    </tr>\n",
       "    <tr>\n",
       "      <th>3</th>\n",
       "      <td>1854</td>\n",
       "      <td>53616</td>\n",
       "      <td>efflux transmembrane transporter activity_(53616)</td>\n",
       "      <td>efflux transmembrane transporter activity</td>\n",
       "      <td>molecular_function</td>\n",
       "      <td>efflux transmembrane transporter activity belo...</td>\n",
       "      <td>Enables the transfer of a specific substance o...</td>\n",
       "    </tr>\n",
       "    <tr>\n",
       "      <th>4</th>\n",
       "      <td>1855</td>\n",
       "      <td>53620</td>\n",
       "      <td>metal ion binding_(53620)</td>\n",
       "      <td>metal ion binding</td>\n",
       "      <td>molecular_function</td>\n",
       "      <td>metal ion binding belongs to molecular_functio...</td>\n",
       "      <td>Binding to a metal ion.</td>\n",
       "    </tr>\n",
       "    <tr>\n",
       "      <th>...</th>\n",
       "      <td>...</td>\n",
       "      <td>...</td>\n",
       "      <td>...</td>\n",
       "      <td>...</td>\n",
       "      <td>...</td>\n",
       "      <td>...</td>\n",
       "      <td>...</td>\n",
       "    </tr>\n",
       "    <tr>\n",
       "      <th>2986</th>\n",
       "      <td>848</td>\n",
       "      <td>34781</td>\n",
       "      <td>IL17REL_(34781)</td>\n",
       "      <td>IL17REL</td>\n",
       "      <td>gene/protein</td>\n",
       "      <td>IL17REL belongs to gene/protein node. IL17REL ...</td>\n",
       "      <td>MSRSVLEALTSSTAMQCVPSDGCAMLLRVRASITLHERLRGLEACA...</td>\n",
       "    </tr>\n",
       "    <tr>\n",
       "      <th>2987</th>\n",
       "      <td>849</td>\n",
       "      <td>34814</td>\n",
       "      <td>TAGAP_(34814)</td>\n",
       "      <td>TAGAP</td>\n",
       "      <td>gene/protein</td>\n",
       "      <td>TAGAP belongs to gene/protein node. TAGAP is T...</td>\n",
       "      <td>MKLRSSHNASKTLNANNMETLIECQSEGDIKEHPLLASCESEDSIC...</td>\n",
       "    </tr>\n",
       "    <tr>\n",
       "      <th>2988</th>\n",
       "      <td>850</td>\n",
       "      <td>34887</td>\n",
       "      <td>DENND1B_(34887)</td>\n",
       "      <td>DENND1B</td>\n",
       "      <td>gene/protein</td>\n",
       "      <td>DENND1B belongs to gene/protein node. DENND1B ...</td>\n",
       "      <td>MDCRTKANPDRTFDLVLKVKCHASENEDPVVLWKFPEDFGDQEILQ...</td>\n",
       "    </tr>\n",
       "    <tr>\n",
       "      <th>2989</th>\n",
       "      <td>851</td>\n",
       "      <td>34967</td>\n",
       "      <td>IL21_(34967)</td>\n",
       "      <td>IL21</td>\n",
       "      <td>gene/protein</td>\n",
       "      <td>IL21 belongs to gene/protein node. IL21 is int...</td>\n",
       "      <td>MRSSPGNMERIVICLMVIFLGTLVHKSSSQGQDRHMIRMRQLIDIV...</td>\n",
       "    </tr>\n",
       "    <tr>\n",
       "      <th>2990</th>\n",
       "      <td>852</td>\n",
       "      <td>35156</td>\n",
       "      <td>FAM92B_(35156)</td>\n",
       "      <td>FAM92B</td>\n",
       "      <td>gene/protein</td>\n",
       "      <td>FAM92B belongs to gene/protein node.</td>\n",
       "      <td>MNIVFSRDSQVRVMENTVANTEKYFGQFCSLLAAYTRKTARLRDKA...</td>\n",
       "    </tr>\n",
       "  </tbody>\n",
       "</table>\n",
       "<p>2991 rows × 7 columns</p>\n",
       "</div>"
      ],
      "text/plain": [
       "      node_index  primekg_node_index  \\\n",
       "0           1851               53517   \n",
       "1           1852               53528   \n",
       "2           1853               53551   \n",
       "3           1854               53616   \n",
       "4           1855               53620   \n",
       "...          ...                 ...   \n",
       "2986         848               34781   \n",
       "2987         849               34814   \n",
       "2988         850               34887   \n",
       "2989         851               34967   \n",
       "2990         852               35156   \n",
       "\n",
       "                                                node_id  \\\n",
       "0                    methyltransferase activity_(53517)   \n",
       "1      protein serine/threonine kinase activity_(53528)   \n",
       "2     carboxylic acid transmembrane transporter acti...   \n",
       "3     efflux transmembrane transporter activity_(53616)   \n",
       "4                             metal ion binding_(53620)   \n",
       "...                                                 ...   \n",
       "2986                                    IL17REL_(34781)   \n",
       "2987                                      TAGAP_(34814)   \n",
       "2988                                    DENND1B_(34887)   \n",
       "2989                                       IL21_(34967)   \n",
       "2990                                     FAM92B_(35156)   \n",
       "\n",
       "                                              node_name           node_type  \\\n",
       "0                            methyltransferase activity  molecular_function   \n",
       "1              protein serine/threonine kinase activity  molecular_function   \n",
       "2     carboxylic acid transmembrane transporter acti...  molecular_function   \n",
       "3             efflux transmembrane transporter activity  molecular_function   \n",
       "4                                     metal ion binding  molecular_function   \n",
       "...                                                 ...                 ...   \n",
       "2986                                            IL17REL        gene/protein   \n",
       "2987                                              TAGAP        gene/protein   \n",
       "2988                                            DENND1B        gene/protein   \n",
       "2989                                               IL21        gene/protein   \n",
       "2990                                             FAM92B        gene/protein   \n",
       "\n",
       "                                                   desc  \\\n",
       "0     methyltransferase activity belongs to molecula...   \n",
       "1     protein serine/threonine kinase activity belon...   \n",
       "2     carboxylic acid transmembrane transporter acti...   \n",
       "3     efflux transmembrane transporter activity belo...   \n",
       "4     metal ion binding belongs to molecular_functio...   \n",
       "...                                                 ...   \n",
       "2986  IL17REL belongs to gene/protein node. IL17REL ...   \n",
       "2987  TAGAP belongs to gene/protein node. TAGAP is T...   \n",
       "2988  DENND1B belongs to gene/protein node. DENND1B ...   \n",
       "2989  IL21 belongs to gene/protein node. IL21 is int...   \n",
       "2990              FAM92B belongs to gene/protein node.    \n",
       "\n",
       "                                                   feat  \n",
       "0     Catalysis of the transfer of a methyl group to...  \n",
       "1     Catalysis of the reactions: ATP + protein seri...  \n",
       "2     Enables the transfer of carboxylic acids from ...  \n",
       "3     Enables the transfer of a specific substance o...  \n",
       "4                               Binding to a metal ion.  \n",
       "...                                                 ...  \n",
       "2986  MSRSVLEALTSSTAMQCVPSDGCAMLLRVRASITLHERLRGLEACA...  \n",
       "2987  MKLRSSHNASKTLNANNMETLIECQSEGDIKEHPLLASCESEDSIC...  \n",
       "2988  MDCRTKANPDRTFDLVLKVKCHASENEDPVVLWKFPEDFGDQEILQ...  \n",
       "2989  MRSSPGNMERIVICLMVIFLGTLVHKSSSQGQDRHMIRMRQLIDIV...  \n",
       "2990  MNIVFSRDSQVRVMENTVANTEKYFGQFCSLLAAYTRKTARLRDKA...  \n",
       "\n",
       "[2991 rows x 7 columns]"
      ]
     },
     "execution_count": 20,
     "metadata": {},
     "output_type": "execute_result"
    }
   ],
   "source": [
    "graph_dict[\"nodes\"][\"enrichment\"]"
   ]
  },
  {
   "cell_type": "code",
   "execution_count": 32,
   "id": "8de4c80a",
   "metadata": {},
   "outputs": [],
   "source": [
    "edges_df_sorted = graph_dict[\"edges\"][\"enrichment\"].sort_values(\"triplet_index\", ignore_index=True)"
   ]
  },
  {
   "cell_type": "code",
   "execution_count": 35,
   "id": "33ed2316",
   "metadata": {},
   "outputs": [
    {
     "data": {
      "text/plain": [
       "array([[ 123,   99,  320, ..., 2509, 2304, 2142],\n",
       "       [  36,   47,   47, ...,   22,  838,  846]])"
      ]
     },
     "execution_count": 35,
     "metadata": {},
     "output_type": "execute_result"
    }
   ],
   "source": [
    "import cupy as cp\n",
    "cp.stack([\n",
    "    edges_df_sorted[\"head_index\"].to_cupy(),\n",
    "    edges_df_sorted[\"tail_index\"].to_cupy()\n",
    "])"
   ]
  },
  {
   "cell_type": "code",
   "execution_count": 34,
   "id": "15c8a6aa",
   "metadata": {},
   "outputs": [
    {
     "data": {
      "text/plain": [
       "array([[ 123,   99,  320, ..., 2509, 2304, 2142],\n",
       "       [  36,   47,   47, ...,   22,  838,  846]])"
      ]
     },
     "execution_count": 34,
     "metadata": {},
     "output_type": "execute_result"
    }
   ],
   "source": [
    "import cupy as cp\n",
    "cp.stack([\n",
    "    graph_dict[\"edges\"][\"enrichment\"][\"head_index\"].to_cupy(),\n",
    "    graph_dict[\"edges\"][\"enrichment\"][\"tail_index\"].to_cupy()\n",
    "])"
   ]
  },
  {
   "cell_type": "code",
   "execution_count": null,
   "id": "2f9c5a03",
   "metadata": {},
   "outputs": [],
   "source": [
    "triplet_index_sorted = graph_dict['edges']['enrichment']['triplet_index'].sort_values(ignore_index=True)"
   ]
  },
  {
   "cell_type": "code",
   "execution_count": 25,
   "id": "e904b934",
   "metadata": {},
   "outputs": [
    {
     "name": "stderr",
     "output_type": "stream",
     "text": [
      "INFO:httpx:HTTP Request: GET http://127.0.0.1:11434/api/tags \"HTTP/1.1 200 OK\"\n",
      "INFO:httpx:HTTP Request: POST http://127.0.0.1:11434/api/embed \"HTTP/1.1 200 OK\"\n"
     ]
    }
   ],
   "source": [
    "prompt_emb = [EmbeddingWithOllama(model_name=cfg.ollama_embeddings[0]).embed_query(prompt)]\n",
    "graph = graph_dict\n",
    "\n",
    "# Check if the multimodal_df is empty\n",
    "# logger.log(logging.INFO, \"Checking if multimodal_df is empty\")\n",
    "if len(multimodal_df) > 0:\n",
    "    # Prepare multimodal_df\n",
    "    # logger.log(logging.INFO, \"Preparing multimodal_df\")\n",
    "    multimodal_df.rename(columns={\"name\": \"q_node_name\",\n",
    "                                    \"node_type\": \"q_node_type\"}, inplace=True)\n",
    "\n",
    "    # Make and process a query dataframe by merging the graph_df and multimodal_df\n",
    "    # logger.log(logging.INFO, \"Processing query dataframe\")\n",
    "    query_df = graph[\"nodes\"][\"enrichment\"][\n",
    "        ['node_id', 'node_name', 'node_type', 'desc', 'feat']\n",
    "    ].merge(multimodal_df, how='cross')\n",
    "    # logger.log(logging.INFO, \"Lowering case for node names (q_node_name)\")\n",
    "    query_df['q_node_name'] = query_df['q_node_name'].str.lower()\n",
    "    # logger.log(logging.INFO, \"Lowering case for node names (node_name)\")\n",
    "    query_df['node_name'] = query_df['node_name'].str.lower()\n",
    "    # Get the mask for filtering based on the query\n",
    "    # logger.log(logging.INFO, \"Filtering based on the query\")\n",
    "    mask = (\n",
    "        query_df['node_name'].str.contains(query_df['q_node_name']) &\n",
    "        (query_df['node_type'] == query_df['q_node_type'])\n",
    "    )\n",
    "    query_df = query_df[mask]\n",
    "    query_df = query_df[['node_id',\n",
    "                         'node_type', \n",
    "                         'feat', \n",
    "                         'desc']].reset_index(drop=True)\n",
    "    query_df['use_description'] = False # set to False for modal-specific embeddings\n",
    "\n",
    "    # Merge the query dataframe with the node embeddings\n",
    "    query_df = query_df.merge(\n",
    "        graph[\"nodes\"][\"embedding\"][[\"node_id\", \"desc_emb\", \"feat_emb\"]],\n",
    "        on=\"node_id\",\n",
    "        how=\"left\"\n",
    "    )[['node_id', 'node_type', 'feat', 'desc', 'desc_emb', 'feat_emb', 'use_description']]\n",
    "\n",
    "    # Update the state by adding the the selected node IDs\n",
    "    # logger.log(logging.INFO, \"Updating state with selected node IDs\")\n",
    "    state[\"selections\"] = query_df.to_pandas().groupby(\n",
    "        \"node_type\"\n",
    "    )[\"node_id\"].apply(list).to_dict()\n",
    "\n",
    "# Append a user prompt to the query dataframe\n",
    "# logger.log(logging.INFO, \"Adding user prompt to query dataframe\")\n",
    "query_df = cudf.concat([\n",
    "    query_df,\n",
    "    cudf.DataFrame({\n",
    "        'node_id': 'user_prompt',\n",
    "        'node_type': 'prompt',\n",
    "        'feat': prompt,\n",
    "        'desc': prompt,\n",
    "        'feat_emb': prompt_emb,\n",
    "        'desc_emb': prompt_emb,\n",
    "        'use_description': True # set to True for user prompt embedding\n",
    "    })\n",
    "]).reset_index(drop=True)"
   ]
  },
  {
   "cell_type": "code",
   "execution_count": 62,
   "id": "0e53853d",
   "metadata": {},
   "outputs": [
    {
     "data": {
      "text/html": [
       "<div>\n",
       "<style scoped>\n",
       "    .dataframe tbody tr th:only-of-type {\n",
       "        vertical-align: middle;\n",
       "    }\n",
       "\n",
       "    .dataframe tbody tr th {\n",
       "        vertical-align: top;\n",
       "    }\n",
       "\n",
       "    .dataframe thead th {\n",
       "        text-align: right;\n",
       "    }\n",
       "</style>\n",
       "<table border=\"1\" class=\"dataframe\">\n",
       "  <thead>\n",
       "    <tr style=\"text-align: right;\">\n",
       "      <th></th>\n",
       "      <th>node_id</th>\n",
       "      <th>color</th>\n",
       "    </tr>\n",
       "  </thead>\n",
       "  <tbody>\n",
       "    <tr>\n",
       "      <th>0</th>\n",
       "      <td>IL7R_(625)</td>\n",
       "      <td>#6a79f7</td>\n",
       "    </tr>\n",
       "    <tr>\n",
       "      <th>1</th>\n",
       "      <td>TCF7_(5195)</td>\n",
       "      <td>#6a79f7</td>\n",
       "    </tr>\n",
       "  </tbody>\n",
       "</table>\n",
       "</div>"
      ],
      "text/plain": [
       "       node_id    color\n",
       "0   IL7R_(625)  #6a79f7\n",
       "1  TCF7_(5195)  #6a79f7"
      ]
     },
     "execution_count": 62,
     "metadata": {},
     "output_type": "execute_result"
    }
   ],
   "source": [
    "node_colors = {n: cfg.node_colors_dict[k]\n",
    "                for k, v in state[\"selections\"].items() for n in v}\n",
    "color_df = cudf.DataFrame(list(node_colors.items()), columns=[\"node_id\", \"color\"])\n",
    "# color_df = cudf.DataFrame([], columns=[\"node_id\", \"color\"])\n",
    "color_df\n",
    " "
   ]
  },
  {
   "cell_type": "code",
   "execution_count": 64,
   "id": "1e7b4acc",
   "metadata": {},
   "outputs": [
    {
     "data": {
      "text/html": [
       "<div>\n",
       "<style scoped>\n",
       "    .dataframe tbody tr th:only-of-type {\n",
       "        vertical-align: middle;\n",
       "    }\n",
       "\n",
       "    .dataframe tbody tr th {\n",
       "        vertical-align: top;\n",
       "    }\n",
       "\n",
       "    .dataframe thead th {\n",
       "        text-align: right;\n",
       "    }\n",
       "</style>\n",
       "<table border=\"1\" class=\"dataframe\">\n",
       "  <thead>\n",
       "    <tr style=\"text-align: right;\">\n",
       "      <th></th>\n",
       "      <th>node_id</th>\n",
       "      <th>node_name</th>\n",
       "      <th>node_type</th>\n",
       "      <th>desc</th>\n",
       "      <th>feat</th>\n",
       "      <th>color</th>\n",
       "    </tr>\n",
       "  </thead>\n",
       "  <tbody>\n",
       "    <tr>\n",
       "      <th>0</th>\n",
       "      <td>IL7R_(625)</td>\n",
       "      <td>IL7R</td>\n",
       "      <td>gene/protein</td>\n",
       "      <td>IL7R belongs to gene/protein node. IL7R is int...</td>\n",
       "      <td>MTILGTTFGMVFSLLQVVSGESGYAQNGDLEDAELDDYSFSCYSQL...</td>\n",
       "      <td>#6a79f7</td>\n",
       "    </tr>\n",
       "    <tr>\n",
       "      <th>1</th>\n",
       "      <td>TCF7_(5195)</td>\n",
       "      <td>TCF7</td>\n",
       "      <td>gene/protein</td>\n",
       "      <td>TCF7 belongs to gene/protein node. TCF7 is tra...</td>\n",
       "      <td>MPQLDSGGGGAGGGDDLGAPDELLAFQDEGEEQDDKSRDSAAGPER...</td>\n",
       "      <td>#6a79f7</td>\n",
       "    </tr>\n",
       "  </tbody>\n",
       "</table>\n",
       "</div>"
      ],
      "text/plain": [
       "       node_id node_name     node_type  \\\n",
       "0   IL7R_(625)      IL7R  gene/protein   \n",
       "1  TCF7_(5195)      TCF7  gene/protein   \n",
       "\n",
       "                                                desc  \\\n",
       "0  IL7R belongs to gene/protein node. IL7R is int...   \n",
       "1  TCF7 belongs to gene/protein node. TCF7 is tra...   \n",
       "\n",
       "                                                feat    color  \n",
       "0  MTILGTTFGMVFSLLQVVSGESGYAQNGDLEDAELDDYSFSCYSQL...  #6a79f7  \n",
       "1  MPQLDSGGGGAGGGDDLGAPDELLAFQDEGEEQDDKSRDSAAGPER...  #6a79f7  "
      ]
     },
     "execution_count": 64,
     "metadata": {},
     "output_type": "execute_result"
    }
   ],
   "source": [
    "graph_nodes = graph[\"nodes\"][\"enrichment\"].sort_values(\"node_index\", ignore_index=True).copy()\n",
    "\n",
    "graph_nodes = graph_nodes.iloc[[5, 54]][\n",
    "    ['node_id', 'node_name', 'node_type', 'desc', 'feat']\n",
    "]\n",
    "if not color_df.empty:\n",
    "    # Merge the color dataframe with the graph nodes\n",
    "    graph_nodes = graph_nodes.merge(color_df, on=\"node_id\", how=\"left\")\n",
    "else:\n",
    "    graph_nodes[\"color\"] = 'black'  # Default color\n",
    "graph_nodes['color'].fillna('black', inplace=True)\n",
    "graph_nodes"
   ]
  },
  {
   "cell_type": "code",
   "execution_count": 26,
   "id": "76895172",
   "metadata": {},
   "outputs": [
    {
     "data": {
      "text/html": [
       "<div>\n",
       "<style scoped>\n",
       "    .dataframe tbody tr th:only-of-type {\n",
       "        vertical-align: middle;\n",
       "    }\n",
       "\n",
       "    .dataframe tbody tr th {\n",
       "        vertical-align: top;\n",
       "    }\n",
       "\n",
       "    .dataframe thead th {\n",
       "        text-align: right;\n",
       "    }\n",
       "</style>\n",
       "<table border=\"1\" class=\"dataframe\">\n",
       "  <thead>\n",
       "    <tr style=\"text-align: right;\">\n",
       "      <th></th>\n",
       "      <th>node_id</th>\n",
       "      <th>node_type</th>\n",
       "      <th>feat</th>\n",
       "      <th>desc</th>\n",
       "      <th>desc_emb</th>\n",
       "      <th>feat_emb</th>\n",
       "      <th>use_description</th>\n",
       "    </tr>\n",
       "  </thead>\n",
       "  <tbody>\n",
       "    <tr>\n",
       "      <th>0</th>\n",
       "      <td>IL7R_(625)</td>\n",
       "      <td>gene/protein</td>\n",
       "      <td>MTILGTTFGMVFSLLQVVSGESGYAQNGDLEDAELDDYSFSCYSQL...</td>\n",
       "      <td>IL7R belongs to gene/protein node. IL7R is int...</td>\n",
       "      <td>[0.04506902, 0.008911126, -0.17318207, -0.0157...</td>\n",
       "      <td>[0.06364653259515762, 0.06951971352100372, 0.0...</td>\n",
       "      <td>False</td>\n",
       "    </tr>\n",
       "    <tr>\n",
       "      <th>1</th>\n",
       "      <td>TCF7_(5195)</td>\n",
       "      <td>gene/protein</td>\n",
       "      <td>MPQLDSGGGGAGGGDDLGAPDELLAFQDEGEEQDDKSRDSAAGPER...</td>\n",
       "      <td>TCF7 belongs to gene/protein node. TCF7 is tra...</td>\n",
       "      <td>[0.036997586, 0.038098544, -0.19027671, -0.006...</td>\n",
       "      <td>[0.028321774676442146, 0.003539376426488161, 0...</td>\n",
       "      <td>False</td>\n",
       "    </tr>\n",
       "    <tr>\n",
       "      <th>2</th>\n",
       "      <td>user_prompt</td>\n",
       "      <td>prompt</td>\n",
       "      <td>\\nExtract all relevant information related to ...</td>\n",
       "      <td>\\nExtract all relevant information related to ...</td>\n",
       "      <td>[0.047626022, 0.05007147, -0.16455309, -0.0442...</td>\n",
       "      <td>[0.047626022, 0.05007147, -0.16455309, -0.0442...</td>\n",
       "      <td>True</td>\n",
       "    </tr>\n",
       "  </tbody>\n",
       "</table>\n",
       "</div>"
      ],
      "text/plain": [
       "       node_id     node_type  \\\n",
       "0   IL7R_(625)  gene/protein   \n",
       "1  TCF7_(5195)  gene/protein   \n",
       "2  user_prompt        prompt   \n",
       "\n",
       "                                                feat  \\\n",
       "0  MTILGTTFGMVFSLLQVVSGESGYAQNGDLEDAELDDYSFSCYSQL...   \n",
       "1  MPQLDSGGGGAGGGDDLGAPDELLAFQDEGEEQDDKSRDSAAGPER...   \n",
       "2  \\nExtract all relevant information related to ...   \n",
       "\n",
       "                                                desc  \\\n",
       "0  IL7R belongs to gene/protein node. IL7R is int...   \n",
       "1  TCF7 belongs to gene/protein node. TCF7 is tra...   \n",
       "2  \\nExtract all relevant information related to ...   \n",
       "\n",
       "                                            desc_emb  \\\n",
       "0  [0.04506902, 0.008911126, -0.17318207, -0.0157...   \n",
       "1  [0.036997586, 0.038098544, -0.19027671, -0.006...   \n",
       "2  [0.047626022, 0.05007147, -0.16455309, -0.0442...   \n",
       "\n",
       "                                            feat_emb  use_description  \n",
       "0  [0.06364653259515762, 0.06951971352100372, 0.0...            False  \n",
       "1  [0.028321774676442146, 0.003539376426488161, 0...            False  \n",
       "2  [0.047626022, 0.05007147, -0.16455309, -0.0442...             True  "
      ]
     },
     "execution_count": 26,
     "metadata": {},
     "output_type": "execute_result"
    }
   ],
   "source": [
    "query_df"
   ]
  },
  {
   "cell_type": "markdown",
   "id": "3a5ec2c8",
   "metadata": {},
   "source": [
    "## Retrieval "
   ]
  },
  {
   "cell_type": "code",
   "execution_count": 27,
   "id": "905cef61",
   "metadata": {},
   "outputs": [],
   "source": [
    "# Nodes retrieval\n",
    "prompt = \"\"\"\n",
    "Extract all relevant information related to nodes of genes related to inflammatory bowel disease (IBD) that existed in the knowledge graph.\n",
    "In particular, extract a set of nodes and edges interconnecting the IL6, IL21, and TNF in relation to drugs called Mesalazine and Betamethasone for potentially treating the disease.\n",
    "Please set the extraction name for this process as `subkg_12345`.\n",
    "\n",
    "Tell me about interconnections that involve RELA node in the extracted graph.\n",
    "\"\"\""
   ]
  },
  {
   "cell_type": "code",
   "execution_count": 28,
   "id": "35b6ec1b",
   "metadata": {},
   "outputs": [
    {
     "name": "stderr",
     "output_type": "stream",
     "text": [
      "INFO:httpx:HTTP Request: GET http://127.0.0.1:11434/api/tags \"HTTP/1.1 200 OK\"\n",
      "INFO:httpx:HTTP Request: POST http://127.0.0.1:11434/api/embed \"HTTP/1.1 200 OK\"\n"
     ]
    }
   ],
   "source": [
    "# Using nomic-ai/nomic-embed-text-v1.5 model via Ollama\n",
    "emb_model = EmbeddingWithOllama(model_name='nomic-embed-text')\n",
    "\n",
    "# Get embeddings for the prompt\n",
    "prompt_emb = emb_model.embed_query(prompt)"
   ]
  },
  {
   "cell_type": "code",
   "execution_count": 29,
   "id": "c1d2d658",
   "metadata": {},
   "outputs": [],
   "source": [
    "import cupy as cp\n",
    "from cuvs.distance import pairwise_distance\n",
    "\n",
    "def _compute_sim_scores(features_a: cp.ndarray,\n",
    "                        features_b:  cp.ndarray,\n",
    "                        metric: str=\"cosine\"):\n",
    "        \"\"\"\n",
    "        Compute the similarity scores between two sets of features using the specified metric.\n",
    "\n",
    "        Args:\n",
    "            features_a: The first set of features.\n",
    "            features_b: The second set of features.\n",
    "            metric: The metric to use for computing the similarity scores.\n",
    "        \n",
    "        Returns:\n",
    "            The similarity scores between the two sets of features.\n",
    "        \"\"\"\n",
    "        scores = pairwise_distance(features_a, features_b, metric=metric)\n",
    "        scores = 1 - cp.asarray(scores).ravel()\n",
    "        return scores"
   ]
  },
  {
   "cell_type": "code",
   "execution_count": null,
   "id": "5bb4758e",
   "metadata": {},
   "outputs": [
    {
     "data": {
      "text/html": [
       "<div>\n",
       "<style scoped>\n",
       "    .dataframe tbody tr th:only-of-type {\n",
       "        vertical-align: middle;\n",
       "    }\n",
       "\n",
       "    .dataframe tbody tr th {\n",
       "        vertical-align: top;\n",
       "    }\n",
       "\n",
       "    .dataframe thead th {\n",
       "        text-align: right;\n",
       "    }\n",
       "</style>\n",
       "<table border=\"1\" class=\"dataframe\">\n",
       "  <thead>\n",
       "    <tr style=\"text-align: right;\">\n",
       "      <th></th>\n",
       "      <th>node_index</th>\n",
       "      <th>score</th>\n",
       "    </tr>\n",
       "  </thead>\n",
       "  <tbody>\n",
       "    <tr>\n",
       "      <th>0</th>\n",
       "      <td>0</td>\n",
       "      <td>0.643276</td>\n",
       "    </tr>\n",
       "    <tr>\n",
       "      <th>1</th>\n",
       "      <td>1</td>\n",
       "      <td>0.675348</td>\n",
       "    </tr>\n",
       "    <tr>\n",
       "      <th>2</th>\n",
       "      <td>2</td>\n",
       "      <td>0.607963</td>\n",
       "    </tr>\n",
       "    <tr>\n",
       "      <th>3</th>\n",
       "      <td>3</td>\n",
       "      <td>0.611600</td>\n",
       "    </tr>\n",
       "    <tr>\n",
       "      <th>4</th>\n",
       "      <td>4</td>\n",
       "      <td>0.600781</td>\n",
       "    </tr>\n",
       "    <tr>\n",
       "      <th>...</th>\n",
       "      <td>...</td>\n",
       "      <td>...</td>\n",
       "    </tr>\n",
       "    <tr>\n",
       "      <th>2986</th>\n",
       "      <td>2986</td>\n",
       "      <td>0.517834</td>\n",
       "    </tr>\n",
       "    <tr>\n",
       "      <th>2987</th>\n",
       "      <td>2987</td>\n",
       "      <td>0.555667</td>\n",
       "    </tr>\n",
       "    <tr>\n",
       "      <th>2988</th>\n",
       "      <td>2988</td>\n",
       "      <td>0.537938</td>\n",
       "    </tr>\n",
       "    <tr>\n",
       "      <th>2989</th>\n",
       "      <td>2989</td>\n",
       "      <td>0.552041</td>\n",
       "    </tr>\n",
       "    <tr>\n",
       "      <th>2990</th>\n",
       "      <td>2990</td>\n",
       "      <td>0.593693</td>\n",
       "    </tr>\n",
       "  </tbody>\n",
       "</table>\n",
       "<p>2991 rows × 2 columns</p>\n",
       "</div>"
      ],
      "text/plain": [
       "      node_index     score\n",
       "0              0  0.643276\n",
       "1              1  0.675348\n",
       "2              2  0.607963\n",
       "3              3  0.611600\n",
       "4              4  0.600781\n",
       "...          ...       ...\n",
       "2986        2986  0.517834\n",
       "2987        2987  0.555667\n",
       "2988        2988  0.537938\n",
       "2989        2989  0.552041\n",
       "2990        2990  0.593693\n",
       "\n",
       "[2991 rows x 2 columns]"
      ]
     },
     "execution_count": 31,
     "metadata": {},
     "output_type": "execute_result"
    }
   ],
   "source": [
    "# query_emb = prompt_emb\n",
    "\n",
    "# # All nodes similarity search\n",
    "# sim_score_df = cudf.DataFrame({\n",
    "#     'node_index': nodes_enrichment_df['node_index'],\n",
    "#     'score' : cudf.Series(cp.zeros(nodes_enrichment_df.shape[0], dtype=cp.float32))\n",
    "# }).sort_values('node_index').reset_index(drop=True)\n",
    "\n",
    "# # Calculate cosine similarity for text features and update the score\n",
    "# for nt in nodes_enrichment_df.node_type.unique().to_arrow().to_pylist():\n",
    "#     node_emb = fs[TensorAttr(group_name=nt, attr_name='desc_emb', index=None)]\n",
    "#     node_index = fs[TensorAttr(group_name=nt, attr_name='node_index', index=None)]\n",
    "#     modal_score = _compute_sim_scores(\n",
    "#         features_a=cp.array(node_emb).astype(cp.float32),\n",
    "#         features_b=cp.array(query_emb).reshape(1, -1).astype(cp.float32),\n",
    "#         metric=\"cosine\"\n",
    "#     )\n",
    "#     modal_score_df = cudf.DataFrame({\n",
    "#         'node_index': node_index,\n",
    "#         'score': modal_score\n",
    "#     }).sort_values('node_index').reset_index(drop=True)\n",
    "\n",
    "#     # Update the sim_score_df with the new scores\n",
    "#     sim_score_df = sim_score_df.merge(modal_score_df, on='node_index', how='left', suffixes=('', '_new'))\n",
    "#     sim_score_df['score'] = sim_score_df['score_new'].fillna(sim_score_df['score'])\n",
    "#     sim_score_df = sim_score_df.drop(columns=['score_new'])\n",
    "#     sim_score_df = sim_score_df.sort_values('node_index').reset_index(drop=True)\n",
    "\n",
    "# sim_score_df\n"
   ]
  },
  {
   "cell_type": "markdown",
   "id": "0848107a",
   "metadata": {},
   "source": [
    "### Nodes Retrieval"
   ]
  },
  {
   "cell_type": "code",
   "execution_count": 36,
   "id": "8d76670b",
   "metadata": {},
   "outputs": [
    {
     "data": {
      "text/html": [
       "<div>\n",
       "<style scoped>\n",
       "    .dataframe tbody tr th:only-of-type {\n",
       "        vertical-align: middle;\n",
       "    }\n",
       "\n",
       "    .dataframe tbody tr th {\n",
       "        vertical-align: top;\n",
       "    }\n",
       "\n",
       "    .dataframe thead th {\n",
       "        text-align: right;\n",
       "    }\n",
       "</style>\n",
       "<table border=\"1\" class=\"dataframe\">\n",
       "  <thead>\n",
       "    <tr style=\"text-align: right;\">\n",
       "      <th></th>\n",
       "      <th>node_index</th>\n",
       "      <th>score</th>\n",
       "    </tr>\n",
       "  </thead>\n",
       "  <tbody>\n",
       "    <tr>\n",
       "      <th>0</th>\n",
       "      <td>0</td>\n",
       "      <td>0.962305</td>\n",
       "    </tr>\n",
       "    <tr>\n",
       "      <th>1</th>\n",
       "      <td>1</td>\n",
       "      <td>0.880833</td>\n",
       "    </tr>\n",
       "    <tr>\n",
       "      <th>2</th>\n",
       "      <td>2</td>\n",
       "      <td>0.927842</td>\n",
       "    </tr>\n",
       "    <tr>\n",
       "      <th>3</th>\n",
       "      <td>3</td>\n",
       "      <td>0.964579</td>\n",
       "    </tr>\n",
       "    <tr>\n",
       "      <th>4</th>\n",
       "      <td>4</td>\n",
       "      <td>0.953058</td>\n",
       "    </tr>\n",
       "    <tr>\n",
       "      <th>...</th>\n",
       "      <td>...</td>\n",
       "      <td>...</td>\n",
       "    </tr>\n",
       "    <tr>\n",
       "      <th>2986</th>\n",
       "      <td>2986</td>\n",
       "      <td>0.000000</td>\n",
       "    </tr>\n",
       "    <tr>\n",
       "      <th>2987</th>\n",
       "      <td>2987</td>\n",
       "      <td>0.000000</td>\n",
       "    </tr>\n",
       "    <tr>\n",
       "      <th>2988</th>\n",
       "      <td>2988</td>\n",
       "      <td>0.000000</td>\n",
       "    </tr>\n",
       "    <tr>\n",
       "      <th>2989</th>\n",
       "      <td>2989</td>\n",
       "      <td>0.000000</td>\n",
       "    </tr>\n",
       "    <tr>\n",
       "      <th>2990</th>\n",
       "      <td>2990</td>\n",
       "      <td>0.000000</td>\n",
       "    </tr>\n",
       "  </tbody>\n",
       "</table>\n",
       "<p>2991 rows × 2 columns</p>\n",
       "</div>"
      ],
      "text/plain": [
       "      node_index     score\n",
       "0              0  0.962305\n",
       "1              1  0.880833\n",
       "2              2  0.927842\n",
       "3              3  0.964579\n",
       "4              4  0.953058\n",
       "...          ...       ...\n",
       "2986        2986  0.000000\n",
       "2987        2987  0.000000\n",
       "2988        2988  0.000000\n",
       "2989        2989  0.000000\n",
       "2990        2990  0.000000\n",
       "\n",
       "[2991 rows x 2 columns]"
      ]
     },
     "execution_count": 36,
     "metadata": {},
     "output_type": "execute_result"
    }
   ],
   "source": [
    "# Parameter:\n",
    "use_description = False\n",
    "modality = 'gene/protein'\n",
    "\n",
    "query_emb = fs[TensorAttr(group_name=modality, attr_name='feat_emb', index=None)][0]\n",
    "if use_description:\n",
    "    query_emb = prompt_emb\n",
    "    modality = 'prompt'\n",
    "\n",
    "# ==============\n",
    "\n",
    "# Modal-specific nodes similarity search\n",
    "node_index_sorted = nodes_enrichment_df['node_index'].sort_values(ignore_index=True)\n",
    "sim_score_df = cudf.DataFrame({\n",
    "    'node_index': node_index_sorted,\n",
    "    'score': cp.zeros(len(node_index_sorted), dtype=cp.float32)\n",
    "})\n",
    "\n",
    "# Determine modalities and feature to use\n",
    "feat = 'desc_emb' if use_description else 'feat_emb'\n",
    "modalities = nodes_enrichment_df['node_type'].unique().to_arrow().to_pylist() if use_description else [modality]\n",
    "\n",
    "# Calculate cosine similarity for text features and update the score\n",
    "score_map = {}\n",
    "for nt in modalities:\n",
    "    # print(f\"Processing node type: {nt}\")\n",
    "    \n",
    "    # Get node embeddings and indices\n",
    "    node_emb = fs[TensorAttr(group_name=nt, attr_name=feat, index=None)]\n",
    "    node_index = fs[TensorAttr(group_name=nt, attr_name='node_index', index=None)]\n",
    "\n",
    "    # Perform similarity computation\n",
    "    modal_score = _compute_sim_scores(\n",
    "        features_a=cp.asarray(node_emb, dtype=cp.float32),\n",
    "        features_b=cp.asarray(query_emb, dtype=cp.float32).reshape(1, -1),\n",
    "        metric=\"cosine\"\n",
    "    )\n",
    "\n",
    "    # Use CuPy to update scores in a flat buffer first\n",
    "    score_map[nt] = cudf.DataFrame({\n",
    "        'node_index': node_index,\n",
    "        'score': modal_score\n",
    "    })\n",
    "\n",
    "# Combine all modal score dataframes in one go (faster than sequential merging)\n",
    "if score_map:\n",
    "    all_modal_scores = cudf.concat(score_map.values())\n",
    "    sim_score_df = sim_score_df.merge(all_modal_scores, on='node_index', how='left', suffixes=('', '_new'))\n",
    "    sim_score_df['score'] = sim_score_df['score_new'].fillna(sim_score_df['score'])\n",
    "    sim_score_df = sim_score_df.drop(columns=['score_new'])\n",
    "    sim_score_df = sim_score_df.sort_values('node_index').reset_index(drop=True)\n",
    "\n",
    "sim_score_df\n"
   ]
  },
  {
   "cell_type": "code",
   "execution_count": 37,
   "id": "b2b61cab",
   "metadata": {},
   "outputs": [
    {
     "data": {
      "text/plain": [
       "0    0.0\n",
       "1    1.0\n",
       "2    5.0\n",
       "3    4.0\n",
       "4    3.0\n",
       "5    2.0\n",
       "dtype: float64"
      ]
     },
     "execution_count": 37,
     "metadata": {},
     "output_type": "execute_result"
    }
   ],
   "source": [
    "topk = 5\n",
    "\n",
    "# Set the prizes for nodes based on the similarity scores\n",
    "topk = min(topk, sim_score_df.shape[0])\n",
    "n_prizes = cudf.Series(0.0, index=cp.arange(sim_score_df.shape[0]))\n",
    "n_prizes[(-sim_score_df.score).sort_values()[:topk].index] = cp.arange(topk,\n",
    "                                                                0, -1).astype(cp.float32)\n",
    "n_prizes.unique()"
   ]
  },
  {
   "cell_type": "markdown",
   "id": "31f9fffb",
   "metadata": {},
   "source": [
    "### Edges Retrieval"
   ]
  },
  {
   "cell_type": "code",
   "execution_count": 45,
   "id": "e5792e32",
   "metadata": {},
   "outputs": [
    {
     "name": "stdout",
     "output_type": "stream",
     "text": [
      "Processing edge type: ['drug', 'carrier', 'gene/protein']\n",
      "0.610337 0.56907153 0.59043986\n",
      "Processing edge type: ['drug', 'enzyme', 'gene/protein']\n",
      "0.61401385 0.55352855 0.5838153\n",
      "Processing edge type: ['drug', 'target', 'gene/protein']\n",
      "0.6776841 0.54225314 0.60850626\n",
      "Processing edge type: ['drug', 'transporter', 'gene/protein']\n",
      "0.6388326 0.54529464 0.5889088\n",
      "Processing edge type: ['gene/protein', 'associated with', 'disease']\n",
      "0.73586786 0.62134904 0.67582864\n",
      "Processing edge type: ['gene/protein', 'interacts with', 'molecular_function']\n",
      "0.65209794 0.5007789 0.5634771\n",
      "Processing edge type: ['gene/protein', 'interacts with', 'cellular_component']\n",
      "0.6345832 0.4931153 0.5590816\n",
      "Processing edge type: ['gene/protein', 'interacts with', 'biological_process']\n",
      "0.6741964 0.5110974 0.58790225\n",
      "Processing edge type: ['gene/protein', 'carrier', 'drug']\n",
      "0.60508686 0.57738614 0.5940925\n",
      "Processing edge type: ['gene/protein', 'enzyme', 'drug']\n",
      "0.61281925 0.56178504 0.5892764\n",
      "Processing edge type: ['gene/protein', 'target', 'drug']\n",
      "0.682849 0.53691643 0.6157466\n",
      "Processing edge type: ['gene/protein', 'transporter', 'drug']\n",
      "0.6215452 0.5372206 0.57736826\n",
      "Processing edge type: ['disease', 'associated with', 'gene/protein']\n",
      "0.7421171 0.65800005 0.69326204\n",
      "Processing edge type: ['molecular_function', 'interacts with', 'gene/protein']\n",
      "0.6292667 0.48611093 0.5646347\n",
      "Processing edge type: ['cellular_component', 'interacts with', 'gene/protein']\n",
      "0.6255899 0.49485004 0.55605394\n",
      "Processing edge type: ['biological_process', 'interacts with', 'gene/protein']\n",
      "0.67077297 0.50786954 0.5819462\n"
     ]
    },
    {
     "data": {
      "text/html": [
       "<div>\n",
       "<style scoped>\n",
       "    .dataframe tbody tr th:only-of-type {\n",
       "        vertical-align: middle;\n",
       "    }\n",
       "\n",
       "    .dataframe tbody tr th {\n",
       "        vertical-align: top;\n",
       "    }\n",
       "\n",
       "    .dataframe thead th {\n",
       "        text-align: right;\n",
       "    }\n",
       "</style>\n",
       "<table border=\"1\" class=\"dataframe\">\n",
       "  <thead>\n",
       "    <tr style=\"text-align: right;\">\n",
       "      <th></th>\n",
       "      <th>triplet_index</th>\n",
       "      <th>score</th>\n",
       "    </tr>\n",
       "  </thead>\n",
       "  <tbody>\n",
       "    <tr>\n",
       "      <th>0</th>\n",
       "      <td>0</td>\n",
       "      <td>0.579141</td>\n",
       "    </tr>\n",
       "    <tr>\n",
       "      <th>1</th>\n",
       "      <td>1</td>\n",
       "      <td>0.603209</td>\n",
       "    </tr>\n",
       "    <tr>\n",
       "      <th>2</th>\n",
       "      <td>2</td>\n",
       "      <td>0.569072</td>\n",
       "    </tr>\n",
       "    <tr>\n",
       "      <th>3</th>\n",
       "      <td>3</td>\n",
       "      <td>0.610337</td>\n",
       "    </tr>\n",
       "    <tr>\n",
       "      <th>4</th>\n",
       "      <td>4</td>\n",
       "      <td>0.614014</td>\n",
       "    </tr>\n",
       "    <tr>\n",
       "      <th>...</th>\n",
       "      <td>...</td>\n",
       "      <td>...</td>\n",
       "    </tr>\n",
       "    <tr>\n",
       "      <th>11267</th>\n",
       "      <td>11267</td>\n",
       "      <td>0.548734</td>\n",
       "    </tr>\n",
       "    <tr>\n",
       "      <th>11268</th>\n",
       "      <td>11268</td>\n",
       "      <td>0.587184</td>\n",
       "    </tr>\n",
       "    <tr>\n",
       "      <th>11269</th>\n",
       "      <td>11269</td>\n",
       "      <td>0.557806</td>\n",
       "    </tr>\n",
       "    <tr>\n",
       "      <th>11270</th>\n",
       "      <td>11270</td>\n",
       "      <td>0.596282</td>\n",
       "    </tr>\n",
       "    <tr>\n",
       "      <th>11271</th>\n",
       "      <td>11271</td>\n",
       "      <td>0.611896</td>\n",
       "    </tr>\n",
       "  </tbody>\n",
       "</table>\n",
       "<p>11272 rows × 2 columns</p>\n",
       "</div>"
      ],
      "text/plain": [
       "       triplet_index     score\n",
       "0                  0  0.579141\n",
       "1                  1  0.603209\n",
       "2                  2  0.569072\n",
       "3                  3  0.610337\n",
       "4                  4  0.614014\n",
       "...              ...       ...\n",
       "11267          11267  0.548734\n",
       "11268          11268  0.587184\n",
       "11269          11269  0.557806\n",
       "11270          11270  0.596282\n",
       "11271          11271  0.611896\n",
       "\n",
       "[11272 rows x 2 columns]"
      ]
     },
     "execution_count": 45,
     "metadata": {},
     "output_type": "execute_result"
    }
   ],
   "source": [
    "query_emb = prompt_emb\n",
    "\n",
    "# Edges retrieval\n",
    "triplet_index_sorted = edges_enrichment_df['triplet_index'].sort_values(ignore_index=True)\n",
    "sim_score_df = cudf.DataFrame({\n",
    "    'triplet_index': triplet_index_sorted,\n",
    "    'score': cp.zeros(len(triplet_index_sorted), dtype=cp.float32)\n",
    "})\n",
    "\n",
    "# # Determine modalities and feature to use\n",
    "# feat = 'desc_emb' if use_description else 'feat_emb'\n",
    "# modalities = nodes_enrichment_df['node_type'].unique().to_arrow().to_pylist() if use_description else [modality]\n",
    "\n",
    "# Calculate cosine similarity for text features and update the score\n",
    "score_map = {}\n",
    "for et in edges_enrichment_df.edge_type.unique().to_arrow().to_pylist():\n",
    "    print(f\"Processing edge type: {et}\")\n",
    "    \n",
    "    # Get node embeddings and indices\n",
    "    edge_emb = fs[TensorAttr(group_name=tuple(et), attr_name='edge_emb', index=None)][0]\n",
    "    triplet_index = fs[TensorAttr(group_name=tuple(et), attr_name='triplet_index', index=None)][0]\n",
    "\n",
    "    # Perform similarity computation\n",
    "    modal_score = _compute_sim_scores(\n",
    "        features_a=cp.asarray(edge_emb, dtype=cp.float32),\n",
    "        features_b=cp.asarray(query_emb, dtype=cp.float32).reshape(1, -1),\n",
    "        metric=\"cosine\"\n",
    "    )\n",
    "\n",
    "    # Use CuPy to update scores in a flat buffer first\n",
    "    score_map['|'.join(et)] = cudf.DataFrame({\n",
    "        'triplet_index': triplet_index,\n",
    "        'score': modal_score\n",
    "    })\n",
    "\n",
    "    print(modal_score.max(), modal_score.min(), modal_score.mean())\n",
    "\n",
    "# Combine all modal score dataframes in one go (faster than sequential merging)\n",
    "if score_map:\n",
    "    all_modal_scores = cudf.concat(score_map.values())\n",
    "    sim_score_df = sim_score_df.merge(all_modal_scores, on='triplet_index', how='left', suffixes=('', '_new'))\n",
    "    sim_score_df['score'] = sim_score_df['score_new'].fillna(sim_score_df['score'])\n",
    "    sim_score_df = sim_score_df.drop(columns=['score_new'])\n",
    "    sim_score_df = sim_score_df.sort_values('triplet_index').reset_index(drop=True)\n",
    "\n",
    "sim_score_df"
   ]
  },
  {
   "cell_type": "code",
   "execution_count": 51,
   "id": "1ccf017a",
   "metadata": {},
   "outputs": [
    {
     "data": {
      "text/plain": [
       "(array([0.48611093, 0.4931153 , 0.49485004, ..., 0.73586786, 0.73871225,\n",
       "        0.7421171 ], dtype=float32),\n",
       " array([5360, 8368, 3891, ..., 2360, 7644, 9162]))"
      ]
     },
     "execution_count": 51,
     "metadata": {},
     "output_type": "execute_result"
    }
   ],
   "source": [
    "e_prizes = sim_score_df.score.to_cupy()\n",
    "cp.unique(e_prizes, return_inverse=True)"
   ]
  },
  {
   "cell_type": "code",
   "execution_count": 52,
   "id": "b3abc6d0",
   "metadata": {},
   "outputs": [
    {
     "data": {
      "text/plain": [
       "array([0., 0., 0., ..., 0., 0., 0.], dtype=float32)"
      ]
     },
     "execution_count": 52,
     "metadata": {},
     "output_type": "execute_result"
    }
   ],
   "source": [
    "topk_e = 5\n",
    "c_const = 0.1\n",
    "\n",
    "# ==============\n",
    "\n",
    "unique_prizes, inverse_indices = cp.unique(e_prizes, return_inverse=True)\n",
    "topk_e = min(topk_e, len(triplet_index_sorted))\n",
    "topk_e_values = unique_prizes[cp.argsort(-unique_prizes)[:topk_e]]\n",
    "e_prizes[e_prizes < topk_e_values[-1]] = 0.0\n",
    "last_topk_e_value = topk_e\n",
    "for k in range(topk_e):\n",
    "    indices = inverse_indices == (unique_prizes == topk_e_values[k]).nonzero()[0]\n",
    "    value = min((topk_e - k) / indices.sum().item(), last_topk_e_value)\n",
    "    e_prizes[indices] = value\n",
    "    last_topk_e_value = value * (1 - c_const)\n",
    "\n",
    "e_prizes"
   ]
  },
  {
   "cell_type": "code",
   "execution_count": 55,
   "id": "5762fec3",
   "metadata": {},
   "outputs": [
    {
     "data": {
      "text/plain": [
       "array([0., 0., 0., ..., 0., 0., 0.], dtype=float32)"
      ]
     },
     "execution_count": 55,
     "metadata": {},
     "output_type": "execute_result"
    }
   ],
   "source": [
    "e_prizes"
   ]
  },
  {
   "cell_type": "code",
   "execution_count": 56,
   "id": "9c6d0be0",
   "metadata": {},
   "outputs": [
    {
     "data": {
      "text/plain": [
       "array([0., 1., 2., 3., 4., 5.], dtype=float32)"
      ]
     },
     "execution_count": 56,
     "metadata": {},
     "output_type": "execute_result"
    }
   ],
   "source": [
    "cp.unique(e_prizes)"
   ]
  },
  {
   "cell_type": "code",
   "execution_count": 47,
   "id": "6ac8b992",
   "metadata": {},
   "outputs": [
    {
     "data": {
      "text/plain": [
       "(0.7421171, 0.48611093, 0.5858773330769868, 0.5809487700462341)"
      ]
     },
     "execution_count": 47,
     "metadata": {},
     "output_type": "execute_result"
    }
   ],
   "source": [
    "sim_score_df.score.max(), sim_score_df.score.min(), sim_score_df.score.mean(), sim_score_df.score.median()"
   ]
  },
  {
   "cell_type": "code",
   "execution_count": 43,
   "id": "f580f49e",
   "metadata": {},
   "outputs": [
    {
     "data": {
      "text/plain": [
       "dict_keys(['gene/protein'])"
      ]
     },
     "execution_count": 43,
     "metadata": {},
     "output_type": "execute_result"
    }
   ],
   "source": [
    "score_map.keys()"
   ]
  },
  {
   "cell_type": "code",
   "execution_count": 40,
   "id": "f208cb4c",
   "metadata": {},
   "outputs": [
    {
     "data": {
      "text/plain": [
       "{'gene/protein':       triplet_index  sim_score\n",
       " 0              8182   0.582982\n",
       " 1              8183   0.572382\n",
       " 2              8184   0.586945\n",
       " 3              8185   0.587526\n",
       " 4              8186   0.601592\n",
       " ...             ...        ...\n",
       " 3085          11267   0.548734\n",
       " 3086          11268   0.587184\n",
       " 3087          11269   0.557806\n",
       " 3088          11270   0.596282\n",
       " 3089          11271   0.611896\n",
       " \n",
       " [3090 rows x 2 columns]}"
      ]
     },
     "execution_count": 40,
     "metadata": {},
     "output_type": "execute_result"
    }
   ],
   "source": [
    "score_map"
   ]
  },
  {
   "cell_type": "code",
   "execution_count": null,
   "id": "e658e8e9",
   "metadata": {},
   "outputs": [],
   "source": [
    "edge_emb.shape"
   ]
  },
  {
   "cell_type": "code",
   "execution_count": null,
   "id": "beb0b866",
   "metadata": {},
   "outputs": [],
   "source": [
    "triplet_index.shape"
   ]
  },
  {
   "cell_type": "code",
   "execution_count": null,
   "id": "f13ff35d",
   "metadata": {},
   "outputs": [],
   "source": [
    "modal_score"
   ]
  }
 ],
 "metadata": {
  "kernelspec": {
   "display_name": "venv",
   "language": "python",
   "name": "python3"
  },
  "language_info": {
   "codemirror_mode": {
    "name": "ipython",
    "version": 3
   },
   "file_extension": ".py",
   "mimetype": "text/x-python",
   "name": "python",
   "nbconvert_exporter": "python",
   "pygments_lexer": "ipython3",
   "version": "3.12.9"
  }
 },
 "nbformat": 4,
 "nbformat_minor": 5
}
