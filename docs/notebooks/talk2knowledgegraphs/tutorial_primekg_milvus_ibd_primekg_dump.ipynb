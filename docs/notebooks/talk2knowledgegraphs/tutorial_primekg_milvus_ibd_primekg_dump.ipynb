{
 "cells": [
  {
   "cell_type": "markdown",
   "id": "0de0f1c5",
   "metadata": {},
   "source": [
    "In this tutorial, we will prepare Milvus database for storing and searching nodes and edges of a graph.\n",
    "\n",
    "In particular, we are using PrimeKG multimodal data from the BioBridge project."
   ]
  },
  {
   "cell_type": "code",
   "execution_count": 1,
   "id": "0f7a0c13",
   "metadata": {},
   "outputs": [],
   "source": [
    "# Load necessary libraries\n",
    "import os\n",
    "import glob\n",
    "import hydra\n",
    "import cudf\n",
    "import cupy as cp\n",
    "import numpy as np\n",
    "from pymilvus import (\n",
    "    db,\n",
    "    connections,\n",
    "    FieldSchema,\n",
    "    CollectionSchema,\n",
    "    DataType,\n",
    "    Collection,\n",
    "    utility,\n",
    "    MilvusClient\n",
    ")\n",
    "from tqdm import tqdm\n",
    "import time\n",
    "import pickle"
   ]
  },
  {
   "cell_type": "markdown",
   "id": "ac57d9a5",
   "metadata": {},
   "source": [
    "### Loading IBD BioBridge-PrimeKG Multimodal Data"
   ]
  },
  {
   "cell_type": "markdown",
   "id": "7a9e8eb8",
   "metadata": {},
   "source": [
    "First, we need to get the path to the directory containing the parquet files of nodes and edges.\n",
    "\n",
    "For nodes and edges, we have a separate folder that contains its enrichment and embeddings."
   ]
  },
  {
   "cell_type": "code",
   "execution_count": 2,
   "id": "63985d5b",
   "metadata": {},
   "outputs": [
    {
     "name": "stderr",
     "output_type": "stream",
     "text": [
      "/home/awmulyadi/Repositories/AIAgents4Pharma/venv/lib/python3.12/site-packages/tqdm/auto.py:21: TqdmWarning: IProgress not found. Please update jupyter and ipywidgets. See https://ipywidgets.readthedocs.io/en/stable/user_install.html\n",
      "  from .autonotebook import tqdm as notebook_tqdm\n"
     ]
    }
   ],
   "source": [
    "# Load pickle of the graph data\n",
    "with open('../../../aiagents4pharma/talk2knowledgegraphs/tests/files/biobridge_multimodal_pyg_graph.pkl', 'rb') as f:\n",
    "    graph = pickle.load(f)"
   ]
  },
  {
   "cell_type": "code",
   "execution_count": 3,
   "id": "8c43516e",
   "metadata": {},
   "outputs": [],
   "source": [
    "def normalize_matrix(m, axis=1):\n",
    "    \"\"\"\n",
    "    Normalize each row of a 2D matrix using CuPy.\n",
    "    \n",
    "    Parameters:\n",
    "    m (cupy.ndarray): 2D matrix to normalize.\n",
    "    \n",
    "    Returns:\n",
    "    cupy.ndarray: Normalized matrix.\n",
    "    \"\"\"\n",
    "    norms = cp.linalg.norm(m, axis=axis, keepdims=True)\n",
    "    return m / norms\n",
    "\n",
    "def normalize_vector(v):\n",
    "    \"\"\"\n",
    "    Normalize a vector using CuPy.\n",
    "    \n",
    "    Parameters:\n",
    "    v (cupy.ndarray): Vector to normalize.\n",
    "    \n",
    "    Returns:\n",
    "    cupy.ndarray: Normalized vector.\n",
    "    \"\"\"\n",
    "    v = cp.asarray(v)\n",
    "    norm = cp.linalg.norm(v)\n",
    "    return v / norm"
   ]
  },
  {
   "cell_type": "code",
   "execution_count": 4,
   "id": "ff55ef28",
   "metadata": {},
   "outputs": [
    {
     "data": {
      "text/html": [
       "<div>\n",
       "<style scoped>\n",
       "    .dataframe tbody tr th:only-of-type {\n",
       "        vertical-align: middle;\n",
       "    }\n",
       "\n",
       "    .dataframe tbody tr th {\n",
       "        vertical-align: top;\n",
       "    }\n",
       "\n",
       "    .dataframe thead th {\n",
       "        text-align: right;\n",
       "    }\n",
       "</style>\n",
       "<table border=\"1\" class=\"dataframe\">\n",
       "  <thead>\n",
       "    <tr style=\"text-align: right;\">\n",
       "      <th></th>\n",
       "      <th>node_index</th>\n",
       "      <th>node_id</th>\n",
       "      <th>node_name</th>\n",
       "      <th>node_type</th>\n",
       "      <th>desc</th>\n",
       "      <th>desc_emb</th>\n",
       "      <th>feat</th>\n",
       "      <th>feat_emb</th>\n",
       "    </tr>\n",
       "  </thead>\n",
       "  <tbody>\n",
       "    <tr>\n",
       "      <th>0</th>\n",
       "      <td>0</td>\n",
       "      <td>SMAD3_(144)</td>\n",
       "      <td>SMAD3</td>\n",
       "      <td>gene/protein</td>\n",
       "      <td>SMAD3 belongs to gene/protein node. SMAD3 is S...</td>\n",
       "      <td>[0.02974936784975063, 0.05350021171537046, -0....</td>\n",
       "      <td>MSSILPFTPPIVKRLLGWKKGEQNGQEEKWCEKAVKSLVKKLKKTG...</td>\n",
       "      <td>[-0.0010794274069904548, -0.0028632148270051, ...</td>\n",
       "    </tr>\n",
       "    <tr>\n",
       "      <th>1</th>\n",
       "      <td>1</td>\n",
       "      <td>IL10RB_(179)</td>\n",
       "      <td>IL10RB</td>\n",
       "      <td>gene/protein</td>\n",
       "      <td>IL10RB belongs to gene/protein node. IL10RB is...</td>\n",
       "      <td>[0.02842173040130417, 0.01986006372730412, -0....</td>\n",
       "      <td>MAWSLGSWLGGCLLVSALGMVPPPENVRMNSVNFKNILQWESPAFA...</td>\n",
       "      <td>[-0.007157766077247574, 0.006195289622587354, ...</td>\n",
       "    </tr>\n",
       "    <tr>\n",
       "      <th>2</th>\n",
       "      <td>2</td>\n",
       "      <td>GNA12_(192)</td>\n",
       "      <td>GNA12</td>\n",
       "      <td>gene/protein</td>\n",
       "      <td>GNA12 belongs to gene/protein node. GNA12 is G...</td>\n",
       "      <td>[0.003668847841835145, 0.051380571197126614, -...</td>\n",
       "      <td>MSGVVRTLSRCLLPAEAGGARERRAGSGARDAEREARRRSRDIDAL...</td>\n",
       "      <td>[-0.001562959383761, -0.01338132129666802, -0....</td>\n",
       "    </tr>\n",
       "  </tbody>\n",
       "</table>\n",
       "</div>"
      ],
      "text/plain": [
       "   node_index       node_id node_name     node_type  \\\n",
       "0           0   SMAD3_(144)     SMAD3  gene/protein   \n",
       "1           1  IL10RB_(179)    IL10RB  gene/protein   \n",
       "2           2   GNA12_(192)     GNA12  gene/protein   \n",
       "\n",
       "                                                desc  \\\n",
       "0  SMAD3 belongs to gene/protein node. SMAD3 is S...   \n",
       "1  IL10RB belongs to gene/protein node. IL10RB is...   \n",
       "2  GNA12 belongs to gene/protein node. GNA12 is G...   \n",
       "\n",
       "                                            desc_emb  \\\n",
       "0  [0.02974936784975063, 0.05350021171537046, -0....   \n",
       "1  [0.02842173040130417, 0.01986006372730412, -0....   \n",
       "2  [0.003668847841835145, 0.051380571197126614, -...   \n",
       "\n",
       "                                                feat  \\\n",
       "0  MSSILPFTPPIVKRLLGWKKGEQNGQEEKWCEKAVKSLVKKLKKTG...   \n",
       "1  MAWSLGSWLGGCLLVSALGMVPPPENVRMNSVNFKNILQWESPAFA...   \n",
       "2  MSGVVRTLSRCLLPAEAGGARERRAGSGARDAEREARRRSRDIDAL...   \n",
       "\n",
       "                                            feat_emb  \n",
       "0  [-0.0010794274069904548, -0.0028632148270051, ...  \n",
       "1  [-0.007157766077247574, 0.006195289622587354, ...  \n",
       "2  [-0.001562959383761, -0.01338132129666802, -0....  "
      ]
     },
     "execution_count": 4,
     "metadata": {},
     "output_type": "execute_result"
    }
   ],
   "source": [
    "# Convert the list of embeddings to a 2D CuPy array (N x D)\n",
    "graph_desc_x_cp = cp.asarray(graph['desc_x'].tolist())\n",
    "\n",
    "# Normalize all rows (vectors) using broadcasting\n",
    "graph_desc_x_normalized = normalize_matrix(graph_desc_x_cp, axis=1)\n",
    "graph_x_normalized = [normalize_vector(v).tolist() for v in graph['x']]\n",
    "\n",
    "# Convert the graph nodes to a cudf DataFrame\n",
    "nodes_df = cudf.DataFrame({\n",
    "    'node_id': graph['node_id'],\n",
    "    'node_name': graph['node_name'],\n",
    "    'node_type': graph['node_type'],\n",
    "    'desc': graph['desc'],\n",
    "    'desc_emb': graph_desc_x_normalized.tolist(),\n",
    "    'feat': graph['enriched_node'],\n",
    "    'feat_emb': graph_x_normalized,\n",
    "})\n",
    "nodes_df.reset_index(inplace=True)\n",
    "nodes_df.rename(columns={'index': 'node_index'}, inplace=True)\n",
    "nodes_df.head(3)"
   ]
  },
  {
   "cell_type": "code",
   "execution_count": 5,
   "id": "60ede566",
   "metadata": {},
   "outputs": [
    {
     "data": {
      "text/plain": [
       "(2991, 8)"
      ]
     },
     "execution_count": 5,
     "metadata": {},
     "output_type": "execute_result"
    }
   ],
   "source": [
    "nodes_df.shape"
   ]
  },
  {
   "cell_type": "code",
   "execution_count": 14,
   "id": "33c45df4",
   "metadata": {},
   "outputs": [
    {
     "data": {
      "text/html": [
       "<div>\n",
       "<style scoped>\n",
       "    .dataframe tbody tr th:only-of-type {\n",
       "        vertical-align: middle;\n",
       "    }\n",
       "\n",
       "    .dataframe tbody tr th {\n",
       "        vertical-align: top;\n",
       "    }\n",
       "\n",
       "    .dataframe thead th {\n",
       "        text-align: right;\n",
       "    }\n",
       "</style>\n",
       "<table border=\"1\" class=\"dataframe\">\n",
       "  <thead>\n",
       "    <tr style=\"text-align: right;\">\n",
       "      <th></th>\n",
       "      <th>node_index</th>\n",
       "      <th>node_id</th>\n",
       "      <th>node_name</th>\n",
       "      <th>node_type</th>\n",
       "      <th>desc</th>\n",
       "      <th>desc_emb</th>\n",
       "      <th>feat</th>\n",
       "      <th>feat_emb</th>\n",
       "    </tr>\n",
       "  </thead>\n",
       "  <tbody>\n",
       "    <tr>\n",
       "      <th>14</th>\n",
       "      <td>14</td>\n",
       "      <td>IL6_(1567)</td>\n",
       "      <td>IL6</td>\n",
       "      <td>gene/protein</td>\n",
       "      <td>IL6 belongs to gene/protein node. IL6 is inter...</td>\n",
       "      <td>[0.04196309454625084, 0.029793425939964834, -0...</td>\n",
       "      <td>MNSFSTSAFGPVAFSLGLLLVLPAAFPAPVPPGEDSKDVAAPHRQP...</td>\n",
       "      <td>[0.004271645940645016, 0.0007511508522558354, ...</td>\n",
       "    </tr>\n",
       "    <tr>\n",
       "      <th>51</th>\n",
       "      <td>51</td>\n",
       "      <td>ICAM1_(4968)</td>\n",
       "      <td>ICAM1</td>\n",
       "      <td>gene/protein</td>\n",
       "      <td>ICAM1 belongs to gene/protein node. ICAM1 is i...</td>\n",
       "      <td>[0.034276778713674426, 0.03315937767925836, -0...</td>\n",
       "      <td>MAPSSPRPALPALLVLLGALFPGPGNAQTSVSPSKVILPRGGSVLV...</td>\n",
       "      <td>[0.00507795906312394, -0.0005075638537899229, ...</td>\n",
       "    </tr>\n",
       "    <tr>\n",
       "      <th>743</th>\n",
       "      <td>743</td>\n",
       "      <td>Atiprimod_(17591)</td>\n",
       "      <td>Atiprimod</td>\n",
       "      <td>drug</td>\n",
       "      <td>Atiprimod belongs to drug node.     Investigat...</td>\n",
       "      <td>[0.006464077617364229, 0.005259734950775257, -...</td>\n",
       "      <td>CCCC1(CCC)CCC2(CCN(CCCN(CC)CC)C2)CC1</td>\n",
       "      <td>[0.0030587854375391218, -0.03262633027902116, ...</td>\n",
       "    </tr>\n",
       "    <tr>\n",
       "      <th>749</th>\n",
       "      <td>749</td>\n",
       "      <td>Dilmapimod_(17602)</td>\n",
       "      <td>Dilmapimod</td>\n",
       "      <td>drug</td>\n",
       "      <td>Dilmapimod belongs to drug node. Dilmapimod ha...</td>\n",
       "      <td>[0.03729557040719118, 0.002621309687478571, -0...</td>\n",
       "      <td>CC1=CC(F)=CC=C1C1=C2C=CC(=O)N(C2=NC(NC(CO)CO)=...</td>\n",
       "      <td>[-0.02190920141208959, -0.043726178638557156, ...</td>\n",
       "    </tr>\n",
       "    <tr>\n",
       "      <th>1590</th>\n",
       "      <td>1590</td>\n",
       "      <td>positive regulation of leukocyte adhesion to v...</td>\n",
       "      <td>positive regulation of leukocyte adhesion to v...</td>\n",
       "      <td>biological_process</td>\n",
       "      <td>positive regulation of leukocyte adhesion to v...</td>\n",
       "      <td>[0.03933759383036314, 0.02968755905723463, -0....</td>\n",
       "      <td>Any process that activates or increases the fr...</td>\n",
       "      <td>[0.053003649343574925, 0.039327081545075464, -...</td>\n",
       "    </tr>\n",
       "    <tr>\n",
       "      <th>2531</th>\n",
       "      <td>2531</td>\n",
       "      <td>cellular response to interleukin-6_(109554)</td>\n",
       "      <td>cellular response to interleukin-6</td>\n",
       "      <td>biological_process</td>\n",
       "      <td>cellular response to interleukin-6 belongs to ...</td>\n",
       "      <td>[0.0544803034084408, 0.01141595255719802, -0.1...</td>\n",
       "      <td>Any process that results in a change in state ...</td>\n",
       "      <td>[0.060826784805779056, 0.03196426937244094, -0...</td>\n",
       "    </tr>\n",
       "    <tr>\n",
       "      <th>2756</th>\n",
       "      <td>2756</td>\n",
       "      <td>interleukin-6 receptor binding_(117413)</td>\n",
       "      <td>interleukin-6 receptor binding</td>\n",
       "      <td>molecular_function</td>\n",
       "      <td>interleukin-6 receptor binding belongs to mole...</td>\n",
       "      <td>[0.0003433517070531295, -0.0031268953771521973...</td>\n",
       "      <td>Binding to an interleukin-6 receptor.</td>\n",
       "      <td>[0.0030954857584721035, 0.006912673604171493, ...</td>\n",
       "    </tr>\n",
       "    <tr>\n",
       "      <th>2903</th>\n",
       "      <td>2903</td>\n",
       "      <td>interleukin-6 receptor complex_(124639)</td>\n",
       "      <td>interleukin-6 receptor complex</td>\n",
       "      <td>cellular_component</td>\n",
       "      <td>interleukin-6 receptor complex belongs to cell...</td>\n",
       "      <td>[-0.0008519993583764449, 0.01178766854270901, ...</td>\n",
       "      <td>A hexameric protein complex consisting of two ...</td>\n",
       "      <td>[-0.024135240203797953, 0.05303054385611603, -...</td>\n",
       "    </tr>\n",
       "  </tbody>\n",
       "</table>\n",
       "</div>"
      ],
      "text/plain": [
       "      node_index                                            node_id  \\\n",
       "14            14                                         IL6_(1567)   \n",
       "51            51                                       ICAM1_(4968)   \n",
       "743          743                                  Atiprimod_(17591)   \n",
       "749          749                                 Dilmapimod_(17602)   \n",
       "1590        1590  positive regulation of leukocyte adhesion to v...   \n",
       "2531        2531        cellular response to interleukin-6_(109554)   \n",
       "2756        2756            interleukin-6 receptor binding_(117413)   \n",
       "2903        2903            interleukin-6 receptor complex_(124639)   \n",
       "\n",
       "                                              node_name           node_type  \\\n",
       "14                                                  IL6        gene/protein   \n",
       "51                                                ICAM1        gene/protein   \n",
       "743                                           Atiprimod                drug   \n",
       "749                                          Dilmapimod                drug   \n",
       "1590  positive regulation of leukocyte adhesion to v...  biological_process   \n",
       "2531                 cellular response to interleukin-6  biological_process   \n",
       "2756                     interleukin-6 receptor binding  molecular_function   \n",
       "2903                     interleukin-6 receptor complex  cellular_component   \n",
       "\n",
       "                                                   desc  \\\n",
       "14    IL6 belongs to gene/protein node. IL6 is inter...   \n",
       "51    ICAM1 belongs to gene/protein node. ICAM1 is i...   \n",
       "743   Atiprimod belongs to drug node.     Investigat...   \n",
       "749   Dilmapimod belongs to drug node. Dilmapimod ha...   \n",
       "1590  positive regulation of leukocyte adhesion to v...   \n",
       "2531  cellular response to interleukin-6 belongs to ...   \n",
       "2756  interleukin-6 receptor binding belongs to mole...   \n",
       "2903  interleukin-6 receptor complex belongs to cell...   \n",
       "\n",
       "                                               desc_emb  \\\n",
       "14    [0.04196309454625084, 0.029793425939964834, -0...   \n",
       "51    [0.034276778713674426, 0.03315937767925836, -0...   \n",
       "743   [0.006464077617364229, 0.005259734950775257, -...   \n",
       "749   [0.03729557040719118, 0.002621309687478571, -0...   \n",
       "1590  [0.03933759383036314, 0.02968755905723463, -0....   \n",
       "2531  [0.0544803034084408, 0.01141595255719802, -0.1...   \n",
       "2756  [0.0003433517070531295, -0.0031268953771521973...   \n",
       "2903  [-0.0008519993583764449, 0.01178766854270901, ...   \n",
       "\n",
       "                                                   feat  \\\n",
       "14    MNSFSTSAFGPVAFSLGLLLVLPAAFPAPVPPGEDSKDVAAPHRQP...   \n",
       "51    MAPSSPRPALPALLVLLGALFPGPGNAQTSVSPSKVILPRGGSVLV...   \n",
       "743                CCCC1(CCC)CCC2(CCN(CCCN(CC)CC)C2)CC1   \n",
       "749   CC1=CC(F)=CC=C1C1=C2C=CC(=O)N(C2=NC(NC(CO)CO)=...   \n",
       "1590  Any process that activates or increases the fr...   \n",
       "2531  Any process that results in a change in state ...   \n",
       "2756              Binding to an interleukin-6 receptor.   \n",
       "2903  A hexameric protein complex consisting of two ...   \n",
       "\n",
       "                                               feat_emb  \n",
       "14    [0.004271645940645016, 0.0007511508522558354, ...  \n",
       "51    [0.00507795906312394, -0.0005075638537899229, ...  \n",
       "743   [0.0030587854375391218, -0.03262633027902116, ...  \n",
       "749   [-0.02190920141208959, -0.043726178638557156, ...  \n",
       "1590  [0.053003649343574925, 0.039327081545075464, -...  \n",
       "2531  [0.060826784805779056, 0.03196426937244094, -0...  \n",
       "2756  [0.0030954857584721035, 0.006912673604171493, ...  \n",
       "2903  [-0.024135240203797953, 0.05303054385611603, -...  "
      ]
     },
     "execution_count": 14,
     "metadata": {},
     "output_type": "execute_result"
    }
   ],
   "source": [
    "nodes_df[nodes_df.node_index.isin([14, 51, 743, 749, 1590, 2531, 2756, 2903])]"
   ]
  },
  {
   "cell_type": "code",
   "execution_count": 6,
   "id": "9921fce4",
   "metadata": {},
   "outputs": [
    {
     "data": {
      "text/html": [
       "<div>\n",
       "<style scoped>\n",
       "    .dataframe tbody tr th:only-of-type {\n",
       "        vertical-align: middle;\n",
       "    }\n",
       "\n",
       "    .dataframe tbody tr th {\n",
       "        vertical-align: top;\n",
       "    }\n",
       "\n",
       "    .dataframe thead th {\n",
       "        text-align: right;\n",
       "    }\n",
       "</style>\n",
       "<table border=\"1\" class=\"dataframe\">\n",
       "  <thead>\n",
       "    <tr style=\"text-align: right;\">\n",
       "      <th></th>\n",
       "      <th>node_index</th>\n",
       "      <th>node_id</th>\n",
       "      <th>node_name</th>\n",
       "      <th>node_type</th>\n",
       "      <th>desc</th>\n",
       "      <th>desc_emb</th>\n",
       "      <th>feat</th>\n",
       "      <th>feat_emb</th>\n",
       "    </tr>\n",
       "  </thead>\n",
       "  <tbody>\n",
       "    <tr>\n",
       "      <th>5</th>\n",
       "      <td>5</td>\n",
       "      <td>IL7R_(625)</td>\n",
       "      <td>IL7R</td>\n",
       "      <td>gene/protein</td>\n",
       "      <td>IL7R belongs to gene/protein node. IL7R is int...</td>\n",
       "      <td>[0.04506901097086558, 0.008911124460235972, -0...</td>\n",
       "      <td>MTILGTTFGMVFSLLQVVSGESGYAQNGDLEDAELDDYSFSCYSQL...</td>\n",
       "      <td>[0.005123700132302352, 0.005596505431503881, 0...</td>\n",
       "    </tr>\n",
       "  </tbody>\n",
       "</table>\n",
       "</div>"
      ],
      "text/plain": [
       "   node_index     node_id node_name     node_type  \\\n",
       "5           5  IL7R_(625)      IL7R  gene/protein   \n",
       "\n",
       "                                                desc  \\\n",
       "5  IL7R belongs to gene/protein node. IL7R is int...   \n",
       "\n",
       "                                            desc_emb  \\\n",
       "5  [0.04506901097086558, 0.008911124460235972, -0...   \n",
       "\n",
       "                                                feat  \\\n",
       "5  MTILGTTFGMVFSLLQVVSGESGYAQNGDLEDAELDDYSFSCYSQL...   \n",
       "\n",
       "                                            feat_emb  \n",
       "5  [0.005123700132302352, 0.005596505431503881, 0...  "
      ]
     },
     "execution_count": 6,
     "metadata": {},
     "output_type": "execute_result"
    }
   ],
   "source": [
    "nodes_df[nodes_df.node_index == 5]"
   ]
  },
  {
   "cell_type": "code",
   "execution_count": 7,
   "id": "1c7ec0bd",
   "metadata": {},
   "outputs": [
    {
     "data": {
      "text/html": [
       "<div>\n",
       "<style scoped>\n",
       "    .dataframe tbody tr th:only-of-type {\n",
       "        vertical-align: middle;\n",
       "    }\n",
       "\n",
       "    .dataframe tbody tr th {\n",
       "        vertical-align: top;\n",
       "    }\n",
       "\n",
       "    .dataframe thead th {\n",
       "        text-align: right;\n",
       "    }\n",
       "</style>\n",
       "<table border=\"1\" class=\"dataframe\">\n",
       "  <thead>\n",
       "    <tr style=\"text-align: right;\">\n",
       "      <th></th>\n",
       "      <th>triplet_index</th>\n",
       "      <th>head_id</th>\n",
       "      <th>head_name</th>\n",
       "      <th>tail_id</th>\n",
       "      <th>tail_name</th>\n",
       "      <th>display_relation</th>\n",
       "      <th>edge_type</th>\n",
       "      <th>edge_type_str</th>\n",
       "      <th>feat</th>\n",
       "      <th>edge_emb</th>\n",
       "      <th>head_index</th>\n",
       "      <th>tail_index</th>\n",
       "    </tr>\n",
       "  </thead>\n",
       "  <tbody>\n",
       "    <tr>\n",
       "      <th>0</th>\n",
       "      <td>8602</td>\n",
       "      <td>cytokine-mediated signaling pathway_(47242)</td>\n",
       "      <td>cytokine-mediated signaling pathway</td>\n",
       "      <td>IL10RB_(179)</td>\n",
       "      <td>IL10RB</td>\n",
       "      <td>interacts with</td>\n",
       "      <td>[biological_process, interacts with, gene/prot...</td>\n",
       "      <td>biological_process|interacts with|gene/protein</td>\n",
       "      <td>cytokine-mediated signaling pathway (biologica...</td>\n",
       "      <td>[0.016838406414606846, 0.019238545922865967, -...</td>\n",
       "      <td>1455</td>\n",
       "      <td>1</td>\n",
       "    </tr>\n",
       "    <tr>\n",
       "      <th>1</th>\n",
       "      <td>8603</td>\n",
       "      <td>cytokine-mediated signaling pathway_(47242)</td>\n",
       "      <td>cytokine-mediated signaling pathway</td>\n",
       "      <td>IL12B_(6168)</td>\n",
       "      <td>IL12B</td>\n",
       "      <td>interacts with</td>\n",
       "      <td>[biological_process, interacts with, gene/prot...</td>\n",
       "      <td>biological_process|interacts with|gene/protein</td>\n",
       "      <td>cytokine-mediated signaling pathway (biologica...</td>\n",
       "      <td>[0.018197947379867397, 0.03141968316046658, -0...</td>\n",
       "      <td>1455</td>\n",
       "      <td>59</td>\n",
       "    </tr>\n",
       "    <tr>\n",
       "      <th>2</th>\n",
       "      <td>8604</td>\n",
       "      <td>cytokine-mediated signaling pathway_(47242)</td>\n",
       "      <td>cytokine-mediated signaling pathway</td>\n",
       "      <td>IRF5_(3646)</td>\n",
       "      <td>IRF5</td>\n",
       "      <td>interacts with</td>\n",
       "      <td>[biological_process, interacts with, gene/prot...</td>\n",
       "      <td>biological_process|interacts with|gene/protein</td>\n",
       "      <td>cytokine-mediated signaling pathway (biologica...</td>\n",
       "      <td>[0.018029207941198132, 0.019414354880667273, -...</td>\n",
       "      <td>1455</td>\n",
       "      <td>46</td>\n",
       "    </tr>\n",
       "  </tbody>\n",
       "</table>\n",
       "</div>"
      ],
      "text/plain": [
       "   triplet_index                                      head_id  \\\n",
       "0           8602  cytokine-mediated signaling pathway_(47242)   \n",
       "1           8603  cytokine-mediated signaling pathway_(47242)   \n",
       "2           8604  cytokine-mediated signaling pathway_(47242)   \n",
       "\n",
       "                             head_name       tail_id tail_name  \\\n",
       "0  cytokine-mediated signaling pathway  IL10RB_(179)    IL10RB   \n",
       "1  cytokine-mediated signaling pathway  IL12B_(6168)     IL12B   \n",
       "2  cytokine-mediated signaling pathway   IRF5_(3646)      IRF5   \n",
       "\n",
       "  display_relation                                          edge_type  \\\n",
       "0   interacts with  [biological_process, interacts with, gene/prot...   \n",
       "1   interacts with  [biological_process, interacts with, gene/prot...   \n",
       "2   interacts with  [biological_process, interacts with, gene/prot...   \n",
       "\n",
       "                                    edge_type_str  \\\n",
       "0  biological_process|interacts with|gene/protein   \n",
       "1  biological_process|interacts with|gene/protein   \n",
       "2  biological_process|interacts with|gene/protein   \n",
       "\n",
       "                                                feat  \\\n",
       "0  cytokine-mediated signaling pathway (biologica...   \n",
       "1  cytokine-mediated signaling pathway (biologica...   \n",
       "2  cytokine-mediated signaling pathway (biologica...   \n",
       "\n",
       "                                            edge_emb  head_index  tail_index  \n",
       "0  [0.016838406414606846, 0.019238545922865967, -...        1455           1  \n",
       "1  [0.018197947379867397, 0.03141968316046658, -0...        1455          59  \n",
       "2  [0.018029207941198132, 0.019414354880667273, -...        1455          46  "
      ]
     },
     "execution_count": 7,
     "metadata": {},
     "output_type": "execute_result"
    }
   ],
   "source": [
    "# Convert the list of edge embeddings to a 2D CuPy array (M x D)\n",
    "graph_edge_attr_cp = cp.asarray(graph['edge_attr'].tolist())\n",
    "\n",
    "# Normalize all rows (vectors) using broadcasting\n",
    "graph_edge_attr_normalized = normalize_matrix(graph_edge_attr_cp, axis=1)\n",
    "\n",
    "# Convert the graph edges to a cudf DataFrame\n",
    "edges_df = cudf.DataFrame({\n",
    "    'triplet_index': graph['triplet_index'],\n",
    "    'head_id': graph['head_id'],\n",
    "    'head_name': graph['head_name'],\n",
    "    'tail_id': graph['tail_id'],\n",
    "    'tail_name': graph['tail_name'],\n",
    "    'display_relation': graph['display_relation'],\n",
    "    'edge_type': graph['edge_type'],\n",
    "    'edge_type_str': ['|'.join(e) for e in graph['edge_type']],\n",
    "    'feat': graph['enriched_edge'],\n",
    "    'edge_emb': graph_edge_attr_normalized.tolist(),\n",
    "})\n",
    "edges_df = edges_df.merge(\n",
    "    nodes_df[['node_index', 'node_id']],\n",
    "    left_on='head_id',\n",
    "    right_on='node_id',\n",
    "    how='left'\n",
    ")\n",
    "edges_df.rename(columns={'node_index': 'head_index'}, inplace=True)\n",
    "edges_df.drop(columns=['node_id'], inplace=True)\n",
    "edges_df = edges_df.merge(\n",
    "    nodes_df[['node_index', 'node_id']],\n",
    "    left_on='tail_id',\n",
    "    right_on='node_id',\n",
    "    how='left'\n",
    ")\n",
    "edges_df.rename(columns={'node_index': 'tail_index'}, inplace=True)\n",
    "edges_df.drop(columns=['node_id'], inplace=True)\n",
    "edges_df.head(3)"
   ]
  },
  {
   "cell_type": "code",
   "execution_count": 8,
   "id": "937f1ed7",
   "metadata": {},
   "outputs": [
    {
     "data": {
      "text/plain": [
       "(11272, 12)"
      ]
     },
     "execution_count": 8,
     "metadata": {},
     "output_type": "execute_result"
    }
   ],
   "source": [
    "edges_df.shape"
   ]
  },
  {
   "cell_type": "code",
   "execution_count": 16,
   "id": "f80ff996",
   "metadata": {},
   "outputs": [
    {
     "data": {
      "text/html": [
       "<div>\n",
       "<style scoped>\n",
       "    .dataframe tbody tr th:only-of-type {\n",
       "        vertical-align: middle;\n",
       "    }\n",
       "\n",
       "    .dataframe tbody tr th {\n",
       "        vertical-align: top;\n",
       "    }\n",
       "\n",
       "    .dataframe thead th {\n",
       "        text-align: right;\n",
       "    }\n",
       "</style>\n",
       "<table border=\"1\" class=\"dataframe\">\n",
       "  <thead>\n",
       "    <tr style=\"text-align: right;\">\n",
       "      <th></th>\n",
       "      <th>triplet_index</th>\n",
       "      <th>head_id</th>\n",
       "      <th>head_name</th>\n",
       "      <th>tail_id</th>\n",
       "      <th>tail_name</th>\n",
       "      <th>display_relation</th>\n",
       "      <th>edge_type</th>\n",
       "      <th>edge_type_str</th>\n",
       "      <th>feat</th>\n",
       "      <th>edge_emb</th>\n",
       "      <th>head_index</th>\n",
       "      <th>tail_index</th>\n",
       "    </tr>\n",
       "  </thead>\n",
       "  <tbody>\n",
       "    <tr>\n",
       "      <th>10483</th>\n",
       "      <td>4752</td>\n",
       "      <td>ICAM1_(4968)</td>\n",
       "      <td>ICAM1</td>\n",
       "      <td>cellular response to interleukin-6_(109554)</td>\n",
       "      <td>cellular response to interleukin-6</td>\n",
       "      <td>interacts with</td>\n",
       "      <td>[gene/protein, interacts with, biological_proc...</td>\n",
       "      <td>gene/protein|interacts with|biological_process</td>\n",
       "      <td>ICAM1 (gene/protein) has a direct relationship...</td>\n",
       "      <td>[0.0445736235330466, 0.02968640366378288, -0.1...</td>\n",
       "      <td>51</td>\n",
       "      <td>2531</td>\n",
       "    </tr>\n",
       "  </tbody>\n",
       "</table>\n",
       "</div>"
      ],
      "text/plain": [
       "       triplet_index       head_id head_name  \\\n",
       "10483           4752  ICAM1_(4968)     ICAM1   \n",
       "\n",
       "                                           tail_id  \\\n",
       "10483  cellular response to interleukin-6_(109554)   \n",
       "\n",
       "                                tail_name display_relation  \\\n",
       "10483  cellular response to interleukin-6   interacts with   \n",
       "\n",
       "                                               edge_type  \\\n",
       "10483  [gene/protein, interacts with, biological_proc...   \n",
       "\n",
       "                                        edge_type_str  \\\n",
       "10483  gene/protein|interacts with|biological_process   \n",
       "\n",
       "                                                    feat  \\\n",
       "10483  ICAM1 (gene/protein) has a direct relationship...   \n",
       "\n",
       "                                                edge_emb  head_index  \\\n",
       "10483  [0.0445736235330466, 0.02968640366378288, -0.1...          51   \n",
       "\n",
       "       tail_index  \n",
       "10483        2531  "
      ]
     },
     "execution_count": 16,
     "metadata": {},
     "output_type": "execute_result"
    }
   ],
   "source": [
    "edges_df[edges_df.triplet_index == 4752]"
   ]
  },
  {
   "cell_type": "code",
   "execution_count": 15,
   "id": "c2be4231",
   "metadata": {},
   "outputs": [
    {
     "data": {
      "text/html": [
       "<div>\n",
       "<style scoped>\n",
       "    .dataframe tbody tr th:only-of-type {\n",
       "        vertical-align: middle;\n",
       "    }\n",
       "\n",
       "    .dataframe tbody tr th {\n",
       "        vertical-align: top;\n",
       "    }\n",
       "\n",
       "    .dataframe thead th {\n",
       "        text-align: right;\n",
       "    }\n",
       "</style>\n",
       "<table border=\"1\" class=\"dataframe\">\n",
       "  <thead>\n",
       "    <tr style=\"text-align: right;\">\n",
       "      <th></th>\n",
       "      <th>triplet_index</th>\n",
       "      <th>head_id</th>\n",
       "      <th>head_name</th>\n",
       "      <th>tail_id</th>\n",
       "      <th>tail_name</th>\n",
       "      <th>display_relation</th>\n",
       "      <th>edge_type</th>\n",
       "      <th>edge_type_str</th>\n",
       "      <th>feat</th>\n",
       "      <th>edge_emb</th>\n",
       "      <th>head_index</th>\n",
       "      <th>tail_index</th>\n",
       "    </tr>\n",
       "  </thead>\n",
       "  <tbody>\n",
       "    <tr>\n",
       "      <th>3858</th>\n",
       "      <td>10388</td>\n",
       "      <td>cellular response to interleukin-6_(109554)</td>\n",
       "      <td>cellular response to interleukin-6</td>\n",
       "      <td>ICAM1_(4968)</td>\n",
       "      <td>ICAM1</td>\n",
       "      <td>interacts with</td>\n",
       "      <td>[biological_process, interacts with, gene/prot...</td>\n",
       "      <td>biological_process|interacts with|gene/protein</td>\n",
       "      <td>cellular response to interleukin-6 (biological...</td>\n",
       "      <td>[0.057259282165135456, 0.028288940877212582, -...</td>\n",
       "      <td>2531</td>\n",
       "      <td>51</td>\n",
       "    </tr>\n",
       "  </tbody>\n",
       "</table>\n",
       "</div>"
      ],
      "text/plain": [
       "      triplet_index                                      head_id  \\\n",
       "3858          10388  cellular response to interleukin-6_(109554)   \n",
       "\n",
       "                               head_name       tail_id tail_name  \\\n",
       "3858  cellular response to interleukin-6  ICAM1_(4968)     ICAM1   \n",
       "\n",
       "     display_relation                                          edge_type  \\\n",
       "3858   interacts with  [biological_process, interacts with, gene/prot...   \n",
       "\n",
       "                                       edge_type_str  \\\n",
       "3858  biological_process|interacts with|gene/protein   \n",
       "\n",
       "                                                   feat  \\\n",
       "3858  cellular response to interleukin-6 (biological...   \n",
       "\n",
       "                                               edge_emb  head_index  \\\n",
       "3858  [0.057259282165135456, 0.028288940877212582, -...        2531   \n",
       "\n",
       "      tail_index  \n",
       "3858          51  "
      ]
     },
     "execution_count": 15,
     "metadata": {},
     "output_type": "execute_result"
    }
   ],
   "source": [
    "edges_df[edges_df.triplet_index == 10388]"
   ]
  },
  {
   "cell_type": "markdown",
   "id": "c946e4a7",
   "metadata": {},
   "source": [
    "### Setup Milvus Database"
   ]
  },
  {
   "cell_type": "code",
   "execution_count": 8,
   "id": "1672082c",
   "metadata": {},
   "outputs": [],
   "source": [
    "# Configuration for Milvus\n",
    "milvus_host = \"localhost\"\n",
    "milvus_port = \"19530\"\n",
    "milvus_uri = \"http://localhost:19530\"\n",
    "milvus_token = \"root:Milvus\"\n",
    "milvus_user = \"root\"\n",
    "milvus_password = \"Milvus\"\n",
    "milvus_database = \"t2kg_primekg\""
   ]
  },
  {
   "cell_type": "code",
   "execution_count": 9,
   "id": "91e49b50",
   "metadata": {},
   "outputs": [],
   "source": [
    "# Connect to Milvus\n",
    "connections.connect(\n",
    "    alias=\"default\",\n",
    "    host=milvus_host,\n",
    "    port=milvus_port,\n",
    "    user=milvus_user,\n",
    "    password=milvus_password\n",
    ")"
   ]
  },
  {
   "cell_type": "code",
   "execution_count": 10,
   "id": "bd6fe1dd",
   "metadata": {},
   "outputs": [],
   "source": [
    "# Check if the database exists, create if it doesn't\n",
    "if milvus_database not in db.list_database():\n",
    "    db.create_database(milvus_database)\n",
    "\n",
    "# Switch to the desired database\n",
    "db.using_database(milvus_database)"
   ]
  },
  {
   "cell_type": "code",
   "execution_count": 11,
   "id": "83cc02a2",
   "metadata": {},
   "outputs": [],
   "source": [
    "# List all collections\n",
    "for coll in utility.list_collections():\n",
    "    print(f\"Collection: {coll}\")\n",
    "\n",
    "    # Load the collection to get stats\n",
    "    collection = Collection(name=coll)\n",
    "    print(collection.num_entities)"
   ]
  },
  {
   "cell_type": "code",
   "execution_count": 12,
   "id": "6225958a",
   "metadata": {},
   "outputs": [],
   "source": [
    "# A helper function to chunk the data into smaller parts\n",
    "# Utility: chunk generator\n",
    "def chunked(data_list, chunk_size):\n",
    "    for i in range(0, len(data_list), chunk_size):\n",
    "        yield data_list[i:i + chunk_size]"
   ]
  },
  {
   "cell_type": "markdown",
   "id": "3fcf8ae0",
   "metadata": {},
   "source": [
    "#### Building Node Collection (Description Embedding)"
   ]
  },
  {
   "cell_type": "code",
   "execution_count": 13,
   "id": "f254a0b2",
   "metadata": {},
   "outputs": [
    {
     "name": "stderr",
     "output_type": "stream",
     "text": [
      "100%|██████████| 6/6 [00:01<00:00,  3.10it/s]\n"
     ]
    },
    {
     "name": "stdout",
     "output_type": "stream",
     "text": [
      "2991\n",
      "CPU times: user 281 ms, sys: 40.6 ms, total: 321 ms\n",
      "Wall time: 5.49 s\n"
     ]
    }
   ],
   "source": [
    "%%time\n",
    "\n",
    "# Configuration for Milvus collection\n",
    "node_coll_name = f\"{milvus_database}_nodes\"\n",
    "\n",
    "# Define schema for the collection\n",
    "# Leave out the feat and feat_emb fields for now\n",
    "desc_emb_dim = len(nodes_df.iloc[0]['desc_emb'].to_arrow().to_pylist()[0])\n",
    "node_fields = [\n",
    "    FieldSchema(name=\"node_index\", dtype=DataType.INT64, is_primary=True),\n",
    "    FieldSchema(name=\"node_id\", dtype=DataType.VARCHAR, max_length=1024),\n",
    "    FieldSchema(name=\"node_name\", dtype=DataType.VARCHAR, max_length=1024,\n",
    "                enable_analyzer=True, enable_match=True),\n",
    "    FieldSchema(name=\"node_type\", dtype=DataType.VARCHAR, max_length=1024,\n",
    "                enable_analyzer=True, enable_match=True),\n",
    "    FieldSchema(name=\"desc\", dtype=DataType.VARCHAR, max_length=40960,\n",
    "                enable_analyzer=True, enable_match=True),\n",
    "    FieldSchema(name=\"desc_emb\", dtype=DataType.FLOAT_VECTOR, dim=desc_emb_dim),\n",
    "]\n",
    "schema  = CollectionSchema(fields=node_fields, description=f\"Schema for collection {node_coll_name}\")\n",
    "\n",
    "# Create collection if it doesn't exist\n",
    "if not utility.has_collection(node_coll_name):\n",
    "    collection = Collection(name=node_coll_name, schema=schema)\n",
    "else:\n",
    "    collection = Collection(name=node_coll_name)\n",
    "\n",
    "# Create indexes\n",
    "collection.create_index(\n",
    "    field_name=\"node_index\",\n",
    "    index_params={\"index_type\": \"STL_SORT\"}, # STL_SORT\n",
    "    index_name=\"node_index_index\"\n",
    ")\n",
    "# Create index for node_name, node_type, desc fields (inverted)\n",
    "collection.create_index(\n",
    "    field_name=\"node_name\",\n",
    "    index_params={\"index_type\": \"INVERTED\"},\n",
    "    index_name=\"node_name_index\"\n",
    ")\n",
    "collection.create_index(\n",
    "    field_name=\"node_type\",\n",
    "    index_params={\"index_type\": \"INVERTED\"},\n",
    "    index_name=\"node_type_index\"\n",
    ")\n",
    "collection.create_index(\n",
    "    field_name=\"desc\",\n",
    "    index_params={\"index_type\": \"INVERTED\"},\n",
    "    index_name=\"desc_index\"\n",
    ")\n",
    "collection.create_index(\n",
    "    field_name=\"desc_emb\",\n",
    "    index_params={\"index_type\": \"GPU_CAGRA\", \"metric_type\": \"IP\"}, # AUTOINDEX\n",
    "    index_name=\"desc_emb_index\"\n",
    ")\n",
    "\n",
    "# Prepare data for insertion\n",
    "data = [\n",
    "    nodes_df[\"node_index\"].to_arrow().to_pylist(),\n",
    "    nodes_df[\"node_id\"].to_arrow().to_pylist(),\n",
    "    nodes_df[\"node_name\"].to_arrow().to_pylist(),\n",
    "    nodes_df[\"node_type\"].to_arrow().to_pylist(),\n",
    "    nodes_df[\"desc\"].to_arrow().to_pylist(),\n",
    "    cp.asarray(nodes_df[\"desc_emb\"].list.leaves).astype(cp.float32)\n",
    "        .reshape(nodes_df.shape[0], -1)\n",
    "        .tolist(),\n",
    "]\n",
    "\n",
    "# Insert data in batches\n",
    "batch_size = 500\n",
    "total = len(data[0])\n",
    "for i in tqdm(range(0, total, batch_size)):\n",
    "    batch = [\n",
    "        col[i:i+batch_size] for col in data\n",
    "    ]\n",
    "    collection.insert(batch)\n",
    "\n",
    "# Flush to persist data\n",
    "collection.flush()\n",
    "\n",
    "# Get collection stats\n",
    "print(collection.num_entities)"
   ]
  },
  {
   "cell_type": "code",
   "execution_count": 14,
   "id": "d5ebf11f",
   "metadata": {},
   "outputs": [
    {
     "name": "stdout",
     "output_type": "stream",
     "text": [
      "Collection: t2kg_primekg_nodes\n",
      "2991\n"
     ]
    }
   ],
   "source": [
    "# List all collections\n",
    "for coll in utility.list_collections():\n",
    "    print(f\"Collection: {coll}\")\n",
    "\n",
    "    # Load the collection to get stats\n",
    "    collection = Collection(name=coll)\n",
    "    print(collection.num_entities)"
   ]
  },
  {
   "cell_type": "code",
   "execution_count": 15,
   "id": "35aad452",
   "metadata": {},
   "outputs": [
    {
     "name": "stdout",
     "output_type": "stream",
     "text": [
      "data: ['{\\'node_index\\': 0, \\'node_id\\': \\'SMAD3_(144)\\', \\'node_name\\': \\'SMAD3\\', \\'node_type\\': \\'gene/protein\\', \\'desc\\': \"SMAD3 belongs to gene/protein node. SMAD3 is SMAD family member 3. The SMAD family of proteins are a group of intracellular signal transducer proteins similar to the gene products of the Drosophila gene \\'mothers against decapentaplegic\\' (Mad) and the C. elegans gene Sma. The SMAD3 protein functions in the transforming growth factor-beta signaling pathway, and transmits signals from the cell surface to the nucleus, regulating gene activity and cell proliferation. This protein forms a complex with other SMAD proteins and binds DNA, functioning both as a transcription factor and tumor suppressor. Mutations in this gene are associated with aneurysms-osteoarthritis syndrome and Loeys-Dietz Syndrome 3. [provided by RefSeq, May 2022].\", \\'desc_emb\\': [0.029749367, 0.053500213, -0.17067125, -0.025804106, 0.0078263, -0.009656536, 0.022171432, 0.011523555, 0.03228597, -0.00024117871, -0.06315462, 0.06421911, 0.11355786, -0.0026729314, 0.02106608, 0.024050754, -0.085409515, -0.013829268, 0.010770708, 0.053510763, -0.05183795, 0.012057964, -0.003487192, -0.012641018, 0.09540605, 0.0517443, -0.023473244, -0.010705989, -0.016123323, -0.016232323, 0.06389007, -0.027486531, -0.015513737, -0.039796107, 0.03328227, -0.03928221, 0.082293704, 0.040483195, -0.03654112, 0.025635963, 0.0122369435, -0.07259083, -0.04124723, -0.032416437, -0.0013224336, 0.003761208, 0.0022472898, -0.0070506623, 0.08187602, -0.101967655, 0.046289403, -0.057157315, 0.017384563, -0.05385402, 0.066384144, -0.0321212, 0.0013462048, -0.037323423, 0.0031588592, -0.018970184, 0.054829564, 0.0576071, -0.067496635, 0.015912408, 0.10175288, -0.04520916, -0.030931422, 0.08469053, -0.020591937, -0.004936067, 0.08982056, 0.023348698, 0.031364482, 0.025038034, 0.004876572, -0.0025614076, -0.0030998741, 0.00082014245, -0.051922925, 0.03073226, 0.0077710254, -0.019989328, 0.020957246, 0.013435038, 0.02122709, 0.02849064, -0.050421324, 0.008429751, -0.01794461, 0.045964796, 0.022162274, 0.06875328, -0.0107574975, 0.020014629, -0.02996627, 0.041314855, 0.021066016, 0.033220578, -0.015114804, -0.025505943, -0.013863751, -0.0026290882, -0.026509037, 0.030328766, 0.016373154, 0.044296112, 0.046858385, -0.029337367, 0.028026238, 0.0026029698, -0.083641395, 0.018714983, -0.0105533935, -0.00844565, -0.0005218047, -0.042311378, 0.0918083, -0.022452425, 0.008132894, 0.04624563, -0.031411946, -0.045959253, -0.056009278, 0.06514008, 0.017869532, 0.065757886, -0.014146419, 0.04100714, 0.03603472, -0.07628511, -0.02741156, -0.02122467, -0.021361426, -0.01116863, 0.02892431, 0.07313909, -0.0062637143, -0.007743869, 0.0060938755, 0.02882068, 0.0005209528, 0.004964865, 0.032491673, -0.0051396466, -0.012453628, -0.016264651, 0.06024152, 0.025011664, -0.048741773, -0.0125994785, 0.019500168, 0.062102504, -0.02598146, -0.006367143, -0.009291784, -0.035170585, 0.011882417, 0.016230129, 0.009400145, 0.027636547, 0.019389184, -0.008279848, -0.026593434, 0.041626167, -0.006290277, -0.074002706, 0.053169068, 0.052121747, -0.00175012, 0.013621769, -0.045983557, 0.006431094, 0.027898379, 0.004278022, -0.0057631508, 0.009002522, -0.0245118, -0.06996216, -0.010702154, -0.06587836, 0.0071536736, -0.04475734, 0.037152182, 0.03754795, -0.0077753495, 0.025123067, 0.019076549, -0.012949047, 0.0029687544, -0.0489726, -0.05943741, 0.05878384, -0.058307346, -0.051490057, -0.012832261, -0.006361397, 0.024197342, -0.06615561, 0.05576502, -0.047709968, -0.05368336, 0.002934098, -0.042044662, 0.0026643162, 0.034651008, 0.0038361365, 0.0045092013, 0.044417176, -0.01882083, 0.032672413, 0.045040175, -0.011824768, -0.06309219, -0.036579616, 0.032853886, -0.045543578, 0.021718275, -0.045188498, -0.03639165, 0.019309448, 0.0063706343, -0.022310749, -0.0055467295, -0.018577436, 0.03072336, -0.0002748332, -0.04367667, -0.03462484, -0.01562586, -0.03002114, -0.028230641, -0.07324125, 0.065228954, -0.02156626, 0.0011698568, -0.012897281, 0.016975436, 0.0062796464, 0.0015748899, 0.04980012, 0.039797194, 0.039855655, 0.009917281, -0.0070491224, 0.008132536, 0.016975386, 0.032565627, -0.068535104, -0.0029017464, 0.07250819, 0.017606402, -0.008850372, 0.06297788, 0.037146557, 0.02816454, -0.025455864, -0.010737862, -0.01446673, 0.025328768, 0.024549816, 0.0043630605, 0.0075045517, 0.056208722, -0.030977676, -0.02419997, -0.017906288, -0.009140384, 0.015670024, -0.014409022, -0.02311277, -0.0206161, 0.039860886, 0.020427335, -0.0189282, 0.02398843, 0.026909849, 0.000906664, -0.018335355, 0.014414083, -0.019833293, -0.056675073, 0.031304028, -0.0067988457, -0.01571092, 0.009246063, 0.06680216, 0.04074368, -0.026192259, -0.037418094, 0.03574895, 0.03195311, -0.053843096, -0.0035165367, 0.046468254, 0.03795554, 0.0033027753, 0.055250645, -0.015052722, -0.04211081, 0.020395745, 0.050662316, 0.038307086, 0.044713605, 0.0049251895, 0.018885935, -0.027746234, 0.0145608485, -0.016462043, 0.028451597, 0.016377624, 0.005293277, -0.0074239965, 0.040774312, 0.030437961, -0.026282456, 0.06900365, 0.0037832574, 0.014553863, 0.039221056, -0.018492742, -0.0051029553, -0.04895082, -0.05249574, -0.051091135, -0.008428768, 0.0022574353, -0.012817152, 0.06027113, -0.018141005, -0.014306531, -0.009419156, 0.05045278, 0.0051006153, 0.02612253, -0.053851638, 0.0014816305, -0.06119645, 0.020497315, -0.02292161, -0.033130378, 0.06028827, -0.021960113, 0.051985282, -0.10397563, -0.023057276, 0.041681904, -0.032357194, 0.015951172, 0.016468821, 0.0098939845, -0.021068217, 0.011058121, 0.0051541845, 0.03274202, 0.012746409, -0.018160354, 0.03854174, -0.025449362, -0.016516527, -0.020689497, 0.02114473, -0.014362009, 0.0034145222, 0.0013082221, 0.017025586, 0.024806036, 0.048360318, 0.0058341036, 0.036950205, 0.023778839, 0.004772194, -0.04688996, -0.016972143, 0.0131107755, 0.024959989, 0.018932095, -0.10580988, -0.01909053, -0.027963558, 0.02292611, 0.027606951, -0.013670073, 0.033373665, -0.0032698535, 0.01901584, 0.022414606, 0.007416812, -0.004872761, 0.00037260322, 0.028705074, -0.034558114, 0.0007383931, -0.05267195, -0.0445133, -0.01464439, -0.03208803, 0.011811516, 0.048871797, 0.007097911, 0.028578062, -0.039389882, -0.01208915, -0.032990955, -0.042854536, 0.029734785, 0.030931568, -0.030063365, -0.052023176, 0.01282619, -0.0023360103, 0.052230082, 0.06926206, 0.0023035726, -0.07612447, 0.008897071, 0.049368132, 0.021537684, -0.022606472, -0.05662999, 0.025821928, 0.022189634, 0.027677786, -0.06011436, 0.0024539835, 0.022185475, -0.011830245, 0.024142481, 0.03326735, -0.010970022, -0.05303678, 0.007858059, 0.102444686, 0.019330764, -0.044135798, -0.00822743, 0.009589122, -0.0021880947, -0.0098568415, 0.0004202439, 0.064737275, 0.06419752, -0.072356164, -0.01529905, -0.012568793, 0.03870653, 0.090646036, 0.011628593, -0.022281988, -0.07142698, 0.07857515, 0.017338332, -0.007045194, 0.033424277, -0.014745545, 0.059912052, -0.015366836, -0.027013412, -0.0024504461, 0.020567454, -0.01942655, -0.03462803, 0.0047992496, -0.047628652, 0.03471536, 0.016415875, -0.0020116295, 0.014557976, -0.020118712, 0.04357144, 0.037600193, -0.05037567, -0.022104915, -0.025756141, 0.029564476, -0.019772157, -0.0032779074, 0.017519016, -0.023553658, 0.036122303, 0.061301596, 0.03140814, -0.04113792, -0.07570448, -0.061599, -0.018347796, 0.013966087, -0.00666218, -0.005391481, 0.0014050863, 0.017028507, -0.0009855602, 0.01020954, 0.05816091, -0.030293103, -0.021905039, -0.04447227, -0.015625782, -0.025399119, 0.028757645, -0.052587066, 0.026214393, 0.018246997, -0.049752653, 0.013497745, 0.036509987, 0.014746112, 0.002384708, -0.05005164, -0.07033938, 0.0074033, -0.05083626, 0.020872876, 0.052056625, 0.010500628, 0.009324802, -0.0051530804, 0.046590474, 0.007865943, -0.04900747, 0.009648411, 1.5143877e-05, -0.017676193, -0.024558943, -0.03126893, -0.039520998, 0.05206687, 0.040136743, 0.0009889852, 0.014140852, -0.011363616, -0.020535236, 0.0028327086, -0.03793473, 0.010243998, 0.008109009, -0.029323392, -0.010236049, -0.0006314521, 0.020637553, -0.02161825, 0.023135826, -0.01728277, -0.021979876, -0.0171829, -0.03662002, 0.015264626, -0.0070171207, -0.017009506, -0.014425747, -0.035533655, 0.027123885, -0.09437825, 0.013782496, -0.038392108, 0.034359172, -0.04198832, 0.013046141, -0.028145783, 0.0005243874, -0.062259924, -0.015833654, 0.021626387, 0.04203582, -0.036729433, 0.025945222, -0.025727415, 0.012684682, -0.024269653, 0.021568537, 0.05639271, 0.021409802, -0.047577057, -0.010786008, 0.017611288, -0.051185507, 0.0072731553, -0.00019266673, -0.0037686068, -0.06752663, -0.041774623, 0.045464464, -0.004100536, 0.0032039378, -0.032257266, 0.02834081, 0.039379153, -0.05178399, -0.01183507, 0.005141525, -0.009346912, -0.02374518, -0.0020856836, -0.025952306, 0.00016363624, -0.039802846, 0.00030581577, 0.008823609, -0.012249586, 0.023361104, -0.035036445, 0.01241116, -0.012029494, 0.03315467, -0.04518821, -0.0063617164, 0.054317318, 0.030589769, 0.051861774, 0.0028422046, 0.02542763, 0.06607972, -0.041798614, -0.060911097, 0.0014884662, 0.044964485, -0.028997304, 0.011873178, -0.021489186, -0.058376335, -0.03885785, -0.03135204, -0.00891422, 0.009963389, -0.042529535, 0.015645983, -0.011868117, -0.01572298, -0.07298842, -0.019210272, 0.06778047, -0.002302273, 0.010641246, -0.078929394, 0.005774428, -0.037379947, 0.024206746, -0.044745337, 0.02347347, 0.015616111, 0.05725222, 0.008184095, 0.019190151, -0.041012116, 0.022654591, 0.013813175, -0.0019304554, -0.023617417, 0.054059308, 0.01830959, 0.010376137, 0.10476501, 0.042018346, 0.016590942, 0.016977346, 0.036886696, -0.04040855, 0.034274336, -0.045919333, -0.017971274, -0.031921208, -0.035139192, 0.039567076, 0.024844361, -0.012417245, 0.024249759, 0.026536006, 0.013804656, -0.019280555, -0.04038853, -0.0051918663, 0.029169535, 0.036638405, 0.010079928, 0.018695677, -0.026563788, -0.0018873294, 0.065638065, 0.005709856, 0.0246213, -0.03292392, 0.022725668, 0.004410346, 0.018620746, -0.051543646, 0.016459009, -0.017931042, 0.049343847, -0.044008512, 0.0016358725, 0.009696796, -0.033941433, -0.02001684, -0.04377841, -0.021385893, -0.043648306, -0.013388275, 0.009000253, 0.003674213, -0.03216526, 0.08145124, -0.04979942, 0.02245433, -0.0013991744, 0.031422857, 0.0068354025, -0.0008908709, 0.03165379, -0.0064501953, -0.011925489, 0.005895431, 0.0014024483, -0.015249874, 0.020039596, 0.056403827, 0.004039348, 0.042206172, 0.0142905945, -0.062278815, -0.01940897, 0.03329628, 0.040289722, -0.025068158, -0.03731095, -0.066382594, -0.017318862, -0.048548434, 0.06270479, -0.06266205, 0.0134394495, -0.040219653, 0.0025488334, 0.009294838, 0.0048308745, 0.041318852, -0.0034175052, 0.022841077, -0.057653945, -0.035797644, -0.03427942, -0.0037117926, -0.018386848, -0.00971387, -0.007305235, -0.014585576, 0.016228432, -0.0052388096, -0.024816647, 0.03634749, 0.057440516, 0.008004882, -0.01002234, -0.021034028, -0.018110378, -0.016475536, 0.016613523, 0.003819846, 0.020579489, 0.06167821, 0.09696264, -0.022002177, 0.004354618, -0.07160749, 0.009452053, 0.0035120079, -0.0602863, -0.045734283, -0.071615346, 0.0062878644]}']\n",
      "CPU times: user 11.6 ms, sys: 7.81 ms, total: 19.4 ms\n",
      "Wall time: 1.66 s\n"
     ]
    }
   ],
   "source": [
    "%%time\n",
    "\n",
    "# Assume node_coll_name is defined and collection exists\n",
    "collection = Collection(node_coll_name)\n",
    "\n",
    "# Load the collection into memory before query\n",
    "collection.load()\n",
    "\n",
    "# Query by expr on node_index\n",
    "expr = \"node_index == 0\"\n",
    "output_fields = [\"node_index\", \"node_id\", \"node_name\", \"node_type\", \"desc\", \"desc_emb\"]\n",
    "\n",
    "results = collection.query(expr, output_fields=output_fields)\n",
    "\n",
    "print(results)"
   ]
  },
  {
   "cell_type": "code",
   "execution_count": 16,
   "id": "33d537f5",
   "metadata": {},
   "outputs": [
    {
     "name": "stdout",
     "output_type": "stream",
     "text": [
      "data: ['{\\'node_index\\': 0, \\'node_id\\': \\'SMAD3_(144)\\', \\'node_name\\': \\'SMAD3\\', \\'node_type\\': \\'gene/protein\\', \\'desc\\': \"SMAD3 belongs to gene/protein node. SMAD3 is SMAD family member 3. The SMAD family of proteins are a group of intracellular signal transducer proteins similar to the gene products of the Drosophila gene \\'mothers against decapentaplegic\\' (Mad) and the C. elegans gene Sma. The SMAD3 protein functions in the transforming growth factor-beta signaling pathway, and transmits signals from the cell surface to the nucleus, regulating gene activity and cell proliferation. This protein forms a complex with other SMAD proteins and binds DNA, functioning both as a transcription factor and tumor suppressor. Mutations in this gene are associated with aneurysms-osteoarthritis syndrome and Loeys-Dietz Syndrome 3. [provided by RefSeq, May 2022].\", \\'desc_emb\\': [0.029749367, 0.053500213, -0.17067125, -0.025804106, 0.0078263, -0.009656536, 0.022171432, 0.011523555, 0.03228597, -0.00024117871, -0.06315462, 0.06421911, 0.11355786, -0.0026729314, 0.02106608, 0.024050754, -0.085409515, -0.013829268, 0.010770708, 0.053510763, -0.05183795, 0.012057964, -0.003487192, -0.012641018, 0.09540605, 0.0517443, -0.023473244, -0.010705989, -0.016123323, -0.016232323, 0.06389007, -0.027486531, -0.015513737, -0.039796107, 0.03328227, -0.03928221, 0.082293704, 0.040483195, -0.03654112, 0.025635963, 0.0122369435, -0.07259083, -0.04124723, -0.032416437, -0.0013224336, 0.003761208, 0.0022472898, -0.0070506623, 0.08187602, -0.101967655, 0.046289403, -0.057157315, 0.017384563, -0.05385402, 0.066384144, -0.0321212, 0.0013462048, -0.037323423, 0.0031588592, -0.018970184, 0.054829564, 0.0576071, -0.067496635, 0.015912408, 0.10175288, -0.04520916, -0.030931422, 0.08469053, -0.020591937, -0.004936067, 0.08982056, 0.023348698, 0.031364482, 0.025038034, 0.004876572, -0.0025614076, -0.0030998741, 0.00082014245, -0.051922925, 0.03073226, 0.0077710254, -0.019989328, 0.020957246, 0.013435038, 0.02122709, 0.02849064, -0.050421324, 0.008429751, -0.01794461, 0.045964796, 0.022162274, 0.06875328, -0.0107574975, 0.020014629, -0.02996627, 0.041314855, 0.021066016, 0.033220578, -0.015114804, -0.025505943, -0.013863751, -0.0026290882, -0.026509037, 0.030328766, 0.016373154, 0.044296112, 0.046858385, -0.029337367, 0.028026238, 0.0026029698, -0.083641395, 0.018714983, -0.0105533935, -0.00844565, -0.0005218047, -0.042311378, 0.0918083, -0.022452425, 0.008132894, 0.04624563, -0.031411946, -0.045959253, -0.056009278, 0.06514008, 0.017869532, 0.065757886, -0.014146419, 0.04100714, 0.03603472, -0.07628511, -0.02741156, -0.02122467, -0.021361426, -0.01116863, 0.02892431, 0.07313909, -0.0062637143, -0.007743869, 0.0060938755, 0.02882068, 0.0005209528, 0.004964865, 0.032491673, -0.0051396466, -0.012453628, -0.016264651, 0.06024152, 0.025011664, -0.048741773, -0.0125994785, 0.019500168, 0.062102504, -0.02598146, -0.006367143, -0.009291784, -0.035170585, 0.011882417, 0.016230129, 0.009400145, 0.027636547, 0.019389184, -0.008279848, -0.026593434, 0.041626167, -0.006290277, -0.074002706, 0.053169068, 0.052121747, -0.00175012, 0.013621769, -0.045983557, 0.006431094, 0.027898379, 0.004278022, -0.0057631508, 0.009002522, -0.0245118, -0.06996216, -0.010702154, -0.06587836, 0.0071536736, -0.04475734, 0.037152182, 0.03754795, -0.0077753495, 0.025123067, 0.019076549, -0.012949047, 0.0029687544, -0.0489726, -0.05943741, 0.05878384, -0.058307346, -0.051490057, -0.012832261, -0.006361397, 0.024197342, -0.06615561, 0.05576502, -0.047709968, -0.05368336, 0.002934098, -0.042044662, 0.0026643162, 0.034651008, 0.0038361365, 0.0045092013, 0.044417176, -0.01882083, 0.032672413, 0.045040175, -0.011824768, -0.06309219, -0.036579616, 0.032853886, -0.045543578, 0.021718275, -0.045188498, -0.03639165, 0.019309448, 0.0063706343, -0.022310749, -0.0055467295, -0.018577436, 0.03072336, -0.0002748332, -0.04367667, -0.03462484, -0.01562586, -0.03002114, -0.028230641, -0.07324125, 0.065228954, -0.02156626, 0.0011698568, -0.012897281, 0.016975436, 0.0062796464, 0.0015748899, 0.04980012, 0.039797194, 0.039855655, 0.009917281, -0.0070491224, 0.008132536, 0.016975386, 0.032565627, -0.068535104, -0.0029017464, 0.07250819, 0.017606402, -0.008850372, 0.06297788, 0.037146557, 0.02816454, -0.025455864, -0.010737862, -0.01446673, 0.025328768, 0.024549816, 0.0043630605, 0.0075045517, 0.056208722, -0.030977676, -0.02419997, -0.017906288, -0.009140384, 0.015670024, -0.014409022, -0.02311277, -0.0206161, 0.039860886, 0.020427335, -0.0189282, 0.02398843, 0.026909849, 0.000906664, -0.018335355, 0.014414083, -0.019833293, -0.056675073, 0.031304028, -0.0067988457, -0.01571092, 0.009246063, 0.06680216, 0.04074368, -0.026192259, -0.037418094, 0.03574895, 0.03195311, -0.053843096, -0.0035165367, 0.046468254, 0.03795554, 0.0033027753, 0.055250645, -0.015052722, -0.04211081, 0.020395745, 0.050662316, 0.038307086, 0.044713605, 0.0049251895, 0.018885935, -0.027746234, 0.0145608485, -0.016462043, 0.028451597, 0.016377624, 0.005293277, -0.0074239965, 0.040774312, 0.030437961, -0.026282456, 0.06900365, 0.0037832574, 0.014553863, 0.039221056, -0.018492742, -0.0051029553, -0.04895082, -0.05249574, -0.051091135, -0.008428768, 0.0022574353, -0.012817152, 0.06027113, -0.018141005, -0.014306531, -0.009419156, 0.05045278, 0.0051006153, 0.02612253, -0.053851638, 0.0014816305, -0.06119645, 0.020497315, -0.02292161, -0.033130378, 0.06028827, -0.021960113, 0.051985282, -0.10397563, -0.023057276, 0.041681904, -0.032357194, 0.015951172, 0.016468821, 0.0098939845, -0.021068217, 0.011058121, 0.0051541845, 0.03274202, 0.012746409, -0.018160354, 0.03854174, -0.025449362, -0.016516527, -0.020689497, 0.02114473, -0.014362009, 0.0034145222, 0.0013082221, 0.017025586, 0.024806036, 0.048360318, 0.0058341036, 0.036950205, 0.023778839, 0.004772194, -0.04688996, -0.016972143, 0.0131107755, 0.024959989, 0.018932095, -0.10580988, -0.01909053, -0.027963558, 0.02292611, 0.027606951, -0.013670073, 0.033373665, -0.0032698535, 0.01901584, 0.022414606, 0.007416812, -0.004872761, 0.00037260322, 0.028705074, -0.034558114, 0.0007383931, -0.05267195, -0.0445133, -0.01464439, -0.03208803, 0.011811516, 0.048871797, 0.007097911, 0.028578062, -0.039389882, -0.01208915, -0.032990955, -0.042854536, 0.029734785, 0.030931568, -0.030063365, -0.052023176, 0.01282619, -0.0023360103, 0.052230082, 0.06926206, 0.0023035726, -0.07612447, 0.008897071, 0.049368132, 0.021537684, -0.022606472, -0.05662999, 0.025821928, 0.022189634, 0.027677786, -0.06011436, 0.0024539835, 0.022185475, -0.011830245, 0.024142481, 0.03326735, -0.010970022, -0.05303678, 0.007858059, 0.102444686, 0.019330764, -0.044135798, -0.00822743, 0.009589122, -0.0021880947, -0.0098568415, 0.0004202439, 0.064737275, 0.06419752, -0.072356164, -0.01529905, -0.012568793, 0.03870653, 0.090646036, 0.011628593, -0.022281988, -0.07142698, 0.07857515, 0.017338332, -0.007045194, 0.033424277, -0.014745545, 0.059912052, -0.015366836, -0.027013412, -0.0024504461, 0.020567454, -0.01942655, -0.03462803, 0.0047992496, -0.047628652, 0.03471536, 0.016415875, -0.0020116295, 0.014557976, -0.020118712, 0.04357144, 0.037600193, -0.05037567, -0.022104915, -0.025756141, 0.029564476, -0.019772157, -0.0032779074, 0.017519016, -0.023553658, 0.036122303, 0.061301596, 0.03140814, -0.04113792, -0.07570448, -0.061599, -0.018347796, 0.013966087, -0.00666218, -0.005391481, 0.0014050863, 0.017028507, -0.0009855602, 0.01020954, 0.05816091, -0.030293103, -0.021905039, -0.04447227, -0.015625782, -0.025399119, 0.028757645, -0.052587066, 0.026214393, 0.018246997, -0.049752653, 0.013497745, 0.036509987, 0.014746112, 0.002384708, -0.05005164, -0.07033938, 0.0074033, -0.05083626, 0.020872876, 0.052056625, 0.010500628, 0.009324802, -0.0051530804, 0.046590474, 0.007865943, -0.04900747, 0.009648411, 1.5143877e-05, -0.017676193, -0.024558943, -0.03126893, -0.039520998, 0.05206687, 0.040136743, 0.0009889852, 0.014140852, -0.011363616, -0.020535236, 0.0028327086, -0.03793473, 0.010243998, 0.008109009, -0.029323392, -0.010236049, -0.0006314521, 0.020637553, -0.02161825, 0.023135826, -0.01728277, -0.021979876, -0.0171829, -0.03662002, 0.015264626, -0.0070171207, -0.017009506, -0.014425747, -0.035533655, 0.027123885, -0.09437825, 0.013782496, -0.038392108, 0.034359172, -0.04198832, 0.013046141, -0.028145783, 0.0005243874, -0.062259924, -0.015833654, 0.021626387, 0.04203582, -0.036729433, 0.025945222, -0.025727415, 0.012684682, -0.024269653, 0.021568537, 0.05639271, 0.021409802, -0.047577057, -0.010786008, 0.017611288, -0.051185507, 0.0072731553, -0.00019266673, -0.0037686068, -0.06752663, -0.041774623, 0.045464464, -0.004100536, 0.0032039378, -0.032257266, 0.02834081, 0.039379153, -0.05178399, -0.01183507, 0.005141525, -0.009346912, -0.02374518, -0.0020856836, -0.025952306, 0.00016363624, -0.039802846, 0.00030581577, 0.008823609, -0.012249586, 0.023361104, -0.035036445, 0.01241116, -0.012029494, 0.03315467, -0.04518821, -0.0063617164, 0.054317318, 0.030589769, 0.051861774, 0.0028422046, 0.02542763, 0.06607972, -0.041798614, -0.060911097, 0.0014884662, 0.044964485, -0.028997304, 0.011873178, -0.021489186, -0.058376335, -0.03885785, -0.03135204, -0.00891422, 0.009963389, -0.042529535, 0.015645983, -0.011868117, -0.01572298, -0.07298842, -0.019210272, 0.06778047, -0.002302273, 0.010641246, -0.078929394, 0.005774428, -0.037379947, 0.024206746, -0.044745337, 0.02347347, 0.015616111, 0.05725222, 0.008184095, 0.019190151, -0.041012116, 0.022654591, 0.013813175, -0.0019304554, -0.023617417, 0.054059308, 0.01830959, 0.010376137, 0.10476501, 0.042018346, 0.016590942, 0.016977346, 0.036886696, -0.04040855, 0.034274336, -0.045919333, -0.017971274, -0.031921208, -0.035139192, 0.039567076, 0.024844361, -0.012417245, 0.024249759, 0.026536006, 0.013804656, -0.019280555, -0.04038853, -0.0051918663, 0.029169535, 0.036638405, 0.010079928, 0.018695677, -0.026563788, -0.0018873294, 0.065638065, 0.005709856, 0.0246213, -0.03292392, 0.022725668, 0.004410346, 0.018620746, -0.051543646, 0.016459009, -0.017931042, 0.049343847, -0.044008512, 0.0016358725, 0.009696796, -0.033941433, -0.02001684, -0.04377841, -0.021385893, -0.043648306, -0.013388275, 0.009000253, 0.003674213, -0.03216526, 0.08145124, -0.04979942, 0.02245433, -0.0013991744, 0.031422857, 0.0068354025, -0.0008908709, 0.03165379, -0.0064501953, -0.011925489, 0.005895431, 0.0014024483, -0.015249874, 0.020039596, 0.056403827, 0.004039348, 0.042206172, 0.0142905945, -0.062278815, -0.01940897, 0.03329628, 0.040289722, -0.025068158, -0.03731095, -0.066382594, -0.017318862, -0.048548434, 0.06270479, -0.06266205, 0.0134394495, -0.040219653, 0.0025488334, 0.009294838, 0.0048308745, 0.041318852, -0.0034175052, 0.022841077, -0.057653945, -0.035797644, -0.03427942, -0.0037117926, -0.018386848, -0.00971387, -0.007305235, -0.014585576, 0.016228432, -0.0052388096, -0.024816647, 0.03634749, 0.057440516, 0.008004882, -0.01002234, -0.021034028, -0.018110378, -0.016475536, 0.016613523, 0.003819846, 0.020579489, 0.06167821, 0.09696264, -0.022002177, 0.004354618, -0.07160749, 0.009452053, 0.0035120079, -0.0602863, -0.045734283, -0.071615346, 0.0062878644]}', \"{'node_index': 1, 'node_id': 'IL10RB_(179)', 'node_name': 'IL10RB', 'node_type': 'gene/protein', 'desc': 'IL10RB belongs to gene/protein node. IL10RB is interleukin 10 receptor subunit beta. The protein encoded by this gene belongs to the cytokine receptor family. It is an accessory chain essential for the active interleukin 10 receptor complex. Coexpression of this and IL10RA proteins has been shown to be required for IL10-induced signal transduction. This gene and three other interferon receptor genes, IFAR2, IFNAR1, and IFNGR2, form a class II cytokine receptor gene cluster located in a small region on chromosome 21. [provided by RefSeq, Jul 2008].', 'desc_emb': [0.02842173, 0.019860065, -0.16853005, -0.03806387, 0.09633328, -0.048535466, 0.0066523016, 0.041537333, -0.0014950087, -0.055374894, -0.024516217, 0.048275087, 0.048368797, 0.00093570777, 0.06952853, -0.029349666, -0.034838643, 0.007520177, 0.03556143, 0.030095033, -0.026920475, -0.02287154, -0.004792422, 0.039483856, 0.11971001, 0.09178315, 0.027199535, -0.06462703, -0.04377908, -0.06503423, 0.05417505, -0.016253443, 0.028705955, -0.052994486, 0.0068585007, -0.023619305, 0.023037614, -0.013118979, -0.05526927, 0.04675858, 0.03056426, -0.051340073, 0.029619012, -0.012475777, 0.03143882, 0.050549164, 0.03714751, 0.06543813, 0.08223045, -0.012068049, 0.03008388, -0.06115579, 0.007707827, -0.035818078, 0.028311817, 0.011129814, -0.02429545, -0.029990075, 0.03487418, -0.017146917, 0.079698764, 0.030924466, -0.08431756, 0.016859232, 0.026525099, 0.0053627016, -0.04474292, 0.06844368, -0.059333533, -0.018866116, 0.05229772, -0.013770137, 0.012051883, 0.06346945, -0.0014756658, 0.02099961, 0.0018441441, 0.0054901224, -0.0016163464, 0.034752335, 0.04660059, 0.001927642, -0.015386787, 0.007981706, 0.02182373, 0.005876172, -0.05488763, 0.029548554, -0.00073941814, 0.062103305, 0.059194557, 0.038753152, 0.0072186403, 0.008945494, -0.06340891, 0.012349474, 0.012486426, 0.03458691, -0.016792718, -0.01594906, 0.034058057, -0.015265188, -0.008065354, 0.029578267, 0.0002472433, 0.03098536, 0.053313103, -0.04581804, -7.11192e-05, -0.019795893, -0.06297185, 0.0077871177, 0.014537771, -0.013446091, 0.043286923, -0.010974364, 0.058110286, -0.01581767, 0.011734737, 0.04639884, -0.0057877824, -0.06338187, 0.0064611845, 0.04028929, -0.012638257, 0.034332503, -0.016279422, 0.03188776, 0.0071045957, -0.07142026, -0.014592947, -0.024471037, 0.0023693882, 0.013102638, 0.0024659522, 0.052888718, -0.02368406, 0.001592628, 0.05413805, 0.031487834, -0.011935999, 0.029260382, 0.0091008255, -0.04361325, -0.028765466, 0.02739052, 0.0064910627, -0.033652563, -0.0345264, 0.013143263, 0.008749212, -0.0013113201, -0.004976171, -0.012508285, 0.0038344509, -0.075057514, 0.028167598, 0.046033368, 0.04036709, 0.049895845, 0.04683395, 0.05285632, -0.040840525, 0.042799763, -0.04576089, -0.10326183, 0.03668927, 0.033359583, -0.0028812466, 0.0613594, -0.04967056, 0.0072848406, 0.0278605, 0.018684667, 0.04567888, 0.018682947, 0.01145778, -0.028848508, 0.004314543, -0.089419596, -0.0119012175, -0.027593477, 0.046533246, -0.018554542, 0.021031015, -0.012817549, 0.021951042, -0.0076712803, -0.020738654, -0.037319995, -0.047894575, 0.06095251, -0.038377143, -0.08074706, -0.039462704, -0.0008511735, 0.00039740873, -0.08353829, 0.043408047, -0.049463164, -0.038660757, -0.0052094767, -0.017651906, -0.006600517, -0.0067750704, 0.022665417, 0.007682636, 0.033044484, -0.0026907853, 0.014059527, 0.0034881462, -0.058550615, -0.0138746835, -0.020988792, 0.028804492, -0.022609038, 0.014988319, -0.024469284, -0.03817946, -0.0025658805, 0.04216183, 0.011113851, 0.030301526, 0.02014529, 0.038101144, -0.01837682, -0.07924912, -0.02445331, -0.06325902, 0.011012188, -0.02493473, -0.050397243, 0.022885509, -0.0062374305, -0.005162829, -0.0014374163, -0.0038558913, 0.011019719, -0.020360997, -0.040597335, 0.016020855, 0.013332819, -0.020697897, 0.023123724, -0.056861825, 0.015487742, 0.015267065, -0.051520705, -0.05068428, 0.09244005, -0.013611014, -0.026851954, 0.026141547, 0.025142694, -0.0018541148, -0.058731724, -0.0025970857, 0.00595196, -0.017952915, -0.01181538, -0.021017084, -0.035421763, 0.05558448, -0.043300115, -0.04541138, -0.0064523355, 0.005254546, -0.01663192, -0.0056596254, -0.025323184, -0.01754867, 0.011933542, -0.010705583, -0.030634524, 0.034038514, 0.015717749, 0.0466542, -0.009672565, -0.0019559977, 0.0018826164, 0.010664649, -0.038715232, -0.037934553, -0.04331117, -0.040299628, 0.040077638, 0.04920348, -0.00062470994, 0.03500024, 0.0409031, -0.009369481, -0.07365983, -0.010238246, 0.038831808, 0.021780094, -0.008835828, 0.078023866, -0.022950359, -0.0075558447, 0.0071658753, 0.021840826, 0.022551345, 0.045987822, -0.019793695, -0.002539352, -0.042125843, 0.0095012495, -0.039432954, 0.028977415, -0.007930464, -0.03161545, 0.00077914435, -0.0072147283, 0.06027313, 0.012469676, 0.031821273, -0.0037224814, 0.038682565, 0.0395528, -0.007377893, 3.613872e-07, -0.045670655, 0.0012165849, -0.065107614, 0.027751094, 0.033462368, -0.00013616319, -0.0058448245, -0.016498893, -0.040673908, -0.0031798144, 0.04208721, 0.021639865, 0.029388107, -0.014271343, -0.004623749, -0.044348978, 0.035897795, -0.01392939, 0.035485152, 0.05448683, 0.0028049038, 0.029907992, -0.03015364, 0.0133800255, 0.021266142, -0.044585362, 0.024032641, -0.04749111, 0.04001324, -0.061144784, 0.051161047, -0.0546753, -0.0281082, 0.047661185, -0.022715256, 0.020000352, 0.027733969, -0.0047278916, 0.0050759944, -0.0009679771, -0.019709168, 0.031136785, -0.0053477124, -0.016716616, 0.032257143, 0.03821629, 0.00038698164, 0.034852736, 0.0124039315, -0.04129434, 0.015140269, -0.038925443, 0.024663486, 0.003872456, -0.005407975, -0.112261504, 0.009618478, -0.04239236, 0.028368771, 0.028568838, -0.04226126, -0.0028528555, 0.037893992, 0.031751465, -0.04037754, 0.0224448, -0.027602859, 0.034309737, 0.07311294, -0.005813315, 0.006445425, -0.012535367, -0.065740846, 0.03020636, -0.027898159, 0.039209493, 0.03827401, 0.0150558, 0.038735177, -0.051005777, -0.052997008, 0.02833202, -0.029724414, 0.046656646, 0.018047152, -0.019648654, -0.027742648, 0.04329578, 0.03635741, 0.042267337, 0.03057953, -0.02089393, -0.105389416, 0.0064748023, 0.048335623, 0.025630051, -0.019398287, -0.026672363, 0.009306184, -0.004096546, 0.047154244, -0.06187959, 0.008121344, 0.063575305, 0.032830335, 0.04295749, 0.009904429, 0.02868199, -0.013285588, 0.015056989, 0.07325648, 0.006561184, -0.06503659, -0.046164025, 0.015064409, -0.041716088, -0.03615826, 0.014534685, 0.036364842, 0.0499086, -0.04439619, -0.016809221, 0.041597586, -0.0047192844, 0.11284384, 0.03988733, -0.054264896, -0.016198322, 0.046068087, 0.015706921, 0.01115448, 0.014157192, 0.025821352, 0.066567175, -0.017906744, 0.010684015, -0.014401987, 0.031079916, -0.024799453, 0.022243975, -0.0017589134, -0.0050360737, 0.018174177, 0.03418383, -0.0333446, -0.032716922, 0.015405817, -0.007408258, 0.018711837, -0.045303784, 0.024806026, -0.034401644, -0.017397271, -0.014051938, -0.021833833, 0.002383185, -0.02283779, -0.025874129, 0.04685582, -0.030787393, 0.00245978, -0.07555019, -0.059326764, 0.029192643, 0.004949222, 0.00975553, 0.006053439, 0.046600234, 0.014201539, 0.027609603, 0.040065665, 0.044024747, 0.01695249, 0.047474135, -0.046564206, -0.008749848, -0.026423976, 0.052977525, -0.040834516, 0.03741424, 0.015106888, 0.0018915768, 0.043567903, -0.006823471, 0.028004508, -0.0021501207, -8.349817e-05, -0.08986203, -0.002288632, -0.028742827, 0.035016052, 0.057247598, -0.024753578, 0.024190716, -0.040538132, 0.015416461, 0.0061208513, 0.00044661138, -0.013390719, -0.0020450538, -0.026922483, -0.015987454, -0.056638416, -0.06611574, 0.0058961483, 0.03423797, -0.03987341, -0.016676625, -0.0039135334, 0.008479125, 0.000796882, -0.028268535, 0.0043877857, 0.025461117, -0.014078546, -0.0119806575, 0.017128488, -0.015247301, 0.03160766, 0.06835474, -0.0074270368, -0.014935634, -0.05647224, -0.0016882584, 0.0058276933, -0.03389933, 0.002543053, -0.008258491, -0.0056280824, 0.0011974559, -0.041601133, 0.04644352, -0.037281584, 0.05817752, -0.072277024, 0.05812183, -0.026545579, -0.009134331, 0.009974241, 0.006312536, 0.0010245228, 0.016525608, -0.008054186, 0.016435416, -0.044496067, -0.013910899, -0.016780557, 0.045464206, 0.019930191, 0.033987716, -0.0565706, -0.029988006, 0.037639648, -0.024037436, 0.024680665, 0.026594844, -0.028376661, -0.041581187, -0.030789975, -0.01933555, -0.0005312941, -0.061332773, -0.0025817251, 0.071331784, 0.017119905, -0.050728768, -0.02640059, -0.012703981, -0.040022876, -0.031449977, 0.012814369, -0.00051538495, -0.017517129, -0.04905934, -0.025677456, -0.002579947, 0.008305173, -0.024734082, -0.04652854, 0.030747637, -0.044030387, 0.06771563, -0.033601783, -0.0001409664, 0.007959064, 0.036940392, 0.021381618, 0.002993877, -0.00684461, 0.029838098, -0.02717437, -0.022227647, -0.06759953, 0.031273436, -0.034742292, 0.08523114, -0.009071045, -0.04356754, -0.06063013, 0.033023827, -0.041591782, -0.010172852, -0.058833197, 0.0039424393, 0.0012099356, -0.0099918535, -0.031139476, 0.029136617, 0.06279057, -0.04617105, 0.017075896, -0.07186388, -0.037751004, -0.047433898, -0.010605265, -0.0370327, 0.010056716, -0.03121461, 0.057830215, 0.028685594, -0.024904264, -0.06846215, 0.05651402, 0.030201929, 0.040854257, 0.022643656, 0.0422371, 0.022495687, 0.026224518, 0.08130913, 0.040831257, 0.010962604, 0.0018857829, -0.021008529, -0.033808824, 0.025121957, -0.022763819, -0.01306045, 0.017299462, -0.011570845, 0.01574059, -0.060536902, -0.0031138908, -0.001403915, -0.013735604, -0.0003748064, -0.049735833, -0.046350956, -0.033311468, 0.010034222, -0.033640604, 0.015697183, -0.03317279, -0.004103066, 0.033268042, 0.016524449, -0.004802464, 0.0052050254, -0.030426959, 0.010555454, 0.019591046, 0.018151214, -0.048534103, 0.024518078, -0.0024195598, 0.047723282, -0.0762939, 0.025454534, -0.03289892, -0.031020356, -0.04647479, -0.03278061, -0.022434127, 0.043657113, 0.041911338, 0.0033509606, -0.0122726895, -0.027949821, 0.052084114, -0.01174074, -0.0011524754, -0.019715859, -0.019903034, -0.012049483, 0.010408392, 0.0042669694, -0.024165813, 0.005980606, -0.056070257, 0.0150431795, 0.013973488, 0.040758412, 0.044352364, -0.04308037, 0.07079693, -0.0051194862, -0.01291348, 0.019997582, 0.018133113, 0.054237068, -0.045460038, -0.033894237, -0.03602349, -0.023446904, 0.018802872, 0.07944558, -0.071257256, 0.030978605, -0.0019698264, 0.015021149, -0.005998775, -0.016552173, 0.029257804, -0.024702832, 0.021330688, -0.06037428, 0.007018754, -0.032663345, -0.002077788, -0.045443177, 0.009343775, 0.005516318, -0.012147462, -0.026957696, -0.037939936, -0.031033223, 0.04061079, 0.041816976, 0.03656025, 0.0077446364, -0.0230147, -0.034468006, -0.024285033, 0.05060185, 0.018055793, -0.004558401, 0.062909625, 0.0740012, 0.0054958398, 0.05416371, -0.0018741817, 0.031664822, 0.029583108, 0.012299473, 0.007222043, -0.06154067, 0.0001554569]}\"]\n",
      "CPU times: user 2.94 ms, sys: 0 ns, total: 2.94 ms\n",
      "Wall time: 6.16 ms\n"
     ]
    }
   ],
   "source": [
    "%%time\n",
    "\n",
    "# Assume node_coll_name is defined and collection exists\n",
    "collection = Collection(node_coll_name)\n",
    "\n",
    "# Load the collection into memory before query\n",
    "collection.load()\n",
    "\n",
    "# Query by expr on node_index\n",
    "expr = \"node_index in [0, 1]\"\n",
    "output_fields = [\"node_index\", \"node_id\", \"node_name\", \"node_type\", \"desc\", \"desc_emb\"]\n",
    "\n",
    "results = collection.query(expr, output_fields=output_fields)\n",
    "\n",
    "print(results)"
   ]
  },
  {
   "cell_type": "code",
   "execution_count": 17,
   "id": "36378f38",
   "metadata": {},
   "outputs": [
    {
     "name": "stdout",
     "output_type": "stream",
     "text": [
      "CPU times: user 7.76 ms, sys: 383 μs, total: 8.14 ms\n",
      "Wall time: 189 ms\n"
     ]
    },
    {
     "data": {
      "text/plain": [
       "data: [[{'node_index': 0, 'distance': 0.9999999403953552, 'entity': {'node_name': 'SMAD3', 'node_id': 'SMAD3_(144)'}}, {'node_index': 1009, 'distance': 0.8087351322174072, 'entity': {'node_name': 'regulation of SMAD protein signal transduction', 'node_id': 'regulation of SMAD protein signal transduction_(41433)'}}, {'node_index': 7, 'distance': 0.7976452112197876, 'entity': {'node_name': 'STAT3', 'node_id': 'STAT3_(729)'}}, {'node_index': 2152, 'distance': 0.7935216426849365, 'entity': {'node_name': 'positive regulation of SMAD protein signal transduction', 'node_id': 'positive regulation of SMAD protein signal transduction_(101088)'}}, {'node_index': 2182, 'distance': 0.7918790578842163, 'entity': {'node_name': 'SMAD protein signal transduction', 'node_id': 'SMAD protein signal transduction_(101792)'}}, {'node_index': 31, 'distance': 0.768486499786377, 'entity': {'node_name': 'TGFB1', 'node_id': 'TGFB1_(2889)'}}, {'node_index': 2150, 'distance': 0.7662344574928284, 'entity': {'node_name': 'pathway-restricted SMAD protein phosphorylation', 'node_id': 'pathway-restricted SMAD protein phosphorylation_(101003)'}}, {'node_index': 2913, 'distance': 0.7661139369010925, 'entity': {'node_name': 'heteromeric SMAD protein complex', 'node_id': 'heteromeric SMAD protein complex_(124869)'}}, {'node_index': 2023, 'distance': 0.762290358543396, 'entity': {'node_name': 'SMAD protein complex', 'node_id': 'SMAD protein complex_(55601)'}}, {'node_index': 74, 'distance': 0.7598864436149597, 'entity': {'node_name': 'ORMDL3', 'node_id': 'ORMDL3_(9763)'}}]]"
      ]
     },
     "execution_count": 17,
     "metadata": {},
     "output_type": "execute_result"
    }
   ],
   "source": [
    "%%time\n",
    "\n",
    "# Assume node_coll_name is defined and collection exists\n",
    "collection = Collection(node_coll_name)\n",
    "\n",
    "# Load the collection into memory before query\n",
    "collection.load()\n",
    "\n",
    "# Vector similarity search in Milvus\n",
    "vector_to_search = nodes_df[\"desc_emb\"].iloc[0]\n",
    "search_params = {\"metric_type\": \"IP\"}\n",
    "results = collection.search(\n",
    "    data=[vector_to_search],\n",
    "    anns_field=\"desc_emb\",\n",
    "    param=search_params,\n",
    "    limit=10,\n",
    "    output_fields=[\"node_id\", \"node_name\"]\n",
    ")\n",
    "\n",
    "results"
   ]
  },
  {
   "cell_type": "code",
   "execution_count": 18,
   "id": "995b121b",
   "metadata": {},
   "outputs": [
    {
     "data": {
      "text/html": [
       "<div>\n",
       "<style scoped>\n",
       "    .dataframe tbody tr th:only-of-type {\n",
       "        vertical-align: middle;\n",
       "    }\n",
       "\n",
       "    .dataframe tbody tr th {\n",
       "        vertical-align: top;\n",
       "    }\n",
       "\n",
       "    .dataframe thead th {\n",
       "        text-align: right;\n",
       "    }\n",
       "</style>\n",
       "<table border=\"1\" class=\"dataframe\">\n",
       "  <thead>\n",
       "    <tr style=\"text-align: right;\">\n",
       "      <th></th>\n",
       "      <th>node_index</th>\n",
       "      <th>node_id</th>\n",
       "      <th>node_name</th>\n",
       "      <th>node_type</th>\n",
       "      <th>desc</th>\n",
       "      <th>desc_emb</th>\n",
       "      <th>feat</th>\n",
       "      <th>feat_emb</th>\n",
       "    </tr>\n",
       "  </thead>\n",
       "  <tbody>\n",
       "    <tr>\n",
       "      <th>0</th>\n",
       "      <td>0</td>\n",
       "      <td>SMAD3_(144)</td>\n",
       "      <td>SMAD3</td>\n",
       "      <td>gene/protein</td>\n",
       "      <td>SMAD3 belongs to gene/protein node. SMAD3 is S...</td>\n",
       "      <td>[0.02974936784975063, 0.05350021171537046, -0....</td>\n",
       "      <td>MSSILPFTPPIVKRLLGWKKGEQNGQEEKWCEKAVKSLVKKLKKTG...</td>\n",
       "      <td>[-0.0010794274069904548, -0.0028632148270051, ...</td>\n",
       "    </tr>\n",
       "  </tbody>\n",
       "</table>\n",
       "</div>"
      ],
      "text/plain": [
       "   node_index      node_id node_name     node_type  \\\n",
       "0           0  SMAD3_(144)     SMAD3  gene/protein   \n",
       "\n",
       "                                                desc  \\\n",
       "0  SMAD3 belongs to gene/protein node. SMAD3 is S...   \n",
       "\n",
       "                                            desc_emb  \\\n",
       "0  [0.02974936784975063, 0.05350021171537046, -0....   \n",
       "\n",
       "                                                feat  \\\n",
       "0  MSSILPFTPPIVKRLLGWKKGEQNGQEEKWCEKAVKSLVKKLKKTG...   \n",
       "\n",
       "                                            feat_emb  \n",
       "0  [-0.0010794274069904548, -0.0028632148270051, ...  "
      ]
     },
     "execution_count": 18,
     "metadata": {},
     "output_type": "execute_result"
    }
   ],
   "source": [
    "nodes_df.loc[0]"
   ]
  },
  {
   "cell_type": "markdown",
   "id": "b682b66a",
   "metadata": {},
   "source": [
    "#### Building Node Collection (Node Type-specific Embedding)"
   ]
  },
  {
   "cell_type": "markdown",
   "id": "dab68486",
   "metadata": {},
   "source": [
    "Note that nodes information of the PrimeKG data is different for each node type, \n",
    "we are going to build a separate collection for each node type.\n",
    "\n",
    "We will use the node type as the collection name."
   ]
  },
  {
   "cell_type": "code",
   "execution_count": 21,
   "id": "e0f2ebd4",
   "metadata": {},
   "outputs": [
    {
     "name": "stderr",
     "output_type": "stream",
     "text": [
      "  0%|          | 0/6 [00:00<?, ?it/s]"
     ]
    },
    {
     "name": "stdout",
     "output_type": "stream",
     "text": [
      "Processing node type: biological_process\n"
     ]
    },
    {
     "name": "stderr",
     "output_type": "stream",
     "text": [
      "100%|██████████| 4/4 [00:02<00:00,  1.80it/s]\n",
      " 17%|█▋        | 1/6 [00:06<00:33,  6.80s/it]"
     ]
    },
    {
     "name": "stdout",
     "output_type": "stream",
     "text": [
      "Collection t2kg_primekg_nodes_biological_process stats:\n",
      "1615\n",
      "Processing node type: cellular_component\n"
     ]
    },
    {
     "name": "stderr",
     "output_type": "stream",
     "text": [
      "100%|██████████| 1/1 [00:00<00:00,  2.72it/s]\n",
      " 33%|███▎      | 2/6 [00:11<00:21,  5.38s/it]"
     ]
    },
    {
     "name": "stdout",
     "output_type": "stream",
     "text": [
      "Collection t2kg_primekg_nodes_cellular_component stats:\n",
      "202\n",
      "Processing node type: disease\n"
     ]
    },
    {
     "name": "stderr",
     "output_type": "stream",
     "text": [
      "100%|██████████| 1/1 [00:00<00:00,  2.84it/s]\n",
      " 50%|█████     | 3/6 [00:15<00:14,  4.92s/it]"
     ]
    },
    {
     "name": "stdout",
     "output_type": "stream",
     "text": [
      "Collection t2kg_primekg_nodes_disease stats:\n",
      "7\n",
      "Processing node type: drug\n"
     ]
    },
    {
     "name": "stderr",
     "output_type": "stream",
     "text": [
      "100%|██████████| 2/2 [00:01<00:00,  1.99it/s]\n",
      " 67%|██████▋   | 4/6 [00:20<00:09,  4.96s/it]"
     ]
    },
    {
     "name": "stdout",
     "output_type": "stream",
     "text": [
      "Collection t2kg_primekg_nodes_drug stats:\n",
      "748\n",
      "Processing node type: gene/protein\n"
     ]
    },
    {
     "name": "stderr",
     "output_type": "stream",
     "text": [
      "100%|██████████| 1/1 [00:00<00:00,  2.84it/s]\n",
      " 83%|████████▎ | 5/6 [00:24<00:04,  4.76s/it]"
     ]
    },
    {
     "name": "stdout",
     "output_type": "stream",
     "text": [
      "Collection t2kg_primekg_nodes_gene_protein stats:\n",
      "102\n",
      "Processing node type: molecular_function\n"
     ]
    },
    {
     "name": "stderr",
     "output_type": "stream",
     "text": [
      "100%|██████████| 1/1 [00:00<00:00,  2.69it/s]\n",
      "100%|██████████| 6/6 [00:29<00:00,  4.89s/it]"
     ]
    },
    {
     "name": "stdout",
     "output_type": "stream",
     "text": [
      "Collection t2kg_primekg_nodes_molecular_function stats:\n",
      "317\n",
      "CPU times: user 716 ms, sys: 204 ms, total: 920 ms\n",
      "Wall time: 29.4 s\n"
     ]
    },
    {
     "name": "stderr",
     "output_type": "stream",
     "text": [
      "\n"
     ]
    }
   ],
   "source": [
    "%%time\n",
    "\n",
    "# Loop over group enrichment nodes by node_type\n",
    "for node_type, nodes_df_ in tqdm(nodes_df.groupby('node_type')):\n",
    "    print(f\"Processing node type: {node_type}\")\n",
    "\n",
    "    # Milvus collection name for this node_type\n",
    "    node_coll_name = f\"{milvus_database}_nodes_{node_type.replace('/', '_')}\"\n",
    "\n",
    "    # Define collection schema\n",
    "    desc_emb_dim = len(nodes_df_.iloc[0]['desc_emb'].to_arrow().to_pylist()[0])\n",
    "    feat_emb_dim = len(nodes_df_.iloc[0]['feat_emb'].to_arrow().to_pylist()[0])\n",
    "    node_fields = [\n",
    "        FieldSchema(name=\"node_index\", dtype=DataType.INT64, is_primary=True, auto_id=False),\n",
    "        FieldSchema(name=\"node_id\", dtype=DataType.VARCHAR, max_length=1024),\n",
    "        FieldSchema(name=\"node_name\", dtype=DataType.VARCHAR, max_length=1024,\n",
    "                    enable_analyzer=True, enable_match=True),\n",
    "        FieldSchema(name=\"node_type\", dtype=DataType.VARCHAR, max_length=1024,\n",
    "                    enable_analyzer=True, enable_match=True),\n",
    "        FieldSchema(name=\"desc\", dtype=DataType.VARCHAR, max_length=40960,\n",
    "                    enable_analyzer=True, enable_match=True),\n",
    "        FieldSchema(name=\"desc_emb\", dtype=DataType.FLOAT_VECTOR, dim=desc_emb_dim),        \n",
    "        FieldSchema(name=\"feat\", dtype=DataType.VARCHAR, max_length=40960,\n",
    "                    enable_analyzer=True, enable_match=True),\n",
    "        FieldSchema(name=\"feat_emb\", dtype=DataType.FLOAT_VECTOR, dim=feat_emb_dim),\n",
    "    ]\n",
    "    schema = CollectionSchema(fields=node_fields, description=f\"schema for collection {node_coll_name}\")\n",
    "\n",
    "    # Create collection if not exists\n",
    "    if not utility.has_collection(node_coll_name):\n",
    "        collection = Collection(name=node_coll_name, schema=schema)\n",
    "    else:\n",
    "        collection = Collection(name=node_coll_name)\n",
    "\n",
    "    # Create index for node_index field (scalar)\n",
    "    collection.create_index(\n",
    "        field_name=\"node_index\",\n",
    "        index_params={\"index_type\": \"STL_SORT\"},\n",
    "        index_name=\"node_index_index\"\n",
    "    )\n",
    "    # Create index for node_name, node_type, desc fields (inverted)\n",
    "    collection.create_index(\n",
    "        field_name=\"node_name\",\n",
    "        index_params={\"index_type\": \"INVERTED\"},\n",
    "        index_name=\"node_name_index\"\n",
    "    )\n",
    "    collection.create_index(\n",
    "        field_name=\"node_type\",\n",
    "        index_params={\"index_type\": \"INVERTED\"},\n",
    "        index_name=\"node_type_index\"\n",
    "    )\n",
    "    collection.create_index(\n",
    "        field_name=\"desc\",\n",
    "        index_params={\"index_type\": \"INVERTED\"},\n",
    "        index_name=\"desc_index\"\n",
    "    )\n",
    "    collection.create_index(\n",
    "        field_name=\"desc_emb\",\n",
    "        index_params={\"index_type\": \"GPU_CAGRA\", \"metric_type\": \"IP\"}, # AUTOINDEX\n",
    "        index_name=\"desc_emb_index\"\n",
    "    )\n",
    "    # Create index for feat_emb (vector)\n",
    "    collection.create_index(\n",
    "        field_name=\"feat_emb\",\n",
    "        index_params={\"index_type\": \"GPU_CAGRA\", \"metric_type\": \"IP\"}, # AUTOINDEX\n",
    "        index_name=\"feat_emb_index\"\n",
    "    )\n",
    "\n",
    "    # Prepare data for insertion\n",
    "    # Columns must be lists of values in order matching schema fields\n",
    "    data = [\n",
    "        nodes_df_[\"node_index\"].to_arrow().to_pylist(),\n",
    "        nodes_df_[\"node_id\"].to_arrow().to_pylist(),\n",
    "        nodes_df_[\"node_name\"].to_arrow().to_pylist(),\n",
    "        nodes_df_[\"node_type\"].to_arrow().to_pylist(),\n",
    "        nodes_df_[\"desc\"].to_arrow().to_pylist(),\n",
    "        cp.asarray(nodes_df_[\"desc_emb\"].list.leaves).astype(cp.float32)\n",
    "            .reshape(nodes_df_.shape[0], -1)\n",
    "            .tolist(),\n",
    "        nodes_df_[\"feat\"].to_arrow().to_pylist(),\n",
    "        cp.asarray(nodes_df_[\"feat_emb\"].list.leaves).astype(cp.float32)\n",
    "            .reshape(nodes_df_.shape[0], -1)\n",
    "            .tolist(),\n",
    "    ]\n",
    "\n",
    "    # Batch insert data in chunks\n",
    "    batch_size = 500\n",
    "    total_rows = len(data[0])\n",
    "    for i in tqdm(range(0, total_rows, batch_size)):\n",
    "        batch = [col[i:i + batch_size] for col in data]\n",
    "        collection.insert(batch)\n",
    "\n",
    "    # Flush the collection to ensure data is persisted\n",
    "    collection.flush()\n",
    "\n",
    "    # Print collection stats (number of entities and segment info)\n",
    "    stats = collection.num_entities\n",
    "    print(f\"Collection {node_coll_name} stats:\")\n",
    "    print(stats)"
   ]
  },
  {
   "cell_type": "code",
   "execution_count": 22,
   "id": "1e5eef59",
   "metadata": {},
   "outputs": [
    {
     "name": "stdout",
     "output_type": "stream",
     "text": [
      "Collection: t2kg_primekg_nodes_biological_process\n",
      "1615\n",
      "Collection: t2kg_primekg_nodes_gene_protein\n",
      "102\n",
      "Collection: t2kg_primekg_nodes_cellular_component\n",
      "202\n",
      "Collection: t2kg_primekg_nodes_disease\n",
      "7\n",
      "Collection: t2kg_primekg_nodes_drug\n",
      "748\n",
      "Collection: t2kg_primekg_nodes_molecular_function\n",
      "317\n",
      "Collection: t2kg_primekg_nodes\n",
      "2991\n"
     ]
    }
   ],
   "source": [
    "# List all collections\n",
    "for coll in utility.list_collections():\n",
    "    print(f\"Collection: {coll}\")\n",
    "\n",
    "    # Load the collection to get stats\n",
    "    collection = Collection(name=coll)\n",
    "    print(collection.num_entities)"
   ]
  },
  {
   "cell_type": "code",
   "execution_count": 23,
   "id": "e127f18c",
   "metadata": {},
   "outputs": [
    {
     "name": "stdout",
     "output_type": "stream",
     "text": [
      "CPU times: user 7.6 ms, sys: 16.6 ms, total: 24.2 ms\n",
      "Wall time: 1.45 s\n"
     ]
    },
    {
     "data": {
      "text/plain": [
       "data: [[{'node_index': 0, 'distance': 0.9999998211860657, 'entity': {'node_id': 'SMAD3_(144)', 'node_name': 'SMAD3'}}, {'node_index': 3, 'distance': 0.988673210144043, 'entity': {'node_id': 'HNF4A_(279)', 'node_name': 'HNF4A'}}, {'node_index': 850, 'distance': 0.9875491857528687, 'entity': {'node_id': 'DENND1B_(34887)', 'node_name': 'DENND1B'}}, {'node_index': 30, 'distance': 0.9863460659980774, 'entity': {'node_id': 'PRDM1_(2874)', 'node_name': 'PRDM1'}}, {'node_index': 15, 'distance': 0.9861670136451721, 'entity': {'node_id': 'JAK2_(1618)', 'node_name': 'JAK2'}}, {'node_index': 71, 'distance': 0.9860329627990723, 'entity': {'node_id': 'KIF21B_(8564)', 'node_name': 'KIF21B'}}, {'node_index': 9, 'distance': 0.9856594800949097, 'entity': {'node_id': 'PPARG_(989)', 'node_name': 'PPARG'}}, {'node_index': 62, 'distance': 0.9852690696716309, 'entity': {'node_id': 'TYK2_(6428)', 'node_name': 'TYK2'}}, {'node_index': 66, 'distance': 0.9844554662704468, 'entity': {'node_id': 'ADCY7_(7359)', 'node_name': 'ADCY7'}}, {'node_index': 11, 'distance': 0.984216034412384, 'entity': {'node_id': 'PPARA_(1122)', 'node_name': 'PPARA'}}]]"
      ]
     },
     "execution_count": 23,
     "metadata": {},
     "output_type": "execute_result"
    }
   ],
   "source": [
    "%%time\n",
    "\n",
    "# Assume node_coll_name is defined and collection exists\n",
    "collection = Collection('t2kg_primekg_nodes_gene_protein')\n",
    "\n",
    "# Load the collection into memory before query\n",
    "collection.load()\n",
    "\n",
    "# Vector similarity search in Milvus\n",
    "vector_to_search = nodes_df[\"feat_emb\"].iloc[0]\n",
    "search_params = {\"metric_type\": \"IP\"}\n",
    "results = collection.search(\n",
    "    data=[vector_to_search],\n",
    "    anns_field=\"feat_emb\",\n",
    "    param=search_params,\n",
    "    limit=10,\n",
    "    output_fields=[\"node_id\", \"node_name\"]\n",
    ")\n",
    "results"
   ]
  },
  {
   "cell_type": "code",
   "execution_count": 24,
   "id": "ad0c340c",
   "metadata": {},
   "outputs": [
    {
     "data": {
      "text/html": [
       "<div>\n",
       "<style scoped>\n",
       "    .dataframe tbody tr th:only-of-type {\n",
       "        vertical-align: middle;\n",
       "    }\n",
       "\n",
       "    .dataframe tbody tr th {\n",
       "        vertical-align: top;\n",
       "    }\n",
       "\n",
       "    .dataframe thead th {\n",
       "        text-align: right;\n",
       "    }\n",
       "</style>\n",
       "<table border=\"1\" class=\"dataframe\">\n",
       "  <thead>\n",
       "    <tr style=\"text-align: right;\">\n",
       "      <th></th>\n",
       "      <th>node_index</th>\n",
       "      <th>node_id</th>\n",
       "      <th>node_name</th>\n",
       "      <th>node_type</th>\n",
       "      <th>desc</th>\n",
       "      <th>desc_emb</th>\n",
       "      <th>feat</th>\n",
       "      <th>feat_emb</th>\n",
       "    </tr>\n",
       "  </thead>\n",
       "  <tbody>\n",
       "    <tr>\n",
       "      <th>0</th>\n",
       "      <td>0</td>\n",
       "      <td>SMAD3_(144)</td>\n",
       "      <td>SMAD3</td>\n",
       "      <td>gene/protein</td>\n",
       "      <td>SMAD3 belongs to gene/protein node. SMAD3 is S...</td>\n",
       "      <td>[0.02974936784975063, 0.05350021171537046, -0....</td>\n",
       "      <td>MSSILPFTPPIVKRLLGWKKGEQNGQEEKWCEKAVKSLVKKLKKTG...</td>\n",
       "      <td>[-0.0010794274069904548, -0.0028632148270051, ...</td>\n",
       "    </tr>\n",
       "  </tbody>\n",
       "</table>\n",
       "</div>"
      ],
      "text/plain": [
       "   node_index      node_id node_name     node_type  \\\n",
       "0           0  SMAD3_(144)     SMAD3  gene/protein   \n",
       "\n",
       "                                                desc  \\\n",
       "0  SMAD3 belongs to gene/protein node. SMAD3 is S...   \n",
       "\n",
       "                                            desc_emb  \\\n",
       "0  [0.02974936784975063, 0.05350021171537046, -0....   \n",
       "\n",
       "                                                feat  \\\n",
       "0  MSSILPFTPPIVKRLLGWKKGEQNGQEEKWCEKAVKSLVKKLKKTG...   \n",
       "\n",
       "                                            feat_emb  \n",
       "0  [-0.0010794274069904548, -0.0028632148270051, ...  "
      ]
     },
     "execution_count": 24,
     "metadata": {},
     "output_type": "execute_result"
    }
   ],
   "source": [
    "# Check the ground truth for the search\n",
    "nodes_df.loc[0]"
   ]
  },
  {
   "cell_type": "code",
   "execution_count": 25,
   "id": "444bb0bd",
   "metadata": {},
   "outputs": [
    {
     "data": {
      "text/plain": [
       "[0, 3, 850, 30, 15, 71, 9, 62, 66, 11]"
      ]
     },
     "execution_count": 25,
     "metadata": {},
     "output_type": "execute_result"
    }
   ],
   "source": [
    "# Get node indices from the results\n",
    "[n['node_index'] for n in results[0]]"
   ]
  },
  {
   "cell_type": "code",
   "execution_count": 26,
   "id": "659ffddd",
   "metadata": {},
   "outputs": [
    {
     "data": {
      "text/plain": [
       "[0.9999998211860657,\n",
       " 0.988673210144043,\n",
       " 0.9875491857528687,\n",
       " 0.9863460659980774,\n",
       " 0.9861670136451721,\n",
       " 0.9860329627990723,\n",
       " 0.9856594800949097,\n",
       " 0.9852690696716309,\n",
       " 0.9844554662704468,\n",
       " 0.984216034412384]"
      ]
     },
     "execution_count": 26,
     "metadata": {},
     "output_type": "execute_result"
    }
   ],
   "source": [
    "# Get the cosine similarity scores\n",
    "[n['distance'] for n in results[0]]"
   ]
  },
  {
   "cell_type": "markdown",
   "id": "4730f362",
   "metadata": {},
   "source": [
    "#### Building Edge Collection"
   ]
  },
  {
   "cell_type": "markdown",
   "id": "b7c267b2",
   "metadata": {},
   "source": [
    "Subsquently, we are also building the edges collection in Milvus.\n",
    "\n",
    "Note that the edges information of PrimeKG has massive records, so once again we are chunking the data to avoid memory issues."
   ]
  },
  {
   "cell_type": "code",
   "execution_count": 28,
   "id": "a4253483",
   "metadata": {},
   "outputs": [
    {
     "name": "stderr",
     "output_type": "stream",
     "text": [
      "100%|██████████| 23/23 [00:05<00:00,  4.45it/s]\n"
     ]
    },
    {
     "name": "stdout",
     "output_type": "stream",
     "text": [
      "11272\n"
     ]
    },
    {
     "name": "stderr",
     "output_type": "stream",
     "text": [
      "100%|██████████| 1/1 [00:11<00:00, 11.11s/it]"
     ]
    },
    {
     "name": "stdout",
     "output_type": "stream",
     "text": [
      "CPU times: user 971 ms, sys: 180 ms, total: 1.15 s\n",
      "Wall time: 13.4 s\n"
     ]
    },
    {
     "name": "stderr",
     "output_type": "stream",
     "text": [
      "\n"
     ]
    }
   ],
   "source": [
    "%%time\n",
    "\n",
    "# Define collection name\n",
    "edge_coll_name = f\"{milvus_database}_edges\"\n",
    "\n",
    "# Define schema\n",
    "edge_fields = [\n",
    "    FieldSchema(name=\"triplet_index\", dtype=DataType.INT64, is_primary=True, auto_id=False),\n",
    "    FieldSchema(name=\"head_id\", dtype=DataType.VARCHAR, max_length=1024),\n",
    "    FieldSchema(name=\"head_index\", dtype=DataType.INT64),\n",
    "    FieldSchema(name=\"tail_id\", dtype=DataType.VARCHAR, max_length=1024),\n",
    "    FieldSchema(name=\"tail_index\", dtype=DataType.INT64),\n",
    "    FieldSchema(name=\"edge_type\", dtype=DataType.VARCHAR, max_length=1024),\n",
    "    FieldSchema(name=\"display_relation\", dtype=DataType.VARCHAR, max_length=1024),\n",
    "    FieldSchema(name=\"feat\", dtype=DataType.VARCHAR, max_length=40960),\n",
    "    FieldSchema(name=\"feat_emb\", dtype=DataType.FLOAT_VECTOR, dim=768), #1536 for text-embedding-ada-002, 768 for ollama nomic-embed-text\n",
    "]\n",
    "edge_schema = CollectionSchema(fields=edge_fields, description=\"Schema for edges collection\")\n",
    "\n",
    "# Create collection if not exists\n",
    "if not utility.has_collection(edge_coll_name):\n",
    "    collection = Collection(name=edge_coll_name, schema=edge_schema)\n",
    "else:\n",
    "    collection = Collection(name=edge_coll_name)\n",
    "\n",
    "# Create indexes\n",
    "collection.create_index(field_name=\"triplet_index\", index_params={\"index_type\": \"STL_SORT\"}, index_name=\"triplet_index_index\")\n",
    "collection.create_index(field_name=\"head_index\", index_params={\"index_type\": \"STL_SORT\"}, index_name=\"head_index_index\")\n",
    "collection.create_index(field_name=\"tail_index\", index_params={\"index_type\": \"STL_SORT\"}, index_name=\"tail_index_index\")\n",
    "collection.create_index(field_name=\"feat_emb\", index_params={\"index_type\": \"GPU_CAGRA\", \"metric_type\": \"IP\"}, index_name=\"feat_emb_index\") # AUTOINDEX\n",
    "\n",
    "# Iterate over chunked edges embedding df\n",
    "for edges_df_ in tqdm([edges_df]):\n",
    "\n",
    "    # Prepare data fields in column-wise format\n",
    "    data = [\n",
    "        edges_df_[\"triplet_index\"].to_arrow().to_pylist(),\n",
    "        edges_df_[\"head_id\"].to_arrow().to_pylist(),\n",
    "        edges_df_[\"head_index\"].to_arrow().to_pylist(),\n",
    "        edges_df_[\"tail_id\"].to_arrow().to_pylist(),\n",
    "        edges_df_[\"tail_index\"].to_arrow().to_pylist(),\n",
    "        edges_df_[\"edge_type_str\"].to_arrow().to_pylist(),\n",
    "        edges_df_[\"display_relation\"].to_arrow().to_pylist(),\n",
    "        edges_df_[\"feat\"].to_arrow().to_pylist(),\n",
    "        cp.asarray(edges_df_[\"edge_emb\"].list.leaves).astype(cp.float32)\n",
    "            .reshape(edges_df_.shape[0], -1)\n",
    "            .tolist(),\n",
    "    ]\n",
    "\n",
    "    # Insert in chunks\n",
    "    batch_size = 500\n",
    "    for i in tqdm(range(0, len(data[0]), batch_size)):\n",
    "        batch_data = [d[i:i+batch_size] for d in data]\n",
    "        collection.insert(batch_data)\n",
    "\n",
    "    # Flush to ensure persistence\n",
    "    collection.flush()\n",
    "\n",
    "    # Print collection stats\n",
    "    print(collection.num_entities)\n",
    "    \n",
    "    time.sleep(5)  # Sleep to avoid overwhelming the server\n"
   ]
  },
  {
   "cell_type": "code",
   "execution_count": 29,
   "id": "394748bf",
   "metadata": {},
   "outputs": [
    {
     "name": "stdout",
     "output_type": "stream",
     "text": [
      "Collection: t2kg_primekg_nodes_cellular_component\n",
      "202\n",
      "Collection: t2kg_primekg_nodes_disease\n",
      "7\n",
      "Collection: t2kg_primekg_nodes_drug\n",
      "748\n",
      "Collection: t2kg_primekg_nodes_molecular_function\n",
      "317\n",
      "Collection: t2kg_primekg_edges\n",
      "11272\n",
      "Collection: t2kg_primekg_nodes\n",
      "2991\n",
      "Collection: t2kg_primekg_nodes_biological_process\n",
      "1615\n",
      "Collection: t2kg_primekg_nodes_gene_protein\n",
      "102\n"
     ]
    }
   ],
   "source": [
    "# List all collections\n",
    "for coll in utility.list_collections():\n",
    "    print(f\"Collection: {coll}\")\n",
    "\n",
    "    # Load the collection to get stats\n",
    "    collection = Collection(name=coll)\n",
    "    print(collection.num_entities)"
   ]
  },
  {
   "cell_type": "code",
   "execution_count": 30,
   "id": "975ad198",
   "metadata": {},
   "outputs": [
    {
     "name": "stdout",
     "output_type": "stream",
     "text": [
      "CPU times: user 10.2 ms, sys: 6.34 ms, total: 16.6 ms\n",
      "Wall time: 1.52 s\n"
     ]
    },
    {
     "data": {
      "text/plain": [
       "data: [\"{'triplet_index': 0, 'head_id': 'Rose bengal_(14118)', 'tail_id': 'LTF_(3233)', 'edge_type': 'drug|carrier|gene/protein', 'feat': 'Rose bengal (drug) has a direct relationship of drug_protein:carrier with LTF (gene/protein).', 'feat_emb': [0.071049586, 0.0060329223, -0.17035195, 0.0013526214, 0.048036188, 0.003639546, -0.075369276, 0.008644691, -0.03623718, -0.03908307, -0.02776647, 0.05557716, 0.14341861, -0.005525504, 0.0033363877, -0.0004059333, 0.025640398, -0.036554623, -0.003938051, 0.03537183, -0.010803912, 0.019870885, 0.027924007, -0.015905585, 0.04759002, 0.0665622, 0.029466823, -0.0487658, -0.021191811, -0.003891353, 0.060805637, -0.03784243, -0.009008949, -0.0034025165, 0.0024893545, -0.005160498, 0.023153596, 0.039008953, -0.011503011, 0.012791931, 0.06716217, 0.054385673, 0.00804711, 0.015538905, 0.03946401, 0.048474014, 0.013319631, 0.025589347, 0.054585613, -0.04032546, 0.010447572, -0.012857375, -0.016545152, -0.009699244, 0.06947826, 0.0377996, -0.005236178, 0.0064705675, -0.014101755, 0.007921758, 0.111523695, 0.04295518, -0.050704774, 0.08553266, 0.08521105, -0.0383093, 0.0060160765, 0.068476036, -0.070374824, -0.020567287, 0.03610467, 0.0027561367, 0.024410827, 0.055411916, 0.012028625, -0.020938694, -0.018050356, -0.026750743, -0.020973252, -0.011515464, 0.023336286, -0.017532103, 0.03493583, 0.02293092, 0.024541372, -0.017980076, -0.01792418, 0.001816654, -0.010294659, 0.050116695, 0.04292407, 0.023851488, 0.004997998, -0.015776712, -0.07835214, 0.07549597, 0.008751603, -0.0019809578, -0.079301864, -0.056329668, -0.017525429, 0.024596026, 0.03094025, 0.012892718, -0.02713626, -0.0059529413, 0.05701909, -0.0086233085, 0.0027721007, 0.011515984, -0.07018507, 0.0019905053, -0.04170671, -0.015564927, 0.031708077, -0.051935196, 0.039639156, -0.049411904, 0.008206093, -0.024602553, -0.003417812, 0.005288312, -0.02667973, 0.06383676, 0.01313877, 0.0076738987, -0.04904737, -0.014929802, 0.0013002211, -0.03164122, -0.04500528, -0.03203175, -0.035812367, -0.021110171, 0.023709694, 0.07403832, -0.019201336, -0.014278386, 0.004661606, 0.006438969, 0.008477399, -0.031357087, 0.020645564, -0.0045185992, 0.00468073, 0.053422023, 0.057479165, -0.02845391, -0.043537013, 0.016664801, 0.018800877, 0.021063408, -0.015944675, 0.0042741243, -0.0014396673, -0.037703007, -0.013003987, -0.011824571, 0.017169775, 0.015359749, 0.026619446, -0.0061738794, -0.059685946, -0.017444553, -0.010229393, -0.07262155, 0.030864017, 0.07136285, 0.0024824599, 0.055528473, -0.020934178, 0.0014421709, -0.0064534512, -0.045432776, 0.074623615, -0.016382534, -0.0003263984, -0.0059368806, 0.012315519, -0.08950318, 0.008841172, -0.08225193, 0.001018997, 0.0073655564, -0.0036943571, 0.0037549185, 0.038012944, -0.016586285, -0.056497578, -0.03647921, -0.03441697, 0.050760653, -0.019980645, -0.02384203, -0.044980135, 0.00060256256, -0.00825562, 0.01082386, 0.056704443, -0.018835388, -0.059029415, 0.006945937, -0.0256569, 0.020413505, -0.035800878, 0.017617479, -0.02845264, 0.026878754, -0.008800762, -0.0013885909, 0.02974447, -0.040797222, -0.04206358, -0.022085901, 0.005893647, -0.045215677, 0.038304713, -0.047566514, -0.061513335, 0.037052218, 0.028084988, 0.0035138244, 0.03785001, -0.016064005, 0.030636318, 0.020941798, -0.027962925, -0.00030160928, -0.05563115, -0.016361307, 0.019527234, -0.052767955, 0.06710842, 0.04939754, 0.00879543, -0.03700943, 0.0054733553, 0.023139603, -0.055714615, 0.0071068606, -0.01776408, 0.047997404, -0.041898917, 0.0010656028, 0.0561453, 0.05250162, 0.044670854, -0.021157952, -0.021865042, 0.07603227, -0.014981769, -0.018849978, 0.068758555, 0.028766843, -0.027207293, -0.035732776, -0.018763581, -0.029000398, 0.026021268, -0.023312656, 0.041153405, 0.029853746, 0.04552993, -0.01003948, -0.06486098, -0.03989134, -0.027091598, -0.0032589296, -0.014764932, -0.04996138, 0.0056089945, 0.021750024, 0.0017887214, 0.0206756, 0.013024741, 0.005477507, -0.031221729, -0.019595679, -0.04818065, -0.01540288, 0.012871286, -0.058209036, -0.023366677, -0.0666524, -0.020015894, 0.06511521, 0.048153367, 0.009744859, 0.03701484, 0.030925583, 0.042443547, -0.010490617, -0.012711599, 0.015891626, 0.054379214, -0.017543323, 0.059476975, -0.022228738, -0.0005851191, -0.04933337, 0.049951844, 0.010859356, 0.037960295, 0.0030716436, -0.06096934, -0.008368035, -0.016438402, -0.018133163, 0.02467152, -0.026342012, -0.010560769, -0.0059979027, -0.046617165, 0.032378085, -0.058154885, 0.023073625, 0.013777262, 0.0031511819, 0.04870354, -0.0077973595, 0.029731896, -0.041394386, -0.027724866, -0.062071573, 0.016053632, 0.022193966, -0.019535137, 0.00614961, 0.010043663, -0.023780204, 0.059364084, 0.057113476, 0.05363729, -0.012679287, -0.028872821, 0.044687554, -0.03977627, 0.021625808, -0.04306328, 0.018846871, 0.042959563, 0.0022288787, 0.06823651, -0.029404337, -4.0124127e-05, 0.04765666, -0.03968309, 0.029974923, 0.038797367, 0.0036744168, -0.021643128, 0.020366475, -0.028427262, 0.0018493325, 0.029610345, -0.029644864, 0.029442037, -0.009571173, -0.016606394, -0.0178715, 0.0030030292, -0.03412456, 0.030710543, 0.012921739, -0.009903254, 0.03704514, 0.076214224, 0.038380235, 0.041487925, -0.007680477, -0.030276744, -0.039363794, -0.033632323, -0.013544551, 0.027167954, 0.04153552, -0.111787826, -0.04407363, -0.0647865, 0.03836268, 0.03898838, 0.019513857, 0.055948384, 0.017218783, 0.042015135, -0.028205108, -0.029186068, 0.017023912, 0.0060912436, 0.062103648, -0.02370251, -0.01440815, -0.061404627, -0.01361422, 0.023515504, 0.011290357, 0.07174584, 0.007812586, -0.01110587, -0.005343843, -0.029352052, -0.06070205, 0.008047869, -0.0044652033, 0.04185533, 0.030449497, -0.0004870242, -0.034425803, 0.005380558, -1.9186531e-05, 0.041713137, 0.07619964, -0.01047913, 0.0058360947, -0.049555276, 0.0052846987, 0.015173224, -0.022210672, 0.010587112, -0.009238205, 0.06959873, 0.0055973264, 0.0049377903, 0.025810296, -0.0019898126, 0.026275508, 0.077344514, 0.027526587, -0.017891407, -0.06073289, -0.019140063, 0.057967857, 0.06092464, -0.032734334, -0.019648973, -0.021761606, 0.009467199, -0.008458969, -0.023734834, 0.044646278, 0.047097713, -0.028253142, -0.01573964, -0.0012509634, 0.0071492754, 0.07255029, -0.0047871107, -0.026869547, -0.05354699, 0.032209978, 0.0011382491, -0.0056184707, 0.0091838995, 0.037547205, 0.054886136, 0.01760521, 0.014107061, 0.022335371, 0.0555091, 0.026527766, 0.019162286, -0.0057731443, -0.03220885, 0.0057776645, 0.03387637, -0.026504982, 0.020514011, -0.009559267, 0.011962403, 0.0240816, -0.060027745, -0.018875835, 0.03178887, 0.020656262, -0.032407958, -0.028572075, -0.01087759, -0.025630573, 0.0038414653, 0.032556195, 0.030798556, 0.011659942, -0.038487997, -0.095941916, 0.0024009717, 0.0010283155, -0.018224118, 0.030922925, 0.009303782, -0.020596854, 0.02317521, 0.032478824, 0.04117572, 0.009621208, 0.04155896, 0.031365346, 0.00027435733, -0.016159048, 0.017015496, -0.031200768, 0.020115465, 0.061271723, 0.0034874089, 0.04637661, 0.0010483995, -0.021165365, 0.012313576, -0.041243244, -0.07670101, 0.003627777, -0.050674446, -0.032412745, -0.013088868, 0.02428466, -0.013176562, -0.031155234, 0.023945631, 0.04691184, -0.017215323, -0.033973336, -0.025053043, -0.02254837, 0.02395282, 0.033250704, -0.05000697, 0.04429415, 0.043905728, 0.002729117, 0.00049075845, 0.000101254045, 0.0014607498, 0.016622145, 0.00044181617, -0.00093686325, 0.00021717939, -0.015952589, 0.016972749, 0.02069375, -0.01356319, 0.025477929, 0.024960881, -0.019617256, -0.037203237, -0.0001025441, -0.014558364, -0.040425804, -0.013616562, -0.032628167, -0.01994764, -0.007863294, 0.015525633, -0.06660297, 0.016774572, 0.013507888, 0.07266424, -0.04714018, 0.0407926, -0.03715076, -0.055769574, 0.0002189449, 0.01727833, 0.055239405, 0.026537329, -0.060194377, 0.030039556, 0.020465437, 0.011135835, -0.054517657, 0.015974158, 0.008347388, 0.0064629605, -0.062162023, 0.00062416884, -0.04113377, -0.0129627, -0.02110273, -0.009209758, -0.034508187, -0.0368221, -0.03434308, 0.025816014, -0.064572595, -0.07167454, -0.023366565, 0.005089752, -0.019415924, -0.074461095, -0.014856748, 0.068750486, -0.009626325, -0.007584432, -0.024831036, 0.005027635, -0.018964626, -0.015131913, 0.020819485, -0.013734104, -0.012670244, -0.012563666, -0.02796166, 0.01659775, -0.020484276, 0.059726097, -0.028255308, -0.02751678, 0.027446387, 0.026463399, 0.02327156, -0.017187981, 0.010661684, 0.029969268, -0.01630695, -0.030556427, -0.038225386, 0.02895449, -0.04348405, 0.05732716, 0.013875845, -0.038639415, -0.023533922, -0.029352402, -0.0464546, 0.0034893306, -0.057824805, 0.056643024, 0.013218426, -0.034654774, 0.013866521, -0.012403252, 0.046286475, -0.008393078, 0.031238658, -0.06424105, -0.059445623, -0.030737925, 0.0043885414, -0.025791025, 0.01022457, 0.05411227, 0.022015331, -0.020998335, 0.020037018, -0.0320222, 0.05097956, 0.027520338, -0.044814095, -0.017830104, 0.04176398, 0.05717222, -0.004699567, 0.07503882, 0.06549144, 0.024060003, -0.0033639416, 0.023401638, -0.01307961, 0.06299279, -0.061668605, -0.042107716, -0.06068282, -0.027652182, 0.0019005783, -0.010382872, -0.045873262, -0.021221118, 0.020554492, 0.00044739456, 0.001366115, -0.042839453, -0.013403637, 0.024982797, -0.014825406, 0.018190233, -0.0040042857, -0.032865815, -0.0008014087, 0.046151742, -0.017512595, 0.052455023, -0.05153452, 0.014329229, 0.013431512, 0.058106244, 0.03644119, -0.06057042, -0.029172227, 0.030221023, -0.008694733, 0.012508812, -0.0031247593, -0.030316528, -0.04114761, -0.03476765, -0.0070356796, 0.0329937, -0.017023575, 0.018856293, 0.019716106, -0.029904222, 0.10129873, -0.033188503, -0.0004815044, 0.03496067, -0.005743328, 0.021217259, 0.0023834303, -0.01574949, -0.0372805, -0.0056358976, -0.016112592, 0.008200814, 0.0038697314, 0.012312703, 0.035656422, 0.005578069, 0.033093564, -0.02423806, -0.050909564, -0.032207895, 0.005308446, 0.031044858, -0.025534116, -0.030433638, -0.078328386, -0.0010924347, -0.011803871, -0.0041284654, -0.06297277, -0.01507159, -0.009446506, -7.7782744e-05, -0.0627984, -0.04442421, 0.005183002, -0.0064188996, 0.04345488, -0.058333553, 0.019278267, -0.062834255, -0.0066364286, -0.029084478, -0.007870249, 0.014527183, 0.007922934, 0.022960477, -0.019725416, -0.03153386, 0.07156444, 0.091205895, 0.03732564, 0.032565735, 0.0013728675, -0.012861134, 0.007616538, 0.014643343, -0.03929996, -0.030484524, 0.0501597, 0.080177665, -0.0049569192, 0.056728784, -0.07872472, -0.005025499, 0.041516263, -0.063438825, 0.010805709, -0.07783891, 0.025001513]}\"]"
      ]
     },
     "execution_count": 30,
     "metadata": {},
     "output_type": "execute_result"
    }
   ],
   "source": [
    "%%time\n",
    "\n",
    "# Assume node_coll_name is defined and collection exists\n",
    "collection = Collection('t2kg_primekg_edges')\n",
    "\n",
    "# Load the collection into memory before query\n",
    "collection.load()\n",
    "\n",
    "# Query by expr on triplet_index\n",
    "expr = \"triplet_index == 0\"\n",
    "output_fields = [\"triplet_index\", \"head_id\", \"tail_id\", \"edge_type\", \"feat\", \"feat_emb\"]\n",
    "\n",
    "results = collection.query(expr, output_fields=output_fields)\n",
    "results"
   ]
  },
  {
   "cell_type": "code",
   "execution_count": 31,
   "id": "b71f730f",
   "metadata": {},
   "outputs": [
    {
     "data": {
      "text/plain": [
       "(0,\n",
       " 'Rose bengal_(14118)',\n",
       " 'LTF_(3233)',\n",
       " 'drug|carrier|gene/protein',\n",
       " 'Rose bengal (drug) has a direct relationship of drug_protein:carrier with LTF (gene/protein).')"
      ]
     },
     "execution_count": 31,
     "metadata": {},
     "output_type": "execute_result"
    }
   ],
   "source": [
    "# Check the ground truth for the search\n",
    "results[0]['triplet_index'], results[0]['head_id'], results[0]['tail_id'], results[0]['edge_type'], results[0]['feat']"
   ]
  },
  {
   "cell_type": "code",
   "execution_count": 32,
   "id": "6797cf47",
   "metadata": {},
   "outputs": [
    {
     "name": "stdout",
     "output_type": "stream",
     "text": [
      "CPU times: user 1.86 ms, sys: 471 μs, total: 2.34 ms\n",
      "Wall time: 5.87 ms\n"
     ]
    },
    {
     "data": {
      "text/plain": [
       "data: [[{'triplet_index': 0, 'distance': 1.0000001192092896, 'entity': {'head_id': 'Rose bengal_(14118)', 'tail_id': 'LTF_(3233)', 'edge_type': 'drug|carrier|gene/protein', 'feat': 'Rose bengal (drug) has a direct relationship of drug_protein:carrier with LTF (gene/protein).'}}, {'triplet_index': 5636, 'distance': 0.9807485938072205, 'entity': {'head_id': 'LTF_(3233)', 'tail_id': 'Rose bengal_(14118)', 'edge_type': 'gene/protein|carrier|drug', 'feat': 'LTF (gene/protein) has a direct relationship of drug_protein:carrier with Rose bengal (drug).'}}, {'triplet_index': 5832, 'distance': 0.8167988061904907, 'entity': {'head_id': 'LTF_(3233)', 'tail_id': '3h-Indole-5,6-Diol_(18278)', 'edge_type': 'gene/protein|target|drug', 'feat': 'LTF (gene/protein) has a direct relationship of drug_protein:target with 3h-Indole-5,6-Diol (drug).'}}, {'triplet_index': 5834, 'distance': 0.8110494613647461, 'entity': {'head_id': 'LTF_(3233)', 'tail_id': 'Nitrilotriacetic acid_(18279)', 'edge_type': 'gene/protein|target|drug', 'feat': 'LTF (gene/protein) has a direct relationship of drug_protein:target with Nitrilotriacetic acid (drug).'}}, {'triplet_index': 5835, 'distance': 0.8035300374031067, 'entity': {'head_id': 'LTF_(3233)', 'tail_id': 'alpha-D-Fucopyranose_(18280)', 'edge_type': 'gene/protein|target|drug', 'feat': 'LTF (gene/protein) has a direct relationship of drug_protein:target with alpha-D-Fucopyranose (drug).'}}, {'triplet_index': 5833, 'distance': 0.8020656704902649, 'entity': {'head_id': 'LTF_(3233)', 'tail_id': 'Lauric acid_(14354)', 'edge_type': 'gene/protein|target|drug', 'feat': 'LTF (gene/protein) has a direct relationship of drug_protein:target with Lauric acid (drug).'}}, {'triplet_index': 3, 'distance': 0.7981401085853577, 'entity': {'head_id': 'Fluticasone_(14040)', 'tail_id': 'ABCB1_(4152)', 'edge_type': 'drug|carrier|gene/protein', 'feat': 'Fluticasone (drug) has a direct relationship of drug_protein:carrier with ABCB1 (gene/protein).'}}, {'triplet_index': 5836, 'distance': 0.7976876497268677, 'entity': {'head_id': 'LTF_(3233)', 'tail_id': 'Nimesulide_(15531)', 'edge_type': 'gene/protein|target|drug', 'feat': 'LTF (gene/protein) has a direct relationship of drug_protein:target with Nimesulide (drug).'}}, {'triplet_index': 5837, 'distance': 0.7929842472076416, 'entity': {'head_id': 'LTF_(3233)', 'tail_id': '(R)-Atenolol_(18281)', 'edge_type': 'gene/protein|target|drug', 'feat': 'LTF (gene/protein) has a direct relationship of drug_protein:target with (R)-Atenolol (drug).'}}, {'triplet_index': 196, 'distance': 0.7929696440696716, 'entity': {'head_id': '3h-Indole-5,6-Diol_(18278)', 'tail_id': 'LTF_(3233)', 'edge_type': 'drug|target|gene/protein', 'feat': '3h-Indole-5,6-Diol (drug) has a direct relationship of drug_protein:target with LTF (gene/protein).'}}]]"
      ]
     },
     "execution_count": 32,
     "metadata": {},
     "output_type": "execute_result"
    }
   ],
   "source": [
    "%%time\n",
    "\n",
    "# Assume node_coll_name is defined and collection exists\n",
    "collection = Collection('t2kg_primekg_edges')\n",
    "\n",
    "# Load the collection into memory before query\n",
    "collection.load()\n",
    "\n",
    "# Vector similarity search in Milvus\n",
    "vector_to_search = np.array(results[0]['feat_emb']).tolist() # merged_edges_df[\"edge_emb\"].iloc[0]\n",
    "search_params = {\"metric_type\": \"IP\"}\n",
    "results = collection.search(\n",
    "    data=[vector_to_search],\n",
    "    anns_field=\"feat_emb\",\n",
    "    param=search_params,\n",
    "    limit=10,\n",
    "    output_fields=[\"head_id\", \"tail_id\", \"edge_type\", \"feat\"]\n",
    ")\n",
    "results"
   ]
  },
  {
   "cell_type": "code",
   "execution_count": 33,
   "id": "03bce0b8",
   "metadata": {},
   "outputs": [
    {
     "data": {
      "text/plain": [
       "[0, 5636, 5832, 5834, 5835, 5833, 3, 5836, 5837, 196]"
      ]
     },
     "execution_count": 33,
     "metadata": {},
     "output_type": "execute_result"
    }
   ],
   "source": [
    "# Get node indices from the results\n",
    "[n['triplet_index'] for n in results[0]]"
   ]
  },
  {
   "cell_type": "code",
   "execution_count": 34,
   "id": "978a0e33",
   "metadata": {},
   "outputs": [
    {
     "data": {
      "text/plain": [
       "[1.0000001192092896,\n",
       " 0.9807485938072205,\n",
       " 0.8167988061904907,\n",
       " 0.8110494613647461,\n",
       " 0.8035300374031067,\n",
       " 0.8020656704902649,\n",
       " 0.7981401085853577,\n",
       " 0.7976876497268677,\n",
       " 0.7929842472076416,\n",
       " 0.7929696440696716]"
      ]
     },
     "execution_count": 34,
     "metadata": {},
     "output_type": "execute_result"
    }
   ],
   "source": [
    "# Get the cosine similarity scores\n",
    "[n['distance'] for n in results[0]]"
   ]
  },
  {
   "cell_type": "code",
   "execution_count": null,
   "id": "8721a26e",
   "metadata": {},
   "outputs": [],
   "source": []
  }
 ],
 "metadata": {
  "kernelspec": {
   "display_name": "venv",
   "language": "python",
   "name": "python3"
  },
  "language_info": {
   "codemirror_mode": {
    "name": "ipython",
    "version": 3
   },
   "file_extension": ".py",
   "mimetype": "text/x-python",
   "name": "python",
   "nbconvert_exporter": "python",
   "pygments_lexer": "ipython3",
   "version": "3.12.7"
  }
 },
 "nbformat": 4,
 "nbformat_minor": 5
}
