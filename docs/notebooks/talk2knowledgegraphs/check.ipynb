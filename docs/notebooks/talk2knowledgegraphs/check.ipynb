{
 "cells": [
  {
   "cell_type": "code",
   "execution_count": 1,
   "id": "1b2e9267",
   "metadata": {},
   "outputs": [],
   "source": [
    "# Load necessary libraries\n",
    "import os\n",
    "import glob\n",
    "import hydra\n",
    "import cudf\n",
    "import cupy as cp\n",
    "from pymilvus import (\n",
    "    db,\n",
    "    connections,\n",
    "    FieldSchema,\n",
    "    CollectionSchema,\n",
    "    DataType,\n",
    "    Collection,\n",
    "    utility,\n",
    "    MilvusClient\n",
    ")\n",
    "from tqdm import tqdm"
   ]
  },
  {
   "cell_type": "code",
   "execution_count": 2,
   "id": "db9c86de",
   "metadata": {},
   "outputs": [],
   "source": [
    "# Configuration for Milvus\n",
    "milvus_host = \"localhost\"\n",
    "milvus_port = \"19530\"\n",
    "milvus_uri = \"http://localhost:19530\"\n",
    "milvus_token = \"root:Milvus\"\n",
    "milvus_user = \"root\"\n",
    "milvus_password = \"Milvus\"\n",
    "milvus_database = \"t2kg_primekg\""
   ]
  },
  {
   "cell_type": "code",
   "execution_count": 3,
   "id": "287e877a",
   "metadata": {},
   "outputs": [],
   "source": [
    "# Connect to Milvus\n",
    "connections.connect(\n",
    "    alias=\"default\",\n",
    "    host=milvus_host,\n",
    "    port=milvus_port,\n",
    "    user=milvus_user,\n",
    "    password=milvus_password\n",
    ")"
   ]
  },
  {
   "cell_type": "code",
   "execution_count": 4,
   "id": "e1bb15a5",
   "metadata": {},
   "outputs": [],
   "source": [
    "# Switch to the desired database\n",
    "db.using_database(milvus_database)"
   ]
  },
  {
   "cell_type": "code",
   "execution_count": 5,
   "id": "996ace6b",
   "metadata": {},
   "outputs": [
    {
     "name": "stdout",
     "output_type": "stream",
     "text": [
      "Collection: t2kg_primekg_nodes_biological_process\n",
      "27409\n",
      "Collection: t2kg_primekg_nodes_cellular_component\n",
      "4011\n",
      "Collection: t2kg_primekg_nodes_disease\n",
      "17054\n",
      "Collection: t2kg_primekg_nodes_drug\n",
      "6759\n",
      "Collection: t2kg_primekg_nodes_gene_protein\n",
      "18797\n",
      "Collection: t2kg_primekg_nodes_molecular_function\n",
      "10951\n",
      "Collection: t2kg_primekg_edges\n",
      "3904610\n",
      "Collection: t2kg_primekg_nodes\n",
      "84981\n"
     ]
    }
   ],
   "source": [
    "# List all collections\n",
    "for coll in utility.list_collections():\n",
    "    print(f\"Collection: {coll}\")\n",
    "\n",
    "    # Load the collection to get stats\n",
    "    collection = Collection(name=coll)\n",
    "    print(collection.num_entities)"
   ]
  },
  {
   "cell_type": "code",
   "execution_count": 6,
   "id": "244001a1",
   "metadata": {},
   "outputs": [
    {
     "data": {
      "text/plain": [
       "['t2kg_primekg_nodes',\n",
       " 't2kg_primekg_nodes_biological_process',\n",
       " 't2kg_primekg_nodes_cellular_component',\n",
       " 't2kg_primekg_nodes_disease',\n",
       " 't2kg_primekg_nodes_drug',\n",
       " 't2kg_primekg_nodes_gene_protein',\n",
       " 't2kg_primekg_nodes_molecular_function',\n",
       " 't2kg_primekg_edges']"
      ]
     },
     "execution_count": 6,
     "metadata": {},
     "output_type": "execute_result"
    }
   ],
   "source": [
    "utility.list_collections()"
   ]
  }
 ],
 "metadata": {
  "kernelspec": {
   "display_name": "venv",
   "language": "python",
   "name": "python3"
  },
  "language_info": {
   "codemirror_mode": {
    "name": "ipython",
    "version": 3
   },
   "file_extension": ".py",
   "mimetype": "text/x-python",
   "name": "python",
   "nbconvert_exporter": "python",
   "pygments_lexer": "ipython3",
   "version": "3.12.2"
  }
 },
 "nbformat": 4,
 "nbformat_minor": 5
}
