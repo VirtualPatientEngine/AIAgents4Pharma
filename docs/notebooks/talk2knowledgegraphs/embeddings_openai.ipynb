{
 "cells": [
  {
   "cell_type": "code",
   "execution_count": 1,
   "id": "47e7ae57",
   "metadata": {},
   "outputs": [],
   "source": [
    "import os\n",
    "import glob\n",
    "import cudf\n",
    "import dask_cudf\n",
    "import hydra"
   ]
  },
  {
   "cell_type": "code",
   "execution_count": 2,
   "id": "5944d5ec",
   "metadata": {},
   "outputs": [
    {
     "data": {
      "text/plain": [
       "{'_target_': 'talk2knowledgegraphs.tools.multimodal_subgraph_extraction', 'ollama_embeddings': ['nomic-embed-text'], 'temperature': 0.1, 'streaming': False, 'topk': 5, 'topk_e': 5, 'cost_e': 0.5, 'c_const': 0.01, 'root': -1, 'num_clusters': 1, 'pruning': 'gw', 'verbosity_level': 0, 'node_id_column': 'node_id', 'node_attr_column': 'node_attr', 'edge_src_column': 'edge_src', 'edge_attr_column': 'edge_attr', 'edge_dst_column': 'edge_dst', 'node_colors_dict': {'gene/protein': '#6a79f7', 'molecular_function': '#82cafc', 'cellular_component': '#3f9b0b', 'biological_process': '#c5c9c7', 'drug': '#c4a661', 'disease': '#80013f'}, 'biobridge': {'source': 'aiagents4pharma/talk2knowledgegraphs/tests/files/biobridge_multimodal/', 'node_type': ['gene/protein', 'molecular_function', 'cellular_component', 'biological_process', 'drug', 'disease']}}"
      ]
     },
     "execution_count": 2,
     "metadata": {},
     "output_type": "execute_result"
    }
   ],
   "source": [
    "# Load hydra configuration\n",
    "with hydra.initialize(version_base=None, config_path=\"../../../aiagents4pharma/talk2knowledgegraphs/configs\"):\n",
    "    cfg = hydra.compose(\n",
    "        config_name=\"config\", overrides=[\"tools/multimodal_subgraph_extraction=default\"]\n",
    "    )\n",
    "    cfg = cfg.tools.multimodal_subgraph_extraction\n",
    "cfg"
   ]
  },
  {
   "cell_type": "code",
   "execution_count": 3,
   "id": "c806d048",
   "metadata": {},
   "outputs": [],
   "source": [
    "# Loop over nodes and edges\n",
    "graph_dict = {}\n",
    "for element in [\"nodes\", \"edges\"]:\n",
    "    # Make an empty dictionary for each folder\n",
    "    graph_dict[element] = {}\n",
    "    for stage in [\"enrichment\"]:\n",
    "        # print(key, path, stage)\n",
    "        # Create the file pattern for the current subfolder\n",
    "        file_list = glob.glob(os.path.join('../../../', \n",
    "                                           cfg.biobridge.source, \n",
    "                                           element, \n",
    "                                           stage, '*.parquet.gzip'))\n",
    "        # if element != \"edges\" and stage == \"embedding\":\n",
    "        # Read and concatenate all dataframes in the folder\n",
    "        graph_dict[element][stage] = cudf.concat([cudf.read_parquet(f) for f in file_list], ignore_index=True)"
   ]
  },
  {
   "cell_type": "code",
   "execution_count": 4,
   "id": "73d02f9b",
   "metadata": {},
   "outputs": [
    {
     "data": {
      "text/html": [
       "<div>\n",
       "<style scoped>\n",
       "    .dataframe tbody tr th:only-of-type {\n",
       "        vertical-align: middle;\n",
       "    }\n",
       "\n",
       "    .dataframe tbody tr th {\n",
       "        vertical-align: top;\n",
       "    }\n",
       "\n",
       "    .dataframe thead th {\n",
       "        text-align: right;\n",
       "    }\n",
       "</style>\n",
       "<table border=\"1\" class=\"dataframe\">\n",
       "  <thead>\n",
       "    <tr style=\"text-align: right;\">\n",
       "      <th></th>\n",
       "      <th>node_index</th>\n",
       "      <th>node_id</th>\n",
       "      <th>node_name</th>\n",
       "      <th>node_type</th>\n",
       "      <th>desc</th>\n",
       "      <th>feat</th>\n",
       "    </tr>\n",
       "  </thead>\n",
       "  <tbody>\n",
       "    <tr>\n",
       "      <th>0</th>\n",
       "      <td>45939</td>\n",
       "      <td>methyltransferase activity_(53517)</td>\n",
       "      <td>methyltransferase activity</td>\n",
       "      <td>molecular_function</td>\n",
       "      <td>methyltransferase activity belongs to molecula...</td>\n",
       "      <td>Catalysis of the transfer of a methyl group to...</td>\n",
       "    </tr>\n",
       "    <tr>\n",
       "      <th>1</th>\n",
       "      <td>45940</td>\n",
       "      <td>catalytic activity, acting on a tRNA_(53518)</td>\n",
       "      <td>catalytic activity, acting on a tRNA</td>\n",
       "      <td>molecular_function</td>\n",
       "      <td>catalytic activity, acting on a tRNA belongs t...</td>\n",
       "      <td>Catalytic activity that acts to modify a tRNA.</td>\n",
       "    </tr>\n",
       "    <tr>\n",
       "      <th>2</th>\n",
       "      <td>45941</td>\n",
       "      <td>catalytic activity, acting on DNA_(53519)</td>\n",
       "      <td>catalytic activity, acting on DNA</td>\n",
       "      <td>molecular_function</td>\n",
       "      <td>catalytic activity, acting on DNA belongs to m...</td>\n",
       "      <td>Catalytic activity that acts to modify DNA.</td>\n",
       "    </tr>\n",
       "    <tr>\n",
       "      <th>3</th>\n",
       "      <td>45942</td>\n",
       "      <td>catalytic activity, acting on a protein_(53520)</td>\n",
       "      <td>catalytic activity, acting on a protein</td>\n",
       "      <td>molecular_function</td>\n",
       "      <td>catalytic activity, acting on a protein belong...</td>\n",
       "      <td>Catalytic activity that acts to modify a protein.</td>\n",
       "    </tr>\n",
       "    <tr>\n",
       "      <th>4</th>\n",
       "      <td>45943</td>\n",
       "      <td>catalytic activity, acting on RNA_(53521)</td>\n",
       "      <td>catalytic activity, acting on RNA</td>\n",
       "      <td>molecular_function</td>\n",
       "      <td>catalytic activity, acting on RNA belongs to m...</td>\n",
       "      <td>Catalytic activity that acts to modify RNA, dr...</td>\n",
       "    </tr>\n",
       "  </tbody>\n",
       "</table>\n",
       "</div>"
      ],
      "text/plain": [
       "   node_index                                          node_id  \\\n",
       "0       45939               methyltransferase activity_(53517)   \n",
       "1       45940     catalytic activity, acting on a tRNA_(53518)   \n",
       "2       45941        catalytic activity, acting on DNA_(53519)   \n",
       "3       45942  catalytic activity, acting on a protein_(53520)   \n",
       "4       45943        catalytic activity, acting on RNA_(53521)   \n",
       "\n",
       "                                 node_name           node_type  \\\n",
       "0               methyltransferase activity  molecular_function   \n",
       "1     catalytic activity, acting on a tRNA  molecular_function   \n",
       "2        catalytic activity, acting on DNA  molecular_function   \n",
       "3  catalytic activity, acting on a protein  molecular_function   \n",
       "4        catalytic activity, acting on RNA  molecular_function   \n",
       "\n",
       "                                                desc  \\\n",
       "0  methyltransferase activity belongs to molecula...   \n",
       "1  catalytic activity, acting on a tRNA belongs t...   \n",
       "2  catalytic activity, acting on DNA belongs to m...   \n",
       "3  catalytic activity, acting on a protein belong...   \n",
       "4  catalytic activity, acting on RNA belongs to m...   \n",
       "\n",
       "                                                feat  \n",
       "0  Catalysis of the transfer of a methyl group to...  \n",
       "1     Catalytic activity that acts to modify a tRNA.  \n",
       "2        Catalytic activity that acts to modify DNA.  \n",
       "3  Catalytic activity that acts to modify a protein.  \n",
       "4  Catalytic activity that acts to modify RNA, dr...  "
      ]
     },
     "execution_count": 4,
     "metadata": {},
     "output_type": "execute_result"
    }
   ],
   "source": [
    "graph_dict[\"nodes\"][\"enrichment\"].head()"
   ]
  }
 ],
 "metadata": {
  "kernelspec": {
   "display_name": "venv",
   "language": "python",
   "name": "python3"
  },
  "language_info": {
   "codemirror_mode": {
    "name": "ipython",
    "version": 3
   },
   "file_extension": ".py",
   "mimetype": "text/x-python",
   "name": "python",
   "nbconvert_exporter": "python",
   "pygments_lexer": "ipython3",
   "version": "3.12.10"
  }
 },
 "nbformat": 4,
 "nbformat_minor": 5
}
