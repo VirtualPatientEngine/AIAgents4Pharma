{
 "cells": [
  {
   "cell_type": "markdown",
   "id": "0de0f1c5",
   "metadata": {},
   "source": [
    "In this tutorial, we will prepare Milvus database for storing and searching nodes and edges of a graph.\n",
    "\n",
    "In particular, we are using PrimeKG multimodal data from the BioBridge project."
   ]
  },
  {
   "cell_type": "code",
   "execution_count": 1,
   "id": "0f7a0c13",
   "metadata": {},
   "outputs": [],
   "source": [
    "# Load necessary libraries\n",
    "import os\n",
    "import glob\n",
    "import hydra\n",
    "import cudf\n",
    "import cupy as cp\n",
    "from pymilvus import (\n",
    "    db,\n",
    "    connections,\n",
    "    FieldSchema,\n",
    "    CollectionSchema,\n",
    "    DataType,\n",
    "    Collection,\n",
    "    utility,\n",
    "    MilvusClient\n",
    ")\n",
    "from tqdm import tqdm"
   ]
  },
  {
   "cell_type": "markdown",
   "id": "ac57d9a5",
   "metadata": {},
   "source": [
    "### Loading BioBridge-PrimeKG Multimodal Data"
   ]
  },
  {
   "cell_type": "markdown",
   "id": "7a9e8eb8",
   "metadata": {},
   "source": [
    "First, we need to get the path to the directory containing the parquet files of nodes and edges.\n",
    "\n",
    "For nodes and edges, we have a separate folder that contains its enrichment and embeddings."
   ]
  },
  {
   "cell_type": "code",
   "execution_count": 2,
   "id": "ff16637a",
   "metadata": {},
   "outputs": [
    {
     "data": {
      "text/plain": [
       "{'_target_': 'talk2knowledgegraphs.tools.multimodal_subgraph_extraction', 'ollama_embeddings': ['nomic-embed-text'], 'temperature': 0.1, 'streaming': False, 'topk': 5, 'topk_e': 5, 'cost_e': 0.5, 'c_const': 0.01, 'root': -1, 'num_clusters': 1, 'pruning': 'gw', 'verbosity_level': 0, 'node_id_column': 'node_id', 'node_attr_column': 'node_attr', 'edge_src_column': 'edge_src', 'edge_attr_column': 'edge_attr', 'edge_dst_column': 'edge_dst', 'node_colors_dict': {'gene/protein': '#6a79f7', 'molecular_function': '#82cafc', 'cellular_component': '#3f9b0b', 'biological_process': '#c5c9c7', 'drug': '#c4a661', 'disease': '#80013f'}, 'biobridge': {'source': '/mnt/blockstorage/biobridge_multimodal/', 'node_type': ['gene/protein', 'molecular_function', 'cellular_component', 'biological_process', 'drug', 'disease']}}"
      ]
     },
     "execution_count": 2,
     "metadata": {},
     "output_type": "execute_result"
    }
   ],
   "source": [
    "# Load hydra configuration\n",
    "with hydra.initialize(version_base=None, config_path=\"../../../aiagents4pharma/talk2knowledgegraphs/configs\"):\n",
    "    cfg = hydra.compose(\n",
    "        config_name=\"config\", overrides=[\"tools/multimodal_subgraph_extraction=default\"]\n",
    "    )\n",
    "    cfg = cfg.tools.multimodal_subgraph_extraction\n",
    "cfg"
   ]
  },
  {
   "cell_type": "code",
   "execution_count": 3,
   "id": "a9854940",
   "metadata": {},
   "outputs": [],
   "source": [
    "# You can set the source directory for biobridge data here\n",
    "cfg.biobridge.source = \"/mnt/blockstorage/biobridge_multimodal\""
   ]
  },
  {
   "cell_type": "code",
   "execution_count": 4,
   "id": "ecdb3496",
   "metadata": {},
   "outputs": [
    {
     "name": "stdout",
     "output_type": "stream",
     "text": [
      "nodes enrichment\n",
      "['/mnt/blockstorage/biobridge_multimodal/nodes/enrichment/drug.parquet.gzip', '/mnt/blockstorage/biobridge_multimodal/nodes/enrichment/cellular_component.parquet.gzip', '/mnt/blockstorage/biobridge_multimodal/nodes/enrichment/gene_protein.parquet.gzip', '/mnt/blockstorage/biobridge_multimodal/nodes/enrichment/disease.parquet.gzip', '/mnt/blockstorage/biobridge_multimodal/nodes/enrichment/biological_process.parquet.gzip', '/mnt/blockstorage/biobridge_multimodal/nodes/enrichment/molecular_function.parquet.gzip']\n",
      "nodes embedding\n",
      "['/mnt/blockstorage/biobridge_multimodal/nodes/embedding/drug.parquet.gzip', '/mnt/blockstorage/biobridge_multimodal/nodes/embedding/cellular_component.parquet.gzip', '/mnt/blockstorage/biobridge_multimodal/nodes/embedding/gene_protein.parquet.gzip', '/mnt/blockstorage/biobridge_multimodal/nodes/embedding/disease.parquet.gzip', '/mnt/blockstorage/biobridge_multimodal/nodes/embedding/biological_process.parquet.gzip', '/mnt/blockstorage/biobridge_multimodal/nodes/embedding/molecular_function.parquet.gzip']\n",
      "edges enrichment\n",
      "['/mnt/blockstorage/biobridge_multimodal/edges/enrichment/edges.parquet.gzip']\n",
      "edges embedding\n",
      "['/mnt/blockstorage/biobridge_multimodal/edges/embedding/edges_3050000.parquet.gzip', '/mnt/blockstorage/biobridge_multimodal/edges/embedding/edges_2250000.parquet.gzip', '/mnt/blockstorage/biobridge_multimodal/edges/embedding/edges_1150000.parquet.gzip', '/mnt/blockstorage/biobridge_multimodal/edges/embedding/edges_600000.parquet.gzip', '/mnt/blockstorage/biobridge_multimodal/edges/embedding/edges_1550000.parquet.gzip', '/mnt/blockstorage/biobridge_multimodal/edges/embedding/edges_1750000.parquet.gzip', '/mnt/blockstorage/biobridge_multimodal/edges/embedding/edges_3100000.parquet.gzip', '/mnt/blockstorage/biobridge_multimodal/edges/embedding/edges_1600000.parquet.gzip', '/mnt/blockstorage/biobridge_multimodal/edges/embedding/edges_2750000.parquet.gzip', '/mnt/blockstorage/biobridge_multimodal/edges/embedding/edges_2950000.parquet.gzip', '/mnt/blockstorage/biobridge_multimodal/edges/embedding/edges_3700000.parquet.gzip', '/mnt/blockstorage/biobridge_multimodal/edges/embedding/edges_500000.parquet.gzip', '/mnt/blockstorage/biobridge_multimodal/edges/embedding/edges_800000.parquet.gzip', '/mnt/blockstorage/biobridge_multimodal/edges/embedding/edges_1050000.parquet.gzip', '/mnt/blockstorage/biobridge_multimodal/edges/embedding/edges_300000.parquet.gzip', '/mnt/blockstorage/biobridge_multimodal/edges/embedding/edges_250000.parquet.gzip', '/mnt/blockstorage/biobridge_multimodal/edges/embedding/edges_3600000.parquet.gzip', '/mnt/blockstorage/biobridge_multimodal/edges/embedding/edges_900000.parquet.gzip', '/mnt/blockstorage/biobridge_multimodal/edges/embedding/edges_2400000.parquet.gzip', '/mnt/blockstorage/biobridge_multimodal/edges/embedding/edges_1100000.parquet.gzip', '/mnt/blockstorage/biobridge_multimodal/edges/embedding/edges_3450000.parquet.gzip', '/mnt/blockstorage/biobridge_multimodal/edges/embedding/edges_400000.parquet.gzip', '/mnt/blockstorage/biobridge_multimodal/edges/embedding/edges_1500000.parquet.gzip', '/mnt/blockstorage/biobridge_multimodal/edges/embedding/edges_0.parquet.gzip', '/mnt/blockstorage/biobridge_multimodal/edges/embedding/edges_1250000.parquet.gzip', '/mnt/blockstorage/biobridge_multimodal/edges/embedding/edges_3900000.parquet.gzip', '/mnt/blockstorage/biobridge_multimodal/edges/embedding/edges_1400000.parquet.gzip', '/mnt/blockstorage/biobridge_multimodal/edges/embedding/edges_50000.parquet.gzip', '/mnt/blockstorage/biobridge_multimodal/edges/embedding/edges_1450000.parquet.gzip', '/mnt/blockstorage/biobridge_multimodal/edges/embedding/edges_1800000.parquet.gzip', '/mnt/blockstorage/biobridge_multimodal/edges/embedding/edges_1000000.parquet.gzip', '/mnt/blockstorage/biobridge_multimodal/edges/embedding/edges_1950000.parquet.gzip', '/mnt/blockstorage/biobridge_multimodal/edges/embedding/edges_2100000.parquet.gzip', '/mnt/blockstorage/biobridge_multimodal/edges/embedding/edges_2350000.parquet.gzip', '/mnt/blockstorage/biobridge_multimodal/edges/embedding/edges_3500000.parquet.gzip', '/mnt/blockstorage/biobridge_multimodal/edges/embedding/edges_3750000.parquet.gzip', '/mnt/blockstorage/biobridge_multimodal/edges/embedding/edges_2800000.parquet.gzip', '/mnt/blockstorage/biobridge_multimodal/edges/embedding/edges_1350000.parquet.gzip', '/mnt/blockstorage/biobridge_multimodal/edges/embedding/edges_150000.parquet.gzip', '/mnt/blockstorage/biobridge_multimodal/edges/embedding/edges_2500000.parquet.gzip', '/mnt/blockstorage/biobridge_multimodal/edges/embedding/edges_450000.parquet.gzip', '/mnt/blockstorage/biobridge_multimodal/edges/embedding/edges_850000.parquet.gzip', '/mnt/blockstorage/biobridge_multimodal/edges/embedding/edges_1850000.parquet.gzip', '/mnt/blockstorage/biobridge_multimodal/edges/embedding/edges_3000000.parquet.gzip', '/mnt/blockstorage/biobridge_multimodal/edges/embedding/edges_550000.parquet.gzip', '/mnt/blockstorage/biobridge_multimodal/edges/embedding/edges_200000.parquet.gzip', '/mnt/blockstorage/biobridge_multimodal/edges/embedding/edges_3300000.parquet.gzip', '/mnt/blockstorage/biobridge_multimodal/edges/embedding/edges_2650000.parquet.gzip', '/mnt/blockstorage/biobridge_multimodal/edges/embedding/edges_3350000.parquet.gzip', '/mnt/blockstorage/biobridge_multimodal/edges/embedding/edges_100000.parquet.gzip', '/mnt/blockstorage/biobridge_multimodal/edges/embedding/edges_3400000.parquet.gzip', '/mnt/blockstorage/biobridge_multimodal/edges/embedding/edges_3550000.parquet.gzip', '/mnt/blockstorage/biobridge_multimodal/edges/embedding/edges_350000.parquet.gzip', '/mnt/blockstorage/biobridge_multimodal/edges/embedding/edges_3800000.parquet.gzip', '/mnt/blockstorage/biobridge_multimodal/edges/embedding/edges_3200000.parquet.gzip', '/mnt/blockstorage/biobridge_multimodal/edges/embedding/edges_2850000.parquet.gzip', '/mnt/blockstorage/biobridge_multimodal/edges/embedding/edges_2200000.parquet.gzip', '/mnt/blockstorage/biobridge_multimodal/edges/embedding/edges_3850000.parquet.gzip', '/mnt/blockstorage/biobridge_multimodal/edges/embedding/edges_3250000.parquet.gzip', '/mnt/blockstorage/biobridge_multimodal/edges/embedding/edges_2900000.parquet.gzip', '/mnt/blockstorage/biobridge_multimodal/edges/embedding/edges_750000.parquet.gzip', '/mnt/blockstorage/biobridge_multimodal/edges/embedding/edges_1300000.parquet.gzip', '/mnt/blockstorage/biobridge_multimodal/edges/embedding/edges_2300000.parquet.gzip', '/mnt/blockstorage/biobridge_multimodal/edges/embedding/edges_2700000.parquet.gzip', '/mnt/blockstorage/biobridge_multimodal/edges/embedding/edges_3150000.parquet.gzip', '/mnt/blockstorage/biobridge_multimodal/edges/embedding/edges_1900000.parquet.gzip', '/mnt/blockstorage/biobridge_multimodal/edges/embedding/edges_2150000.parquet.gzip', '/mnt/blockstorage/biobridge_multimodal/edges/embedding/edges_950000.parquet.gzip', '/mnt/blockstorage/biobridge_multimodal/edges/embedding/edges_2450000.parquet.gzip', '/mnt/blockstorage/biobridge_multimodal/edges/embedding/edges_1700000.parquet.gzip', '/mnt/blockstorage/biobridge_multimodal/edges/embedding/edges_650000.parquet.gzip', '/mnt/blockstorage/biobridge_multimodal/edges/embedding/edges_3650000.parquet.gzip', '/mnt/blockstorage/biobridge_multimodal/edges/embedding/edges_2550000.parquet.gzip', '/mnt/blockstorage/biobridge_multimodal/edges/embedding/edges_700000.parquet.gzip', '/mnt/blockstorage/biobridge_multimodal/edges/embedding/edges_2000000.parquet.gzip', '/mnt/blockstorage/biobridge_multimodal/edges/embedding/edges_2600000.parquet.gzip', '/mnt/blockstorage/biobridge_multimodal/edges/embedding/edges_2050000.parquet.gzip', '/mnt/blockstorage/biobridge_multimodal/edges/embedding/edges_1200000.parquet.gzip', '/mnt/blockstorage/biobridge_multimodal/edges/embedding/edges_1650000.parquet.gzip']\n",
      "CPU times: user 20.7 s, sys: 9.15 s, total: 29.8 s\n",
      "Wall time: 21.1 s\n"
     ]
    }
   ],
   "source": [
    "%%time\n",
    "\n",
    "# Loop over nodes and edges\n",
    "graph_dict = {}\n",
    "for element in [\"nodes\", \"edges\"]:\n",
    "    # Make an empty dictionary for each folder\n",
    "    graph_dict[element] = {}\n",
    "    for stage in [\"enrichment\", \"embedding\"]:\n",
    "        print(element, stage)\n",
    "        # Create the file pattern for the current subfolder\n",
    "        file_list = glob.glob(os.path.join(cfg.biobridge.source,\n",
    "                                           element,\n",
    "                                           stage, '*.parquet.gzip'))\n",
    "        print(file_list)\n",
    "        # Read and concatenate all dataframes in the folder\n",
    "        # Except the edges embedding, which is too large to read in one go\n",
    "        # We are using a chunk size to read the edges embedding in smaller parts instead\n",
    "        if element == \"edges\" and stage == \"embedding\":\n",
    "            # For edges embedding, only read two columns: triplet_index and edge_emb\n",
    "            # graph_dict[element][stage] = cudf.concat([cudf.read_parquet(f, columns=[\"triplet_index\", \"edge_emb\"]) for f in file_list[:2]], ignore_index=True)\n",
    "            # Loop by chunks\n",
    "            # file_list = file_list[:2]\n",
    "            chunk_size = 5\n",
    "            graph_dict[element][stage] = []\n",
    "            for i in range(0, len(file_list), chunk_size):\n",
    "                chunk_files = file_list[i:i+chunk_size]\n",
    "                chunk_df = cudf.concat([cudf.read_parquet(f, columns=[\"triplet_index\", \"edge_emb\"]) for f in chunk_files], ignore_index=True)\n",
    "                graph_dict[element][stage].append(chunk_df)\n",
    "        else:\n",
    "            # For nodes and edges enrichment, read and concatenate all dataframes in the folder\n",
    "            # This includes the nodes embedding, which is small enough to read in one go\n",
    "            graph_dict[element][stage] = cudf.concat([cudf.read_parquet(f) for f in file_list], ignore_index=True)"
   ]
  },
  {
   "cell_type": "code",
   "execution_count": 5,
   "id": "78dc5f77",
   "metadata": {},
   "outputs": [],
   "source": [
    "# Get nodes enrichment and embedding dataframes\n",
    "nodes_enrichment_df = graph_dict['nodes']['enrichment']\n",
    "nodes_embedding_df = graph_dict['nodes']['embedding']\n",
    "\n",
    "# Get edges enrichment and embedding dataframes\n",
    "edges_enrichment_df = graph_dict['edges']['enrichment']\n",
    "edges_embedding_df = graph_dict['edges']['embedding'] # !!consisted of a list of dataframes!!"
   ]
  },
  {
   "cell_type": "code",
   "execution_count": 6,
   "id": "d6eb11ec",
   "metadata": {},
   "outputs": [],
   "source": [
    "# Merge nodes enrichment and embedding dataframes\n",
    "merged_nodes_df = nodes_enrichment_df.merge(\n",
    "    nodes_embedding_df[[\"node_id\", \"desc_emb\", \"feat_emb\"]],\n",
    "    on=\"node_id\",\n",
    "    how=\"left\"\n",
    ")\n",
    "# del nodes_enrichment_df, nodes_embedding_df  # Free memory"
   ]
  },
  {
   "cell_type": "markdown",
   "id": "c946e4a7",
   "metadata": {},
   "source": [
    "### Setup Milvus Database"
   ]
  },
  {
   "cell_type": "code",
   "execution_count": 7,
   "id": "1672082c",
   "metadata": {},
   "outputs": [],
   "source": [
    "# Configuration for Milvus\n",
    "milvus_host = \"localhost\"\n",
    "milvus_port = \"19530\"\n",
    "milvus_uri = \"http://localhost:19530\"\n",
    "milvus_token = \"root:Milvus\"\n",
    "milvus_user = \"root\"\n",
    "milvus_password = \"Milvus\"\n",
    "milvus_database = \"t2kg_primekg\""
   ]
  },
  {
   "cell_type": "code",
   "execution_count": 8,
   "id": "91e49b50",
   "metadata": {},
   "outputs": [],
   "source": [
    "# Connect to Milvus\n",
    "connections.connect(\n",
    "    alias=\"default\",\n",
    "    host=milvus_host,\n",
    "    port=milvus_port,\n",
    "    user=milvus_user,\n",
    "    password=milvus_password\n",
    ")"
   ]
  },
  {
   "cell_type": "code",
   "execution_count": 9,
   "id": "bd6fe1dd",
   "metadata": {},
   "outputs": [],
   "source": [
    "# Check if the database exists, create if it doesn't\n",
    "if milvus_database not in db.list_database():\n",
    "    db.create_database(milvus_database)\n",
    "\n",
    "# Switch to the desired database\n",
    "db.using_database(milvus_database)"
   ]
  },
  {
   "cell_type": "code",
   "execution_count": 10,
   "id": "83cc02a2",
   "metadata": {},
   "outputs": [],
   "source": [
    "# List all collections\n",
    "for coll in utility.list_collections():\n",
    "    print(f\"Collection: {coll}\")\n",
    "\n",
    "    # Load the collection to get stats\n",
    "    collection = Collection(name=coll)\n",
    "    print(collection.num_entities)"
   ]
  },
  {
   "cell_type": "code",
   "execution_count": 11,
   "id": "6225958a",
   "metadata": {},
   "outputs": [],
   "source": [
    "# A helper function to chunk the data into smaller parts\n",
    "# Utility: chunk generator\n",
    "def chunked(data_list, chunk_size):\n",
    "    for i in range(0, len(data_list), chunk_size):\n",
    "        yield data_list[i:i + chunk_size]"
   ]
  },
  {
   "cell_type": "markdown",
   "id": "3fcf8ae0",
   "metadata": {},
   "source": [
    "#### Building Node Collection (Description Embedding)"
   ]
  },
  {
   "cell_type": "code",
   "execution_count": 14,
   "id": "f254a0b2",
   "metadata": {},
   "outputs": [
    {
     "ename": "KeyboardInterrupt",
     "evalue": "",
     "output_type": "error",
     "traceback": [
      "\u001b[0;31m---------------------------------------------------------------------------\u001b[0m",
      "\u001b[0;31mKeyboardInterrupt\u001b[0m                         Traceback (most recent call last)",
      "File \u001b[0;32m<timed exec>:19\u001b[0m\n",
      "File \u001b[0;32m~/repositories/AIAgents4Pharma/venv/lib/python3.12/site-packages/pymilvus/orm/collection.py:151\u001b[0m, in \u001b[0;36mCollection.__init__\u001b[0;34m(self, name, schema, using, **kwargs)\u001b[0m\n\u001b[1;32m    146\u001b[0m check_schema(schema)\n\u001b[1;32m    147\u001b[0m consistency_level \u001b[38;5;241m=\u001b[39m get_consistency_level(\n\u001b[1;32m    148\u001b[0m     kwargs\u001b[38;5;241m.\u001b[39mget(\u001b[38;5;124m\"\u001b[39m\u001b[38;5;124mconsistency_level\u001b[39m\u001b[38;5;124m\"\u001b[39m, DEFAULT_CONSISTENCY_LEVEL)\n\u001b[1;32m    149\u001b[0m )\n\u001b[0;32m--> 151\u001b[0m \u001b[43mconn\u001b[49m\u001b[38;5;241;43m.\u001b[39;49m\u001b[43mcreate_collection\u001b[49m\u001b[43m(\u001b[49m\u001b[38;5;28;43mself\u001b[39;49m\u001b[38;5;241;43m.\u001b[39;49m\u001b[43m_name\u001b[49m\u001b[43m,\u001b[49m\u001b[43m \u001b[49m\u001b[43mschema\u001b[49m\u001b[43m,\u001b[49m\u001b[43m \u001b[49m\u001b[38;5;241;43m*\u001b[39;49m\u001b[38;5;241;43m*\u001b[39;49m\u001b[43mkwargs\u001b[49m\u001b[43m)\u001b[49m\n\u001b[1;32m    152\u001b[0m \u001b[38;5;28mself\u001b[39m\u001b[38;5;241m.\u001b[39m_schema \u001b[38;5;241m=\u001b[39m schema\n\u001b[1;32m    153\u001b[0m \u001b[38;5;28mself\u001b[39m\u001b[38;5;241m.\u001b[39m_consistency_level \u001b[38;5;241m=\u001b[39m consistency_level\n",
      "File \u001b[0;32m~/repositories/AIAgents4Pharma/venv/lib/python3.12/site-packages/pymilvus/decorators.py:137\u001b[0m, in \u001b[0;36merror_handler.<locals>.wrapper.<locals>.handler\u001b[0;34m(*args, **kwargs)\u001b[0m\n\u001b[1;32m    135\u001b[0m \u001b[38;5;28;01mtry\u001b[39;00m:\n\u001b[1;32m    136\u001b[0m     record_dict[\u001b[38;5;124m\"\u001b[39m\u001b[38;5;124mRPC start\u001b[39m\u001b[38;5;124m\"\u001b[39m] \u001b[38;5;241m=\u001b[39m \u001b[38;5;28mstr\u001b[39m(datetime\u001b[38;5;241m.\u001b[39mdatetime\u001b[38;5;241m.\u001b[39mnow())\n\u001b[0;32m--> 137\u001b[0m     \u001b[38;5;28;01mreturn\u001b[39;00m \u001b[43mfunc\u001b[49m\u001b[43m(\u001b[49m\u001b[38;5;241;43m*\u001b[39;49m\u001b[43margs\u001b[49m\u001b[43m,\u001b[49m\u001b[43m \u001b[49m\u001b[38;5;241;43m*\u001b[39;49m\u001b[38;5;241;43m*\u001b[39;49m\u001b[43mkwargs\u001b[49m\u001b[43m)\u001b[49m\n\u001b[1;32m    138\u001b[0m \u001b[38;5;28;01mexcept\u001b[39;00m MilvusException \u001b[38;5;28;01mas\u001b[39;00m e:\n\u001b[1;32m    139\u001b[0m     record_dict[\u001b[38;5;124m\"\u001b[39m\u001b[38;5;124mRPC error\u001b[39m\u001b[38;5;124m\"\u001b[39m] \u001b[38;5;241m=\u001b[39m \u001b[38;5;28mstr\u001b[39m(datetime\u001b[38;5;241m.\u001b[39mdatetime\u001b[38;5;241m.\u001b[39mnow())\n",
      "File \u001b[0;32m~/repositories/AIAgents4Pharma/venv/lib/python3.12/site-packages/pymilvus/decorators.py:173\u001b[0m, in \u001b[0;36mtracing_request.<locals>.wrapper.<locals>.handler\u001b[0;34m(self, *args, **kwargs)\u001b[0m\n\u001b[1;32m    171\u001b[0m \u001b[38;5;28;01mif\u001b[39;00m level:\n\u001b[1;32m    172\u001b[0m     \u001b[38;5;28mself\u001b[39m\u001b[38;5;241m.\u001b[39mset_onetime_loglevel(level)\n\u001b[0;32m--> 173\u001b[0m \u001b[38;5;28;01mreturn\u001b[39;00m \u001b[43mfunc\u001b[49m\u001b[43m(\u001b[49m\u001b[38;5;28;43mself\u001b[39;49m\u001b[43m,\u001b[49m\u001b[43m \u001b[49m\u001b[38;5;241;43m*\u001b[39;49m\u001b[43margs\u001b[49m\u001b[43m,\u001b[49m\u001b[43m \u001b[49m\u001b[38;5;241;43m*\u001b[39;49m\u001b[38;5;241;43m*\u001b[39;49m\u001b[43mkwargs\u001b[49m\u001b[43m)\u001b[49m\n",
      "File \u001b[0;32m~/repositories/AIAgents4Pharma/venv/lib/python3.12/site-packages/pymilvus/decorators.py:86\u001b[0m, in \u001b[0;36mretry_on_rpc_failure.<locals>.wrapper.<locals>.handler\u001b[0;34m(*args, **kwargs)\u001b[0m\n\u001b[1;32m     84\u001b[0m \u001b[38;5;28;01mwhile\u001b[39;00m \u001b[38;5;28;01mTrue\u001b[39;00m:\n\u001b[1;32m     85\u001b[0m     \u001b[38;5;28;01mtry\u001b[39;00m:\n\u001b[0;32m---> 86\u001b[0m         \u001b[38;5;28;01mreturn\u001b[39;00m \u001b[43mfunc\u001b[49m\u001b[43m(\u001b[49m\u001b[38;5;241;43m*\u001b[39;49m\u001b[43margs\u001b[49m\u001b[43m,\u001b[49m\u001b[43m \u001b[49m\u001b[38;5;241;43m*\u001b[39;49m\u001b[38;5;241;43m*\u001b[39;49m\u001b[43mkwargs\u001b[49m\u001b[43m)\u001b[49m\n\u001b[1;32m     87\u001b[0m     \u001b[38;5;28;01mexcept\u001b[39;00m grpc\u001b[38;5;241m.\u001b[39mRpcError \u001b[38;5;28;01mas\u001b[39;00m e:\n\u001b[1;32m     88\u001b[0m         \u001b[38;5;66;03m# Do not retry on these codes\u001b[39;00m\n\u001b[1;32m     89\u001b[0m         \u001b[38;5;28;01mif\u001b[39;00m e\u001b[38;5;241m.\u001b[39mcode() \u001b[38;5;129;01min\u001b[39;00m IGNORE_RETRY_CODES:\n",
      "File \u001b[0;32m~/repositories/AIAgents4Pharma/venv/lib/python3.12/site-packages/pymilvus/client/grpc_handler.py:310\u001b[0m, in \u001b[0;36mGrpcHandler.create_collection\u001b[0;34m(self, collection_name, fields, timeout, **kwargs)\u001b[0m\n\u001b[1;32m    308\u001b[0m \u001b[38;5;28;01mif\u001b[39;00m kwargs\u001b[38;5;241m.\u001b[39mget(\u001b[38;5;124m\"\u001b[39m\u001b[38;5;124m_async\u001b[39m\u001b[38;5;124m\"\u001b[39m, \u001b[38;5;28;01mFalse\u001b[39;00m):\n\u001b[1;32m    309\u001b[0m     \u001b[38;5;28;01mreturn\u001b[39;00m rf\n\u001b[0;32m--> 310\u001b[0m status \u001b[38;5;241m=\u001b[39m \u001b[43mrf\u001b[49m\u001b[38;5;241;43m.\u001b[39;49m\u001b[43mresult\u001b[49m\u001b[43m(\u001b[49m\u001b[43m)\u001b[49m\n\u001b[1;32m    311\u001b[0m check_status(status)\n\u001b[1;32m    312\u001b[0m \u001b[38;5;28;01mreturn\u001b[39;00m \u001b[38;5;28;01mNone\u001b[39;00m\n",
      "File \u001b[0;32m~/repositories/AIAgents4Pharma/venv/lib/python3.12/site-packages/grpc/_channel.py:872\u001b[0m, in \u001b[0;36m_MultiThreadedRendezvous.result\u001b[0;34m(self, timeout)\u001b[0m\n\u001b[1;32m    867\u001b[0m \u001b[38;5;250m\u001b[39m\u001b[38;5;124;03m\"\"\"Returns the result of the computation or raises its exception.\u001b[39;00m\n\u001b[1;32m    868\u001b[0m \n\u001b[1;32m    869\u001b[0m \u001b[38;5;124;03mSee grpc.Future.result for the full API contract.\u001b[39;00m\n\u001b[1;32m    870\u001b[0m \u001b[38;5;124;03m\"\"\"\u001b[39;00m\n\u001b[1;32m    871\u001b[0m \u001b[38;5;28;01mwith\u001b[39;00m \u001b[38;5;28mself\u001b[39m\u001b[38;5;241m.\u001b[39m_state\u001b[38;5;241m.\u001b[39mcondition:\n\u001b[0;32m--> 872\u001b[0m     timed_out \u001b[38;5;241m=\u001b[39m \u001b[43m_common\u001b[49m\u001b[38;5;241;43m.\u001b[39;49m\u001b[43mwait\u001b[49m\u001b[43m(\u001b[49m\n\u001b[1;32m    873\u001b[0m \u001b[43m        \u001b[49m\u001b[38;5;28;43mself\u001b[39;49m\u001b[38;5;241;43m.\u001b[39;49m\u001b[43m_state\u001b[49m\u001b[38;5;241;43m.\u001b[39;49m\u001b[43mcondition\u001b[49m\u001b[38;5;241;43m.\u001b[39;49m\u001b[43mwait\u001b[49m\u001b[43m,\u001b[49m\u001b[43m \u001b[49m\u001b[38;5;28;43mself\u001b[39;49m\u001b[38;5;241;43m.\u001b[39;49m\u001b[43m_is_complete\u001b[49m\u001b[43m,\u001b[49m\u001b[43m \u001b[49m\u001b[43mtimeout\u001b[49m\u001b[38;5;241;43m=\u001b[39;49m\u001b[43mtimeout\u001b[49m\n\u001b[1;32m    874\u001b[0m \u001b[43m    \u001b[49m\u001b[43m)\u001b[49m\n\u001b[1;32m    875\u001b[0m     \u001b[38;5;28;01mif\u001b[39;00m timed_out:\n\u001b[1;32m    876\u001b[0m         \u001b[38;5;28;01mraise\u001b[39;00m grpc\u001b[38;5;241m.\u001b[39mFutureTimeoutError()\n",
      "File \u001b[0;32m~/repositories/AIAgents4Pharma/venv/lib/python3.12/site-packages/grpc/_common.py:156\u001b[0m, in \u001b[0;36mwait\u001b[0;34m(wait_fn, wait_complete_fn, timeout, spin_cb)\u001b[0m\n\u001b[1;32m    154\u001b[0m \u001b[38;5;28;01mif\u001b[39;00m timeout \u001b[38;5;129;01mis\u001b[39;00m \u001b[38;5;28;01mNone\u001b[39;00m:\n\u001b[1;32m    155\u001b[0m     \u001b[38;5;28;01mwhile\u001b[39;00m \u001b[38;5;129;01mnot\u001b[39;00m wait_complete_fn():\n\u001b[0;32m--> 156\u001b[0m         \u001b[43m_wait_once\u001b[49m\u001b[43m(\u001b[49m\u001b[43mwait_fn\u001b[49m\u001b[43m,\u001b[49m\u001b[43m \u001b[49m\u001b[43mMAXIMUM_WAIT_TIMEOUT\u001b[49m\u001b[43m,\u001b[49m\u001b[43m \u001b[49m\u001b[43mspin_cb\u001b[49m\u001b[43m)\u001b[49m\n\u001b[1;32m    157\u001b[0m \u001b[38;5;28;01melse\u001b[39;00m:\n\u001b[1;32m    158\u001b[0m     end \u001b[38;5;241m=\u001b[39m time\u001b[38;5;241m.\u001b[39mtime() \u001b[38;5;241m+\u001b[39m timeout\n",
      "File \u001b[0;32m~/repositories/AIAgents4Pharma/venv/lib/python3.12/site-packages/grpc/_common.py:116\u001b[0m, in \u001b[0;36m_wait_once\u001b[0;34m(wait_fn, timeout, spin_cb)\u001b[0m\n\u001b[1;32m    111\u001b[0m \u001b[38;5;28;01mdef\u001b[39;00m\u001b[38;5;250m \u001b[39m\u001b[38;5;21m_wait_once\u001b[39m(\n\u001b[1;32m    112\u001b[0m     wait_fn: Callable[\u001b[38;5;241m.\u001b[39m\u001b[38;5;241m.\u001b[39m\u001b[38;5;241m.\u001b[39m, \u001b[38;5;28mbool\u001b[39m],\n\u001b[1;32m    113\u001b[0m     timeout: \u001b[38;5;28mfloat\u001b[39m,\n\u001b[1;32m    114\u001b[0m     spin_cb: Optional[Callable[[], \u001b[38;5;28;01mNone\u001b[39;00m]],\n\u001b[1;32m    115\u001b[0m ):\n\u001b[0;32m--> 116\u001b[0m     \u001b[43mwait_fn\u001b[49m\u001b[43m(\u001b[49m\u001b[43mtimeout\u001b[49m\u001b[38;5;241;43m=\u001b[39;49m\u001b[43mtimeout\u001b[49m\u001b[43m)\u001b[49m\n\u001b[1;32m    117\u001b[0m     \u001b[38;5;28;01mif\u001b[39;00m spin_cb \u001b[38;5;129;01mis\u001b[39;00m \u001b[38;5;129;01mnot\u001b[39;00m \u001b[38;5;28;01mNone\u001b[39;00m:\n\u001b[1;32m    118\u001b[0m         spin_cb()\n",
      "File \u001b[0;32m/usr/lib/python3.12/threading.py:359\u001b[0m, in \u001b[0;36mCondition.wait\u001b[0;34m(self, timeout)\u001b[0m\n\u001b[1;32m    357\u001b[0m \u001b[38;5;28;01melse\u001b[39;00m:\n\u001b[1;32m    358\u001b[0m     \u001b[38;5;28;01mif\u001b[39;00m timeout \u001b[38;5;241m>\u001b[39m \u001b[38;5;241m0\u001b[39m:\n\u001b[0;32m--> 359\u001b[0m         gotit \u001b[38;5;241m=\u001b[39m \u001b[43mwaiter\u001b[49m\u001b[38;5;241;43m.\u001b[39;49m\u001b[43macquire\u001b[49m\u001b[43m(\u001b[49m\u001b[38;5;28;43;01mTrue\u001b[39;49;00m\u001b[43m,\u001b[49m\u001b[43m \u001b[49m\u001b[43mtimeout\u001b[49m\u001b[43m)\u001b[49m\n\u001b[1;32m    360\u001b[0m     \u001b[38;5;28;01melse\u001b[39;00m:\n\u001b[1;32m    361\u001b[0m         gotit \u001b[38;5;241m=\u001b[39m waiter\u001b[38;5;241m.\u001b[39macquire(\u001b[38;5;28;01mFalse\u001b[39;00m)\n",
      "\u001b[0;31mKeyboardInterrupt\u001b[0m: "
     ]
    }
   ],
   "source": [
    "%%time\n",
    "\n",
    "# Configuration for Milvus collection\n",
    "node_coll_name = f\"{milvus_database}_nodes\"\n",
    "\n",
    "# Define schema for the collection\n",
    "# Leave out the feat and feat_emb fields for now\n",
    "desc_emb_dim = len(merged_nodes_df.iloc[0]['desc_emb'].to_arrow().to_pylist()[0])\n",
    "node_fields = [\n",
    "    FieldSchema(name=\"node_index\", dtype=DataType.INT64, is_primary=True),\n",
    "    FieldSchema(name=\"node_id\", dtype=DataType.VARCHAR, max_length=1024),\n",
    "    FieldSchema(name=\"node_name\", dtype=DataType.VARCHAR, max_length=1024),\n",
    "    FieldSchema(name=\"node_type\", dtype=DataType.VARCHAR, max_length=1024),\n",
    "    FieldSchema(name=\"desc\", dtype=DataType.VARCHAR, max_length=40960),\n",
    "    FieldSchema(name=\"desc_emb\", dtype=DataType.FLOAT_VECTOR, dim=desc_emb_dim),\n",
    "]\n",
    "schema  = CollectionSchema(fields=node_fields, description=f\"Schema for collection {node_coll_name}\")\n",
    "\n",
    "# Create collection if it doesn't exist\n",
    "if not utility.has_collection(node_coll_name):\n",
    "    collection = Collection(name=node_coll_name, schema=schema)\n",
    "else:\n",
    "    collection = Collection(name=node_coll_name)\n",
    "\n",
    "# Create indexes\n",
    "collection.create_index(\n",
    "    field_name=\"node_index\",\n",
    "    index_params={\"index_type\": \"GPU_CAGRA\"}, # STL_SORT\n",
    "    index_name=\"node_index_index\"\n",
    ")\n",
    "\n",
    "collection.create_index(\n",
    "    field_name=\"desc_emb\",\n",
    "    index_params={\"index_type\": \"GPU_CAGRA\", \"metric_type\": \"COSINE\"}, # AUTOINDEX\n",
    "    index_name=\"desc_emb_index\"\n",
    ")\n",
    "\n",
    "# Prepare data for insertion\n",
    "data = [\n",
    "    merged_nodes_df[\"node_index\"].to_arrow().to_pylist(),\n",
    "    merged_nodes_df[\"node_id\"].to_arrow().to_pylist(),\n",
    "    merged_nodes_df[\"node_name\"].to_arrow().to_pylist(),\n",
    "    merged_nodes_df[\"node_type\"].to_arrow().to_pylist(),\n",
    "    merged_nodes_df[\"desc\"].to_arrow().to_pylist(),\n",
    "    cp.asarray(merged_nodes_df[\"desc_emb\"].list.leaves).astype(cp.float32)\n",
    "        .reshape(merged_nodes_df.shape[0], -1)\n",
    "        .tolist(),\n",
    "]\n",
    "\n",
    "# Insert data in batches\n",
    "batch_size = 500\n",
    "total = len(data[0])\n",
    "for i in tqdm(range(0, total, batch_size)):\n",
    "    batch = [\n",
    "        col[i:i+batch_size] for col in data\n",
    "    ]\n",
    "    collection.insert(batch)\n",
    "\n",
    "# Flush to persist data\n",
    "collection.flush()\n",
    "\n",
    "# Get collection stats\n",
    "print(collection.num_entities)"
   ]
  },
  {
   "cell_type": "code",
   "execution_count": 12,
   "id": "d5ebf11f",
   "metadata": {},
   "outputs": [
    {
     "name": "stdout",
     "output_type": "stream",
     "text": [
      "Collection: t2kg_primekg_nodes\n",
      "84981\n"
     ]
    }
   ],
   "source": [
    "# List all collections\n",
    "for coll in utility.list_collections():\n",
    "    print(f\"Collection: {coll}\")\n",
    "\n",
    "    # Load the collection to get stats\n",
    "    collection = Collection(name=coll)\n",
    "    print(collection.num_entities)"
   ]
  },
  {
   "cell_type": "code",
   "execution_count": 13,
   "id": "35aad452",
   "metadata": {},
   "outputs": [
    {
     "name": "stdout",
     "output_type": "stream",
     "text": [
      "data: [\"{'desc': 'Copper belongs to drug node. Copper is a transition metal and a trace element in the body. It is important to the function of many enzymes including cytochrome c oxidase, monoamine oxidase and superoxide dismutase. Copper is commonly used in contraceptive intrauterine devices (IUD). Copper is absorbed from the gut via high affinity copper uptake protein and likely through low affinity copper uptake protein and natural resistance-associated macrophage protein-2. It is believed that copper is reduced to the Cu1+ form prior to transport. Once inside the enterocyte, it is bound to copper transport protein ATOX1 which shuttles the ion to copper transporting ATPase-1 on the golgi membrane which take up copper into the golgi apparatus. Once copper has been secreted by enterocytes into the systemic circulation it remain largely bound by ceruloplasmin (65-90%), albumin (18%), and alpha 2-macroglobulin (12%).  Copper is nearly entirely bound by ceruloplasmin (65-90%), plasma albumin (18%), and alpha 2-macroglobulin (12%). Copper is incorporated into many enzymes throughout the body as an essential part of their function. Copper ions are known to reduce fertility when released from copper-containing IUDs. For use in the supplementation of total parenteral nutrition and in contraception with intrauterine devices.', 'desc_emb': [-0.008437113, -0.0066760327, 0.017289385, -0.031070003, -0.024708688, 0.0269318, -0.025539007, -0.016030515, -0.022900734, -0.0172626, 0.016351929, 0.022257907, -0.013927932, 0.00728538, -0.010954854, 0.013639999, 0.033105623, 0.025713105, -0.0011316445, 0.019137515, -0.042480193, 0.021963278, 0.0012337604, -0.011530721, 0.0017661019, 0.011249484, 0.030427175, -0.039641038, -0.003863662, -0.021789178, -0.0007855387, 0.0020724495, -0.020061579, 0.018146489, 0.010546391, 0.011095473, 0.019512497, 0.0062073045, -0.0025277857, -0.006558851, 0.018280411, 0.0065488066, -0.006351271, 0.02423996, -0.00078260916, 0.009568757, 0.005782101, 0.0011140672, -0.025391692, 0.006451713, 0.0092004705, 0.012454785, -0.005999725, -0.015856415, -0.00074871007, -0.021869533, 0.007794285, 0.01845451, 0.01199945, -0.020356208, -0.01134323, -0.010820932, -0.011624467, 0.024373882, 0.0006189727, 0.031391416, 0.007030927, 0.008109002, -0.0015032792, 0.017235816, 0.006471801, 0.031150356, 0.01280968, -0.0128297685, 0.03709651, -0.025820244, -0.0650863, 0.00038105116, 0.0030249727, 0.018025959, 0.01905716, 0.006511978, -0.0011835394, 0.019030377, 0.010084359, 0.015923377, 0.008470593, 0.025418475, -0.0044562686, -0.0039708, -0.007124673, 0.017543837, 0.01988748, 0.036828667, -0.0062006083, 0.034605555, -0.01641889, 0.05046197, -0.013064132, -0.0117383, -0.008443809, 0.015521609, -0.00928752, -0.016767088, -0.019485712, 0.0052731954, -0.014289523, -0.011678035, 0.016981363, -0.022606105, -0.011236091, 0.07140744, 0.010526302, -0.038676795, -0.008309887, 0.0015719144, 0.027427312, -0.0070510157, -0.0006972336, -0.0017995826, -0.01653942, 0.014959135, 0.016767088, -0.023329286, 0.009401354, 0.0119927535, -0.022351652, -0.019244652, 0.0075465287, -0.00782107, 0.001381075, -0.0016715192, 0.0038536177, 0.040042806, -0.013372154, 0.004295562, -0.020275855, -0.0016430607, -0.0058825426, -0.02411943, 0.033614527, 0.021280274, -0.011952576, -0.002263289, 0.0011249484, 0.04055171, 0.038891073, 0.008972802, -0.009321, 0.0048881685, 0.009890171, -0.0013693568, 0.030534312, -0.028739752, 0.021574903, 0.013050741, -0.007379126, 0.016218005, 0.014061854, -0.029355796, -0.0016413868, -0.0352216, -0.009990613, -0.002601443, 0.017342955, 0.019820519, 0.0128297685, -0.006639204, 0.025726497, -0.0059294156, 0.012207029, 0.023048049, -0.029543286, 0.03128428, 0.0059227194, 0.009622326, 0.007881335, 0.014222561, -0.013767226, -0.029329011, -0.003368149, -0.0037900046, 0.018722355, -0.009321, -0.009856691, 0.0010152993, 0.01833398, 0.01289673, 0.0115575055, -0.015856415, -0.027454097, 0.008450505, -0.029302226, -0.027748726, -0.6355423, 0.004138203, -0.0039607557, -0.021936493, -0.011015119, 0.019606244, 0.017704545, -0.0042788214, 0.008852272, 5.3359716e-05, 0.00027454097, 0.023623915, 0.020757975, -0.023155186, -0.012046322, -0.024949748, -0.015267156, -0.002541178, 0.0062742657, -0.05303328, -0.052872572, 0.004616976, -0.020570485, 0.016981363, 0.0143297, -0.0025746587, 0.01857504, -0.019726774, -0.009347785, 0.007506352, 0.0028073487, 0.02335607, 0.019258045, 0.04239984, 0.051988684, 0.004878124, -0.0148787815, 0.020275855, -0.0076871472, 0.035034105, -0.0100374855, -0.02496314, 0.015789453, -0.04001602, -0.004794423, 0.011537417, 0.019539282, 0.018842885, 0.019673204, -0.0061604315, -0.012963691, -0.0152805485, -0.011959272, 0.0075800093, -0.0051627094, 0.01161777, 0.029114734, -0.02603452, 0.008102307, -0.0041817278, 0.0014873759, -0.0014020004, 0.0007102074, -0.017664367, -0.01976695, -0.010995031, -0.036266193, -0.008731742, 0.005139273, 0.028793322, 0.011075385, 0.012474874, 0.009749552, -0.016325144, 0.03050753, 0.015481432, -0.008169268, 0.0077608046, -0.0039473632, 0.046203237, 0.013459204, 0.012059715, -0.008216141, -0.017744722, 0.03069502, 0.0075197443, -0.0064818454, -0.00019094408, 0.0203696, -0.018200057, 0.009454923, 0.007620186, -0.006639204, -0.019338397, -0.025391692, 0.01893663, -0.01923126, -0.022177553, 0.019807126, 0.004148247, -0.008209445, -0.027333567, -0.035194814, 0.015401078, 0.016151045, 0.014128815, -0.026851445, -0.00474755, 0.03840895, -0.024333704, -0.004134855, -0.0017008148, 0.00752644, -0.016807264, -0.0034551986, -0.004121463, 0.0031890278, 0.012836465, -0.00024231589, -0.027855864, 0.030427175, -0.011510632, 0.0033396904, 0.0075398325, -0.010057574, 0.005544388, 0.0026717524, -0.025244378, -0.0032911436, -0.0140082855, 0.0022046978, -0.006294354, 0.022445397, -0.010747274, 0.031793185, 0.013619911, 0.039694607, -0.001375216, -0.006361315, -0.039641038, -0.016700126, -0.011611074, 0.0068702204, -4.9462364e-05, -0.01239452, -0.015079665, -0.023623915, 0.024534589, 0.0030166027, -0.01248157, -0.017168855, -0.0068266955, -0.005022091, 0.037551846, 0.019338397, -0.012173548, -0.0092004705, -0.005695051, -0.012622189, -0.003205768, -0.008470593, 0.03840895, -0.020329423, 0.0057050954, -0.00937457, 0.007184938, 0.005674963, 0.022485575, -0.013593126, -0.038060755, 0.0064215804, 0.0027654981, -0.013994893, -0.008504074, -0.025391692, 0.0005382007, -0.0013676827, -0.0052798917, -0.020061579, 0.00061771716, -0.007727324, -0.011323141, -0.014945743, -0.009622326, 0.022498967, 0.014557367, 0.019217867, 0.005089052, 0.0040611974, 0.027079115, 0.0032308784, 0.014463622, -0.021601686, -0.008852272, -0.010499518, -0.005353549, -0.0070778, 0.005192842, -0.0020791458, 0.022137377, 0.014222561, -0.012253902, -0.0066157677, -0.03439128, 0.00048756134, -0.009957132, -0.01301726, 0.0054272064, 0.030025408, -0.0023955374, -0.0057184873, -0.021333842, 0.0013534535, -0.0130775245, -0.0031655913, 0.042239133, 0.0065387622, -0.018950023, -0.00015662645, -0.02508367, -0.00062817987, -0.010887893, 0.036266193, -0.00138526, -0.0011827024, 0.0016397127, 0.020356208, -0.002588051, -0.0035589885, -0.005762012, 0.011015119, -0.0093544815, -0.00928752, -0.010111143, -0.0024323661, 0.007205026, 0.0073456448, -0.011336533, 0.03240923, -0.015320726, -0.0017995826, 0.0105329985, 0.02825763, -0.0005649852, 0.008745134, -0.013820794, 0.020811545, 0.01833398, 0.004138203, 0.010298635, 0.00055452256, 0.011303052, -0.037900046, -0.016137652, 0.001607069, -0.010204889, 0.012595404, 0.03010576, 0.035382304, 0.028043356, 0.030802157, -0.013251624, 0.0038435736, -0.013070828, 0.0035589885, 0.021052605, 0.017342955, -0.016378712, -0.0191643, 0.00043692192, -0.03666796, -0.00024566395, 0.009394658, -0.019740166, 0.013613215, 0.031444985, -0.017905429, 0.017249208, 0.013646695, -0.011202611, -0.028686183, -0.027266605, 0.0076268823, 0.01964642, -0.010325419, -0.026195226, -0.029114734, 0.015976945, 0.0049283453, 0.018561648, -0.009508492, 0.019258045, -0.010466037, 0.02532473, -0.017624192, -0.0038804023, 0.021119567, -0.008798704, 0.010921374, -0.012267294, -0.016619774, -0.02197667, -0.04167666, 0.015160019, 0.05356897, 0.0077139316, 0.0119124, -0.007747412, 0.009762945, 0.011102169, -0.016392104, 0.004687285, 0.0025227636, -0.040873125, 0.0007072778, 0.018213449, -0.020048186, 0.014075247, 0.030962864, -0.022003455, -0.018347371, -0.009481708, -0.005022091, 0.0012119979, 0.0127360225, 0.020034796, -0.013432419, 0.007057712, 0.019258045, 0.006173824, 0.0067563863, -0.015816238, 0.019311614, 0.005735228, 0.010452645, -0.021467764, -0.012140068, -0.0019602894, -0.0013844231, 0.004550014, -0.008530859, -0.023141796, 0.0020172065, -0.007573313, 0.021507941, -0.021601686, 0.011229395, 0.0236507, 0.013901148, -0.0015576852, 0.0067028175, 0.028712967, 0.037016157, 0.00019502454, 0.02496314, -0.003425066, 0.018025959, 0.010198193, -0.044890795, -0.0026667302, 0.009776337, 0.0160573, -0.0027956306, 0.0222713, 0.017101893, 0.026971977, 0.009454923, -0.009756248, -0.010325419, -0.020865114, 0.0126757575, -0.011637859, 0.004031065, -0.010211585, 0.018066134, -0.0007675429, 0.0116512505, -0.0345252, 0.028016571, -0.028793322, 0.011216003, 0.010419165, -0.018427726, -0.005373637, -0.0022381786, -0.0115575055, 0.029382579, -0.007901423, 0.019807126, -0.015119841, -0.012494963, -0.029007597, -0.0042587332, 0.006023161, 0.011216003, -0.030828942, 0.0009006283, -0.010332115, 0.017048325, 0.026864838, -0.0006809118, -0.020624053, 0.006686077, 0.030266467, -0.0037866565, -0.022083808, 0.0014647765, -0.038007185, 0.011242787, -0.008276406, 0.03744471, -5.6393896e-05, -0.013727048, -0.00018435258, 0.00851077, -0.022539144, -0.009756248, -0.008530859, -0.004312302, 0.008571035, 0.011416887, 0.010405772, 0.0084237205, -0.012501658, -0.00015045347, -0.011115561, -0.00034966308, -0.033132408, -0.011055296, -0.0055142557, -0.012086499, 0.0061001666, -0.015776062, -0.026208619, -0.0002839574, -0.009729465, -0.009990613, -0.016914403, 0.0007830277, 0.009079941, -0.011115561, 0.033560958, -0.011965969, -0.010767363, -0.005591261, 0.00782107, 0.025940774, 0.023128403, -0.009769641, 0.020878507, -0.009716072, -0.013820794, -0.004878124, 0.005239715, 0.020985644, 0.03200746, -0.020691015, -0.03265029, -0.0014061854, -0.006039901, -0.009140206, -0.0154680405, -0.006572243, -0.00046245087, -0.0072585954, 0.009033067, -0.011751693, -0.012320863, 0.0021193223, -0.025230985, 0.0068133036, 0.014744859, -0.006130299, 0.009428139, 0.01272263, -0.027775511, -0.03117714, 0.019579459, -0.01565553, -0.018066134, -0.0070911925, -0.02256593, 0.040123157, 0.025177415, 0.025806852, 0.00051727536, 0.006013117, -0.0051091406, -0.0017610799, 0.01636532, -0.010820932, -0.0009039764, 0.00826971, 0.015843023, 0.015173411, -0.010352204, 0.014209169, -0.0014145556, -0.0080219535, 0.015548393, -0.017450092, -0.0012814702, -0.022820381, -0.007251899, -0.042694468, -0.0040009324, -0.021307059, -0.003266033, -0.03128428, -0.018441118, 0.01481182, 0.008792007, 0.01976695, -0.019900871, 0.0283112, -0.023757838, 0.035489444, 0.0072184186, 0.003204094, -0.0052932836, -0.026971977, -0.0054037697, 0.01427613, 0.020637445, -0.0028106968, 0.015293941, -0.006796563, -0.030989649, 0.0056548743, 0.012977083, -0.014235954, -0.0074326945, 0.020034796, -0.022887342, -0.0052664992, -0.003984192, -0.015695708, -0.0469532, -0.00029965144, 0.023128403, -0.005909327, 0.018293804, -0.008919233, -0.00060097687, 0.022083808, -0.0060733818, 0.042426623, -0.021588296, 0.038730364, 0.004811163, -0.004295562, -0.005286588, -0.01576267, 0.006846784, -0.0024206478, 0.021333842, 0.040042806, -0.0011885616, -0.0031354588, -0.01108208, -0.007245203, 0.005008699, -0.014557367, 0.0079416, 0.0017393174, 0.0051057925, -0.028177278, -0.00082697097, 0.0025177416, 0.009012979, 0.00045073265, -0.012997171, -0.021815963, 0.009274128, -0.0037129992, 0.018106312, 0.0016405497, 0.026275579, 0.0027839125, -0.0008353411, -0.00031513622, -0.027909433, -0.011631163, -0.007720628, 0.01755723, 0.024293527, 0.014423445, 0.013405635, -8.8305096e-05, -0.0039339713, 0.011216003, -0.020074971, 0.0029094648, 0.036159053, 0.005952852, 0.013927932, 0.0250301, 0.009274128, 0.0033296463, -0.029007597, -0.001322484, -0.004794423, -0.024132822, -0.015240372, -0.0040879822, 0.00015348765, -0.029462934, -0.016981363, -0.0016397127, 0.006237437, -0.04981914, 0.006304398, 0.049229883, -0.040149942, -0.014302915, -0.005045527, 0.0011559179, 0.029570071, -0.009541973, -0.009334393, -0.029409364, 0.016070692, -0.010245065, 0.030828942, 0.026730916, 0.024333704, -0.0040076287, 0.0047207656, -0.015668923, -0.018722355, 0.013131094, -0.007205026, -0.03050753, 0.0042754733, -0.013124398, -0.004027717, 0.03506089, -0.008704958, 0.015494824, 0.0010822606, 0.013994893, 0.0012019537, -0.009796426, 0.0075465287, -0.029543286, -0.00044068848, 0.018963415, -0.011959272, -0.026222011, -0.012588708, 0.0012873294, 0.011001728, -0.018588433, -0.0029914922, -0.0239989, 0.007727324, -0.02156151, -0.020691015, 0.014316307, -0.0051459693, -0.018133096, 0.015146626, -0.0058791945, 0.0034133478, -0.023798015, -0.015856415, 0.018508079, -0.0008232044, -0.002102582, 0.0057151397, 0.005976288, -0.021668648, -0.028230848, 0.01904377, 0.0062608733, 0.018735748, 0.00011571735, -0.026530033, -0.004767638, 0.018226841, -0.020436563, -0.027092507, -0.005366941, 0.024266744, -0.0014061854, 0.023195364, 0.007673755, -0.015628748, -0.008865665, 0.02532473, -0.039078563, 0.007740716, 0.034257356, 0.0006193912, 0.033694882, 0.01334537, -0.03899821, -0.024936356, 0.020945467, 0.00045575475, 0.0047341576, 0.014142208, -0.009140206, 3.5965495e-05, -0.012133372, -0.018066134, 2.0389167e-05, -0.0119124, 0.031980675, -0.0075599207, -0.018494686, 0.007071104, 0.0028558958, -0.006555503, -0.0012019537, -0.0075867055, 0.014222561, -0.013994893, 0.0025512222, -0.006736298, 0.036641177, -0.0096022375, -0.011778478, 0.015990337, -0.001714207, -0.0018163229, 0.023382856, -0.017222423, -0.023423033, -0.011269572, -0.026489856, -0.00024524544, -0.008604515, 0.0059260675, -0.008490682, 0.0024691946, -0.0019234609, -0.027829079, 0.010178104, -0.01857504, -0.0146912895, -0.028766537, 0.012977083, -0.008450505, 0.004208512, -0.0014672875, -0.0024457583, -0.0030048843, -0.015601963, -0.0047609424, 0.0046605, -0.023007873, -0.02591399, -0.009187078, 0.007573313, 0.017075108, -0.019499104, -0.0068099555, 0.008477289, 0.017235816, 0.1923126, -0.0063881, 0.028391553, 0.027320175, -0.009441531, 0.002644968, 0.015401078, 0.004814511, 0.020503523, 0.01595016, 0.013218143, 0.0074326945, -0.014543976, 0.00082194887, -0.033828806, -0.01564214, -0.042426623, 0.0019619635, -0.012709238, 0.017958997, -0.013211447, -0.020449955, 0.02340964, -0.014651113, 0.00806213, -0.0011977687, 0.0107204905, -0.0028960723, 0.019016985, 0.00032894695, 0.0017778202, 0.0053903777, 0.010847717, -0.00043273682, 0.014168993, -0.00673295, 0.011450367, -0.02855226, 0.0122405095, -0.019445537, -0.003977496, 0.010633441, -0.02825763, -0.010834324, -0.010238369, 0.0132650165, 0.0004088819, -0.023141796, -0.014677898, -0.004580147, -0.03599835, 0.01096155, 0.002154477, 0.0027219732, -0.0039339713, 0.012695846, -0.0030266468, 0.00056665926, 0.008671477, 0.0038770542, -0.003582425, -0.0019586154, -0.012508354, 0.04068563, -0.0028207412, 0.030373605, -0.023208756, -0.009488404, 0.026797878, -0.024976533, -0.00076586887, 0.008229533, -0.007138065, 0.000117705255, -0.004198468, 0.0074259983, -0.010445949, 0.017932212, 0.013111006, -0.00018236467, -0.010767363, -0.011102169, -0.0298647, 0.013680176, -0.0062006083, -0.0011400146, 0.014651113, -0.006532066, -0.025873812, -0.009441531, 0.012106587, -0.019847304, -0.008530859, -0.012715934, 0.013305193, 0.005577869, 0.011416887, 0.006013117, -0.0029144867, 0.005289936, -0.023838192, 0.07231811, 0.009086637, 0.014530583, 0.010238369, 0.017061718, -0.021119567, 0.018802708, 0.005755316, -0.0219231, 0.01720903, -0.026623778, -0.013452508, -0.011416887, 0.006565547, 0.025646145, 0.018775923, -0.011905704, 0.010419165, -0.009146902, 0.007010839, -0.024400666, 0.009254039, 0.0041817278, -0.00529998, 1.29345e-05, -0.027373744, 0.015414471, -0.0205437, -0.03575729, -0.011631163, -0.008135787, 0.005932763, 0.009930348, -0.012454785, 0.020798152, 0.017302778, -0.0048479917, 0.0046906327, 0.02406586, -0.018267019, -0.0035121157, 0.028980812, 0.005969592, 0.0053435047, -0.020744585, -0.021548118, -0.0006344575, -0.022204338, -0.019793734, 0.0014873759, -0.01773133, -0.0049417373, -0.000582144, 0.013847578, -0.02263289, -0.009508492, -0.03618584, 0.013968109, -0.017570622, -0.016606381, 0.0011575919, 0.028820105, 0.0021193223, -0.013847578, 0.009180382, -0.16874225, 0.01558857, 0.01108208, -0.027400527, 0.013425723, 0.00674969, -0.023811407, 0.018441118, 0.0076871472, -0.011162434, 0.033587743, 0.008571035, -0.022177553, -0.022659674, -0.0035121157, -0.00814918, -0.0065421103, 0.0053234166, 0.021333842, 0.016351929, 0.023061441, -0.027668374, 0.005966244, -0.009829906, 0.034310926, 0.027146075, 0.01738313, -0.006448365, 0.009006283, -0.0094482275, -0.0004201816, 0.019191083, 0.041783795, 0.00017807497, 0.025043493, 0.0048379474, 0.017275993, -0.02663717, 0.00018121378, 0.022780204, 0.006910397, 0.0014488732, -0.014543976, 0.026985368, -0.020945467, 0.031873535, -0.01289673, 0.0028558958, 0.029329011, 0.0029061167, 0.026945192, -0.0038000487, -0.004144899, 0.02406586, 0.019994618, 0.0019000244, -0.0012990475, 0.036453683, -0.003138807, -0.011122257, 0.0028358074, -0.017450092, 0.01719564, 0.000996885, 0.02353017, -0.015079665, -0.0011492218, 0.019070553, -0.025391692, -0.0027437357, -0.012756111, 0.008169268, 0.018789316, -0.010365596, 0.019793734, 0.01904377, -0.01976695, 0.005082356, -0.0033564307, 0.01595016, -0.007271988, 0.009937044, -0.03875715, -0.012006145, -0.01636532, -0.015749278, 0.016834049, -0.005135925, -0.0046538045, 0.0034418064, 0.017329562, -0.021374019, -0.03131106, -0.031578906, 0.026596993, 0.013104309, 0.014343091, -0.009655807, -0.018441118, -0.022070415, 0.025592575, -0.021226704, -0.02981113, -0.0023938634, 0.04467652, 0.012494963, -0.011845439, -0.017048325, 0.027829079, -0.0025076973, 0.009849994, -0.0013316912, 0.019338397, 0.040149942, -0.0201955, 0.03492697, 0.020141933, -0.020824937, -0.010004005, -0.020262463, 0.045640763, 0.0074996557, -0.0004524067, 0.0107204905, -0.026288971, -0.007399214, -0.11935166, -0.006558851, 0.025137238, 0.013927932, -0.009361178, 0.003309558, -0.019030377, 0.029275442, 0.013666783, 0.022485575, -0.02442745, -0.016726911, -0.009896867, -0.0058825426, 0.008872361, 0.009207167, -0.009501796, -0.0030015362, -0.027775511, 0.032141384, -0.0019720078, -0.023074834, 0.0063981437, 0.018615218, -0.008109002, -0.010499518, -0.0050388314, 0.01301726, 0.005865802, 0.0071447613, 0.024414059, 0.00042562222, 0.035194814, -0.0025076973, -0.016874226, 0.0070041427, 0.01869557, 0.00035803323, 0.0445426, -0.020168718, -0.0045634066, 0.010620048, 0.004473009, -0.011510632, 0.026061304, -0.010432557, -0.03709651, -0.0054405984, -0.01445023, -0.011765085, -0.025954166, -0.009541973, -0.037364356, -0.004633716, 0.011818654, 0.0059461556, 0.021226704, 0.019191083, -0.029757563, -0.0131712705, -0.0018447815, -0.003907187, -0.012227117, 0.0074527827, 0.031016434, -0.014356484, -0.008417024, -0.0028073487, 0.0020891898, -0.040578496, -0.0250301, -0.005681659, -0.016606381, -0.003920579, -0.0191643, 0.040283866, 0.01935179, 0.012890033, 0.019699989, -0.041703444, -0.011865526, -0.024373882, -0.005072312, -0.03380202, -0.005624742, 0.038542874, 0.036426898, 0.0030567793, 0.009742856, -0.019432144, -0.01935179, 0.036989372, 0.004898213, -0.015334117, 0.0010881197, 0.043015882, 0.00242567, -0.0008612886, 0.018226841, 0.007981776, -0.016485851, -0.024132822, -0.049712002, 0.005470731, 0.02591399, -0.006799911, 0.0008499889, 0.0002847944, 0.008115699, 0.0040712417, -0.009387962, 0.012970387, -0.010365596, -0.0048212074, 0.0057050954, -0.011979361, -0.024949748, 0.003927275, 0.033052053, -0.0040879822, 0.002485935, 0.00818266, -0.01493235, 0.0040411092, -0.0035991652, 0.013445811, -0.042828392, -0.0010069292, 0.007553225, -0.013767226, -0.007780893, -0.0061068623, 0.007767501, -0.03559658, -0.0016296685, -0.007271988, -0.0051225326, -0.028445123, -0.014865389, -0.0032459449, 0.014396661, 0.021615079, -0.00023792156, -0.023315893, -0.005859106, -0.0116512505, 0.0042352965, -0.0070242314, -0.02663717, 0.01006427, -0.0067630825, 0.013044044, 0.026596993, 0.012126676, 0.014905565, -0.032462794, -0.0009801447, -0.004252037, -0.0035255079, -0.013887756, -0.034364495, -0.020583877, 0.011564202, 0.011021815, -0.0034016296, 0.0061637796, 0.029409364, -0.0018146489, -0.027614804, -0.029275442, 0.03040039, -0.0072184186, -0.011724908, -0.016445674, -0.0046538045, 0.010753971, 0.013660087, 0.004252037, -0.021467764, 0.0025194157, -0.0046671964, 0.013144486, -0.017958997, -0.014597544, -0.013633302, 0.022726636, 0.0041147666, 0.012863249, 0.0068702204, 0.021226704, 0.01869557, 0.005132577, -0.0010362248, 0.015066273, -0.008370152, -0.008845576, -0.0076469705, 0.0017610799, -0.0021427588, -0.013117702, -0.018521471, 0.03476626, -0.00529998, -0.0016497569, -0.0009600564, -0.027561234, -0.019566067, 0.0021661953, -0.02711929, -0.047435325, -0.035435874, 0.032328874, -0.00094164204, 0.01893663, 0.028498692, -0.008129091, -0.019659812, 0.0058791945, -0.0141020315, -0.00030090695, 0.003471939, 0.025632752, -0.008691565, 0.019150907, -0.013070828, -0.0019686597, 0.04473009, -0.013010563, 0.016405497, -0.026114874, 0.040123157, 0.0065019336, 0.019753557, -0.019900871, -0.04628359, -0.0127360225, 0.023610523, -0.024762256, 0.01612426, 0.016874226, 0.0021829356, 0.0737109, 0.0065421103, -0.042587332, 0.003205768, 0.0139145395, 0.01893663, -0.021842748, 0.0013425723, 0.018106312, -0.027963003, 0.0022448746, -0.0060097687, 0.031444985, -0.01976695, -0.018615218, 0.018521471, -0.007841158, 0.020182109, -0.017342955, -0.025364907, 0.005095748, -0.042506978, 0.008035346, 6.9805753e-07, -0.04754246, 0.015200195, 0.04770317, -0.012059715, -0.0010688683, -0.05726523, 0.0033162541, -0.001661475, -0.028498692, -0.015253765, 0.00973616, 0.0026650561, -0.006846784, -0.023864975, 0.00079181633, 0.029034382, -0.0077072354, 0.04162309, -0.01988748, -0.011249484, -0.0148787815, -0.0073724296, -0.02758802, -0.033534177, -0.030828942], 'node_index': 13814, 'node_id': 'Copper_(14012)', 'node_name': 'Copper', 'node_type': 'drug'}\"]\n",
      "CPU times: user 14.3 ms, sys: 3.82 ms, total: 18.1 ms\n",
      "Wall time: 3.67 s\n"
     ]
    }
   ],
   "source": [
    "%%time\n",
    "\n",
    "# Assume node_coll_name is defined and collection exists\n",
    "collection = Collection(node_coll_name)\n",
    "\n",
    "# Load the collection into memory before query\n",
    "collection.load()\n",
    "\n",
    "# Query by expr on node_index\n",
    "expr = \"node_index == 13814\"\n",
    "output_fields = [\"node_index\", \"node_id\", \"node_name\", \"node_type\", \"desc\", \"desc_emb\"]\n",
    "\n",
    "results = collection.query(expr, output_fields=output_fields)\n",
    "\n",
    "print(results)"
   ]
  },
  {
   "cell_type": "code",
   "execution_count": 14,
   "id": "33d537f5",
   "metadata": {},
   "outputs": [
    {
     "name": "stdout",
     "output_type": "stream",
     "text": [
      "data: [\"{'node_type': 'drug', 'desc': 'Copper belongs to drug node. Copper is a transition metal and a trace element in the body. It is important to the function of many enzymes including cytochrome c oxidase, monoamine oxidase and superoxide dismutase. Copper is commonly used in contraceptive intrauterine devices (IUD). Copper is absorbed from the gut via high affinity copper uptake protein and likely through low affinity copper uptake protein and natural resistance-associated macrophage protein-2. It is believed that copper is reduced to the Cu1+ form prior to transport. Once inside the enterocyte, it is bound to copper transport protein ATOX1 which shuttles the ion to copper transporting ATPase-1 on the golgi membrane which take up copper into the golgi apparatus. Once copper has been secreted by enterocytes into the systemic circulation it remain largely bound by ceruloplasmin (65-90%), albumin (18%), and alpha 2-macroglobulin (12%).  Copper is nearly entirely bound by ceruloplasmin (65-90%), plasma albumin (18%), and alpha 2-macroglobulin (12%). Copper is incorporated into many enzymes throughout the body as an essential part of their function. Copper ions are known to reduce fertility when released from copper-containing IUDs. For use in the supplementation of total parenteral nutrition and in contraception with intrauterine devices.', 'desc_emb': [-0.008437113, -0.0066760327, 0.017289385, -0.031070003, -0.024708688, 0.0269318, -0.025539007, -0.016030515, -0.022900734, -0.0172626, 0.016351929, 0.022257907, -0.013927932, 0.00728538, -0.010954854, 0.013639999, 0.033105623, 0.025713105, -0.0011316445, 0.019137515, -0.042480193, 0.021963278, 0.0012337604, -0.011530721, 0.0017661019, 0.011249484, 0.030427175, -0.039641038, -0.003863662, -0.021789178, -0.0007855387, 0.0020724495, -0.020061579, 0.018146489, 0.010546391, 0.011095473, 0.019512497, 0.0062073045, -0.0025277857, -0.006558851, 0.018280411, 0.0065488066, -0.006351271, 0.02423996, -0.00078260916, 0.009568757, 0.005782101, 0.0011140672, -0.025391692, 0.006451713, 0.0092004705, 0.012454785, -0.005999725, -0.015856415, -0.00074871007, -0.021869533, 0.007794285, 0.01845451, 0.01199945, -0.020356208, -0.01134323, -0.010820932, -0.011624467, 0.024373882, 0.0006189727, 0.031391416, 0.007030927, 0.008109002, -0.0015032792, 0.017235816, 0.006471801, 0.031150356, 0.01280968, -0.0128297685, 0.03709651, -0.025820244, -0.0650863, 0.00038105116, 0.0030249727, 0.018025959, 0.01905716, 0.006511978, -0.0011835394, 0.019030377, 0.010084359, 0.015923377, 0.008470593, 0.025418475, -0.0044562686, -0.0039708, -0.007124673, 0.017543837, 0.01988748, 0.036828667, -0.0062006083, 0.034605555, -0.01641889, 0.05046197, -0.013064132, -0.0117383, -0.008443809, 0.015521609, -0.00928752, -0.016767088, -0.019485712, 0.0052731954, -0.014289523, -0.011678035, 0.016981363, -0.022606105, -0.011236091, 0.07140744, 0.010526302, -0.038676795, -0.008309887, 0.0015719144, 0.027427312, -0.0070510157, -0.0006972336, -0.0017995826, -0.01653942, 0.014959135, 0.016767088, -0.023329286, 0.009401354, 0.0119927535, -0.022351652, -0.019244652, 0.0075465287, -0.00782107, 0.001381075, -0.0016715192, 0.0038536177, 0.040042806, -0.013372154, 0.004295562, -0.020275855, -0.0016430607, -0.0058825426, -0.02411943, 0.033614527, 0.021280274, -0.011952576, -0.002263289, 0.0011249484, 0.04055171, 0.038891073, 0.008972802, -0.009321, 0.0048881685, 0.009890171, -0.0013693568, 0.030534312, -0.028739752, 0.021574903, 0.013050741, -0.007379126, 0.016218005, 0.014061854, -0.029355796, -0.0016413868, -0.0352216, -0.009990613, -0.002601443, 0.017342955, 0.019820519, 0.0128297685, -0.006639204, 0.025726497, -0.0059294156, 0.012207029, 0.023048049, -0.029543286, 0.03128428, 0.0059227194, 0.009622326, 0.007881335, 0.014222561, -0.013767226, -0.029329011, -0.003368149, -0.0037900046, 0.018722355, -0.009321, -0.009856691, 0.0010152993, 0.01833398, 0.01289673, 0.0115575055, -0.015856415, -0.027454097, 0.008450505, -0.029302226, -0.027748726, -0.6355423, 0.004138203, -0.0039607557, -0.021936493, -0.011015119, 0.019606244, 0.017704545, -0.0042788214, 0.008852272, 5.3359716e-05, 0.00027454097, 0.023623915, 0.020757975, -0.023155186, -0.012046322, -0.024949748, -0.015267156, -0.002541178, 0.0062742657, -0.05303328, -0.052872572, 0.004616976, -0.020570485, 0.016981363, 0.0143297, -0.0025746587, 0.01857504, -0.019726774, -0.009347785, 0.007506352, 0.0028073487, 0.02335607, 0.019258045, 0.04239984, 0.051988684, 0.004878124, -0.0148787815, 0.020275855, -0.0076871472, 0.035034105, -0.0100374855, -0.02496314, 0.015789453, -0.04001602, -0.004794423, 0.011537417, 0.019539282, 0.018842885, 0.019673204, -0.0061604315, -0.012963691, -0.0152805485, -0.011959272, 0.0075800093, -0.0051627094, 0.01161777, 0.029114734, -0.02603452, 0.008102307, -0.0041817278, 0.0014873759, -0.0014020004, 0.0007102074, -0.017664367, -0.01976695, -0.010995031, -0.036266193, -0.008731742, 0.005139273, 0.028793322, 0.011075385, 0.012474874, 0.009749552, -0.016325144, 0.03050753, 0.015481432, -0.008169268, 0.0077608046, -0.0039473632, 0.046203237, 0.013459204, 0.012059715, -0.008216141, -0.017744722, 0.03069502, 0.0075197443, -0.0064818454, -0.00019094408, 0.0203696, -0.018200057, 0.009454923, 0.007620186, -0.006639204, -0.019338397, -0.025391692, 0.01893663, -0.01923126, -0.022177553, 0.019807126, 0.004148247, -0.008209445, -0.027333567, -0.035194814, 0.015401078, 0.016151045, 0.014128815, -0.026851445, -0.00474755, 0.03840895, -0.024333704, -0.004134855, -0.0017008148, 0.00752644, -0.016807264, -0.0034551986, -0.004121463, 0.0031890278, 0.012836465, -0.00024231589, -0.027855864, 0.030427175, -0.011510632, 0.0033396904, 0.0075398325, -0.010057574, 0.005544388, 0.0026717524, -0.025244378, -0.0032911436, -0.0140082855, 0.0022046978, -0.006294354, 0.022445397, -0.010747274, 0.031793185, 0.013619911, 0.039694607, -0.001375216, -0.006361315, -0.039641038, -0.016700126, -0.011611074, 0.0068702204, -4.9462364e-05, -0.01239452, -0.015079665, -0.023623915, 0.024534589, 0.0030166027, -0.01248157, -0.017168855, -0.0068266955, -0.005022091, 0.037551846, 0.019338397, -0.012173548, -0.0092004705, -0.005695051, -0.012622189, -0.003205768, -0.008470593, 0.03840895, -0.020329423, 0.0057050954, -0.00937457, 0.007184938, 0.005674963, 0.022485575, -0.013593126, -0.038060755, 0.0064215804, 0.0027654981, -0.013994893, -0.008504074, -0.025391692, 0.0005382007, -0.0013676827, -0.0052798917, -0.020061579, 0.00061771716, -0.007727324, -0.011323141, -0.014945743, -0.009622326, 0.022498967, 0.014557367, 0.019217867, 0.005089052, 0.0040611974, 0.027079115, 0.0032308784, 0.014463622, -0.021601686, -0.008852272, -0.010499518, -0.005353549, -0.0070778, 0.005192842, -0.0020791458, 0.022137377, 0.014222561, -0.012253902, -0.0066157677, -0.03439128, 0.00048756134, -0.009957132, -0.01301726, 0.0054272064, 0.030025408, -0.0023955374, -0.0057184873, -0.021333842, 0.0013534535, -0.0130775245, -0.0031655913, 0.042239133, 0.0065387622, -0.018950023, -0.00015662645, -0.02508367, -0.00062817987, -0.010887893, 0.036266193, -0.00138526, -0.0011827024, 0.0016397127, 0.020356208, -0.002588051, -0.0035589885, -0.005762012, 0.011015119, -0.0093544815, -0.00928752, -0.010111143, -0.0024323661, 0.007205026, 0.0073456448, -0.011336533, 0.03240923, -0.015320726, -0.0017995826, 0.0105329985, 0.02825763, -0.0005649852, 0.008745134, -0.013820794, 0.020811545, 0.01833398, 0.004138203, 0.010298635, 0.00055452256, 0.011303052, -0.037900046, -0.016137652, 0.001607069, -0.010204889, 0.012595404, 0.03010576, 0.035382304, 0.028043356, 0.030802157, -0.013251624, 0.0038435736, -0.013070828, 0.0035589885, 0.021052605, 0.017342955, -0.016378712, -0.0191643, 0.00043692192, -0.03666796, -0.00024566395, 0.009394658, -0.019740166, 0.013613215, 0.031444985, -0.017905429, 0.017249208, 0.013646695, -0.011202611, -0.028686183, -0.027266605, 0.0076268823, 0.01964642, -0.010325419, -0.026195226, -0.029114734, 0.015976945, 0.0049283453, 0.018561648, -0.009508492, 0.019258045, -0.010466037, 0.02532473, -0.017624192, -0.0038804023, 0.021119567, -0.008798704, 0.010921374, -0.012267294, -0.016619774, -0.02197667, -0.04167666, 0.015160019, 0.05356897, 0.0077139316, 0.0119124, -0.007747412, 0.009762945, 0.011102169, -0.016392104, 0.004687285, 0.0025227636, -0.040873125, 0.0007072778, 0.018213449, -0.020048186, 0.014075247, 0.030962864, -0.022003455, -0.018347371, -0.009481708, -0.005022091, 0.0012119979, 0.0127360225, 0.020034796, -0.013432419, 0.007057712, 0.019258045, 0.006173824, 0.0067563863, -0.015816238, 0.019311614, 0.005735228, 0.010452645, -0.021467764, -0.012140068, -0.0019602894, -0.0013844231, 0.004550014, -0.008530859, -0.023141796, 0.0020172065, -0.007573313, 0.021507941, -0.021601686, 0.011229395, 0.0236507, 0.013901148, -0.0015576852, 0.0067028175, 0.028712967, 0.037016157, 0.00019502454, 0.02496314, -0.003425066, 0.018025959, 0.010198193, -0.044890795, -0.0026667302, 0.009776337, 0.0160573, -0.0027956306, 0.0222713, 0.017101893, 0.026971977, 0.009454923, -0.009756248, -0.010325419, -0.020865114, 0.0126757575, -0.011637859, 0.004031065, -0.010211585, 0.018066134, -0.0007675429, 0.0116512505, -0.0345252, 0.028016571, -0.028793322, 0.011216003, 0.010419165, -0.018427726, -0.005373637, -0.0022381786, -0.0115575055, 0.029382579, -0.007901423, 0.019807126, -0.015119841, -0.012494963, -0.029007597, -0.0042587332, 0.006023161, 0.011216003, -0.030828942, 0.0009006283, -0.010332115, 0.017048325, 0.026864838, -0.0006809118, -0.020624053, 0.006686077, 0.030266467, -0.0037866565, -0.022083808, 0.0014647765, -0.038007185, 0.011242787, -0.008276406, 0.03744471, -5.6393896e-05, -0.013727048, -0.00018435258, 0.00851077, -0.022539144, -0.009756248, -0.008530859, -0.004312302, 0.008571035, 0.011416887, 0.010405772, 0.0084237205, -0.012501658, -0.00015045347, -0.011115561, -0.00034966308, -0.033132408, -0.011055296, -0.0055142557, -0.012086499, 0.0061001666, -0.015776062, -0.026208619, -0.0002839574, -0.009729465, -0.009990613, -0.016914403, 0.0007830277, 0.009079941, -0.011115561, 0.033560958, -0.011965969, -0.010767363, -0.005591261, 0.00782107, 0.025940774, 0.023128403, -0.009769641, 0.020878507, -0.009716072, -0.013820794, -0.004878124, 0.005239715, 0.020985644, 0.03200746, -0.020691015, -0.03265029, -0.0014061854, -0.006039901, -0.009140206, -0.0154680405, -0.006572243, -0.00046245087, -0.0072585954, 0.009033067, -0.011751693, -0.012320863, 0.0021193223, -0.025230985, 0.0068133036, 0.014744859, -0.006130299, 0.009428139, 0.01272263, -0.027775511, -0.03117714, 0.019579459, -0.01565553, -0.018066134, -0.0070911925, -0.02256593, 0.040123157, 0.025177415, 0.025806852, 0.00051727536, 0.006013117, -0.0051091406, -0.0017610799, 0.01636532, -0.010820932, -0.0009039764, 0.00826971, 0.015843023, 0.015173411, -0.010352204, 0.014209169, -0.0014145556, -0.0080219535, 0.015548393, -0.017450092, -0.0012814702, -0.022820381, -0.007251899, -0.042694468, -0.0040009324, -0.021307059, -0.003266033, -0.03128428, -0.018441118, 0.01481182, 0.008792007, 0.01976695, -0.019900871, 0.0283112, -0.023757838, 0.035489444, 0.0072184186, 0.003204094, -0.0052932836, -0.026971977, -0.0054037697, 0.01427613, 0.020637445, -0.0028106968, 0.015293941, -0.006796563, -0.030989649, 0.0056548743, 0.012977083, -0.014235954, -0.0074326945, 0.020034796, -0.022887342, -0.0052664992, -0.003984192, -0.015695708, -0.0469532, -0.00029965144, 0.023128403, -0.005909327, 0.018293804, -0.008919233, -0.00060097687, 0.022083808, -0.0060733818, 0.042426623, -0.021588296, 0.038730364, 0.004811163, -0.004295562, -0.005286588, -0.01576267, 0.006846784, -0.0024206478, 0.021333842, 0.040042806, -0.0011885616, -0.0031354588, -0.01108208, -0.007245203, 0.005008699, -0.014557367, 0.0079416, 0.0017393174, 0.0051057925, -0.028177278, -0.00082697097, 0.0025177416, 0.009012979, 0.00045073265, -0.012997171, -0.021815963, 0.009274128, -0.0037129992, 0.018106312, 0.0016405497, 0.026275579, 0.0027839125, -0.0008353411, -0.00031513622, -0.027909433, -0.011631163, -0.007720628, 0.01755723, 0.024293527, 0.014423445, 0.013405635, -8.8305096e-05, -0.0039339713, 0.011216003, -0.020074971, 0.0029094648, 0.036159053, 0.005952852, 0.013927932, 0.0250301, 0.009274128, 0.0033296463, -0.029007597, -0.001322484, -0.004794423, -0.024132822, -0.015240372, -0.0040879822, 0.00015348765, -0.029462934, -0.016981363, -0.0016397127, 0.006237437, -0.04981914, 0.006304398, 0.049229883, -0.040149942, -0.014302915, -0.005045527, 0.0011559179, 0.029570071, -0.009541973, -0.009334393, -0.029409364, 0.016070692, -0.010245065, 0.030828942, 0.026730916, 0.024333704, -0.0040076287, 0.0047207656, -0.015668923, -0.018722355, 0.013131094, -0.007205026, -0.03050753, 0.0042754733, -0.013124398, -0.004027717, 0.03506089, -0.008704958, 0.015494824, 0.0010822606, 0.013994893, 0.0012019537, -0.009796426, 0.0075465287, -0.029543286, -0.00044068848, 0.018963415, -0.011959272, -0.026222011, -0.012588708, 0.0012873294, 0.011001728, -0.018588433, -0.0029914922, -0.0239989, 0.007727324, -0.02156151, -0.020691015, 0.014316307, -0.0051459693, -0.018133096, 0.015146626, -0.0058791945, 0.0034133478, -0.023798015, -0.015856415, 0.018508079, -0.0008232044, -0.002102582, 0.0057151397, 0.005976288, -0.021668648, -0.028230848, 0.01904377, 0.0062608733, 0.018735748, 0.00011571735, -0.026530033, -0.004767638, 0.018226841, -0.020436563, -0.027092507, -0.005366941, 0.024266744, -0.0014061854, 0.023195364, 0.007673755, -0.015628748, -0.008865665, 0.02532473, -0.039078563, 0.007740716, 0.034257356, 0.0006193912, 0.033694882, 0.01334537, -0.03899821, -0.024936356, 0.020945467, 0.00045575475, 0.0047341576, 0.014142208, -0.009140206, 3.5965495e-05, -0.012133372, -0.018066134, 2.0389167e-05, -0.0119124, 0.031980675, -0.0075599207, -0.018494686, 0.007071104, 0.0028558958, -0.006555503, -0.0012019537, -0.0075867055, 0.014222561, -0.013994893, 0.0025512222, -0.006736298, 0.036641177, -0.0096022375, -0.011778478, 0.015990337, -0.001714207, -0.0018163229, 0.023382856, -0.017222423, -0.023423033, -0.011269572, -0.026489856, -0.00024524544, -0.008604515, 0.0059260675, -0.008490682, 0.0024691946, -0.0019234609, -0.027829079, 0.010178104, -0.01857504, -0.0146912895, -0.028766537, 0.012977083, -0.008450505, 0.004208512, -0.0014672875, -0.0024457583, -0.0030048843, -0.015601963, -0.0047609424, 0.0046605, -0.023007873, -0.02591399, -0.009187078, 0.007573313, 0.017075108, -0.019499104, -0.0068099555, 0.008477289, 0.017235816, 0.1923126, -0.0063881, 0.028391553, 0.027320175, -0.009441531, 0.002644968, 0.015401078, 0.004814511, 0.020503523, 0.01595016, 0.013218143, 0.0074326945, -0.014543976, 0.00082194887, -0.033828806, -0.01564214, -0.042426623, 0.0019619635, -0.012709238, 0.017958997, -0.013211447, -0.020449955, 0.02340964, -0.014651113, 0.00806213, -0.0011977687, 0.0107204905, -0.0028960723, 0.019016985, 0.00032894695, 0.0017778202, 0.0053903777, 0.010847717, -0.00043273682, 0.014168993, -0.00673295, 0.011450367, -0.02855226, 0.0122405095, -0.019445537, -0.003977496, 0.010633441, -0.02825763, -0.010834324, -0.010238369, 0.0132650165, 0.0004088819, -0.023141796, -0.014677898, -0.004580147, -0.03599835, 0.01096155, 0.002154477, 0.0027219732, -0.0039339713, 0.012695846, -0.0030266468, 0.00056665926, 0.008671477, 0.0038770542, -0.003582425, -0.0019586154, -0.012508354, 0.04068563, -0.0028207412, 0.030373605, -0.023208756, -0.009488404, 0.026797878, -0.024976533, -0.00076586887, 0.008229533, -0.007138065, 0.000117705255, -0.004198468, 0.0074259983, -0.010445949, 0.017932212, 0.013111006, -0.00018236467, -0.010767363, -0.011102169, -0.0298647, 0.013680176, -0.0062006083, -0.0011400146, 0.014651113, -0.006532066, -0.025873812, -0.009441531, 0.012106587, -0.019847304, -0.008530859, -0.012715934, 0.013305193, 0.005577869, 0.011416887, 0.006013117, -0.0029144867, 0.005289936, -0.023838192, 0.07231811, 0.009086637, 0.014530583, 0.010238369, 0.017061718, -0.021119567, 0.018802708, 0.005755316, -0.0219231, 0.01720903, -0.026623778, -0.013452508, -0.011416887, 0.006565547, 0.025646145, 0.018775923, -0.011905704, 0.010419165, -0.009146902, 0.007010839, -0.024400666, 0.009254039, 0.0041817278, -0.00529998, 1.29345e-05, -0.027373744, 0.015414471, -0.0205437, -0.03575729, -0.011631163, -0.008135787, 0.005932763, 0.009930348, -0.012454785, 0.020798152, 0.017302778, -0.0048479917, 0.0046906327, 0.02406586, -0.018267019, -0.0035121157, 0.028980812, 0.005969592, 0.0053435047, -0.020744585, -0.021548118, -0.0006344575, -0.022204338, -0.019793734, 0.0014873759, -0.01773133, -0.0049417373, -0.000582144, 0.013847578, -0.02263289, -0.009508492, -0.03618584, 0.013968109, -0.017570622, -0.016606381, 0.0011575919, 0.028820105, 0.0021193223, -0.013847578, 0.009180382, -0.16874225, 0.01558857, 0.01108208, -0.027400527, 0.013425723, 0.00674969, -0.023811407, 0.018441118, 0.0076871472, -0.011162434, 0.033587743, 0.008571035, -0.022177553, -0.022659674, -0.0035121157, -0.00814918, -0.0065421103, 0.0053234166, 0.021333842, 0.016351929, 0.023061441, -0.027668374, 0.005966244, -0.009829906, 0.034310926, 0.027146075, 0.01738313, -0.006448365, 0.009006283, -0.0094482275, -0.0004201816, 0.019191083, 0.041783795, 0.00017807497, 0.025043493, 0.0048379474, 0.017275993, -0.02663717, 0.00018121378, 0.022780204, 0.006910397, 0.0014488732, -0.014543976, 0.026985368, -0.020945467, 0.031873535, -0.01289673, 0.0028558958, 0.029329011, 0.0029061167, 0.026945192, -0.0038000487, -0.004144899, 0.02406586, 0.019994618, 0.0019000244, -0.0012990475, 0.036453683, -0.003138807, -0.011122257, 0.0028358074, -0.017450092, 0.01719564, 0.000996885, 0.02353017, -0.015079665, -0.0011492218, 0.019070553, -0.025391692, -0.0027437357, -0.012756111, 0.008169268, 0.018789316, -0.010365596, 0.019793734, 0.01904377, -0.01976695, 0.005082356, -0.0033564307, 0.01595016, -0.007271988, 0.009937044, -0.03875715, -0.012006145, -0.01636532, -0.015749278, 0.016834049, -0.005135925, -0.0046538045, 0.0034418064, 0.017329562, -0.021374019, -0.03131106, -0.031578906, 0.026596993, 0.013104309, 0.014343091, -0.009655807, -0.018441118, -0.022070415, 0.025592575, -0.021226704, -0.02981113, -0.0023938634, 0.04467652, 0.012494963, -0.011845439, -0.017048325, 0.027829079, -0.0025076973, 0.009849994, -0.0013316912, 0.019338397, 0.040149942, -0.0201955, 0.03492697, 0.020141933, -0.020824937, -0.010004005, -0.020262463, 0.045640763, 0.0074996557, -0.0004524067, 0.0107204905, -0.026288971, -0.007399214, -0.11935166, -0.006558851, 0.025137238, 0.013927932, -0.009361178, 0.003309558, -0.019030377, 0.029275442, 0.013666783, 0.022485575, -0.02442745, -0.016726911, -0.009896867, -0.0058825426, 0.008872361, 0.009207167, -0.009501796, -0.0030015362, -0.027775511, 0.032141384, -0.0019720078, -0.023074834, 0.0063981437, 0.018615218, -0.008109002, -0.010499518, -0.0050388314, 0.01301726, 0.005865802, 0.0071447613, 0.024414059, 0.00042562222, 0.035194814, -0.0025076973, -0.016874226, 0.0070041427, 0.01869557, 0.00035803323, 0.0445426, -0.020168718, -0.0045634066, 0.010620048, 0.004473009, -0.011510632, 0.026061304, -0.010432557, -0.03709651, -0.0054405984, -0.01445023, -0.011765085, -0.025954166, -0.009541973, -0.037364356, -0.004633716, 0.011818654, 0.0059461556, 0.021226704, 0.019191083, -0.029757563, -0.0131712705, -0.0018447815, -0.003907187, -0.012227117, 0.0074527827, 0.031016434, -0.014356484, -0.008417024, -0.0028073487, 0.0020891898, -0.040578496, -0.0250301, -0.005681659, -0.016606381, -0.003920579, -0.0191643, 0.040283866, 0.01935179, 0.012890033, 0.019699989, -0.041703444, -0.011865526, -0.024373882, -0.005072312, -0.03380202, -0.005624742, 0.038542874, 0.036426898, 0.0030567793, 0.009742856, -0.019432144, -0.01935179, 0.036989372, 0.004898213, -0.015334117, 0.0010881197, 0.043015882, 0.00242567, -0.0008612886, 0.018226841, 0.007981776, -0.016485851, -0.024132822, -0.049712002, 0.005470731, 0.02591399, -0.006799911, 0.0008499889, 0.0002847944, 0.008115699, 0.0040712417, -0.009387962, 0.012970387, -0.010365596, -0.0048212074, 0.0057050954, -0.011979361, -0.024949748, 0.003927275, 0.033052053, -0.0040879822, 0.002485935, 0.00818266, -0.01493235, 0.0040411092, -0.0035991652, 0.013445811, -0.042828392, -0.0010069292, 0.007553225, -0.013767226, -0.007780893, -0.0061068623, 0.007767501, -0.03559658, -0.0016296685, -0.007271988, -0.0051225326, -0.028445123, -0.014865389, -0.0032459449, 0.014396661, 0.021615079, -0.00023792156, -0.023315893, -0.005859106, -0.0116512505, 0.0042352965, -0.0070242314, -0.02663717, 0.01006427, -0.0067630825, 0.013044044, 0.026596993, 0.012126676, 0.014905565, -0.032462794, -0.0009801447, -0.004252037, -0.0035255079, -0.013887756, -0.034364495, -0.020583877, 0.011564202, 0.011021815, -0.0034016296, 0.0061637796, 0.029409364, -0.0018146489, -0.027614804, -0.029275442, 0.03040039, -0.0072184186, -0.011724908, -0.016445674, -0.0046538045, 0.010753971, 0.013660087, 0.004252037, -0.021467764, 0.0025194157, -0.0046671964, 0.013144486, -0.017958997, -0.014597544, -0.013633302, 0.022726636, 0.0041147666, 0.012863249, 0.0068702204, 0.021226704, 0.01869557, 0.005132577, -0.0010362248, 0.015066273, -0.008370152, -0.008845576, -0.0076469705, 0.0017610799, -0.0021427588, -0.013117702, -0.018521471, 0.03476626, -0.00529998, -0.0016497569, -0.0009600564, -0.027561234, -0.019566067, 0.0021661953, -0.02711929, -0.047435325, -0.035435874, 0.032328874, -0.00094164204, 0.01893663, 0.028498692, -0.008129091, -0.019659812, 0.0058791945, -0.0141020315, -0.00030090695, 0.003471939, 0.025632752, -0.008691565, 0.019150907, -0.013070828, -0.0019686597, 0.04473009, -0.013010563, 0.016405497, -0.026114874, 0.040123157, 0.0065019336, 0.019753557, -0.019900871, -0.04628359, -0.0127360225, 0.023610523, -0.024762256, 0.01612426, 0.016874226, 0.0021829356, 0.0737109, 0.0065421103, -0.042587332, 0.003205768, 0.0139145395, 0.01893663, -0.021842748, 0.0013425723, 0.018106312, -0.027963003, 0.0022448746, -0.0060097687, 0.031444985, -0.01976695, -0.018615218, 0.018521471, -0.007841158, 0.020182109, -0.017342955, -0.025364907, 0.005095748, -0.042506978, 0.008035346, 6.9805753e-07, -0.04754246, 0.015200195, 0.04770317, -0.012059715, -0.0010688683, -0.05726523, 0.0033162541, -0.001661475, -0.028498692, -0.015253765, 0.00973616, 0.0026650561, -0.006846784, -0.023864975, 0.00079181633, 0.029034382, -0.0077072354, 0.04162309, -0.01988748, -0.011249484, -0.0148787815, -0.0073724296, -0.02758802, -0.033534177, -0.030828942], 'node_index': 13814, 'node_id': 'Copper_(14012)', 'node_name': 'Copper'}\", '{\\'node_type\\': \\'drug\\', \\'desc\\': \"Oxygen belongs to drug node. Oxygen is an element displayed by the symbol O, and atomic number 8. It is an essential element for human survival. Decreased oxygen levels may be treated with medical oxygen therapy. Treatment with oxygen serves to increase blood oxygen levels and also exerts a secondary effect of decreasing blood flow resistance in the diseased lung, leading to decreased cardiovascular workload in an attempt to oxygenate the lungs. Oxygen therapy is used to treat emphysema, pneumonia, some heart disorders (congestive heart failure), some disorders that cause increased pulmonary artery pressure, and any disease that impairs the body\\'s ability to take up and use gaseous oxygen. Higher level of oxygen than ambient air (hyperoxia) can be introduced under normobaric or hyperbaric conditions. Oxygen therapy increases the arterial pressure of oxygen and is effective in improving gas exchange and oxygen delivery to tissues, provided that there are functional alveolar units. Oxygen plays a critical role as an electron acceptor during oxidative phosphorylation in the electron transport chain through activation of cytochrome c oxidase (terminal enzyme of the electron transport chain). This process achieves successful aerobic respiration in organisms to generate ATP molecules as an energy source in many tissues. Oxygen supplementation acts to restore normal cellular activity at the mitochondrial level and reduce metabolic acidosis. There is also evidence that oxygen may interact with O2-sensitive voltage-gated potassium channels in glomus cells and cause hyperpolarization of mitochondrial membrane.  Oxygen binds to oxygen-carrying protein in red blood cells called hemoglobin with high affinity. The amount of oxygen molecules bound to the fixed amount of circulating hemoglobin in the blood determines the overall oxygen saturation level and this oxygen-delivering capacity is regulated by Bohr effect. Oxygen therapy improves effective cellular oxygenation, even at a low rate of tissue perfusion. Oxygen molecules adjust hypoxic ventilatory drive by acting on chemoreceptors on carotid bodies that sequentially relay sensory information to the higher processing centers in brainstem. It also attenuates hypoxia-induced mitochondrial depolarization that generates reactive oxygen species and/or apoptosis. Oxygen therapy in clinical settings is used across diverse specialties, including various types of anoxia, hypoxia or dyspnea and any other disease states and conditions that reduce the efficiency of gas exchange and oxygen consumption such as respiratory illnesses, trauma, poisonings and drug overdoses. Oxygen therapy tries to achieve hyperoxia to reduce the extent of hypoxia-induced tissue damage and malfunction. \", \\'desc_emb\\': [0.0011131193, 0.00035166115, -0.011181605, -0.04077155, -0.011246652, 0.02419754, -0.016274797, -0.01151985, -0.027632028, 0.0079422565, -0.019462107, 0.01414125, -0.00018365656, 0.023781238, -0.0011261287, -0.010680742, 0.035047404, 0.0017481421, 0.010882388, -0.014713665, -0.018174173, 0.017953012, -0.016600031, 0.009880662, -0.017913984, 0.01151985, 0.033954613, -0.0328358, 0.019579193, -0.024535784, 0.021543616, 0.001392822, -0.020190636, -0.010231917, -0.0010399413, 0.009100096, -0.0030637207, -0.003120637, 0.013894071, -0.004823246, 0.027762122, 0.017744862, -0.003639388, 0.0068234457, -0.0026230263, -0.01823922, -0.0025270816, -0.037831422, 0.0065014623, -0.004302869, 0.0029531405, 0.009568435, 0.004058942, -0.0051192106, 0.0036361355, -0.032263387, -0.016105674, 0.02557654, 0.010485601, -0.008527681, -0.003802006, -0.013568835, -0.030988462, 0.012612642, -0.0056265783, 0.022467285, 0.0030474588, 0.04420604, -0.01037502, 0.006468939, 0.028100368, 0.03715493, 0.012924869, 0.024210548, 0.008384577, -0.005893272, -0.024392681, 0.005278576, 0.017419627, 0.0045435433, 0.010335992, -0.021556625, -0.00673238, 0.026435161, 0.029895669, -0.0028344295, -0.0046281046, 0.012261388, 0.004631357, 0.010023765, 0.010745789, 0.004556553, 0.009236695, 0.0147917215, 0.006397387, 0.03699882, 0.002775887, 0.032185327, 0.0026799424, -0.018187182, 0.00010651471, -0.0014310373, -0.034813233, -0.010179879, -0.031612914, 0.014921816, -0.005350128, 0.0019855641, 0.003447499, -0.007090139, -0.011428784, 0.056721114, -0.008638261, -0.013321656, 0.0046281046, 0.02326086, 0.026851462, 0.007623526, -0.017575739, 0.0045012627, 0.0059843375, 0.017133418, 0.010257935, -0.005460708, -0.00026181477, -0.01346476, -0.032341443, -0.018889692, -0.005050911, -0.0074088704, 0.015090939, 0.015806457, 0.016769154, -0.011448299, -0.021881862, 0.042046476, -0.011832076, -0.018174173, -0.029505387, -0.024626851, 0.014388429, 0.0074153747, -0.0053826515, -0.0074218796, -0.011227137, 0.020476842, 0.03533361, 0.01528608, 0.013646891, -0.003623126, 0.0057176445, -0.009535912, 0.0016074777, -0.028230462, 0.00014625445, 0.009340771, -0.009568435, 0.017172446, -0.014037175, -0.020398786, 0.01639188, -0.016508967, -0.016105674, -0.0051192106, 0.020177625, 0.007838181, -0.0015351127, 0.0139461085, -0.008124389, 0.0012342697, -0.00445573, 0.03759725, -0.003967876, 0.008566709, -0.002275024, 0.035229534, -0.0039386046, 0.03174301, 0.002837682, -0.017432636, -0.007486927, 0.017979031, 0.0079227425, 0.009666006, -0.015871504, 0.005633083, 0.027085632, -0.009692025, 0.027189707, -0.04425808, -0.00073828513, 0.025615567, -0.013829024, -0.009581445, -0.64610034, -0.015689373, -0.038924213, -0.011233643, 0.014583571, 0.018161165, 0.014609589, -0.0010496983, -8.110566e-05, 0.022779511, 0.0058022058, 0.019696277, -0.0050931918, -0.0045142723, 0.016118683, -0.03585399, -0.018382324, -0.013568835, 0.032133292, -0.038429856, -0.023364935, -0.016261786, -0.042983156, 0.00016800458, 0.012801278, 0.026396133, 0.021582644, -0.005714392, 0.003805258, 0.028178426, 0.007207224, 0.010069299, 0.032185327, 0.018811636, 0.053286623, -0.0018424605, -0.020021513, 0.017237494, 0.008579719, 0.018538438, 0.021998946, -0.0034052182, 0.0255245, -0.025732651, -0.013438741, 0.019449098, 0.027996292, -0.015585297, 0.0085927285, 0.0087293275, 0.02054189, 0.005174501, -0.022402238, 0.012957392, 0.00079682755, -0.00049191905, 0.021517597, -0.020932171, 0.0094188275, -0.010550647, -0.00042361955, 0.010479095, -0.009945709, -0.02624002, -0.0026978306, 0.024991114, -0.028022312, 0.0030068045, 0.010270945, 0.015624325, 0.011350728, 0.03556778, -0.0048557697, 0.00478747, 0.008996021, 0.0072657666, -0.00083585584, 0.0035938548, -0.012989916, 0.03806559, 0.014180278, -0.0053989133, -0.005805458, -0.003057216, 0.04496059, 0.015208024, -0.02327387, 0.016053636, 0.02374221, -0.0009505015, 0.015572287, 0.012807784, -0.0036328833, -0.028620746, -0.012664679, -0.0011692225, 0.009080582, 0.0037076874, 0.027033595, 0.015910532, -0.010615694, -0.005167996, -0.010498609, 0.018811636, -0.012092265, 0.0040361756, -0.037363082, -0.023442993, 0.035932045, -0.02236321, -0.006267293, -0.019110853, 0.023143776, -0.0022864072, 0.041265912, -0.006758399, -0.0039548664, 0.0010732779, 0.004361411, -0.05151734, 0.015936552, -0.016600031, -0.0014838881, -0.012846812, 0.021075277, -0.008722822, -0.0075584785, -0.013529807, -0.015116957, -0.014778712, -0.0017595254, -0.011240147, 0.007434889, 0.0124890525, 0.006059142, 0.00071755133, 0.030650217, 0.009679016, 0.01800505, -0.024080455, 0.0047842176, -0.00135542, -0.011031996, -0.0028815886, -0.010075803, -0.0034442465, -0.015299089, 0.008781365, -0.018863672, 0.0055029886, -0.017874956, -0.0064299107, -0.0117800385, 0.04680793, 0.0033824518, -0.023013681, 0.005668859, -0.015728401, -0.024587821, -0.007499936, -0.0029905427, 0.024314623, 0.0055094934, 0.0026457927, -0.021959918, -0.006133946, -0.018187182, 0.02167371, -0.015884513, -0.042931117, -0.012807784, -0.009412322, -0.006986064, -0.013972128, -0.004468739, 0.016001599, -0.011695477, -0.0068039317, 0.0011090538, 0.0027872704, 0.0087098135, -0.017003324, 0.0012049985, -0.010401039, 0.0013456629, 0.009191162, 0.019488126, 0.0139851365, 0.013737958, 0.038455874, -0.0125475945, 0.031404763, -0.015663354, 0.014180278, -0.002946636, -0.027241746, -0.0027466158, -0.029349273, 0.004123989, 0.025459453, 0.017224485, -0.026539236, 0.031352725, -0.018343296, 0.030702254, 0.0066868467, -0.009048059, -0.0031889365, 0.010179879, 0.01505191, -0.007825172, -0.01128568, 0.00038154217, 0.0049078073, -0.018915711, 0.02283155, -0.011558878, -0.006381125, 0.0048460127, -0.016899249, 0.003029571, -0.0058379816, 0.0066868467, -0.0036003597, -0.015364137, 0.0051289676, 0.028985009, 0.0027970274, -0.0032328432, -0.007454403, -0.007727601, -0.017953012, 0.0053728945, -0.009490379, 0.003603612, 0.01937104, -0.00041508212, -0.009490379, 0.03078031, -0.007278776, -0.009054563, 0.0053566326, 0.032809783, -0.022675436, -0.006751894, 0.011968675, 0.03124865, 0.0054574558, -0.015858496, -0.016756145, -0.017679814, -0.0075454693, -0.0065632574, -0.0012749241, 0.0020684993, -0.005441194, 0.02215506, -0.0069015026, 0.04514272, 0.030390028, 0.04077155, -0.011669459, 0.034110725, -0.012287406, -0.0009822119, 0.0066380617, -0.0029970473, -0.009048059, -0.005652597, -0.0016066646, -0.02258437, 0.0064624343, 0.008404092, -0.016040627, 0.03879412, 0.02143954, -0.027996292, 0.008644766, 0.033460252, 0.026604284, -0.016977306, -0.0018847411, 0.01826524, 0.031222632, -0.012671185, -0.009054563, -0.02072402, 0.011214129, -0.004494758, 0.0094773695, -0.004605338, -0.006875484, 0.005675364, 0.008878936, -0.0008216268, -0.046859965, 0.000192194, 0.018902702, 0.033746462, -0.003694678, -0.018681541, 0.008202446, -0.016404891, 0.004485001, 0.040511362, 0.008267493, 0.009275723, 0.019930447, -0.0049273213, -0.010030271, 0.011448299, -0.011162091, 0.002756373, -0.04334742, 0.018317277, 0.023182804, -0.0037434634, 0.011402765, 0.009139124, -0.032081254, 0.0030702255, -0.011669459, 0.0058802622, -0.014895797, 0.029739557, 0.008859422, -0.002883215, 0.02371619, -0.0073373183, 0.015025891, -0.0016700856, -0.017497683, 0.015494231, 0.0071877097, 0.0004768769, 0.001756273, 0.020333739, -0.0016326834, 0.004829751, 0.033642385, 0.0029254956, -0.03171699, -0.018512418, -0.006270545, 0.0052297907, -0.029817613, 0.015455202, 0.034839254, 0.02054189, 0.014310373, 0.0053631375, 0.024756944, 0.021608662, -0.0020424805, -0.0024051184, 0.025511492, 0.009236695, 0.012573614, -0.019462107, -0.014323382, -0.0037694823, -0.0021904628, 0.03101448, 0.012794774, 0.007929248, 0.023768228, -0.0039711283, 0.0038638005, -0.0040003997, -0.02327387, -9.086273e-05, 0.0034540035, -0.0019481621, -0.004859022, 0.013191562, 0.008150408, -0.009900176, -0.035047404, 0.009718044, -0.0041337465, 0.0004931387, 0.0145965805, -0.027658047, 0.0145965805, -0.013503788, -0.03392859, 0.03309599, -0.019097842, -0.0006447799, 0.0017416374, 0.014232316, 0.011890619, -0.005171248, -0.017718844, 0.006413649, -0.0058022058, -0.0060461327, -0.0052200337, 0.038611986, 0.01345175, 0.020711012, -0.00888544, 0.0035288078, 0.0005793262, -0.0035157984, 0.0077731344, -0.0012033723, -0.03582797, 0.010030271, -0.004715918, 0.004592329, 0.002275024, -0.01665207, 0.004241074, 0.022558352, -0.023117756, -0.0102058975, -0.015377146, 0.0070836344, 0.04129193, 0.0132175805, 0.012976906, -0.0145965805, -0.017315552, -0.013399713, -0.004712666, -0.00798779, -0.016990315, 0.0030507112, -0.025641587, -0.012892345, 0.014336391, -0.0023124262, -0.013334665, 0.01938405, 0.0027905228, 0.0022050983, 0.006986064, -0.009542417, -0.004550048, -0.012723222, 0.035697874, -0.017536711, -0.0005329801, -0.025654595, -0.013711939, 0.025654595, 0.021790795, -0.0068364553, -0.013126515, -0.005184258, -0.011305194, -0.0023872303, 0.00627705, 0.013568835, 0.024782963, 0.0037922487, -0.0230397, -0.034318876, 0.006771408, -0.0102254115, -0.011923143, 0.0012196341, -0.013568835, 0.0018538437, 0.013080982, 0.007350328, -0.0102449255, 0.026591275, -0.029037047, -0.030364009, 0.007948762, -0.002920617, -0.0077406107, -0.015455202, -0.023638133, -0.043945853, 0.009184658, -0.020268692, -0.014011156, -0.011071024, -0.010888892, 0.017757872, 0.030025763, 0.012437015, -0.023078728, 0.027944256, 0.012983411, -0.010667732, 0.01139626, -0.011018987, 0.011123062, -0.009854643, 0.012599633, 0.0013188309, -0.015377146, 0.014245326, -0.0044101966, -0.0006561631, 0.0035613314, -0.008052837, -0.0032409742, -0.0069210166, -0.015129967, -0.021270417, 0.016756145, -0.03215931, 0.009022039, -0.040043026, -0.010823846, 0.038846157, 0.00911961, 0.0030165615, -0.015325109, -0.004706161, -0.023560077, -0.0045337863, 0.014401439, -0.00069356523, -0.005233043, -0.02259738, -0.018174173, -0.03124865, -0.0075129457, 0.0010521376, -0.016574014, -0.012690699, -0.021179352, -0.014349401, 0.007890219, -0.009275723, -0.010784817, -0.00211078, -0.03650446, -0.00019341362, -0.009770081, -0.012280902, -0.025420425, -0.014037175, 0.034995366, 0.0032458527, 0.03304395, -0.011155586, -0.0042833546, 0.02463986, -0.02211603, 0.0069535403, -0.012853317, 0.04150008, -0.006179479, -0.014050184, -0.005906281, -0.02350804, 0.009191162, -0.01197518, 0.010869378, -0.017926995, -0.0025531005, -0.014999872, 0.012593128, 0.006189236, 0.01392009, -0.008839907, 0.02672137, -0.014115231, -0.0034832747, -0.018122135, -0.01662605, -0.024080455, 0.011539364, -0.00045126458, -0.02804833, -0.00039353524, -0.0063323397, -0.020619946, 0.005506241, -0.0020310972, -0.0007882901, 0.00684296, 0.0015188509, -0.021764776, -0.005067173, -0.026500208, -0.00991969, 0.0021888365, 0.025238294, -0.0155592775, 0.025459453, 0.01691226, -0.008137398, -0.0056135687, -0.021556625, -0.007090139, 0.032055236, -0.008345549, 0.005080182, 0.02577168, -0.0032263387, 0.0056460924, -0.0009456229, -0.0070771296, -0.007851191, -0.014973854, 0.009861148, 0.0028539437, 0.034318876, -0.019188909, -0.007857695, -0.01278827, -0.026083907, -0.025459453, -0.0027384849, 0.008013809, -0.03424082, -0.0056265783, -0.000110783425, -0.0029515144, 0.025303341, -0.017601758, -0.01939706, -0.0079422565, 0.030364009, -0.00809837, 0.025641587, 0.0042963643, 0.01662605, -0.006169722, -0.008117884, -0.014310373, -0.027632028, 0.008300016, 0.013373693, -0.041734252, -0.028126387, -0.02395036, -0.020216653, 0.0025238295, -0.0027954013, 0.020789068, 0.0022538838, 0.002884841, -0.014544542, -0.029271217, 0.025615567, -0.017068371, 0.0077796387, 0.023156784, -0.04402391, -0.021205371, -0.005460708, 0.0028246725, 0.0049891165, -0.014726674, -0.013659901, -0.040927667, 0.017458655, -0.012157312, -0.0020717517, -0.017835928, 0.017432636, -0.030650217, 0.021946907, 0.0026246523, 0.017406616, -0.013133019, -0.008260988, -0.0006988503, -0.00083748205, -0.030832348, -0.0019676762, 0.005704635, -0.007623526, -0.023573088, -0.008599233, 0.008423606, 0.012931373, 0.015702382, -0.023898322, -0.013672911, 0.0030897395, -0.047042098, -0.00087407103, -0.0038605484, 0.024444718, -0.0039808853, 0.031769026, 0.0011602786, 0.0037597253, 0.013269618, 0.009262714, -0.011767029, -0.017263513, 0.013776986, 0.0020993967, 0.00069315865, -0.014167269, -0.041604158, -0.0058542434, 0.0147917215, -0.013002925, 0.0132566085, 0.017172446, 0.010589676, 0.012300416, 0.0017156185, 0.020060541, -0.0035775932, 0.00014391681, -0.010134346, -0.023143776, -0.005294838, 0.01894173, 0.036556497, 0.0052720713, 0.010927921, -0.0006175414, 0.004839508, 0.0063225827, -0.00061103667, 9.599536e-05, 0.0029222432, -0.0057924488, -0.017237494, 0.007838181, -0.025199266, 0.0092432, 0.00644292, 0.0155202495, 0.0018343296, 0.0031190107, 0.0070771296, -0.0014481122, 0.025797699, 0.0052265385, -0.022376219, 0.014232316, 0.013829024, -0.02557654, 0.02600585, 0.0023156784, -0.007389356, -0.014440467, 0.027085632, 0.0016944782, -0.0018668532, -0.0074088704, -0.019475115, -0.016105674, -0.020919163, -0.017055362, 0.0065860236, -0.008260988, -0.0062380214, -0.0062347692, 0.0009456229, -0.013087486, -0.0016448798, 0.0029450096, 0.0013107001, 0.013763976, 0.19868001, -0.0058444864, -0.008254483, 0.017068371, -0.003185684, 0.012619147, -0.0106222, -0.02807435, -0.01128568, 0.013933099, 0.02371619, -0.008547195, -0.018850664, -0.0053111, -0.011058015, 0.0009813989, -0.0230397, -0.007324309, -0.01505191, 0.0030864873, -0.030416047, 0.00097408105, 0.011552374, 0.00205549, 0.012619147, -0.0044817487, 0.0117605245, -0.00014096937, 0.045715135, 0.008182932, -0.0055192504, 0.010017261, -0.0037011828, -0.00025002498, 0.012645165, -0.0032230862, 0.0118190665, -0.030598179, -0.0021498082, -0.009262714, 0.00216607, 0.022987662, -0.030598179, -0.0044004396, 0.029791594, 0.047796644, -0.014128241, -0.019683268, -0.02009957, -0.0115848975, -0.034006648, 0.0076950775, 0.0016879735, 0.028724821, -0.0016188609, 0.019266965, 0.009835129, 0.013107001, -0.0014798227, 3.1411928e-06, -0.0071812053, -0.01060919, -0.0070641204, 0.03231542, -0.0087683555, 0.0264872, -0.040173117, -0.0007886967, -0.016495956, 0.010693751, 0.0022977905, 0.00035897896, -0.0024262588, -0.009555426, -0.016482947, -0.010212402, 0.01619674, 0.0108563695, -0.009334266, 0.022480294, -0.008378073, -0.022063993, -0.025667604, 0.017380599, -0.006771408, -0.023364935, -0.003558079, 0.02259738, -0.009262714, 0.0063128257, -0.0032247123, -0.020112578, -0.017731853, 0.020463834, 0.021023238, -0.020789068, 0.008872431, 0.014583571, -0.020021513, 0.01937104, -0.01084336, 0.07873307, -0.014648618, -0.002457156, 0.020476842, 0.010745789, -0.029505387, 0.02737184, -0.0023807257, 0.010108327, 0.015767429, -0.043451495, -0.0044069444, -0.008085361, 0.010368516, 0.035723895, 0.008117884, -0.020177625, 0.016066646, -0.015025891, -0.0016302442, -0.018135145, -0.008781365, 0.022727475, -0.013295637, 0.0010846612, -0.02942733, 0.035099443, -0.014505514, -0.02713767, 0.021855842, -0.009054563, -0.0010066046, 0.0039093336, -0.012365463, 0.01849941, -0.0040556896, -0.022480294, 0.0073112994, 0.009913186, -0.013933099, -0.009535912, 0.010101822, 0.017926995, 0.016704109, -0.051673453, 0.0046508713, -0.02121838, 0.002483175, -0.012872831, -0.014882787, -0.02713767, 0.008917964, -0.019358031, -0.00058827014, -0.020203644, 0.016222758, -0.02305271, 0.016313825, -0.005916038, -0.007981285, 0.00398739, 0.02349503, -0.032445516, -0.0070185876, -0.0029889166, -0.16214953, 0.004452477, 0.020867126, -0.01782292, 0.0198654, -0.017003324, 0.016274797, -0.0031011228, -0.0027888964, 0.017848937, 0.018330287, 0.009802605, -0.0034767701, -0.0013066346, 0.011097044, -0.01983938, 0.018889692, 0.0282825, 0.027449897, -0.002475044, 0.016118683, 0.0045110197, 0.028932972, 0.0028132892, 0.012684194, -0.012137798, -0.005434689, 0.00991969, 0.014323382, 0.010088813, -0.023768228, 0.012749241, 0.031795047, 0.0021514345, -0.0076755635, 0.008527681, 0.032341443, -0.011116558, -0.025615567, 0.015129967, -0.0048362557, 0.014895797, -0.0040296707, 0.0024278848, -0.027970273, 0.016977306, 0.02443171, -0.008976506, 0.011968675, 0.02669535, 0.022675436, 0.011142576, -0.017900975, 0.024782963, 0.0044264584, -0.0020587423, 0.00043337664, 0.010628704, -0.021764776, -0.010739285, 0.012833802, -0.04496059, -0.007025092, 0.0017074876, 0.019943455, -7.404195e-05, -0.020060541, 0.0069405306, -0.008833403, 0.0062185074, -0.034266837, -0.025017133, 0.029271217, 0.013659901, 0.008761851, 0.011350728, -0.015012882, 0.0052558095, 0.0025075676, 0.033954613, 0.010368516, 0.004302869, -0.020658974, -0.008332539, -0.0034117228, 0.012859821, 0.01197518, -0.007525955, -0.015416174, -0.004413449, 0.01963123, -0.02487403, -0.015637334, -0.014570561, 0.016574014, 0.018967748, 0.019071825, -0.010862874, 0.0025108198, -0.0058900192, 0.019722296, -0.0006394948, -0.0023530805, -0.009692025, 0.050918907, 0.016313825, -0.0033889564, -0.009178152, 0.04220259, -0.0004467926, -0.010524629, -0.001056203, 0.017172446, 0.044180024, -0.007343823, 0.012716717, 0.023482021, -0.021907879, -0.011506841, -0.0058835144, 0.06551549, 0.013568835, -0.018681541, 0.03192514, -0.015103948, -0.04287908, -0.1313432, -0.030494103, 0.029947707, 0.012144303, 0.0064396677, 0.024496756, -0.010218907, 0.0046443664, -0.002757999, 0.025615567, -0.01153286, -0.029011028, -0.012391482, 0.006569762, 0.025953813, -0.007831677, -0.004946836, -0.0040166616, -0.00072486914, 0.028880933, -0.013503788, -0.00089602446, -0.0040394277, 0.0037239492, -0.004810237, -0.028568707, -0.0077861436, 0.017640786, 0.0046541234, -0.009548921, 0.01937104, -0.0030994967, 0.009548921, -0.0076625543, 0.009594454, 0.0065632574, 0.03746716, -0.02396337, 0.043139268, -0.015025891, 0.0023498281, 0.023377946, 0.027892217, 0.002457156, 0.027449897, -0.0269035, -0.03496935, -0.008267493, -0.017237494, 0.0011423905, -0.03489129, 0.012287406, -0.036374364, -0.0015180379, 0.002829551, -0.014765703, 0.02692952, 0.009210676, -0.032965895, -0.0040719514, 0.012183331, -0.0046638804, -0.0064559295, 0.011448299, 0.005633083, -0.042280648, -0.012443519, -0.022714464, 0.011428784, -0.024249578, -0.017692825, 0.013308646, -0.00025591988, -0.0021367988, -0.01644392, 0.0075844973, -0.00051915756, -0.018837655, 0.008449624, -0.0064266585, -0.021179352, 0.0013025692, 0.0079227425, -0.031612914, 0.0022181077, 0.044804476, 0.0191759, 0.0005305408, 0.017601758, -0.029089084, -0.019670257, 0.02371619, -0.004715918, 0.0056298305, 0.010576666, -0.0068234457, -0.010784817, -0.0072007193, 0.024509765, 0.018070098, -0.017497683, -0.027449897, -0.027892217, 0.0067909225, 0.014960844, 0.0074413936, -0.0013139524, -0.004702909, 0.016743137, 0.011903628, 0.014531533, -0.025589548, -0.012417501, 0.0063225827, -0.0054704654, -0.00078300503, -0.0125280805, -0.020060541, 0.019188909, 0.0048720315, -0.0036784161, -0.0030068045, -0.015377146, -0.004247579, -0.006124189, 0.018395334, -0.015129967, -0.016404891, -0.0043939347, 0.0046378616, -0.02305271, 0.008319531, 0.00023193374, -0.03169097, -0.00444272, -0.0016798426, -0.022272144, -0.002649045, -0.030129839, 0.00387681, -0.023221832, 0.012215855, -0.032133292, -0.030988462, 0.014180278, -0.0063258354, 0.0077796387, 0.009854643, -0.024366662, 0.022024965, 0.00027868638, -0.013646891, 0.046885986, 0.020229664, -0.024808982, -0.032029215, -0.020789068, -0.003431237, 0.0063258354, -0.0051257154, -0.0029547666, -0.015090939, 0.03627029, -0.0016733379, -0.001819694, -0.0006797427, 0.015897524, -0.024496756, 0.019423079, -0.014661627, 0.021569634, -0.014583571, -0.029401312, -0.016222758, 0.014947834, 0.008267493, 0.015988588, 0.0011862974, -0.0052623143, 0.019553173, 0.014804731, 0.011142576, 0.017315552, -0.026955537, -0.03554176, 0.019084834, 0.013672911, -0.019058814, -0.03424082, 0.028256482, 0.0071486817, -0.008482148, -0.0073112994, 0.012671185, 0.006595781, 0.007486927, 0.028906953, 0.0052265385, 0.0016456929, -0.009028545, -0.016756145, 0.018980758, 0.013386703, 0.013803005, -0.0036523973, -0.0050931918, -0.016587023, -0.011526355, -0.014674637, -0.01574141, -0.031118555, 0.009074077, 0.01346476, -0.0015619446, 0.017575739, -0.0020587423, -0.01732856, 0.02279252, 0.0013887567, -0.018993767, -0.0045630573, 0.020125588, 0.013555826, -0.0024945582, 0.017016334, 0.013334665, 0.023911333, 0.012059742, 0.027007576, -0.0148307495, 0.007213729, 0.008163417, 0.012410996, -0.013607863, -0.046469685, -0.011012482, 0.027866198, -0.0355938, 0.039990988, -0.008599233, 0.017705834, 0.052584115, 0.0029368787, -0.04496059, -0.008163417, 0.018291257, 0.02692952, -0.021491578, 0.0076365354, -0.00990668, -0.019891419, 0.020112578, -0.019566182, 0.022454275, -0.014453476, -0.028256482, 0.01800505, 0.0017432636, 0.011591402, 0.013894071, 0.012827298, 0.012580118, -0.012131293, 0.00018111565, -0.014869778, -0.04813489, -0.010043279, 0.04654774, -0.01894173, -0.018356305, -0.046209496, -0.0059908424, -0.00043093736, -0.046599776, -0.023989389, -0.003447499, -0.029557424, -0.0024685394, -0.03080633, -0.01345175, 0.008078855, -0.0059908424, 0.037571233, -0.024821991, -0.044414192, -0.034292858, -0.018993767, -0.019071825, -0.0016782164, -0.023351926], \\'node_index\\': 13815, \\'node_id\\': \\'Oxygen_(14013)\\', \\'node_name\\': \\'Oxygen\\'}']\n",
      "CPU times: user 5.37 ms, sys: 0 ns, total: 5.37 ms\n",
      "Wall time: 10.3 ms\n"
     ]
    }
   ],
   "source": [
    "%%time\n",
    "\n",
    "# Assume node_coll_name is defined and collection exists\n",
    "collection = Collection(node_coll_name)\n",
    "\n",
    "# Load the collection into memory before query\n",
    "collection.load()\n",
    "\n",
    "# Query by expr on node_index\n",
    "expr = \"node_index in [13814, 13815]\"\n",
    "output_fields = [\"node_index\", \"node_id\", \"node_name\", \"node_type\", \"desc\", \"desc_emb\"]\n",
    "\n",
    "results = collection.query(expr, output_fields=output_fields)\n",
    "\n",
    "print(results)"
   ]
  },
  {
   "cell_type": "code",
   "execution_count": 15,
   "id": "dcd24a9a",
   "metadata": {},
   "outputs": [
    {
     "data": {
      "text/html": [
       "<div>\n",
       "<style scoped>\n",
       "    .dataframe tbody tr th:only-of-type {\n",
       "        vertical-align: middle;\n",
       "    }\n",
       "\n",
       "    .dataframe tbody tr th {\n",
       "        vertical-align: top;\n",
       "    }\n",
       "\n",
       "    .dataframe thead th {\n",
       "        text-align: right;\n",
       "    }\n",
       "</style>\n",
       "<table border=\"1\" class=\"dataframe\">\n",
       "  <thead>\n",
       "    <tr style=\"text-align: right;\">\n",
       "      <th></th>\n",
       "      <th>node_index</th>\n",
       "      <th>primekg_node_index</th>\n",
       "      <th>node_id</th>\n",
       "      <th>node_name</th>\n",
       "      <th>node_type</th>\n",
       "      <th>desc</th>\n",
       "      <th>feat</th>\n",
       "      <th>desc_emb</th>\n",
       "      <th>feat_emb</th>\n",
       "    </tr>\n",
       "  </thead>\n",
       "  <tbody>\n",
       "    <tr>\n",
       "      <th>2</th>\n",
       "      <td>6544</td>\n",
       "      <td>6588</td>\n",
       "      <td>IREB2_(6588)</td>\n",
       "      <td>IREB2</td>\n",
       "      <td>gene/protein</td>\n",
       "      <td>IREB2 belongs to gene/protein node. IREB2 is i...</td>\n",
       "      <td>MDAPKAGYAFEYLIETLNDSSHKKFFDVSKLGTKYDVLPYSIRVLL...</td>\n",
       "      <td>[-0.05323749, -0.01769744, -0.016430508, -0.02...</td>\n",
       "      <td>[0.022037705406546593, -0.0630035325884819, 0....</td>\n",
       "    </tr>\n",
       "  </tbody>\n",
       "</table>\n",
       "</div>"
      ],
      "text/plain": [
       "   node_index  primekg_node_index       node_id node_name     node_type  \\\n",
       "2        6544                6588  IREB2_(6588)     IREB2  gene/protein   \n",
       "\n",
       "                                                desc  \\\n",
       "2  IREB2 belongs to gene/protein node. IREB2 is i...   \n",
       "\n",
       "                                                feat  \\\n",
       "2  MDAPKAGYAFEYLIETLNDSSHKKFFDVSKLGTKYDVLPYSIRVLL...   \n",
       "\n",
       "                                            desc_emb  \\\n",
       "2  [-0.05323749, -0.01769744, -0.016430508, -0.02...   \n",
       "\n",
       "                                            feat_emb  \n",
       "2  [0.022037705406546593, -0.0630035325884819, 0....  "
      ]
     },
     "execution_count": 15,
     "metadata": {},
     "output_type": "execute_result"
    }
   ],
   "source": [
    "merged_nodes_df.loc[2]"
   ]
  },
  {
   "cell_type": "code",
   "execution_count": 16,
   "id": "36378f38",
   "metadata": {},
   "outputs": [
    {
     "name": "stdout",
     "output_type": "stream",
     "text": [
      "CPU times: user 18.6 ms, sys: 2.42 ms, total: 21.1 ms\n",
      "Wall time: 28.8 ms\n"
     ]
    },
    {
     "data": {
      "text/plain": [
       "data: [[{'node_index': 6544, 'distance': 1.0, 'entity': {'node_id': 'IREB2_(6588)', 'node_name': 'IREB2'}}, {'node_index': 28031, 'distance': 0.9045131206512451, 'entity': {'node_id': 'IRF2BP2_(34878)', 'node_name': 'IRF2BP2'}}, {'node_index': 5767, 'distance': 0.898109495639801, 'entity': {'node_id': 'IRF2BP1_(5804)', 'node_name': 'IRF2BP1'}}, {'node_index': 2070, 'distance': 0.8949854373931885, 'entity': {'node_id': 'IRF8_(2075)', 'node_name': 'IRF8'}}, {'node_index': 10175, 'distance': 0.892490565776825, 'entity': {'node_id': 'IGF2BP3_(10268)', 'node_name': 'IGF2BP3'}}, {'node_index': 10643, 'distance': 0.8924646377563477, 'entity': {'node_id': 'IGF2BP2_(10746)', 'node_name': 'IGF2BP2'}}, {'node_index': 6243, 'distance': 0.891655445098877, 'entity': {'node_id': 'IRF2BPL_(6285)', 'node_name': 'IRF2BPL'}}, {'node_index': 7827, 'distance': 0.8912501931190491, 'entity': {'node_id': 'RREB1_(7886)', 'node_name': 'RREB1'}}, {'node_index': 6573, 'distance': 0.8909592628479004, 'entity': {'node_id': 'IGF2BP1_(6618)', 'node_name': 'IGF2BP1'}}, {'node_index': 4124, 'distance': 0.8898605108261108, 'entity': {'node_id': 'ERBIN_(4145)', 'node_name': 'ERBIN'}}]]"
      ]
     },
     "execution_count": 16,
     "metadata": {},
     "output_type": "execute_result"
    }
   ],
   "source": [
    "%%time\n",
    "\n",
    "vector_to_search = merged_nodes_df[\"desc_emb\"].loc[2]\n",
    "\n",
    "\n",
    "# Assume node_coll_name is defined and collection exists\n",
    "collection = Collection(node_coll_name)\n",
    "\n",
    "# Load the collection into memory before query\n",
    "collection.load()\n",
    "\n",
    "# Vector similarity search in Milvus\n",
    "vector_to_search = merged_nodes_df[\"desc_emb\"].iloc[2]  # or .loc[2], both work\n",
    "search_params = {\"metric_type\": \"COSINE\"}\n",
    "results = collection.search(\n",
    "    data=[vector_to_search],\n",
    "    anns_field=\"desc_emb\",\n",
    "    param=search_params,\n",
    "    limit=10,\n",
    "    output_fields=[\"node_id\", \"node_name\"]\n",
    ")\n",
    "\n",
    "results"
   ]
  },
  {
   "cell_type": "markdown",
   "id": "b682b66a",
   "metadata": {},
   "source": [
    "#### Building Node Collection (Node Type-specific Embedding)"
   ]
  },
  {
   "cell_type": "markdown",
   "id": "dab68486",
   "metadata": {},
   "source": [
    "Note that nodes information of the PrimeKG data is different for each node type, \n",
    "we are going to build a separate collection for each node type.\n",
    "\n",
    "We will use the node type as the collection name."
   ]
  },
  {
   "cell_type": "code",
   "execution_count": 17,
   "id": "e0f2ebd4",
   "metadata": {},
   "outputs": [
    {
     "name": "stderr",
     "output_type": "stream",
     "text": [
      "  0%|          | 0/6 [00:00<?, ?it/s]"
     ]
    },
    {
     "name": "stdout",
     "output_type": "stream",
     "text": [
      "Processing node type: biological_process\n"
     ]
    },
    {
     "name": "stderr",
     "output_type": "stream",
     "text": [
      "100%|██████████| 55/55 [00:36<00:00,  1.49it/s]\n",
      " 17%|█▋        | 1/6 [00:42<03:32, 42.55s/it]"
     ]
    },
    {
     "name": "stdout",
     "output_type": "stream",
     "text": [
      "Collection t2kg_primekg_nodes_biological_process stats:\n",
      "27409\n",
      "Processing node type: cellular_component\n"
     ]
    },
    {
     "name": "stderr",
     "output_type": "stream",
     "text": [
      "100%|██████████| 9/9 [00:05<00:00,  1.53it/s]\n",
      " 33%|███▎      | 2/6 [00:51<01:31, 22.76s/it]"
     ]
    },
    {
     "name": "stdout",
     "output_type": "stream",
     "text": [
      "Collection t2kg_primekg_nodes_cellular_component stats:\n",
      "4011\n",
      "Processing node type: disease\n"
     ]
    },
    {
     "name": "stderr",
     "output_type": "stream",
     "text": [
      "100%|██████████| 35/35 [00:23<00:00,  1.52it/s]\n",
      " 50%|█████     | 3/6 [01:17<01:12, 24.27s/it]"
     ]
    },
    {
     "name": "stdout",
     "output_type": "stream",
     "text": [
      "Collection t2kg_primekg_nodes_disease stats:\n",
      "17054\n",
      "Processing node type: drug\n"
     ]
    },
    {
     "name": "stderr",
     "output_type": "stream",
     "text": [
      "100%|██████████| 14/14 [00:03<00:00,  4.18it/s]\n",
      " 67%|██████▋   | 4/6 [01:23<00:34, 17.15s/it]"
     ]
    },
    {
     "name": "stdout",
     "output_type": "stream",
     "text": [
      "Collection t2kg_primekg_nodes_drug stats:\n",
      "6759\n",
      "Processing node type: gene/protein\n"
     ]
    },
    {
     "name": "stderr",
     "output_type": "stream",
     "text": [
      "100%|██████████| 38/38 [00:33<00:00,  1.14it/s]\n",
      " 83%|████████▎ | 5/6 [02:00<00:24, 24.36s/it]"
     ]
    },
    {
     "name": "stdout",
     "output_type": "stream",
     "text": [
      "Collection t2kg_primekg_nodes_gene_protein stats:\n",
      "18797\n",
      "Processing node type: molecular_function\n"
     ]
    },
    {
     "name": "stderr",
     "output_type": "stream",
     "text": [
      "100%|██████████| 22/22 [00:15<00:00,  1.46it/s]\n",
      "100%|██████████| 6/6 [02:19<00:00, 23.31s/it]"
     ]
    },
    {
     "name": "stdout",
     "output_type": "stream",
     "text": [
      "Collection t2kg_primekg_nodes_molecular_function stats:\n",
      "10951\n",
      "CPU times: user 29.4 s, sys: 3.11 s, total: 32.5 s\n",
      "Wall time: 2min 20s\n"
     ]
    },
    {
     "name": "stderr",
     "output_type": "stream",
     "text": [
      "\n"
     ]
    }
   ],
   "source": [
    "%%time\n",
    "\n",
    "# Loop over group enrichment nodes by node_type\n",
    "for node_type, nodes_df in tqdm(merged_nodes_df.groupby('node_type')):\n",
    "    print(f\"Processing node type: {node_type}\")\n",
    "\n",
    "    # Milvus collection name for this node_type\n",
    "    node_coll_name = f\"{milvus_database}_nodes_{node_type.replace('/', '_')}\"\n",
    "\n",
    "    # Define collection schema\n",
    "    feat_emb_dim = len(nodes_df.iloc[0]['feat_emb'].to_arrow().to_pylist()[0])\n",
    "    node_fields = [\n",
    "        FieldSchema(name=\"node_index\", dtype=DataType.INT64, is_primary=True, auto_id=False),\n",
    "        FieldSchema(name=\"node_id\", dtype=DataType.VARCHAR, max_length=1024),\n",
    "        FieldSchema(name=\"node_name\", dtype=DataType.VARCHAR, max_length=1024),\n",
    "        FieldSchema(name=\"node_type\", dtype=DataType.VARCHAR, max_length=1024),\n",
    "        FieldSchema(name=\"feat\", dtype=DataType.VARCHAR, max_length=40960),\n",
    "        FieldSchema(name=\"feat_emb\", dtype=DataType.FLOAT_VECTOR, dim=feat_emb_dim),\n",
    "    ]\n",
    "    schema = CollectionSchema(fields=node_fields, description=f\"schema for collection {node_coll_name}\")\n",
    "\n",
    "    # Create collection if not exists\n",
    "    if not utility.has_collection(node_coll_name):\n",
    "        collection = Collection(name=node_coll_name, schema=schema)\n",
    "    else:\n",
    "        collection = Collection(name=node_coll_name)\n",
    "\n",
    "    # Create index for node_index field (scalar)\n",
    "    collection.create_index(\n",
    "        field_name=\"node_index\",\n",
    "        index_params={\"index_type\": \"STL_SORT\"},\n",
    "        index_name=\"node_index_index\"\n",
    "    )\n",
    "\n",
    "    # Create index for feat_emb (vector)\n",
    "    collection.create_index(\n",
    "        field_name=\"feat_emb\",\n",
    "        index_params={\"index_type\": \"AUTOINDEX\", \"metric_type\": \"COSINE\"},\n",
    "        index_name=\"feat_emb_index\"\n",
    "    )\n",
    "\n",
    "    # Prepare data for insertion\n",
    "    # Columns must be lists of values in order matching schema fields\n",
    "    data = [\n",
    "        nodes_df[\"node_index\"].to_arrow().to_pylist(),\n",
    "        nodes_df[\"node_id\"].to_arrow().to_pylist(),\n",
    "        nodes_df[\"node_name\"].to_arrow().to_pylist(),\n",
    "        nodes_df[\"node_type\"].to_arrow().to_pylist(),\n",
    "        nodes_df[\"feat\"].to_arrow().to_pylist(),\n",
    "        cp.asarray(nodes_df[\"feat_emb\"].list.leaves).astype(cp.float32)\n",
    "            .reshape(nodes_df.shape[0], -1)\n",
    "            .tolist(),\n",
    "    ]\n",
    "\n",
    "    # Batch insert data in chunks\n",
    "    batch_size = 500\n",
    "    total_rows = len(data[0])\n",
    "    for i in tqdm(range(0, total_rows, batch_size)):\n",
    "        batch = [col[i:i + batch_size] for col in data]\n",
    "        collection.insert(batch)\n",
    "\n",
    "    # Flush the collection to ensure data is persisted\n",
    "    collection.flush()\n",
    "\n",
    "    # Print collection stats (number of entities and segment info)\n",
    "    stats = collection.num_entities\n",
    "    print(f\"Collection {node_coll_name} stats:\")\n",
    "    print(stats)"
   ]
  },
  {
   "cell_type": "code",
   "execution_count": 18,
   "id": "1e5eef59",
   "metadata": {},
   "outputs": [
    {
     "name": "stdout",
     "output_type": "stream",
     "text": [
      "Collection: t2kg_primekg_nodes_molecular_function\n",
      "10951\n",
      "Collection: t2kg_primekg_nodes\n",
      "84981\n",
      "Collection: t2kg_primekg_nodes_cellular_component\n",
      "4011\n",
      "Collection: t2kg_primekg_nodes_disease\n",
      "17054\n",
      "Collection: t2kg_primekg_nodes_gene_protein\n",
      "18797\n",
      "Collection: t2kg_primekg_nodes_biological_process\n",
      "27409\n",
      "Collection: t2kg_primekg_nodes_drug\n",
      "6759\n"
     ]
    }
   ],
   "source": [
    "# List all collections\n",
    "for coll in utility.list_collections():\n",
    "    print(f\"Collection: {coll}\")\n",
    "\n",
    "    # Load the collection to get stats\n",
    "    collection = Collection(name=coll)\n",
    "    print(collection.num_entities)"
   ]
  },
  {
   "cell_type": "code",
   "execution_count": 19,
   "id": "e127f18c",
   "metadata": {},
   "outputs": [
    {
     "name": "stdout",
     "output_type": "stream",
     "text": [
      "CPU times: user 19 ms, sys: 786 μs, total: 19.8 ms\n",
      "Wall time: 2.44 s\n"
     ]
    },
    {
     "data": {
      "text/plain": [
       "data: [[{'node_index': 6544, 'distance': 0.9999999403953552, 'entity': {'node_id': 'IREB2_(6588)', 'node_name': 'IREB2'}}, {'node_index': 698, 'distance': 0.9973249435424805, 'entity': {'node_id': 'ACO1_(698)', 'node_name': 'ACO1'}}, {'node_index': 4447, 'distance': 0.9917730689048767, 'entity': {'node_id': 'CPS1_(4473)', 'node_name': 'CPS1'}}, {'node_index': 1068, 'distance': 0.9909224510192871, 'entity': {'node_id': 'MTHFD1_(1070)', 'node_name': 'MTHFD1'}}, {'node_index': 2010, 'distance': 0.990104615688324, 'entity': {'node_id': 'CAD_(2015)', 'node_name': 'CAD'}}, {'node_index': 7587, 'distance': 0.9892357587814331, 'entity': {'node_id': 'MTR_(7641)', 'node_name': 'MTR'}}, {'node_index': 5069, 'distance': 0.9892129898071289, 'entity': {'node_id': 'ATP6V1A_(5099)', 'node_name': 'ATP6V1A'}}, {'node_index': 3111, 'distance': 0.9891620874404907, 'entity': {'node_id': 'AHCYL1_(3125)', 'node_name': 'AHCYL1'}}, {'node_index': 27259, 'distance': 0.9891443252563477, 'entity': {'node_id': 'SBNO2_(33784)', 'node_name': 'SBNO2'}}, {'node_index': 8547, 'distance': 0.989010751247406, 'entity': {'node_id': 'AHCYL2_(8617)', 'node_name': 'AHCYL2'}}]]"
      ]
     },
     "execution_count": 19,
     "metadata": {},
     "output_type": "execute_result"
    }
   ],
   "source": [
    "%%time\n",
    "\n",
    "# Assume node_coll_name is defined and collection exists\n",
    "collection = Collection('t2kg_primekg_nodes_gene_protein')\n",
    "\n",
    "# Load the collection into memory before query\n",
    "collection.load()\n",
    "\n",
    "# Vector similarity search in Milvus\n",
    "vector_to_search = merged_nodes_df[\"feat_emb\"].iloc[2]  # or .loc[2], both work\n",
    "search_params = {\"metric_type\": \"COSINE\"}\n",
    "results = collection.search(\n",
    "    data=[vector_to_search],\n",
    "    anns_field=\"feat_emb\",\n",
    "    param=search_params,\n",
    "    limit=10,\n",
    "    output_fields=[\"node_id\", \"node_name\"]\n",
    ")\n",
    "\n",
    "results"
   ]
  },
  {
   "cell_type": "code",
   "execution_count": 20,
   "id": "ad0c340c",
   "metadata": {},
   "outputs": [
    {
     "data": {
      "text/html": [
       "<div>\n",
       "<style scoped>\n",
       "    .dataframe tbody tr th:only-of-type {\n",
       "        vertical-align: middle;\n",
       "    }\n",
       "\n",
       "    .dataframe tbody tr th {\n",
       "        vertical-align: top;\n",
       "    }\n",
       "\n",
       "    .dataframe thead th {\n",
       "        text-align: right;\n",
       "    }\n",
       "</style>\n",
       "<table border=\"1\" class=\"dataframe\">\n",
       "  <thead>\n",
       "    <tr style=\"text-align: right;\">\n",
       "      <th></th>\n",
       "      <th>node_index</th>\n",
       "      <th>primekg_node_index</th>\n",
       "      <th>node_id</th>\n",
       "      <th>node_name</th>\n",
       "      <th>node_type</th>\n",
       "      <th>desc</th>\n",
       "      <th>feat</th>\n",
       "      <th>desc_emb</th>\n",
       "      <th>feat_emb</th>\n",
       "    </tr>\n",
       "  </thead>\n",
       "  <tbody>\n",
       "    <tr>\n",
       "      <th>2</th>\n",
       "      <td>6544</td>\n",
       "      <td>6588</td>\n",
       "      <td>IREB2_(6588)</td>\n",
       "      <td>IREB2</td>\n",
       "      <td>gene/protein</td>\n",
       "      <td>IREB2 belongs to gene/protein node. IREB2 is i...</td>\n",
       "      <td>MDAPKAGYAFEYLIETLNDSSHKKFFDVSKLGTKYDVLPYSIRVLL...</td>\n",
       "      <td>[-0.05323749, -0.01769744, -0.016430508, -0.02...</td>\n",
       "      <td>[0.022037705406546593, -0.0630035325884819, 0....</td>\n",
       "    </tr>\n",
       "  </tbody>\n",
       "</table>\n",
       "</div>"
      ],
      "text/plain": [
       "   node_index  primekg_node_index       node_id node_name     node_type  \\\n",
       "2        6544                6588  IREB2_(6588)     IREB2  gene/protein   \n",
       "\n",
       "                                                desc  \\\n",
       "2  IREB2 belongs to gene/protein node. IREB2 is i...   \n",
       "\n",
       "                                                feat  \\\n",
       "2  MDAPKAGYAFEYLIETLNDSSHKKFFDVSKLGTKYDVLPYSIRVLL...   \n",
       "\n",
       "                                            desc_emb  \\\n",
       "2  [-0.05323749, -0.01769744, -0.016430508, -0.02...   \n",
       "\n",
       "                                            feat_emb  \n",
       "2  [0.022037705406546593, -0.0630035325884819, 0....  "
      ]
     },
     "execution_count": 20,
     "metadata": {},
     "output_type": "execute_result"
    }
   ],
   "source": [
    "# Check the ground truth for the search\n",
    "merged_nodes_df.loc[2]"
   ]
  },
  {
   "cell_type": "code",
   "execution_count": 21,
   "id": "444bb0bd",
   "metadata": {},
   "outputs": [
    {
     "data": {
      "text/plain": [
       "[6544, 698, 4447, 1068, 2010, 7587, 5069, 3111, 27259, 8547]"
      ]
     },
     "execution_count": 21,
     "metadata": {},
     "output_type": "execute_result"
    }
   ],
   "source": [
    "# Get node indices from the results\n",
    "[n['node_index'] for n in results[0]]"
   ]
  },
  {
   "cell_type": "code",
   "execution_count": 22,
   "id": "659ffddd",
   "metadata": {},
   "outputs": [
    {
     "data": {
      "text/plain": [
       "[0.9999999403953552,\n",
       " 0.9973249435424805,\n",
       " 0.9917730689048767,\n",
       " 0.9909224510192871,\n",
       " 0.990104615688324,\n",
       " 0.9892357587814331,\n",
       " 0.9892129898071289,\n",
       " 0.9891620874404907,\n",
       " 0.9891443252563477,\n",
       " 0.989010751247406]"
      ]
     },
     "execution_count": 22,
     "metadata": {},
     "output_type": "execute_result"
    }
   ],
   "source": [
    "# Get the cosine similarity scores\n",
    "[n['distance'] for n in results[0]]"
   ]
  },
  {
   "cell_type": "markdown",
   "id": "4730f362",
   "metadata": {},
   "source": [
    "#### Building Edge Collection"
   ]
  },
  {
   "cell_type": "markdown",
   "id": "b7c267b2",
   "metadata": {},
   "source": [
    "Subsquently, we are also building the edges collection in Milvus.\n",
    "\n",
    "Note that the edges information of PrimeKG has massive records, so once again we are chunking the data to avoid memory issues."
   ]
  },
  {
   "cell_type": "code",
   "execution_count": 23,
   "id": "a4253483",
   "metadata": {},
   "outputs": [
    {
     "name": "stderr",
     "output_type": "stream",
     "text": [
      "100%|██████████| 500/500 [05:37<00:00,  1.48it/s]\n",
      "  6%|▋         | 1/16 [05:52<1:28:11, 352.75s/it]"
     ]
    },
    {
     "name": "stdout",
     "output_type": "stream",
     "text": [
      "250000\n"
     ]
    },
    {
     "name": "stderr",
     "output_type": "stream",
     "text": [
      "100%|██████████| 500/500 [05:40<00:00,  1.47it/s]\n",
      " 12%|█▎        | 2/16 [11:53<1:23:26, 357.63s/it]"
     ]
    },
    {
     "name": "stdout",
     "output_type": "stream",
     "text": [
      "500000\n"
     ]
    },
    {
     "name": "stderr",
     "output_type": "stream",
     "text": [
      "100%|██████████| 500/500 [05:44<00:00,  1.45it/s]\n",
      " 19%|█▉        | 3/16 [17:57<1:18:04, 360.33s/it]"
     ]
    },
    {
     "name": "stdout",
     "output_type": "stream",
     "text": [
      "750000\n"
     ]
    },
    {
     "name": "stderr",
     "output_type": "stream",
     "text": [
      "2025-06-27 07:30:30,244 [ERROR][handler]: RPC error: [batch_insert], <MilvusException: (code=<bound method _MultiThreadedRendezvous.code of <_MultiThreadedRendezvous of RPC that terminated with:\n",
      "\tstatus = StatusCode.UNAVAILABLE\n",
      "\tdetails = \"failed to connect to all addresses; last error: UNKNOWN: ipv4:127.0.0.1:19530: Failed to connect to remote host: connect: Connection refused (111)\"\n",
      "\tdebug_error_string = \"UNKNOWN:Error received from peer  {grpc_message:\"failed to connect to all addresses; last error: UNKNOWN: ipv4:127.0.0.1:19530: Failed to connect to remote host: connect: Connection refused (111)\", grpc_status:14, created_time:\"2025-06-27T07:30:30.244005098+00:00\"}\"\n",
      ">>, message=[batch_insert] Retry run out of 75 retry times, message=failed to connect to all addresses; last error: UNKNOWN: ipv4:127.0.0.1:19530: Failed to connect to remote host: connect: Connection refused (111))>, <Time:{'RPC start': '2025-06-27 07:26:49.476497', 'RPC error': '2025-06-27 07:30:30.244465'}> (decorators.py:140)\n",
      " 18%|█▊        | 90/500 [04:41<21:20,  3.12s/it]\n",
      " 19%|█▉        | 3/16 [22:56<1:39:24, 458.84s/it]\n"
     ]
    },
    {
     "ename": "MilvusException",
     "evalue": "<MilvusException: (code=<bound method _MultiThreadedRendezvous.code of <_MultiThreadedRendezvous of RPC that terminated with:\n\tstatus = StatusCode.UNAVAILABLE\n\tdetails = \"failed to connect to all addresses; last error: UNKNOWN: ipv4:127.0.0.1:19530: Failed to connect to remote host: connect: Connection refused (111)\"\n\tdebug_error_string = \"UNKNOWN:Error received from peer  {grpc_message:\"failed to connect to all addresses; last error: UNKNOWN: ipv4:127.0.0.1:19530: Failed to connect to remote host: connect: Connection refused (111)\", grpc_status:14, created_time:\"2025-06-27T07:30:30.244005098+00:00\"}\"\n>>, message=[batch_insert] Retry run out of 75 retry times, message=failed to connect to all addresses; last error: UNKNOWN: ipv4:127.0.0.1:19530: Failed to connect to remote host: connect: Connection refused (111))>",
     "output_type": "error",
     "traceback": [
      "\u001b[0;31m---------------------------------------------------------------------------\u001b[0m",
      "\u001b[0;31mMilvusException\u001b[0m                           Traceback (most recent call last)",
      "File \u001b[0;32m~/repositories/AIAgents4Pharma/venv/lib/python3.12/site-packages/IPython/core/magics/execution.py:1364\u001b[0m, in \u001b[0;36mExecutionMagics.time\u001b[0;34m(self, line, cell, local_ns)\u001b[0m\n\u001b[1;32m   1363\u001b[0m \u001b[38;5;28;01mtry\u001b[39;00m:\n\u001b[0;32m-> 1364\u001b[0m     \u001b[43mexec\u001b[49m\u001b[43m(\u001b[49m\u001b[43mcode\u001b[49m\u001b[43m,\u001b[49m\u001b[43m \u001b[49m\u001b[43mglob\u001b[49m\u001b[43m,\u001b[49m\u001b[43m \u001b[49m\u001b[43mlocal_ns\u001b[49m\u001b[43m)\u001b[49m\n\u001b[1;32m   1365\u001b[0m     out\u001b[38;5;241m=\u001b[39m\u001b[38;5;28;01mNone\u001b[39;00m\n",
      "File \u001b[0;32m<timed exec>:58\u001b[0m\n",
      "File \u001b[0;32m~/repositories/AIAgents4Pharma/venv/lib/python3.12/site-packages/pymilvus/orm/collection.py:517\u001b[0m, in \u001b[0;36mCollection.insert\u001b[0;34m(self, data, partition_name, timeout, **kwargs)\u001b[0m\n\u001b[1;32m    516\u001b[0m entities \u001b[38;5;241m=\u001b[39m Prepare\u001b[38;5;241m.\u001b[39mprepare_data(data, \u001b[38;5;28mself\u001b[39m\u001b[38;5;241m.\u001b[39mschema)\n\u001b[0;32m--> 517\u001b[0m \u001b[38;5;28;01mreturn\u001b[39;00m \u001b[43mconn\u001b[49m\u001b[38;5;241;43m.\u001b[39;49m\u001b[43mbatch_insert\u001b[49m\u001b[43m(\u001b[49m\n\u001b[1;32m    518\u001b[0m \u001b[43m    \u001b[49m\u001b[38;5;28;43mself\u001b[39;49m\u001b[38;5;241;43m.\u001b[39;49m\u001b[43m_name\u001b[49m\u001b[43m,\u001b[49m\n\u001b[1;32m    519\u001b[0m \u001b[43m    \u001b[49m\u001b[43mentities\u001b[49m\u001b[43m,\u001b[49m\n\u001b[1;32m    520\u001b[0m \u001b[43m    \u001b[49m\u001b[43mpartition_name\u001b[49m\u001b[43m,\u001b[49m\n\u001b[1;32m    521\u001b[0m \u001b[43m    \u001b[49m\u001b[43mtimeout\u001b[49m\u001b[38;5;241;43m=\u001b[39;49m\u001b[43mtimeout\u001b[49m\u001b[43m,\u001b[49m\n\u001b[1;32m    522\u001b[0m \u001b[43m    \u001b[49m\u001b[43mschema\u001b[49m\u001b[38;5;241;43m=\u001b[39;49m\u001b[38;5;28;43mself\u001b[39;49m\u001b[38;5;241;43m.\u001b[39;49m\u001b[43m_schema_dict\u001b[49m\u001b[43m,\u001b[49m\n\u001b[1;32m    523\u001b[0m \u001b[43m    \u001b[49m\u001b[38;5;241;43m*\u001b[39;49m\u001b[38;5;241;43m*\u001b[39;49m\u001b[43mkwargs\u001b[49m\u001b[43m,\u001b[49m\n\u001b[1;32m    524\u001b[0m \u001b[43m\u001b[49m\u001b[43m)\u001b[49m\n",
      "File \u001b[0;32m~/repositories/AIAgents4Pharma/venv/lib/python3.12/site-packages/pymilvus/decorators.py:141\u001b[0m, in \u001b[0;36merror_handler.<locals>.wrapper.<locals>.handler\u001b[0;34m(*args, **kwargs)\u001b[0m\n\u001b[1;32m    140\u001b[0m     LOGGER\u001b[38;5;241m.\u001b[39merror(\u001b[38;5;124mf\u001b[39m\u001b[38;5;124m\"\u001b[39m\u001b[38;5;124mRPC error: [\u001b[39m\u001b[38;5;132;01m{\u001b[39;00minner_name\u001b[38;5;132;01m}\u001b[39;00m\u001b[38;5;124m], \u001b[39m\u001b[38;5;132;01m{\u001b[39;00me\u001b[38;5;132;01m}\u001b[39;00m\u001b[38;5;124m, <Time:\u001b[39m\u001b[38;5;132;01m{\u001b[39;00mrecord_dict\u001b[38;5;132;01m}\u001b[39;00m\u001b[38;5;124m>\u001b[39m\u001b[38;5;124m\"\u001b[39m)\n\u001b[0;32m--> 141\u001b[0m     \u001b[38;5;28;01mraise\u001b[39;00m e \u001b[38;5;28;01mfrom\u001b[39;00m\u001b[38;5;250m \u001b[39m\u001b[38;5;21;01me\u001b[39;00m\n\u001b[1;32m    142\u001b[0m \u001b[38;5;28;01mexcept\u001b[39;00m grpc\u001b[38;5;241m.\u001b[39mFutureTimeoutError \u001b[38;5;28;01mas\u001b[39;00m e:\n",
      "File \u001b[0;32m~/repositories/AIAgents4Pharma/venv/lib/python3.12/site-packages/pymilvus/decorators.py:137\u001b[0m, in \u001b[0;36merror_handler.<locals>.wrapper.<locals>.handler\u001b[0;34m(*args, **kwargs)\u001b[0m\n\u001b[1;32m    136\u001b[0m     record_dict[\u001b[38;5;124m\"\u001b[39m\u001b[38;5;124mRPC start\u001b[39m\u001b[38;5;124m\"\u001b[39m] \u001b[38;5;241m=\u001b[39m \u001b[38;5;28mstr\u001b[39m(datetime\u001b[38;5;241m.\u001b[39mdatetime\u001b[38;5;241m.\u001b[39mnow())\n\u001b[0;32m--> 137\u001b[0m     \u001b[38;5;28;01mreturn\u001b[39;00m \u001b[43mfunc\u001b[49m\u001b[43m(\u001b[49m\u001b[38;5;241;43m*\u001b[39;49m\u001b[43margs\u001b[49m\u001b[43m,\u001b[49m\u001b[43m \u001b[49m\u001b[38;5;241;43m*\u001b[39;49m\u001b[38;5;241;43m*\u001b[39;49m\u001b[43mkwargs\u001b[49m\u001b[43m)\u001b[49m\n\u001b[1;32m    138\u001b[0m \u001b[38;5;28;01mexcept\u001b[39;00m MilvusException \u001b[38;5;28;01mas\u001b[39;00m e:\n",
      "File \u001b[0;32m~/repositories/AIAgents4Pharma/venv/lib/python3.12/site-packages/pymilvus/decorators.py:173\u001b[0m, in \u001b[0;36mtracing_request.<locals>.wrapper.<locals>.handler\u001b[0;34m(self, *args, **kwargs)\u001b[0m\n\u001b[1;32m    172\u001b[0m     \u001b[38;5;28mself\u001b[39m\u001b[38;5;241m.\u001b[39mset_onetime_loglevel(level)\n\u001b[0;32m--> 173\u001b[0m \u001b[38;5;28;01mreturn\u001b[39;00m \u001b[43mfunc\u001b[49m\u001b[43m(\u001b[49m\u001b[38;5;28;43mself\u001b[39;49m\u001b[43m,\u001b[49m\u001b[43m \u001b[49m\u001b[38;5;241;43m*\u001b[39;49m\u001b[43margs\u001b[49m\u001b[43m,\u001b[49m\u001b[43m \u001b[49m\u001b[38;5;241;43m*\u001b[39;49m\u001b[38;5;241;43m*\u001b[39;49m\u001b[43mkwargs\u001b[49m\u001b[43m)\u001b[49m\n",
      "File \u001b[0;32m~/repositories/AIAgents4Pharma/venv/lib/python3.12/site-packages/pymilvus/decorators.py:92\u001b[0m, in \u001b[0;36mretry_on_rpc_failure.<locals>.wrapper.<locals>.handler\u001b[0;34m(*args, **kwargs)\u001b[0m\n\u001b[1;32m     91\u001b[0m \u001b[38;5;28;01mif\u001b[39;00m timeout(start_time):\n\u001b[0;32m---> 92\u001b[0m     \u001b[38;5;28;01mraise\u001b[39;00m MilvusException(e\u001b[38;5;241m.\u001b[39mcode, \u001b[38;5;124mf\u001b[39m\u001b[38;5;124m\"\u001b[39m\u001b[38;5;132;01m{\u001b[39;00mto_msg\u001b[38;5;132;01m}\u001b[39;00m\u001b[38;5;124m, message=\u001b[39m\u001b[38;5;132;01m{\u001b[39;00me\u001b[38;5;241m.\u001b[39mdetails()\u001b[38;5;132;01m}\u001b[39;00m\u001b[38;5;124m\"\u001b[39m) \u001b[38;5;28;01mfrom\u001b[39;00m\u001b[38;5;250m \u001b[39m\u001b[38;5;21;01me\u001b[39;00m\n\u001b[1;32m     94\u001b[0m \u001b[38;5;28;01mif\u001b[39;00m counter \u001b[38;5;241m>\u001b[39m \u001b[38;5;241m3\u001b[39m:\n",
      "\u001b[0;31mMilvusException\u001b[0m: <MilvusException: (code=<bound method _MultiThreadedRendezvous.code of <_MultiThreadedRendezvous of RPC that terminated with:\n\tstatus = StatusCode.UNAVAILABLE\n\tdetails = \"failed to connect to all addresses; last error: UNKNOWN: ipv4:127.0.0.1:19530: Failed to connect to remote host: connect: Connection refused (111)\"\n\tdebug_error_string = \"UNKNOWN:Error received from peer  {grpc_message:\"failed to connect to all addresses; last error: UNKNOWN: ipv4:127.0.0.1:19530: Failed to connect to remote host: connect: Connection refused (111)\", grpc_status:14, created_time:\"2025-06-27T07:30:30.244005098+00:00\"}\"\n>>, message=[batch_insert] Retry run out of 75 retry times, message=failed to connect to all addresses; last error: UNKNOWN: ipv4:127.0.0.1:19530: Failed to connect to remote host: connect: Connection refused (111))>",
      "\nThe above exception was the direct cause of the following exception:\n",
      "\u001b[0;31mMilvusException\u001b[0m                           Traceback (most recent call last)",
      "File \u001b[0;32m~/repositories/AIAgents4Pharma/venv/lib/python3.12/site-packages/IPython/core/magics/execution.py:1364\u001b[0m, in \u001b[0;36mExecutionMagics.time\u001b[0;34m(self, line, cell, local_ns)\u001b[0m\n\u001b[1;32m   1363\u001b[0m \u001b[38;5;28;01mtry\u001b[39;00m:\n\u001b[0;32m-> 1364\u001b[0m     \u001b[43mexec\u001b[49m\u001b[43m(\u001b[49m\u001b[43mcode\u001b[49m\u001b[43m,\u001b[49m\u001b[43m \u001b[49m\u001b[43mglob\u001b[49m\u001b[43m,\u001b[49m\u001b[43m \u001b[49m\u001b[43mlocal_ns\u001b[49m\u001b[43m)\u001b[49m\n\u001b[1;32m   1365\u001b[0m     out\u001b[38;5;241m=\u001b[39m\u001b[38;5;28;01mNone\u001b[39;00m\n",
      "File \u001b[0;32m<timed exec>:58\u001b[0m\n",
      "File \u001b[0;32m~/repositories/AIAgents4Pharma/venv/lib/python3.12/site-packages/pymilvus/orm/collection.py:517\u001b[0m, in \u001b[0;36mCollection.insert\u001b[0;34m(self, data, partition_name, timeout, **kwargs)\u001b[0m\n\u001b[1;32m    516\u001b[0m entities \u001b[38;5;241m=\u001b[39m Prepare\u001b[38;5;241m.\u001b[39mprepare_data(data, \u001b[38;5;28mself\u001b[39m\u001b[38;5;241m.\u001b[39mschema)\n\u001b[0;32m--> 517\u001b[0m \u001b[38;5;28;01mreturn\u001b[39;00m \u001b[43mconn\u001b[49m\u001b[38;5;241;43m.\u001b[39;49m\u001b[43mbatch_insert\u001b[49m\u001b[43m(\u001b[49m\n\u001b[1;32m    518\u001b[0m \u001b[43m    \u001b[49m\u001b[38;5;28;43mself\u001b[39;49m\u001b[38;5;241;43m.\u001b[39;49m\u001b[43m_name\u001b[49m\u001b[43m,\u001b[49m\n\u001b[1;32m    519\u001b[0m \u001b[43m    \u001b[49m\u001b[43mentities\u001b[49m\u001b[43m,\u001b[49m\n\u001b[1;32m    520\u001b[0m \u001b[43m    \u001b[49m\u001b[43mpartition_name\u001b[49m\u001b[43m,\u001b[49m\n\u001b[1;32m    521\u001b[0m \u001b[43m    \u001b[49m\u001b[43mtimeout\u001b[49m\u001b[38;5;241;43m=\u001b[39;49m\u001b[43mtimeout\u001b[49m\u001b[43m,\u001b[49m\n\u001b[1;32m    522\u001b[0m \u001b[43m    \u001b[49m\u001b[43mschema\u001b[49m\u001b[38;5;241;43m=\u001b[39;49m\u001b[38;5;28;43mself\u001b[39;49m\u001b[38;5;241;43m.\u001b[39;49m\u001b[43m_schema_dict\u001b[49m\u001b[43m,\u001b[49m\n\u001b[1;32m    523\u001b[0m \u001b[43m    \u001b[49m\u001b[38;5;241;43m*\u001b[39;49m\u001b[38;5;241;43m*\u001b[39;49m\u001b[43mkwargs\u001b[49m\u001b[43m,\u001b[49m\n\u001b[1;32m    524\u001b[0m \u001b[43m\u001b[49m\u001b[43m)\u001b[49m\n",
      "File \u001b[0;32m~/repositories/AIAgents4Pharma/venv/lib/python3.12/site-packages/pymilvus/decorators.py:141\u001b[0m, in \u001b[0;36merror_handler.<locals>.wrapper.<locals>.handler\u001b[0;34m(*args, **kwargs)\u001b[0m\n\u001b[1;32m    140\u001b[0m     LOGGER\u001b[38;5;241m.\u001b[39merror(\u001b[38;5;124mf\u001b[39m\u001b[38;5;124m\"\u001b[39m\u001b[38;5;124mRPC error: [\u001b[39m\u001b[38;5;132;01m{\u001b[39;00minner_name\u001b[38;5;132;01m}\u001b[39;00m\u001b[38;5;124m], \u001b[39m\u001b[38;5;132;01m{\u001b[39;00me\u001b[38;5;132;01m}\u001b[39;00m\u001b[38;5;124m, <Time:\u001b[39m\u001b[38;5;132;01m{\u001b[39;00mrecord_dict\u001b[38;5;132;01m}\u001b[39;00m\u001b[38;5;124m>\u001b[39m\u001b[38;5;124m\"\u001b[39m)\n\u001b[0;32m--> 141\u001b[0m     \u001b[38;5;28;01mraise\u001b[39;00m e \u001b[38;5;28;01mfrom\u001b[39;00m\u001b[38;5;250m \u001b[39m\u001b[38;5;21;01me\u001b[39;00m\n\u001b[1;32m    142\u001b[0m \u001b[38;5;28;01mexcept\u001b[39;00m grpc\u001b[38;5;241m.\u001b[39mFutureTimeoutError \u001b[38;5;28;01mas\u001b[39;00m e:\n",
      "File \u001b[0;32m~/repositories/AIAgents4Pharma/venv/lib/python3.12/site-packages/pymilvus/decorators.py:137\u001b[0m, in \u001b[0;36merror_handler.<locals>.wrapper.<locals>.handler\u001b[0;34m(*args, **kwargs)\u001b[0m\n\u001b[1;32m    136\u001b[0m     record_dict[\u001b[38;5;124m\"\u001b[39m\u001b[38;5;124mRPC start\u001b[39m\u001b[38;5;124m\"\u001b[39m] \u001b[38;5;241m=\u001b[39m \u001b[38;5;28mstr\u001b[39m(datetime\u001b[38;5;241m.\u001b[39mdatetime\u001b[38;5;241m.\u001b[39mnow())\n\u001b[0;32m--> 137\u001b[0m     \u001b[38;5;28;01mreturn\u001b[39;00m \u001b[43mfunc\u001b[49m\u001b[43m(\u001b[49m\u001b[38;5;241;43m*\u001b[39;49m\u001b[43margs\u001b[49m\u001b[43m,\u001b[49m\u001b[43m \u001b[49m\u001b[38;5;241;43m*\u001b[39;49m\u001b[38;5;241;43m*\u001b[39;49m\u001b[43mkwargs\u001b[49m\u001b[43m)\u001b[49m\n\u001b[1;32m    138\u001b[0m \u001b[38;5;28;01mexcept\u001b[39;00m MilvusException \u001b[38;5;28;01mas\u001b[39;00m e:\n",
      "File \u001b[0;32m~/repositories/AIAgents4Pharma/venv/lib/python3.12/site-packages/pymilvus/decorators.py:173\u001b[0m, in \u001b[0;36mtracing_request.<locals>.wrapper.<locals>.handler\u001b[0;34m(self, *args, **kwargs)\u001b[0m\n\u001b[1;32m    172\u001b[0m     \u001b[38;5;28mself\u001b[39m\u001b[38;5;241m.\u001b[39mset_onetime_loglevel(level)\n\u001b[0;32m--> 173\u001b[0m \u001b[38;5;28;01mreturn\u001b[39;00m \u001b[43mfunc\u001b[49m\u001b[43m(\u001b[49m\u001b[38;5;28;43mself\u001b[39;49m\u001b[43m,\u001b[49m\u001b[43m \u001b[49m\u001b[38;5;241;43m*\u001b[39;49m\u001b[43margs\u001b[49m\u001b[43m,\u001b[49m\u001b[43m \u001b[49m\u001b[38;5;241;43m*\u001b[39;49m\u001b[38;5;241;43m*\u001b[39;49m\u001b[43mkwargs\u001b[49m\u001b[43m)\u001b[49m\n",
      "File \u001b[0;32m~/repositories/AIAgents4Pharma/venv/lib/python3.12/site-packages/pymilvus/decorators.py:92\u001b[0m, in \u001b[0;36mretry_on_rpc_failure.<locals>.wrapper.<locals>.handler\u001b[0;34m(*args, **kwargs)\u001b[0m\n\u001b[1;32m     91\u001b[0m \u001b[38;5;28;01mif\u001b[39;00m timeout(start_time):\n\u001b[0;32m---> 92\u001b[0m     \u001b[38;5;28;01mraise\u001b[39;00m MilvusException(e\u001b[38;5;241m.\u001b[39mcode, \u001b[38;5;124mf\u001b[39m\u001b[38;5;124m\"\u001b[39m\u001b[38;5;132;01m{\u001b[39;00mto_msg\u001b[38;5;132;01m}\u001b[39;00m\u001b[38;5;124m, message=\u001b[39m\u001b[38;5;132;01m{\u001b[39;00me\u001b[38;5;241m.\u001b[39mdetails()\u001b[38;5;132;01m}\u001b[39;00m\u001b[38;5;124m\"\u001b[39m) \u001b[38;5;28;01mfrom\u001b[39;00m\u001b[38;5;250m \u001b[39m\u001b[38;5;21;01me\u001b[39;00m\n\u001b[1;32m     94\u001b[0m \u001b[38;5;28;01mif\u001b[39;00m counter \u001b[38;5;241m>\u001b[39m \u001b[38;5;241m3\u001b[39m:\n",
      "\u001b[0;31mMilvusException\u001b[0m: <MilvusException: (code=<bound method _MultiThreadedRendezvous.code of <_MultiThreadedRendezvous of RPC that terminated with:\n\tstatus = StatusCode.UNAVAILABLE\n\tdetails = \"failed to connect to all addresses; last error: UNKNOWN: ipv4:127.0.0.1:19530: Failed to connect to remote host: connect: Connection refused (111)\"\n\tdebug_error_string = \"UNKNOWN:Error received from peer  {grpc_message:\"failed to connect to all addresses; last error: UNKNOWN: ipv4:127.0.0.1:19530: Failed to connect to remote host: connect: Connection refused (111)\", grpc_status:14, created_time:\"2025-06-27T07:30:30.244005098+00:00\"}\"\n>>, message=[batch_insert] Retry run out of 75 retry times, message=failed to connect to all addresses; last error: UNKNOWN: ipv4:127.0.0.1:19530: Failed to connect to remote host: connect: Connection refused (111))>",
      "\nThe above exception was the direct cause of the following exception:\n",
      "\u001b[0;31mMilvusException\u001b[0m                           Traceback (most recent call last)",
      "File \u001b[0;32m<timed exec>:58\u001b[0m\n",
      "File \u001b[0;32m~/repositories/AIAgents4Pharma/venv/lib/python3.12/site-packages/pymilvus/orm/collection.py:517\u001b[0m, in \u001b[0;36mCollection.insert\u001b[0;34m(self, data, partition_name, timeout, **kwargs)\u001b[0m\n\u001b[1;32m    515\u001b[0m check_insert_schema(\u001b[38;5;28mself\u001b[39m\u001b[38;5;241m.\u001b[39mschema, data)\n\u001b[1;32m    516\u001b[0m entities \u001b[38;5;241m=\u001b[39m Prepare\u001b[38;5;241m.\u001b[39mprepare_data(data, \u001b[38;5;28mself\u001b[39m\u001b[38;5;241m.\u001b[39mschema)\n\u001b[0;32m--> 517\u001b[0m \u001b[38;5;28;01mreturn\u001b[39;00m \u001b[43mconn\u001b[49m\u001b[38;5;241;43m.\u001b[39;49m\u001b[43mbatch_insert\u001b[49m\u001b[43m(\u001b[49m\n\u001b[1;32m    518\u001b[0m \u001b[43m    \u001b[49m\u001b[38;5;28;43mself\u001b[39;49m\u001b[38;5;241;43m.\u001b[39;49m\u001b[43m_name\u001b[49m\u001b[43m,\u001b[49m\n\u001b[1;32m    519\u001b[0m \u001b[43m    \u001b[49m\u001b[43mentities\u001b[49m\u001b[43m,\u001b[49m\n\u001b[1;32m    520\u001b[0m \u001b[43m    \u001b[49m\u001b[43mpartition_name\u001b[49m\u001b[43m,\u001b[49m\n\u001b[1;32m    521\u001b[0m \u001b[43m    \u001b[49m\u001b[43mtimeout\u001b[49m\u001b[38;5;241;43m=\u001b[39;49m\u001b[43mtimeout\u001b[49m\u001b[43m,\u001b[49m\n\u001b[1;32m    522\u001b[0m \u001b[43m    \u001b[49m\u001b[43mschema\u001b[49m\u001b[38;5;241;43m=\u001b[39;49m\u001b[38;5;28;43mself\u001b[39;49m\u001b[38;5;241;43m.\u001b[39;49m\u001b[43m_schema_dict\u001b[49m\u001b[43m,\u001b[49m\n\u001b[1;32m    523\u001b[0m \u001b[43m    \u001b[49m\u001b[38;5;241;43m*\u001b[39;49m\u001b[38;5;241;43m*\u001b[39;49m\u001b[43mkwargs\u001b[49m\u001b[43m,\u001b[49m\n\u001b[1;32m    524\u001b[0m \u001b[43m\u001b[49m\u001b[43m)\u001b[49m\n",
      "File \u001b[0;32m~/repositories/AIAgents4Pharma/venv/lib/python3.12/site-packages/pymilvus/decorators.py:141\u001b[0m, in \u001b[0;36merror_handler.<locals>.wrapper.<locals>.handler\u001b[0;34m(*args, **kwargs)\u001b[0m\n\u001b[1;32m    139\u001b[0m     record_dict[\u001b[38;5;124m\"\u001b[39m\u001b[38;5;124mRPC error\u001b[39m\u001b[38;5;124m\"\u001b[39m] \u001b[38;5;241m=\u001b[39m \u001b[38;5;28mstr\u001b[39m(datetime\u001b[38;5;241m.\u001b[39mdatetime\u001b[38;5;241m.\u001b[39mnow())\n\u001b[1;32m    140\u001b[0m     LOGGER\u001b[38;5;241m.\u001b[39merror(\u001b[38;5;124mf\u001b[39m\u001b[38;5;124m\"\u001b[39m\u001b[38;5;124mRPC error: [\u001b[39m\u001b[38;5;132;01m{\u001b[39;00minner_name\u001b[38;5;132;01m}\u001b[39;00m\u001b[38;5;124m], \u001b[39m\u001b[38;5;132;01m{\u001b[39;00me\u001b[38;5;132;01m}\u001b[39;00m\u001b[38;5;124m, <Time:\u001b[39m\u001b[38;5;132;01m{\u001b[39;00mrecord_dict\u001b[38;5;132;01m}\u001b[39;00m\u001b[38;5;124m>\u001b[39m\u001b[38;5;124m\"\u001b[39m)\n\u001b[0;32m--> 141\u001b[0m     \u001b[38;5;28;01mraise\u001b[39;00m e \u001b[38;5;28;01mfrom\u001b[39;00m\u001b[38;5;250m \u001b[39m\u001b[38;5;21;01me\u001b[39;00m\n\u001b[1;32m    142\u001b[0m \u001b[38;5;28;01mexcept\u001b[39;00m grpc\u001b[38;5;241m.\u001b[39mFutureTimeoutError \u001b[38;5;28;01mas\u001b[39;00m e:\n\u001b[1;32m    143\u001b[0m     record_dict[\u001b[38;5;124m\"\u001b[39m\u001b[38;5;124mgRPC timeout\u001b[39m\u001b[38;5;124m\"\u001b[39m] \u001b[38;5;241m=\u001b[39m \u001b[38;5;28mstr\u001b[39m(datetime\u001b[38;5;241m.\u001b[39mdatetime\u001b[38;5;241m.\u001b[39mnow())\n",
      "File \u001b[0;32m~/repositories/AIAgents4Pharma/venv/lib/python3.12/site-packages/pymilvus/decorators.py:137\u001b[0m, in \u001b[0;36merror_handler.<locals>.wrapper.<locals>.handler\u001b[0;34m(*args, **kwargs)\u001b[0m\n\u001b[1;32m    135\u001b[0m \u001b[38;5;28;01mtry\u001b[39;00m:\n\u001b[1;32m    136\u001b[0m     record_dict[\u001b[38;5;124m\"\u001b[39m\u001b[38;5;124mRPC start\u001b[39m\u001b[38;5;124m\"\u001b[39m] \u001b[38;5;241m=\u001b[39m \u001b[38;5;28mstr\u001b[39m(datetime\u001b[38;5;241m.\u001b[39mdatetime\u001b[38;5;241m.\u001b[39mnow())\n\u001b[0;32m--> 137\u001b[0m     \u001b[38;5;28;01mreturn\u001b[39;00m \u001b[43mfunc\u001b[49m\u001b[43m(\u001b[49m\u001b[38;5;241;43m*\u001b[39;49m\u001b[43margs\u001b[49m\u001b[43m,\u001b[49m\u001b[43m \u001b[49m\u001b[38;5;241;43m*\u001b[39;49m\u001b[38;5;241;43m*\u001b[39;49m\u001b[43mkwargs\u001b[49m\u001b[43m)\u001b[49m\n\u001b[1;32m    138\u001b[0m \u001b[38;5;28;01mexcept\u001b[39;00m MilvusException \u001b[38;5;28;01mas\u001b[39;00m e:\n\u001b[1;32m    139\u001b[0m     record_dict[\u001b[38;5;124m\"\u001b[39m\u001b[38;5;124mRPC error\u001b[39m\u001b[38;5;124m\"\u001b[39m] \u001b[38;5;241m=\u001b[39m \u001b[38;5;28mstr\u001b[39m(datetime\u001b[38;5;241m.\u001b[39mdatetime\u001b[38;5;241m.\u001b[39mnow())\n",
      "File \u001b[0;32m~/repositories/AIAgents4Pharma/venv/lib/python3.12/site-packages/pymilvus/decorators.py:173\u001b[0m, in \u001b[0;36mtracing_request.<locals>.wrapper.<locals>.handler\u001b[0;34m(self, *args, **kwargs)\u001b[0m\n\u001b[1;32m    171\u001b[0m \u001b[38;5;28;01mif\u001b[39;00m level:\n\u001b[1;32m    172\u001b[0m     \u001b[38;5;28mself\u001b[39m\u001b[38;5;241m.\u001b[39mset_onetime_loglevel(level)\n\u001b[0;32m--> 173\u001b[0m \u001b[38;5;28;01mreturn\u001b[39;00m \u001b[43mfunc\u001b[49m\u001b[43m(\u001b[49m\u001b[38;5;28;43mself\u001b[39;49m\u001b[43m,\u001b[49m\u001b[43m \u001b[49m\u001b[38;5;241;43m*\u001b[39;49m\u001b[43margs\u001b[49m\u001b[43m,\u001b[49m\u001b[43m \u001b[49m\u001b[38;5;241;43m*\u001b[39;49m\u001b[38;5;241;43m*\u001b[39;49m\u001b[43mkwargs\u001b[49m\u001b[43m)\u001b[49m\n",
      "File \u001b[0;32m~/repositories/AIAgents4Pharma/venv/lib/python3.12/site-packages/pymilvus/decorators.py:92\u001b[0m, in \u001b[0;36mretry_on_rpc_failure.<locals>.wrapper.<locals>.handler\u001b[0;34m(*args, **kwargs)\u001b[0m\n\u001b[1;32m     90\u001b[0m     \u001b[38;5;28;01mraise\u001b[39;00m e \u001b[38;5;28;01mfrom\u001b[39;00m\u001b[38;5;250m \u001b[39m\u001b[38;5;21;01me\u001b[39;00m\n\u001b[1;32m     91\u001b[0m \u001b[38;5;28;01mif\u001b[39;00m timeout(start_time):\n\u001b[0;32m---> 92\u001b[0m     \u001b[38;5;28;01mraise\u001b[39;00m MilvusException(e\u001b[38;5;241m.\u001b[39mcode, \u001b[38;5;124mf\u001b[39m\u001b[38;5;124m\"\u001b[39m\u001b[38;5;132;01m{\u001b[39;00mto_msg\u001b[38;5;132;01m}\u001b[39;00m\u001b[38;5;124m, message=\u001b[39m\u001b[38;5;132;01m{\u001b[39;00me\u001b[38;5;241m.\u001b[39mdetails()\u001b[38;5;132;01m}\u001b[39;00m\u001b[38;5;124m\"\u001b[39m) \u001b[38;5;28;01mfrom\u001b[39;00m\u001b[38;5;250m \u001b[39m\u001b[38;5;21;01me\u001b[39;00m\n\u001b[1;32m     94\u001b[0m \u001b[38;5;28;01mif\u001b[39;00m counter \u001b[38;5;241m>\u001b[39m \u001b[38;5;241m3\u001b[39m:\n\u001b[1;32m     95\u001b[0m     retry_msg \u001b[38;5;241m=\u001b[39m (\n\u001b[1;32m     96\u001b[0m         \u001b[38;5;124mf\u001b[39m\u001b[38;5;124m\"\u001b[39m\u001b[38;5;124m[\u001b[39m\u001b[38;5;132;01m{\u001b[39;00mfunc\u001b[38;5;241m.\u001b[39m\u001b[38;5;18m__name__\u001b[39m\u001b[38;5;132;01m}\u001b[39;00m\u001b[38;5;124m] retry:\u001b[39m\u001b[38;5;132;01m{\u001b[39;00mcounter\u001b[38;5;132;01m}\u001b[39;00m\u001b[38;5;124m, cost: \u001b[39m\u001b[38;5;132;01m{\u001b[39;00mback_off\u001b[38;5;132;01m:\u001b[39;00m\u001b[38;5;124m.2f\u001b[39m\u001b[38;5;132;01m}\u001b[39;00m\u001b[38;5;124ms, \u001b[39m\u001b[38;5;124m\"\u001b[39m\n\u001b[1;32m     97\u001b[0m         \u001b[38;5;124mf\u001b[39m\u001b[38;5;124m\"\u001b[39m\u001b[38;5;124mreason: <\u001b[39m\u001b[38;5;132;01m{\u001b[39;00me\u001b[38;5;241m.\u001b[39m\u001b[38;5;18m__class__\u001b[39m\u001b[38;5;241m.\u001b[39m\u001b[38;5;18m__name__\u001b[39m\u001b[38;5;132;01m}\u001b[39;00m\u001b[38;5;124m: \u001b[39m\u001b[38;5;132;01m{\u001b[39;00me\u001b[38;5;241m.\u001b[39mcode()\u001b[38;5;132;01m}\u001b[39;00m\u001b[38;5;124m, \u001b[39m\u001b[38;5;132;01m{\u001b[39;00me\u001b[38;5;241m.\u001b[39mdetails()\u001b[38;5;132;01m}\u001b[39;00m\u001b[38;5;124m>\u001b[39m\u001b[38;5;124m\"\u001b[39m\n\u001b[1;32m     98\u001b[0m     )\n",
      "\u001b[0;31mMilvusException\u001b[0m: <MilvusException: (code=<bound method _MultiThreadedRendezvous.code of <_MultiThreadedRendezvous of RPC that terminated with:\n\tstatus = StatusCode.UNAVAILABLE\n\tdetails = \"failed to connect to all addresses; last error: UNKNOWN: ipv4:127.0.0.1:19530: Failed to connect to remote host: connect: Connection refused (111)\"\n\tdebug_error_string = \"UNKNOWN:Error received from peer  {grpc_message:\"failed to connect to all addresses; last error: UNKNOWN: ipv4:127.0.0.1:19530: Failed to connect to remote host: connect: Connection refused (111)\", grpc_status:14, created_time:\"2025-06-27T07:30:30.244005098+00:00\"}\"\n>>, message=[batch_insert] Retry run out of 75 retry times, message=failed to connect to all addresses; last error: UNKNOWN: ipv4:127.0.0.1:19530: Failed to connect to remote host: connect: Connection refused (111))>"
     ]
    }
   ],
   "source": [
    "%%time\n",
    "\n",
    "# Define collection name\n",
    "edge_coll_name = f\"{milvus_database}_edges\"\n",
    "\n",
    "# Define schema\n",
    "edge_fields = [\n",
    "    FieldSchema(name=\"triplet_index\", dtype=DataType.INT64, is_primary=True, auto_id=False),\n",
    "    FieldSchema(name=\"head_id\", dtype=DataType.VARCHAR, max_length=1024),\n",
    "    FieldSchema(name=\"head_index\", dtype=DataType.INT64),\n",
    "    FieldSchema(name=\"tail_id\", dtype=DataType.VARCHAR, max_length=1024),\n",
    "    FieldSchema(name=\"tail_index\", dtype=DataType.INT64),\n",
    "    FieldSchema(name=\"edge_type\", dtype=DataType.VARCHAR, max_length=1024),\n",
    "    FieldSchema(name=\"display_relation\", dtype=DataType.VARCHAR, max_length=1024),\n",
    "    FieldSchema(name=\"feat\", dtype=DataType.VARCHAR, max_length=40960),\n",
    "    FieldSchema(name=\"feat_emb\", dtype=DataType.FLOAT_VECTOR, dim=1536),\n",
    "]\n",
    "edge_schema = CollectionSchema(fields=edge_fields, description=\"Schema for edges collection\")\n",
    "\n",
    "# Create collection if not exists\n",
    "if not utility.has_collection(edge_coll_name):\n",
    "    collection = Collection(name=edge_coll_name, schema=edge_schema)\n",
    "else:\n",
    "    collection = Collection(name=edge_coll_name)\n",
    "\n",
    "# Create indexes\n",
    "collection.create_index(field_name=\"triplet_index\", index_params={\"index_type\": \"STL_SORT\"}, index_name=\"triplet_index_index\")\n",
    "collection.create_index(field_name=\"head_index\", index_params={\"index_type\": \"STL_SORT\"}, index_name=\"head_index_index\")\n",
    "collection.create_index(field_name=\"tail_index\", index_params={\"index_type\": \"STL_SORT\"}, index_name=\"tail_index_index\")\n",
    "collection.create_index(field_name=\"feat_emb\", index_params={\"index_type\": \"AUTOINDEX\", \"metric_type\": \"COSINE\"}, index_name=\"feat_emb_index\")\n",
    "\n",
    "# Iterate over chunked edges embedding df\n",
    "for edges_df in tqdm(edges_embedding_df):\n",
    "    # Merge enrichment with embedding\n",
    "    merged_edges_df = edges_enrichment_df.merge(\n",
    "        edges_df[[\"triplet_index\", \"edge_emb\"]],\n",
    "        on=\"triplet_index\",\n",
    "        how=\"inner\"\n",
    "    )\n",
    "\n",
    "    # Prepare data fields in column-wise format\n",
    "    data = [\n",
    "        merged_edges_df[\"triplet_index\"].to_arrow().to_pylist(),\n",
    "        merged_edges_df[\"head_id\"].to_arrow().to_pylist(),\n",
    "        merged_edges_df[\"head_index\"].to_arrow().to_pylist(),\n",
    "        merged_edges_df[\"tail_id\"].to_arrow().to_pylist(),\n",
    "        merged_edges_df[\"tail_index\"].to_arrow().to_pylist(),\n",
    "        merged_edges_df[\"edge_type_str\"].to_arrow().to_pylist(),\n",
    "        merged_edges_df[\"display_relation\"].to_arrow().to_pylist(),\n",
    "        merged_edges_df[\"feat\"].to_arrow().to_pylist(),\n",
    "        cp.asarray(merged_edges_df[\"edge_emb\"].list.leaves).astype(cp.float32)\n",
    "            .reshape(merged_edges_df.shape[0], -1)\n",
    "            .tolist(),\n",
    "    ]\n",
    "\n",
    "    # Insert in chunks\n",
    "    batch_size = 500\n",
    "    for i in tqdm(range(0, len(data[0]), batch_size)):\n",
    "        batch_data = [d[i:i+batch_size] for d in data]\n",
    "        collection.insert(batch_data)\n",
    "\n",
    "    # Flush to ensure persistence\n",
    "    collection.flush()\n",
    "\n",
    "    # Print collection stats\n",
    "    print(collection.num_entities)\n"
   ]
  },
  {
   "cell_type": "code",
   "execution_count": null,
   "id": "394748bf",
   "metadata": {},
   "outputs": [
    {
     "data": {
      "text/plain": [
       "['t2kg_primekg_nodes_disease',\n",
       " 't2kg_primekg_nodes_drug',\n",
       " 't2kg_primekg_nodes_molecular_function',\n",
       " 't2kg_primekg_edges',\n",
       " 't2kg_primekg_nodes',\n",
       " 't2kg_primekg_nodes_biological_process',\n",
       " 't2kg_primekg_nodes_cellular_component',\n",
       " 't2kg_primekg_nodes_gene_protein']"
      ]
     },
     "execution_count": 73,
     "metadata": {},
     "output_type": "execute_result"
    }
   ],
   "source": [
    "# List all collections\n",
    "for coll in utility.list_collections():\n",
    "    print(f\"Collection: {coll}\")\n",
    "\n",
    "    # Load the collection to get stats\n",
    "    collection = Collection(name=coll)\n",
    "    print(collection.num_entities)"
   ]
  },
  {
   "cell_type": "code",
   "execution_count": null,
   "id": "6797cf47",
   "metadata": {},
   "outputs": [
    {
     "name": "stdout",
     "output_type": "stream",
     "text": [
      "CPU times: user 9.91 ms, sys: 1.88 ms, total: 11.8 ms\n",
      "Wall time: 1.18 s\n"
     ]
    },
    {
     "data": {
      "text/plain": [
       "data: [[{'triplet_index': 1214608, 'distance': 0.9999998807907104, 'entity': {'tail_id': 'Carbutamide_(15801)', 'edge_type': 'drug|synergistic interaction|drug', 'feat': 'Linagliptin (drug) has a direct relationship of drug_drug:synergistic interaction with Carbutamide (drug).', 'head_id': 'Linagliptin_(15598)'}}, {'triplet_index': 1563071, 'distance': 0.9767932891845703, 'entity': {'tail_id': 'Carmegliptin_(21218)', 'edge_type': 'drug|synergistic interaction|drug', 'feat': 'Linagliptin (drug) has a direct relationship of drug_drug:synergistic interaction with Carmegliptin (drug).', 'head_id': 'Linagliptin_(15598)'}}, {'triplet_index': 1214400, 'distance': 0.9743505120277405, 'entity': {'tail_id': 'Carbutamide_(15801)', 'edge_type': 'drug|synergistic interaction|drug', 'feat': 'Sitagliptin (drug) has a direct relationship of drug_drug:synergistic interaction with Carbutamide (drug).', 'head_id': 'Sitagliptin_(15501)'}}, {'triplet_index': 2532955, 'distance': 0.9738765954971313, 'entity': {'tail_id': 'Carbomycin_(15643)', 'edge_type': 'drug|synergistic interaction|drug', 'feat': 'Linagliptin (drug) has a direct relationship of drug_drug:synergistic interaction with Carbomycin (drug).', 'head_id': 'Linagliptin_(15598)'}}, {'triplet_index': 1390209, 'distance': 0.9737455248832703, 'entity': {'tail_id': 'Linagliptin_(15598)', 'edge_type': 'drug|synergistic interaction|drug', 'feat': 'Carbutamide (drug) has a direct relationship of drug_drug:synergistic interaction with Linagliptin (drug).', 'head_id': 'Carbutamide_(15801)'}}, {'triplet_index': 2145087, 'distance': 0.9732385873794556, 'entity': {'tail_id': 'Caroverine_(15722)', 'edge_type': 'drug|synergistic interaction|drug', 'feat': 'Linagliptin (drug) has a direct relationship of drug_drug:synergistic interaction with Caroverine (drug).', 'head_id': 'Linagliptin_(15598)'}}, {'triplet_index': 1176360, 'distance': 0.9717762470245361, 'entity': {'tail_id': 'Glyburide_(14280)', 'edge_type': 'drug|synergistic interaction|drug', 'feat': 'Linagliptin (drug) has a direct relationship of drug_drug:synergistic interaction with Glyburide (drug).', 'head_id': 'Linagliptin_(15598)'}}, {'triplet_index': 2048083, 'distance': 0.9714594483375549, 'entity': {'tail_id': 'Carboxyamidotriazole_(15672)', 'edge_type': 'drug|synergistic interaction|drug', 'feat': 'Linagliptin (drug) has a direct relationship of drug_drug:synergistic interaction with Carboxyamidotriazole (drug).', 'head_id': 'Linagliptin_(15598)'}}, {'triplet_index': 696273, 'distance': 0.970791220664978, 'entity': {'tail_id': 'Caroxazone_(20389)', 'edge_type': 'drug|synergistic interaction|drug', 'feat': 'Linagliptin (drug) has a direct relationship of drug_drug:synergistic interaction with Caroxazone (drug).', 'head_id': 'Linagliptin_(15598)'}}, {'triplet_index': 755881, 'distance': 0.9696710109710693, 'entity': {'tail_id': 'Carbamazepine_(14956)', 'edge_type': 'drug|synergistic interaction|drug', 'feat': 'Linagliptin (drug) has a direct relationship of drug_drug:synergistic interaction with Carbamazepine (drug).', 'head_id': 'Linagliptin_(15598)'}}]]"
      ]
     },
     "execution_count": 88,
     "metadata": {},
     "output_type": "execute_result"
    }
   ],
   "source": [
    "%%time\n",
    "\n",
    "# Assume node_coll_name is defined and collection exists\n",
    "collection = Collection('t2kg_primekg_edges')\n",
    "\n",
    "# Load the collection into memory before query\n",
    "collection.load()\n",
    "\n",
    "# Vector similarity search in Milvus\n",
    "vector_to_search = merged_edges_df[\"edge_emb\"].iloc[0]  # or .loc[0], both work\n",
    "search_params = {\"metric_type\": \"COSINE\"}\n",
    "results = collection.search(\n",
    "    data=[vector_to_search],\n",
    "    anns_field=\"feat_emb\",\n",
    "    param=search_params,\n",
    "    limit=10,\n",
    "    output_fields=[\"head_id\", \"tail_id\", \"edge_type\", \"feat\"]\n",
    ")"
   ]
  },
  {
   "cell_type": "code",
   "execution_count": 89,
   "id": "94911253",
   "metadata": {},
   "outputs": [
    {
     "data": {
      "text/html": [
       "<div>\n",
       "<style scoped>\n",
       "    .dataframe tbody tr th:only-of-type {\n",
       "        vertical-align: middle;\n",
       "    }\n",
       "\n",
       "    .dataframe tbody tr th {\n",
       "        vertical-align: top;\n",
       "    }\n",
       "\n",
       "    .dataframe thead th {\n",
       "        text-align: right;\n",
       "    }\n",
       "</style>\n",
       "<table border=\"1\" class=\"dataframe\">\n",
       "  <thead>\n",
       "    <tr style=\"text-align: right;\">\n",
       "      <th></th>\n",
       "      <th>triplet_index</th>\n",
       "      <th>primekg_head_index</th>\n",
       "      <th>primekg_tail_index</th>\n",
       "      <th>head_id</th>\n",
       "      <th>tail_id</th>\n",
       "      <th>display_relation</th>\n",
       "      <th>edge_type</th>\n",
       "      <th>edge_type_str</th>\n",
       "      <th>head_index</th>\n",
       "      <th>tail_index</th>\n",
       "      <th>feat</th>\n",
       "      <th>edge_emb</th>\n",
       "    </tr>\n",
       "  </thead>\n",
       "  <tbody>\n",
       "    <tr>\n",
       "      <th>2</th>\n",
       "      <td>1214610</td>\n",
       "      <td>14408</td>\n",
       "      <td>15801</td>\n",
       "      <td>Enzalutamide_(14408)</td>\n",
       "      <td>Carbutamide_(15801)</td>\n",
       "      <td>synergistic interaction</td>\n",
       "      <td>[drug, synergistic interaction, drug]</td>\n",
       "      <td>drug|synergistic interaction|drug</td>\n",
       "      <td>14197</td>\n",
       "      <td>15480</td>\n",
       "      <td>Enzalutamide (drug) has a direct relationship ...</td>\n",
       "      <td>[-0.021125574, -0.022837382, 0.009667073, -0.0...</td>\n",
       "    </tr>\n",
       "  </tbody>\n",
       "</table>\n",
       "</div>"
      ],
      "text/plain": [
       "   triplet_index  primekg_head_index  primekg_tail_index  \\\n",
       "2        1214610               14408               15801   \n",
       "\n",
       "                head_id              tail_id         display_relation  \\\n",
       "2  Enzalutamide_(14408)  Carbutamide_(15801)  synergistic interaction   \n",
       "\n",
       "                               edge_type                      edge_type_str  \\\n",
       "2  [drug, synergistic interaction, drug]  drug|synergistic interaction|drug   \n",
       "\n",
       "   head_index  tail_index                                               feat  \\\n",
       "2       14197       15480  Enzalutamide (drug) has a direct relationship ...   \n",
       "\n",
       "                                            edge_emb  \n",
       "2  [-0.021125574, -0.022837382, 0.009667073, -0.0...  "
      ]
     },
     "execution_count": 89,
     "metadata": {},
     "output_type": "execute_result"
    }
   ],
   "source": [
    "# Check the ground truth for the search\n",
    "merged_edges_df.loc[2]"
   ]
  },
  {
   "cell_type": "code",
   "execution_count": 82,
   "id": "03bce0b8",
   "metadata": {},
   "outputs": [
    {
     "data": {
      "text/plain": [
       "[1214608,\n",
       " 1563071,\n",
       " 1214400,\n",
       " 2532955,\n",
       " 1390209,\n",
       " 2145087,\n",
       " 1176360,\n",
       " 2048083,\n",
       " 696273,\n",
       " 755881]"
      ]
     },
     "execution_count": 82,
     "metadata": {},
     "output_type": "execute_result"
    }
   ],
   "source": [
    "# Get node indices from the results\n",
    "[n['triplet_index'] for n in results[0]]"
   ]
  },
  {
   "cell_type": "code",
   "execution_count": 81,
   "id": "978a0e33",
   "metadata": {},
   "outputs": [
    {
     "data": {
      "text/plain": [
       "[0.9999998807907104,\n",
       " 0.9767932891845703,\n",
       " 0.9743505120277405,\n",
       " 0.9738765954971313,\n",
       " 0.9737454652786255,\n",
       " 0.9732384085655212,\n",
       " 0.9717762470245361,\n",
       " 0.9714594483375549,\n",
       " 0.970791220664978,\n",
       " 0.9696710109710693]"
      ]
     },
     "execution_count": 81,
     "metadata": {},
     "output_type": "execute_result"
    }
   ],
   "source": [
    "# Get the cosine similarity scores\n",
    "[n['distance'] for n in results[0]]"
   ]
  },
  {
   "cell_type": "code",
   "execution_count": 87,
   "id": "9cfe99f0",
   "metadata": {},
   "outputs": [
    {
     "data": {
      "text/plain": [
       "['t2kg_primekg_nodes_cellular_component',\n",
       " 't2kg_primekg_nodes_disease',\n",
       " 't2kg_primekg_nodes_drug',\n",
       " 't2kg_primekg_edges',\n",
       " 't2kg_primekg_nodes',\n",
       " 't2kg_primekg_nodes_biological_process',\n",
       " 't2kg_primekg_nodes_gene_protein',\n",
       " 't2kg_primekg_nodes_molecular_function']"
      ]
     },
     "execution_count": 87,
     "metadata": {},
     "output_type": "execute_result"
    }
   ],
   "source": [
    "milvus_client.list_collections()"
   ]
  }
 ],
 "metadata": {
  "kernelspec": {
   "display_name": "venv",
   "language": "python",
   "name": "python3"
  },
  "language_info": {
   "codemirror_mode": {
    "name": "ipython",
    "version": 3
   },
   "file_extension": ".py",
   "mimetype": "text/x-python",
   "name": "python",
   "nbconvert_exporter": "python",
   "pygments_lexer": "ipython3",
   "version": "3.12.3"
  }
 },
 "nbformat": 4,
 "nbformat_minor": 5
}
