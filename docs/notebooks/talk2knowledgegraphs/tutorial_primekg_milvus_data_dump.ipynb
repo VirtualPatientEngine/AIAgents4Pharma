{
 "cells": [
  {
   "cell_type": "markdown",
   "id": "0de0f1c5",
   "metadata": {},
   "source": [
    "In this tutorial, we will prepare Milvus database for storing and searching nodes and edges of a graph.\n",
    "\n",
    "In particular, we are using PrimeKG multimodal data from the BioBridge project."
   ]
  },
  {
   "cell_type": "code",
   "execution_count": 1,
   "id": "0f7a0c13",
   "metadata": {},
   "outputs": [],
   "source": [
    "# Load necessary libraries\n",
    "import os\n",
    "import glob\n",
    "import hydra\n",
    "import cudf\n",
    "import cupy as cp\n",
    "from pymilvus import (\n",
    "    db,\n",
    "    connections,\n",
    "    FieldSchema,\n",
    "    CollectionSchema,\n",
    "    DataType,\n",
    "    Collection,\n",
    "    utility,\n",
    "    MilvusClient\n",
    ")\n",
    "from tqdm import tqdm\n",
    "import time"
   ]
  },
  {
   "cell_type": "markdown",
   "id": "ac57d9a5",
   "metadata": {},
   "source": [
    "### Loading BioBridge-PrimeKG Multimodal Data"
   ]
  },
  {
   "cell_type": "markdown",
   "id": "7a9e8eb8",
   "metadata": {},
   "source": [
    "First, we need to get the path to the directory containing the parquet files of nodes and edges.\n",
    "\n",
    "For nodes and edges, we have a separate folder that contains its enrichment and embeddings."
   ]
  },
  {
   "cell_type": "code",
   "execution_count": 2,
   "id": "ff16637a",
   "metadata": {},
   "outputs": [
    {
     "data": {
      "text/plain": [
       "{'_target_': 'talk2knowledgegraphs.tools.multimodal_subgraph_extraction', 'ollama_embeddings': ['nomic-embed-text'], 'temperature': 0.1, 'streaming': False, 'topk': 5, 'topk_e': 5, 'cost_e': 0.5, 'c_const': 0.01, 'root': -1, 'num_clusters': 1, 'pruning': 'gw', 'verbosity_level': 0, 'node_id_column': 'node_id', 'node_attr_column': 'node_attr', 'edge_src_column': 'edge_src', 'edge_attr_column': 'edge_attr', 'edge_dst_column': 'edge_dst', 'node_colors_dict': {'gene/protein': '#6a79f7', 'molecular_function': '#82cafc', 'cellular_component': '#3f9b0b', 'biological_process': '#c5c9c7', 'drug': '#c4a661', 'disease': '#80013f'}, 'biobridge': {'source': '/mnt/blockstorage/biobridge_multimodal/', 'node_type': ['gene/protein', 'molecular_function', 'cellular_component', 'biological_process', 'drug', 'disease']}}"
      ]
     },
     "execution_count": 2,
     "metadata": {},
     "output_type": "execute_result"
    }
   ],
   "source": [
    "# Load hydra configuration\n",
    "with hydra.initialize(version_base=None, config_path=\"../../../aiagents4pharma/talk2knowledgegraphs/configs\"):\n",
    "    cfg = hydra.compose(\n",
    "        config_name=\"config\", overrides=[\"tools/multimodal_subgraph_extraction=default\"]\n",
    "    )\n",
    "    cfg = cfg.tools.multimodal_subgraph_extraction\n",
    "cfg"
   ]
  },
  {
   "cell_type": "code",
   "execution_count": 3,
   "id": "a9854940",
   "metadata": {},
   "outputs": [],
   "source": [
    "# You can set the source directory for biobridge data here\n",
    "cfg.biobridge.source = \"/mnt/blockstorage/biobridge_multimodal\""
   ]
  },
  {
   "cell_type": "code",
   "execution_count": 4,
   "id": "ecdb3496",
   "metadata": {},
   "outputs": [
    {
     "name": "stdout",
     "output_type": "stream",
     "text": [
      "nodes enrichment\n",
      "['/mnt/blockstorage/biobridge_multimodal/nodes/enrichment/drug.parquet.gzip', '/mnt/blockstorage/biobridge_multimodal/nodes/enrichment/cellular_component.parquet.gzip', '/mnt/blockstorage/biobridge_multimodal/nodes/enrichment/gene_protein.parquet.gzip', '/mnt/blockstorage/biobridge_multimodal/nodes/enrichment/disease.parquet.gzip', '/mnt/blockstorage/biobridge_multimodal/nodes/enrichment/biological_process.parquet.gzip', '/mnt/blockstorage/biobridge_multimodal/nodes/enrichment/molecular_function.parquet.gzip']\n",
      "nodes embedding\n",
      "['/mnt/blockstorage/biobridge_multimodal/nodes/embedding/drug.parquet.gzip', '/mnt/blockstorage/biobridge_multimodal/nodes/embedding/cellular_component.parquet.gzip', '/mnt/blockstorage/biobridge_multimodal/nodes/embedding/gene_protein.parquet.gzip', '/mnt/blockstorage/biobridge_multimodal/nodes/embedding/disease.parquet.gzip', '/mnt/blockstorage/biobridge_multimodal/nodes/embedding/biological_process.parquet.gzip', '/mnt/blockstorage/biobridge_multimodal/nodes/embedding/molecular_function.parquet.gzip']\n",
      "edges enrichment\n",
      "['/mnt/blockstorage/biobridge_multimodal/edges/enrichment/edges.parquet.gzip']\n",
      "edges embedding\n",
      "['/mnt/blockstorage/biobridge_multimodal/edges/embedding/edges_3050000.parquet.gzip', '/mnt/blockstorage/biobridge_multimodal/edges/embedding/edges_2250000.parquet.gzip', '/mnt/blockstorage/biobridge_multimodal/edges/embedding/edges_1150000.parquet.gzip', '/mnt/blockstorage/biobridge_multimodal/edges/embedding/edges_600000.parquet.gzip', '/mnt/blockstorage/biobridge_multimodal/edges/embedding/edges_1550000.parquet.gzip', '/mnt/blockstorage/biobridge_multimodal/edges/embedding/edges_1750000.parquet.gzip', '/mnt/blockstorage/biobridge_multimodal/edges/embedding/edges_3100000.parquet.gzip', '/mnt/blockstorage/biobridge_multimodal/edges/embedding/edges_1600000.parquet.gzip', '/mnt/blockstorage/biobridge_multimodal/edges/embedding/edges_2750000.parquet.gzip', '/mnt/blockstorage/biobridge_multimodal/edges/embedding/edges_2950000.parquet.gzip', '/mnt/blockstorage/biobridge_multimodal/edges/embedding/edges_3700000.parquet.gzip', '/mnt/blockstorage/biobridge_multimodal/edges/embedding/edges_500000.parquet.gzip', '/mnt/blockstorage/biobridge_multimodal/edges/embedding/edges_800000.parquet.gzip', '/mnt/blockstorage/biobridge_multimodal/edges/embedding/edges_1050000.parquet.gzip', '/mnt/blockstorage/biobridge_multimodal/edges/embedding/edges_300000.parquet.gzip', '/mnt/blockstorage/biobridge_multimodal/edges/embedding/edges_250000.parquet.gzip', '/mnt/blockstorage/biobridge_multimodal/edges/embedding/edges_3600000.parquet.gzip', '/mnt/blockstorage/biobridge_multimodal/edges/embedding/edges_900000.parquet.gzip', '/mnt/blockstorage/biobridge_multimodal/edges/embedding/edges_2400000.parquet.gzip', '/mnt/blockstorage/biobridge_multimodal/edges/embedding/edges_1100000.parquet.gzip', '/mnt/blockstorage/biobridge_multimodal/edges/embedding/edges_3450000.parquet.gzip', '/mnt/blockstorage/biobridge_multimodal/edges/embedding/edges_400000.parquet.gzip', '/mnt/blockstorage/biobridge_multimodal/edges/embedding/edges_1500000.parquet.gzip', '/mnt/blockstorage/biobridge_multimodal/edges/embedding/edges_0.parquet.gzip', '/mnt/blockstorage/biobridge_multimodal/edges/embedding/edges_1250000.parquet.gzip', '/mnt/blockstorage/biobridge_multimodal/edges/embedding/edges_3900000.parquet.gzip', '/mnt/blockstorage/biobridge_multimodal/edges/embedding/edges_1400000.parquet.gzip', '/mnt/blockstorage/biobridge_multimodal/edges/embedding/edges_50000.parquet.gzip', '/mnt/blockstorage/biobridge_multimodal/edges/embedding/edges_1450000.parquet.gzip', '/mnt/blockstorage/biobridge_multimodal/edges/embedding/edges_1800000.parquet.gzip', '/mnt/blockstorage/biobridge_multimodal/edges/embedding/edges_1000000.parquet.gzip', '/mnt/blockstorage/biobridge_multimodal/edges/embedding/edges_1950000.parquet.gzip', '/mnt/blockstorage/biobridge_multimodal/edges/embedding/edges_2100000.parquet.gzip', '/mnt/blockstorage/biobridge_multimodal/edges/embedding/edges_2350000.parquet.gzip', '/mnt/blockstorage/biobridge_multimodal/edges/embedding/edges_3500000.parquet.gzip', '/mnt/blockstorage/biobridge_multimodal/edges/embedding/edges_3750000.parquet.gzip', '/mnt/blockstorage/biobridge_multimodal/edges/embedding/edges_2800000.parquet.gzip', '/mnt/blockstorage/biobridge_multimodal/edges/embedding/edges_1350000.parquet.gzip', '/mnt/blockstorage/biobridge_multimodal/edges/embedding/edges_150000.parquet.gzip', '/mnt/blockstorage/biobridge_multimodal/edges/embedding/edges_2500000.parquet.gzip', '/mnt/blockstorage/biobridge_multimodal/edges/embedding/edges_450000.parquet.gzip', '/mnt/blockstorage/biobridge_multimodal/edges/embedding/edges_850000.parquet.gzip', '/mnt/blockstorage/biobridge_multimodal/edges/embedding/edges_1850000.parquet.gzip', '/mnt/blockstorage/biobridge_multimodal/edges/embedding/edges_3000000.parquet.gzip', '/mnt/blockstorage/biobridge_multimodal/edges/embedding/edges_550000.parquet.gzip', '/mnt/blockstorage/biobridge_multimodal/edges/embedding/edges_200000.parquet.gzip', '/mnt/blockstorage/biobridge_multimodal/edges/embedding/edges_3300000.parquet.gzip', '/mnt/blockstorage/biobridge_multimodal/edges/embedding/edges_2650000.parquet.gzip', '/mnt/blockstorage/biobridge_multimodal/edges/embedding/edges_3350000.parquet.gzip', '/mnt/blockstorage/biobridge_multimodal/edges/embedding/edges_100000.parquet.gzip', '/mnt/blockstorage/biobridge_multimodal/edges/embedding/edges_3400000.parquet.gzip', '/mnt/blockstorage/biobridge_multimodal/edges/embedding/edges_3550000.parquet.gzip', '/mnt/blockstorage/biobridge_multimodal/edges/embedding/edges_350000.parquet.gzip', '/mnt/blockstorage/biobridge_multimodal/edges/embedding/edges_3800000.parquet.gzip', '/mnt/blockstorage/biobridge_multimodal/edges/embedding/edges_3200000.parquet.gzip', '/mnt/blockstorage/biobridge_multimodal/edges/embedding/edges_2850000.parquet.gzip', '/mnt/blockstorage/biobridge_multimodal/edges/embedding/edges_2200000.parquet.gzip', '/mnt/blockstorage/biobridge_multimodal/edges/embedding/edges_3850000.parquet.gzip', '/mnt/blockstorage/biobridge_multimodal/edges/embedding/edges_3250000.parquet.gzip', '/mnt/blockstorage/biobridge_multimodal/edges/embedding/edges_2900000.parquet.gzip', '/mnt/blockstorage/biobridge_multimodal/edges/embedding/edges_750000.parquet.gzip', '/mnt/blockstorage/biobridge_multimodal/edges/embedding/edges_1300000.parquet.gzip', '/mnt/blockstorage/biobridge_multimodal/edges/embedding/edges_2300000.parquet.gzip', '/mnt/blockstorage/biobridge_multimodal/edges/embedding/edges_2700000.parquet.gzip', '/mnt/blockstorage/biobridge_multimodal/edges/embedding/edges_3150000.parquet.gzip', '/mnt/blockstorage/biobridge_multimodal/edges/embedding/edges_1900000.parquet.gzip', '/mnt/blockstorage/biobridge_multimodal/edges/embedding/edges_2150000.parquet.gzip', '/mnt/blockstorage/biobridge_multimodal/edges/embedding/edges_950000.parquet.gzip', '/mnt/blockstorage/biobridge_multimodal/edges/embedding/edges_2450000.parquet.gzip', '/mnt/blockstorage/biobridge_multimodal/edges/embedding/edges_1700000.parquet.gzip', '/mnt/blockstorage/biobridge_multimodal/edges/embedding/edges_650000.parquet.gzip', '/mnt/blockstorage/biobridge_multimodal/edges/embedding/edges_3650000.parquet.gzip', '/mnt/blockstorage/biobridge_multimodal/edges/embedding/edges_2550000.parquet.gzip', '/mnt/blockstorage/biobridge_multimodal/edges/embedding/edges_700000.parquet.gzip', '/mnt/blockstorage/biobridge_multimodal/edges/embedding/edges_2000000.parquet.gzip', '/mnt/blockstorage/biobridge_multimodal/edges/embedding/edges_2600000.parquet.gzip', '/mnt/blockstorage/biobridge_multimodal/edges/embedding/edges_2050000.parquet.gzip', '/mnt/blockstorage/biobridge_multimodal/edges/embedding/edges_1200000.parquet.gzip', '/mnt/blockstorage/biobridge_multimodal/edges/embedding/edges_1650000.parquet.gzip']\n",
      "CPU times: user 16.1 s, sys: 18.4 s, total: 34.5 s\n",
      "Wall time: 2min 22s\n"
     ]
    }
   ],
   "source": [
    "%%time\n",
    "\n",
    "# Loop over nodes and edges\n",
    "graph_dict = {}\n",
    "for element in [\"nodes\", \"edges\"]:\n",
    "    # Make an empty dictionary for each folder\n",
    "    graph_dict[element] = {}\n",
    "    for stage in [\"enrichment\", \"embedding\"]:\n",
    "        print(element, stage)\n",
    "        # Create the file pattern for the current subfolder\n",
    "        file_list = glob.glob(os.path.join(cfg.biobridge.source,\n",
    "                                           element,\n",
    "                                           stage, '*.parquet.gzip'))\n",
    "        print(file_list)\n",
    "        # Read and concatenate all dataframes in the folder\n",
    "        # Except the edges embedding, which is too large to read in one go\n",
    "        # We are using a chunk size to read the edges embedding in smaller parts instead\n",
    "        if element == \"edges\" and stage == \"embedding\":\n",
    "            # For edges embedding, only read two columns: triplet_index and edge_emb\n",
    "            # graph_dict[element][stage] = cudf.concat([cudf.read_parquet(f, columns=[\"triplet_index\", \"edge_emb\"]) for f in file_list[:2]], ignore_index=True)\n",
    "            # Loop by chunks\n",
    "            # file_list = file_list[:2]\n",
    "            chunk_size = 5\n",
    "            graph_dict[element][stage] = []\n",
    "            for i in range(0, len(file_list), chunk_size):\n",
    "                chunk_files = file_list[i:i+chunk_size]\n",
    "                chunk_df = cudf.concat([cudf.read_parquet(f, columns=[\"triplet_index\", \"edge_emb\"]) for f in chunk_files], ignore_index=True)\n",
    "                graph_dict[element][stage].append(chunk_df)\n",
    "        else:\n",
    "            # For nodes and edges enrichment, read and concatenate all dataframes in the folder\n",
    "            # This includes the nodes embedding, which is small enough to read in one go\n",
    "            graph_dict[element][stage] = cudf.concat([cudf.read_parquet(f) for f in file_list], ignore_index=True)"
   ]
  },
  {
   "cell_type": "code",
   "execution_count": 5,
   "id": "78dc5f77",
   "metadata": {},
   "outputs": [],
   "source": [
    "# Get nodes enrichment and embedding dataframes\n",
    "nodes_enrichment_df = graph_dict['nodes']['enrichment']\n",
    "nodes_embedding_df = graph_dict['nodes']['embedding']\n",
    "\n",
    "# Get edges enrichment and embedding dataframes\n",
    "edges_enrichment_df = graph_dict['edges']['enrichment']\n",
    "edges_embedding_df = graph_dict['edges']['embedding'] # !!consisted of a list of dataframes!!"
   ]
  },
  {
   "cell_type": "code",
   "execution_count": 6,
   "id": "d6eb11ec",
   "metadata": {},
   "outputs": [],
   "source": [
    "# Merge nodes enrichment and embedding dataframes\n",
    "merged_nodes_df = nodes_enrichment_df.merge(\n",
    "    nodes_embedding_df[[\"node_id\", \"desc_emb\", \"feat_emb\"]],\n",
    "    on=\"node_id\",\n",
    "    how=\"left\"\n",
    ")\n",
    "# del nodes_enrichment_df, nodes_embedding_df  # Free memory"
   ]
  },
  {
   "cell_type": "markdown",
   "id": "c946e4a7",
   "metadata": {},
   "source": [
    "### Setup Milvus Database"
   ]
  },
  {
   "cell_type": "code",
   "execution_count": 4,
   "id": "1672082c",
   "metadata": {},
   "outputs": [],
   "source": [
    "# Configuration for Milvus\n",
    "milvus_host = \"localhost\"\n",
    "milvus_port = \"19530\"\n",
    "milvus_uri = \"http://localhost:19530\"\n",
    "milvus_token = \"root:Milvus\"\n",
    "milvus_user = \"root\"\n",
    "milvus_password = \"Milvus\"\n",
    "milvus_database = \"t2kg_primekg\""
   ]
  },
  {
   "cell_type": "code",
   "execution_count": 5,
   "id": "91e49b50",
   "metadata": {},
   "outputs": [],
   "source": [
    "# Connect to Milvus\n",
    "connections.connect(\n",
    "    alias=\"default\",\n",
    "    host=milvus_host,\n",
    "    port=milvus_port,\n",
    "    user=milvus_user,\n",
    "    password=milvus_password\n",
    ")"
   ]
  },
  {
   "cell_type": "code",
   "execution_count": 6,
   "id": "bd6fe1dd",
   "metadata": {},
   "outputs": [],
   "source": [
    "# Check if the database exists, create if it doesn't\n",
    "if milvus_database not in db.list_database():\n",
    "    db.create_database(milvus_database)\n",
    "\n",
    "# Switch to the desired database\n",
    "db.using_database(milvus_database)"
   ]
  },
  {
   "cell_type": "code",
   "execution_count": 10,
   "id": "83cc02a2",
   "metadata": {},
   "outputs": [],
   "source": [
    "# List all collections\n",
    "for coll in utility.list_collections():\n",
    "    print(f\"Collection: {coll}\")\n",
    "\n",
    "    # Load the collection to get stats\n",
    "    collection = Collection(name=coll)\n",
    "    print(collection.num_entities)"
   ]
  },
  {
   "cell_type": "code",
   "execution_count": 11,
   "id": "6225958a",
   "metadata": {},
   "outputs": [],
   "source": [
    "# A helper function to chunk the data into smaller parts\n",
    "# Utility: chunk generator\n",
    "def chunked(data_list, chunk_size):\n",
    "    for i in range(0, len(data_list), chunk_size):\n",
    "        yield data_list[i:i + chunk_size]"
   ]
  },
  {
   "cell_type": "markdown",
   "id": "3fcf8ae0",
   "metadata": {},
   "source": [
    "#### Building Node Collection (Description Embedding)"
   ]
  },
  {
   "cell_type": "code",
   "execution_count": 12,
   "id": "f254a0b2",
   "metadata": {},
   "outputs": [
    {
     "name": "stderr",
     "output_type": "stream",
     "text": [
      "100%|██████████| 170/170 [01:52<00:00,  1.51it/s]\n"
     ]
    },
    {
     "name": "stdout",
     "output_type": "stream",
     "text": [
      "84981\n",
      "CPU times: user 21.2 s, sys: 2.03 s, total: 23.3 s\n",
      "Wall time: 1min 59s\n"
     ]
    }
   ],
   "source": [
    "%%time\n",
    "\n",
    "# Configuration for Milvus collection\n",
    "node_coll_name = f\"{milvus_database}_nodes\"\n",
    "\n",
    "# Define schema for the collection\n",
    "# Leave out the feat and feat_emb fields for now\n",
    "desc_emb_dim = len(merged_nodes_df.iloc[0]['desc_emb'].to_arrow().to_pylist()[0])\n",
    "node_fields = [\n",
    "    FieldSchema(name=\"node_index\", dtype=DataType.INT64, is_primary=True),\n",
    "    FieldSchema(name=\"node_id\", dtype=DataType.VARCHAR, max_length=1024),\n",
    "    FieldSchema(name=\"node_name\", dtype=DataType.VARCHAR, max_length=1024),\n",
    "    FieldSchema(name=\"node_type\", dtype=DataType.VARCHAR, max_length=1024),\n",
    "    FieldSchema(name=\"desc\", dtype=DataType.VARCHAR, max_length=40960),\n",
    "    FieldSchema(name=\"desc_emb\", dtype=DataType.FLOAT_VECTOR, dim=desc_emb_dim),\n",
    "]\n",
    "schema  = CollectionSchema(fields=node_fields, description=f\"Schema for collection {node_coll_name}\")\n",
    "\n",
    "# Create collection if it doesn't exist\n",
    "if not utility.has_collection(node_coll_name):\n",
    "    collection = Collection(name=node_coll_name, schema=schema)\n",
    "else:\n",
    "    collection = Collection(name=node_coll_name)\n",
    "\n",
    "# Create indexes\n",
    "collection.create_index(\n",
    "    field_name=\"node_index\",\n",
    "    index_params={\"index_type\": \"STL_SORT\"}, # STL_SORT\n",
    "    index_name=\"node_index_index\"\n",
    ")\n",
    "\n",
    "collection.create_index(\n",
    "    field_name=\"desc_emb\",\n",
    "    index_params={\"index_type\": \"GPU_CAGRA\", \"metric_type\": \"COSINE\"}, # AUTOINDEX\n",
    "    index_name=\"desc_emb_index\"\n",
    ")\n",
    "\n",
    "# Prepare data for insertion\n",
    "data = [\n",
    "    merged_nodes_df[\"node_index\"].to_arrow().to_pylist(),\n",
    "    merged_nodes_df[\"node_id\"].to_arrow().to_pylist(),\n",
    "    merged_nodes_df[\"node_name\"].to_arrow().to_pylist(),\n",
    "    merged_nodes_df[\"node_type\"].to_arrow().to_pylist(),\n",
    "    merged_nodes_df[\"desc\"].to_arrow().to_pylist(),\n",
    "    cp.asarray(merged_nodes_df[\"desc_emb\"].list.leaves).astype(cp.float32)\n",
    "        .reshape(merged_nodes_df.shape[0], -1)\n",
    "        .tolist(),\n",
    "]\n",
    "\n",
    "# Insert data in batches\n",
    "batch_size = 500\n",
    "total = len(data[0])\n",
    "for i in tqdm(range(0, total, batch_size)):\n",
    "    batch = [\n",
    "        col[i:i+batch_size] for col in data\n",
    "    ]\n",
    "    collection.insert(batch)\n",
    "\n",
    "# Flush to persist data\n",
    "collection.flush()\n",
    "\n",
    "# Get collection stats\n",
    "print(collection.num_entities)"
   ]
  },
  {
   "cell_type": "code",
   "execution_count": 13,
   "id": "d5ebf11f",
   "metadata": {},
   "outputs": [
    {
     "name": "stdout",
     "output_type": "stream",
     "text": [
      "Collection: t2kg_primekg_nodes\n",
      "84981\n"
     ]
    }
   ],
   "source": [
    "# List all collections\n",
    "for coll in utility.list_collections():\n",
    "    print(f\"Collection: {coll}\")\n",
    "\n",
    "    # Load the collection to get stats\n",
    "    collection = Collection(name=coll)\n",
    "    print(collection.num_entities)"
   ]
  },
  {
   "cell_type": "code",
   "execution_count": 14,
   "id": "35aad452",
   "metadata": {},
   "outputs": [
    {
     "name": "stdout",
     "output_type": "stream",
     "text": [
      "data: [\"{'node_type': 'drug', 'desc': 'Copper belongs to drug node. Copper is a transition metal and a trace element in the body. It is important to the function of many enzymes including cytochrome c oxidase, monoamine oxidase and superoxide dismutase. Copper is commonly used in contraceptive intrauterine devices (IUD). Copper is absorbed from the gut via high affinity copper uptake protein and likely through low affinity copper uptake protein and natural resistance-associated macrophage protein-2. It is believed that copper is reduced to the Cu1+ form prior to transport. Once inside the enterocyte, it is bound to copper transport protein ATOX1 which shuttles the ion to copper transporting ATPase-1 on the golgi membrane which take up copper into the golgi apparatus. Once copper has been secreted by enterocytes into the systemic circulation it remain largely bound by ceruloplasmin (65-90%), albumin (18%), and alpha 2-macroglobulin (12%).  Copper is nearly entirely bound by ceruloplasmin (65-90%), plasma albumin (18%), and alpha 2-macroglobulin (12%). Copper is incorporated into many enzymes throughout the body as an essential part of their function. Copper ions are known to reduce fertility when released from copper-containing IUDs. For use in the supplementation of total parenteral nutrition and in contraception with intrauterine devices.', 'desc_emb': [np.float32(-0.008437113), np.float32(-0.0066760327), np.float32(0.017289385), np.float32(-0.031070003), np.float32(-0.024708688), np.float32(0.0269318), np.float32(-0.025539007), np.float32(-0.016030515), np.float32(-0.022900734), np.float32(-0.0172626), np.float32(0.016351929), np.float32(0.022257907), np.float32(-0.013927932), np.float32(0.00728538), np.float32(-0.010954854), np.float32(0.013639999), np.float32(0.033105623), np.float32(0.025713105), np.float32(-0.0011316445), np.float32(0.019137515), np.float32(-0.042480193), np.float32(0.021963278), np.float32(0.0012337604), np.float32(-0.011530721), np.float32(0.0017661019), np.float32(0.011249484), np.float32(0.030427175), np.float32(-0.039641038), np.float32(-0.003863662), np.float32(-0.021789178), np.float32(-0.0007855387), np.float32(0.0020724495), np.float32(-0.020061579), np.float32(0.018146489), np.float32(0.010546391), np.float32(0.011095473), np.float32(0.019512497), np.float32(0.0062073045), np.float32(-0.0025277857), np.float32(-0.006558851), np.float32(0.018280411), np.float32(0.0065488066), np.float32(-0.006351271), np.float32(0.02423996), np.float32(-0.00078260916), np.float32(0.009568757), np.float32(0.005782101), np.float32(0.0011140672), np.float32(-0.025391692), np.float32(0.006451713), np.float32(0.0092004705), np.float32(0.012454785), np.float32(-0.005999725), np.float32(-0.015856415), np.float32(-0.00074871007), np.float32(-0.021869533), np.float32(0.007794285), np.float32(0.01845451), np.float32(0.01199945), np.float32(-0.020356208), np.float32(-0.01134323), np.float32(-0.010820932), np.float32(-0.011624467), np.float32(0.024373882), np.float32(0.0006189727), np.float32(0.031391416), np.float32(0.007030927), np.float32(0.008109002), np.float32(-0.0015032792), np.float32(0.017235816), np.float32(0.006471801), np.float32(0.031150356), np.float32(0.01280968), np.float32(-0.0128297685), np.float32(0.03709651), np.float32(-0.025820244), np.float32(-0.0650863), np.float32(0.00038105116), np.float32(0.0030249727), np.float32(0.018025959), np.float32(0.01905716), np.float32(0.006511978), np.float32(-0.0011835394), np.float32(0.019030377), np.float32(0.010084359), np.float32(0.015923377), np.float32(0.008470593), np.float32(0.025418475), np.float32(-0.0044562686), np.float32(-0.0039708), np.float32(-0.007124673), np.float32(0.017543837), np.float32(0.01988748), np.float32(0.036828667), np.float32(-0.0062006083), np.float32(0.034605555), np.float32(-0.01641889), np.float32(0.05046197), np.float32(-0.013064132), np.float32(-0.0117383), np.float32(-0.008443809), np.float32(0.015521609), np.float32(-0.00928752), np.float32(-0.016767088), np.float32(-0.019485712), np.float32(0.0052731954), np.float32(-0.014289523), np.float32(-0.011678035), np.float32(0.016981363), np.float32(-0.022606105), np.float32(-0.011236091), np.float32(0.07140744), np.float32(0.010526302), np.float32(-0.038676795), np.float32(-0.008309887), np.float32(0.0015719144), np.float32(0.027427312), np.float32(-0.0070510157), np.float32(-0.0006972336), np.float32(-0.0017995826), np.float32(-0.01653942), np.float32(0.014959135), np.float32(0.016767088), np.float32(-0.023329286), np.float32(0.009401354), np.float32(0.0119927535), np.float32(-0.022351652), np.float32(-0.019244652), np.float32(0.0075465287), np.float32(-0.00782107), np.float32(0.001381075), np.float32(-0.0016715192), np.float32(0.0038536177), np.float32(0.040042806), np.float32(-0.013372154), np.float32(0.004295562), np.float32(-0.020275855), np.float32(-0.0016430607), np.float32(-0.0058825426), np.float32(-0.02411943), np.float32(0.033614527), np.float32(0.021280274), np.float32(-0.011952576), np.float32(-0.002263289), np.float32(0.0011249484), np.float32(0.04055171), np.float32(0.038891073), np.float32(0.008972802), np.float32(-0.009321), np.float32(0.0048881685), np.float32(0.009890171), np.float32(-0.0013693568), np.float32(0.030534312), np.float32(-0.028739752), np.float32(0.021574903), np.float32(0.013050741), np.float32(-0.007379126), np.float32(0.016218005), np.float32(0.014061854), np.float32(-0.029355796), np.float32(-0.0016413868), np.float32(-0.0352216), np.float32(-0.009990613), np.float32(-0.002601443), np.float32(0.017342955), np.float32(0.019820519), np.float32(0.0128297685), np.float32(-0.006639204), np.float32(0.025726497), np.float32(-0.0059294156), np.float32(0.012207029), np.float32(0.023048049), np.float32(-0.029543286), np.float32(0.03128428), np.float32(0.0059227194), np.float32(0.009622326), np.float32(0.007881335), np.float32(0.014222561), np.float32(-0.013767226), np.float32(-0.029329011), np.float32(-0.003368149), np.float32(-0.0037900046), np.float32(0.018722355), np.float32(-0.009321), np.float32(-0.009856691), np.float32(0.0010152993), np.float32(0.01833398), np.float32(0.01289673), np.float32(0.0115575055), np.float32(-0.015856415), np.float32(-0.027454097), np.float32(0.008450505), np.float32(-0.029302226), np.float32(-0.027748726), np.float32(-0.6355423), np.float32(0.004138203), np.float32(-0.0039607557), np.float32(-0.021936493), np.float32(-0.011015119), np.float32(0.019606244), np.float32(0.017704545), np.float32(-0.0042788214), np.float32(0.008852272), np.float32(5.3359716e-05), np.float32(0.00027454097), np.float32(0.023623915), np.float32(0.020757975), np.float32(-0.023155186), np.float32(-0.012046322), np.float32(-0.024949748), np.float32(-0.015267156), np.float32(-0.002541178), np.float32(0.0062742657), np.float32(-0.05303328), np.float32(-0.052872572), np.float32(0.004616976), np.float32(-0.020570485), np.float32(0.016981363), np.float32(0.0143297), np.float32(-0.0025746587), np.float32(0.01857504), np.float32(-0.019726774), np.float32(-0.009347785), np.float32(0.007506352), np.float32(0.0028073487), np.float32(0.02335607), np.float32(0.019258045), np.float32(0.04239984), np.float32(0.051988684), np.float32(0.004878124), np.float32(-0.0148787815), np.float32(0.020275855), np.float32(-0.0076871472), np.float32(0.035034105), np.float32(-0.0100374855), np.float32(-0.02496314), np.float32(0.015789453), np.float32(-0.04001602), np.float32(-0.004794423), np.float32(0.011537417), np.float32(0.019539282), np.float32(0.018842885), np.float32(0.019673204), np.float32(-0.0061604315), np.float32(-0.012963691), np.float32(-0.0152805485), np.float32(-0.011959272), np.float32(0.0075800093), np.float32(-0.0051627094), np.float32(0.01161777), np.float32(0.029114734), np.float32(-0.02603452), np.float32(0.008102307), np.float32(-0.0041817278), np.float32(0.0014873759), np.float32(-0.0014020004), np.float32(0.0007102074), np.float32(-0.017664367), np.float32(-0.01976695), np.float32(-0.010995031), np.float32(-0.036266193), np.float32(-0.008731742), np.float32(0.005139273), np.float32(0.028793322), np.float32(0.011075385), np.float32(0.012474874), np.float32(0.009749552), np.float32(-0.016325144), np.float32(0.03050753), np.float32(0.015481432), np.float32(-0.008169268), np.float32(0.0077608046), np.float32(-0.0039473632), np.float32(0.046203237), np.float32(0.013459204), np.float32(0.012059715), np.float32(-0.008216141), np.float32(-0.017744722), np.float32(0.03069502), np.float32(0.0075197443), np.float32(-0.0064818454), np.float32(-0.00019094408), np.float32(0.0203696), np.float32(-0.018200057), np.float32(0.009454923), np.float32(0.007620186), np.float32(-0.006639204), np.float32(-0.019338397), np.float32(-0.025391692), np.float32(0.01893663), np.float32(-0.01923126), np.float32(-0.022177553), np.float32(0.019807126), np.float32(0.004148247), np.float32(-0.008209445), np.float32(-0.027333567), np.float32(-0.035194814), np.float32(0.015401078), np.float32(0.016151045), np.float32(0.014128815), np.float32(-0.026851445), np.float32(-0.00474755), np.float32(0.03840895), np.float32(-0.024333704), np.float32(-0.004134855), np.float32(-0.0017008148), np.float32(0.00752644), np.float32(-0.016807264), np.float32(-0.0034551986), np.float32(-0.004121463), np.float32(0.0031890278), np.float32(0.012836465), np.float32(-0.00024231589), np.float32(-0.027855864), np.float32(0.030427175), np.float32(-0.011510632), np.float32(0.0033396904), np.float32(0.0075398325), np.float32(-0.010057574), np.float32(0.005544388), np.float32(0.0026717524), np.float32(-0.025244378), np.float32(-0.0032911436), np.float32(-0.0140082855), np.float32(0.0022046978), np.float32(-0.006294354), np.float32(0.022445397), np.float32(-0.010747274), np.float32(0.031793185), np.float32(0.013619911), np.float32(0.039694607), np.float32(-0.001375216), np.float32(-0.006361315), np.float32(-0.039641038), np.float32(-0.016700126), np.float32(-0.011611074), np.float32(0.0068702204), np.float32(-4.9462364e-05), np.float32(-0.01239452), np.float32(-0.015079665), np.float32(-0.023623915), np.float32(0.024534589), np.float32(0.0030166027), np.float32(-0.01248157), np.float32(-0.017168855), np.float32(-0.0068266955), np.float32(-0.005022091), np.float32(0.037551846), np.float32(0.019338397), np.float32(-0.012173548), np.float32(-0.0092004705), np.float32(-0.005695051), np.float32(-0.012622189), np.float32(-0.003205768), np.float32(-0.008470593), np.float32(0.03840895), np.float32(-0.020329423), np.float32(0.0057050954), np.float32(-0.00937457), np.float32(0.007184938), np.float32(0.005674963), np.float32(0.022485575), np.float32(-0.013593126), np.float32(-0.038060755), np.float32(0.0064215804), np.float32(0.0027654981), np.float32(-0.013994893), np.float32(-0.008504074), np.float32(-0.025391692), np.float32(0.0005382007), np.float32(-0.0013676827), np.float32(-0.0052798917), np.float32(-0.020061579), np.float32(0.00061771716), np.float32(-0.007727324), np.float32(-0.011323141), np.float32(-0.014945743), np.float32(-0.009622326), np.float32(0.022498967), np.float32(0.014557367), np.float32(0.019217867), np.float32(0.005089052), np.float32(0.0040611974), np.float32(0.027079115), np.float32(0.0032308784), np.float32(0.014463622), np.float32(-0.021601686), np.float32(-0.008852272), np.float32(-0.010499518), np.float32(-0.005353549), np.float32(-0.0070778), np.float32(0.005192842), np.float32(-0.0020791458), np.float32(0.022137377), np.float32(0.014222561), np.float32(-0.012253902), np.float32(-0.0066157677), np.float32(-0.03439128), np.float32(0.00048756134), np.float32(-0.009957132), np.float32(-0.01301726), np.float32(0.0054272064), np.float32(0.030025408), np.float32(-0.0023955374), np.float32(-0.0057184873), np.float32(-0.021333842), np.float32(0.0013534535), np.float32(-0.0130775245), np.float32(-0.0031655913), np.float32(0.042239133), np.float32(0.0065387622), np.float32(-0.018950023), np.float32(-0.00015662645), np.float32(-0.02508367), np.float32(-0.00062817987), np.float32(-0.010887893), np.float32(0.036266193), np.float32(-0.00138526), np.float32(-0.0011827024), np.float32(0.0016397127), np.float32(0.020356208), np.float32(-0.002588051), np.float32(-0.0035589885), np.float32(-0.005762012), np.float32(0.011015119), np.float32(-0.0093544815), np.float32(-0.00928752), np.float32(-0.010111143), np.float32(-0.0024323661), np.float32(0.007205026), np.float32(0.0073456448), np.float32(-0.011336533), np.float32(0.03240923), np.float32(-0.015320726), np.float32(-0.0017995826), np.float32(0.0105329985), np.float32(0.02825763), np.float32(-0.0005649852), np.float32(0.008745134), np.float32(-0.013820794), np.float32(0.020811545), np.float32(0.01833398), np.float32(0.004138203), np.float32(0.010298635), np.float32(0.00055452256), np.float32(0.011303052), np.float32(-0.037900046), np.float32(-0.016137652), np.float32(0.001607069), np.float32(-0.010204889), np.float32(0.012595404), np.float32(0.03010576), np.float32(0.035382304), np.float32(0.028043356), np.float32(0.030802157), np.float32(-0.013251624), np.float32(0.0038435736), np.float32(-0.013070828), np.float32(0.0035589885), np.float32(0.021052605), np.float32(0.017342955), np.float32(-0.016378712), np.float32(-0.0191643), np.float32(0.00043692192), np.float32(-0.03666796), np.float32(-0.00024566395), np.float32(0.009394658), np.float32(-0.019740166), np.float32(0.013613215), np.float32(0.031444985), np.float32(-0.017905429), np.float32(0.017249208), np.float32(0.013646695), np.float32(-0.011202611), np.float32(-0.028686183), np.float32(-0.027266605), np.float32(0.0076268823), np.float32(0.01964642), np.float32(-0.010325419), np.float32(-0.026195226), np.float32(-0.029114734), np.float32(0.015976945), np.float32(0.0049283453), np.float32(0.018561648), np.float32(-0.009508492), np.float32(0.019258045), np.float32(-0.010466037), np.float32(0.02532473), np.float32(-0.017624192), np.float32(-0.0038804023), np.float32(0.021119567), np.float32(-0.008798704), np.float32(0.010921374), np.float32(-0.012267294), np.float32(-0.016619774), np.float32(-0.02197667), np.float32(-0.04167666), np.float32(0.015160019), np.float32(0.05356897), np.float32(0.0077139316), np.float32(0.0119124), np.float32(-0.007747412), np.float32(0.009762945), np.float32(0.011102169), np.float32(-0.016392104), np.float32(0.004687285), np.float32(0.0025227636), np.float32(-0.040873125), np.float32(0.0007072778), np.float32(0.018213449), np.float32(-0.020048186), np.float32(0.014075247), np.float32(0.030962864), np.float32(-0.022003455), np.float32(-0.018347371), np.float32(-0.009481708), np.float32(-0.005022091), np.float32(0.0012119979), np.float32(0.0127360225), np.float32(0.020034796), np.float32(-0.013432419), np.float32(0.007057712), np.float32(0.019258045), np.float32(0.006173824), np.float32(0.0067563863), np.float32(-0.015816238), np.float32(0.019311614), np.float32(0.005735228), np.float32(0.010452645), np.float32(-0.021467764), np.float32(-0.012140068), np.float32(-0.0019602894), np.float32(-0.0013844231), np.float32(0.004550014), np.float32(-0.008530859), np.float32(-0.023141796), np.float32(0.0020172065), np.float32(-0.007573313), np.float32(0.021507941), np.float32(-0.021601686), np.float32(0.011229395), np.float32(0.0236507), np.float32(0.013901148), np.float32(-0.0015576852), np.float32(0.0067028175), np.float32(0.028712967), np.float32(0.037016157), np.float32(0.00019502454), np.float32(0.02496314), np.float32(-0.003425066), np.float32(0.018025959), np.float32(0.010198193), np.float32(-0.044890795), np.float32(-0.0026667302), np.float32(0.009776337), np.float32(0.0160573), np.float32(-0.0027956306), np.float32(0.0222713), np.float32(0.017101893), np.float32(0.026971977), np.float32(0.009454923), np.float32(-0.009756248), np.float32(-0.010325419), np.float32(-0.020865114), np.float32(0.0126757575), np.float32(-0.011637859), np.float32(0.004031065), np.float32(-0.010211585), np.float32(0.018066134), np.float32(-0.0007675429), np.float32(0.0116512505), np.float32(-0.0345252), np.float32(0.028016571), np.float32(-0.028793322), np.float32(0.011216003), np.float32(0.010419165), np.float32(-0.018427726), np.float32(-0.005373637), np.float32(-0.0022381786), np.float32(-0.0115575055), np.float32(0.029382579), np.float32(-0.007901423), np.float32(0.019807126), np.float32(-0.015119841), np.float32(-0.012494963), np.float32(-0.029007597), np.float32(-0.0042587332), np.float32(0.006023161), np.float32(0.011216003), np.float32(-0.030828942), np.float32(0.0009006283), np.float32(-0.010332115), np.float32(0.017048325), np.float32(0.026864838), np.float32(-0.0006809118), np.float32(-0.020624053), np.float32(0.006686077), np.float32(0.030266467), np.float32(-0.0037866565), np.float32(-0.022083808), np.float32(0.0014647765), np.float32(-0.038007185), np.float32(0.011242787), np.float32(-0.008276406), np.float32(0.03744471), np.float32(-5.6393896e-05), np.float32(-0.013727048), np.float32(-0.00018435258), np.float32(0.00851077), np.float32(-0.022539144), np.float32(-0.009756248), np.float32(-0.008530859), np.float32(-0.004312302), np.float32(0.008571035), np.float32(0.011416887), np.float32(0.010405772), np.float32(0.0084237205), np.float32(-0.012501658), np.float32(-0.00015045347), np.float32(-0.011115561), np.float32(-0.00034966308), np.float32(-0.033132408), np.float32(-0.011055296), np.float32(-0.0055142557), np.float32(-0.012086499), np.float32(0.0061001666), np.float32(-0.015776062), np.float32(-0.026208619), np.float32(-0.0002839574), np.float32(-0.009729465), np.float32(-0.009990613), np.float32(-0.016914403), np.float32(0.0007830277), np.float32(0.009079941), np.float32(-0.011115561), np.float32(0.033560958), np.float32(-0.011965969), np.float32(-0.010767363), np.float32(-0.005591261), np.float32(0.00782107), np.float32(0.025940774), np.float32(0.023128403), np.float32(-0.009769641), np.float32(0.020878507), np.float32(-0.009716072), np.float32(-0.013820794), np.float32(-0.004878124), np.float32(0.005239715), np.float32(0.020985644), np.float32(0.03200746), np.float32(-0.020691015), np.float32(-0.03265029), np.float32(-0.0014061854), np.float32(-0.006039901), np.float32(-0.009140206), np.float32(-0.0154680405), np.float32(-0.006572243), np.float32(-0.00046245087), np.float32(-0.0072585954), np.float32(0.009033067), np.float32(-0.011751693), np.float32(-0.012320863), np.float32(0.0021193223), np.float32(-0.025230985), np.float32(0.0068133036), np.float32(0.014744859), np.float32(-0.006130299), np.float32(0.009428139), np.float32(0.01272263), np.float32(-0.027775511), np.float32(-0.03117714), np.float32(0.019579459), np.float32(-0.01565553), np.float32(-0.018066134), np.float32(-0.0070911925), np.float32(-0.02256593), np.float32(0.040123157), np.float32(0.025177415), np.float32(0.025806852), np.float32(0.00051727536), np.float32(0.006013117), np.float32(-0.0051091406), np.float32(-0.0017610799), np.float32(0.01636532), np.float32(-0.010820932), np.float32(-0.0009039764), np.float32(0.00826971), np.float32(0.015843023), np.float32(0.015173411), np.float32(-0.010352204), np.float32(0.014209169), np.float32(-0.0014145556), np.float32(-0.0080219535), np.float32(0.015548393), np.float32(-0.017450092), np.float32(-0.0012814702), np.float32(-0.022820381), np.float32(-0.007251899), np.float32(-0.042694468), np.float32(-0.0040009324), np.float32(-0.021307059), np.float32(-0.003266033), np.float32(-0.03128428), np.float32(-0.018441118), np.float32(0.01481182), np.float32(0.008792007), np.float32(0.01976695), np.float32(-0.019900871), np.float32(0.0283112), np.float32(-0.023757838), np.float32(0.035489444), np.float32(0.0072184186), np.float32(0.003204094), np.float32(-0.0052932836), np.float32(-0.026971977), np.float32(-0.0054037697), np.float32(0.01427613), np.float32(0.020637445), np.float32(-0.0028106968), np.float32(0.015293941), np.float32(-0.006796563), np.float32(-0.030989649), np.float32(0.0056548743), np.float32(0.012977083), np.float32(-0.014235954), np.float32(-0.0074326945), np.float32(0.020034796), np.float32(-0.022887342), np.float32(-0.0052664992), np.float32(-0.003984192), np.float32(-0.015695708), np.float32(-0.0469532), np.float32(-0.00029965144), np.float32(0.023128403), np.float32(-0.005909327), np.float32(0.018293804), np.float32(-0.008919233), np.float32(-0.00060097687), np.float32(0.022083808), np.float32(-0.0060733818), np.float32(0.042426623), np.float32(-0.021588296), np.float32(0.038730364), np.float32(0.004811163), np.float32(-0.004295562), np.float32(-0.005286588), np.float32(-0.01576267), np.float32(0.006846784), np.float32(-0.0024206478), np.float32(0.021333842), np.float32(0.040042806), np.float32(-0.0011885616), np.float32(-0.0031354588), np.float32(-0.01108208), np.float32(-0.007245203), np.float32(0.005008699), np.float32(-0.014557367), np.float32(0.0079416), np.float32(0.0017393174), np.float32(0.0051057925), np.float32(-0.028177278), np.float32(-0.00082697097), np.float32(0.0025177416), np.float32(0.009012979), np.float32(0.00045073265), np.float32(-0.012997171), np.float32(-0.021815963), np.float32(0.009274128), np.float32(-0.0037129992), np.float32(0.018106312), np.float32(0.0016405497), np.float32(0.026275579), np.float32(0.0027839125), np.float32(-0.0008353411), np.float32(-0.00031513622), np.float32(-0.027909433), np.float32(-0.011631163), np.float32(-0.007720628), np.float32(0.01755723), np.float32(0.024293527), np.float32(0.014423445), np.float32(0.013405635), np.float32(-8.8305096e-05), np.float32(-0.0039339713), np.float32(0.011216003), np.float32(-0.020074971), np.float32(0.0029094648), np.float32(0.036159053), np.float32(0.005952852), np.float32(0.013927932), np.float32(0.0250301), np.float32(0.009274128), np.float32(0.0033296463), np.float32(-0.029007597), np.float32(-0.001322484), np.float32(-0.004794423), np.float32(-0.024132822), np.float32(-0.015240372), np.float32(-0.0040879822), np.float32(0.00015348765), np.float32(-0.029462934), np.float32(-0.016981363), np.float32(-0.0016397127), np.float32(0.006237437), np.float32(-0.04981914), np.float32(0.006304398), np.float32(0.049229883), np.float32(-0.040149942), np.float32(-0.014302915), np.float32(-0.005045527), np.float32(0.0011559179), np.float32(0.029570071), np.float32(-0.009541973), np.float32(-0.009334393), np.float32(-0.029409364), np.float32(0.016070692), np.float32(-0.010245065), np.float32(0.030828942), np.float32(0.026730916), np.float32(0.024333704), np.float32(-0.0040076287), np.float32(0.0047207656), np.float32(-0.015668923), np.float32(-0.018722355), np.float32(0.013131094), np.float32(-0.007205026), np.float32(-0.03050753), np.float32(0.0042754733), np.float32(-0.013124398), np.float32(-0.004027717), np.float32(0.03506089), np.float32(-0.008704958), np.float32(0.015494824), np.float32(0.0010822606), np.float32(0.013994893), np.float32(0.0012019537), np.float32(-0.009796426), np.float32(0.0075465287), np.float32(-0.029543286), np.float32(-0.00044068848), np.float32(0.018963415), np.float32(-0.011959272), np.float32(-0.026222011), np.float32(-0.012588708), np.float32(0.0012873294), np.float32(0.011001728), np.float32(-0.018588433), np.float32(-0.0029914922), np.float32(-0.0239989), np.float32(0.007727324), np.float32(-0.02156151), np.float32(-0.020691015), np.float32(0.014316307), np.float32(-0.0051459693), np.float32(-0.018133096), np.float32(0.015146626), np.float32(-0.0058791945), np.float32(0.0034133478), np.float32(-0.023798015), np.float32(-0.015856415), np.float32(0.018508079), np.float32(-0.0008232044), np.float32(-0.002102582), np.float32(0.0057151397), np.float32(0.005976288), np.float32(-0.021668648), np.float32(-0.028230848), np.float32(0.01904377), np.float32(0.0062608733), np.float32(0.018735748), np.float32(0.00011571735), np.float32(-0.026530033), np.float32(-0.004767638), np.float32(0.018226841), np.float32(-0.020436563), np.float32(-0.027092507), np.float32(-0.005366941), np.float32(0.024266744), np.float32(-0.0014061854), np.float32(0.023195364), np.float32(0.007673755), np.float32(-0.015628748), np.float32(-0.008865665), np.float32(0.02532473), np.float32(-0.039078563), np.float32(0.007740716), np.float32(0.034257356), np.float32(0.0006193912), np.float32(0.033694882), np.float32(0.01334537), np.float32(-0.03899821), np.float32(-0.024936356), np.float32(0.020945467), np.float32(0.00045575475), np.float32(0.0047341576), np.float32(0.014142208), np.float32(-0.009140206), np.float32(3.5965495e-05), np.float32(-0.012133372), np.float32(-0.018066134), np.float32(2.0389167e-05), np.float32(-0.0119124), np.float32(0.031980675), np.float32(-0.0075599207), np.float32(-0.018494686), np.float32(0.007071104), np.float32(0.0028558958), np.float32(-0.006555503), np.float32(-0.0012019537), np.float32(-0.0075867055), np.float32(0.014222561), np.float32(-0.013994893), np.float32(0.0025512222), np.float32(-0.006736298), np.float32(0.036641177), np.float32(-0.0096022375), np.float32(-0.011778478), np.float32(0.015990337), np.float32(-0.001714207), np.float32(-0.0018163229), np.float32(0.023382856), np.float32(-0.017222423), np.float32(-0.023423033), np.float32(-0.011269572), np.float32(-0.026489856), np.float32(-0.00024524544), np.float32(-0.008604515), np.float32(0.0059260675), np.float32(-0.008490682), np.float32(0.0024691946), np.float32(-0.0019234609), np.float32(-0.027829079), np.float32(0.010178104), np.float32(-0.01857504), np.float32(-0.0146912895), np.float32(-0.028766537), np.float32(0.012977083), np.float32(-0.008450505), np.float32(0.004208512), np.float32(-0.0014672875), np.float32(-0.0024457583), np.float32(-0.0030048843), np.float32(-0.015601963), np.float32(-0.0047609424), np.float32(0.0046605), np.float32(-0.023007873), np.float32(-0.02591399), np.float32(-0.009187078), np.float32(0.007573313), np.float32(0.017075108), np.float32(-0.019499104), np.float32(-0.0068099555), np.float32(0.008477289), np.float32(0.017235816), np.float32(0.1923126), np.float32(-0.0063881), np.float32(0.028391553), np.float32(0.027320175), np.float32(-0.009441531), np.float32(0.002644968), np.float32(0.015401078), np.float32(0.004814511), np.float32(0.020503523), np.float32(0.01595016), np.float32(0.013218143), np.float32(0.0074326945), np.float32(-0.014543976), np.float32(0.00082194887), np.float32(-0.033828806), np.float32(-0.01564214), np.float32(-0.042426623), np.float32(0.0019619635), np.float32(-0.012709238), np.float32(0.017958997), np.float32(-0.013211447), np.float32(-0.020449955), np.float32(0.02340964), np.float32(-0.014651113), np.float32(0.00806213), np.float32(-0.0011977687), np.float32(0.0107204905), np.float32(-0.0028960723), np.float32(0.019016985), np.float32(0.00032894695), np.float32(0.0017778202), np.float32(0.0053903777), np.float32(0.010847717), np.float32(-0.00043273682), np.float32(0.014168993), np.float32(-0.00673295), np.float32(0.011450367), np.float32(-0.02855226), np.float32(0.0122405095), np.float32(-0.019445537), np.float32(-0.003977496), np.float32(0.010633441), np.float32(-0.02825763), np.float32(-0.010834324), np.float32(-0.010238369), np.float32(0.0132650165), np.float32(0.0004088819), np.float32(-0.023141796), np.float32(-0.014677898), np.float32(-0.004580147), np.float32(-0.03599835), np.float32(0.01096155), np.float32(0.002154477), np.float32(0.0027219732), np.float32(-0.0039339713), np.float32(0.012695846), np.float32(-0.0030266468), np.float32(0.00056665926), np.float32(0.008671477), np.float32(0.0038770542), np.float32(-0.003582425), np.float32(-0.0019586154), np.float32(-0.012508354), np.float32(0.04068563), np.float32(-0.0028207412), np.float32(0.030373605), np.float32(-0.023208756), np.float32(-0.009488404), np.float32(0.026797878), np.float32(-0.024976533), np.float32(-0.00076586887), np.float32(0.008229533), np.float32(-0.007138065), np.float32(0.000117705255), np.float32(-0.004198468), np.float32(0.0074259983), np.float32(-0.010445949), np.float32(0.017932212), np.float32(0.013111006), np.float32(-0.00018236467), np.float32(-0.010767363), np.float32(-0.011102169), np.float32(-0.0298647), np.float32(0.013680176), np.float32(-0.0062006083), np.float32(-0.0011400146), np.float32(0.014651113), np.float32(-0.006532066), np.float32(-0.025873812), np.float32(-0.009441531), np.float32(0.012106587), np.float32(-0.019847304), np.float32(-0.008530859), np.float32(-0.012715934), np.float32(0.013305193), np.float32(0.005577869), np.float32(0.011416887), np.float32(0.006013117), np.float32(-0.0029144867), np.float32(0.005289936), np.float32(-0.023838192), np.float32(0.07231811), np.float32(0.009086637), np.float32(0.014530583), np.float32(0.010238369), np.float32(0.017061718), np.float32(-0.021119567), np.float32(0.018802708), np.float32(0.005755316), np.float32(-0.0219231), np.float32(0.01720903), np.float32(-0.026623778), np.float32(-0.013452508), np.float32(-0.011416887), np.float32(0.006565547), np.float32(0.025646145), np.float32(0.018775923), np.float32(-0.011905704), np.float32(0.010419165), np.float32(-0.009146902), np.float32(0.007010839), np.float32(-0.024400666), np.float32(0.009254039), np.float32(0.0041817278), np.float32(-0.00529998), np.float32(1.29345e-05), np.float32(-0.027373744), np.float32(0.015414471), np.float32(-0.0205437), np.float32(-0.03575729), np.float32(-0.011631163), np.float32(-0.008135787), np.float32(0.005932763), np.float32(0.009930348), np.float32(-0.012454785), np.float32(0.020798152), np.float32(0.017302778), np.float32(-0.0048479917), np.float32(0.0046906327), np.float32(0.02406586), np.float32(-0.018267019), np.float32(-0.0035121157), np.float32(0.028980812), np.float32(0.005969592), np.float32(0.0053435047), np.float32(-0.020744585), np.float32(-0.021548118), np.float32(-0.0006344575), np.float32(-0.022204338), np.float32(-0.019793734), np.float32(0.0014873759), np.float32(-0.01773133), np.float32(-0.0049417373), np.float32(-0.000582144), np.float32(0.013847578), np.float32(-0.02263289), np.float32(-0.009508492), np.float32(-0.03618584), np.float32(0.013968109), np.float32(-0.017570622), np.float32(-0.016606381), np.float32(0.0011575919), np.float32(0.028820105), np.float32(0.0021193223), np.float32(-0.013847578), np.float32(0.009180382), np.float32(-0.16874225), np.float32(0.01558857), np.float32(0.01108208), np.float32(-0.027400527), np.float32(0.013425723), np.float32(0.00674969), np.float32(-0.023811407), np.float32(0.018441118), np.float32(0.0076871472), np.float32(-0.011162434), np.float32(0.033587743), np.float32(0.008571035), np.float32(-0.022177553), np.float32(-0.022659674), np.float32(-0.0035121157), np.float32(-0.00814918), np.float32(-0.0065421103), np.float32(0.0053234166), np.float32(0.021333842), np.float32(0.016351929), np.float32(0.023061441), np.float32(-0.027668374), np.float32(0.005966244), np.float32(-0.009829906), np.float32(0.034310926), np.float32(0.027146075), np.float32(0.01738313), np.float32(-0.006448365), np.float32(0.009006283), np.float32(-0.0094482275), np.float32(-0.0004201816), np.float32(0.019191083), np.float32(0.041783795), np.float32(0.00017807497), np.float32(0.025043493), np.float32(0.0048379474), np.float32(0.017275993), np.float32(-0.02663717), np.float32(0.00018121378), np.float32(0.022780204), np.float32(0.006910397), np.float32(0.0014488732), np.float32(-0.014543976), np.float32(0.026985368), np.float32(-0.020945467), np.float32(0.031873535), np.float32(-0.01289673), np.float32(0.0028558958), np.float32(0.029329011), np.float32(0.0029061167), np.float32(0.026945192), np.float32(-0.0038000487), np.float32(-0.004144899), np.float32(0.02406586), np.float32(0.019994618), np.float32(0.0019000244), np.float32(-0.0012990475), np.float32(0.036453683), np.float32(-0.003138807), np.float32(-0.011122257), np.float32(0.0028358074), np.float32(-0.017450092), np.float32(0.01719564), np.float32(0.000996885), np.float32(0.02353017), np.float32(-0.015079665), np.float32(-0.0011492218), np.float32(0.019070553), np.float32(-0.025391692), np.float32(-0.0027437357), np.float32(-0.012756111), np.float32(0.008169268), np.float32(0.018789316), np.float32(-0.010365596), np.float32(0.019793734), np.float32(0.01904377), np.float32(-0.01976695), np.float32(0.005082356), np.float32(-0.0033564307), np.float32(0.01595016), np.float32(-0.007271988), np.float32(0.009937044), np.float32(-0.03875715), np.float32(-0.012006145), np.float32(-0.01636532), np.float32(-0.015749278), np.float32(0.016834049), np.float32(-0.005135925), np.float32(-0.0046538045), np.float32(0.0034418064), np.float32(0.017329562), np.float32(-0.021374019), np.float32(-0.03131106), np.float32(-0.031578906), np.float32(0.026596993), np.float32(0.013104309), np.float32(0.014343091), np.float32(-0.009655807), np.float32(-0.018441118), np.float32(-0.022070415), np.float32(0.025592575), np.float32(-0.021226704), np.float32(-0.02981113), np.float32(-0.0023938634), np.float32(0.04467652), np.float32(0.012494963), np.float32(-0.011845439), np.float32(-0.017048325), np.float32(0.027829079), np.float32(-0.0025076973), np.float32(0.009849994), np.float32(-0.0013316912), np.float32(0.019338397), np.float32(0.040149942), np.float32(-0.0201955), np.float32(0.03492697), np.float32(0.020141933), np.float32(-0.020824937), np.float32(-0.010004005), np.float32(-0.020262463), np.float32(0.045640763), np.float32(0.0074996557), np.float32(-0.0004524067), np.float32(0.0107204905), np.float32(-0.026288971), np.float32(-0.007399214), np.float32(-0.11935166), np.float32(-0.006558851), np.float32(0.025137238), np.float32(0.013927932), np.float32(-0.009361178), np.float32(0.003309558), np.float32(-0.019030377), np.float32(0.029275442), np.float32(0.013666783), np.float32(0.022485575), np.float32(-0.02442745), np.float32(-0.016726911), np.float32(-0.009896867), np.float32(-0.0058825426), np.float32(0.008872361), np.float32(0.009207167), np.float32(-0.009501796), np.float32(-0.0030015362), np.float32(-0.027775511), np.float32(0.032141384), np.float32(-0.0019720078), np.float32(-0.023074834), np.float32(0.0063981437), np.float32(0.018615218), np.float32(-0.008109002), np.float32(-0.010499518), np.float32(-0.0050388314), np.float32(0.01301726), np.float32(0.005865802), np.float32(0.0071447613), np.float32(0.024414059), np.float32(0.00042562222), np.float32(0.035194814), np.float32(-0.0025076973), np.float32(-0.016874226), np.float32(0.0070041427), np.float32(0.01869557), np.float32(0.00035803323), np.float32(0.0445426), np.float32(-0.020168718), np.float32(-0.0045634066), np.float32(0.010620048), np.float32(0.004473009), np.float32(-0.011510632), np.float32(0.026061304), np.float32(-0.010432557), np.float32(-0.03709651), np.float32(-0.0054405984), np.float32(-0.01445023), np.float32(-0.011765085), np.float32(-0.025954166), np.float32(-0.009541973), np.float32(-0.037364356), np.float32(-0.004633716), np.float32(0.011818654), np.float32(0.0059461556), np.float32(0.021226704), np.float32(0.019191083), np.float32(-0.029757563), np.float32(-0.0131712705), np.float32(-0.0018447815), np.float32(-0.003907187), np.float32(-0.012227117), np.float32(0.0074527827), np.float32(0.031016434), np.float32(-0.014356484), np.float32(-0.008417024), np.float32(-0.0028073487), np.float32(0.0020891898), np.float32(-0.040578496), np.float32(-0.0250301), np.float32(-0.005681659), np.float32(-0.016606381), np.float32(-0.003920579), np.float32(-0.0191643), np.float32(0.040283866), np.float32(0.01935179), np.float32(0.012890033), np.float32(0.019699989), np.float32(-0.041703444), np.float32(-0.011865526), np.float32(-0.024373882), np.float32(-0.005072312), np.float32(-0.03380202), np.float32(-0.005624742), np.float32(0.038542874), np.float32(0.036426898), np.float32(0.0030567793), np.float32(0.009742856), np.float32(-0.019432144), np.float32(-0.01935179), np.float32(0.036989372), np.float32(0.004898213), np.float32(-0.015334117), np.float32(0.0010881197), np.float32(0.043015882), np.float32(0.00242567), np.float32(-0.0008612886), np.float32(0.018226841), np.float32(0.007981776), np.float32(-0.016485851), np.float32(-0.024132822), np.float32(-0.049712002), np.float32(0.005470731), np.float32(0.02591399), np.float32(-0.006799911), np.float32(0.0008499889), np.float32(0.0002847944), np.float32(0.008115699), np.float32(0.0040712417), np.float32(-0.009387962), np.float32(0.012970387), np.float32(-0.010365596), np.float32(-0.0048212074), np.float32(0.0057050954), np.float32(-0.011979361), np.float32(-0.024949748), np.float32(0.003927275), np.float32(0.033052053), np.float32(-0.0040879822), np.float32(0.002485935), np.float32(0.00818266), np.float32(-0.01493235), np.float32(0.0040411092), np.float32(-0.0035991652), np.float32(0.013445811), np.float32(-0.042828392), np.float32(-0.0010069292), np.float32(0.007553225), np.float32(-0.013767226), np.float32(-0.007780893), np.float32(-0.0061068623), np.float32(0.007767501), np.float32(-0.03559658), np.float32(-0.0016296685), np.float32(-0.007271988), np.float32(-0.0051225326), np.float32(-0.028445123), np.float32(-0.014865389), np.float32(-0.0032459449), np.float32(0.014396661), np.float32(0.021615079), np.float32(-0.00023792156), np.float32(-0.023315893), np.float32(-0.005859106), np.float32(-0.0116512505), np.float32(0.0042352965), np.float32(-0.0070242314), np.float32(-0.02663717), np.float32(0.01006427), np.float32(-0.0067630825), np.float32(0.013044044), np.float32(0.026596993), np.float32(0.012126676), np.float32(0.014905565), np.float32(-0.032462794), np.float32(-0.0009801447), np.float32(-0.004252037), np.float32(-0.0035255079), np.float32(-0.013887756), np.float32(-0.034364495), np.float32(-0.020583877), np.float32(0.011564202), np.float32(0.011021815), np.float32(-0.0034016296), np.float32(0.0061637796), np.float32(0.029409364), np.float32(-0.0018146489), np.float32(-0.027614804), np.float32(-0.029275442), np.float32(0.03040039), np.float32(-0.0072184186), np.float32(-0.011724908), np.float32(-0.016445674), np.float32(-0.0046538045), np.float32(0.010753971), np.float32(0.013660087), np.float32(0.004252037), np.float32(-0.021467764), np.float32(0.0025194157), np.float32(-0.0046671964), np.float32(0.013144486), np.float32(-0.017958997), np.float32(-0.014597544), np.float32(-0.013633302), np.float32(0.022726636), np.float32(0.0041147666), np.float32(0.012863249), np.float32(0.0068702204), np.float32(0.021226704), np.float32(0.01869557), np.float32(0.005132577), np.float32(-0.0010362248), np.float32(0.015066273), np.float32(-0.008370152), np.float32(-0.008845576), np.float32(-0.0076469705), np.float32(0.0017610799), np.float32(-0.0021427588), np.float32(-0.013117702), np.float32(-0.018521471), np.float32(0.03476626), np.float32(-0.00529998), np.float32(-0.0016497569), np.float32(-0.0009600564), np.float32(-0.027561234), np.float32(-0.019566067), np.float32(0.0021661953), np.float32(-0.02711929), np.float32(-0.047435325), np.float32(-0.035435874), np.float32(0.032328874), np.float32(-0.00094164204), np.float32(0.01893663), np.float32(0.028498692), np.float32(-0.008129091), np.float32(-0.019659812), np.float32(0.0058791945), np.float32(-0.0141020315), np.float32(-0.00030090695), np.float32(0.003471939), np.float32(0.025632752), np.float32(-0.008691565), np.float32(0.019150907), np.float32(-0.013070828), np.float32(-0.0019686597), np.float32(0.04473009), np.float32(-0.013010563), np.float32(0.016405497), np.float32(-0.026114874), np.float32(0.040123157), np.float32(0.0065019336), np.float32(0.019753557), np.float32(-0.019900871), np.float32(-0.04628359), np.float32(-0.0127360225), np.float32(0.023610523), np.float32(-0.024762256), np.float32(0.01612426), np.float32(0.016874226), np.float32(0.0021829356), np.float32(0.0737109), np.float32(0.0065421103), np.float32(-0.042587332), np.float32(0.003205768), np.float32(0.0139145395), np.float32(0.01893663), np.float32(-0.021842748), np.float32(0.0013425723), np.float32(0.018106312), np.float32(-0.027963003), np.float32(0.0022448746), np.float32(-0.0060097687), np.float32(0.031444985), np.float32(-0.01976695), np.float32(-0.018615218), np.float32(0.018521471), np.float32(-0.007841158), np.float32(0.020182109), np.float32(-0.017342955), np.float32(-0.025364907), np.float32(0.005095748), np.float32(-0.042506978), np.float32(0.008035346), np.float32(6.9805753e-07), np.float32(-0.04754246), np.float32(0.015200195), np.float32(0.04770317), np.float32(-0.012059715), np.float32(-0.0010688683), np.float32(-0.05726523), np.float32(0.0033162541), np.float32(-0.001661475), np.float32(-0.028498692), np.float32(-0.015253765), np.float32(0.00973616), np.float32(0.0026650561), np.float32(-0.006846784), np.float32(-0.023864975), np.float32(0.00079181633), np.float32(0.029034382), np.float32(-0.0077072354), np.float32(0.04162309), np.float32(-0.01988748), np.float32(-0.011249484), np.float32(-0.0148787815), np.float32(-0.0073724296), np.float32(-0.02758802), np.float32(-0.033534177), np.float32(-0.030828942)], 'node_index': 13814, 'node_id': 'Copper_(14012)', 'node_name': 'Copper'}\"]\n",
      "CPU times: user 14.2 ms, sys: 4.12 ms, total: 18.3 ms\n",
      "Wall time: 3.65 s\n"
     ]
    }
   ],
   "source": [
    "%%time\n",
    "\n",
    "# Assume node_coll_name is defined and collection exists\n",
    "collection = Collection(node_coll_name)\n",
    "\n",
    "# Load the collection into memory before query\n",
    "collection.load()\n",
    "\n",
    "# Query by expr on node_index\n",
    "expr = \"node_index == 13814\"\n",
    "output_fields = [\"node_index\", \"node_id\", \"node_name\", \"node_type\", \"desc\", \"desc_emb\"]\n",
    "\n",
    "results = collection.query(expr, output_fields=output_fields)\n",
    "\n",
    "print(results)"
   ]
  },
  {
   "cell_type": "code",
   "execution_count": 15,
   "id": "33d537f5",
   "metadata": {},
   "outputs": [
    {
     "name": "stdout",
     "output_type": "stream",
     "text": [
      "data: [\"{'node_type': 'drug', 'desc': 'Copper belongs to drug node. Copper is a transition metal and a trace element in the body. It is important to the function of many enzymes including cytochrome c oxidase, monoamine oxidase and superoxide dismutase. Copper is commonly used in contraceptive intrauterine devices (IUD). Copper is absorbed from the gut via high affinity copper uptake protein and likely through low affinity copper uptake protein and natural resistance-associated macrophage protein-2. It is believed that copper is reduced to the Cu1+ form prior to transport. Once inside the enterocyte, it is bound to copper transport protein ATOX1 which shuttles the ion to copper transporting ATPase-1 on the golgi membrane which take up copper into the golgi apparatus. Once copper has been secreted by enterocytes into the systemic circulation it remain largely bound by ceruloplasmin (65-90%), albumin (18%), and alpha 2-macroglobulin (12%).  Copper is nearly entirely bound by ceruloplasmin (65-90%), plasma albumin (18%), and alpha 2-macroglobulin (12%). Copper is incorporated into many enzymes throughout the body as an essential part of their function. Copper ions are known to reduce fertility when released from copper-containing IUDs. For use in the supplementation of total parenteral nutrition and in contraception with intrauterine devices.', 'desc_emb': [np.float32(-0.008437113), np.float32(-0.0066760327), np.float32(0.017289385), np.float32(-0.031070003), np.float32(-0.024708688), np.float32(0.0269318), np.float32(-0.025539007), np.float32(-0.016030515), np.float32(-0.022900734), np.float32(-0.0172626), np.float32(0.016351929), np.float32(0.022257907), np.float32(-0.013927932), np.float32(0.00728538), np.float32(-0.010954854), np.float32(0.013639999), np.float32(0.033105623), np.float32(0.025713105), np.float32(-0.0011316445), np.float32(0.019137515), np.float32(-0.042480193), np.float32(0.021963278), np.float32(0.0012337604), np.float32(-0.011530721), np.float32(0.0017661019), np.float32(0.011249484), np.float32(0.030427175), np.float32(-0.039641038), np.float32(-0.003863662), np.float32(-0.021789178), np.float32(-0.0007855387), np.float32(0.0020724495), np.float32(-0.020061579), np.float32(0.018146489), np.float32(0.010546391), np.float32(0.011095473), np.float32(0.019512497), np.float32(0.0062073045), np.float32(-0.0025277857), np.float32(-0.006558851), np.float32(0.018280411), np.float32(0.0065488066), np.float32(-0.006351271), np.float32(0.02423996), np.float32(-0.00078260916), np.float32(0.009568757), np.float32(0.005782101), np.float32(0.0011140672), np.float32(-0.025391692), np.float32(0.006451713), np.float32(0.0092004705), np.float32(0.012454785), np.float32(-0.005999725), np.float32(-0.015856415), np.float32(-0.00074871007), np.float32(-0.021869533), np.float32(0.007794285), np.float32(0.01845451), np.float32(0.01199945), np.float32(-0.020356208), np.float32(-0.01134323), np.float32(-0.010820932), np.float32(-0.011624467), np.float32(0.024373882), np.float32(0.0006189727), np.float32(0.031391416), np.float32(0.007030927), np.float32(0.008109002), np.float32(-0.0015032792), np.float32(0.017235816), np.float32(0.006471801), np.float32(0.031150356), np.float32(0.01280968), np.float32(-0.0128297685), np.float32(0.03709651), np.float32(-0.025820244), np.float32(-0.0650863), np.float32(0.00038105116), np.float32(0.0030249727), np.float32(0.018025959), np.float32(0.01905716), np.float32(0.006511978), np.float32(-0.0011835394), np.float32(0.019030377), np.float32(0.010084359), np.float32(0.015923377), np.float32(0.008470593), np.float32(0.025418475), np.float32(-0.0044562686), np.float32(-0.0039708), np.float32(-0.007124673), np.float32(0.017543837), np.float32(0.01988748), np.float32(0.036828667), np.float32(-0.0062006083), np.float32(0.034605555), np.float32(-0.01641889), np.float32(0.05046197), np.float32(-0.013064132), np.float32(-0.0117383), np.float32(-0.008443809), np.float32(0.015521609), np.float32(-0.00928752), np.float32(-0.016767088), np.float32(-0.019485712), np.float32(0.0052731954), np.float32(-0.014289523), np.float32(-0.011678035), np.float32(0.016981363), np.float32(-0.022606105), np.float32(-0.011236091), np.float32(0.07140744), np.float32(0.010526302), np.float32(-0.038676795), np.float32(-0.008309887), np.float32(0.0015719144), np.float32(0.027427312), np.float32(-0.0070510157), np.float32(-0.0006972336), np.float32(-0.0017995826), np.float32(-0.01653942), np.float32(0.014959135), np.float32(0.016767088), np.float32(-0.023329286), np.float32(0.009401354), np.float32(0.0119927535), np.float32(-0.022351652), np.float32(-0.019244652), np.float32(0.0075465287), np.float32(-0.00782107), np.float32(0.001381075), np.float32(-0.0016715192), np.float32(0.0038536177), np.float32(0.040042806), np.float32(-0.013372154), np.float32(0.004295562), np.float32(-0.020275855), np.float32(-0.0016430607), np.float32(-0.0058825426), np.float32(-0.02411943), np.float32(0.033614527), np.float32(0.021280274), np.float32(-0.011952576), np.float32(-0.002263289), np.float32(0.0011249484), np.float32(0.04055171), np.float32(0.038891073), np.float32(0.008972802), np.float32(-0.009321), np.float32(0.0048881685), np.float32(0.009890171), np.float32(-0.0013693568), np.float32(0.030534312), np.float32(-0.028739752), np.float32(0.021574903), np.float32(0.013050741), np.float32(-0.007379126), np.float32(0.016218005), np.float32(0.014061854), np.float32(-0.029355796), np.float32(-0.0016413868), np.float32(-0.0352216), np.float32(-0.009990613), np.float32(-0.002601443), np.float32(0.017342955), np.float32(0.019820519), np.float32(0.0128297685), np.float32(-0.006639204), np.float32(0.025726497), np.float32(-0.0059294156), np.float32(0.012207029), np.float32(0.023048049), np.float32(-0.029543286), np.float32(0.03128428), np.float32(0.0059227194), np.float32(0.009622326), np.float32(0.007881335), np.float32(0.014222561), np.float32(-0.013767226), np.float32(-0.029329011), np.float32(-0.003368149), np.float32(-0.0037900046), np.float32(0.018722355), np.float32(-0.009321), np.float32(-0.009856691), np.float32(0.0010152993), np.float32(0.01833398), np.float32(0.01289673), np.float32(0.0115575055), np.float32(-0.015856415), np.float32(-0.027454097), np.float32(0.008450505), np.float32(-0.029302226), np.float32(-0.027748726), np.float32(-0.6355423), np.float32(0.004138203), np.float32(-0.0039607557), np.float32(-0.021936493), np.float32(-0.011015119), np.float32(0.019606244), np.float32(0.017704545), np.float32(-0.0042788214), np.float32(0.008852272), np.float32(5.3359716e-05), np.float32(0.00027454097), np.float32(0.023623915), np.float32(0.020757975), np.float32(-0.023155186), np.float32(-0.012046322), np.float32(-0.024949748), np.float32(-0.015267156), np.float32(-0.002541178), np.float32(0.0062742657), np.float32(-0.05303328), np.float32(-0.052872572), np.float32(0.004616976), np.float32(-0.020570485), np.float32(0.016981363), np.float32(0.0143297), np.float32(-0.0025746587), np.float32(0.01857504), np.float32(-0.019726774), np.float32(-0.009347785), np.float32(0.007506352), np.float32(0.0028073487), np.float32(0.02335607), np.float32(0.019258045), np.float32(0.04239984), np.float32(0.051988684), np.float32(0.004878124), np.float32(-0.0148787815), np.float32(0.020275855), np.float32(-0.0076871472), np.float32(0.035034105), np.float32(-0.0100374855), np.float32(-0.02496314), np.float32(0.015789453), np.float32(-0.04001602), np.float32(-0.004794423), np.float32(0.011537417), np.float32(0.019539282), np.float32(0.018842885), np.float32(0.019673204), np.float32(-0.0061604315), np.float32(-0.012963691), np.float32(-0.0152805485), np.float32(-0.011959272), np.float32(0.0075800093), np.float32(-0.0051627094), np.float32(0.01161777), np.float32(0.029114734), np.float32(-0.02603452), np.float32(0.008102307), np.float32(-0.0041817278), np.float32(0.0014873759), np.float32(-0.0014020004), np.float32(0.0007102074), np.float32(-0.017664367), np.float32(-0.01976695), np.float32(-0.010995031), np.float32(-0.036266193), np.float32(-0.008731742), np.float32(0.005139273), np.float32(0.028793322), np.float32(0.011075385), np.float32(0.012474874), np.float32(0.009749552), np.float32(-0.016325144), np.float32(0.03050753), np.float32(0.015481432), np.float32(-0.008169268), np.float32(0.0077608046), np.float32(-0.0039473632), np.float32(0.046203237), np.float32(0.013459204), np.float32(0.012059715), np.float32(-0.008216141), np.float32(-0.017744722), np.float32(0.03069502), np.float32(0.0075197443), np.float32(-0.0064818454), np.float32(-0.00019094408), np.float32(0.0203696), np.float32(-0.018200057), np.float32(0.009454923), np.float32(0.007620186), np.float32(-0.006639204), np.float32(-0.019338397), np.float32(-0.025391692), np.float32(0.01893663), np.float32(-0.01923126), np.float32(-0.022177553), np.float32(0.019807126), np.float32(0.004148247), np.float32(-0.008209445), np.float32(-0.027333567), np.float32(-0.035194814), np.float32(0.015401078), np.float32(0.016151045), np.float32(0.014128815), np.float32(-0.026851445), np.float32(-0.00474755), np.float32(0.03840895), np.float32(-0.024333704), np.float32(-0.004134855), np.float32(-0.0017008148), np.float32(0.00752644), np.float32(-0.016807264), np.float32(-0.0034551986), np.float32(-0.004121463), np.float32(0.0031890278), np.float32(0.012836465), np.float32(-0.00024231589), np.float32(-0.027855864), np.float32(0.030427175), np.float32(-0.011510632), np.float32(0.0033396904), np.float32(0.0075398325), np.float32(-0.010057574), np.float32(0.005544388), np.float32(0.0026717524), np.float32(-0.025244378), np.float32(-0.0032911436), np.float32(-0.0140082855), np.float32(0.0022046978), np.float32(-0.006294354), np.float32(0.022445397), np.float32(-0.010747274), np.float32(0.031793185), np.float32(0.013619911), np.float32(0.039694607), np.float32(-0.001375216), np.float32(-0.006361315), np.float32(-0.039641038), np.float32(-0.016700126), np.float32(-0.011611074), np.float32(0.0068702204), np.float32(-4.9462364e-05), np.float32(-0.01239452), np.float32(-0.015079665), np.float32(-0.023623915), np.float32(0.024534589), np.float32(0.0030166027), np.float32(-0.01248157), np.float32(-0.017168855), np.float32(-0.0068266955), np.float32(-0.005022091), np.float32(0.037551846), np.float32(0.019338397), np.float32(-0.012173548), np.float32(-0.0092004705), np.float32(-0.005695051), np.float32(-0.012622189), np.float32(-0.003205768), np.float32(-0.008470593), np.float32(0.03840895), np.float32(-0.020329423), np.float32(0.0057050954), np.float32(-0.00937457), np.float32(0.007184938), np.float32(0.005674963), np.float32(0.022485575), np.float32(-0.013593126), np.float32(-0.038060755), np.float32(0.0064215804), np.float32(0.0027654981), np.float32(-0.013994893), np.float32(-0.008504074), np.float32(-0.025391692), np.float32(0.0005382007), np.float32(-0.0013676827), np.float32(-0.0052798917), np.float32(-0.020061579), np.float32(0.00061771716), np.float32(-0.007727324), np.float32(-0.011323141), np.float32(-0.014945743), np.float32(-0.009622326), np.float32(0.022498967), np.float32(0.014557367), np.float32(0.019217867), np.float32(0.005089052), np.float32(0.0040611974), np.float32(0.027079115), np.float32(0.0032308784), np.float32(0.014463622), np.float32(-0.021601686), np.float32(-0.008852272), np.float32(-0.010499518), np.float32(-0.005353549), np.float32(-0.0070778), np.float32(0.005192842), np.float32(-0.0020791458), np.float32(0.022137377), np.float32(0.014222561), np.float32(-0.012253902), np.float32(-0.0066157677), np.float32(-0.03439128), np.float32(0.00048756134), np.float32(-0.009957132), np.float32(-0.01301726), np.float32(0.0054272064), np.float32(0.030025408), np.float32(-0.0023955374), np.float32(-0.0057184873), np.float32(-0.021333842), np.float32(0.0013534535), np.float32(-0.0130775245), np.float32(-0.0031655913), np.float32(0.042239133), np.float32(0.0065387622), np.float32(-0.018950023), np.float32(-0.00015662645), np.float32(-0.02508367), np.float32(-0.00062817987), np.float32(-0.010887893), np.float32(0.036266193), np.float32(-0.00138526), np.float32(-0.0011827024), np.float32(0.0016397127), np.float32(0.020356208), np.float32(-0.002588051), np.float32(-0.0035589885), np.float32(-0.005762012), np.float32(0.011015119), np.float32(-0.0093544815), np.float32(-0.00928752), np.float32(-0.010111143), np.float32(-0.0024323661), np.float32(0.007205026), np.float32(0.0073456448), np.float32(-0.011336533), np.float32(0.03240923), np.float32(-0.015320726), np.float32(-0.0017995826), np.float32(0.0105329985), np.float32(0.02825763), np.float32(-0.0005649852), np.float32(0.008745134), np.float32(-0.013820794), np.float32(0.020811545), np.float32(0.01833398), np.float32(0.004138203), np.float32(0.010298635), np.float32(0.00055452256), np.float32(0.011303052), np.float32(-0.037900046), np.float32(-0.016137652), np.float32(0.001607069), np.float32(-0.010204889), np.float32(0.012595404), np.float32(0.03010576), np.float32(0.035382304), np.float32(0.028043356), np.float32(0.030802157), np.float32(-0.013251624), np.float32(0.0038435736), np.float32(-0.013070828), np.float32(0.0035589885), np.float32(0.021052605), np.float32(0.017342955), np.float32(-0.016378712), np.float32(-0.0191643), np.float32(0.00043692192), np.float32(-0.03666796), np.float32(-0.00024566395), np.float32(0.009394658), np.float32(-0.019740166), np.float32(0.013613215), np.float32(0.031444985), np.float32(-0.017905429), np.float32(0.017249208), np.float32(0.013646695), np.float32(-0.011202611), np.float32(-0.028686183), np.float32(-0.027266605), np.float32(0.0076268823), np.float32(0.01964642), np.float32(-0.010325419), np.float32(-0.026195226), np.float32(-0.029114734), np.float32(0.015976945), np.float32(0.0049283453), np.float32(0.018561648), np.float32(-0.009508492), np.float32(0.019258045), np.float32(-0.010466037), np.float32(0.02532473), np.float32(-0.017624192), np.float32(-0.0038804023), np.float32(0.021119567), np.float32(-0.008798704), np.float32(0.010921374), np.float32(-0.012267294), np.float32(-0.016619774), np.float32(-0.02197667), np.float32(-0.04167666), np.float32(0.015160019), np.float32(0.05356897), np.float32(0.0077139316), np.float32(0.0119124), np.float32(-0.007747412), np.float32(0.009762945), np.float32(0.011102169), np.float32(-0.016392104), np.float32(0.004687285), np.float32(0.0025227636), np.float32(-0.040873125), np.float32(0.0007072778), np.float32(0.018213449), np.float32(-0.020048186), np.float32(0.014075247), np.float32(0.030962864), np.float32(-0.022003455), np.float32(-0.018347371), np.float32(-0.009481708), np.float32(-0.005022091), np.float32(0.0012119979), np.float32(0.0127360225), np.float32(0.020034796), np.float32(-0.013432419), np.float32(0.007057712), np.float32(0.019258045), np.float32(0.006173824), np.float32(0.0067563863), np.float32(-0.015816238), np.float32(0.019311614), np.float32(0.005735228), np.float32(0.010452645), np.float32(-0.021467764), np.float32(-0.012140068), np.float32(-0.0019602894), np.float32(-0.0013844231), np.float32(0.004550014), np.float32(-0.008530859), np.float32(-0.023141796), np.float32(0.0020172065), np.float32(-0.007573313), np.float32(0.021507941), np.float32(-0.021601686), np.float32(0.011229395), np.float32(0.0236507), np.float32(0.013901148), np.float32(-0.0015576852), np.float32(0.0067028175), np.float32(0.028712967), np.float32(0.037016157), np.float32(0.00019502454), np.float32(0.02496314), np.float32(-0.003425066), np.float32(0.018025959), np.float32(0.010198193), np.float32(-0.044890795), np.float32(-0.0026667302), np.float32(0.009776337), np.float32(0.0160573), np.float32(-0.0027956306), np.float32(0.0222713), np.float32(0.017101893), np.float32(0.026971977), np.float32(0.009454923), np.float32(-0.009756248), np.float32(-0.010325419), np.float32(-0.020865114), np.float32(0.0126757575), np.float32(-0.011637859), np.float32(0.004031065), np.float32(-0.010211585), np.float32(0.018066134), np.float32(-0.0007675429), np.float32(0.0116512505), np.float32(-0.0345252), np.float32(0.028016571), np.float32(-0.028793322), np.float32(0.011216003), np.float32(0.010419165), np.float32(-0.018427726), np.float32(-0.005373637), np.float32(-0.0022381786), np.float32(-0.0115575055), np.float32(0.029382579), np.float32(-0.007901423), np.float32(0.019807126), np.float32(-0.015119841), np.float32(-0.012494963), np.float32(-0.029007597), np.float32(-0.0042587332), np.float32(0.006023161), np.float32(0.011216003), np.float32(-0.030828942), np.float32(0.0009006283), np.float32(-0.010332115), np.float32(0.017048325), np.float32(0.026864838), np.float32(-0.0006809118), np.float32(-0.020624053), np.float32(0.006686077), np.float32(0.030266467), np.float32(-0.0037866565), np.float32(-0.022083808), np.float32(0.0014647765), np.float32(-0.038007185), np.float32(0.011242787), np.float32(-0.008276406), np.float32(0.03744471), np.float32(-5.6393896e-05), np.float32(-0.013727048), np.float32(-0.00018435258), np.float32(0.00851077), np.float32(-0.022539144), np.float32(-0.009756248), np.float32(-0.008530859), np.float32(-0.004312302), np.float32(0.008571035), np.float32(0.011416887), np.float32(0.010405772), np.float32(0.0084237205), np.float32(-0.012501658), np.float32(-0.00015045347), np.float32(-0.011115561), np.float32(-0.00034966308), np.float32(-0.033132408), np.float32(-0.011055296), np.float32(-0.0055142557), np.float32(-0.012086499), np.float32(0.0061001666), np.float32(-0.015776062), np.float32(-0.026208619), np.float32(-0.0002839574), np.float32(-0.009729465), np.float32(-0.009990613), np.float32(-0.016914403), np.float32(0.0007830277), np.float32(0.009079941), np.float32(-0.011115561), np.float32(0.033560958), np.float32(-0.011965969), np.float32(-0.010767363), np.float32(-0.005591261), np.float32(0.00782107), np.float32(0.025940774), np.float32(0.023128403), np.float32(-0.009769641), np.float32(0.020878507), np.float32(-0.009716072), np.float32(-0.013820794), np.float32(-0.004878124), np.float32(0.005239715), np.float32(0.020985644), np.float32(0.03200746), np.float32(-0.020691015), np.float32(-0.03265029), np.float32(-0.0014061854), np.float32(-0.006039901), np.float32(-0.009140206), np.float32(-0.0154680405), np.float32(-0.006572243), np.float32(-0.00046245087), np.float32(-0.0072585954), np.float32(0.009033067), np.float32(-0.011751693), np.float32(-0.012320863), np.float32(0.0021193223), np.float32(-0.025230985), np.float32(0.0068133036), np.float32(0.014744859), np.float32(-0.006130299), np.float32(0.009428139), np.float32(0.01272263), np.float32(-0.027775511), np.float32(-0.03117714), np.float32(0.019579459), np.float32(-0.01565553), np.float32(-0.018066134), np.float32(-0.0070911925), np.float32(-0.02256593), np.float32(0.040123157), np.float32(0.025177415), np.float32(0.025806852), np.float32(0.00051727536), np.float32(0.006013117), np.float32(-0.0051091406), np.float32(-0.0017610799), np.float32(0.01636532), np.float32(-0.010820932), np.float32(-0.0009039764), np.float32(0.00826971), np.float32(0.015843023), np.float32(0.015173411), np.float32(-0.010352204), np.float32(0.014209169), np.float32(-0.0014145556), np.float32(-0.0080219535), np.float32(0.015548393), np.float32(-0.017450092), np.float32(-0.0012814702), np.float32(-0.022820381), np.float32(-0.007251899), np.float32(-0.042694468), np.float32(-0.0040009324), np.float32(-0.021307059), np.float32(-0.003266033), np.float32(-0.03128428), np.float32(-0.018441118), np.float32(0.01481182), np.float32(0.008792007), np.float32(0.01976695), np.float32(-0.019900871), np.float32(0.0283112), np.float32(-0.023757838), np.float32(0.035489444), np.float32(0.0072184186), np.float32(0.003204094), np.float32(-0.0052932836), np.float32(-0.026971977), np.float32(-0.0054037697), np.float32(0.01427613), np.float32(0.020637445), np.float32(-0.0028106968), np.float32(0.015293941), np.float32(-0.006796563), np.float32(-0.030989649), np.float32(0.0056548743), np.float32(0.012977083), np.float32(-0.014235954), np.float32(-0.0074326945), np.float32(0.020034796), np.float32(-0.022887342), np.float32(-0.0052664992), np.float32(-0.003984192), np.float32(-0.015695708), np.float32(-0.0469532), np.float32(-0.00029965144), np.float32(0.023128403), np.float32(-0.005909327), np.float32(0.018293804), np.float32(-0.008919233), np.float32(-0.00060097687), np.float32(0.022083808), np.float32(-0.0060733818), np.float32(0.042426623), np.float32(-0.021588296), np.float32(0.038730364), np.float32(0.004811163), np.float32(-0.004295562), np.float32(-0.005286588), np.float32(-0.01576267), np.float32(0.006846784), np.float32(-0.0024206478), np.float32(0.021333842), np.float32(0.040042806), np.float32(-0.0011885616), np.float32(-0.0031354588), np.float32(-0.01108208), np.float32(-0.007245203), np.float32(0.005008699), np.float32(-0.014557367), np.float32(0.0079416), np.float32(0.0017393174), np.float32(0.0051057925), np.float32(-0.028177278), np.float32(-0.00082697097), np.float32(0.0025177416), np.float32(0.009012979), np.float32(0.00045073265), np.float32(-0.012997171), np.float32(-0.021815963), np.float32(0.009274128), np.float32(-0.0037129992), np.float32(0.018106312), np.float32(0.0016405497), np.float32(0.026275579), np.float32(0.0027839125), np.float32(-0.0008353411), np.float32(-0.00031513622), np.float32(-0.027909433), np.float32(-0.011631163), np.float32(-0.007720628), np.float32(0.01755723), np.float32(0.024293527), np.float32(0.014423445), np.float32(0.013405635), np.float32(-8.8305096e-05), np.float32(-0.0039339713), np.float32(0.011216003), np.float32(-0.020074971), np.float32(0.0029094648), np.float32(0.036159053), np.float32(0.005952852), np.float32(0.013927932), np.float32(0.0250301), np.float32(0.009274128), np.float32(0.0033296463), np.float32(-0.029007597), np.float32(-0.001322484), np.float32(-0.004794423), np.float32(-0.024132822), np.float32(-0.015240372), np.float32(-0.0040879822), np.float32(0.00015348765), np.float32(-0.029462934), np.float32(-0.016981363), np.float32(-0.0016397127), np.float32(0.006237437), np.float32(-0.04981914), np.float32(0.006304398), np.float32(0.049229883), np.float32(-0.040149942), np.float32(-0.014302915), np.float32(-0.005045527), np.float32(0.0011559179), np.float32(0.029570071), np.float32(-0.009541973), np.float32(-0.009334393), np.float32(-0.029409364), np.float32(0.016070692), np.float32(-0.010245065), np.float32(0.030828942), np.float32(0.026730916), np.float32(0.024333704), np.float32(-0.0040076287), np.float32(0.0047207656), np.float32(-0.015668923), np.float32(-0.018722355), np.float32(0.013131094), np.float32(-0.007205026), np.float32(-0.03050753), np.float32(0.0042754733), np.float32(-0.013124398), np.float32(-0.004027717), np.float32(0.03506089), np.float32(-0.008704958), np.float32(0.015494824), np.float32(0.0010822606), np.float32(0.013994893), np.float32(0.0012019537), np.float32(-0.009796426), np.float32(0.0075465287), np.float32(-0.029543286), np.float32(-0.00044068848), np.float32(0.018963415), np.float32(-0.011959272), np.float32(-0.026222011), np.float32(-0.012588708), np.float32(0.0012873294), np.float32(0.011001728), np.float32(-0.018588433), np.float32(-0.0029914922), np.float32(-0.0239989), np.float32(0.007727324), np.float32(-0.02156151), np.float32(-0.020691015), np.float32(0.014316307), np.float32(-0.0051459693), np.float32(-0.018133096), np.float32(0.015146626), np.float32(-0.0058791945), np.float32(0.0034133478), np.float32(-0.023798015), np.float32(-0.015856415), np.float32(0.018508079), np.float32(-0.0008232044), np.float32(-0.002102582), np.float32(0.0057151397), np.float32(0.005976288), np.float32(-0.021668648), np.float32(-0.028230848), np.float32(0.01904377), np.float32(0.0062608733), np.float32(0.018735748), np.float32(0.00011571735), np.float32(-0.026530033), np.float32(-0.004767638), np.float32(0.018226841), np.float32(-0.020436563), np.float32(-0.027092507), np.float32(-0.005366941), np.float32(0.024266744), np.float32(-0.0014061854), np.float32(0.023195364), np.float32(0.007673755), np.float32(-0.015628748), np.float32(-0.008865665), np.float32(0.02532473), np.float32(-0.039078563), np.float32(0.007740716), np.float32(0.034257356), np.float32(0.0006193912), np.float32(0.033694882), np.float32(0.01334537), np.float32(-0.03899821), np.float32(-0.024936356), np.float32(0.020945467), np.float32(0.00045575475), np.float32(0.0047341576), np.float32(0.014142208), np.float32(-0.009140206), np.float32(3.5965495e-05), np.float32(-0.012133372), np.float32(-0.018066134), np.float32(2.0389167e-05), np.float32(-0.0119124), np.float32(0.031980675), np.float32(-0.0075599207), np.float32(-0.018494686), np.float32(0.007071104), np.float32(0.0028558958), np.float32(-0.006555503), np.float32(-0.0012019537), np.float32(-0.0075867055), np.float32(0.014222561), np.float32(-0.013994893), np.float32(0.0025512222), np.float32(-0.006736298), np.float32(0.036641177), np.float32(-0.0096022375), np.float32(-0.011778478), np.float32(0.015990337), np.float32(-0.001714207), np.float32(-0.0018163229), np.float32(0.023382856), np.float32(-0.017222423), np.float32(-0.023423033), np.float32(-0.011269572), np.float32(-0.026489856), np.float32(-0.00024524544), np.float32(-0.008604515), np.float32(0.0059260675), np.float32(-0.008490682), np.float32(0.0024691946), np.float32(-0.0019234609), np.float32(-0.027829079), np.float32(0.010178104), np.float32(-0.01857504), np.float32(-0.0146912895), np.float32(-0.028766537), np.float32(0.012977083), np.float32(-0.008450505), np.float32(0.004208512), np.float32(-0.0014672875), np.float32(-0.0024457583), np.float32(-0.0030048843), np.float32(-0.015601963), np.float32(-0.0047609424), np.float32(0.0046605), np.float32(-0.023007873), np.float32(-0.02591399), np.float32(-0.009187078), np.float32(0.007573313), np.float32(0.017075108), np.float32(-0.019499104), np.float32(-0.0068099555), np.float32(0.008477289), np.float32(0.017235816), np.float32(0.1923126), np.float32(-0.0063881), np.float32(0.028391553), np.float32(0.027320175), np.float32(-0.009441531), np.float32(0.002644968), np.float32(0.015401078), np.float32(0.004814511), np.float32(0.020503523), np.float32(0.01595016), np.float32(0.013218143), np.float32(0.0074326945), np.float32(-0.014543976), np.float32(0.00082194887), np.float32(-0.033828806), np.float32(-0.01564214), np.float32(-0.042426623), np.float32(0.0019619635), np.float32(-0.012709238), np.float32(0.017958997), np.float32(-0.013211447), np.float32(-0.020449955), np.float32(0.02340964), np.float32(-0.014651113), np.float32(0.00806213), np.float32(-0.0011977687), np.float32(0.0107204905), np.float32(-0.0028960723), np.float32(0.019016985), np.float32(0.00032894695), np.float32(0.0017778202), np.float32(0.0053903777), np.float32(0.010847717), np.float32(-0.00043273682), np.float32(0.014168993), np.float32(-0.00673295), np.float32(0.011450367), np.float32(-0.02855226), np.float32(0.0122405095), np.float32(-0.019445537), np.float32(-0.003977496), np.float32(0.010633441), np.float32(-0.02825763), np.float32(-0.010834324), np.float32(-0.010238369), np.float32(0.0132650165), np.float32(0.0004088819), np.float32(-0.023141796), np.float32(-0.014677898), np.float32(-0.004580147), np.float32(-0.03599835), np.float32(0.01096155), np.float32(0.002154477), np.float32(0.0027219732), np.float32(-0.0039339713), np.float32(0.012695846), np.float32(-0.0030266468), np.float32(0.00056665926), np.float32(0.008671477), np.float32(0.0038770542), np.float32(-0.003582425), np.float32(-0.0019586154), np.float32(-0.012508354), np.float32(0.04068563), np.float32(-0.0028207412), np.float32(0.030373605), np.float32(-0.023208756), np.float32(-0.009488404), np.float32(0.026797878), np.float32(-0.024976533), np.float32(-0.00076586887), np.float32(0.008229533), np.float32(-0.007138065), np.float32(0.000117705255), np.float32(-0.004198468), np.float32(0.0074259983), np.float32(-0.010445949), np.float32(0.017932212), np.float32(0.013111006), np.float32(-0.00018236467), np.float32(-0.010767363), np.float32(-0.011102169), np.float32(-0.0298647), np.float32(0.013680176), np.float32(-0.0062006083), np.float32(-0.0011400146), np.float32(0.014651113), np.float32(-0.006532066), np.float32(-0.025873812), np.float32(-0.009441531), np.float32(0.012106587), np.float32(-0.019847304), np.float32(-0.008530859), np.float32(-0.012715934), np.float32(0.013305193), np.float32(0.005577869), np.float32(0.011416887), np.float32(0.006013117), np.float32(-0.0029144867), np.float32(0.005289936), np.float32(-0.023838192), np.float32(0.07231811), np.float32(0.009086637), np.float32(0.014530583), np.float32(0.010238369), np.float32(0.017061718), np.float32(-0.021119567), np.float32(0.018802708), np.float32(0.005755316), np.float32(-0.0219231), np.float32(0.01720903), np.float32(-0.026623778), np.float32(-0.013452508), np.float32(-0.011416887), np.float32(0.006565547), np.float32(0.025646145), np.float32(0.018775923), np.float32(-0.011905704), np.float32(0.010419165), np.float32(-0.009146902), np.float32(0.007010839), np.float32(-0.024400666), np.float32(0.009254039), np.float32(0.0041817278), np.float32(-0.00529998), np.float32(1.29345e-05), np.float32(-0.027373744), np.float32(0.015414471), np.float32(-0.0205437), np.float32(-0.03575729), np.float32(-0.011631163), np.float32(-0.008135787), np.float32(0.005932763), np.float32(0.009930348), np.float32(-0.012454785), np.float32(0.020798152), np.float32(0.017302778), np.float32(-0.0048479917), np.float32(0.0046906327), np.float32(0.02406586), np.float32(-0.018267019), np.float32(-0.0035121157), np.float32(0.028980812), np.float32(0.005969592), np.float32(0.0053435047), np.float32(-0.020744585), np.float32(-0.021548118), np.float32(-0.0006344575), np.float32(-0.022204338), np.float32(-0.019793734), np.float32(0.0014873759), np.float32(-0.01773133), np.float32(-0.0049417373), np.float32(-0.000582144), np.float32(0.013847578), np.float32(-0.02263289), np.float32(-0.009508492), np.float32(-0.03618584), np.float32(0.013968109), np.float32(-0.017570622), np.float32(-0.016606381), np.float32(0.0011575919), np.float32(0.028820105), np.float32(0.0021193223), np.float32(-0.013847578), np.float32(0.009180382), np.float32(-0.16874225), np.float32(0.01558857), np.float32(0.01108208), np.float32(-0.027400527), np.float32(0.013425723), np.float32(0.00674969), np.float32(-0.023811407), np.float32(0.018441118), np.float32(0.0076871472), np.float32(-0.011162434), np.float32(0.033587743), np.float32(0.008571035), np.float32(-0.022177553), np.float32(-0.022659674), np.float32(-0.0035121157), np.float32(-0.00814918), np.float32(-0.0065421103), np.float32(0.0053234166), np.float32(0.021333842), np.float32(0.016351929), np.float32(0.023061441), np.float32(-0.027668374), np.float32(0.005966244), np.float32(-0.009829906), np.float32(0.034310926), np.float32(0.027146075), np.float32(0.01738313), np.float32(-0.006448365), np.float32(0.009006283), np.float32(-0.0094482275), np.float32(-0.0004201816), np.float32(0.019191083), np.float32(0.041783795), np.float32(0.00017807497), np.float32(0.025043493), np.float32(0.0048379474), np.float32(0.017275993), np.float32(-0.02663717), np.float32(0.00018121378), np.float32(0.022780204), np.float32(0.006910397), np.float32(0.0014488732), np.float32(-0.014543976), np.float32(0.026985368), np.float32(-0.020945467), np.float32(0.031873535), np.float32(-0.01289673), np.float32(0.0028558958), np.float32(0.029329011), np.float32(0.0029061167), np.float32(0.026945192), np.float32(-0.0038000487), np.float32(-0.004144899), np.float32(0.02406586), np.float32(0.019994618), np.float32(0.0019000244), np.float32(-0.0012990475), np.float32(0.036453683), np.float32(-0.003138807), np.float32(-0.011122257), np.float32(0.0028358074), np.float32(-0.017450092), np.float32(0.01719564), np.float32(0.000996885), np.float32(0.02353017), np.float32(-0.015079665), np.float32(-0.0011492218), np.float32(0.019070553), np.float32(-0.025391692), np.float32(-0.0027437357), np.float32(-0.012756111), np.float32(0.008169268), np.float32(0.018789316), np.float32(-0.010365596), np.float32(0.019793734), np.float32(0.01904377), np.float32(-0.01976695), np.float32(0.005082356), np.float32(-0.0033564307), np.float32(0.01595016), np.float32(-0.007271988), np.float32(0.009937044), np.float32(-0.03875715), np.float32(-0.012006145), np.float32(-0.01636532), np.float32(-0.015749278), np.float32(0.016834049), np.float32(-0.005135925), np.float32(-0.0046538045), np.float32(0.0034418064), np.float32(0.017329562), np.float32(-0.021374019), np.float32(-0.03131106), np.float32(-0.031578906), np.float32(0.026596993), np.float32(0.013104309), np.float32(0.014343091), np.float32(-0.009655807), np.float32(-0.018441118), np.float32(-0.022070415), np.float32(0.025592575), np.float32(-0.021226704), np.float32(-0.02981113), np.float32(-0.0023938634), np.float32(0.04467652), np.float32(0.012494963), np.float32(-0.011845439), np.float32(-0.017048325), np.float32(0.027829079), np.float32(-0.0025076973), np.float32(0.009849994), np.float32(-0.0013316912), np.float32(0.019338397), np.float32(0.040149942), np.float32(-0.0201955), np.float32(0.03492697), np.float32(0.020141933), np.float32(-0.020824937), np.float32(-0.010004005), np.float32(-0.020262463), np.float32(0.045640763), np.float32(0.0074996557), np.float32(-0.0004524067), np.float32(0.0107204905), np.float32(-0.026288971), np.float32(-0.007399214), np.float32(-0.11935166), np.float32(-0.006558851), np.float32(0.025137238), np.float32(0.013927932), np.float32(-0.009361178), np.float32(0.003309558), np.float32(-0.019030377), np.float32(0.029275442), np.float32(0.013666783), np.float32(0.022485575), np.float32(-0.02442745), np.float32(-0.016726911), np.float32(-0.009896867), np.float32(-0.0058825426), np.float32(0.008872361), np.float32(0.009207167), np.float32(-0.009501796), np.float32(-0.0030015362), np.float32(-0.027775511), np.float32(0.032141384), np.float32(-0.0019720078), np.float32(-0.023074834), np.float32(0.0063981437), np.float32(0.018615218), np.float32(-0.008109002), np.float32(-0.010499518), np.float32(-0.0050388314), np.float32(0.01301726), np.float32(0.005865802), np.float32(0.0071447613), np.float32(0.024414059), np.float32(0.00042562222), np.float32(0.035194814), np.float32(-0.0025076973), np.float32(-0.016874226), np.float32(0.0070041427), np.float32(0.01869557), np.float32(0.00035803323), np.float32(0.0445426), np.float32(-0.020168718), np.float32(-0.0045634066), np.float32(0.010620048), np.float32(0.004473009), np.float32(-0.011510632), np.float32(0.026061304), np.float32(-0.010432557), np.float32(-0.03709651), np.float32(-0.0054405984), np.float32(-0.01445023), np.float32(-0.011765085), np.float32(-0.025954166), np.float32(-0.009541973), np.float32(-0.037364356), np.float32(-0.004633716), np.float32(0.011818654), np.float32(0.0059461556), np.float32(0.021226704), np.float32(0.019191083), np.float32(-0.029757563), np.float32(-0.0131712705), np.float32(-0.0018447815), np.float32(-0.003907187), np.float32(-0.012227117), np.float32(0.0074527827), np.float32(0.031016434), np.float32(-0.014356484), np.float32(-0.008417024), np.float32(-0.0028073487), np.float32(0.0020891898), np.float32(-0.040578496), np.float32(-0.0250301), np.float32(-0.005681659), np.float32(-0.016606381), np.float32(-0.003920579), np.float32(-0.0191643), np.float32(0.040283866), np.float32(0.01935179), np.float32(0.012890033), np.float32(0.019699989), np.float32(-0.041703444), np.float32(-0.011865526), np.float32(-0.024373882), np.float32(-0.005072312), np.float32(-0.03380202), np.float32(-0.005624742), np.float32(0.038542874), np.float32(0.036426898), np.float32(0.0030567793), np.float32(0.009742856), np.float32(-0.019432144), np.float32(-0.01935179), np.float32(0.036989372), np.float32(0.004898213), np.float32(-0.015334117), np.float32(0.0010881197), np.float32(0.043015882), np.float32(0.00242567), np.float32(-0.0008612886), np.float32(0.018226841), np.float32(0.007981776), np.float32(-0.016485851), np.float32(-0.024132822), np.float32(-0.049712002), np.float32(0.005470731), np.float32(0.02591399), np.float32(-0.006799911), np.float32(0.0008499889), np.float32(0.0002847944), np.float32(0.008115699), np.float32(0.0040712417), np.float32(-0.009387962), np.float32(0.012970387), np.float32(-0.010365596), np.float32(-0.0048212074), np.float32(0.0057050954), np.float32(-0.011979361), np.float32(-0.024949748), np.float32(0.003927275), np.float32(0.033052053), np.float32(-0.0040879822), np.float32(0.002485935), np.float32(0.00818266), np.float32(-0.01493235), np.float32(0.0040411092), np.float32(-0.0035991652), np.float32(0.013445811), np.float32(-0.042828392), np.float32(-0.0010069292), np.float32(0.007553225), np.float32(-0.013767226), np.float32(-0.007780893), np.float32(-0.0061068623), np.float32(0.007767501), np.float32(-0.03559658), np.float32(-0.0016296685), np.float32(-0.007271988), np.float32(-0.0051225326), np.float32(-0.028445123), np.float32(-0.014865389), np.float32(-0.0032459449), np.float32(0.014396661), np.float32(0.021615079), np.float32(-0.00023792156), np.float32(-0.023315893), np.float32(-0.005859106), np.float32(-0.0116512505), np.float32(0.0042352965), np.float32(-0.0070242314), np.float32(-0.02663717), np.float32(0.01006427), np.float32(-0.0067630825), np.float32(0.013044044), np.float32(0.026596993), np.float32(0.012126676), np.float32(0.014905565), np.float32(-0.032462794), np.float32(-0.0009801447), np.float32(-0.004252037), np.float32(-0.0035255079), np.float32(-0.013887756), np.float32(-0.034364495), np.float32(-0.020583877), np.float32(0.011564202), np.float32(0.011021815), np.float32(-0.0034016296), np.float32(0.0061637796), np.float32(0.029409364), np.float32(-0.0018146489), np.float32(-0.027614804), np.float32(-0.029275442), np.float32(0.03040039), np.float32(-0.0072184186), np.float32(-0.011724908), np.float32(-0.016445674), np.float32(-0.0046538045), np.float32(0.010753971), np.float32(0.013660087), np.float32(0.004252037), np.float32(-0.021467764), np.float32(0.0025194157), np.float32(-0.0046671964), np.float32(0.013144486), np.float32(-0.017958997), np.float32(-0.014597544), np.float32(-0.013633302), np.float32(0.022726636), np.float32(0.0041147666), np.float32(0.012863249), np.float32(0.0068702204), np.float32(0.021226704), np.float32(0.01869557), np.float32(0.005132577), np.float32(-0.0010362248), np.float32(0.015066273), np.float32(-0.008370152), np.float32(-0.008845576), np.float32(-0.0076469705), np.float32(0.0017610799), np.float32(-0.0021427588), np.float32(-0.013117702), np.float32(-0.018521471), np.float32(0.03476626), np.float32(-0.00529998), np.float32(-0.0016497569), np.float32(-0.0009600564), np.float32(-0.027561234), np.float32(-0.019566067), np.float32(0.0021661953), np.float32(-0.02711929), np.float32(-0.047435325), np.float32(-0.035435874), np.float32(0.032328874), np.float32(-0.00094164204), np.float32(0.01893663), np.float32(0.028498692), np.float32(-0.008129091), np.float32(-0.019659812), np.float32(0.0058791945), np.float32(-0.0141020315), np.float32(-0.00030090695), np.float32(0.003471939), np.float32(0.025632752), np.float32(-0.008691565), np.float32(0.019150907), np.float32(-0.013070828), np.float32(-0.0019686597), np.float32(0.04473009), np.float32(-0.013010563), np.float32(0.016405497), np.float32(-0.026114874), np.float32(0.040123157), np.float32(0.0065019336), np.float32(0.019753557), np.float32(-0.019900871), np.float32(-0.04628359), np.float32(-0.0127360225), np.float32(0.023610523), np.float32(-0.024762256), np.float32(0.01612426), np.float32(0.016874226), np.float32(0.0021829356), np.float32(0.0737109), np.float32(0.0065421103), np.float32(-0.042587332), np.float32(0.003205768), np.float32(0.0139145395), np.float32(0.01893663), np.float32(-0.021842748), np.float32(0.0013425723), np.float32(0.018106312), np.float32(-0.027963003), np.float32(0.0022448746), np.float32(-0.0060097687), np.float32(0.031444985), np.float32(-0.01976695), np.float32(-0.018615218), np.float32(0.018521471), np.float32(-0.007841158), np.float32(0.020182109), np.float32(-0.017342955), np.float32(-0.025364907), np.float32(0.005095748), np.float32(-0.042506978), np.float32(0.008035346), np.float32(6.9805753e-07), np.float32(-0.04754246), np.float32(0.015200195), np.float32(0.04770317), np.float32(-0.012059715), np.float32(-0.0010688683), np.float32(-0.05726523), np.float32(0.0033162541), np.float32(-0.001661475), np.float32(-0.028498692), np.float32(-0.015253765), np.float32(0.00973616), np.float32(0.0026650561), np.float32(-0.006846784), np.float32(-0.023864975), np.float32(0.00079181633), np.float32(0.029034382), np.float32(-0.0077072354), np.float32(0.04162309), np.float32(-0.01988748), np.float32(-0.011249484), np.float32(-0.0148787815), np.float32(-0.0073724296), np.float32(-0.02758802), np.float32(-0.033534177), np.float32(-0.030828942)], 'node_index': 13814, 'node_id': 'Copper_(14012)', 'node_name': 'Copper'}\", '{\\'node_type\\': \\'drug\\', \\'desc\\': \"Oxygen belongs to drug node. Oxygen is an element displayed by the symbol O, and atomic number 8. It is an essential element for human survival. Decreased oxygen levels may be treated with medical oxygen therapy. Treatment with oxygen serves to increase blood oxygen levels and also exerts a secondary effect of decreasing blood flow resistance in the diseased lung, leading to decreased cardiovascular workload in an attempt to oxygenate the lungs. Oxygen therapy is used to treat emphysema, pneumonia, some heart disorders (congestive heart failure), some disorders that cause increased pulmonary artery pressure, and any disease that impairs the body\\'s ability to take up and use gaseous oxygen. Higher level of oxygen than ambient air (hyperoxia) can be introduced under normobaric or hyperbaric conditions. Oxygen therapy increases the arterial pressure of oxygen and is effective in improving gas exchange and oxygen delivery to tissues, provided that there are functional alveolar units. Oxygen plays a critical role as an electron acceptor during oxidative phosphorylation in the electron transport chain through activation of cytochrome c oxidase (terminal enzyme of the electron transport chain). This process achieves successful aerobic respiration in organisms to generate ATP molecules as an energy source in many tissues. Oxygen supplementation acts to restore normal cellular activity at the mitochondrial level and reduce metabolic acidosis. There is also evidence that oxygen may interact with O2-sensitive voltage-gated potassium channels in glomus cells and cause hyperpolarization of mitochondrial membrane.  Oxygen binds to oxygen-carrying protein in red blood cells called hemoglobin with high affinity. The amount of oxygen molecules bound to the fixed amount of circulating hemoglobin in the blood determines the overall oxygen saturation level and this oxygen-delivering capacity is regulated by Bohr effect. Oxygen therapy improves effective cellular oxygenation, even at a low rate of tissue perfusion. Oxygen molecules adjust hypoxic ventilatory drive by acting on chemoreceptors on carotid bodies that sequentially relay sensory information to the higher processing centers in brainstem. It also attenuates hypoxia-induced mitochondrial depolarization that generates reactive oxygen species and/or apoptosis. Oxygen therapy in clinical settings is used across diverse specialties, including various types of anoxia, hypoxia or dyspnea and any other disease states and conditions that reduce the efficiency of gas exchange and oxygen consumption such as respiratory illnesses, trauma, poisonings and drug overdoses. Oxygen therapy tries to achieve hyperoxia to reduce the extent of hypoxia-induced tissue damage and malfunction. \", \\'desc_emb\\': [np.float32(0.0011131193), np.float32(0.00035166115), np.float32(-0.011181605), np.float32(-0.04077155), np.float32(-0.011246652), np.float32(0.02419754), np.float32(-0.016274797), np.float32(-0.01151985), np.float32(-0.027632028), np.float32(0.0079422565), np.float32(-0.019462107), np.float32(0.01414125), np.float32(-0.00018365656), np.float32(0.023781238), np.float32(-0.0011261287), np.float32(-0.010680742), np.float32(0.035047404), np.float32(0.0017481421), np.float32(0.010882388), np.float32(-0.014713665), np.float32(-0.018174173), np.float32(0.017953012), np.float32(-0.016600031), np.float32(0.009880662), np.float32(-0.017913984), np.float32(0.01151985), np.float32(0.033954613), np.float32(-0.0328358), np.float32(0.019579193), np.float32(-0.024535784), np.float32(0.021543616), np.float32(0.001392822), np.float32(-0.020190636), np.float32(-0.010231917), np.float32(-0.0010399413), np.float32(0.009100096), np.float32(-0.0030637207), np.float32(-0.003120637), np.float32(0.013894071), np.float32(-0.004823246), np.float32(0.027762122), np.float32(0.017744862), np.float32(-0.003639388), np.float32(0.0068234457), np.float32(-0.0026230263), np.float32(-0.01823922), np.float32(-0.0025270816), np.float32(-0.037831422), np.float32(0.0065014623), np.float32(-0.004302869), np.float32(0.0029531405), np.float32(0.009568435), np.float32(0.004058942), np.float32(-0.0051192106), np.float32(0.0036361355), np.float32(-0.032263387), np.float32(-0.016105674), np.float32(0.02557654), np.float32(0.010485601), np.float32(-0.008527681), np.float32(-0.003802006), np.float32(-0.013568835), np.float32(-0.030988462), np.float32(0.012612642), np.float32(-0.0056265783), np.float32(0.022467285), np.float32(0.0030474588), np.float32(0.04420604), np.float32(-0.01037502), np.float32(0.006468939), np.float32(0.028100368), np.float32(0.03715493), np.float32(0.012924869), np.float32(0.024210548), np.float32(0.008384577), np.float32(-0.005893272), np.float32(-0.024392681), np.float32(0.005278576), np.float32(0.017419627), np.float32(0.0045435433), np.float32(0.010335992), np.float32(-0.021556625), np.float32(-0.00673238), np.float32(0.026435161), np.float32(0.029895669), np.float32(-0.0028344295), np.float32(-0.0046281046), np.float32(0.012261388), np.float32(0.004631357), np.float32(0.010023765), np.float32(0.010745789), np.float32(0.004556553), np.float32(0.009236695), np.float32(0.0147917215), np.float32(0.006397387), np.float32(0.03699882), np.float32(0.002775887), np.float32(0.032185327), np.float32(0.0026799424), np.float32(-0.018187182), np.float32(0.00010651471), np.float32(-0.0014310373), np.float32(-0.034813233), np.float32(-0.010179879), np.float32(-0.031612914), np.float32(0.014921816), np.float32(-0.005350128), np.float32(0.0019855641), np.float32(0.003447499), np.float32(-0.007090139), np.float32(-0.011428784), np.float32(0.056721114), np.float32(-0.008638261), np.float32(-0.013321656), np.float32(0.0046281046), np.float32(0.02326086), np.float32(0.026851462), np.float32(0.007623526), np.float32(-0.017575739), np.float32(0.0045012627), np.float32(0.0059843375), np.float32(0.017133418), np.float32(0.010257935), np.float32(-0.005460708), np.float32(-0.00026181477), np.float32(-0.01346476), np.float32(-0.032341443), np.float32(-0.018889692), np.float32(-0.005050911), np.float32(-0.0074088704), np.float32(0.015090939), np.float32(0.015806457), np.float32(0.016769154), np.float32(-0.011448299), np.float32(-0.021881862), np.float32(0.042046476), np.float32(-0.011832076), np.float32(-0.018174173), np.float32(-0.029505387), np.float32(-0.024626851), np.float32(0.014388429), np.float32(0.0074153747), np.float32(-0.0053826515), np.float32(-0.0074218796), np.float32(-0.011227137), np.float32(0.020476842), np.float32(0.03533361), np.float32(0.01528608), np.float32(0.013646891), np.float32(-0.003623126), np.float32(0.0057176445), np.float32(-0.009535912), np.float32(0.0016074777), np.float32(-0.028230462), np.float32(0.00014625445), np.float32(0.009340771), np.float32(-0.009568435), np.float32(0.017172446), np.float32(-0.014037175), np.float32(-0.020398786), np.float32(0.01639188), np.float32(-0.016508967), np.float32(-0.016105674), np.float32(-0.0051192106), np.float32(0.020177625), np.float32(0.007838181), np.float32(-0.0015351127), np.float32(0.0139461085), np.float32(-0.008124389), np.float32(0.0012342697), np.float32(-0.00445573), np.float32(0.03759725), np.float32(-0.003967876), np.float32(0.008566709), np.float32(-0.002275024), np.float32(0.035229534), np.float32(-0.0039386046), np.float32(0.03174301), np.float32(0.002837682), np.float32(-0.017432636), np.float32(-0.007486927), np.float32(0.017979031), np.float32(0.0079227425), np.float32(0.009666006), np.float32(-0.015871504), np.float32(0.005633083), np.float32(0.027085632), np.float32(-0.009692025), np.float32(0.027189707), np.float32(-0.04425808), np.float32(-0.00073828513), np.float32(0.025615567), np.float32(-0.013829024), np.float32(-0.009581445), np.float32(-0.64610034), np.float32(-0.015689373), np.float32(-0.038924213), np.float32(-0.011233643), np.float32(0.014583571), np.float32(0.018161165), np.float32(0.014609589), np.float32(-0.0010496983), np.float32(-8.110566e-05), np.float32(0.022779511), np.float32(0.0058022058), np.float32(0.019696277), np.float32(-0.0050931918), np.float32(-0.0045142723), np.float32(0.016118683), np.float32(-0.03585399), np.float32(-0.018382324), np.float32(-0.013568835), np.float32(0.032133292), np.float32(-0.038429856), np.float32(-0.023364935), np.float32(-0.016261786), np.float32(-0.042983156), np.float32(0.00016800458), np.float32(0.012801278), np.float32(0.026396133), np.float32(0.021582644), np.float32(-0.005714392), np.float32(0.003805258), np.float32(0.028178426), np.float32(0.007207224), np.float32(0.010069299), np.float32(0.032185327), np.float32(0.018811636), np.float32(0.053286623), np.float32(-0.0018424605), np.float32(-0.020021513), np.float32(0.017237494), np.float32(0.008579719), np.float32(0.018538438), np.float32(0.021998946), np.float32(-0.0034052182), np.float32(0.0255245), np.float32(-0.025732651), np.float32(-0.013438741), np.float32(0.019449098), np.float32(0.027996292), np.float32(-0.015585297), np.float32(0.0085927285), np.float32(0.0087293275), np.float32(0.02054189), np.float32(0.005174501), np.float32(-0.022402238), np.float32(0.012957392), np.float32(0.00079682755), np.float32(-0.00049191905), np.float32(0.021517597), np.float32(-0.020932171), np.float32(0.0094188275), np.float32(-0.010550647), np.float32(-0.00042361955), np.float32(0.010479095), np.float32(-0.009945709), np.float32(-0.02624002), np.float32(-0.0026978306), np.float32(0.024991114), np.float32(-0.028022312), np.float32(0.0030068045), np.float32(0.010270945), np.float32(0.015624325), np.float32(0.011350728), np.float32(0.03556778), np.float32(-0.0048557697), np.float32(0.00478747), np.float32(0.008996021), np.float32(0.0072657666), np.float32(-0.00083585584), np.float32(0.0035938548), np.float32(-0.012989916), np.float32(0.03806559), np.float32(0.014180278), np.float32(-0.0053989133), np.float32(-0.005805458), np.float32(-0.003057216), np.float32(0.04496059), np.float32(0.015208024), np.float32(-0.02327387), np.float32(0.016053636), np.float32(0.02374221), np.float32(-0.0009505015), np.float32(0.015572287), np.float32(0.012807784), np.float32(-0.0036328833), np.float32(-0.028620746), np.float32(-0.012664679), np.float32(-0.0011692225), np.float32(0.009080582), np.float32(0.0037076874), np.float32(0.027033595), np.float32(0.015910532), np.float32(-0.010615694), np.float32(-0.005167996), np.float32(-0.010498609), np.float32(0.018811636), np.float32(-0.012092265), np.float32(0.0040361756), np.float32(-0.037363082), np.float32(-0.023442993), np.float32(0.035932045), np.float32(-0.02236321), np.float32(-0.006267293), np.float32(-0.019110853), np.float32(0.023143776), np.float32(-0.0022864072), np.float32(0.041265912), np.float32(-0.006758399), np.float32(-0.0039548664), np.float32(0.0010732779), np.float32(0.004361411), np.float32(-0.05151734), np.float32(0.015936552), np.float32(-0.016600031), np.float32(-0.0014838881), np.float32(-0.012846812), np.float32(0.021075277), np.float32(-0.008722822), np.float32(-0.0075584785), np.float32(-0.013529807), np.float32(-0.015116957), np.float32(-0.014778712), np.float32(-0.0017595254), np.float32(-0.011240147), np.float32(0.007434889), np.float32(0.0124890525), np.float32(0.006059142), np.float32(0.00071755133), np.float32(0.030650217), np.float32(0.009679016), np.float32(0.01800505), np.float32(-0.024080455), np.float32(0.0047842176), np.float32(-0.00135542), np.float32(-0.011031996), np.float32(-0.0028815886), np.float32(-0.010075803), np.float32(-0.0034442465), np.float32(-0.015299089), np.float32(0.008781365), np.float32(-0.018863672), np.float32(0.0055029886), np.float32(-0.017874956), np.float32(-0.0064299107), np.float32(-0.0117800385), np.float32(0.04680793), np.float32(0.0033824518), np.float32(-0.023013681), np.float32(0.005668859), np.float32(-0.015728401), np.float32(-0.024587821), np.float32(-0.007499936), np.float32(-0.0029905427), np.float32(0.024314623), np.float32(0.0055094934), np.float32(0.0026457927), np.float32(-0.021959918), np.float32(-0.006133946), np.float32(-0.018187182), np.float32(0.02167371), np.float32(-0.015884513), np.float32(-0.042931117), np.float32(-0.012807784), np.float32(-0.009412322), np.float32(-0.006986064), np.float32(-0.013972128), np.float32(-0.004468739), np.float32(0.016001599), np.float32(-0.011695477), np.float32(-0.0068039317), np.float32(0.0011090538), np.float32(0.0027872704), np.float32(0.0087098135), np.float32(-0.017003324), np.float32(0.0012049985), np.float32(-0.010401039), np.float32(0.0013456629), np.float32(0.009191162), np.float32(0.019488126), np.float32(0.0139851365), np.float32(0.013737958), np.float32(0.038455874), np.float32(-0.0125475945), np.float32(0.031404763), np.float32(-0.015663354), np.float32(0.014180278), np.float32(-0.002946636), np.float32(-0.027241746), np.float32(-0.0027466158), np.float32(-0.029349273), np.float32(0.004123989), np.float32(0.025459453), np.float32(0.017224485), np.float32(-0.026539236), np.float32(0.031352725), np.float32(-0.018343296), np.float32(0.030702254), np.float32(0.0066868467), np.float32(-0.009048059), np.float32(-0.0031889365), np.float32(0.010179879), np.float32(0.01505191), np.float32(-0.007825172), np.float32(-0.01128568), np.float32(0.00038154217), np.float32(0.0049078073), np.float32(-0.018915711), np.float32(0.02283155), np.float32(-0.011558878), np.float32(-0.006381125), np.float32(0.0048460127), np.float32(-0.016899249), np.float32(0.003029571), np.float32(-0.0058379816), np.float32(0.0066868467), np.float32(-0.0036003597), np.float32(-0.015364137), np.float32(0.0051289676), np.float32(0.028985009), np.float32(0.0027970274), np.float32(-0.0032328432), np.float32(-0.007454403), np.float32(-0.007727601), np.float32(-0.017953012), np.float32(0.0053728945), np.float32(-0.009490379), np.float32(0.003603612), np.float32(0.01937104), np.float32(-0.00041508212), np.float32(-0.009490379), np.float32(0.03078031), np.float32(-0.007278776), np.float32(-0.009054563), np.float32(0.0053566326), np.float32(0.032809783), np.float32(-0.022675436), np.float32(-0.006751894), np.float32(0.011968675), np.float32(0.03124865), np.float32(0.0054574558), np.float32(-0.015858496), np.float32(-0.016756145), np.float32(-0.017679814), np.float32(-0.0075454693), np.float32(-0.0065632574), np.float32(-0.0012749241), np.float32(0.0020684993), np.float32(-0.005441194), np.float32(0.02215506), np.float32(-0.0069015026), np.float32(0.04514272), np.float32(0.030390028), np.float32(0.04077155), np.float32(-0.011669459), np.float32(0.034110725), np.float32(-0.012287406), np.float32(-0.0009822119), np.float32(0.0066380617), np.float32(-0.0029970473), np.float32(-0.009048059), np.float32(-0.005652597), np.float32(-0.0016066646), np.float32(-0.02258437), np.float32(0.0064624343), np.float32(0.008404092), np.float32(-0.016040627), np.float32(0.03879412), np.float32(0.02143954), np.float32(-0.027996292), np.float32(0.008644766), np.float32(0.033460252), np.float32(0.026604284), np.float32(-0.016977306), np.float32(-0.0018847411), np.float32(0.01826524), np.float32(0.031222632), np.float32(-0.012671185), np.float32(-0.009054563), np.float32(-0.02072402), np.float32(0.011214129), np.float32(-0.004494758), np.float32(0.0094773695), np.float32(-0.004605338), np.float32(-0.006875484), np.float32(0.005675364), np.float32(0.008878936), np.float32(-0.0008216268), np.float32(-0.046859965), np.float32(0.000192194), np.float32(0.018902702), np.float32(0.033746462), np.float32(-0.003694678), np.float32(-0.018681541), np.float32(0.008202446), np.float32(-0.016404891), np.float32(0.004485001), np.float32(0.040511362), np.float32(0.008267493), np.float32(0.009275723), np.float32(0.019930447), np.float32(-0.0049273213), np.float32(-0.010030271), np.float32(0.011448299), np.float32(-0.011162091), np.float32(0.002756373), np.float32(-0.04334742), np.float32(0.018317277), np.float32(0.023182804), np.float32(-0.0037434634), np.float32(0.011402765), np.float32(0.009139124), np.float32(-0.032081254), np.float32(0.0030702255), np.float32(-0.011669459), np.float32(0.0058802622), np.float32(-0.014895797), np.float32(0.029739557), np.float32(0.008859422), np.float32(-0.002883215), np.float32(0.02371619), np.float32(-0.0073373183), np.float32(0.015025891), np.float32(-0.0016700856), np.float32(-0.017497683), np.float32(0.015494231), np.float32(0.0071877097), np.float32(0.0004768769), np.float32(0.001756273), np.float32(0.020333739), np.float32(-0.0016326834), np.float32(0.004829751), np.float32(0.033642385), np.float32(0.0029254956), np.float32(-0.03171699), np.float32(-0.018512418), np.float32(-0.006270545), np.float32(0.0052297907), np.float32(-0.029817613), np.float32(0.015455202), np.float32(0.034839254), np.float32(0.02054189), np.float32(0.014310373), np.float32(0.0053631375), np.float32(0.024756944), np.float32(0.021608662), np.float32(-0.0020424805), np.float32(-0.0024051184), np.float32(0.025511492), np.float32(0.009236695), np.float32(0.012573614), np.float32(-0.019462107), np.float32(-0.014323382), np.float32(-0.0037694823), np.float32(-0.0021904628), np.float32(0.03101448), np.float32(0.012794774), np.float32(0.007929248), np.float32(0.023768228), np.float32(-0.0039711283), np.float32(0.0038638005), np.float32(-0.0040003997), np.float32(-0.02327387), np.float32(-9.086273e-05), np.float32(0.0034540035), np.float32(-0.0019481621), np.float32(-0.004859022), np.float32(0.013191562), np.float32(0.008150408), np.float32(-0.009900176), np.float32(-0.035047404), np.float32(0.009718044), np.float32(-0.0041337465), np.float32(0.0004931387), np.float32(0.0145965805), np.float32(-0.027658047), np.float32(0.0145965805), np.float32(-0.013503788), np.float32(-0.03392859), np.float32(0.03309599), np.float32(-0.019097842), np.float32(-0.0006447799), np.float32(0.0017416374), np.float32(0.014232316), np.float32(0.011890619), np.float32(-0.005171248), np.float32(-0.017718844), np.float32(0.006413649), np.float32(-0.0058022058), np.float32(-0.0060461327), np.float32(-0.0052200337), np.float32(0.038611986), np.float32(0.01345175), np.float32(0.020711012), np.float32(-0.00888544), np.float32(0.0035288078), np.float32(0.0005793262), np.float32(-0.0035157984), np.float32(0.0077731344), np.float32(-0.0012033723), np.float32(-0.03582797), np.float32(0.010030271), np.float32(-0.004715918), np.float32(0.004592329), np.float32(0.002275024), np.float32(-0.01665207), np.float32(0.004241074), np.float32(0.022558352), np.float32(-0.023117756), np.float32(-0.0102058975), np.float32(-0.015377146), np.float32(0.0070836344), np.float32(0.04129193), np.float32(0.0132175805), np.float32(0.012976906), np.float32(-0.0145965805), np.float32(-0.017315552), np.float32(-0.013399713), np.float32(-0.004712666), np.float32(-0.00798779), np.float32(-0.016990315), np.float32(0.0030507112), np.float32(-0.025641587), np.float32(-0.012892345), np.float32(0.014336391), np.float32(-0.0023124262), np.float32(-0.013334665), np.float32(0.01938405), np.float32(0.0027905228), np.float32(0.0022050983), np.float32(0.006986064), np.float32(-0.009542417), np.float32(-0.004550048), np.float32(-0.012723222), np.float32(0.035697874), np.float32(-0.017536711), np.float32(-0.0005329801), np.float32(-0.025654595), np.float32(-0.013711939), np.float32(0.025654595), np.float32(0.021790795), np.float32(-0.0068364553), np.float32(-0.013126515), np.float32(-0.005184258), np.float32(-0.011305194), np.float32(-0.0023872303), np.float32(0.00627705), np.float32(0.013568835), np.float32(0.024782963), np.float32(0.0037922487), np.float32(-0.0230397), np.float32(-0.034318876), np.float32(0.006771408), np.float32(-0.0102254115), np.float32(-0.011923143), np.float32(0.0012196341), np.float32(-0.013568835), np.float32(0.0018538437), np.float32(0.013080982), np.float32(0.007350328), np.float32(-0.0102449255), np.float32(0.026591275), np.float32(-0.029037047), np.float32(-0.030364009), np.float32(0.007948762), np.float32(-0.002920617), np.float32(-0.0077406107), np.float32(-0.015455202), np.float32(-0.023638133), np.float32(-0.043945853), np.float32(0.009184658), np.float32(-0.020268692), np.float32(-0.014011156), np.float32(-0.011071024), np.float32(-0.010888892), np.float32(0.017757872), np.float32(0.030025763), np.float32(0.012437015), np.float32(-0.023078728), np.float32(0.027944256), np.float32(0.012983411), np.float32(-0.010667732), np.float32(0.01139626), np.float32(-0.011018987), np.float32(0.011123062), np.float32(-0.009854643), np.float32(0.012599633), np.float32(0.0013188309), np.float32(-0.015377146), np.float32(0.014245326), np.float32(-0.0044101966), np.float32(-0.0006561631), np.float32(0.0035613314), np.float32(-0.008052837), np.float32(-0.0032409742), np.float32(-0.0069210166), np.float32(-0.015129967), np.float32(-0.021270417), np.float32(0.016756145), np.float32(-0.03215931), np.float32(0.009022039), np.float32(-0.040043026), np.float32(-0.010823846), np.float32(0.038846157), np.float32(0.00911961), np.float32(0.0030165615), np.float32(-0.015325109), np.float32(-0.004706161), np.float32(-0.023560077), np.float32(-0.0045337863), np.float32(0.014401439), np.float32(-0.00069356523), np.float32(-0.005233043), np.float32(-0.02259738), np.float32(-0.018174173), np.float32(-0.03124865), np.float32(-0.0075129457), np.float32(0.0010521376), np.float32(-0.016574014), np.float32(-0.012690699), np.float32(-0.021179352), np.float32(-0.014349401), np.float32(0.007890219), np.float32(-0.009275723), np.float32(-0.010784817), np.float32(-0.00211078), np.float32(-0.03650446), np.float32(-0.00019341362), np.float32(-0.009770081), np.float32(-0.012280902), np.float32(-0.025420425), np.float32(-0.014037175), np.float32(0.034995366), np.float32(0.0032458527), np.float32(0.03304395), np.float32(-0.011155586), np.float32(-0.0042833546), np.float32(0.02463986), np.float32(-0.02211603), np.float32(0.0069535403), np.float32(-0.012853317), np.float32(0.04150008), np.float32(-0.006179479), np.float32(-0.014050184), np.float32(-0.005906281), np.float32(-0.02350804), np.float32(0.009191162), np.float32(-0.01197518), np.float32(0.010869378), np.float32(-0.017926995), np.float32(-0.0025531005), np.float32(-0.014999872), np.float32(0.012593128), np.float32(0.006189236), np.float32(0.01392009), np.float32(-0.008839907), np.float32(0.02672137), np.float32(-0.014115231), np.float32(-0.0034832747), np.float32(-0.018122135), np.float32(-0.01662605), np.float32(-0.024080455), np.float32(0.011539364), np.float32(-0.00045126458), np.float32(-0.02804833), np.float32(-0.00039353524), np.float32(-0.0063323397), np.float32(-0.020619946), np.float32(0.005506241), np.float32(-0.0020310972), np.float32(-0.0007882901), np.float32(0.00684296), np.float32(0.0015188509), np.float32(-0.021764776), np.float32(-0.005067173), np.float32(-0.026500208), np.float32(-0.00991969), np.float32(0.0021888365), np.float32(0.025238294), np.float32(-0.0155592775), np.float32(0.025459453), np.float32(0.01691226), np.float32(-0.008137398), np.float32(-0.0056135687), np.float32(-0.021556625), np.float32(-0.007090139), np.float32(0.032055236), np.float32(-0.008345549), np.float32(0.005080182), np.float32(0.02577168), np.float32(-0.0032263387), np.float32(0.0056460924), np.float32(-0.0009456229), np.float32(-0.0070771296), np.float32(-0.007851191), np.float32(-0.014973854), np.float32(0.009861148), np.float32(0.0028539437), np.float32(0.034318876), np.float32(-0.019188909), np.float32(-0.007857695), np.float32(-0.01278827), np.float32(-0.026083907), np.float32(-0.025459453), np.float32(-0.0027384849), np.float32(0.008013809), np.float32(-0.03424082), np.float32(-0.0056265783), np.float32(-0.000110783425), np.float32(-0.0029515144), np.float32(0.025303341), np.float32(-0.017601758), np.float32(-0.01939706), np.float32(-0.0079422565), np.float32(0.030364009), np.float32(-0.00809837), np.float32(0.025641587), np.float32(0.0042963643), np.float32(0.01662605), np.float32(-0.006169722), np.float32(-0.008117884), np.float32(-0.014310373), np.float32(-0.027632028), np.float32(0.008300016), np.float32(0.013373693), np.float32(-0.041734252), np.float32(-0.028126387), np.float32(-0.02395036), np.float32(-0.020216653), np.float32(0.0025238295), np.float32(-0.0027954013), np.float32(0.020789068), np.float32(0.0022538838), np.float32(0.002884841), np.float32(-0.014544542), np.float32(-0.029271217), np.float32(0.025615567), np.float32(-0.017068371), np.float32(0.0077796387), np.float32(0.023156784), np.float32(-0.04402391), np.float32(-0.021205371), np.float32(-0.005460708), np.float32(0.0028246725), np.float32(0.0049891165), np.float32(-0.014726674), np.float32(-0.013659901), np.float32(-0.040927667), np.float32(0.017458655), np.float32(-0.012157312), np.float32(-0.0020717517), np.float32(-0.017835928), np.float32(0.017432636), np.float32(-0.030650217), np.float32(0.021946907), np.float32(0.0026246523), np.float32(0.017406616), np.float32(-0.013133019), np.float32(-0.008260988), np.float32(-0.0006988503), np.float32(-0.00083748205), np.float32(-0.030832348), np.float32(-0.0019676762), np.float32(0.005704635), np.float32(-0.007623526), np.float32(-0.023573088), np.float32(-0.008599233), np.float32(0.008423606), np.float32(0.012931373), np.float32(0.015702382), np.float32(-0.023898322), np.float32(-0.013672911), np.float32(0.0030897395), np.float32(-0.047042098), np.float32(-0.00087407103), np.float32(-0.0038605484), np.float32(0.024444718), np.float32(-0.0039808853), np.float32(0.031769026), np.float32(0.0011602786), np.float32(0.0037597253), np.float32(0.013269618), np.float32(0.009262714), np.float32(-0.011767029), np.float32(-0.017263513), np.float32(0.013776986), np.float32(0.0020993967), np.float32(0.00069315865), np.float32(-0.014167269), np.float32(-0.041604158), np.float32(-0.0058542434), np.float32(0.0147917215), np.float32(-0.013002925), np.float32(0.0132566085), np.float32(0.017172446), np.float32(0.010589676), np.float32(0.012300416), np.float32(0.0017156185), np.float32(0.020060541), np.float32(-0.0035775932), np.float32(0.00014391681), np.float32(-0.010134346), np.float32(-0.023143776), np.float32(-0.005294838), np.float32(0.01894173), np.float32(0.036556497), np.float32(0.0052720713), np.float32(0.010927921), np.float32(-0.0006175414), np.float32(0.004839508), np.float32(0.0063225827), np.float32(-0.00061103667), np.float32(9.599536e-05), np.float32(0.0029222432), np.float32(-0.0057924488), np.float32(-0.017237494), np.float32(0.007838181), np.float32(-0.025199266), np.float32(0.0092432), np.float32(0.00644292), np.float32(0.0155202495), np.float32(0.0018343296), np.float32(0.0031190107), np.float32(0.0070771296), np.float32(-0.0014481122), np.float32(0.025797699), np.float32(0.0052265385), np.float32(-0.022376219), np.float32(0.014232316), np.float32(0.013829024), np.float32(-0.02557654), np.float32(0.02600585), np.float32(0.0023156784), np.float32(-0.007389356), np.float32(-0.014440467), np.float32(0.027085632), np.float32(0.0016944782), np.float32(-0.0018668532), np.float32(-0.0074088704), np.float32(-0.019475115), np.float32(-0.016105674), np.float32(-0.020919163), np.float32(-0.017055362), np.float32(0.0065860236), np.float32(-0.008260988), np.float32(-0.0062380214), np.float32(-0.0062347692), np.float32(0.0009456229), np.float32(-0.013087486), np.float32(-0.0016448798), np.float32(0.0029450096), np.float32(0.0013107001), np.float32(0.013763976), np.float32(0.19868001), np.float32(-0.0058444864), np.float32(-0.008254483), np.float32(0.017068371), np.float32(-0.003185684), np.float32(0.012619147), np.float32(-0.0106222), np.float32(-0.02807435), np.float32(-0.01128568), np.float32(0.013933099), np.float32(0.02371619), np.float32(-0.008547195), np.float32(-0.018850664), np.float32(-0.0053111), np.float32(-0.011058015), np.float32(0.0009813989), np.float32(-0.0230397), np.float32(-0.007324309), np.float32(-0.01505191), np.float32(0.0030864873), np.float32(-0.030416047), np.float32(0.00097408105), np.float32(0.011552374), np.float32(0.00205549), np.float32(0.012619147), np.float32(-0.0044817487), np.float32(0.0117605245), np.float32(-0.00014096937), np.float32(0.045715135), np.float32(0.008182932), np.float32(-0.0055192504), np.float32(0.010017261), np.float32(-0.0037011828), np.float32(-0.00025002498), np.float32(0.012645165), np.float32(-0.0032230862), np.float32(0.0118190665), np.float32(-0.030598179), np.float32(-0.0021498082), np.float32(-0.009262714), np.float32(0.00216607), np.float32(0.022987662), np.float32(-0.030598179), np.float32(-0.0044004396), np.float32(0.029791594), np.float32(0.047796644), np.float32(-0.014128241), np.float32(-0.019683268), np.float32(-0.02009957), np.float32(-0.0115848975), np.float32(-0.034006648), np.float32(0.0076950775), np.float32(0.0016879735), np.float32(0.028724821), np.float32(-0.0016188609), np.float32(0.019266965), np.float32(0.009835129), np.float32(0.013107001), np.float32(-0.0014798227), np.float32(3.1411928e-06), np.float32(-0.0071812053), np.float32(-0.01060919), np.float32(-0.0070641204), np.float32(0.03231542), np.float32(-0.0087683555), np.float32(0.0264872), np.float32(-0.040173117), np.float32(-0.0007886967), np.float32(-0.016495956), np.float32(0.010693751), np.float32(0.0022977905), np.float32(0.00035897896), np.float32(-0.0024262588), np.float32(-0.009555426), np.float32(-0.016482947), np.float32(-0.010212402), np.float32(0.01619674), np.float32(0.0108563695), np.float32(-0.009334266), np.float32(0.022480294), np.float32(-0.008378073), np.float32(-0.022063993), np.float32(-0.025667604), np.float32(0.017380599), np.float32(-0.006771408), np.float32(-0.023364935), np.float32(-0.003558079), np.float32(0.02259738), np.float32(-0.009262714), np.float32(0.0063128257), np.float32(-0.0032247123), np.float32(-0.020112578), np.float32(-0.017731853), np.float32(0.020463834), np.float32(0.021023238), np.float32(-0.020789068), np.float32(0.008872431), np.float32(0.014583571), np.float32(-0.020021513), np.float32(0.01937104), np.float32(-0.01084336), np.float32(0.07873307), np.float32(-0.014648618), np.float32(-0.002457156), np.float32(0.020476842), np.float32(0.010745789), np.float32(-0.029505387), np.float32(0.02737184), np.float32(-0.0023807257), np.float32(0.010108327), np.float32(0.015767429), np.float32(-0.043451495), np.float32(-0.0044069444), np.float32(-0.008085361), np.float32(0.010368516), np.float32(0.035723895), np.float32(0.008117884), np.float32(-0.020177625), np.float32(0.016066646), np.float32(-0.015025891), np.float32(-0.0016302442), np.float32(-0.018135145), np.float32(-0.008781365), np.float32(0.022727475), np.float32(-0.013295637), np.float32(0.0010846612), np.float32(-0.02942733), np.float32(0.035099443), np.float32(-0.014505514), np.float32(-0.02713767), np.float32(0.021855842), np.float32(-0.009054563), np.float32(-0.0010066046), np.float32(0.0039093336), np.float32(-0.012365463), np.float32(0.01849941), np.float32(-0.0040556896), np.float32(-0.022480294), np.float32(0.0073112994), np.float32(0.009913186), np.float32(-0.013933099), np.float32(-0.009535912), np.float32(0.010101822), np.float32(0.017926995), np.float32(0.016704109), np.float32(-0.051673453), np.float32(0.0046508713), np.float32(-0.02121838), np.float32(0.002483175), np.float32(-0.012872831), np.float32(-0.014882787), np.float32(-0.02713767), np.float32(0.008917964), np.float32(-0.019358031), np.float32(-0.00058827014), np.float32(-0.020203644), np.float32(0.016222758), np.float32(-0.02305271), np.float32(0.016313825), np.float32(-0.005916038), np.float32(-0.007981285), np.float32(0.00398739), np.float32(0.02349503), np.float32(-0.032445516), np.float32(-0.0070185876), np.float32(-0.0029889166), np.float32(-0.16214953), np.float32(0.004452477), np.float32(0.020867126), np.float32(-0.01782292), np.float32(0.0198654), np.float32(-0.017003324), np.float32(0.016274797), np.float32(-0.0031011228), np.float32(-0.0027888964), np.float32(0.017848937), np.float32(0.018330287), np.float32(0.009802605), np.float32(-0.0034767701), np.float32(-0.0013066346), np.float32(0.011097044), np.float32(-0.01983938), np.float32(0.018889692), np.float32(0.0282825), np.float32(0.027449897), np.float32(-0.002475044), np.float32(0.016118683), np.float32(0.0045110197), np.float32(0.028932972), np.float32(0.0028132892), np.float32(0.012684194), np.float32(-0.012137798), np.float32(-0.005434689), np.float32(0.00991969), np.float32(0.014323382), np.float32(0.010088813), np.float32(-0.023768228), np.float32(0.012749241), np.float32(0.031795047), np.float32(0.0021514345), np.float32(-0.0076755635), np.float32(0.008527681), np.float32(0.032341443), np.float32(-0.011116558), np.float32(-0.025615567), np.float32(0.015129967), np.float32(-0.0048362557), np.float32(0.014895797), np.float32(-0.0040296707), np.float32(0.0024278848), np.float32(-0.027970273), np.float32(0.016977306), np.float32(0.02443171), np.float32(-0.008976506), np.float32(0.011968675), np.float32(0.02669535), np.float32(0.022675436), np.float32(0.011142576), np.float32(-0.017900975), np.float32(0.024782963), np.float32(0.0044264584), np.float32(-0.0020587423), np.float32(0.00043337664), np.float32(0.010628704), np.float32(-0.021764776), np.float32(-0.010739285), np.float32(0.012833802), np.float32(-0.04496059), np.float32(-0.007025092), np.float32(0.0017074876), np.float32(0.019943455), np.float32(-7.404195e-05), np.float32(-0.020060541), np.float32(0.0069405306), np.float32(-0.008833403), np.float32(0.0062185074), np.float32(-0.034266837), np.float32(-0.025017133), np.float32(0.029271217), np.float32(0.013659901), np.float32(0.008761851), np.float32(0.011350728), np.float32(-0.015012882), np.float32(0.0052558095), np.float32(0.0025075676), np.float32(0.033954613), np.float32(0.010368516), np.float32(0.004302869), np.float32(-0.020658974), np.float32(-0.008332539), np.float32(-0.0034117228), np.float32(0.012859821), np.float32(0.01197518), np.float32(-0.007525955), np.float32(-0.015416174), np.float32(-0.004413449), np.float32(0.01963123), np.float32(-0.02487403), np.float32(-0.015637334), np.float32(-0.014570561), np.float32(0.016574014), np.float32(0.018967748), np.float32(0.019071825), np.float32(-0.010862874), np.float32(0.0025108198), np.float32(-0.0058900192), np.float32(0.019722296), np.float32(-0.0006394948), np.float32(-0.0023530805), np.float32(-0.009692025), np.float32(0.050918907), np.float32(0.016313825), np.float32(-0.0033889564), np.float32(-0.009178152), np.float32(0.04220259), np.float32(-0.0004467926), np.float32(-0.010524629), np.float32(-0.001056203), np.float32(0.017172446), np.float32(0.044180024), np.float32(-0.007343823), np.float32(0.012716717), np.float32(0.023482021), np.float32(-0.021907879), np.float32(-0.011506841), np.float32(-0.0058835144), np.float32(0.06551549), np.float32(0.013568835), np.float32(-0.018681541), np.float32(0.03192514), np.float32(-0.015103948), np.float32(-0.04287908), np.float32(-0.1313432), np.float32(-0.030494103), np.float32(0.029947707), np.float32(0.012144303), np.float32(0.0064396677), np.float32(0.024496756), np.float32(-0.010218907), np.float32(0.0046443664), np.float32(-0.002757999), np.float32(0.025615567), np.float32(-0.01153286), np.float32(-0.029011028), np.float32(-0.012391482), np.float32(0.006569762), np.float32(0.025953813), np.float32(-0.007831677), np.float32(-0.004946836), np.float32(-0.0040166616), np.float32(-0.00072486914), np.float32(0.028880933), np.float32(-0.013503788), np.float32(-0.00089602446), np.float32(-0.0040394277), np.float32(0.0037239492), np.float32(-0.004810237), np.float32(-0.028568707), np.float32(-0.0077861436), np.float32(0.017640786), np.float32(0.0046541234), np.float32(-0.009548921), np.float32(0.01937104), np.float32(-0.0030994967), np.float32(0.009548921), np.float32(-0.0076625543), np.float32(0.009594454), np.float32(0.0065632574), np.float32(0.03746716), np.float32(-0.02396337), np.float32(0.043139268), np.float32(-0.015025891), np.float32(0.0023498281), np.float32(0.023377946), np.float32(0.027892217), np.float32(0.002457156), np.float32(0.027449897), np.float32(-0.0269035), np.float32(-0.03496935), np.float32(-0.008267493), np.float32(-0.017237494), np.float32(0.0011423905), np.float32(-0.03489129), np.float32(0.012287406), np.float32(-0.036374364), np.float32(-0.0015180379), np.float32(0.002829551), np.float32(-0.014765703), np.float32(0.02692952), np.float32(0.009210676), np.float32(-0.032965895), np.float32(-0.0040719514), np.float32(0.012183331), np.float32(-0.0046638804), np.float32(-0.0064559295), np.float32(0.011448299), np.float32(0.005633083), np.float32(-0.042280648), np.float32(-0.012443519), np.float32(-0.022714464), np.float32(0.011428784), np.float32(-0.024249578), np.float32(-0.017692825), np.float32(0.013308646), np.float32(-0.00025591988), np.float32(-0.0021367988), np.float32(-0.01644392), np.float32(0.0075844973), np.float32(-0.00051915756), np.float32(-0.018837655), np.float32(0.008449624), np.float32(-0.0064266585), np.float32(-0.021179352), np.float32(0.0013025692), np.float32(0.0079227425), np.float32(-0.031612914), np.float32(0.0022181077), np.float32(0.044804476), np.float32(0.0191759), np.float32(0.0005305408), np.float32(0.017601758), np.float32(-0.029089084), np.float32(-0.019670257), np.float32(0.02371619), np.float32(-0.004715918), np.float32(0.0056298305), np.float32(0.010576666), np.float32(-0.0068234457), np.float32(-0.010784817), np.float32(-0.0072007193), np.float32(0.024509765), np.float32(0.018070098), np.float32(-0.017497683), np.float32(-0.027449897), np.float32(-0.027892217), np.float32(0.0067909225), np.float32(0.014960844), np.float32(0.0074413936), np.float32(-0.0013139524), np.float32(-0.004702909), np.float32(0.016743137), np.float32(0.011903628), np.float32(0.014531533), np.float32(-0.025589548), np.float32(-0.012417501), np.float32(0.0063225827), np.float32(-0.0054704654), np.float32(-0.00078300503), np.float32(-0.0125280805), np.float32(-0.020060541), np.float32(0.019188909), np.float32(0.0048720315), np.float32(-0.0036784161), np.float32(-0.0030068045), np.float32(-0.015377146), np.float32(-0.004247579), np.float32(-0.006124189), np.float32(0.018395334), np.float32(-0.015129967), np.float32(-0.016404891), np.float32(-0.0043939347), np.float32(0.0046378616), np.float32(-0.02305271), np.float32(0.008319531), np.float32(0.00023193374), np.float32(-0.03169097), np.float32(-0.00444272), np.float32(-0.0016798426), np.float32(-0.022272144), np.float32(-0.002649045), np.float32(-0.030129839), np.float32(0.00387681), np.float32(-0.023221832), np.float32(0.012215855), np.float32(-0.032133292), np.float32(-0.030988462), np.float32(0.014180278), np.float32(-0.0063258354), np.float32(0.0077796387), np.float32(0.009854643), np.float32(-0.024366662), np.float32(0.022024965), np.float32(0.00027868638), np.float32(-0.013646891), np.float32(0.046885986), np.float32(0.020229664), np.float32(-0.024808982), np.float32(-0.032029215), np.float32(-0.020789068), np.float32(-0.003431237), np.float32(0.0063258354), np.float32(-0.0051257154), np.float32(-0.0029547666), np.float32(-0.015090939), np.float32(0.03627029), np.float32(-0.0016733379), np.float32(-0.001819694), np.float32(-0.0006797427), np.float32(0.015897524), np.float32(-0.024496756), np.float32(0.019423079), np.float32(-0.014661627), np.float32(0.021569634), np.float32(-0.014583571), np.float32(-0.029401312), np.float32(-0.016222758), np.float32(0.014947834), np.float32(0.008267493), np.float32(0.015988588), np.float32(0.0011862974), np.float32(-0.0052623143), np.float32(0.019553173), np.float32(0.014804731), np.float32(0.011142576), np.float32(0.017315552), np.float32(-0.026955537), np.float32(-0.03554176), np.float32(0.019084834), np.float32(0.013672911), np.float32(-0.019058814), np.float32(-0.03424082), np.float32(0.028256482), np.float32(0.0071486817), np.float32(-0.008482148), np.float32(-0.0073112994), np.float32(0.012671185), np.float32(0.006595781), np.float32(0.007486927), np.float32(0.028906953), np.float32(0.0052265385), np.float32(0.0016456929), np.float32(-0.009028545), np.float32(-0.016756145), np.float32(0.018980758), np.float32(0.013386703), np.float32(0.013803005), np.float32(-0.0036523973), np.float32(-0.0050931918), np.float32(-0.016587023), np.float32(-0.011526355), np.float32(-0.014674637), np.float32(-0.01574141), np.float32(-0.031118555), np.float32(0.009074077), np.float32(0.01346476), np.float32(-0.0015619446), np.float32(0.017575739), np.float32(-0.0020587423), np.float32(-0.01732856), np.float32(0.02279252), np.float32(0.0013887567), np.float32(-0.018993767), np.float32(-0.0045630573), np.float32(0.020125588), np.float32(0.013555826), np.float32(-0.0024945582), np.float32(0.017016334), np.float32(0.013334665), np.float32(0.023911333), np.float32(0.012059742), np.float32(0.027007576), np.float32(-0.0148307495), np.float32(0.007213729), np.float32(0.008163417), np.float32(0.012410996), np.float32(-0.013607863), np.float32(-0.046469685), np.float32(-0.011012482), np.float32(0.027866198), np.float32(-0.0355938), np.float32(0.039990988), np.float32(-0.008599233), np.float32(0.017705834), np.float32(0.052584115), np.float32(0.0029368787), np.float32(-0.04496059), np.float32(-0.008163417), np.float32(0.018291257), np.float32(0.02692952), np.float32(-0.021491578), np.float32(0.0076365354), np.float32(-0.00990668), np.float32(-0.019891419), np.float32(0.020112578), np.float32(-0.019566182), np.float32(0.022454275), np.float32(-0.014453476), np.float32(-0.028256482), np.float32(0.01800505), np.float32(0.0017432636), np.float32(0.011591402), np.float32(0.013894071), np.float32(0.012827298), np.float32(0.012580118), np.float32(-0.012131293), np.float32(0.00018111565), np.float32(-0.014869778), np.float32(-0.04813489), np.float32(-0.010043279), np.float32(0.04654774), np.float32(-0.01894173), np.float32(-0.018356305), np.float32(-0.046209496), np.float32(-0.0059908424), np.float32(-0.00043093736), np.float32(-0.046599776), np.float32(-0.023989389), np.float32(-0.003447499), np.float32(-0.029557424), np.float32(-0.0024685394), np.float32(-0.03080633), np.float32(-0.01345175), np.float32(0.008078855), np.float32(-0.0059908424), np.float32(0.037571233), np.float32(-0.024821991), np.float32(-0.044414192), np.float32(-0.034292858), np.float32(-0.018993767), np.float32(-0.019071825), np.float32(-0.0016782164), np.float32(-0.023351926)], \\'node_index\\': 13815, \\'node_id\\': \\'Oxygen_(14013)\\', \\'node_name\\': \\'Oxygen\\'}']\n",
      "CPU times: user 4.99 ms, sys: 1.47 ms, total: 6.45 ms\n",
      "Wall time: 13.1 ms\n"
     ]
    }
   ],
   "source": [
    "%%time\n",
    "\n",
    "# Assume node_coll_name is defined and collection exists\n",
    "collection = Collection(node_coll_name)\n",
    "\n",
    "# Load the collection into memory before query\n",
    "collection.load()\n",
    "\n",
    "# Query by expr on node_index\n",
    "expr = \"node_index in [13814, 13815]\"\n",
    "output_fields = [\"node_index\", \"node_id\", \"node_name\", \"node_type\", \"desc\", \"desc_emb\"]\n",
    "\n",
    "results = collection.query(expr, output_fields=output_fields)\n",
    "\n",
    "print(results)"
   ]
  },
  {
   "cell_type": "code",
   "execution_count": 16,
   "id": "36378f38",
   "metadata": {},
   "outputs": [
    {
     "name": "stdout",
     "output_type": "stream",
     "text": [
      "CPU times: user 15.3 ms, sys: 1.18 ms, total: 16.5 ms\n",
      "Wall time: 285 ms\n"
     ]
    },
    {
     "data": {
      "text/plain": [
       "data: [[{'node_index': 11920, 'distance': 1.0000001192092896, 'entity': {'node_id': 'FHAD1_(12058)', 'node_name': 'FHAD1'}}, {'node_index': 28257, 'distance': 0.9123432636260986, 'entity': {'node_id': 'PIH1D3_(35196)', 'node_name': 'PIH1D3'}}, {'node_index': 10809, 'distance': 0.90804123878479, 'entity': {'node_id': 'FHOD1_(10917)', 'node_name': 'FHOD1'}}, {'node_index': 11129, 'distance': 0.9008122682571411, 'entity': {'node_id': 'FHIP2A_(11243)', 'node_name': 'FHIP2A'}}, {'node_index': 52440, 'distance': 0.8989576101303101, 'entity': {'node_id': 'FHIP2B_(83697)', 'node_name': 'FHIP2B'}}, {'node_index': 66576, 'distance': 0.8985256552696228, 'entity': {'node_id': \"protein-FAD linkage via 1'-(8alpha-FAD)-L-histidine_(108484)\", 'node_name': \"protein-FAD linkage via 1'-(8alpha-FAD)-L-histidine\"}}, {'node_index': 11610, 'distance': 0.8984012603759766, 'entity': {'node_id': 'FHOD3_(11738)', 'node_name': 'FHOD3'}}, {'node_index': 7602, 'distance': 0.8982304334640503, 'entity': {'node_id': 'UHRF1BP1_(7656)', 'node_name': 'UHRF1BP1'}}, {'node_index': 8489, 'distance': 0.8974788188934326, 'entity': {'node_id': 'UHRF1BP1L_(8559)', 'node_name': 'UHRF1BP1L'}}, {'node_index': 50312, 'distance': 0.8967840671539307, 'entity': {'node_id': 'FOLH1B_(58111)', 'node_name': 'FOLH1B'}}]]"
      ]
     },
     "execution_count": 16,
     "metadata": {},
     "output_type": "execute_result"
    }
   ],
   "source": [
    "%%time\n",
    "\n",
    "vector_to_search = merged_nodes_df[\"desc_emb\"].loc[2]\n",
    "\n",
    "\n",
    "# Assume node_coll_name is defined and collection exists\n",
    "collection = Collection(node_coll_name)\n",
    "\n",
    "# Load the collection into memory before query\n",
    "collection.load()\n",
    "\n",
    "# Vector similarity search in Milvus\n",
    "vector_to_search = merged_nodes_df[\"desc_emb\"].iloc[2]  # or .loc[2], both work\n",
    "search_params = {\"metric_type\": \"COSINE\"}\n",
    "results = collection.search(\n",
    "    data=[vector_to_search],\n",
    "    anns_field=\"desc_emb\",\n",
    "    param=search_params,\n",
    "    limit=10,\n",
    "    output_fields=[\"node_id\", \"node_name\"]\n",
    ")\n",
    "\n",
    "results"
   ]
  },
  {
   "cell_type": "code",
   "execution_count": 17,
   "id": "995b121b",
   "metadata": {},
   "outputs": [
    {
     "data": {
      "text/html": [
       "<div>\n",
       "<style scoped>\n",
       "    .dataframe tbody tr th:only-of-type {\n",
       "        vertical-align: middle;\n",
       "    }\n",
       "\n",
       "    .dataframe tbody tr th {\n",
       "        vertical-align: top;\n",
       "    }\n",
       "\n",
       "    .dataframe thead th {\n",
       "        text-align: right;\n",
       "    }\n",
       "</style>\n",
       "<table border=\"1\" class=\"dataframe\">\n",
       "  <thead>\n",
       "    <tr style=\"text-align: right;\">\n",
       "      <th></th>\n",
       "      <th>node_index</th>\n",
       "      <th>primekg_node_index</th>\n",
       "      <th>node_id</th>\n",
       "      <th>node_name</th>\n",
       "      <th>node_type</th>\n",
       "      <th>desc</th>\n",
       "      <th>feat</th>\n",
       "      <th>desc_emb</th>\n",
       "      <th>feat_emb</th>\n",
       "    </tr>\n",
       "  </thead>\n",
       "  <tbody>\n",
       "    <tr>\n",
       "      <th>2</th>\n",
       "      <td>11920</td>\n",
       "      <td>12058</td>\n",
       "      <td>FHAD1_(12058)</td>\n",
       "      <td>FHAD1</td>\n",
       "      <td>gene/protein</td>\n",
       "      <td>FHAD1 belongs to gene/protein node. FHAD1 is f...</td>\n",
       "      <td>MKAYLKSAEGFFVLNKSTTIGRHENSDLVLQSPDIDNHHALIEYNE...</td>\n",
       "      <td>[-0.004289147, -0.0060087284, -0.02683332, -0....</td>\n",
       "      <td>[-0.04512454941868782, -0.14413529634475708, 0...</td>\n",
       "    </tr>\n",
       "  </tbody>\n",
       "</table>\n",
       "</div>"
      ],
      "text/plain": [
       "   node_index  primekg_node_index        node_id node_name     node_type  \\\n",
       "2       11920               12058  FHAD1_(12058)     FHAD1  gene/protein   \n",
       "\n",
       "                                                desc  \\\n",
       "2  FHAD1 belongs to gene/protein node. FHAD1 is f...   \n",
       "\n",
       "                                                feat  \\\n",
       "2  MKAYLKSAEGFFVLNKSTTIGRHENSDLVLQSPDIDNHHALIEYNE...   \n",
       "\n",
       "                                            desc_emb  \\\n",
       "2  [-0.004289147, -0.0060087284, -0.02683332, -0....   \n",
       "\n",
       "                                            feat_emb  \n",
       "2  [-0.04512454941868782, -0.14413529634475708, 0...  "
      ]
     },
     "execution_count": 17,
     "metadata": {},
     "output_type": "execute_result"
    }
   ],
   "source": [
    "merged_nodes_df.loc[2]"
   ]
  },
  {
   "cell_type": "markdown",
   "id": "b682b66a",
   "metadata": {},
   "source": [
    "#### Building Node Collection (Node Type-specific Embedding)"
   ]
  },
  {
   "cell_type": "markdown",
   "id": "dab68486",
   "metadata": {},
   "source": [
    "Note that nodes information of the PrimeKG data is different for each node type, \n",
    "we are going to build a separate collection for each node type.\n",
    "\n",
    "We will use the node type as the collection name."
   ]
  },
  {
   "cell_type": "code",
   "execution_count": 18,
   "id": "e0f2ebd4",
   "metadata": {},
   "outputs": [
    {
     "name": "stderr",
     "output_type": "stream",
     "text": [
      "  0%|          | 0/6 [00:00<?, ?it/s]"
     ]
    },
    {
     "name": "stdout",
     "output_type": "stream",
     "text": [
      "Processing node type: biological_process\n"
     ]
    },
    {
     "name": "stderr",
     "output_type": "stream",
     "text": [
      "100%|██████████| 55/55 [00:37<00:00,  1.48it/s]\n",
      " 17%|█▋        | 1/6 [00:41<03:28, 41.61s/it]"
     ]
    },
    {
     "name": "stdout",
     "output_type": "stream",
     "text": [
      "Collection t2kg_primekg_nodes_biological_process stats:\n",
      "27409\n",
      "Processing node type: cellular_component\n"
     ]
    },
    {
     "name": "stderr",
     "output_type": "stream",
     "text": [
      "100%|██████████| 9/9 [00:05<00:00,  1.56it/s]\n",
      " 33%|███▎      | 2/6 [00:49<01:27, 21.99s/it]"
     ]
    },
    {
     "name": "stdout",
     "output_type": "stream",
     "text": [
      "Collection t2kg_primekg_nodes_cellular_component stats:\n",
      "4011\n",
      "Processing node type: disease\n"
     ]
    },
    {
     "name": "stderr",
     "output_type": "stream",
     "text": [
      "100%|██████████| 35/35 [00:22<00:00,  1.56it/s]\n",
      " 50%|█████     | 3/6 [01:15<01:11, 23.73s/it]"
     ]
    },
    {
     "name": "stdout",
     "output_type": "stream",
     "text": [
      "Collection t2kg_primekg_nodes_disease stats:\n",
      "17054\n",
      "Processing node type: drug\n"
     ]
    },
    {
     "name": "stderr",
     "output_type": "stream",
     "text": [
      "100%|██████████| 14/14 [00:03<00:00,  3.83it/s]\n",
      " 67%|██████▋   | 4/6 [01:22<00:33, 16.92s/it]"
     ]
    },
    {
     "name": "stdout",
     "output_type": "stream",
     "text": [
      "Collection t2kg_primekg_nodes_drug stats:\n",
      "6759\n",
      "Processing node type: gene/protein\n"
     ]
    },
    {
     "name": "stderr",
     "output_type": "stream",
     "text": [
      "100%|██████████| 38/38 [00:27<00:00,  1.38it/s]\n",
      " 83%|████████▎ | 5/6 [01:53<00:22, 22.03s/it]"
     ]
    },
    {
     "name": "stdout",
     "output_type": "stream",
     "text": [
      "Collection t2kg_primekg_nodes_gene_protein stats:\n",
      "18797\n",
      "Processing node type: molecular_function\n"
     ]
    },
    {
     "name": "stderr",
     "output_type": "stream",
     "text": [
      "100%|██████████| 22/22 [00:14<00:00,  1.51it/s]\n",
      "100%|██████████| 6/6 [02:10<00:00, 21.78s/it]"
     ]
    },
    {
     "name": "stdout",
     "output_type": "stream",
     "text": [
      "Collection t2kg_primekg_nodes_molecular_function stats:\n",
      "10951\n",
      "CPU times: user 25.5 s, sys: 2.86 s, total: 28.3 s\n",
      "Wall time: 2min 10s\n"
     ]
    },
    {
     "name": "stderr",
     "output_type": "stream",
     "text": [
      "\n"
     ]
    }
   ],
   "source": [
    "%%time\n",
    "\n",
    "# Loop over group enrichment nodes by node_type\n",
    "for node_type, nodes_df in tqdm(merged_nodes_df.groupby('node_type')):\n",
    "    print(f\"Processing node type: {node_type}\")\n",
    "\n",
    "    # Milvus collection name for this node_type\n",
    "    node_coll_name = f\"{milvus_database}_nodes_{node_type.replace('/', '_')}\"\n",
    "\n",
    "    # Define collection schema\n",
    "    feat_emb_dim = len(nodes_df.iloc[0]['feat_emb'].to_arrow().to_pylist()[0])\n",
    "    node_fields = [\n",
    "        FieldSchema(name=\"node_index\", dtype=DataType.INT64, is_primary=True, auto_id=False),\n",
    "        FieldSchema(name=\"node_id\", dtype=DataType.VARCHAR, max_length=1024),\n",
    "        FieldSchema(name=\"node_name\", dtype=DataType.VARCHAR, max_length=1024),\n",
    "        FieldSchema(name=\"node_type\", dtype=DataType.VARCHAR, max_length=1024),\n",
    "        FieldSchema(name=\"feat\", dtype=DataType.VARCHAR, max_length=40960),\n",
    "        FieldSchema(name=\"feat_emb\", dtype=DataType.FLOAT_VECTOR, dim=feat_emb_dim),\n",
    "    ]\n",
    "    schema = CollectionSchema(fields=node_fields, description=f\"schema for collection {node_coll_name}\")\n",
    "\n",
    "    # Create collection if not exists\n",
    "    if not utility.has_collection(node_coll_name):\n",
    "        collection = Collection(name=node_coll_name, schema=schema)\n",
    "    else:\n",
    "        collection = Collection(name=node_coll_name)\n",
    "\n",
    "    # Create index for node_index field (scalar)\n",
    "    collection.create_index(\n",
    "        field_name=\"node_index\",\n",
    "        index_params={\"index_type\": \"STL_SORT\"},\n",
    "        index_name=\"node_index_index\"\n",
    "    )\n",
    "\n",
    "    # Create index for feat_emb (vector)\n",
    "    collection.create_index(\n",
    "        field_name=\"feat_emb\",\n",
    "        index_params={\"index_type\": \"GPU_CAGRA\", \"metric_type\": \"COSINE\"}, # AUTOINDEX\n",
    "        index_name=\"feat_emb_index\"\n",
    "    )\n",
    "\n",
    "    # Prepare data for insertion\n",
    "    # Columns must be lists of values in order matching schema fields\n",
    "    data = [\n",
    "        nodes_df[\"node_index\"].to_arrow().to_pylist(),\n",
    "        nodes_df[\"node_id\"].to_arrow().to_pylist(),\n",
    "        nodes_df[\"node_name\"].to_arrow().to_pylist(),\n",
    "        nodes_df[\"node_type\"].to_arrow().to_pylist(),\n",
    "        nodes_df[\"feat\"].to_arrow().to_pylist(),\n",
    "        cp.asarray(nodes_df[\"feat_emb\"].list.leaves).astype(cp.float32)\n",
    "            .reshape(nodes_df.shape[0], -1)\n",
    "            .tolist(),\n",
    "    ]\n",
    "\n",
    "    # Batch insert data in chunks\n",
    "    batch_size = 500\n",
    "    total_rows = len(data[0])\n",
    "    for i in tqdm(range(0, total_rows, batch_size)):\n",
    "        batch = [col[i:i + batch_size] for col in data]\n",
    "        collection.insert(batch)\n",
    "\n",
    "    # Flush the collection to ensure data is persisted\n",
    "    collection.flush()\n",
    "\n",
    "    # Print collection stats (number of entities and segment info)\n",
    "    stats = collection.num_entities\n",
    "    print(f\"Collection {node_coll_name} stats:\")\n",
    "    print(stats)"
   ]
  },
  {
   "cell_type": "code",
   "execution_count": 19,
   "id": "1e5eef59",
   "metadata": {},
   "outputs": [
    {
     "name": "stdout",
     "output_type": "stream",
     "text": [
      "Collection: t2kg_primekg_nodes_drug\n",
      "6759\n",
      "Collection: t2kg_primekg_nodes_gene_protein\n",
      "18797\n",
      "Collection: t2kg_primekg_nodes_molecular_function\n",
      "10951\n",
      "Collection: t2kg_primekg_nodes\n",
      "84981\n",
      "Collection: t2kg_primekg_nodes_biological_process\n",
      "27409\n",
      "Collection: t2kg_primekg_nodes_cellular_component\n",
      "4011\n",
      "Collection: t2kg_primekg_nodes_disease\n",
      "17054\n"
     ]
    }
   ],
   "source": [
    "# List all collections\n",
    "for coll in utility.list_collections():\n",
    "    print(f\"Collection: {coll}\")\n",
    "\n",
    "    # Load the collection to get stats\n",
    "    collection = Collection(name=coll)\n",
    "    print(collection.num_entities)"
   ]
  },
  {
   "cell_type": "code",
   "execution_count": 20,
   "id": "e127f18c",
   "metadata": {},
   "outputs": [
    {
     "name": "stdout",
     "output_type": "stream",
     "text": [
      "CPU times: user 18.8 ms, sys: 2.39 ms, total: 21.2 ms\n",
      "Wall time: 2.68 s\n"
     ]
    },
    {
     "data": {
      "text/plain": [
       "data: [[{'node_index': 11920, 'distance': 0.9999998807907104, 'entity': {'node_id': 'FHAD1_(12058)', 'node_name': 'FHAD1'}}, {'node_index': 2175, 'distance': 0.9948822259902954, 'entity': {'node_id': 'CEP63_(2181)', 'node_name': 'CEP63'}}, {'node_index': 11540, 'distance': 0.9939631819725037, 'entity': {'node_id': 'CNTLN_(11667)', 'node_name': 'CNTLN'}}, {'node_index': 52366, 'distance': 0.9933797717094421, 'entity': {'node_id': 'CCDC30_(77529)', 'node_name': 'CCDC30'}}, {'node_index': 10812, 'distance': 0.993129312992096, 'entity': {'node_id': 'CEP85_(10920)', 'node_name': 'CEP85'}}, {'node_index': 511, 'distance': 0.9928526282310486, 'entity': {'node_id': 'PDE4DIP_(511)', 'node_name': 'PDE4DIP'}}, {'node_index': 10647, 'distance': 0.9928280115127563, 'entity': {'node_id': 'DEUP1_(10750)', 'node_name': 'DEUP1'}}, {'node_index': 51746, 'distance': 0.992749035358429, 'entity': {'node_id': 'LUZP2_(60155)', 'node_name': 'LUZP2'}}, {'node_index': 114, 'distance': 0.9925759434700012, 'entity': {'node_id': 'RABEP1_(114)', 'node_name': 'RABEP1'}}, {'node_index': 2939, 'distance': 0.9923074245452881, 'entity': {'node_id': 'CCDC136_(2952)', 'node_name': 'CCDC136'}}]]"
      ]
     },
     "execution_count": 20,
     "metadata": {},
     "output_type": "execute_result"
    }
   ],
   "source": [
    "%%time\n",
    "\n",
    "# Assume node_coll_name is defined and collection exists\n",
    "collection = Collection('t2kg_primekg_nodes_gene_protein')\n",
    "\n",
    "# Load the collection into memory before query\n",
    "collection.load()\n",
    "\n",
    "# Vector similarity search in Milvus\n",
    "vector_to_search = merged_nodes_df[\"feat_emb\"].iloc[2]  # or .loc[2], both work\n",
    "search_params = {\"metric_type\": \"COSINE\"}\n",
    "results = collection.search(\n",
    "    data=[vector_to_search],\n",
    "    anns_field=\"feat_emb\",\n",
    "    param=search_params,\n",
    "    limit=10,\n",
    "    output_fields=[\"node_id\", \"node_name\"]\n",
    ")\n",
    "\n",
    "results"
   ]
  },
  {
   "cell_type": "code",
   "execution_count": 21,
   "id": "ad0c340c",
   "metadata": {},
   "outputs": [
    {
     "data": {
      "text/html": [
       "<div>\n",
       "<style scoped>\n",
       "    .dataframe tbody tr th:only-of-type {\n",
       "        vertical-align: middle;\n",
       "    }\n",
       "\n",
       "    .dataframe tbody tr th {\n",
       "        vertical-align: top;\n",
       "    }\n",
       "\n",
       "    .dataframe thead th {\n",
       "        text-align: right;\n",
       "    }\n",
       "</style>\n",
       "<table border=\"1\" class=\"dataframe\">\n",
       "  <thead>\n",
       "    <tr style=\"text-align: right;\">\n",
       "      <th></th>\n",
       "      <th>node_index</th>\n",
       "      <th>primekg_node_index</th>\n",
       "      <th>node_id</th>\n",
       "      <th>node_name</th>\n",
       "      <th>node_type</th>\n",
       "      <th>desc</th>\n",
       "      <th>feat</th>\n",
       "      <th>desc_emb</th>\n",
       "      <th>feat_emb</th>\n",
       "    </tr>\n",
       "  </thead>\n",
       "  <tbody>\n",
       "    <tr>\n",
       "      <th>2</th>\n",
       "      <td>11920</td>\n",
       "      <td>12058</td>\n",
       "      <td>FHAD1_(12058)</td>\n",
       "      <td>FHAD1</td>\n",
       "      <td>gene/protein</td>\n",
       "      <td>FHAD1 belongs to gene/protein node. FHAD1 is f...</td>\n",
       "      <td>MKAYLKSAEGFFVLNKSTTIGRHENSDLVLQSPDIDNHHALIEYNE...</td>\n",
       "      <td>[-0.004289147, -0.0060087284, -0.02683332, -0....</td>\n",
       "      <td>[-0.04512454941868782, -0.14413529634475708, 0...</td>\n",
       "    </tr>\n",
       "  </tbody>\n",
       "</table>\n",
       "</div>"
      ],
      "text/plain": [
       "   node_index  primekg_node_index        node_id node_name     node_type  \\\n",
       "2       11920               12058  FHAD1_(12058)     FHAD1  gene/protein   \n",
       "\n",
       "                                                desc  \\\n",
       "2  FHAD1 belongs to gene/protein node. FHAD1 is f...   \n",
       "\n",
       "                                                feat  \\\n",
       "2  MKAYLKSAEGFFVLNKSTTIGRHENSDLVLQSPDIDNHHALIEYNE...   \n",
       "\n",
       "                                            desc_emb  \\\n",
       "2  [-0.004289147, -0.0060087284, -0.02683332, -0....   \n",
       "\n",
       "                                            feat_emb  \n",
       "2  [-0.04512454941868782, -0.14413529634475708, 0...  "
      ]
     },
     "execution_count": 21,
     "metadata": {},
     "output_type": "execute_result"
    }
   ],
   "source": [
    "# Check the ground truth for the search\n",
    "merged_nodes_df.loc[2]"
   ]
  },
  {
   "cell_type": "code",
   "execution_count": 22,
   "id": "444bb0bd",
   "metadata": {},
   "outputs": [
    {
     "data": {
      "text/plain": [
       "[11920, 2175, 11540, 52366, 10812, 511, 10647, 51746, 114, 2939]"
      ]
     },
     "execution_count": 22,
     "metadata": {},
     "output_type": "execute_result"
    }
   ],
   "source": [
    "# Get node indices from the results\n",
    "[n['node_index'] for n in results[0]]"
   ]
  },
  {
   "cell_type": "code",
   "execution_count": 23,
   "id": "659ffddd",
   "metadata": {},
   "outputs": [
    {
     "data": {
      "text/plain": [
       "[0.9999998807907104,\n",
       " 0.9948822259902954,\n",
       " 0.9939631819725037,\n",
       " 0.9933797717094421,\n",
       " 0.993129312992096,\n",
       " 0.9928526282310486,\n",
       " 0.9928280115127563,\n",
       " 0.992749035358429,\n",
       " 0.9925759434700012,\n",
       " 0.9923074245452881]"
      ]
     },
     "execution_count": 23,
     "metadata": {},
     "output_type": "execute_result"
    }
   ],
   "source": [
    "# Get the cosine similarity scores\n",
    "[n['distance'] for n in results[0]]"
   ]
  },
  {
   "cell_type": "markdown",
   "id": "4730f362",
   "metadata": {},
   "source": [
    "#### Building Edge Collection"
   ]
  },
  {
   "cell_type": "markdown",
   "id": "b7c267b2",
   "metadata": {},
   "source": [
    "Subsquently, we are also building the edges collection in Milvus.\n",
    "\n",
    "Note that the edges information of PrimeKG has massive records, so once again we are chunking the data to avoid memory issues."
   ]
  },
  {
   "cell_type": "code",
   "execution_count": 24,
   "id": "a4253483",
   "metadata": {},
   "outputs": [
    {
     "name": "stderr",
     "output_type": "stream",
     "text": [
      "100%|██████████| 500/500 [05:35<00:00,  1.49it/s]\n"
     ]
    },
    {
     "name": "stdout",
     "output_type": "stream",
     "text": [
      "250000\n"
     ]
    },
    {
     "name": "stderr",
     "output_type": "stream",
     "text": [
      "100%|██████████| 500/500 [05:38<00:00,  1.48it/s]\n"
     ]
    },
    {
     "name": "stdout",
     "output_type": "stream",
     "text": [
      "500000\n"
     ]
    },
    {
     "name": "stderr",
     "output_type": "stream",
     "text": [
      "100%|██████████| 500/500 [05:36<00:00,  1.48it/s]\n"
     ]
    },
    {
     "name": "stdout",
     "output_type": "stream",
     "text": [
      "750000\n"
     ]
    },
    {
     "name": "stderr",
     "output_type": "stream",
     "text": [
      "100%|██████████| 500/500 [05:37<00:00,  1.48it/s]\n"
     ]
    },
    {
     "name": "stdout",
     "output_type": "stream",
     "text": [
      "1000000\n"
     ]
    },
    {
     "name": "stderr",
     "output_type": "stream",
     "text": [
      "100%|██████████| 500/500 [05:37<00:00,  1.48it/s]\n"
     ]
    },
    {
     "name": "stdout",
     "output_type": "stream",
     "text": [
      "1250000\n"
     ]
    },
    {
     "name": "stderr",
     "output_type": "stream",
     "text": [
      "100%|██████████| 410/410 [04:43<00:00,  1.45it/s]\n"
     ]
    },
    {
     "name": "stdout",
     "output_type": "stream",
     "text": [
      "1454610\n"
     ]
    },
    {
     "name": "stderr",
     "output_type": "stream",
     "text": [
      "100%|██████████| 500/500 [05:38<00:00,  1.48it/s]\n"
     ]
    },
    {
     "name": "stdout",
     "output_type": "stream",
     "text": [
      "1704610\n"
     ]
    },
    {
     "name": "stderr",
     "output_type": "stream",
     "text": [
      "100%|██████████| 500/500 [05:43<00:00,  1.46it/s]\n"
     ]
    },
    {
     "name": "stdout",
     "output_type": "stream",
     "text": [
      "1954610\n"
     ]
    },
    {
     "name": "stderr",
     "output_type": "stream",
     "text": [
      "100%|██████████| 500/500 [05:35<00:00,  1.49it/s]\n"
     ]
    },
    {
     "name": "stdout",
     "output_type": "stream",
     "text": [
      "2204610\n"
     ]
    },
    {
     "name": "stderr",
     "output_type": "stream",
     "text": [
      "100%|██████████| 500/500 [05:38<00:00,  1.48it/s]\n"
     ]
    },
    {
     "name": "stdout",
     "output_type": "stream",
     "text": [
      "2454610\n"
     ]
    },
    {
     "name": "stderr",
     "output_type": "stream",
     "text": [
      "100%|██████████| 500/500 [05:37<00:00,  1.48it/s]]\n"
     ]
    },
    {
     "name": "stdout",
     "output_type": "stream",
     "text": [
      "2704610\n"
     ]
    },
    {
     "name": "stderr",
     "output_type": "stream",
     "text": [
      "100%|██████████| 500/500 [05:38<00:00,  1.48it/s]]\n"
     ]
    },
    {
     "name": "stdout",
     "output_type": "stream",
     "text": [
      "2954610\n"
     ]
    },
    {
     "name": "stderr",
     "output_type": "stream",
     "text": [
      "100%|██████████| 500/500 [05:42<00:00,  1.46it/s]]\n"
     ]
    },
    {
     "name": "stdout",
     "output_type": "stream",
     "text": [
      "3204610\n"
     ]
    },
    {
     "name": "stderr",
     "output_type": "stream",
     "text": [
      "100%|██████████| 500/500 [05:42<00:00,  1.46it/s]]\n"
     ]
    },
    {
     "name": "stdout",
     "output_type": "stream",
     "text": [
      "3454610\n"
     ]
    },
    {
     "name": "stderr",
     "output_type": "stream",
     "text": [
      "100%|██████████| 500/500 [05:34<00:00,  1.49it/s]]\n"
     ]
    },
    {
     "name": "stdout",
     "output_type": "stream",
     "text": [
      "3704610\n"
     ]
    },
    {
     "name": "stderr",
     "output_type": "stream",
     "text": [
      "100%|██████████| 400/400 [04:38<00:00,  1.44it/s]]\n"
     ]
    },
    {
     "name": "stdout",
     "output_type": "stream",
     "text": [
      "3904610\n"
     ]
    },
    {
     "name": "stderr",
     "output_type": "stream",
     "text": [
      "100%|██████████| 16/16 [1:38:37<00:00, 369.84s/it]"
     ]
    },
    {
     "name": "stdout",
     "output_type": "stream",
     "text": [
      "CPU times: user 17min 16s, sys: 1min 50s, total: 19min 7s\n",
      "Wall time: 1h 38min 39s\n"
     ]
    },
    {
     "name": "stderr",
     "output_type": "stream",
     "text": [
      "\n"
     ]
    }
   ],
   "source": [
    "%%time\n",
    "\n",
    "# Define collection name\n",
    "edge_coll_name = f\"{milvus_database}_edges\"\n",
    "\n",
    "# Define schema\n",
    "edge_fields = [\n",
    "    FieldSchema(name=\"triplet_index\", dtype=DataType.INT64, is_primary=True, auto_id=False),\n",
    "    FieldSchema(name=\"head_id\", dtype=DataType.VARCHAR, max_length=1024),\n",
    "    FieldSchema(name=\"head_index\", dtype=DataType.INT64),\n",
    "    FieldSchema(name=\"tail_id\", dtype=DataType.VARCHAR, max_length=1024),\n",
    "    FieldSchema(name=\"tail_index\", dtype=DataType.INT64),\n",
    "    FieldSchema(name=\"edge_type\", dtype=DataType.VARCHAR, max_length=1024),\n",
    "    FieldSchema(name=\"display_relation\", dtype=DataType.VARCHAR, max_length=1024),\n",
    "    FieldSchema(name=\"feat\", dtype=DataType.VARCHAR, max_length=40960),\n",
    "    FieldSchema(name=\"feat_emb\", dtype=DataType.FLOAT_VECTOR, dim=1536),\n",
    "]\n",
    "edge_schema = CollectionSchema(fields=edge_fields, description=\"Schema for edges collection\")\n",
    "\n",
    "# Create collection if not exists\n",
    "if not utility.has_collection(edge_coll_name):\n",
    "    collection = Collection(name=edge_coll_name, schema=edge_schema)\n",
    "else:\n",
    "    collection = Collection(name=edge_coll_name)\n",
    "\n",
    "# Create indexes\n",
    "collection.create_index(field_name=\"triplet_index\", index_params={\"index_type\": \"STL_SORT\"}, index_name=\"triplet_index_index\")\n",
    "collection.create_index(field_name=\"head_index\", index_params={\"index_type\": \"STL_SORT\"}, index_name=\"head_index_index\")\n",
    "collection.create_index(field_name=\"tail_index\", index_params={\"index_type\": \"STL_SORT\"}, index_name=\"tail_index_index\")\n",
    "collection.create_index(field_name=\"feat_emb\", index_params={\"index_type\": \"GPU_CAGRA\", \"metric_type\": \"COSINE\"}, index_name=\"feat_emb_index\") # AUTOINDEX\n",
    "\n",
    "# Iterate over chunked edges embedding df\n",
    "for edges_df in tqdm(edges_embedding_df):\n",
    "    # Merge enrichment with embedding\n",
    "    merged_edges_df = edges_enrichment_df.merge(\n",
    "        edges_df[[\"triplet_index\", \"edge_emb\"]],\n",
    "        on=\"triplet_index\",\n",
    "        how=\"inner\"\n",
    "    )\n",
    "\n",
    "    # Prepare data fields in column-wise format\n",
    "    data = [\n",
    "        merged_edges_df[\"triplet_index\"].to_arrow().to_pylist(),\n",
    "        merged_edges_df[\"head_id\"].to_arrow().to_pylist(),\n",
    "        merged_edges_df[\"head_index\"].to_arrow().to_pylist(),\n",
    "        merged_edges_df[\"tail_id\"].to_arrow().to_pylist(),\n",
    "        merged_edges_df[\"tail_index\"].to_arrow().to_pylist(),\n",
    "        merged_edges_df[\"edge_type_str\"].to_arrow().to_pylist(),\n",
    "        merged_edges_df[\"display_relation\"].to_arrow().to_pylist(),\n",
    "        merged_edges_df[\"feat\"].to_arrow().to_pylist(),\n",
    "        cp.asarray(merged_edges_df[\"edge_emb\"].list.leaves).astype(cp.float32)\n",
    "            .reshape(merged_edges_df.shape[0], -1)\n",
    "            .tolist(),\n",
    "    ]\n",
    "\n",
    "    # Insert in chunks\n",
    "    batch_size = 500\n",
    "    for i in tqdm(range(0, len(data[0]), batch_size)):\n",
    "        batch_data = [d[i:i+batch_size] for d in data]\n",
    "        collection.insert(batch_data)\n",
    "\n",
    "    # Flush to ensure persistence\n",
    "    collection.flush()\n",
    "\n",
    "    # Print collection stats\n",
    "    print(collection.num_entities)\n",
    "    \n",
    "    time.sleep(5)  # Sleep to avoid overwhelming the server\n"
   ]
  },
  {
   "cell_type": "code",
   "execution_count": 7,
   "id": "394748bf",
   "metadata": {},
   "outputs": [
    {
     "name": "stdout",
     "output_type": "stream",
     "text": [
      "Collection: t2kg_primekg_nodes\n",
      "84981\n",
      "Collection: t2kg_primekg_nodes_biological_process\n",
      "27409\n",
      "Collection: t2kg_primekg_nodes_cellular_component\n",
      "4011\n",
      "Collection: t2kg_primekg_nodes_disease\n",
      "17054\n",
      "Collection: t2kg_primekg_nodes_drug\n",
      "6759\n",
      "Collection: t2kg_primekg_nodes_gene_protein\n",
      "18797\n",
      "Collection: t2kg_primekg_nodes_molecular_function\n",
      "10951\n",
      "Collection: t2kg_primekg_edges\n",
      "3904610\n"
     ]
    }
   ],
   "source": [
    "# List all collections\n",
    "for coll in utility.list_collections():\n",
    "    print(f\"Collection: {coll}\")\n",
    "\n",
    "    # Load the collection to get stats\n",
    "    collection = Collection(name=coll)\n",
    "    print(collection.num_entities)"
   ]
  },
  {
   "cell_type": "code",
   "execution_count": 29,
   "id": "975ad198",
   "metadata": {},
   "outputs": [
    {
     "name": "stdout",
     "output_type": "stream",
     "text": [
      "CPU times: user 3.66 ms, sys: 98 μs, total: 3.75 ms\n",
      "Wall time: 13.8 ms\n"
     ]
    },
    {
     "data": {
      "text/plain": [
       "data: [\"{'tail_id': 'KIF15_(8889)', 'edge_type': 'gene/protein|ppi|gene/protein', 'feat': 'PHYHIP (gene/protein) has a direct relationship of protein_protein:ppi with KIF15 (gene/protein).', 'feat_emb': [np.float32(-0.01934238), np.float32(0.0011752498), np.float32(0.004431808), np.float32(-0.033904973), np.float32(-0.01556057), np.float32(0.011148459), np.float32(0.0011645806), np.float32(0.028704984), np.float32(0.012691384), np.float32(-0.005199988), np.float32(0.020970657), np.float32(0.01423431), np.float32(0.009421695), np.float32(0.0033714569), np.float32(-0.0027230997), np.float32(-0.0106954295), np.float32(0.015586833), np.float32(-0.015100975), np.float32(0.01833127), np.float32(0.014812087), np.float32(-0.008581293), np.float32(0.019014098), np.float32(0.005584078), np.float32(-0.036977693), np.float32(0.010511592), np.float32(0.034535274), np.float32(0.010833308), np.float32(-0.026236303), np.float32(-0.025107013), np.float32(-0.037502944), np.float32(0.027575694), np.float32(-0.019513085), np.float32(-0.001110414), np.float32(0.015416126), np.float32(0.0045368583), np.float32(-0.0110171465), np.float32(0.009841897), np.float32(-0.021863585), np.float32(0.016400972), np.float32(-0.0021190608), np.float32(-0.0024818124), np.float32(-0.0077540223), np.float32(-0.006516399), np.float32(0.0013426737), np.float32(-0.0038474659), np.float32(-0.0059189256), np.float32(0.0074257404), np.float32(-0.022231262), np.float32(-0.017438343), np.float32(0.008292405), np.float32(-0.014102997), np.float32(0.002123985), np.float32(-0.012579769), np.float32(-0.020051468), np.float32(0.0068545295), np.float32(-0.0032368612), np.float32(0.0050850892), np.float32(0.00063440506), np.float32(-0.028127206), np.float32(-0.004412111), np.float32(0.0011465251), np.float32(0.0029463316), np.float32(-0.008568162), np.float32(-0.0091984635), np.float32(0.016532285), np.float32(0.006933317), np.float32(0.0019582026), np.float32(0.023124188), np.float32(0.015219157), np.float32(-0.0047896355), np.float32(0.04125849), np.float32(0.033012044), np.float32(-0.0026837059), np.float32(-0.004812615), np.float32(0.013761584), np.float32(-0.0022700704), np.float32(-0.007970689), np.float32(0.0009544801), np.float32(-0.02783832), np.float32(0.024411054), np.float32(0.019197935), np.float32(-0.0050653922), np.float32(0.018580765), np.float32(0.0091984635), np.float32(0.015258551), np.float32(-0.03091104), np.float32(-0.017293898), np.float32(0.029729223), np.float32(0.020668639), np.float32(-0.009828765), np.float32(0.02917771), np.float32(0.020629246), np.float32(0.003824486), np.float32(0.004855292), np.float32(-0.008141396), np.float32(-0.0114636095), np.float32(-0.0006499985), np.float32(0.01269795), np.float32(0.011082803), np.float32(-0.021797929), np.float32(-0.026919128), np.float32(0.029414073), np.float32(-0.014680774), np.float32(-0.0013032798), np.float32(-0.018055514), np.float32(-0.0077737193), np.float32(-0.010012603), np.float32(-0.0108595705), np.float32(0.0109383585), np.float32(-0.013879766), np.float32(-0.012967141), np.float32(0.03758173), np.float32(0.012803), np.float32(-0.02343934), np.float32(0.008587859), np.float32(-0.00035433946), np.float32(0.031357504), np.float32(0.013800978), np.float32(-0.012356536), np.float32(-0.0041133743), np.float32(0.031173665), np.float32(0.0021912828), np.float32(0.009579271), np.float32(-0.013288858), np.float32(0.026354484), np.float32(0.03726658), np.float32(-0.021023184), np.float32(-0.024319135), np.float32(-0.009585836), np.float32(-0.0054855933), np.float32(0.018042382), np.float32(0.0070514986), np.float32(0.011227246), np.float32(-0.0059583196), np.float32(-0.017792888), np.float32(-0.0072944276), np.float32(-0.018777734), np.float32(-0.016466629), np.float32(-0.004740393), np.float32(-0.024437318), np.float32(0.005597209), np.float32(0.022966614), np.float32(-0.028915085), np.float32(0.0084302835), np.float32(-0.013866634), np.float32(0.012691384), np.float32(0.010065128), np.float32(-0.003604537), np.float32(-0.020392882), np.float32(0.0019417884), np.float32(0.004671454), np.float32(-0.0021666617), np.float32(-0.0116671445), np.float32(0.013439868), np.float32(0.013498958), np.float32(0.004192162), np.float32(-0.0026295392), np.float32(0.00427095), np.float32(-0.002288126), np.float32(-0.00012382389), np.float32(-0.013590878), np.float32(-2.7416681e-05), np.float32(0.0012901485), np.float32(0.012468153), np.float32(0.03041205), np.float32(0.030674675), np.float32(-0.0035782745), np.float32(-0.011128762), np.float32(0.005787613), np.float32(-0.02447671), np.float32(0.0031465837), np.float32(0.015337338), np.float32(-0.059300873), np.float32(0.01402421), np.float32(0.022717118), np.float32(0.00039968343), np.float32(0.021351466), np.float32(0.011187852), np.float32(-0.027365593), np.float32(-0.018278746), np.float32(-0.011798457), np.float32(0.00046410877), np.float32(0.016913092), np.float32(-0.0022470907), np.float32(0.005180291), np.float32(-0.0042020106), np.float32(0.027759532), np.float32(-0.023019139), np.float32(-0.004392414), np.float32(-0.015993902), np.float32(0.014549461), np.float32(0.014601986), np.float32(0.012126739), np.float32(-0.0051277657), np.float32(-0.645849), np.float32(-0.040785763), np.float32(0.007557053), np.float32(-0.0134464335), np.float32(0.027391855), np.float32(0.033038307), np.float32(0.005213119), np.float32(0.014851481), np.float32(0.015100975), np.float32(0.0068348325), np.float32(-0.0017005011), np.float32(0.03288073), np.float32(-0.014995925), np.float32(-0.017228242), np.float32(-0.015796933), np.float32(-0.03277568), np.float32(-0.011115631), np.float32(-0.047955442), np.float32(0.00282815), np.float32(-0.014772693), np.float32(-0.013906028), np.float32(-0.012954011), np.float32(0.01402421), np.float32(0.033012044), np.float32(0.016781779), np.float32(-0.0012606031), np.float32(0.05005645), np.float32(-0.0058467034), np.float32(-0.00011448837), np.float32(0.016729254), np.float32(-0.019224199), np.float32(0.033773657), np.float32(0.0032614823), np.float32(0.011647448), np.float32(0.039288796), np.float32(-0.0060469555), np.float32(0.013564615), np.float32(0.01914541), np.float32(0.010879268), np.float32(0.03471911), np.float32(-0.032197904), np.float32(-6.422018e-05), np.float32(0.0131247165), np.float32(0.013551484), np.float32(-0.021049445), np.float32(0.016939355), np.float32(0.008994929), np.float32(0.00028252776), np.float32(0.022612069), np.float32(-0.0046222117), np.float32(-0.024621155), np.float32(0.011864114), np.float32(-0.011686841), np.float32(0.009231292), np.float32(-0.0049209483), np.float32(0.0058926633), np.float32(0.026236303), np.float32(-0.03490295), np.float32(-0.0040345867), np.float32(0.002691913), np.float32(0.008876747), np.float32(-0.0076227095), np.float32(-0.002636105), np.float32(-0.01161462), np.float32(0.014247442), np.float32(0.010183309), np.float32(-0.004300495), np.float32(-0.0039689303), np.float32(6.873406e-05), np.float32(-0.0074191745), np.float32(0.029151447), np.float32(0.011864114), np.float32(-0.004796201), np.float32(0.006736348), np.float32(0.004684585), np.float32(0.03724032), np.float32(0.027391855), np.float32(0.02712923), np.float32(-0.0091196755), np.float32(0.018055514), np.float32(-0.024949437), np.float32(0.013170676), np.float32(-0.021154497), np.float32(0.012074214), np.float32(0.0144969355), np.float32(0.00885705), np.float32(-0.02642014), np.float32(0.0131247165), np.float32(-0.008627253), np.float32(-0.025356507), np.float32(0.015429257), np.float32(-0.029702961), np.float32(-0.012356536), np.float32(-0.018685816), np.float32(-0.030333262), np.float32(-0.006332561), np.float32(-0.03666254), np.float32(-0.005961602), np.float32(0.036504965), np.float32(-0.028074682), np.float32(0.0049570594), np.float32(0.0034141336), np.float32(-0.019184804), np.float32(0.0030530232), np.float32(0.020747427), np.float32(-0.007911597), np.float32(-0.0249757), np.float32(-0.007872204), np.float32(0.01956561), np.float32(0.001959844), np.float32(-0.0037818095), np.float32(-0.01233684), np.float32(-0.0030530232), np.float32(-0.017727232), np.float32(-0.018501977), np.float32(-0.032197904), np.float32(0.05783017), np.float32(-0.001848228), np.float32(-0.0007767974), np.float32(-0.010682299), np.float32(0.0006011665), np.float32(0.007845941), np.float32(0.00056546583), np.float32(0.002544186), np.float32(0.02682721), np.float32(0.028100945), np.float32(0.00463206), np.float32(-0.023767622), np.float32(-0.007845941), np.float32(-0.013997947), np.float32(0.017018143), np.float32(-0.004251253), np.float32(0.02580297), np.float32(-0.0023701964), np.float32(0.012304012), np.float32(0.014076735), np.float32(0.018055514), np.float32(0.010577248), np.float32(0.022743382), np.float32(-0.034430224), np.float32(4.362561e-05), np.float32(-0.0023981004), np.float32(0.013374211), np.float32(-0.014720168), np.float32(-0.0008256294), np.float32(-0.025658526), np.float32(-0.029545385), np.float32(-0.01361714), np.float32(0.033773657), np.float32(-0.0016873698), np.float32(0.01802925), np.float32(-0.011936336), np.float32(0.0009052378), np.float32(0.022047423), np.float32(0.0155080445), np.float32(-0.006388369), np.float32(-0.003156432), np.float32(0.01607269), np.float32(-0.009559574), np.float32(-0.030884776), np.float32(0.012566637), np.float32(0.0014148956), np.float32(-0.02519893), np.float32(-0.019014098), np.float32(-0.019158542), np.float32(-0.023478733), np.float32(0.022966614), np.float32(0.005945188), np.float32(-0.007537356), np.float32(-0.004612363), np.float32(0.0048421603), np.float32(-0.026144383), np.float32(-0.022874694), np.float32(0.012284315), np.float32(-0.0033386287), np.float32(0.010097956), np.float32(0.034141336), np.float32(-0.0070449333), np.float32(-0.0014017645), np.float32(-0.00988129), np.float32(-0.0025326961), np.float32(-0.017700968), np.float32(-0.027286805), np.float32(0.010459066), np.float32(0.03337972), np.float32(0.0015183046), np.float32(0.013590878), np.float32(-0.0014797314), np.float32(0.0025770143), np.float32(0.033327196), np.float32(-0.026577717), np.float32(0.013656534), np.float32(-0.0043825656), np.float32(0.009717149), np.float32(-0.0029217103), np.float32(-0.015836326), np.float32(0.01956561), np.float32(0.0030595888), np.float32(-0.010688864), np.float32(0.014286836), np.float32(0.028311046), np.float32(-0.026971655), np.float32(0.004996453), np.float32(-0.046852417), np.float32(0.009592402), np.float32(-0.0076555377), np.float32(-0.021233283), np.float32(-0.022257524), np.float32(-0.0052590785), np.float32(-0.007839376), np.float32(0.009907553), np.float32(0.006368672), np.float32(-0.0028379986), np.float32(-0.010229269), np.float32(0.0033369872), np.float32(-0.014890875), np.float32(-0.014680774), np.float32(0.0072222054), np.float32(-0.008443414), np.float32(-0.0033205731), np.float32(0.017740363), np.float32(0.01054442), np.float32(0.02263833), np.float32(0.008981797), np.float32(-0.011299469), np.float32(-0.00988129), np.float32(0.02345247), np.float32(0.010051996), np.float32(0.012448456), np.float32(-0.010951489), np.float32(-0.00691362), np.float32(-0.0049734735), np.float32(0.021561567), np.float32(0.016361577), np.float32(-0.00030407126), np.float32(-0.009283816), np.float32(0.002435853), np.float32(-0.011345428), np.float32(0.0253959), np.float32(0.013787847), np.float32(0.00011571943), np.float32(0.009283816), np.float32(0.012546941), np.float32(-0.023334289), np.float32(0.005561098), np.float32(-0.011141893), np.float32(0.022507017), np.float32(0.0024736053), np.float32(-0.025330244), np.float32(-0.0012064365), np.float32(0.005163877), np.float32(0.025422163), np.float32(-0.007891901), np.float32(0.010025734), np.float32(0.00655251), np.float32(-0.011299469), np.float32(0.0035290322), np.float32(0.030438313), np.float32(0.042440306), np.float32(0.011325731), np.float32(-0.0068676607), np.float32(-0.011292903), np.float32(0.0134858275), np.float32(0.005193422), np.float32(0.00040809563), np.float32(0.011647448), np.float32(-0.0144969355), np.float32(-0.0057121078), np.float32(-0.03183023), np.float32(-0.011200984), np.float32(-0.0053509977), np.float32(0.021207022), np.float32(0.0018039099), np.float32(-0.02416156), np.float32(0.014785824), np.float32(0.007176246), np.float32(0.022270655), np.float32(0.0109383585), np.float32(-0.00813483), np.float32(0.0015297944), np.float32(-0.027155492), np.float32(-0.033248406), np.float32(0.015100975), np.float32(0.033222146), np.float32(-0.015074712), np.float32(-0.0057547847), np.float32(-0.033117093), np.float32(0.0155474385), np.float32(-0.0063391267), np.float32(0.0144969355), np.float32(-0.00668054), np.float32(0.016873699), np.float32(0.03532315), np.float32(0.0018350967), np.float32(-0.011325731), np.float32(-0.025461556), np.float32(0.0042348388), np.float32(-0.00998634), np.float32(0.021180758), np.float32(-0.0039098393), np.float32(-0.019526217), np.float32(0.005393674), np.float32(-0.034062546), np.float32(-3.1391974e-05), np.float32(0.06812509), np.float32(0.015429257), np.float32(-0.008594424), np.float32(0.003181053), np.float32(-0.0033140075), np.float32(-0.0027214582), np.float32(0.029466597), np.float32(-0.00077023177), np.float32(0.008410586), np.float32(0.0011867397), np.float32(0.001102207), np.float32(-0.0058696833), np.float32(-0.016847435), np.float32(0.0029381246), np.float32(0.0020862324), np.float32(-0.0006602573), np.float32(-0.016046427), np.float32(-0.036268603), np.float32(-0.012146437), np.float32(0.00030571266), np.float32(0.013334817), np.float32(0.031672653), np.float32(0.008463112), np.float32(0.005413371), np.float32(0.00060444936), np.float32(0.0074060434), np.float32(-0.009756543), np.float32(-0.019211067), np.float32(0.011634316), np.float32(-0.010314623), np.float32(0.0026837059), np.float32(-0.019486824), np.float32(0.0057744817), np.float32(0.0049439277), np.float32(0.0056595826), np.float32(0.006880792), np.float32(0.0018958289), np.float32(-0.04737767), np.float32(-0.011988861), np.float32(0.007327256), np.float32(-0.013295423), np.float32(0.0014009437), np.float32(0.01864642), np.float32(0.023255501), np.float32(-0.007287862), np.float32(-0.003936102), np.float32(0.040733237), np.float32(0.032302953), np.float32(0.030753464), np.float32(-0.012809566), np.float32(0.0071302867), np.float32(-0.0013574463), np.float32(0.007281296), np.float32(-0.014707036), np.float32(-0.02519893), np.float32(-0.024529235), np.float32(0.0032319368), np.float32(0.00307272), np.float32(0.023084795), np.float32(0.0055315527), np.float32(0.0021994899), np.float32(0.012139871), np.float32(0.012107043), np.float32(-0.012264618), np.float32(0.019132279), np.float32(0.0020369901), np.float32(0.005025998), np.float32(-0.0033369872), np.float32(-0.005987865), np.float32(-0.013945422), np.float32(0.010682299), np.float32(0.009093413), np.float32(-0.014877743), np.float32(-0.022546412), np.float32(0.0108989645), np.float32(-0.01842319), np.float32(0.008929272), np.float32(-0.016702991), np.float32(0.009513614), np.float32(-0.022086818), np.float32(-0.0012450097), np.float32(-0.019893894), np.float32(-0.0075898813), np.float32(-0.001776006), np.float32(0.014037341), np.float32(-0.0063391267), np.float32(0.0099666435), np.float32(-0.03471911), np.float32(-0.012481284), np.float32(-0.018922178), np.float32(-0.00014516222), np.float32(-0.020484801), np.float32(-0.0069070547), np.float32(-0.0065065506), np.float32(-0.017779756), np.float32(0.0061946823), np.float32(0.005196705), np.float32(-0.0032155227), np.float32(0.021666616), np.float32(0.0013993023), np.float32(-0.018790865), np.float32(0.0015962715), np.float32(0.02366257), np.float32(-0.009139373), np.float32(0.0012663481), np.float32(0.033721134), np.float32(-0.0027821905), np.float32(0.001995955), np.float32(0.019316116), np.float32(-0.0077343252), np.float32(-0.013223202), np.float32(0.027286805), np.float32(0.006240642), np.float32(-0.018685816), np.float32(-0.015311075), np.float32(0.00088554085), np.float32(0.02087874), np.float32(0.012061083), np.float32(-0.019027228), np.float32(0.0029315588), np.float32(0.019276723), np.float32(-0.033117093), np.float32(-0.0037653954), np.float32(-0.022703988), np.float32(0.008167658), np.float32(-0.000718117), np.float32(-0.011240378), np.float32(0.0038999908), np.float32(-0.036610015), np.float32(-0.012901485), np.float32(0.0051212003), np.float32(2.8852915e-05), np.float32(0.005025998), np.float32(-0.0025294132), np.float32(0.01013735), np.float32(0.03112114), np.float32(-0.0077999816), np.float32(0.007228771), np.float32(7.309405e-05), np.float32(-0.02078682), np.float32(-0.023097927), np.float32(0.0075701843), np.float32(0.018856522), np.float32(-0.00282815), np.float32(-0.03041205), np.float32(0.014523199), np.float32(-0.01351209), np.float32(-0.028731246), np.float32(-0.021338334), np.float32(0.014405017), np.float32(-0.038422134), np.float32(0.030175688), np.float32(0.012737344), np.float32(-0.019736318), np.float32(-0.0202747), np.float32(-0.005025998), np.float32(-0.04104839), np.float32(-0.013052495), np.float32(-0.025041357), np.float32(-0.0053411494), np.float32(0.0033304216), np.float32(-0.023465602), np.float32(0.018685816), np.float32(-0.005790896), np.float32(0.018593896), np.float32(-0.024686811), np.float32(-0.03264437), np.float32(0.01432623), np.float32(0.023583783), np.float32(0.0043530203), np.float32(-0.0035552948), np.float32(0.0074454374), np.float32(-0.020314094), np.float32(-0.0074979626), np.float32(0.0014157164), np.float32(-0.037109006), np.float32(-0.0075110937), np.float32(-0.0050752405), np.float32(0.023938328), np.float32(0.020235306), np.float32(0.0300969), np.float32(0.008686343), np.float32(0.013387343), np.float32(0.028284783), np.float32(0.011227246), np.float32(-0.011529266), np.float32(0.018147433), np.float32(0.002424363), np.float32(-0.044173636), np.float32(0.024292873), np.float32(0.021036314), np.float32(-0.022979744), np.float32(0.026945392), np.float32(0.0043234746), np.float32(0.0029184276), np.float32(0.026603978), np.float32(-0.007524225), np.float32(-0.018515108), np.float32(-0.0040148897), np.float32(-0.012356536), np.float32(0.006585338), np.float32(-0.02406964), np.float32(-0.0025770143), np.float32(0.01116159), np.float32(-0.021062577), np.float32(-0.019224199), np.float32(-0.011752498), np.float32(-0.030517101), np.float32(0.0070514986), np.float32(-0.0050785234), np.float32(0.021574697), np.float32(-0.016506022), np.float32(0.04687868), np.float32(0.009191898), np.float32(0.038527183), np.float32(-0.002120702), np.float32(-0.0018465866), np.float32(0.007931295), np.float32(0.00045590173), np.float32(0.04123223), np.float32(-0.030359525), np.float32(0.03225043), np.float32(-0.026971655), np.float32(0.0018597179), np.float32(-0.0019073188), np.float32(-0.0064376113), np.float32(-0.02601307), np.float32(-0.0062734704), np.float32(-0.014601986), np.float32(-0.00077310426), np.float32(-0.021784797), np.float32(-0.033405982), np.float32(-0.0360585), np.float32(-0.01821309), np.float32(-0.002499868), np.float32(0.020826215), np.float32(-0.04553929), np.float32(0.020484801), np.float32(0.00078090094), np.float32(-0.031042352), np.float32(0.021745404), np.float32(0.012277749), np.float32(0.022152474), np.float32(-0.013840372), np.float32(0.046826154), np.float32(0.04966251), np.float32(0.006020693), np.float32(-0.025816102), np.float32(0.0074191745), np.float32(0.009500483), np.float32(0.0014034058), np.float32(0.019329248), np.float32(0.017779756), np.float32(-0.0022142625), np.float32(-0.013551484), np.float32(-0.005419937), np.float32(0.004740393), np.float32(-0.020051468), np.float32(-0.042335253), np.float32(0.0027378723), np.float32(-0.008167658), np.float32(0.0135252215), np.float32(0.007859073), np.float32(0.0149433995), np.float32(-0.014772693), np.float32(0.0024785297), np.float32(-0.003156432), np.float32(0.020773688), np.float32(-0.0074454374), np.float32(-0.005035847), np.float32(0.00091180345), np.float32(0.018239351), np.float32(-0.0011186211), np.float32(0.0074388715), np.float32(0.0022536563), np.float32(-0.016558547), np.float32(-0.005268927), np.float32(-0.008660081), np.float32(0.0034338303), np.float32(0.0017037839), np.float32(0.0017070668), np.float32(0.019079754), np.float32(0.0043267575), np.float32(0.023898935), np.float32(-0.0046747364), np.float32(-0.015705014), np.float32(0.0058270064), np.float32(-0.0114636095), np.float32(-0.013787847), np.float32(0.03471911), np.float32(0.0068348325), np.float32(-0.026485797), np.float32(0.00027637248), np.float32(0.0030448162), np.float32(0.025422163), np.float32(-0.03419386), np.float32(-0.004087112), np.float32(-0.016637335), np.float32(-0.014470673), np.float32(-0.0037095873), np.float32(0.027943369), np.float32(0.010642905), np.float32(0.015271681), np.float32(0.0047206962), np.float32(-0.009507049), np.float32(-0.0022864845), np.float32(-0.021666616), np.float32(-0.0055052903), np.float32(0.038133245), np.float32(-0.046038277), np.float32(0.0009914119), np.float32(0.0009955154), np.float32(0.020865608), np.float32(-0.0021732273), np.float32(0.027601955), np.float32(0.016939355), np.float32(0.009815633), np.float32(0.027995894), np.float32(-0.036741327), np.float32(0.0026623677), np.float32(-0.008758565), np.float32(-0.008180789), np.float32(-0.018370664), np.float32(-0.0025491102), np.float32(-0.012310578), np.float32(-0.014956531), np.float32(0.0230454), np.float32(-0.01208078), np.float32(-0.02211308), np.float32(0.023465602), np.float32(0.0076161437), np.float32(0.016939355), np.float32(0.018501977), np.float32(-0.010728258), np.float32(0.008069173), np.float32(-0.004044435), np.float32(0.00409696), np.float32(-0.01822622), np.float32(0.011200984), np.float32(0.0059583196), np.float32(-0.014102997), np.float32(-0.00019409676), np.float32(0.011279772), np.float32(-0.019907024), np.float32(-0.009382301), np.float32(-0.012579769), np.float32(-0.009664624), np.float32(-0.019014098), np.float32(-0.01203482), np.float32(-0.018554503), np.float32(-0.010143916), np.float32(-0.00855503), np.float32(-0.02467368), np.float32(-0.001016033), np.float32(-0.0017710817), np.float32(-0.013630271), np.float32(-0.025264587), np.float32(0.008804525), np.float32(0.0020763841), np.float32(-0.010157047), np.float32(-0.021207022), np.float32(0.017451474), np.float32(0.006000996), np.float32(0.0018679249), np.float32(-0.008285839), np.float32(-0.0125535065), np.float32(-0.0046747364), np.float32(-0.018593896), np.float32(-0.027733268), np.float32(0.0052656443), np.float32(0.007281296), np.float32(0.047246356), np.float32(0.001352522), np.float32(-0.048743322), np.float32(-0.019696923), np.float32(-0.023925196), np.float32(-0.02928276), np.float32(-0.014378754), np.float32(-0.012015124), np.float32(-0.013866634), np.float32(-0.02723428), np.float32(-0.014667642), np.float32(-0.011004015), np.float32(0.004500747), np.float32(0.007300993), np.float32(0.024739336), np.float32(0.0059944303), np.float32(-0.016506022), np.float32(0.019526217), np.float32(-0.005239382), np.float32(0.020497931), np.float32(-0.00012669637), np.float32(-0.005672714), np.float32(-0.012881788), np.float32(0.019841367), np.float32(-0.007268165), np.float32(-0.0041790307), np.float32(0.037030216), np.float32(-0.01361714), np.float32(0.02057672), np.float32(-0.0139322905), np.float32(0.012461587), np.float32(0.011601488), np.float32(0.017543394), np.float32(0.013906028), np.float32(-0.0347979), np.float32(-0.016821172), np.float32(0.022690857), np.float32(0.010104522), np.float32(-0.025658526), np.float32(0.0050653922), np.float32(-0.014457542), np.float32(0.020248437), np.float32(-0.013709059), np.float32(-0.0090802815), np.float32(-0.01566562), np.float32(3.4315734e-05), np.float32(-0.015901983), np.float32(0.0026738574), np.float32(-0.007819679), np.float32(0.0043628686), np.float32(0.016781779), np.float32(0.031751443), np.float32(0.0029578214), np.float32(-0.0035257493), np.float32(0.003972213), np.float32(0.017188849), np.float32(-0.00010658908), np.float32(0.026078727), np.float32(0.008784828), np.float32(-0.008817656), np.float32(-0.02282217), np.float32(-0.011437347), np.float32(-0.017832281), np.float32(-0.022914087), np.float32(-0.020852476), np.float32(-0.0041691824), np.float32(0.008666647), np.float32(0.017753495), np.float32(-0.00012064366), np.float32(-0.020222176), np.float32(-0.008207052), np.float32(0.010124219), np.float32(0.009356039), np.float32(-0.010590379), np.float32(-0.006060087), np.float32(-0.00890301), np.float32(-0.014142391), np.float32(-0.012074214), np.float32(0.0045598377), np.float32(-0.014733299), np.float32(-0.02765448), np.float32(0.011141893), np.float32(0.0017612333), np.float32(-0.018541371), np.float32(0.04167869), np.float32(0.21020557), np.float32(-0.0056661484), np.float32(0.03571709), np.float32(-0.0018580764), np.float32(0.0009987982), np.float32(0.0135252215), np.float32(-0.004976756), np.float32(0.002215904), np.float32(0.010839874), np.float32(-0.008174224), np.float32(0.013853503), np.float32(0.010262097), np.float32(-0.004999736), np.float32(0.0006577952), np.float32(0.005193422), np.float32(-0.027391855), np.float32(-0.034535274), np.float32(0.0034010021), np.float32(-0.03550699), np.float32(-0.015849458), np.float32(0.0027395138), np.float32(-0.0011284696), np.float32(-0.0032105986), np.float32(-0.013380777), np.float32(0.00977624), np.float32(-0.019605005), np.float32(-0.030727202), np.float32(0.0006118357), np.float32(0.008154526), np.float32(-0.004241404), np.float32(-0.01566562), np.float32(0.00076571794), np.float32(0.0039492333), np.float32(-0.014864611), np.float32(-0.0021896414), np.float32(0.0048224637), np.float32(-0.013420171), np.float32(-0.016151477), np.float32(0.022060554), np.float32(-0.009612099), np.float32(0.013315121), np.float32(0.0123828), np.float32(0.011187852), np.float32(-0.01864642), np.float32(0.006605035), np.float32(-0.008660081), np.float32(0.011036843), np.float32(0.0070908926), np.float32(-0.010518157), np.float32(0.019014098), np.float32(-0.031410027), np.float32(-0.00537726), np.float32(0.020103993), np.float32(0.021994898), np.float32(-0.027680743), np.float32(-0.01780602), np.float32(0.008686343), np.float32(0.023426209), np.float32(-0.001216285), np.float32(0.026393877), np.float32(0.01586259), np.float32(0.015363601), np.float32(-0.034955475), np.float32(0.017976725), np.float32(-0.02212621), np.float32(0.018318139), np.float32(-0.028810034), np.float32(0.007149983), np.float32(0.017635312), np.float32(-0.022296919), np.float32(-0.003552012), np.float32(-0.02529085), np.float32(0.006628015), np.float32(0.021469647), np.float32(-0.02435853), np.float32(-0.018607028), np.float32(0.048848372), np.float32(0.0014813729), np.float32(0.004408828), np.float32(0.03335346), np.float32(-0.004192162), np.float32(-0.011516135), np.float32(-0.042230204), np.float32(-0.017412081), np.float32(-0.00411994), np.float32(-0.017359555), np.float32(0.015219157), np.float32(0.012028255), np.float32(-0.039761525), np.float32(-0.01566562), np.float32(0.028232258), np.float32(-0.007412609), np.float32(-0.008870182), np.float32(-0.0052459473), np.float32(-0.0037588296), np.float32(-0.00054453785), np.float32(-0.017674707), np.float32(0.015245419), np.float32(-0.00772776), np.float32(0.0047075646), np.float32(-0.01080048), np.float32(0.07810487), np.float32(-0.017976725), np.float32(-0.0019007531), np.float32(-0.0046025147), np.float32(-0.0002033297), np.float32(-0.0011957674), np.float32(0.010373713), np.float32(-0.020865608), np.float32(-0.015258551), np.float32(0.0017218394), np.float32(-0.03658375), np.float32(0.008883312), np.float32(-0.012330274), np.float32(-0.0023143885), np.float32(0.027995894), np.float32(0.017018143), np.float32(-0.03295952), np.float32(-0.00921816), np.float32(0.0074257404), np.float32(-0.020287832), np.float32(-0.0061027636), np.float32(0.020051468), np.float32(0.025947414), np.float32(-0.016112084), np.float32(0.004116657), np.float32(-0.004241404), np.float32(-0.009277252), np.float32(-0.01647976), np.float32(-0.031882755), np.float32(0.034824163), np.float32(0.00885705), np.float32(0.010872702), np.float32(0.02652519), np.float32(-0.012908051), np.float32(0.007596447), np.float32(0.014208048), np.float32(-0.006381803), np.float32(-0.016322184), np.float32(0.02354439), np.float32(-0.019815106), np.float32(-0.026341353), np.float32(-0.034745373), np.float32(0.0057744817), np.float32(0.003696456), np.float32(0.009040888), np.float32(0.0123828), np.float32(0.011292903), np.float32(-0.0079050325), np.float32(0.004871706), np.float32(-0.039577685), np.float32(-0.01577067), np.float32(0.0039098393), np.float32(0.004280798), np.float32(0.018961571), np.float32(-0.02865246), np.float32(-0.009690886), np.float32(-0.025842365), np.float32(0.0074388715), np.float32(0.012185831), np.float32(-0.021141365), np.float32(-0.014155523), np.float32(-0.013229767), np.float32(-0.012691384), np.float32(-0.0018531523), np.float32(-0.01315098), np.float32(-0.1661895), np.float32(-0.010071694), np.float32(-0.0018121169), np.float32(-0.023176713), np.float32(0.009992906), np.float32(0.02313732), np.float32(0.0007296069), np.float32(-0.01934238), np.float32(0.015691882), np.float32(-0.0013418529), np.float32(0.019880762), np.float32(-0.0021075709), np.float32(-0.014431279), np.float32(-0.038474657), np.float32(0.017700968), np.float32(0.012494415), np.float32(-0.022690857), np.float32(0.027496906), np.float32(0.018961571), np.float32(-0.0069661452), np.float32(0.0071105896), np.float32(-0.009533311), np.float32(0.014470673), np.float32(0.0038343344), np.float32(-0.00037034322), np.float32(0.022152474), np.float32(-0.011765629), np.float32(-0.014299966), np.float32(-0.002808453), np.float32(0.010176744), np.float32(-0.02959791), np.float32(0.017136324), np.float32(0.029729223), np.float32(0.017569656), np.float32(0.013269161), np.float32(-0.014693906), np.float32(-0.008128264), np.float32(0.016506022), np.float32(-0.015429257), np.float32(0.043674644), np.float32(0.035480727), np.float32(0.012455022), np.float32(-0.0042381217), np.float32(-0.011365125), np.float32(-0.014483805), np.float32(0.016519153), np.float32(0.017740363), np.float32(0.01504845), np.float32(0.027523167), np.float32(0.004415394), np.float32(0.013682797), np.float32(1.596528e-05), np.float32(0.019289855), np.float32(0.019355511), np.float32(0.016243396), np.float32(-0.005781047), np.float32(-0.012107043), np.float32(0.023741359), np.float32(-0.00657549), np.float32(0.014352492), np.float32(0.0033583255), np.float32(-0.017871676), np.float32(0.016151477), np.float32(-0.025658526), np.float32(0.015179763), np.float32(-0.021902978), np.float32(-0.003368174), np.float32(0.013308555), np.float32(-0.02804842), np.float32(0.0048946855), np.float32(-0.015376732), np.float32(-0.027917108), np.float32(0.0026705747), np.float32(-0.008285839), np.float32(-0.000280476), np.float32(0.004405545), np.float32(-0.021732273), np.float32(0.026919128), np.float32(0.012461587), np.float32(0.0107348235), np.float32(-0.005639886), np.float32(0.014510067), np.float32(-0.0036373653), np.float32(-0.0026558018), np.float32(-0.01638784), np.float32(-0.010255531), np.float32(-0.008029779), np.float32(-0.0029742355), np.float32(-0.011128762), np.float32(-0.015823195), np.float32(0.018895915), np.float32(-0.022204999), np.float32(0.01084644), np.float32(0.0029299175), np.float32(0.041100916), np.float32(0.01229088), np.float32(-0.019880762), np.float32(-0.015705014), np.float32(0.0016808042), np.float32(0.016729254), np.float32(0.026131252), np.float32(-0.0062143793), np.float32(0.008935838), np.float32(0.023596914), np.float32(0.015810065), np.float32(0.0056464514), np.float32(0.007117155), np.float32(-0.0045532724), np.float32(0.043359496), np.float32(-0.021430254), np.float32(0.00033115453), np.float32(-0.006769176), np.float32(0.023518126), np.float32(0.029098922), np.float32(-0.0065262476), np.float32(0.03513931), np.float32(-0.00036747073), np.float32(-0.006992408), np.float32(0.004376), np.float32(-0.020261569), np.float32(0.06324026), np.float32(0.027418118), np.float32(0.0027789078), np.float32(0.025776708), np.float32(-0.031803966), np.float32(-0.011594922), np.float32(-0.0911311), np.float32(-0.02928276), np.float32(0.0023833278), np.float32(0.015284813), np.float32(-0.007333821), np.float32(0.0014789107), np.float32(-0.006345692), np.float32(0.0076818005), np.float32(0.003604537), np.float32(0.0064573083), np.float32(0.005219685), np.float32(-0.022388836), np.float32(-0.032696895), np.float32(-0.016663598), np.float32(0.010583813), np.float32(0.010189875), np.float32(-0.010912096), np.float32(-0.013866634), np.float32(-0.007327256), np.float32(0.025146406), np.float32(0.0049209483), np.float32(0.01171967), np.float32(-0.01709693), np.float32(-0.0170838), np.float32(0.022401968), np.float32(0.014418148), np.float32(-0.034535274), np.float32(-0.0049734735), np.float32(0.02160096), np.float32(0.00591236), np.float32(0.0011210833), np.float32(-0.022756513), np.float32(0.023150451), np.float32(0.004799484), np.float32(-0.008837353), np.float32(-0.0051113516), np.float32(0.014444411), np.float32(-0.01626966), np.float32(0.029335285), np.float32(-0.00804291), np.float32(0.007117155), np.float32(-0.002288126), np.float32(0.009336342), np.float32(-0.0035585775), np.float32(0.0066706915), np.float32(0.0008005979), np.float32(0.006545944), np.float32(0.0013475979), np.float32(0.016519153), np.float32(-0.0057186736), np.float32(-0.036163554), np.float32(-0.019775711), np.float32(-0.02682721), np.float32(-0.0041133743), np.float32(0.02273025), np.float32(-0.04036556), np.float32(-0.007012105), np.float32(0.006421197), np.float32(-0.01336108), np.float32(-0.027050443), np.float32(-0.038553447), np.float32(0.001876132), np.float32(-0.009073717), np.float32(0.03143629), np.float32(0.022467624), np.float32(-0.01667673), np.float32(-0.031173665), np.float32(-0.038448397), np.float32(0.027969632), np.float32(-0.014405017), np.float32(-0.0150615815), np.float32(0.032302953), np.float32(-0.0025540343), np.float32(0.016873699), np.float32(-0.041442327), np.float32(-0.008706041), np.float32(-0.03288073), np.float32(-0.027575694), np.float32(0.027995894), np.float32(-0.032801945), np.float32(-0.004083829), np.float32(-0.03603224), np.float32(0.024240348), np.float32(-0.021075709), np.float32(0.018344402), np.float32(0.0026672918), np.float32(0.0131641105), np.float32(-0.004812615), np.float32(0.0030333262), np.float32(-0.0018826977), np.float32(-0.008233314), np.float32(-0.0041133743), np.float32(0.01182472), np.float32(-0.01028836), np.float32(0.0037456984), np.float32(0.01233684), np.float32(0.00160612), np.float32(0.0016414103), np.float32(-3.444397e-05), np.float32(0.022296919), np.float32(-0.03603224), np.float32(-0.006992408), np.float32(-0.04393727), np.float32(0.023623178), np.float32(-0.00911311), np.float32(-0.001252396), np.float32(0.011516135), np.float32(-0.012638859), np.float32(0.03274942), np.float32(0.007360084), np.float32(0.021771666), np.float32(0.0155474385), np.float32(-0.00499317), np.float32(0.01914541), np.float32(-0.017228242), np.float32(-0.0064179143), np.float32(0.009992906), np.float32(0.012218659), np.float32(0.033721134), np.float32(0.020025207), np.float32(0.039787788), np.float32(0.023465602), np.float32(-0.005177008), np.float32(0.019092884), np.float32(0.012967141), np.float32(0.015796933), np.float32(-0.016190872), np.float32(-0.0022224695), np.float32(-0.016729254), np.float32(0.004467919), np.float32(-0.0015946301), np.float32(0.015402994), np.float32(0.018541371), np.float32(-0.03298578), np.float32(-0.0074913967), np.float32(0.004799484), np.float32(-0.0064179143), np.float32(-0.012310578), np.float32(-0.025776708), np.float32(0.020090863), np.float32(0.024003984), np.float32(0.006421197), np.float32(-0.019289855), np.float32(-0.02200803), np.float32(0.0023143885), np.float32(-0.00732069), np.float32(0.021312071), np.float32(0.020353489), np.float32(-0.023833279), np.float32(-0.005410088), np.float32(-0.002964387), np.float32(-0.012126739), np.float32(0.015534307), np.float32(0.018002989), np.float32(0.0024374942), np.float32(-0.010912096), np.float32(-0.014720168), np.float32(-0.011982296), np.float32(0.013367645), np.float32(-0.020642376), np.float32(0.029650437), np.float32(-0.012277749), np.float32(-0.00147809), np.float32(5.1191484e-05), np.float32(0.0011284696), np.float32(-0.0079050325), np.float32(-0.010629773), np.float32(0.0033944366), np.float32(-0.015705014), np.float32(-0.00015624175), np.float32(0.0012679895), np.float32(-0.0401292), np.float32(-0.027575694), np.float32(0.009546442), np.float32(-0.021259546), np.float32(0.021233283), np.float32(0.018922178), np.float32(-0.00012608083), np.float32(-0.027733268), np.float32(0.007543922), np.float32(-0.0034206992), np.float32(-0.005177008), np.float32(0.023268633), np.float32(-0.00028355364), np.float32(-0.022283787), np.float32(0.0116277505), np.float32(0.0150221875), np.float32(0.007353518), np.float32(0.004228273), np.float32(0.0054265023), np.float32(0.015626226), np.float32(0.0052426644), np.float32(-0.0035257493), np.float32(0.019644398), np.float32(0.004241404), np.float32(0.00062004273), np.float32(0.024148429), np.float32(0.0013369287), np.float32(-0.019605005), np.float32(-0.014352492), np.float32(0.004067415), np.float32(0.024594892), np.float32(-0.026052464), np.float32(-0.012546941), np.float32(-0.017044405), np.float32(-0.015705014), np.float32(-0.011457044), np.float32(0.02477873), np.float32(-0.01382724), np.float32(-0.031278715), np.float32(-0.013032798), np.float32(-0.018830258), np.float32(-0.003988627), np.float32(-0.01956561), np.float32(-0.010413107), np.float32(0.00027062753), np.float32(0.006559076), np.float32(0.007012105), np.float32(0.010971187), np.float32(0.0149433995), np.float32(-0.008463112), np.float32(0.04209889), np.float32(0.00881109), np.float32(0.023912065), np.float32(0.0015872438), np.float32(-0.0025835799), np.float32(0.035585776), np.float32(0.029125184), np.float32(0.012507547), np.float32(-0.014155523), np.float32(0.047587767), np.float32(-0.029151447), np.float32(0.011496438), np.float32(0.008174224), np.float32(-0.02804842), np.float32(0.00028622092), np.float32(-0.0038999908), np.float32(0.0154686505), np.float32(-0.003643931), np.float32(0.021666616), np.float32(-0.010419672), np.float32(0.07463821), np.float32(-0.011798457), np.float32(-0.025461556), np.float32(-0.014194916), np.float32(-0.009631796), np.float32(0.004812615), np.float32(-0.011765629), np.float32(0.0149433995), np.float32(-0.035664562), np.float32(-0.015888851), np.float32(-0.0006212738), np.float32(-0.028888822), np.float32(0.027785795), np.float32(-0.039971624), np.float32(0.010701995), np.float32(-0.0085419), np.float32(-0.017884808), np.float32(0.011516135), np.float32(0.006591904), np.float32(-0.010012603), np.float32(0.018987834), np.float32(-0.0023734793), np.float32(0.0048815543), np.float32(-0.0011416009), np.float32(-0.042834245), np.float32(-0.005547967), np.float32(0.036216076), np.float32(0.0023587067), np.float32(0.020117125), np.float32(-0.038763545), np.float32(0.008174224), np.float32(0.030779727), np.float32(-0.02670903), np.float32(-0.001876132), np.float32(0.025789838), np.float32(0.0038704455), np.float32(-0.007281296), np.float32(-0.0078656385), np.float32(0.044882722), np.float32(0.0132428985), np.float32(-0.0021551717), np.float32(-0.007209074), np.float32(-0.018108038), np.float32(-0.019775711), np.float32(0.0065262476), np.float32(0.0037653954), np.float32(-0.0059254915), np.float32(-0.021338334), np.float32(-0.015586833)], 'triplet_index': 0, 'head_id': 'PHYHIP_(0)'}\"]"
      ]
     },
     "execution_count": 29,
     "metadata": {},
     "output_type": "execute_result"
    }
   ],
   "source": [
    "%%time\n",
    "\n",
    "# Assume node_coll_name is defined and collection exists\n",
    "collection = Collection('t2kg_primekg_edges')\n",
    "\n",
    "# Load the collection into memory before query\n",
    "collection.load()\n",
    "\n",
    "# Query by expr on triplet_index\n",
    "expr = \"triplet_index == 0\"\n",
    "output_fields = [\"triplet_index\", \"head_id\", \"tail_id\", \"edge_type\", \"feat\", \"feat_emb\"]\n",
    "\n",
    "results = collection.query(expr, output_fields=output_fields)\n",
    "results"
   ]
  },
  {
   "cell_type": "code",
   "execution_count": 30,
   "id": "b71f730f",
   "metadata": {},
   "outputs": [
    {
     "data": {
      "text/plain": [
       "(0,\n",
       " 'PHYHIP_(0)',\n",
       " 'KIF15_(8889)',\n",
       " 'gene/protein|ppi|gene/protein',\n",
       " 'PHYHIP (gene/protein) has a direct relationship of protein_protein:ppi with KIF15 (gene/protein).')"
      ]
     },
     "execution_count": 30,
     "metadata": {},
     "output_type": "execute_result"
    }
   ],
   "source": [
    "# Check the ground truth for the search\n",
    "results[0]['triplet_index'], results[0]['head_id'], results[0]['tail_id'], results[0]['edge_type'], results[0]['feat']"
   ]
  },
  {
   "cell_type": "code",
   "execution_count": 31,
   "id": "6797cf47",
   "metadata": {},
   "outputs": [
    {
     "name": "stdout",
     "output_type": "stream",
     "text": [
      "CPU times: user 19.8 ms, sys: 7.31 ms, total: 27.1 ms\n",
      "Wall time: 37.4 s\n"
     ]
    },
    {
     "data": {
      "text/plain": [
       "data: [[{'triplet_index': 0, 'distance': 1.000000238418579, 'entity': {'edge_type': 'gene/protein|ppi|gene/protein', 'feat': 'PHYHIP (gene/protein) has a direct relationship of protein_protein:ppi with KIF15 (gene/protein).', 'head_id': 'PHYHIP_(0)', 'tail_id': 'KIF15_(8889)'}}, {'triplet_index': 3069556, 'distance': 0.9815623760223389, 'entity': {'edge_type': 'gene/protein|ppi|gene/protein', 'feat': 'KIF15 (gene/protein) has a direct relationship of protein_protein:ppi with PHYHIP (gene/protein).', 'head_id': 'KIF15_(8889)', 'tail_id': 'PHYHIP_(0)'}}, {'triplet_index': 93582, 'distance': 0.9684444069862366, 'entity': {'edge_type': 'gene/protein|ppi|gene/protein', 'feat': 'PHYHIP (gene/protein) has a direct relationship of protein_protein:ppi with PRKD2 (gene/protein).', 'head_id': 'PHYHIP_(0)', 'tail_id': 'PRKD2_(9221)'}}, {'triplet_index': 305788, 'distance': 0.9657970070838928, 'entity': {'edge_type': 'gene/protein|ppi|gene/protein', 'feat': 'PHYHIP (gene/protein) has a direct relationship of protein_protein:ppi with PPIE (gene/protein).', 'head_id': 'PHYHIP_(0)', 'tail_id': 'PPIE_(5629)'}}, {'triplet_index': 300682, 'distance': 0.9599261283874512, 'entity': {'edge_type': 'gene/protein|ppi|gene/protein', 'feat': 'PHYHIP (gene/protein) has a direct relationship of protein_protein:ppi with PRMT5 (gene/protein).', 'head_id': 'PHYHIP_(0)', 'tail_id': 'PRMT5_(7026)'}}, {'triplet_index': 3154085, 'distance': 0.9597105979919434, 'entity': {'edge_type': 'gene/protein|ppi|gene/protein', 'feat': 'PHYHIP (gene/protein) has a direct relationship of protein_protein:ppi with SUPT5H (gene/protein).', 'head_id': 'PHYHIP_(0)', 'tail_id': 'SUPT5H_(1736)'}}, {'triplet_index': 3201926, 'distance': 0.9593513607978821, 'entity': {'edge_type': 'gene/protein|ppi|gene/protein', 'feat': 'PHYHIP (gene/protein) has a direct relationship of protein_protein:ppi with S100A13 (gene/protein).', 'head_id': 'PHYHIP_(0)', 'tail_id': 'S100A13_(5140)'}}, {'triplet_index': 3334423, 'distance': 0.9588443636894226, 'entity': {'edge_type': 'gene/protein|ppi|gene/protein', 'feat': 'PHYHIP (gene/protein) has a direct relationship of protein_protein:ppi with HNRNPA1 (gene/protein).', 'head_id': 'PHYHIP_(0)', 'tail_id': 'HNRNPA1_(352)'}}, {'triplet_index': 110476, 'distance': 0.9586011171340942, 'entity': {'edge_type': 'gene/protein|ppi|gene/protein', 'feat': 'PHYHIP (gene/protein) has a direct relationship of protein_protein:ppi with ANKRD12 (gene/protein).', 'head_id': 'PHYHIP_(0)', 'tail_id': 'ANKRD12_(6038)'}}, {'triplet_index': 307994, 'distance': 0.9583001136779785, 'entity': {'edge_type': 'gene/protein|ppi|gene/protein', 'feat': 'KIFBP (gene/protein) has a direct relationship of protein_protein:ppi with KIF15 (gene/protein).', 'head_id': 'KIFBP_(5726)', 'tail_id': 'KIF15_(8889)'}}]]"
      ]
     },
     "execution_count": 31,
     "metadata": {},
     "output_type": "execute_result"
    }
   ],
   "source": [
    "%%time\n",
    "\n",
    "# Assume node_coll_name is defined and collection exists\n",
    "collection = Collection('t2kg_primekg_edges')\n",
    "\n",
    "# Load the collection into memory before query\n",
    "collection.load()\n",
    "\n",
    "# Vector similarity search in Milvus\n",
    "vector_to_search = np.array(results[0]['feat_emb']).tolist() # merged_edges_df[\"edge_emb\"].iloc[0]\n",
    "search_params = {\"metric_type\": \"COSINE\"}\n",
    "results = collection.search(\n",
    "    data=[vector_to_search],\n",
    "    anns_field=\"feat_emb\",\n",
    "    param=search_params,\n",
    "    limit=10,\n",
    "    output_fields=[\"head_id\", \"tail_id\", \"edge_type\", \"feat\"]\n",
    ")\n",
    "results"
   ]
  },
  {
   "cell_type": "code",
   "execution_count": 32,
   "id": "03bce0b8",
   "metadata": {},
   "outputs": [
    {
     "data": {
      "text/plain": [
       "[0, 3069556, 93582, 305788, 300682, 3154085, 3201926, 3334423, 110476, 307994]"
      ]
     },
     "execution_count": 32,
     "metadata": {},
     "output_type": "execute_result"
    }
   ],
   "source": [
    "# Get node indices from the results\n",
    "[n['triplet_index'] for n in results[0]]"
   ]
  },
  {
   "cell_type": "code",
   "execution_count": 33,
   "id": "978a0e33",
   "metadata": {},
   "outputs": [
    {
     "data": {
      "text/plain": [
       "[1.000000238418579,\n",
       " 0.9815623760223389,\n",
       " 0.9684444069862366,\n",
       " 0.9657970070838928,\n",
       " 0.9599261283874512,\n",
       " 0.9597105979919434,\n",
       " 0.9593513607978821,\n",
       " 0.9588443636894226,\n",
       " 0.9586011171340942,\n",
       " 0.9583001136779785]"
      ]
     },
     "execution_count": 33,
     "metadata": {},
     "output_type": "execute_result"
    }
   ],
   "source": [
    "# Get the cosine similarity scores\n",
    "[n['distance'] for n in results[0]]"
   ]
  }
 ],
 "metadata": {
  "kernelspec": {
   "display_name": "venv",
   "language": "python",
   "name": "python3"
  },
  "language_info": {
   "codemirror_mode": {
    "name": "ipython",
    "version": 3
   },
   "file_extension": ".py",
   "mimetype": "text/x-python",
   "name": "python",
   "nbconvert_exporter": "python",
   "pygments_lexer": "ipython3",
   "version": "3.12.2"
  }
 },
 "nbformat": 4,
 "nbformat_minor": 5
}
