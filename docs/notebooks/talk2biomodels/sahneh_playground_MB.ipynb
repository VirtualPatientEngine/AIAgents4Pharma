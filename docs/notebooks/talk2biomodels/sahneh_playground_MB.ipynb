{
 "cells": [
  {
   "cell_type": "markdown",
   "id": "fe45773a-ff5f-4ef6-a7be-fc37f8a88614",
   "metadata": {},
   "source": [
    "# From SBML to BKGs\n",
    "\n",
    "**Objectives**: \n",
    "\n",
    "Annotate a SBML"
   ]
  },
  {
   "cell_type": "code",
   "execution_count": 1,
   "id": "39bce8c3-bc76-4cf1-9011-ca5a5878001a",
   "metadata": {},
   "outputs": [
    {
     "name": "stdout",
     "output_type": "stream",
     "text": [
      "\u001b[33mWARNING: Running pip as the 'root' user can result in broken permissions and conflicting behaviour with the system package manager, possibly rendering your system unusable.It is recommended to use a virtual environment instead: https://pip.pypa.io/warnings/venv. Use the --root-user-action option if you know what you are doing and want to suppress this warning.\u001b[0m\u001b[33m\n",
      "\u001b[0m"
     ]
    }
   ],
   "source": [
    "# Installations\n",
    "\n",
    "!pip -q install copasi_basico==0.78"
   ]
  },
  {
   "cell_type": "code",
   "execution_count": 2,
   "id": "069ae944-78d5-4174-9860-a4a60ad49256",
   "metadata": {},
   "outputs": [
    {
     "ename": "ModuleNotFoundError",
     "evalue": "No module named 'basico'",
     "output_type": "error",
     "traceback": [
      "\u001b[0;31m---------------------------------------------------------------------------\u001b[0m",
      "\u001b[0;31mModuleNotFoundError\u001b[0m                       Traceback (most recent call last)",
      "Cell \u001b[0;32mIn[2], line 1\u001b[0m\n\u001b[0;32m----> 1\u001b[0m \u001b[38;5;28;01mimport\u001b[39;00m \u001b[38;5;21;01mbasico\u001b[39;00m\n",
      "\u001b[0;31mModuleNotFoundError\u001b[0m: No module named 'basico'"
     ]
    }
   ],
   "source": [
    "import basico"
   ]
  },
  {
   "cell_type": "code",
   "execution_count": null,
   "id": "aa97a1dd-85b6-49aa-a6c9-cee104ca708e",
   "metadata": {},
   "outputs": [],
   "source": [
    "model = basico.load_model(\"./Dwivedi_Model537_empty.xml\")\n",
    "species = basico.get_species()\n",
    "species"
   ]
  },
  {
   "cell_type": "code",
   "execution_count": null,
   "id": "a9441000-422f-4cc8-83bb-9e35e1012456",
   "metadata": {},
   "outputs": [],
   "source": [
    "# The empty model does not have annotation for species\n",
    "basico.get_miriam_annotation(name=\"IL6\")"
   ]
  },
  {
   "cell_type": "code",
   "execution_count": null,
   "id": "0a574e5d-dae4-404a-8afa-522c647ccbef",
   "metadata": {},
   "outputs": [],
   "source": [
    "# However, we do have miriam annorations for the model itself\n",
    "basico.get_miriam_annotation()"
   ]
  },
  {
   "cell_type": "code",
   "execution_count": null,
   "id": "3b528e3b-73fc-4536-8b8c-415cf4ed9bc2",
   "metadata": {},
   "outputs": [],
   "source": [
    "# The above information already tells use we can consider a SBML node type to a BKG with \n",
    "# This node already is connected to a Disease, Gene, Biological Process, and Reactom"
   ]
  },
  {
   "cell_type": "code",
   "execution_count": null,
   "id": "641843d5-dab9-43bc-a7fa-3348c3371c51",
   "metadata": {},
   "outputs": [],
   "source": [
    "# using AMAS-sb\n",
    "# !pip -q install AMAS-sb"
   ]
  },
  {
   "cell_type": "code",
   "execution_count": null,
   "id": "310de2af-8168-4641-aef5-bc28c7abd830",
   "metadata": {},
   "outputs": [],
   "source": [
    "# !recommend_species Dwivedi_Model537_empty.xml"
   ]
  },
  {
   "cell_type": "markdown",
   "id": "bb2f85e6-d46f-4f6b-9e02-24fbc2517afa",
   "metadata": {},
   "source": [
    "## contextualizing the species based on the paper"
   ]
  },
  {
   "cell_type": "code",
   "execution_count": null,
   "id": "73884faf-af56-455e-b623-58f8250c0936",
   "metadata": {},
   "outputs": [],
   "source": [
    "species.display_name.to_list()"
   ]
  },
  {
   "cell_type": "code",
   "execution_count": null,
   "id": "2e70cf78-3a12-4652-b73c-6c615907e9d9",
   "metadata": {},
   "outputs": [],
   "source": [
    "# used a good quality text extractor and the species name in a reasoning model to get the following map\n",
    "# from display names to name and description"
   ]
  },
  {
   "cell_type": "code",
   "execution_count": 3,
   "id": "295d6918-735c-4ce6-a876-602ed2265647",
   "metadata": {},
   "outputs": [],
   "source": [
    "species_dict = {\n",
    "    'IL6{serum}': {\n",
    "        'name': 'Interleukin-6 in serum',\n",
    "        'description': 'Interleukin-6 cytokine in blood circulation; elevated in Crohn\\'s disease'\n",
    "    },\n",
    "    'IL6{liver}': {\n",
    "        'name': 'Interleukin-6 in liver',\n",
    "        'description': 'Interleukin-6 in liver compartment'\n",
    "    },\n",
    "    'IL6{gut}': {\n",
    "        'name': 'Interleukin-6 in gut',\n",
    "        'description': 'Interleukin-6 in gut compartment; significantly increased in intestinal mucosa in Crohn\\'s'\n",
    "    },\n",
    "    'R': {\n",
    "        'name': 'Membrane-bound IL-6 receptor',\n",
    "        'description': 'Membrane-bound IL-6 receptor (IL-6Rα); binds IL-6 for classical signaling'\n",
    "    },\n",
    "    'sR{serum}': {\n",
    "        'name': 'Soluble IL-6 receptor in serum',\n",
    "        'description': 'Soluble IL-6 receptor in blood; enables trans-signaling'\n",
    "    },\n",
    "    'sR{liver}': {\n",
    "        'name': 'Soluble IL-6 receptor in liver',\n",
    "        'description': 'Soluble IL-6 receptor in liver compartment'\n",
    "    },\n",
    "    'sR{gut}': {\n",
    "        'name': 'Soluble IL-6 receptor in gut',\n",
    "        'description': 'Soluble IL-6 receptor in gut compartment'\n",
    "    },\n",
    "    'gp130{liver}': {\n",
    "        'name': 'Glycoprotein 130 in liver',\n",
    "        'description': 'Membrane-bound glycoprotein 130 co-receptor in liver cells'\n",
    "    },\n",
    "    'gp130{gut}': {\n",
    "        'name': 'Glycoprotein 130 in gut',\n",
    "        'description': 'Membrane-bound glycoprotein 130 co-receptor in gut cells'\n",
    "    },\n",
    "    'sgp130{serum}': {\n",
    "        'name': 'Soluble glycoprotein 130 in serum',\n",
    "        'description': 'Soluble glycoprotein 130 in blood; natural inhibitor of IL-6 trans-signaling'\n",
    "    },\n",
    "    'sgp130{liver}': {\n",
    "        'name': 'Soluble glycoprotein 130 in liver',\n",
    "        'description': 'Soluble glycoprotein 130 in liver compartment'\n",
    "    },\n",
    "    'sgp130{gut}': {\n",
    "        'name': 'Soluble glycoprotein 130 in gut',\n",
    "        'description': 'Soluble glycoprotein 130 in gut compartment'\n",
    "    },\n",
    "    'R_IL6': {\n",
    "        'name': 'IL-6/IL-6Rα complex',\n",
    "        'description': 'Complex of membrane-bound IL-6 receptor with IL-6'\n",
    "    },\n",
    "    'sR_IL6{serum}': {\n",
    "        'name': 'IL-6/sIL-6Rα complex in serum',\n",
    "        'description': 'Complex of soluble IL-6 receptor with IL-6 in blood'\n",
    "    },\n",
    "    'sR_IL6{liver}': {\n",
    "        'name': 'IL-6/sIL-6Rα complex in liver',\n",
    "        'description': 'Complex of soluble IL-6 receptor with IL-6 in liver'\n",
    "    },\n",
    "    'sR_IL6{gut}': {\n",
    "        'name': 'IL-6/sIL-6Rα complex in gut',\n",
    "        'description': 'Complex of soluble IL-6 receptor with IL-6 in gut'\n",
    "    },\n",
    "    'R_IL6_gp130{liver}': {\n",
    "        'name': 'IL-6/IL-6Rα/gp130 complex in liver',\n",
    "        'description': 'Tripartite complex of IL-6, IL-6Rα, and gp130 in liver'\n",
    "    },\n",
    "    'R_IL6_gp130{gut}': {\n",
    "        'name': 'IL-6/IL-6Rα/gp130 complex in gut',\n",
    "        'description': 'Tripartite complex of IL-6, IL-6Rα, and gp130 in gut'\n",
    "    },\n",
    "    'sR_IL6_sgp130{serum}': {\n",
    "        'name': 'IL-6/sIL-6Rα/sgp130 complex in serum',\n",
    "        'description': 'Inhibitory complex of IL-6, soluble IL-6 receptor, and sgp130 in blood'\n",
    "    },\n",
    "    'sR_IL6_sgp130{liver}': {\n",
    "        'name': 'IL-6/sIL-6Rα/sgp130 complex in liver',\n",
    "        'description': 'Inhibitory complex in liver compartment'\n",
    "    },\n",
    "    'sR_IL6_sgp130{gut}': {\n",
    "        'name': 'IL-6/sIL-6Rα/sgp130 complex in gut',\n",
    "        'description': 'Inhibitory complex in gut compartment'\n",
    "    },\n",
    "    'Ractive{liver}': {\n",
    "        'name': 'Activated IL-6 receptor complex in liver',\n",
    "        'description': 'Activated IL-6 receptor complex in liver cells'\n",
    "    },\n",
    "    'Ractive{gut}': {\n",
    "        'name': 'Activated IL-6 receptor complex in gut',\n",
    "        'description': 'Activated IL-6 receptor complex in gut cells'\n",
    "    },\n",
    "    'STAT3{liver}': {\n",
    "        'name': 'STAT3 in liver',\n",
    "        'description': 'Signal transducer and activator of transcription 3 in liver cells'\n",
    "    },\n",
    "    'STAT3{gut}': {\n",
    "        'name': 'STAT3 in gut',\n",
    "        'description': 'STAT3 in gut cells'\n",
    "    },\n",
    "    'pSTAT3{liver}': {\n",
    "        'name': 'Phosphorylated STAT3 in liver',\n",
    "        'description': 'Phosphorylated STAT3 in liver cells; indicates active IL-6 signaling'\n",
    "    },\n",
    "    'pSTAT3{gut}': {\n",
    "        'name': 'Phosphorylated STAT3 in gut',\n",
    "        'description': 'Phosphorylated STAT3 in gut cells; elevated in Crohn\\'s disease'\n",
    "    },\n",
    "    'CRP{liver}': {\n",
    "        'name': 'C-reactive protein in liver',\n",
    "        'description': 'C-reactive protein produced within liver cells'\n",
    "    },\n",
    "    'CRP{serum}': {\n",
    "        'name': 'C-reactive protein in serum',\n",
    "        'description': 'C-reactive protein in blood; key inflammatory biomarker in Crohn\\'s'\n",
    "    },\n",
    "    'CRPExtracellular': {\n",
    "        'name': 'Extracellular C-reactive protein',\n",
    "        'description': 'Secreted CRP not yet in circulation'\n",
    "    },\n",
    "    'geneProduct': {\n",
    "        'name': 'STAT3-induced gene product',\n",
    "        'description': 'Generic product of genes activated by pSTAT3 signaling'\n",
    "    },\n",
    "    'Ab{serum}': {\n",
    "        'name': 'Therapeutic antibody in serum',\n",
    "        'description': 'Therapeutic antibody (anti-IL6 or anti-IL6Rα) in blood'\n",
    "    },\n",
    "    'Ab{liver}': {\n",
    "        'name': 'Therapeutic antibody in liver',\n",
    "        'description': 'Therapeutic antibody in liver compartment'\n",
    "    },\n",
    "    'Ab{gut}': {\n",
    "        'name': 'Therapeutic antibody in gut',\n",
    "        'description': 'Therapeutic antibody in gut compartment'\n",
    "    },\n",
    "    'Ab{peripheral}': {\n",
    "        'name': 'Therapeutic antibody in peripheral tissues',\n",
    "        'description': 'Therapeutic antibody in peripheral tissues'\n",
    "    },\n",
    "    'Ab_R': {\n",
    "        'name': 'Antibody-receptor complex',\n",
    "        'description': 'Antibody bound to membrane-bound IL-6 receptor'\n",
    "    },\n",
    "    'Ab_sR{serum}': {\n",
    "        'name': 'Antibody-sIL-6Rα complex in serum',\n",
    "        'description': 'Antibody bound to soluble IL-6 receptor in blood'\n",
    "    },\n",
    "    'Ab_sR{liver}': {\n",
    "        'name': 'Antibody-sIL-6Rα complex in liver',\n",
    "        'description': 'Antibody bound to soluble IL-6 receptor in liver'\n",
    "    },\n",
    "    'Ab_sR{gut}': {\n",
    "        'name': 'Antibody-sIL-6Rα complex in gut',\n",
    "        'description': 'Antibody bound to soluble IL-6 receptor in gut'\n",
    "    },\n",
    "    'Ab_sR_IL6{serum}': {\n",
    "        'name': 'Antibody-IL-6/sIL-6Rα complex in serum',\n",
    "        'description': 'Antibody bound to IL-6/sIL-6Rα complex in blood'\n",
    "    },\n",
    "    'Ab_sR_IL6{liver}': {\n",
    "        'name': 'Antibody-IL-6/sIL-6Rα complex in liver',\n",
    "        'description': 'Antibody bound to IL-6/sIL-6Rα complex in liver'\n",
    "    },\n",
    "    'Ab_sR_IL6{gut}': {\n",
    "        'name': 'Antibody-IL-6/sIL-6Rα complex in gut',\n",
    "        'description': 'Antibody bound to IL-6/sIL-6Rα complex in gut'\n",
    "    },\n",
    "    'CRP Suppression (%)': {\n",
    "        'name': 'CRP suppression percentage',\n",
    "        'description': 'Percentage reduction in CRP levels after treatment'\n",
    "    },\n",
    "    'CRP (% of baseline)': {\n",
    "        'name': 'CRP percentage of baseline',\n",
    "        'description': 'CRP levels as percentage of pre-treatment baseline'\n",
    "    }\n",
    "}"
   ]
  },
  {
   "cell_type": "code",
   "execution_count": 3,
   "id": "70ff731f-e23d-4c23-ade1-c33479025eb7",
   "metadata": {},
   "outputs": [],
   "source": [
    "\n",
    "from bioontology_api import enrich_species_dict_with_ontologies"
   ]
  },
  {
   "cell_type": "code",
   "execution_count": 4,
   "id": "d955b3f1-0889-4845-996b-04c637c9339b",
   "metadata": {},
   "outputs": [],
   "source": [
    "import getpass\n",
    "\n",
    "bioontology_api_key = getpass.getpass(prompt=\"Enter your API key: \")"
   ]
  },
  {
   "cell_type": "code",
   "execution_count": 7,
   "id": "dd3384a8-1000-4113-8b45-307c12a3964a",
   "metadata": {},
   "outputs": [],
   "source": [
    "PRIMEKG_ONTOLOGIES = [\n",
    "        'NCBITAXON',     # NCBI Taxonomy\n",
    "        'DRON',          # Drug Ontology (alternative to DrugBank)\n",
    "        'HP',            # Human Phenotype Ontology\n",
    "        'MONDO',         # Monarch Disease Ontology\n",
    "        'GO-PLUS',       # Gene Ontology Plus\n",
    "        'MEDDRA',        # Medical Dictionary for Regulatory Activities (alternative to CTD)\n",
    "        'RXNORM',        # RxNorm\n",
    "        'UBERON'         # Uber Anatomy Ontology\n",
    "    ]"
   ]
  },
  {
   "cell_type": "code",
   "execution_count": 5,
   "id": "39b5c567",
   "metadata": {},
   "outputs": [],
   "source": [
    "import json\n",
    "\n",
    "# Load the species_dict.json\n",
    "with open(\"species_dict.json\", \"r\") as f:\n",
    "    species_dict = json.load(f)"
   ]
  },
  {
   "cell_type": "code",
   "execution_count": null,
   "id": "084444fd-86f0-46e9-adf0-fab5e346304c",
   "metadata": {
    "scrolled": true
   },
   "outputs": [
    {
     "name": "stdout",
     "output_type": "stream",
     "text": [
      "Combined 44 names for annotation.\n",
      "Received 46 annotations from BioPortal.\n",
      "Added a total of 293 annotations to 42 entries.\n"
     ]
    }
   ],
   "source": [
    "# Extract ontology from bioontology\n",
    "species_dict_ont = enrich_species_dict_with_ontologies(species_dict, bioontology_api_key, PRIMEKG_ONTOLOGIES)\n",
    "rom bioontology_to_primekg import flatten_species_dict\n",
    "species_ont_df = flatten_species_dict(species_dict_ont)\n",
    "species_ont_df.head()"
   ]
  },
  {
   "cell_type": "code",
   "execution_count": 11,
   "id": "9c6c26c2",
   "metadata": {},
   "outputs": [],
   "source": [
    "# Map biontology sources to corresponding primekg node sources for species\n",
    "import pandas as pd\n",
    "primekg_nodes = pd.read_csv(\"nodes.csv\")\n",
    "bioontology_to_primekg = {\n",
    "    \"NCBITAXON\": \"NCBI\",\n",
    "    \"DRON\": \"DrugBank\",\n",
    "    \"HP\": \"HPO\",\n",
    "    \"MONDO\": \"MONDO\",   # Maps to two PRIMEKG ontologies\n",
    "    # \"MONDO\": \"MONDO_grouped\",\n",
    "    \"GO-PLUS\": \"GO\",\n",
    "    \"MEDDRA\": \"CTD\",\n",
    "    \"RXNORM\": \"REACTOME\",  # Note: not exact equivalent\n",
    "    \"UBERON\": \"UBERON\"\n",
    "}\n",
    "species_ont_df['source_ontology'] = species_ont_df['source_ontology'].map(bioontology_to_primekg)"
   ]
  },
  {
   "cell_type": "code",
   "execution_count": 19,
   "id": "3c29cb0a",
   "metadata": {},
   "outputs": [
    {
     "data": {
      "text/html": [
       "<div>\n",
       "<style scoped>\n",
       "    .dataframe tbody tr th:only-of-type {\n",
       "        vertical-align: middle;\n",
       "    }\n",
       "\n",
       "    .dataframe tbody tr th {\n",
       "        vertical-align: top;\n",
       "    }\n",
       "\n",
       "    .dataframe thead th {\n",
       "        text-align: right;\n",
       "    }\n",
       "</style>\n",
       "<table border=\"1\" class=\"dataframe\">\n",
       "  <thead>\n",
       "    <tr style=\"text-align: right;\">\n",
       "      <th></th>\n",
       "      <th>primekg_node_index</th>\n",
       "      <th>primekg_node_id</th>\n",
       "      <th>primekg_node_type</th>\n",
       "      <th>primekg_node_name</th>\n",
       "      <th>primekg_node_source</th>\n",
       "    </tr>\n",
       "  </thead>\n",
       "  <tbody>\n",
       "    <tr>\n",
       "      <th>0</th>\n",
       "      <td>0</td>\n",
       "      <td>9796</td>\n",
       "      <td>gene/protein</td>\n",
       "      <td>PHYHIP</td>\n",
       "      <td>NCBI</td>\n",
       "    </tr>\n",
       "    <tr>\n",
       "      <th>1</th>\n",
       "      <td>1</td>\n",
       "      <td>7918</td>\n",
       "      <td>gene/protein</td>\n",
       "      <td>GPANK1</td>\n",
       "      <td>NCBI</td>\n",
       "    </tr>\n",
       "    <tr>\n",
       "      <th>2</th>\n",
       "      <td>2</td>\n",
       "      <td>8233</td>\n",
       "      <td>gene/protein</td>\n",
       "      <td>ZRSR2</td>\n",
       "      <td>NCBI</td>\n",
       "    </tr>\n",
       "    <tr>\n",
       "      <th>3</th>\n",
       "      <td>3</td>\n",
       "      <td>4899</td>\n",
       "      <td>gene/protein</td>\n",
       "      <td>NRF1</td>\n",
       "      <td>NCBI</td>\n",
       "    </tr>\n",
       "    <tr>\n",
       "      <th>4</th>\n",
       "      <td>4</td>\n",
       "      <td>5297</td>\n",
       "      <td>gene/protein</td>\n",
       "      <td>PI4KA</td>\n",
       "      <td>NCBI</td>\n",
       "    </tr>\n",
       "  </tbody>\n",
       "</table>\n",
       "</div>"
      ],
      "text/plain": [
       "   primekg_node_index primekg_node_id primekg_node_type primekg_node_name  \\\n",
       "0                   0            9796      gene/protein            PHYHIP   \n",
       "1                   1            7918      gene/protein            GPANK1   \n",
       "2                   2            8233      gene/protein             ZRSR2   \n",
       "3                   3            4899      gene/protein              NRF1   \n",
       "4                   4            5297      gene/protein             PI4KA   \n",
       "\n",
       "  primekg_node_source  \n",
       "0                NCBI  \n",
       "1                NCBI  \n",
       "2                NCBI  \n",
       "3                NCBI  \n",
       "4                NCBI  "
      ]
     },
     "execution_count": 19,
     "metadata": {},
     "output_type": "execute_result"
    }
   ],
   "source": [
    "# Rename for easy reading of columns\n",
    "primekg_nodes = primekg_nodes.rename(columns={\"node_index\": \"primekg_node_index\",\n",
    "                                              \"node_id\": \"primekg_node_id\",\n",
    "                                              \"node_type\": \"primekg_node_type\",\n",
    "                                              \"node_name\": \"primekg_node_name\",\n",
    "                                              \"node_source\": \"primekg_node_source\"})\n",
    "primekg_nodes.head()"
   ]
  },
  {
   "cell_type": "code",
   "execution_count": 21,
   "id": "e02a924f",
   "metadata": {},
   "outputs": [],
   "source": [
    "species_mapped_to_primekg = species_ont_df.merge(primekg_nodes, left_on=['id', 'source_ontology'], \n",
    "                                                 right_on=['primekg_node_id', 'primekg_node_source'], how=\"inner\")"
   ]
  },
  {
   "cell_type": "code",
   "execution_count": null,
   "id": "16bb114b-4974-476f-a71f-c7bcb37316dd",
   "metadata": {},
   "outputs": [],
   "source": [
    "# mapping name to umls using scispacy"
   ]
  },
  {
   "cell_type": "code",
   "execution_count": null,
   "id": "6d4e7642-f543-4db5-a339-c6c4f1b7af75",
   "metadata": {},
   "outputs": [],
   "source": [
    "# !pip -q install cython\n",
    "# !export SKIP_CYTHON_EXTENSION=1\n",
    "# !pip -q install thinc --no-build-isolation\n",
    "!pip -q install spacy scispacy\n",
    "!pip -q install https://s3-us-west-2.amazonaws.com/ai2-s2-scispacy/releases/v0.5.0/en_core_sci_md-0.5.0.tar.gz"
   ]
  },
  {
   "cell_type": "code",
   "execution_count": null,
   "id": "d7bc8a1b-9cf1-4f81-8727-554491c8b836",
   "metadata": {},
   "outputs": [],
   "source": [
    "from extract_umls import extract_umls_code"
   ]
  },
  {
   "cell_type": "code",
   "execution_count": null,
   "id": "a3395b46-99ab-4cf5-8d8b-162d27df20ad",
   "metadata": {},
   "outputs": [],
   "source": [
    "# now connect to PrimeKG [FD]"
   ]
  },
  {
   "cell_type": "code",
   "execution_count": null,
   "id": "5f273332-93cb-4660-aea6-305bc6fb5d70",
   "metadata": {},
   "outputs": [],
   "source": [
    "# now repeat for compartments\n",
    "basico.get_compartments().index"
   ]
  },
  {
   "cell_type": "code",
   "execution_count": null,
   "id": "5274d104-90ed-4b32-a12a-190ee410b075",
   "metadata": {},
   "outputs": [],
   "source": [
    "## Now repeat for reactions\n",
    "basico.get_reactions().scheme.tolist()           # Get information about reactions\n"
   ]
  },
  {
   "cell_type": "code",
   "execution_count": 8,
   "id": "ceb285ca-8bf1-4723-95a1-1e9cedf33c94",
   "metadata": {},
   "outputs": [
    {
     "data": {
      "text/plain": [
       "['NCBI',\n",
       " 'DrugBank',\n",
       " 'HPO',\n",
       " 'MONDO_grouped',\n",
       " 'MONDO',\n",
       " 'GO',\n",
       " 'CTD',\n",
       " 'REACTOME',\n",
       " 'UBERON']"
      ]
     },
     "execution_count": 8,
     "metadata": {},
     "output_type": "execute_result"
    }
   ],
   "source": [
    "import pandas as pd\n",
    "nodes = pd.read_csv('/Users/I0555159/Downloads/nodes.csv')\n",
    "nodes.node_source.drop_duplicates().tolist()"
   ]
  }
 ],
 "metadata": {
  "kernelspec": {
   "display_name": "Python 3",
   "language": "python",
   "name": "python3"
  },
  "language_info": {
   "codemirror_mode": {
    "name": "ipython",
    "version": 3
   },
   "file_extension": ".py",
   "mimetype": "text/x-python",
   "name": "python",
   "nbconvert_exporter": "python",
   "pygments_lexer": "ipython3",
   "version": "3.12.0"
  }
 },
 "nbformat": 4,
 "nbformat_minor": 5
}
