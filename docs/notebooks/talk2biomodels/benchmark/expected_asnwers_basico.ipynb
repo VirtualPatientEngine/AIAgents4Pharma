{
 "cells": [
  {
   "cell_type": "markdown",
   "id": "b2178a53",
   "metadata": {
    "vscode": {
     "languageId": "plaintext"
    }
   },
   "source": [
    "### Generate ground truth results for T2B prompts "
   ]
  },
  {
   "cell_type": "code",
   "execution_count": 4,
   "id": "4aab4242",
   "metadata": {},
   "outputs": [],
   "source": [
    "import basico"
   ]
  },
  {
   "cell_type": "markdown",
   "id": "331fb94e",
   "metadata": {},
   "source": [
    "#### Set 1"
   ]
  },
  {
   "cell_type": "markdown",
   "id": "eb06713d",
   "metadata": {},
   "source": [
    "##### Precision Medicine Model"
   ]
  },
  {
   "cell_type": "code",
   "execution_count": 5,
   "id": "15f7e64d",
   "metadata": {},
   "outputs": [
    {
     "name": "stdout",
     "output_type": "stream",
     "text": [
      "Dwivedi2014 - Crohns IL6 Disease model - Anti-IL6R Antibody\n"
     ]
    },
    {
     "data": {
      "text/plain": [
       "2.2691333239674267"
      ]
     },
     "execution_count": 5,
     "metadata": {},
     "output_type": "execute_result"
    }
   ],
   "source": [
    "# generate expected answers for the basic prompts\n",
    "# precision medicine model\n",
    "#mod_precision = basico.load_biomodel('BIOMD0000000537')\n",
    "mod_precision = basico.load_model(r'./models/BIOMD0000000537_url.xml')\n",
    "print(basico.get_model_name())\n",
    "# run simulation for set 1 and get the ground truth answer\n",
    "tc = basico.run_time_course(2016, 2016)\n",
    "tc.iloc[-1][\"CRP{serum}\"]"
   ]
  },
  {
   "cell_type": "markdown",
   "id": "2522f690",
   "metadata": {},
   "source": [
    "##### Epidemiology Model"
   ]
  },
  {
   "cell_type": "code",
   "execution_count": 6,
   "id": "d5b82489",
   "metadata": {},
   "outputs": [
    {
     "name": "stdout",
     "output_type": "stream",
     "text": [
      "Dwivedi2014 - Crohns IL6 Disease model - Anti-IL6R Antibody\n"
     ]
    }
   ],
   "source": [
    "# epidemiology mode\n",
    "#mod_epidemiology = basico.load_biomodel('BIOMD0000000971')\n",
    "mod_epidemiology = basico.load_model(r'./models/BIOMD0000000971_url.xml')\n",
    "print(basico.get_model_name())"
   ]
  },
  {
   "cell_type": "markdown",
   "id": "d67e9ad2",
   "metadata": {},
   "source": [
    "##### Theoritical Model"
   ]
  },
  {
   "cell_type": "code",
   "execution_count": 7,
   "id": "1fea2d4e",
   "metadata": {},
   "outputs": [
    {
     "name": "stdout",
     "output_type": "stream",
     "text": [
      "Tang2020 - Estimation of transmission risk of COVID-19 and impact of public health interventions\n"
     ]
    }
   ],
   "source": [
    "# epidemiology mode\n",
    "#mod_theory = basico.load_biomodel('BIOMD0000000027')\n",
    "mod_theory = basico.load_model(r'./models/Tang2020.xml')\n",
    "print(basico.get_model_name())"
   ]
  },
  {
   "cell_type": "markdown",
   "id": "f6e1078a",
   "metadata": {},
   "source": [
    "### Set 2 vary simulation time, interval and species to be simulated"
   ]
  },
  {
   "cell_type": "code",
   "execution_count": 8,
   "id": "6472afe3",
   "metadata": {},
   "outputs": [
    {
     "ename": "NameError",
     "evalue": "name 'species' is not defined",
     "output_type": "error",
     "traceback": [
      "\u001b[1;31m---------------------------------------------------------------------------\u001b[0m",
      "\u001b[1;31mNameError\u001b[0m                                 Traceback (most recent call last)",
      "Cell \u001b[1;32mIn[8], line 1\u001b[0m\n\u001b[1;32m----> 1\u001b[0m \u001b[38;5;28;01mdef\u001b[39;00m\u001b[38;5;250m \u001b[39m\u001b[38;5;21mrun_precision_model\u001b[39m(interval, time, species \u001b[38;5;241m=\u001b[39m \u001b[43mspecies\u001b[49m, concentration \u001b[38;5;241m=\u001b[39m concentration):\n\u001b[0;32m      2\u001b[0m     basico\u001b[38;5;241m.\u001b[39mset_species(name \u001b[38;5;241m=\u001b[39m species, model \u001b[38;5;241m=\u001b[39m mod_precision, initial_concentration \u001b[38;5;241m=\u001b[39m concentration)\n\u001b[0;32m      3\u001b[0m     \u001b[38;5;66;03m# check if the species was set correctly\u001b[39;00m\n\u001b[0;32m      4\u001b[0m     \u001b[38;5;66;03m#print(basico.get_species(name = species, model = mod_precision)['initial_concentration'])\u001b[39;00m\n\u001b[0;32m      5\u001b[0m     \u001b[38;5;66;03m# run simulations\u001b[39;00m\n",
      "\u001b[1;31mNameError\u001b[0m: name 'species' is not defined"
     ]
    }
   ],
   "source": [
    "def run_precision_model(interval, time, species = species, concentration = concentration):\n",
    "    basico.set_species(name = species, model = mod_precision, initial_concentration = concentration)\n",
    "    # check if the species was set correctly\n",
    "    #print(basico.get_species(name = species, model = mod_precision)['initial_concentration'])\n",
    "    # run simulations\n",
    "    tc = basico.run_time_course(duration = time, intervals = interval, model = mod_precision, update_model = False)\n",
    "    return tc.iloc[-1][[\"CRP{serum}\",  \"CRP{liver}\", \"IL6{serum}\", \"STAT3{gut}\"]]\n",
    "\n",
    "run_precision_model(time = 100, interval = 2016)\n"
   ]
  },
  {
   "cell_type": "code",
   "execution_count": null,
   "id": "b2664f9a",
   "metadata": {},
   "outputs": [],
   "source": [
    "def run_epidemiology_model(interval, time):\n",
    "    tc = basico.run_time_course(duration = time, intervals = interval, model = mod_epidemiology, update_model = False)\n",
    "    return tc.iloc[-1][[\"Infected\", \"Susceptible\", \"Recovered\", \"Hospitalised\"]]\n"
   ]
  },
  {
   "cell_type": "code",
   "execution_count": null,
   "id": "bd168012",
   "metadata": {},
   "outputs": [],
   "source": [
    "def run_theory_model(interval, time):\n",
    "    tc = basico.run_time_course(duration = time, intervals = interval, model = mod_theory, update_model = False)\n",
    "    return tc.iloc[-1][[\"Mpp\", \"M\", \"Mp\"]]\n"
   ]
  },
  {
   "cell_type": "code",
   "execution_count": null,
   "id": "65788649",
   "metadata": {},
   "outputs": [],
   "source": [
    "def run_theory_model_set_parameters(interval, time, parameter, value):\n",
    "    basico.set_parameters(name = parameter, initial_value = value, model = mod_theory)\n",
    "    tc = basico.run_time_course(duration = time, intervals = interval, model = mod_theory, update_model = False)\n",
    "    return tc.iloc[-1][[\"Mpp\", \"M\", \"Mp\"]]"
   ]
  },
  {
   "cell_type": "code",
   "execution_count": null,
   "id": "fe3cc9df",
   "metadata": {},
   "outputs": [
    {
     "data": {
      "text/plain": [
       "Mpp    499.080250\n",
       "M        0.113662\n",
       "Mp       0.806087\n",
       "Name: 1000.0, dtype: float64"
      ]
     },
     "execution_count": 89,
     "metadata": {},
     "output_type": "execute_result"
    }
   ],
   "source": [
    "run_theory_model_set_parameters(1000, 1000, \"Values[k1cat]\", 0.1)"
   ]
  },
  {
   "cell_type": "code",
   "execution_count": null,
   "id": "2c648a36",
   "metadata": {},
   "outputs": [
    {
     "name": "stdout",
     "output_type": "stream",
     "text": [
      "0.01\n",
      "1000\n",
      "2.6\n",
      "435628.8965511659\n",
      "1583.2584678161063\n",
      "6.106360135082123e-08\n",
      "6.106360135082122e-10\n"
     ]
    },
    {
     "data": {
      "text/plain": [
       "{'interval_2016_time_2016_species_CRP{serum}_concentration_0.01': CRP{serum}    10.301993\n",
       " CRP{liver}     6.707914\n",
       " IL6{serum}     0.000641\n",
       " STAT3{gut}     9.124980\n",
       " Name: 2016.0, dtype: float64,\n",
       " 'interval_100_time_20_species_CRP{serum}_concentration_1000': CRP{serum}    243.477247\n",
       " CRP{liver}    162.273954\n",
       " IL6{serum}      0.003962\n",
       " STAT3{gut}      0.291445\n",
       " Name: 20.0, dtype: float64,\n",
       " 'interval_4032_time_2016_species_CRP{serum}_concentration_2.6': CRP{serum}    10.302718\n",
       " CRP{liver}     6.708469\n",
       " IL6{serum}     0.000641\n",
       " STAT3{gut}     9.124957\n",
       " Name: 2016.0, dtype: float64,\n",
       " 'interval_1000_time_1000_species_IL6{serum}_concentration_435628.8965511659': CRP{serum}    91.299723\n",
       " CRP{liver}    60.894795\n",
       " IL6{serum}     0.000642\n",
       " STAT3{gut}     6.813039\n",
       " Name: 1000.0, dtype: float64,\n",
       " 'interval_1000_time_2016_species_CRP{liver}_concentration_1583.2584678161063': CRP{serum}    10.328675\n",
       " CRP{liver}     6.728273\n",
       " IL6{serum}     0.000641\n",
       " STAT3{gut}     9.124149\n",
       " Name: 2016.0, dtype: float64,\n",
       " 'interval_500_time_500_species_STAT3{gut}_concentration_6.106360135082123e-08': CRP{serum}    215.468283\n",
       " CRP{liver}    154.750841\n",
       " IL6{serum}      0.000441\n",
       " STAT3{gut}      0.884170\n",
       " Name: 500.0, dtype: float64,\n",
       " 'interval_2000_time_1500_species_STAT3{gut}_concentration_6.106360135082122e-10': CRP{serum}    159.484293\n",
       " CRP{liver}    110.490735\n",
       " IL6{serum}      0.000643\n",
       " STAT3{gut}      4.080634\n",
       " Name: 1500.0, dtype: float64}"
      ]
     },
     "execution_count": 83,
     "metadata": {},
     "output_type": "execute_result"
    }
   ],
   "source": [
    "# Run with different random conditions and store in dictionary\n",
    "results = {}\n",
    "# adjust initial concentrations of species\n",
    "initial_concentr_CRP_serum = basico.get_species(name = \"CRP{serum}\", model = mod_precision)['initial_concentration'].iloc[0]\n",
    "initial_concentr_CRP_liver = basico.get_species(name = \"CRP{liver}\", model = mod_precision)['initial_concentration'].iloc[0]\n",
    "initial_concentr_IL6_serum = basico.get_species(name = \"IL6{serum}\", model = mod_precision)['initial_concentration'].iloc[0]\n",
    "initial_concentr_STAT3_gut = basico.get_species(name = \"STAT3{gut}\", model = mod_precision)['initial_concentration'].iloc[0]\n",
    "# time \n",
    "conditions = [\n",
    "    (2016, 2016, \"CRP{serum}\", 0.01),\n",
    "    (20, 100, \"CRP{serum}\", 1000),\n",
    "    (2016, 4032, \"CRP{serum}\", 2.6),\n",
    "    (1000, 1000, \"IL6{serum}\", initial_concentr_IL6_serum*10), \n",
    "    (2016, 1000, \"CRP{liver}\", initial_concentr_CRP_liver*10),\n",
    "    (500, 500, \"STAT3{gut}\", initial_concentr_STAT3_gut*10),\n",
    "    (1500, 2000, \"STAT3{gut}\", initial_concentr_STAT3_gut*0.10)\n",
    "]\n",
    "\n",
    "for time, interval, species, concentration in conditions:\n",
    "    key = f\"interval_{interval}_time_{time}_species_{species}_concentration_{concentration}\"\n",
    "    print (concentration)\n",
    "    results[key] = run_precision_model(interval, time, species, concentration)\n",
    "\n",
    "results"
   ]
  },
  {
   "cell_type": "code",
   "execution_count": null,
   "id": "c7b9551d",
   "metadata": {},
   "outputs": [
    {
     "data": {
      "text/plain": [
       "{'interval_100_time_50': Infected        1.043385e+05\n",
       " Susceptible     1.017891e+06\n",
       " Recovered       2.231583e+06\n",
       " Hospitalised    1.325140e+05\n",
       " Name: 50.0, dtype: float64,\n",
       " 'interval_200_time_100': Infected        7.143353e+04\n",
       " Susceptible     1.055609e+06\n",
       " Recovered       4.586298e+06\n",
       " Hospitalised    8.688262e+04\n",
       " Name: 100.0, dtype: float64,\n",
       " 'interval_400_time_180': Infected        4.031662e+04\n",
       " Susceptible     1.055585e+06\n",
       " Recovered       6.955857e+06\n",
       " Hospitalised    4.901975e+04\n",
       " Name: 180.0, dtype: float64,\n",
       " 'interval_1000_time_500': Infected        4.090069e+03\n",
       " Susceptible     1.055585e+06\n",
       " Recovered       9.714202e+06\n",
       " Hospitalised    4.972991e+03\n",
       " Name: 500.0, dtype: float64,\n",
       " 'interval_400_time_20': Infected        1.206681e+05\n",
       " Susceptible     3.167693e+06\n",
       " Recovered       1.634611e+05\n",
       " Hospitalised    4.076004e+04\n",
       " Name: 20.0, dtype: float64,\n",
       " 'interval_10_time_10': Infected        3.413654e+03\n",
       " Susceptible     1.079620e+07\n",
       " Recovered       2.980390e+03\n",
       " Hospitalised    8.065950e+02\n",
       " Name: 10.0, dtype: float64}"
      ]
     },
     "execution_count": 84,
     "metadata": {},
     "output_type": "execute_result"
    }
   ],
   "source": [
    "# Run with different random conditions and store in dictionary\n",
    "results = {}\n",
    "# time \n",
    "conditions = [\n",
    "    (50, 100),\n",
    "    (100, 200),\n",
    "    (180, 400),\n",
    "    (500, 1000), \n",
    "    (20, 400),\n",
    "    (10, 10)\n",
    "]\n",
    "\n",
    "for time, interval in conditions:\n",
    "    key = f\"interval_{interval}_time_{time}\"\n",
    "    results[key] = run_epidemiology_model(interval, time)\n",
    "\n",
    "results"
   ]
  },
  {
   "cell_type": "code",
   "execution_count": null,
   "id": "d3b3881e",
   "metadata": {},
   "outputs": [
    {
     "data": {
      "text/plain": [
       "{'interval_100_time_1000': Mpp    493.786732\n",
       " M        0.782237\n",
       " Mp       5.431030\n",
       " Name: 1000.0, dtype: float64,\n",
       " 'interval_1000_time_1000': Mpp    493.786732\n",
       " M        0.782237\n",
       " Mp       5.431030\n",
       " Name: 1000.0, dtype: float64,\n",
       " 'interval_400_time_180': Mpp    491.137882\n",
       " M        3.033640\n",
       " Mp       5.828478\n",
       " Name: 180.0, dtype: float64,\n",
       " 'interval_1000_time_500': Mpp    493.786732\n",
       " M        0.782237\n",
       " Mp       5.431030\n",
       " Name: 500.0, dtype: float64,\n",
       " 'interval_400_time_20': Mpp     45.234214\n",
       " M      424.991709\n",
       " Mp      29.774077\n",
       " Name: 20.0, dtype: float64,\n",
       " 'interval_10_time_10': Mpp     17.029310\n",
       " M      460.393300\n",
       " Mp      22.577389\n",
       " Name: 10.0, dtype: float64}"
      ]
     },
     "execution_count": 85,
     "metadata": {},
     "output_type": "execute_result"
    }
   ],
   "source": [
    "# Run with different random conditions and store in dictionary\n",
    "results = {}\n",
    "# time \n",
    "conditions = [\n",
    "    (1000, 100),\n",
    "    (1000, 1000),\n",
    "    (180, 400),\n",
    "    (500, 1000), \n",
    "    (20, 400),\n",
    "    (10, 10)\n",
    "]\n",
    "\n",
    "for time, interval in conditions:\n",
    "    key = f\"interval_{interval}_time_{time}\"\n",
    "    results[key] = run_theory_model(interval, time)\n",
    "\n",
    "results"
   ]
  },
  {
   "cell_type": "code",
   "execution_count": null,
   "id": "25f18df2",
   "metadata": {},
   "outputs": [
    {
     "data": {
      "text/plain": [
       "{'time_100_parameter_k1cat_value_0.1': Mpp    317.356267\n",
       " M      154.982325\n",
       " Mp      27.661408\n",
       " Name: 100.0, dtype: float64,\n",
       " 'time_1000_parameter_k1cat_value_1': Mpp    494.565011\n",
       " M        0.076041\n",
       " Mp       5.358948\n",
       " Name: 1000.0, dtype: float64,\n",
       " 'time_180_parameter_k1cat_value_100': Mpp    494.647985\n",
       " M        0.000758\n",
       " Mp       5.351257\n",
       " Name: 180.0, dtype: float64,\n",
       " 'time_500_parameter_k2cat_value_10': Mpp    491.982136\n",
       " M        0.001140\n",
       " Mp       8.016723\n",
       " Name: 500.0, dtype: float64,\n",
       " 'time_20_parameter_k2cat_value_0.1': Mpp     42.542954\n",
       " M        0.103107\n",
       " Mp     457.353939\n",
       " Name: 20.0, dtype: float64,\n",
       " 'time_10_parameter_k2cat_value_100': Mpp    499.195565\n",
       " M        0.000113\n",
       " Mp       0.804322\n",
       " Name: 10.0, dtype: float64}"
      ]
     },
     "execution_count": 87,
     "metadata": {},
     "output_type": "execute_result"
    }
   ],
   "source": [
    "# run theory model with different parameters\n",
    "results = {}\n",
    "# time \n",
    "interval = 1000\n",
    "conditions = [\n",
    "    (100, 'k1cat', 0.1),\n",
    "    (1000, 'k1cat', 1),\n",
    "    (180, 'k1cat', 100),\n",
    "    (500, 'k2cat', 10), \n",
    "    (20, 'k2cat', 0.1),\n",
    "    (10, 'k2cat', 100)\n",
    "]\n",
    "\n",
    "for time, parameter, value in conditions:\n",
    "    key = f\"time_{time}_parameter_{parameter}_value_{value}\"\n",
    "    results[key] = run_theory_model_set_parameters(interval, time, parameter, value)\n",
    "\n",
    "results"
   ]
  },
  {
   "cell_type": "code",
   "execution_count": null,
   "id": "cd87cdc7",
   "metadata": {},
   "outputs": [],
   "source": []
  }
 ],
 "metadata": {
  "kernelspec": {
   "display_name": ".venv",
   "language": "python",
   "name": "python3"
  },
  "language_info": {
   "codemirror_mode": {
    "name": "ipython",
    "version": 3
   },
   "file_extension": ".py",
   "mimetype": "text/x-python",
   "name": "python",
   "nbconvert_exporter": "python",
   "pygments_lexer": "ipython3",
   "version": "3.12.10"
  }
 },
 "nbformat": 4,
 "nbformat_minor": 5
}
