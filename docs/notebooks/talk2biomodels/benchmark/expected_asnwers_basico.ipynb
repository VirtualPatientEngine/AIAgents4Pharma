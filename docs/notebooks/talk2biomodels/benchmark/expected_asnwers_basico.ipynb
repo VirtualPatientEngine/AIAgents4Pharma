{
 "cells": [
  {
   "cell_type": "markdown",
   "id": "b2178a53",
   "metadata": {
    "vscode": {
     "languageId": "plaintext"
    }
   },
   "source": [
    "### Generate ground truth results for T2B prompts "
   ]
  },
  {
   "cell_type": "code",
   "execution_count": 1,
   "id": "4aab4242",
   "metadata": {},
   "outputs": [
    {
     "name": "stderr",
     "output_type": "stream",
     "text": [
      "c:\\code\\benchmark\\AIAgents4Pharma\\.venv\\Lib\\site-packages\\tqdm\\auto.py:21: TqdmWarning: IProgress not found. Please update jupyter and ipywidgets. See https://ipywidgets.readthedocs.io/en/stable/user_install.html\n",
      "  from .autonotebook import tqdm as notebook_tqdm\n"
     ]
    }
   ],
   "source": [
    "import basico"
   ]
  },
  {
   "cell_type": "markdown",
   "id": "331fb94e",
   "metadata": {},
   "source": [
    "#### Set 1"
   ]
  },
  {
   "cell_type": "markdown",
   "id": "eb06713d",
   "metadata": {},
   "source": [
    "##### Precision Medicine Model"
   ]
  },
  {
   "cell_type": "code",
   "execution_count": 2,
   "id": "15f7e64d",
   "metadata": {},
   "outputs": [
    {
     "name": "stdout",
     "output_type": "stream",
     "text": [
      "Dwivedi2014 - Crohns IL6 Disease model - Anti-IL6R Antibody\n"
     ]
    },
    {
     "data": {
      "text/plain": [
       "2.2691352206218145"
      ]
     },
     "execution_count": 2,
     "metadata": {},
     "output_type": "execute_result"
    }
   ],
   "source": [
    "# generate expected answers for the basic prompts\n",
    "# precision medicine model\n",
    "mod_precision = basico.load_biomodel('BIOMD0000000537')\n",
    "print(basico.get_model_name())\n",
    "# run simulation for set 1 and get the ground truth answer\n",
    "tc = basico.run_time_course(2016, 2016)\n",
    "tc.iloc[-1][\"CRP{serum}\"]"
   ]
  },
  {
   "cell_type": "markdown",
   "id": "2522f690",
   "metadata": {},
   "source": [
    "##### Epidemiology Model"
   ]
  },
  {
   "cell_type": "code",
   "execution_count": 3,
   "id": "d5b82489",
   "metadata": {},
   "outputs": [
    {
     "name": "stdout",
     "output_type": "stream",
     "text": [
      "Tang2020 - Estimation of transmission risk of COVID-19 and impact of public health interventions\n"
     ]
    }
   ],
   "source": [
    "# epidemiology mode\n",
    "mod_epidemiology = basico.load_biomodel('BIOMD0000000971')\n",
    "print(basico.get_model_name())"
   ]
  },
  {
   "cell_type": "code",
   "execution_count": 4,
   "id": "bd0665d5",
   "metadata": {},
   "outputs": [
    {
     "data": {
      "text/plain": [
       "104338.52373753088"
      ]
     },
     "execution_count": 4,
     "metadata": {},
     "output_type": "execute_result"
    }
   ],
   "source": [
    "# run simulation for set 1 and get the ground truth answer\n",
    "tc = basico.run_time_course(50, 100)\n",
    "tc.iloc[-1][\"Infected\"]"
   ]
  },
  {
   "cell_type": "markdown",
   "id": "d67e9ad2",
   "metadata": {},
   "source": [
    "##### Theoritical Model"
   ]
  },
  {
   "cell_type": "code",
   "execution_count": 5,
   "id": "1fea2d4e",
   "metadata": {},
   "outputs": [
    {
     "name": "stdout",
     "output_type": "stream",
     "text": [
      "Markevich2004 - MAPK double phosphorylation,  ordered Michaelis-Menton\n"
     ]
    }
   ],
   "source": [
    "# epidemiology mode\n",
    "mod_theory = basico.load_biomodel('BIOMD0000000027')\n",
    "print(basico.get_model_name())"
   ]
  },
  {
   "cell_type": "code",
   "execution_count": 6,
   "id": "ccf997b9",
   "metadata": {},
   "outputs": [
    {
     "data": {
      "text/plain": [
       "48.176383215821375"
      ]
     },
     "execution_count": 6,
     "metadata": {},
     "output_type": "execute_result"
    }
   ],
   "source": [
    "tc = basico.run_time_course(1000, 1000)\n",
    "tc.iloc[-1][\"Mpp\"]"
   ]
  },
  {
   "cell_type": "markdown",
   "id": "f6e1078a",
   "metadata": {},
   "source": [
    "### Set 2 vary simulation time, interval and species to be simulated"
   ]
  },
  {
   "cell_type": "code",
   "execution_count": 25,
   "id": "6472afe3",
   "metadata": {},
   "outputs": [
    {
     "data": {
      "text/plain": [
       "CRP{serum}    2.248250\n",
       "CRP{liver}    0.788363\n",
       "IL6{serum}    0.000643\n",
       "STAT3{gut}    9.420788\n",
       "Name: 2016.0, dtype: float64"
      ]
     },
     "execution_count": 25,
     "metadata": {},
     "output_type": "execute_result"
    }
   ],
   "source": [
    "def run_precision_model(interval, time, species, concentration):\n",
    "    basico.set_species(name = species, model = mod_precision, initial_concentration = concentration)\n",
    "    # check if the species was set correctly\n",
    "    #print(basico.get_species(name = species, model = mod_precision)['initial_concentration'])\n",
    "    # run simulations\n",
    "    tc = basico.run_time_course(interval, time, model = mod_precision)\n",
    "    return tc.iloc[-1][[\"CRP{serum}\",  \"CRP{liver}\", \"IL6{serum}\", \"STAT3{gut}\"]]\n",
    "\n",
    "run_precision_model(2016, 2016, \"CRP{serum}\", 0.00001)\n"
   ]
  },
  {
   "cell_type": "code",
   "execution_count": 21,
   "id": "79ba896b",
   "metadata": {},
   "outputs": [
    {
     "data": {
      "text/plain": [
       "name\n",
       "CRP    158.325847\n",
       "Name: initial_concentration, dtype: float64"
      ]
     },
     "execution_count": 21,
     "metadata": {},
     "output_type": "execute_result"
    }
   ],
   "source": [
    "basico.get_species(name = \"CRP{liver}\", model = mod_precision)['initial_concentration']"
   ]
  },
  {
   "cell_type": "code",
   "execution_count": 8,
   "id": "b2664f9a",
   "metadata": {},
   "outputs": [],
   "source": [
    "def run_epidemiology_model(interval, time):\n",
    "    tc = basico.run_time_course(interval, time, model = mod_epidemiology)\n",
    "    return tc.iloc[-1][[\"Infected\", \"Susceptible\", \"Recovered\", \"Hospitalised\"]]\n"
   ]
  },
  {
   "cell_type": "code",
   "execution_count": 9,
   "id": "bd168012",
   "metadata": {},
   "outputs": [],
   "source": [
    "def run_theory_model(interval, time):\n",
    "    tc = basico.run_time_course(interval, time, model = mod_theory)\n",
    "    return tc.iloc[-1][[\"Mpp\", \"M\", \"Mp\"]]\n"
   ]
  },
  {
   "cell_type": "code",
   "execution_count": 22,
   "id": "410434dd",
   "metadata": {},
   "outputs": [
    {
     "name": "stdout",
     "output_type": "stream",
     "text": [
      "name\n",
      "CRP    0.00001\n",
      "Name: initial_concentration, dtype: float64\n",
      "name\n",
      "CRP    158.325847\n",
      "Name: initial_concentration, dtype: float64\n",
      "name\n",
      "IL6    0.000436\n",
      "Name: initial_concentration, dtype: float64\n",
      "name\n",
      "STAT3    0.610636\n",
      "Name: initial_concentration, dtype: float64\n"
     ]
    }
   ],
   "source": [
    "# print intial concentrations of species\n",
    "for species in [\"CRP{serum}\",  \"CRP{liver}\", \"IL6{serum}\", \"STAT3{gut}\"]:\n",
    "    print(basico.get_species(name = species, model = mod_precision)['initial_concentration'])\n"
   ]
  },
  {
   "cell_type": "code",
   "execution_count": null,
   "id": "1e6e1f71",
   "metadata": {},
   "outputs": [],
   "source": []
  },
  {
   "cell_type": "code",
   "execution_count": 41,
   "id": "fad1e11d",
   "metadata": {},
   "outputs": [
    {
     "data": {
      "text/plain": [
       "435.6288965511659"
      ]
     },
     "execution_count": 41,
     "metadata": {},
     "output_type": "execute_result"
    }
   ],
   "source": [
    "initial_concentr_IL6_serum.iloc[0]"
   ]
  },
  {
   "cell_type": "code",
   "execution_count": 44,
   "id": "2c648a36",
   "metadata": {},
   "outputs": [
    {
     "name": "stdout",
     "output_type": "stream",
     "text": [
      "0.01\n",
      "1000\n",
      "2.6\n",
      "4356.288965511659\n",
      "1583.2584678161063\n",
      "6.106360135082121e-06\n",
      "6.106360135082121e-08\n"
     ]
    },
    {
     "data": {
      "text/plain": [
       "{'interval_2016_time_2016_species_CRP{serum}_concentration_0.01': CRP{serum}    10.019164\n",
       " CRP{liver}     6.492506\n",
       " IL6{serum}     0.000641\n",
       " STAT3{gut}     9.133764\n",
       " Name: 2016.0, dtype: float64,\n",
       " 'interval_100_time_20_species_CRP{serum}_concentration_1000': CRP{serum}    226.440005\n",
       " CRP{liver}    162.014501\n",
       " IL6{serum}      0.000676\n",
       " STAT3{gut}      0.332824\n",
       " Name: 100.0, dtype: float64,\n",
       " 'interval_4032_time_2016_species_CRP{serum}_concentration_2.6': CRP{serum}    221.060568\n",
       " CRP{liver}    158.323640\n",
       " IL6{serum}      0.000436\n",
       " STAT3{gut}      0.596129\n",
       " Name: 4032.0, dtype: float64,\n",
       " 'interval_1000_time_1000_species_IL6{serum}_concentration_4356.288965511659': CRP{serum}    91.229032\n",
       " CRP{liver}    60.845307\n",
       " IL6{serum}     0.000642\n",
       " STAT3{gut}     6.815264\n",
       " Name: 1000.0, dtype: float64,\n",
       " 'interval_1000_time_2016_species_CRP{liver}_concentration_1583.2584678161063': CRP{serum}    91.229207\n",
       " CRP{liver}    60.845411\n",
       " IL6{serum}     0.000642\n",
       " STAT3{gut}     6.815259\n",
       " Name: 1000.0, dtype: float64,\n",
       " 'interval_500_time_500_species_STAT3{gut}_concentration_6.106360135082121e-06': CRP{serum}    215.333772\n",
       " CRP{liver}    154.668528\n",
       " IL6{serum}      0.000441\n",
       " STAT3{gut}      0.889972\n",
       " Name: 500.0, dtype: float64,\n",
       " 'interval_2000_time_1500_species_STAT3{gut}_concentration_6.106360135082121e-08': CRP{serum}    9.988212\n",
       " CRP{liver}    6.438947\n",
       " IL6{serum}    0.000642\n",
       " STAT3{gut}    9.136212\n",
       " Name: 2000.0, dtype: float64}"
      ]
     },
     "execution_count": 44,
     "metadata": {},
     "output_type": "execute_result"
    }
   ],
   "source": [
    "# Run with different random conditions and store in dictionary\n",
    "results = {}\n",
    "# adjust initial concentrations of species\n",
    "initial_concentr_CRP_serum = basico.get_species(name = \"CRP{serum}\", model = mod_precision)['initial_concentration'].iloc[0]\n",
    "initial_concentr_CRP_liver = basico.get_species(name = \"CRP{liver}\", model = mod_precision)['initial_concentration'].iloc[0]\n",
    "initial_concentr_IL6_serum = basico.get_species(name = \"IL6{serum}\", model = mod_precision)['initial_concentration'].iloc[0]\n",
    "initial_concentr_STAT3_gut = basico.get_species(name = \"STAT3{gut}\", model = mod_precision)['initial_concentration'].iloc[0]\n",
    "# time \n",
    "conditions = [\n",
    "    (2016, 2016, \"CRP{serum}\", 0.01),\n",
    "    (20, 100, \"CRP{serum}\", 1000),\n",
    "    (2016, 4032, \"CRP{serum}\", 2.6),\n",
    "    (1000, 1000, \"IL6{serum}\", initial_concentr_IL6_serum*10), \n",
    "    (2016, 1000, \"CRP{liver}\", initial_concentr_CRP_liver*10),\n",
    "    (500, 500, \"STAT3{gut}\", initial_concentr_STAT3_gut*10),\n",
    "    (1500, 2000, \"STAT3{gut}\", initial_concentr_STAT3_gut*0.10)\n",
    "]\n",
    "\n",
    "for time, interval, species, concentration in conditions:\n",
    "    key = f\"interval_{interval}_time_{time}_species_{species}_concentration_{concentration}\"\n",
    "    print (concentration)\n",
    "    results[key] = run_precision_model(interval, time, species, concentration)\n",
    "\n",
    "results"
   ]
  },
  {
   "cell_type": "code",
   "execution_count": 11,
   "id": "c7b9551d",
   "metadata": {},
   "outputs": [
    {
     "data": {
      "text/plain": [
       "{'interval_100_time_50': Infected        7.143353e+04\n",
       " Susceptible     1.055609e+06\n",
       " Recovered       4.586298e+06\n",
       " Hospitalised    8.688262e+04\n",
       " Name: 100.0, dtype: float64,\n",
       " 'interval_200_time_100': Infected        3.494414e+04\n",
       " Susceptible     1.055585e+06\n",
       " Recovered       7.364926e+06\n",
       " Hospitalised    4.248752e+04\n",
       " Name: 200.0, dtype: float64,\n",
       " 'interval_400_time_180': Infected        8.361387e+03\n",
       " Susceptible     1.055585e+06\n",
       " Recovered       9.388977e+06\n",
       " Hospitalised    1.016636e+04\n",
       " Name: 400.0, dtype: float64,\n",
       " 'interval_1000_time_500': Infected        1.145493e+02\n",
       " Susceptible     1.055585e+06\n",
       " Recovered       1.001690e+07\n",
       " Hospitalised    1.392771e+02\n",
       " Name: 1000.0, dtype: float64,\n",
       " 'interval_400_time_20': Infected        8.361387e+03\n",
       " Susceptible     1.055585e+06\n",
       " Recovered       9.388977e+06\n",
       " Hospitalised    1.016636e+04\n",
       " Name: 400.0, dtype: float64,\n",
       " 'interval_10_time_10': Infected        3.413654e+03\n",
       " Susceptible     1.079620e+07\n",
       " Recovered       2.980390e+03\n",
       " Hospitalised    8.065950e+02\n",
       " Name: 10.0, dtype: float64}"
      ]
     },
     "execution_count": 11,
     "metadata": {},
     "output_type": "execute_result"
    }
   ],
   "source": [
    "# Run with different random conditions and store in dictionary\n",
    "results = {}\n",
    "# time \n",
    "conditions = [\n",
    "    (50, 100),\n",
    "    (100, 200),\n",
    "    (180, 400),\n",
    "    (500, 1000), \n",
    "    (20, 400),\n",
    "    (10, 10)\n",
    "]\n",
    "\n",
    "for time, interval in conditions:\n",
    "    key = f\"interval_{interval}_time_{time}\"\n",
    "    results[key] = run_epidemiology_model(interval, time)\n",
    "\n",
    "results"
   ]
  },
  {
   "cell_type": "code",
   "execution_count": 12,
   "id": "d3b3881e",
   "metadata": {},
   "outputs": [
    {
     "data": {
      "text/plain": [
       "{'interval_100_time_1000': Mpp     18.763213\n",
       " M      474.237334\n",
       " Mp       6.999453\n",
       " Name: 100.0, dtype: float64,\n",
       " 'interval_1000_time_1000': Mpp     48.176383\n",
       " M      439.166551\n",
       " Mp      12.657066\n",
       " Name: 1000.0, dtype: float64,\n",
       " 'interval_400_time_180': Mpp     39.992150\n",
       " M      448.718444\n",
       " Mp      11.289406\n",
       " Name: 400.0, dtype: float64,\n",
       " 'interval_1000_time_500': Mpp     48.176389\n",
       " M      439.166544\n",
       " Mp      12.657067\n",
       " Name: 1000.0, dtype: float64,\n",
       " 'interval_400_time_20': Mpp     39.992150\n",
       " M      448.718444\n",
       " Mp      11.289406\n",
       " Name: 400.0, dtype: float64,\n",
       " 'interval_10_time_10': Mpp      1.614307\n",
       " M      496.083772\n",
       " Mp       2.301920\n",
       " Name: 10.0, dtype: float64}"
      ]
     },
     "execution_count": 12,
     "metadata": {},
     "output_type": "execute_result"
    }
   ],
   "source": [
    "# Run with different random conditions and store in dictionary\n",
    "results = {}\n",
    "# time \n",
    "conditions = [\n",
    "    (1000, 100),\n",
    "    (1000, 1000),\n",
    "    (180, 400),\n",
    "    (500, 1000), \n",
    "    (20, 400),\n",
    "    (10, 10)\n",
    "]\n",
    "\n",
    "for time, interval in conditions:\n",
    "    key = f\"interval_{interval}_time_{time}\"\n",
    "    results[key] = run_theory_model(interval, time)\n",
    "\n",
    "results"
   ]
  }
 ],
 "metadata": {
  "kernelspec": {
   "display_name": ".venv",
   "language": "python",
   "name": "python3"
  },
  "language_info": {
   "codemirror_mode": {
    "name": "ipython",
    "version": 3
   },
   "file_extension": ".py",
   "mimetype": "text/x-python",
   "name": "python",
   "nbconvert_exporter": "python",
   "pygments_lexer": "ipython3",
   "version": "3.12.10"
  }
 },
 "nbformat": 4,
 "nbformat_minor": 5
}
