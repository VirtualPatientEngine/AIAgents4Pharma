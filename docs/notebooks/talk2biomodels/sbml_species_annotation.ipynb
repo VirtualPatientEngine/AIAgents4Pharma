{
 "cells": [
  {
   "cell_type": "markdown",
   "id": "fe45773a-ff5f-4ef6-a7be-fc37f8a88614",
   "metadata": {},
   "source": [
    "# From SBML to BKGs\n",
    "\n",
    "**Objectives**: \n",
    "\n",
    "Annotate a SBML"
   ]
  },
  {
   "cell_type": "code",
   "execution_count": null,
   "id": "39bce8c3-bc76-4cf1-9011-ca5a5878001a",
   "metadata": {},
   "outputs": [],
   "source": [
    "# Installations\n",
    "\n",
    "!pip -q install copasi_basico==0.78"
   ]
  },
  {
   "cell_type": "code",
   "execution_count": null,
   "id": "069ae944-78d5-4174-9860-a4a60ad49256",
   "metadata": {},
   "outputs": [],
   "source": [
    "import basico"
   ]
  },
  {
   "cell_type": "code",
   "execution_count": null,
   "id": "aa97a1dd-85b6-49aa-a6c9-cee104ca708e",
   "metadata": {},
   "outputs": [],
   "source": [
    "model = basico.load_model(\"./Dwivedi_Model537_empty.xml\")\n",
    "species = basico.get_species()\n",
    "species"
   ]
  },
  {
   "cell_type": "code",
   "execution_count": null,
   "id": "a9441000-422f-4cc8-83bb-9e35e1012456",
   "metadata": {},
   "outputs": [],
   "source": [
    "# The empty model does not have annotation for species\n",
    "basico.get_miriam_annotation(name=\"IL6\")"
   ]
  },
  {
   "cell_type": "code",
   "execution_count": null,
   "id": "0a574e5d-dae4-404a-8afa-522c647ccbef",
   "metadata": {},
   "outputs": [],
   "source": [
    "# However, we do have miriam annorations for the model itself\n",
    "basico.get_miriam_annotation()"
   ]
  },
  {
   "cell_type": "code",
   "execution_count": null,
   "id": "3b528e3b-73fc-4536-8b8c-415cf4ed9bc2",
   "metadata": {},
   "outputs": [],
   "source": [
    "# The above information already tells use we can consider a SBML node type to a BKG with \n",
    "# This node already is connected to a Disease, Gene, Biological Process, and Reactom"
   ]
  },
  {
   "cell_type": "code",
   "execution_count": null,
   "id": "641843d5-dab9-43bc-a7fa-3348c3371c51",
   "metadata": {},
   "outputs": [],
   "source": [
    "# using AMAS-sb\n",
    "# !pip -q install AMAS-sb"
   ]
  },
  {
   "cell_type": "code",
   "execution_count": null,
   "id": "310de2af-8168-4641-aef5-bc28c7abd830",
   "metadata": {},
   "outputs": [],
   "source": [
    "# !recommend_species Dwivedi_Model537_empty.xml"
   ]
  },
  {
   "cell_type": "markdown",
   "id": "bb2f85e6-d46f-4f6b-9e02-24fbc2517afa",
   "metadata": {},
   "source": [
    "## contextualizing the species based on the paper"
   ]
  },
  {
   "cell_type": "code",
   "execution_count": null,
   "id": "73884faf-af56-455e-b623-58f8250c0936",
   "metadata": {},
   "outputs": [],
   "source": [
    "species.display_name.to_list()"
   ]
  },
  {
   "cell_type": "code",
   "execution_count": null,
   "id": "2e70cf78-3a12-4652-b73c-6c615907e9d9",
   "metadata": {},
   "outputs": [],
   "source": [
    "# used a good quality text extractor and the species name in a reasoning model to get the following map\n",
    "# from display names to name and description"
   ]
  },
  {
   "cell_type": "code",
   "execution_count": 1,
   "id": "295d6918-735c-4ce6-a876-602ed2265647",
   "metadata": {},
   "outputs": [],
   "source": [
    "species_dict = {\n",
    "    'IL6{serum}': {\n",
    "        'name': 'Interleukin-6 in serum',\n",
    "        'description': 'Interleukin-6 cytokine in blood circulation; elevated in Crohn\\'s disease'\n",
    "    },\n",
    "    'IL6{liver}': {\n",
    "        'name': 'Interleukin-6 in liver',\n",
    "        'description': 'Interleukin-6 in liver compartment'\n",
    "    },\n",
    "    'IL6{gut}': {\n",
    "        'name': 'Interleukin-6 in gut',\n",
    "        'description': 'Interleukin-6 in gut compartment; significantly increased in intestinal mucosa in Crohn\\'s'\n",
    "    },\n",
    "    'R': {\n",
    "        'name': 'Membrane-bound IL-6 receptor',\n",
    "        'description': 'Membrane-bound IL-6 receptor (IL-6Rα); binds IL-6 for classical signaling'\n",
    "    },\n",
    "    'sR{serum}': {\n",
    "        'name': 'Soluble IL-6 receptor in serum',\n",
    "        'description': 'Soluble IL-6 receptor in blood; enables trans-signaling'\n",
    "    },\n",
    "    'sR{liver}': {\n",
    "        'name': 'Soluble IL-6 receptor in liver',\n",
    "        'description': 'Soluble IL-6 receptor in liver compartment'\n",
    "    },\n",
    "    'sR{gut}': {\n",
    "        'name': 'Soluble IL-6 receptor in gut',\n",
    "        'description': 'Soluble IL-6 receptor in gut compartment'\n",
    "    },\n",
    "    'gp130{liver}': {\n",
    "        'name': 'Glycoprotein 130 in liver',\n",
    "        'description': 'Membrane-bound glycoprotein 130 co-receptor in liver cells'\n",
    "    },\n",
    "    'gp130{gut}': {\n",
    "        'name': 'Glycoprotein 130 in gut',\n",
    "        'description': 'Membrane-bound glycoprotein 130 co-receptor in gut cells'\n",
    "    },\n",
    "    'sgp130{serum}': {\n",
    "        'name': 'Soluble glycoprotein 130 in serum',\n",
    "        'description': 'Soluble glycoprotein 130 in blood; natural inhibitor of IL-6 trans-signaling'\n",
    "    },\n",
    "    'sgp130{liver}': {\n",
    "        'name': 'Soluble glycoprotein 130 in liver',\n",
    "        'description': 'Soluble glycoprotein 130 in liver compartment'\n",
    "    },\n",
    "    'sgp130{gut}': {\n",
    "        'name': 'Soluble glycoprotein 130 in gut',\n",
    "        'description': 'Soluble glycoprotein 130 in gut compartment'\n",
    "    },\n",
    "    'R_IL6': {\n",
    "        'name': 'IL-6/IL-6Rα complex',\n",
    "        'description': 'Complex of membrane-bound IL-6 receptor with IL-6'\n",
    "    },\n",
    "    'sR_IL6{serum}': {\n",
    "        'name': 'IL-6/sIL-6Rα complex in serum',\n",
    "        'description': 'Complex of soluble IL-6 receptor with IL-6 in blood'\n",
    "    },\n",
    "    'sR_IL6{liver}': {\n",
    "        'name': 'IL-6/sIL-6Rα complex in liver',\n",
    "        'description': 'Complex of soluble IL-6 receptor with IL-6 in liver'\n",
    "    },\n",
    "    'sR_IL6{gut}': {\n",
    "        'name': 'IL-6/sIL-6Rα complex in gut',\n",
    "        'description': 'Complex of soluble IL-6 receptor with IL-6 in gut'\n",
    "    },\n",
    "    'R_IL6_gp130{liver}': {\n",
    "        'name': 'IL-6/IL-6Rα/gp130 complex in liver',\n",
    "        'description': 'Tripartite complex of IL-6, IL-6Rα, and gp130 in liver'\n",
    "    },\n",
    "    'R_IL6_gp130{gut}': {\n",
    "        'name': 'IL-6/IL-6Rα/gp130 complex in gut',\n",
    "        'description': 'Tripartite complex of IL-6, IL-6Rα, and gp130 in gut'\n",
    "    },\n",
    "    'sR_IL6_sgp130{serum}': {\n",
    "        'name': 'IL-6/sIL-6Rα/sgp130 complex in serum',\n",
    "        'description': 'Inhibitory complex of IL-6, soluble IL-6 receptor, and sgp130 in blood'\n",
    "    },\n",
    "    'sR_IL6_sgp130{liver}': {\n",
    "        'name': 'IL-6/sIL-6Rα/sgp130 complex in liver',\n",
    "        'description': 'Inhibitory complex in liver compartment'\n",
    "    },\n",
    "    'sR_IL6_sgp130{gut}': {\n",
    "        'name': 'IL-6/sIL-6Rα/sgp130 complex in gut',\n",
    "        'description': 'Inhibitory complex in gut compartment'\n",
    "    },\n",
    "    'Ractive{liver}': {\n",
    "        'name': 'Activated IL-6 receptor complex in liver',\n",
    "        'description': 'Activated IL-6 receptor complex in liver cells'\n",
    "    },\n",
    "    'Ractive{gut}': {\n",
    "        'name': 'Activated IL-6 receptor complex in gut',\n",
    "        'description': 'Activated IL-6 receptor complex in gut cells'\n",
    "    },\n",
    "    'STAT3{liver}': {\n",
    "        'name': 'STAT3 in liver',\n",
    "        'description': 'Signal transducer and activator of transcription 3 in liver cells'\n",
    "    },\n",
    "    'STAT3{gut}': {\n",
    "        'name': 'STAT3 in gut',\n",
    "        'description': 'STAT3 in gut cells'\n",
    "    },\n",
    "    'pSTAT3{liver}': {\n",
    "        'name': 'Phosphorylated STAT3 in liver',\n",
    "        'description': 'Phosphorylated STAT3 in liver cells; indicates active IL-6 signaling'\n",
    "    },\n",
    "    'pSTAT3{gut}': {\n",
    "        'name': 'Phosphorylated STAT3 in gut',\n",
    "        'description': 'Phosphorylated STAT3 in gut cells; elevated in Crohn\\'s disease'\n",
    "    },\n",
    "    'CRP{liver}': {\n",
    "        'name': 'C-reactive protein in liver',\n",
    "        'description': 'C-reactive protein produced within liver cells'\n",
    "    },\n",
    "    'CRP{serum}': {\n",
    "        'name': 'C-reactive protein in serum',\n",
    "        'description': 'C-reactive protein in blood; key inflammatory biomarker in Crohn\\'s'\n",
    "    },\n",
    "    'CRPExtracellular': {\n",
    "        'name': 'Extracellular C-reactive protein',\n",
    "        'description': 'Secreted CRP not yet in circulation'\n",
    "    },\n",
    "    'geneProduct': {\n",
    "        'name': 'STAT3-induced gene product',\n",
    "        'description': 'Generic product of genes activated by pSTAT3 signaling'\n",
    "    },\n",
    "    'Ab{serum}': {\n",
    "        'name': 'Therapeutic antibody in serum',\n",
    "        'description': 'Therapeutic antibody (anti-IL6 or anti-IL6Rα) in blood'\n",
    "    },\n",
    "    'Ab{liver}': {\n",
    "        'name': 'Therapeutic antibody in liver',\n",
    "        'description': 'Therapeutic antibody in liver compartment'\n",
    "    },\n",
    "    'Ab{gut}': {\n",
    "        'name': 'Therapeutic antibody in gut',\n",
    "        'description': 'Therapeutic antibody in gut compartment'\n",
    "    },\n",
    "    'Ab{peripheral}': {\n",
    "        'name': 'Therapeutic antibody in peripheral tissues',\n",
    "        'description': 'Therapeutic antibody in peripheral tissues'\n",
    "    },\n",
    "    'Ab_R': {\n",
    "        'name': 'Antibody-receptor complex',\n",
    "        'description': 'Antibody bound to membrane-bound IL-6 receptor'\n",
    "    },\n",
    "    'Ab_sR{serum}': {\n",
    "        'name': 'Antibody-sIL-6Rα complex in serum',\n",
    "        'description': 'Antibody bound to soluble IL-6 receptor in blood'\n",
    "    },\n",
    "    'Ab_sR{liver}': {\n",
    "        'name': 'Antibody-sIL-6Rα complex in liver',\n",
    "        'description': 'Antibody bound to soluble IL-6 receptor in liver'\n",
    "    },\n",
    "    'Ab_sR{gut}': {\n",
    "        'name': 'Antibody-sIL-6Rα complex in gut',\n",
    "        'description': 'Antibody bound to soluble IL-6 receptor in gut'\n",
    "    },\n",
    "    'Ab_sR_IL6{serum}': {\n",
    "        'name': 'Antibody-IL-6/sIL-6Rα complex in serum',\n",
    "        'description': 'Antibody bound to IL-6/sIL-6Rα complex in blood'\n",
    "    },\n",
    "    'Ab_sR_IL6{liver}': {\n",
    "        'name': 'Antibody-IL-6/sIL-6Rα complex in liver',\n",
    "        'description': 'Antibody bound to IL-6/sIL-6Rα complex in liver'\n",
    "    },\n",
    "    'Ab_sR_IL6{gut}': {\n",
    "        'name': 'Antibody-IL-6/sIL-6Rα complex in gut',\n",
    "        'description': 'Antibody bound to IL-6/sIL-6Rα complex in gut'\n",
    "    },\n",
    "    'CRP Suppression (%)': {\n",
    "        'name': 'CRP suppression percentage',\n",
    "        'description': 'Percentage reduction in CRP levels after treatment'\n",
    "    },\n",
    "    'CRP (% of baseline)': {\n",
    "        'name': 'CRP percentage of baseline',\n",
    "        'description': 'CRP levels as percentage of pre-treatment baseline'\n",
    "    }\n",
    "}"
   ]
  },
  {
   "cell_type": "code",
   "execution_count": 3,
   "id": "f09cac0d-0fc1-4f2b-8c7a-deebc1feb590",
   "metadata": {},
   "outputs": [],
   "source": [
    "import json\n",
    "with open('species_dict.json', 'w') as f:\n",
    "    json.dump(species_dict, f)"
   ]
  },
  {
   "cell_type": "markdown",
   "id": "80c96df7-fdc7-4bb9-906a-32999708d6f3",
   "metadata": {},
   "source": [
    "## Approach 1: Use Bio-Ontology API for entity recoginition\n",
    "We use the ontolgoies of PrimeKG for search"
   ]
  },
  {
   "cell_type": "code",
   "execution_count": 14,
   "id": "df87eb12-6f0b-417c-b13d-aa0c0a0d2f0d",
   "metadata": {},
   "outputs": [
    {
     "data": {
      "text/plain": [
       "['NCBI',\n",
       " 'DrugBank',\n",
       " 'HPO',\n",
       " 'MONDO_grouped',\n",
       " 'MONDO',\n",
       " 'GO',\n",
       " 'CTD',\n",
       " 'REACTOME',\n",
       " 'UBERON']"
      ]
     },
     "execution_count": 14,
     "metadata": {},
     "output_type": "execute_result"
    }
   ],
   "source": [
    "# download the nodes.tab in csv format file locally from\n",
    "# https://dataverse.harvard.edu/dataset.xhtml?persistentId=doi:10.7910/DVN/IXA7BM\n",
    "import pandas as pd\n",
    "df = pd.read_csv('./nodes.csv')\n",
    "df.node_source.drop_duplicates().tolist()"
   ]
  },
  {
   "cell_type": "markdown",
   "id": "097d218d-3c8e-421f-805a-b14efe474944",
   "metadata": {},
   "source": [
    "**Note:** These naming is a bit different on bioongotlogy"
   ]
  },
  {
   "cell_type": "code",
   "execution_count": 6,
   "id": "dd3384a8-1000-4113-8b45-307c12a3964a",
   "metadata": {},
   "outputs": [],
   "source": [
    "PRIMEKG_ONTOLOGIES = [\n",
    "        'NCBITAXON',     # NCBI Taxonomy\n",
    "        'DRON',          # Drug Ontology (alternative to DrugBank)\n",
    "        'HP',            # Human Phenotype Ontology\n",
    "        'MONDO',         # Monarch Disease Ontology\n",
    "        'GO-PLUS',       # Gene Ontology Plus\n",
    "        'MEDDRA',        # Medical Dictionary for Regulatory Activities (alternative to CTD)\n",
    "        'RXNORM',        # RxNorm\n",
    "        'UBERON'         # Uber Anatomy Ontology\n",
    "    ]"
   ]
  },
  {
   "cell_type": "code",
   "execution_count": null,
   "id": "438d9dc8-d336-4a20-b0cf-e2cde9c351a0",
   "metadata": {},
   "outputs": [],
   "source": [
    "primekg_to_bioontology_map = {\n",
    "       \"NCBI\": \"NCBITAXON\",\n",
    "       \"DrugBank\": \"DRON\",\n",
    "       \"HPO\": \"HP\",\n",
    "       \"MONDO\": \"MONDO\",\n",
    "       \"MONDO_grouped\": \"MONDO\",\n",
    "       \"GO\": \"GO-PLUS\",\n",
    "       \"CTD\": \"MEDDRA\",\n",
    "       \"REACTOME\": \"RXNORM\",  # Note: not exact equivalent\n",
    "       \"UBERON\": \"UBERON\"\n",
    "   }"
   ]
  },
  {
   "cell_type": "code",
   "execution_count": 4,
   "id": "70ff731f-e23d-4c23-ade1-c33479025eb7",
   "metadata": {},
   "outputs": [],
   "source": [
    "\n",
    "from bioontology_api import enrich_species_dict_with_ontologies"
   ]
  },
  {
   "cell_type": "code",
   "execution_count": 5,
   "id": "d955b3f1-0889-4845-996b-04c637c9339b",
   "metadata": {},
   "outputs": [
    {
     "name": "stdin",
     "output_type": "stream",
     "text": [
      "Enter your API key:  ········\n"
     ]
    }
   ],
   "source": [
    "import getpass\n",
    "\n",
    "bioontology_api_key = getpass.getpass(prompt=\"Enter your API key: \")"
   ]
  },
  {
   "cell_type": "code",
   "execution_count": 8,
   "id": "084444fd-86f0-46e9-adf0-fab5e346304c",
   "metadata": {
    "scrolled": true
   },
   "outputs": [
    {
     "name": "stdout",
     "output_type": "stream",
     "text": [
      "Combined 44 names for annotation.\n",
      "Received 46 annotations from BioPortal.\n",
      "Added a total of 293 annotations to 42 entries.\n"
     ]
    }
   ],
   "source": [
    "species_dict_annotated = enrich_species_dict_with_ontologies(species_dict, bioontology_api_key, PRIMEKG_ONTOLOGIES)"
   ]
  },
  {
   "cell_type": "code",
   "execution_count": 21,
   "id": "54e7b48b-7974-42c5-b59a-9ab93b0ed5f3",
   "metadata": {},
   "outputs": [
    {
     "data": {
      "text/plain": [
       "{'name': 'Interleukin-6 in serum',\n",
       " 'description': \"Interleukin-6 cytokine in blood circulation; elevated in Crohn's disease\",\n",
       " 'ontology_annotations': [{'text': 'INTERLEUKIN-6',\n",
       "   'id': '10050918',\n",
       "   'uri': 'http://purl.bioontology.org/ontology/MEDDRA/10050918',\n",
       "   'source_ontology': 'MEDDRA'},\n",
       "  {'text': 'INTERLEUKIN-6',\n",
       "   'id': '1367185',\n",
       "   'uri': 'http://purl.bioontology.org/ontology/RXNORM/1367185',\n",
       "   'source_ontology': 'RXNORM'},\n",
       "  {'text': 'INTERLEUKIN-6',\n",
       "   'id': 'PR_000001393',\n",
       "   'uri': 'http://purl.obolibrary.org/obo/PR_000001393',\n",
       "   'source_ontology': 'GO-PLUS'},\n",
       "  {'text': 'SERUM',\n",
       "   'id': 'UBERON_0001977',\n",
       "   'uri': 'http://purl.obolibrary.org/obo/UBERON_0001977',\n",
       "   'source_ontology': 'UBERON'}]}"
      ]
     },
     "execution_count": 21,
     "metadata": {},
     "output_type": "execute_result"
    }
   ],
   "source": [
    "species_dict_annotated['IL6{serum}']"
   ]
  },
  {
   "cell_type": "code",
   "execution_count": 9,
   "id": "f411037f-0862-4dd1-8d27-2eb7b068c9d7",
   "metadata": {},
   "outputs": [],
   "source": [
    "with open('species_dict_annotated.json', 'w') as f:\n",
    "    json.dump(species_dict_annotated, f)"
   ]
  },
  {
   "cell_type": "markdown",
   "id": "95e3d8aa-7193-419d-a385-b534acd96088",
   "metadata": {},
   "source": [
    "### Connecting to PrimeKG\n",
    "Since this is a direct use of the source ontologies of PrimeKG, we can match the ids to that of the PrimeKG"
   ]
  },
  {
   "cell_type": "code",
   "execution_count": null,
   "id": "f7656bcf-f139-4ab8-8fdb-d84686dca73e",
   "metadata": {},
   "outputs": [],
   "source": []
  },
  {
   "cell_type": "markdown",
   "id": "f0973a4f-84fd-49b6-aec8-30c260f1d86e",
   "metadata": {},
   "source": [
    "## Approach 2: using UMLS codes\n",
    "we can use scispacy to find umls codes \n",
    "\n",
    "```\n",
    "!pip -q install spacy scispacy\n",
    "!pip -q install https://s3-us-west-2.amazonaws.com/ai2-s2-scispacy/releases/v0.5.0/en_core_sci_md-0.5.0.tar.gz\n",
    "```\n",
    "\n",
    "But it the installation is incompatible with this repo, so we did it on a different platform.\n",
    "\n",
    "The code to run this can be access via:\n",
    "\n",
    "```\n",
    "from extract_umls import extract_umls_code\n",
    "```"
   ]
  },
  {
   "cell_type": "markdown",
   "id": "972fff94-a5a1-4f3f-a2d8-6ca7815431ff",
   "metadata": {},
   "source": [
    "The results are stored as `species_dict_umls.json` file."
   ]
  },
  {
   "cell_type": "code",
   "execution_count": 20,
   "id": "7219409b-fe91-417d-a5b0-c0a19ab685d2",
   "metadata": {},
   "outputs": [
    {
     "data": {
      "text/plain": [
       "{'name': 'Interleukin-6 in serum',\n",
       " 'description': \"Interleukin-6 cytokine in blood circulation; elevated in Crohn's disease\",\n",
       " 'extracted': [{'text': 'Interleukin-6',\n",
       "   'label': 'ENTITY',\n",
       "   'start': 0,\n",
       "   'end': 13,\n",
       "   'umls_links': [{'cui': 'C0021760',\n",
       "     'score': 0.9546328186988831,\n",
       "     'name': 'interleukin-6'},\n",
       "    {'cui': 'C0021760', 'score': 0.9546328186988831, 'name': 'interleukin-6'},\n",
       "    {'cui': 'C0021760', 'score': 0.9546328186988831, 'name': 'interleukin-6'},\n",
       "    {'cui': 'C0021760', 'score': 0.9546328186988831, 'name': 'interleukin-6'},\n",
       "    {'cui': 'C0021760',\n",
       "     'score': 0.8981785178184509,\n",
       "     'name': 'interleukin-6'}]},\n",
       "  {'text': 'serum',\n",
       "   'label': 'ENTITY',\n",
       "   'start': 17,\n",
       "   'end': 22,\n",
       "   'umls_links': [{'cui': 'C0229671',\n",
       "     'score': 0.9912598133087158,\n",
       "     'name': 'Serum'},\n",
       "    {'cui': 'C0229671', 'score': 0.9912598133087158, 'name': 'Serum'},\n",
       "    {'cui': 'C0229671', 'score': 0.9912598133087158, 'name': 'Serum'},\n",
       "    {'cui': 'C0229671', 'score': 0.9912598133087158, 'name': 'Serum'},\n",
       "    {'cui': 'C0229671', 'score': 0.8228836059570312, 'name': 'Serum'}]}]}"
      ]
     },
     "execution_count": 20,
     "metadata": {},
     "output_type": "execute_result"
    }
   ],
   "source": [
    "with open('species_dict_umls.json', 'r') as f:\n",
    "    species_dict_umls = json.load(f)\n",
    "species_dict_umls['IL6{serum}']"
   ]
  },
  {
   "cell_type": "markdown",
   "id": "0c30c85a-f2c9-43c8-b8fe-6cb7aa1ad199",
   "metadata": {},
   "source": [
    "### Connecting to PrimeKG\n",
    "\n",
    "PrimeKG provides umls mappings for its nodes under the new publicaiton\n",
    "\n",
    "Su, X., Messica, S., Huang, Y., Johnson, R., Fesser, L., Gao, S., Sahneh, F. and Zitnik, M., 2025. Multimodal Medical Code Tokenizer. arXiv preprint arXiv:2502.04397."
   ]
  }
 ],
 "metadata": {
  "kernelspec": {
   "display_name": "Python 3 (ipykernel)",
   "language": "python",
   "name": "python3"
  },
  "language_info": {
   "codemirror_mode": {
    "name": "ipython",
    "version": 3
   },
   "file_extension": ".py",
   "mimetype": "text/x-python",
   "name": "python",
   "nbconvert_exporter": "python",
   "pygments_lexer": "ipython3",
   "version": "3.12.9"
  }
 },
 "nbformat": 4,
 "nbformat_minor": 5
}
