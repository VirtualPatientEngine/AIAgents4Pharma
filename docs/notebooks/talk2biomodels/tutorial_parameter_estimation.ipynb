{
 "cells": [
  {
   "cell_type": "markdown",
   "metadata": {},
   "source": [
    "### Parameter Estimation using basico\n"
   ]
  },
  {
   "cell_type": "code",
   "execution_count": null,
   "metadata": {
    "vscode": {
     "languageId": "plaintext"
    }
   },
   "outputs": [],
   "source": [
    "import os\n",
    "import pandas as pd\n",
    "from basico import *\n",
    " \n",
    " \n",
    "model_path = \"/home/wilson0003/Copasi/no_x.cps\"\n",
    " \n",
    " \n",
    "experiment_files = [\n",
    "\"/home/wilson0003/Copasi/text files/kinetics_with_intermediate_min.txt\",\n",
    "\"/home/wilson0003/Copasi/text files/Kinetics.txt\",\n",
    "]\n",
    " \n",
    " \n",
    "all_results = {}\n",
    " \n",
    " \n",
    "for i, exp_file in enumerate(experiment_files):\n",
    "exp_name = f\"exp_{i+1}\" # Unique name for each experiment\n",
    " \n",
    " \n",
    "if not os.path.exists(exp_file):\n",
    "print(f\"⚠️ Skipping {exp_file} - File not found!\")\n",
    "continue\n",
    " \n",
    "print(f\"\\n🔹 Using experiment file: {exp_file}\")\n",
    " \n",
    "\n",
    "model = load_model(model_path)\n",
    " \n",
    "\n",
    "exp_data = pd.read_csv(exp_file, sep=\"\\t\") # Ensure correct separator\n",
    "print(f\"First rows of {exp_name} experimental data:\\n\", exp_data.head())\n",
    " \n",
    "\n",
    "if exp_name in get_experiment_names():\n",
    "remove_experiment(exp_name)\n",
    " \n",
    "\n",
    "add_experiment(exp_name, exp_data)\n",
    "print(f\"✅ Experiment {exp_name} added successfully!\")\n",
    " \n",
    "\n",
    "mapping = get_experiment_mapping(exp_name)\n",
    "mapping[\"cn\"] = mapping[\"cn\"].str.replace(\"ParticleNumber\",\n",
    "\"Concentration\")\n",
    " \n",
    "\n",
    "print(f\"🔹 Running Parameter Estimation for {exp_name}...\")\n",
    "run_parameter_estimation(method=\"Particle Swarm\", update_model=False)\n",
    "# 🔹 Prevents model contamination\n",
    " \n",
    "fit_stats = get_fit_statistic(include_parameters=True)\n",
    " \n",
    "\n",
    "parameters_with_sd = []\n",
    "for param in fit_stats.get(\"parameters\", []):\n",
    "parameters_with_sd.append({\n",
    "\"name\": param[\"name\"],\n",
    "\"value\": param[\"value\"],\n",
    "\"std_dev\": param.get(\"std_dev\", \"N/A\"), # Get SD if available\n",
    "\"coeff_of_variation\": param.get(\"coeff_of_variation\", \"N/A\")\n",
    "})\n",
    " \n",
    "\n",
    "result_fit = pd.DataFrame(parameters_with_sd)\n",
    "print(f\"📊 Fitted Parameters for {exp_name}:\\n\", result_fit)\n",
    " \n",
    "\n",
    "all_results[exp_name] = result_fit\n",
    " \n",
    "\n",
    "plot_per_dependent_variable()\n",
    " \n",
    " \n",
    "all_results_df = pd.concat(all_results, names=[\"Experiment\"])\n",
    "all_results_df.to_csv(\"/home/wilson0003/Copasi/parameter_estimation_results_with_sd.csv\")\n",
    "print(\"\\n✅ All parameter estimations completed & saved!\")"
   ]
  },
  {
   "cell_type": "code",
   "execution_count": null,
   "metadata": {
    "vscode": {
     "languageId": "plaintext"
    }
   },
   "outputs": [],
   "source": [
    "I would remove all experiments using 'remove_experiments()' after the call\n",
    "to load. Otherwise you'll leave the experiment which is named 'Experiment'\n",
    "in and this will change your results a bit in the first place.\n",
    " \n",
    "Also, you might want to consider using a local method (like LM:\n",
    "`run_parameter_estimation(method=PE.LEVENBERG_MARQUARDT,\n",
    "update_model=False) # 🔹 Prevents model contamination`). That is more\n",
    "likely to run the along the same trajectory. Particle Swarm creates a swarm\n",
    "randomly positioned in your parameter space, and since you are not\n",
    "controlling the seed I would be surprised if you got precisely the same\n",
    "results every time you run.\n",
    " \n",
    "I hope this helps,\n",
    "best\n",
    "Frank"
   ]
  }
 ],
 "metadata": {
  "language_info": {
   "name": "python"
  }
 },
 "nbformat": 4,
 "nbformat_minor": 2
}
