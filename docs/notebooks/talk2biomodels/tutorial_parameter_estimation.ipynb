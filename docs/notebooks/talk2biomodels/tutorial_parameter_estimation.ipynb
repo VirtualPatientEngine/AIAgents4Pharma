{
 "cells": [
  {
   "cell_type": "markdown",
   "metadata": {},
   "source": [
    "# Parameter Estimation using basico\n"
   ]
  },
  {
   "cell_type": "markdown",
   "metadata": {},
   "source": [
    "**Description** <br>\n",
    "Parameter estimation (parameter fitting) is a process of finding the best set of parameters for a model to fit the experimental data. Basico enables both local and global parameter estimation algorithms.\n",
    "\n",
    "**Setup** <br>\n",
    "To accomplish parameter estimation task, the following components are required:\n",
    "* model *(ODE model in SBML format)*\n",
    "* experimental data *(time series in a table format)*\n",
    "* parameters to be estimated *(can be both kinetic parameters and initial concentrations)*\n",
    "* algorithms for the parameter estimation task (see here: https://basico.readthedocs.io/en/latest/API/basico.html#basico.task_parameterestimation.run_parameter_estimation)\n",
    "* available range (constraints) for the parameters"
   ]
  },
  {
   "cell_type": "markdown",
   "metadata": {},
   "source": [
    "**Parameter estimation workflow** <br>\n",
    "1. Load model and remove previous experiments (`basico.remove_experiments()`)\n",
    "2. Add experimental data (`basico.add_experiment(name, data)`)\n",
    "3. Add reaction parameters to be estimated together with their upper and lower bounds <br>\n",
    "Create a list of dictionaries where each dictionary contains the name of the parameter, its lower and upper bounds. <br>\n",
    "E.g.\n",
    "```\n",
    "fit_items = [\n",
    "            {'name': '(R1).k1', 'lower': 0.001, 'upper': 2},\n",
    "            {'name': '(R2).k1', 'lower': 0.001, 'upper': 2},\n",
    "            {'name': '(R3).k1', 'lower': 0.001, 'upper': 2},\n",
    "            {'name': '(R4).k1', 'lower': 0.001, 'upper': 2},\n",
    "        ]\t\n",
    "```\n",
    "4. Set parameters to be estimated (`basico.set_fit_parameters(fit_items)`) <br>\n",
    "4.1 (optional) Constrains for the concentrations. Solutions with concentrations outside a certain range are rejected. <br>\n",
    "5. Run parameter estimation (`basico.run_parameter_estimation(method='Levenberg - Marquardt', update_model=True)`). If the  `update_model` parameter is set to `True`, the model will be updated with the estimated parameters, thus it is possible to restart the estimation process from the same point in the parameter space, but with different algorithm.\n",
    "6. Evaluate the results (parameter values and the objective function value) and run model with estimated parameters. <br>\n",
    "`basico.get_fit_statistic(include_parameters=True)`\n"
   ]
  },
  {
   "cell_type": "markdown",
   "metadata": {},
   "source": [
    "**Visualisation and ouput** <br>\n",
    "The progress of the parameter estimation can be tracked visually by observing the objective value (y -axis) over number of iterations (x-axis) of the estimation algorithm, ideally, as a curve. Also output of the estimated values in a table where *before* and *after* values can be compared would be beneficial."
   ]
  },
  {
   "cell_type": "markdown",
   "metadata": {},
   "source": [
    "**Testing** <br>\n",
    "Use the example below ('brusselator') to see if the parameter estimation is running correctly. Ideally, the estimation should end with exactly the original parameters of this example. The estimation process can be time and resource-consuming. For testing it is important to use local methods, such as , e.g. `Levenberg - Marquardt` or set **the seed** for global methods, since global methods use stochastic algorithms to set initial starting point for the estimation."
   ]
  },
  {
   "cell_type": "markdown",
   "metadata": {},
   "source": [
    "**Note** <br>\n",
    "Since parameter estimation task is usually an interative process, the user should be able to stop the estimation process at any time, evaluate the results, and resume it with another algorithm or with the same algorithm.\n"
   ]
  },
  {
   "cell_type": "markdown",
   "metadata": {},
   "source": [
    "## Example"
   ]
  },
  {
   "cell_type": "code",
   "execution_count": 3,
   "metadata": {},
   "outputs": [],
   "source": [
    "import os\n",
    "import pandas as pd\n",
    "import basico\n",
    "import matplotlib.pyplot as plt\n",
    "import numpy as np"
   ]
  },
  {
   "cell_type": "markdown",
   "metadata": {},
   "source": [
    "#### Generate noisy data for a mock parameter estimation task"
   ]
  },
  {
   "cell_type": "code",
   "execution_count": 4,
   "metadata": {},
   "outputs": [],
   "source": [
    "basico.load_example('brusselator')\n",
    "# remove previous experiments to avoid contamination\n",
    "basico.remove_experiments()\n",
    "# create noisy data from the model, that we will take for a parameter estimation\n",
    "basico.add_parameter('obs_x', type='assignment', expression='[X] + UNIFORM(0,1) - 0.5')\n",
    "basico.add_parameter('obs_y', type='assignment', expression='[Y] + UNIFORM(0,1) - 0.5');"
   ]
  },
  {
   "cell_type": "code",
   "execution_count": 5,
   "metadata": {},
   "outputs": [],
   "source": [
    "result = basico.run_time_course(start_time=0, use_number=True)"
   ]
  },
  {
   "cell_type": "code",
   "execution_count": 6,
   "metadata": {},
   "outputs": [
    {
     "data": {
      "text/html": [
       "<div>\n",
       "<style scoped>\n",
       "    .dataframe tbody tr th:only-of-type {\n",
       "        vertical-align: middle;\n",
       "    }\n",
       "\n",
       "    .dataframe tbody tr th {\n",
       "        vertical-align: top;\n",
       "    }\n",
       "\n",
       "    .dataframe thead th {\n",
       "        text-align: right;\n",
       "    }\n",
       "</style>\n",
       "<table border=\"1\" class=\"dataframe\">\n",
       "  <thead>\n",
       "    <tr style=\"text-align: right;\">\n",
       "      <th></th>\n",
       "      <th>X</th>\n",
       "      <th>Y</th>\n",
       "      <th>Values[obs_x]</th>\n",
       "      <th>Values[obs_y]</th>\n",
       "    </tr>\n",
       "    <tr>\n",
       "      <th>Time</th>\n",
       "      <th></th>\n",
       "      <th></th>\n",
       "      <th></th>\n",
       "      <th></th>\n",
       "    </tr>\n",
       "  </thead>\n",
       "  <tbody>\n",
       "    <tr>\n",
       "      <th>0.0</th>\n",
       "      <td>2.999996</td>\n",
       "      <td>2.999996</td>\n",
       "      <td>3.041699</td>\n",
       "      <td>3.028853</td>\n",
       "    </tr>\n",
       "    <tr>\n",
       "      <th>0.5</th>\n",
       "      <td>3.408155</td>\n",
       "      <td>0.817484</td>\n",
       "      <td>3.440078</td>\n",
       "      <td>0.534975</td>\n",
       "    </tr>\n",
       "    <tr>\n",
       "      <th>1.0</th>\n",
       "      <td>1.896454</td>\n",
       "      <td>1.276790</td>\n",
       "      <td>2.106532</td>\n",
       "      <td>0.858355</td>\n",
       "    </tr>\n",
       "    <tr>\n",
       "      <th>1.5</th>\n",
       "      <td>0.876253</td>\n",
       "      <td>1.872929</td>\n",
       "      <td>1.236137</td>\n",
       "      <td>1.529346</td>\n",
       "    </tr>\n",
       "    <tr>\n",
       "      <th>2.0</th>\n",
       "      <td>0.345934</td>\n",
       "      <td>2.368188</td>\n",
       "      <td>0.792790</td>\n",
       "      <td>2.645165</td>\n",
       "    </tr>\n",
       "  </tbody>\n",
       "</table>\n",
       "</div>"
      ],
      "text/plain": [
       "             X         Y  Values[obs_x]  Values[obs_y]\n",
       "Time                                                  \n",
       "0.0   2.999996  2.999996       3.041699       3.028853\n",
       "0.5   3.408155  0.817484       3.440078       0.534975\n",
       "1.0   1.896454  1.276790       2.106532       0.858355\n",
       "1.5   0.876253  1.872929       1.236137       1.529346\n",
       "2.0   0.345934  2.368188       0.792790       2.645165"
      ]
     },
     "execution_count": 6,
     "metadata": {},
     "output_type": "execute_result"
    }
   ],
   "source": [
    "result.head()"
   ]
  },
  {
   "cell_type": "code",
   "execution_count": 7,
   "metadata": {},
   "outputs": [],
   "source": [
    "# obtain \"experimental data\"\n",
    "data = result.drop(columns=['X', 'Y'])\n",
    "data.rename(columns = {'Values[obs_x]':'[X]', 'Values[obs_y]':'[Y]'}, inplace=True)\n",
    "data = data.reset_index()"
   ]
  },
  {
   "cell_type": "markdown",
   "metadata": {},
   "source": [
    "#### Original values\n"
   ]
  },
  {
   "cell_type": "code",
   "execution_count": 8,
   "metadata": {},
   "outputs": [
    {
     "data": {
      "text/html": [
       "<div>\n",
       "<style scoped>\n",
       "    .dataframe tbody tr th:only-of-type {\n",
       "        vertical-align: middle;\n",
       "    }\n",
       "\n",
       "    .dataframe tbody tr th {\n",
       "        vertical-align: top;\n",
       "    }\n",
       "\n",
       "    .dataframe thead th {\n",
       "        text-align: right;\n",
       "    }\n",
       "</style>\n",
       "<table border=\"1\" class=\"dataframe\">\n",
       "  <thead>\n",
       "    <tr style=\"text-align: right;\">\n",
       "      <th></th>\n",
       "      <th>value</th>\n",
       "      <th>reaction</th>\n",
       "      <th>type</th>\n",
       "      <th>mapped_to</th>\n",
       "    </tr>\n",
       "    <tr>\n",
       "      <th>name</th>\n",
       "      <th></th>\n",
       "      <th></th>\n",
       "      <th></th>\n",
       "      <th></th>\n",
       "    </tr>\n",
       "  </thead>\n",
       "  <tbody>\n",
       "    <tr>\n",
       "      <th>(R1).k1</th>\n",
       "      <td>1.0</td>\n",
       "      <td>R1</td>\n",
       "      <td>local</td>\n",
       "      <td></td>\n",
       "    </tr>\n",
       "    <tr>\n",
       "      <th>(R2).k1</th>\n",
       "      <td>1.0</td>\n",
       "      <td>R2</td>\n",
       "      <td>local</td>\n",
       "      <td></td>\n",
       "    </tr>\n",
       "    <tr>\n",
       "      <th>(R3).k1</th>\n",
       "      <td>1.0</td>\n",
       "      <td>R3</td>\n",
       "      <td>local</td>\n",
       "      <td></td>\n",
       "    </tr>\n",
       "    <tr>\n",
       "      <th>(R4).k1</th>\n",
       "      <td>1.0</td>\n",
       "      <td>R4</td>\n",
       "      <td>local</td>\n",
       "      <td></td>\n",
       "    </tr>\n",
       "  </tbody>\n",
       "</table>\n",
       "</div>"
      ],
      "text/plain": [
       "         value reaction   type mapped_to\n",
       "name                                    \n",
       "(R1).k1    1.0       R1  local          \n",
       "(R2).k1    1.0       R2  local          \n",
       "(R3).k1    1.0       R3  local          \n",
       "(R4).k1    1.0       R4  local          "
      ]
     },
     "execution_count": 8,
     "metadata": {},
     "output_type": "execute_result"
    }
   ],
   "source": [
    "basico.get_reaction_parameters()"
   ]
  },
  {
   "cell_type": "markdown",
   "metadata": {},
   "source": [
    "#### Setting up \"worng\" parameter values"
   ]
  },
  {
   "cell_type": "code",
   "execution_count": 9,
   "metadata": {},
   "outputs": [],
   "source": [
    "# change parameters so we have something to do\n",
    "basico.set_reaction_parameters(['(R1).k1', '(R2).k1', '(R3).k1', '(R4).k1'], value=0.5)\n",
    "basico.remove_parameter('obs_x')\n",
    "basico.remove_parameter('obs_y')\n",
    "#basico.run_time_course(start_time=0).plot();"
   ]
  },
  {
   "cell_type": "markdown",
   "metadata": {},
   "source": [
    "#### Modified values"
   ]
  },
  {
   "cell_type": "code",
   "execution_count": 10,
   "metadata": {},
   "outputs": [
    {
     "data": {
      "text/html": [
       "<div>\n",
       "<style scoped>\n",
       "    .dataframe tbody tr th:only-of-type {\n",
       "        vertical-align: middle;\n",
       "    }\n",
       "\n",
       "    .dataframe tbody tr th {\n",
       "        vertical-align: top;\n",
       "    }\n",
       "\n",
       "    .dataframe thead th {\n",
       "        text-align: right;\n",
       "    }\n",
       "</style>\n",
       "<table border=\"1\" class=\"dataframe\">\n",
       "  <thead>\n",
       "    <tr style=\"text-align: right;\">\n",
       "      <th></th>\n",
       "      <th>value</th>\n",
       "      <th>reaction</th>\n",
       "      <th>type</th>\n",
       "      <th>mapped_to</th>\n",
       "    </tr>\n",
       "    <tr>\n",
       "      <th>name</th>\n",
       "      <th></th>\n",
       "      <th></th>\n",
       "      <th></th>\n",
       "      <th></th>\n",
       "    </tr>\n",
       "  </thead>\n",
       "  <tbody>\n",
       "    <tr>\n",
       "      <th>(R1).k1</th>\n",
       "      <td>0.5</td>\n",
       "      <td>R1</td>\n",
       "      <td>local</td>\n",
       "      <td></td>\n",
       "    </tr>\n",
       "    <tr>\n",
       "      <th>(R2).k1</th>\n",
       "      <td>0.5</td>\n",
       "      <td>R2</td>\n",
       "      <td>local</td>\n",
       "      <td></td>\n",
       "    </tr>\n",
       "    <tr>\n",
       "      <th>(R3).k1</th>\n",
       "      <td>0.5</td>\n",
       "      <td>R3</td>\n",
       "      <td>local</td>\n",
       "      <td></td>\n",
       "    </tr>\n",
       "    <tr>\n",
       "      <th>(R4).k1</th>\n",
       "      <td>0.5</td>\n",
       "      <td>R4</td>\n",
       "      <td>local</td>\n",
       "      <td></td>\n",
       "    </tr>\n",
       "  </tbody>\n",
       "</table>\n",
       "</div>"
      ],
      "text/plain": [
       "         value reaction   type mapped_to\n",
       "name                                    \n",
       "(R1).k1    0.5       R1  local          \n",
       "(R2).k1    0.5       R2  local          \n",
       "(R3).k1    0.5       R3  local          \n",
       "(R4).k1    0.5       R4  local          "
      ]
     },
     "execution_count": 10,
     "metadata": {},
     "output_type": "execute_result"
    }
   ],
   "source": [
    "basico.get_reaction_parameters()"
   ]
  },
  {
   "cell_type": "markdown",
   "metadata": {},
   "source": [
    "#### Experimental data"
   ]
  },
  {
   "cell_type": "code",
   "execution_count": 11,
   "metadata": {},
   "outputs": [
    {
     "data": {
      "text/html": [
       "<div>\n",
       "<style scoped>\n",
       "    .dataframe tbody tr th:only-of-type {\n",
       "        vertical-align: middle;\n",
       "    }\n",
       "\n",
       "    .dataframe tbody tr th {\n",
       "        vertical-align: top;\n",
       "    }\n",
       "\n",
       "    .dataframe thead th {\n",
       "        text-align: right;\n",
       "    }\n",
       "</style>\n",
       "<table border=\"1\" class=\"dataframe\">\n",
       "  <thead>\n",
       "    <tr style=\"text-align: right;\">\n",
       "      <th></th>\n",
       "      <th>Time</th>\n",
       "      <th>[X]</th>\n",
       "      <th>[Y]</th>\n",
       "    </tr>\n",
       "  </thead>\n",
       "  <tbody>\n",
       "    <tr>\n",
       "      <th>0</th>\n",
       "      <td>0.0</td>\n",
       "      <td>3.041699</td>\n",
       "      <td>3.028853</td>\n",
       "    </tr>\n",
       "    <tr>\n",
       "      <th>1</th>\n",
       "      <td>0.5</td>\n",
       "      <td>3.440078</td>\n",
       "      <td>0.534975</td>\n",
       "    </tr>\n",
       "    <tr>\n",
       "      <th>2</th>\n",
       "      <td>1.0</td>\n",
       "      <td>2.106532</td>\n",
       "      <td>0.858355</td>\n",
       "    </tr>\n",
       "    <tr>\n",
       "      <th>3</th>\n",
       "      <td>1.5</td>\n",
       "      <td>1.236137</td>\n",
       "      <td>1.529346</td>\n",
       "    </tr>\n",
       "    <tr>\n",
       "      <th>4</th>\n",
       "      <td>2.0</td>\n",
       "      <td>0.792790</td>\n",
       "      <td>2.645165</td>\n",
       "    </tr>\n",
       "  </tbody>\n",
       "</table>\n",
       "</div>"
      ],
      "text/plain": [
       "   Time       [X]       [Y]\n",
       "0   0.0  3.041699  3.028853\n",
       "1   0.5  3.440078  0.534975\n",
       "2   1.0  2.106532  0.858355\n",
       "3   1.5  1.236137  1.529346\n",
       "4   2.0  0.792790  2.645165"
      ]
     },
     "execution_count": 11,
     "metadata": {},
     "output_type": "execute_result"
    }
   ],
   "source": [
    "# here's how data looks like\n",
    "data.head()"
   ]
  },
  {
   "cell_type": "code",
   "execution_count": 12,
   "metadata": {},
   "outputs": [
    {
     "data": {
      "text/plain": [
       "'c:\\\\Users\\\\Wehling\\\\code\\\\feat-estimation\\\\AIAgents4Pharma\\\\docs\\\\notebooks\\\\talk2biomodels\\\\exp1.txt'"
      ]
     },
     "execution_count": 12,
     "metadata": {},
     "output_type": "execute_result"
    }
   ],
   "source": [
    "# add experimental data to the estimation task\n",
    "basico.add_experiment('exp1', data)"
   ]
  },
  {
   "cell_type": "code",
   "execution_count": 13,
   "metadata": {},
   "outputs": [
    {
     "data": {
      "text/html": [
       "<div>\n",
       "<style scoped>\n",
       "    .dataframe tbody tr th:only-of-type {\n",
       "        vertical-align: middle;\n",
       "    }\n",
       "\n",
       "    .dataframe tbody tr th {\n",
       "        vertical-align: top;\n",
       "    }\n",
       "\n",
       "    .dataframe thead th {\n",
       "        text-align: right;\n",
       "    }\n",
       "</style>\n",
       "<table border=\"1\" class=\"dataframe\">\n",
       "  <thead>\n",
       "    <tr style=\"text-align: right;\">\n",
       "      <th></th>\n",
       "      <th>type</th>\n",
       "      <th>mapping</th>\n",
       "      <th>cn</th>\n",
       "      <th>column_name</th>\n",
       "    </tr>\n",
       "    <tr>\n",
       "      <th>column</th>\n",
       "      <th></th>\n",
       "      <th></th>\n",
       "      <th></th>\n",
       "      <th></th>\n",
       "    </tr>\n",
       "  </thead>\n",
       "  <tbody>\n",
       "    <tr>\n",
       "      <th>0</th>\n",
       "      <td>time</td>\n",
       "      <td></td>\n",
       "      <td></td>\n",
       "      <td>Time</td>\n",
       "    </tr>\n",
       "    <tr>\n",
       "      <th>1</th>\n",
       "      <td>dependent</td>\n",
       "      <td>[X]</td>\n",
       "      <td>CN=Root,Model=The Brusselator,Vector=Compartme...</td>\n",
       "      <td>[X]</td>\n",
       "    </tr>\n",
       "    <tr>\n",
       "      <th>2</th>\n",
       "      <td>dependent</td>\n",
       "      <td>[Y]</td>\n",
       "      <td>CN=Root,Model=The Brusselator,Vector=Compartme...</td>\n",
       "      <td>[Y]</td>\n",
       "    </tr>\n",
       "  </tbody>\n",
       "</table>\n",
       "</div>"
      ],
      "text/plain": [
       "             type mapping                                                 cn  \\\n",
       "column                                                                         \n",
       "0            time                                                              \n",
       "1       dependent     [X]  CN=Root,Model=The Brusselator,Vector=Compartme...   \n",
       "2       dependent     [Y]  CN=Root,Model=The Brusselator,Vector=Compartme...   \n",
       "\n",
       "       column_name  \n",
       "column              \n",
       "0             Time  \n",
       "1              [X]  \n",
       "2              [Y]  "
      ]
     },
     "execution_count": 13,
     "metadata": {},
     "output_type": "execute_result"
    }
   ],
   "source": [
    "#check if the mapping was correct\n",
    "basico.get_experiment_mapping('exp1')"
   ]
  },
  {
   "cell_type": "markdown",
   "metadata": {},
   "source": [
    "#### Add which reaction parameters to estimate"
   ]
  },
  {
   "cell_type": "code",
   "execution_count": 14,
   "metadata": {},
   "outputs": [],
   "source": [
    "# adding reaction parameters to the experiment\n",
    "fit_items = [\n",
    "            {'name': '(R1).k1', 'lower': 0.001, 'upper': 2},\n",
    "            {'name': '(R2).k1', 'lower': 0.001, 'upper': 2},\n",
    "            {'name': '(R3).k1', 'lower': 0.001, 'upper': 2},\n",
    "            {'name': '(R4).k1', 'lower': 0.001, 'upper': 2},\n",
    "        ]\n"
   ]
  },
  {
   "cell_type": "code",
   "execution_count": 15,
   "metadata": {},
   "outputs": [
    {
     "data": {
      "text/html": [
       "<div>\n",
       "<style scoped>\n",
       "    .dataframe tbody tr th:only-of-type {\n",
       "        vertical-align: middle;\n",
       "    }\n",
       "\n",
       "    .dataframe tbody tr th {\n",
       "        vertical-align: top;\n",
       "    }\n",
       "\n",
       "    .dataframe thead th {\n",
       "        text-align: right;\n",
       "    }\n",
       "</style>\n",
       "<table border=\"1\" class=\"dataframe\">\n",
       "  <thead>\n",
       "    <tr style=\"text-align: right;\">\n",
       "      <th></th>\n",
       "      <th>lower</th>\n",
       "      <th>upper</th>\n",
       "      <th>start</th>\n",
       "      <th>affected</th>\n",
       "      <th>cn</th>\n",
       "    </tr>\n",
       "    <tr>\n",
       "      <th>name</th>\n",
       "      <th></th>\n",
       "      <th></th>\n",
       "      <th></th>\n",
       "      <th></th>\n",
       "      <th></th>\n",
       "    </tr>\n",
       "  </thead>\n",
       "  <tbody>\n",
       "    <tr>\n",
       "      <th>(R1).k1</th>\n",
       "      <td>0.001</td>\n",
       "      <td>2</td>\n",
       "      <td>0.5</td>\n",
       "      <td>[]</td>\n",
       "      <td>CN=Root,Model=The Brusselator,Vector=Reactions...</td>\n",
       "    </tr>\n",
       "    <tr>\n",
       "      <th>(R2).k1</th>\n",
       "      <td>0.001</td>\n",
       "      <td>2</td>\n",
       "      <td>0.5</td>\n",
       "      <td>[]</td>\n",
       "      <td>CN=Root,Model=The Brusselator,Vector=Reactions...</td>\n",
       "    </tr>\n",
       "    <tr>\n",
       "      <th>(R3).k1</th>\n",
       "      <td>0.001</td>\n",
       "      <td>2</td>\n",
       "      <td>0.5</td>\n",
       "      <td>[]</td>\n",
       "      <td>CN=Root,Model=The Brusselator,Vector=Reactions...</td>\n",
       "    </tr>\n",
       "    <tr>\n",
       "      <th>(R4).k1</th>\n",
       "      <td>0.001</td>\n",
       "      <td>2</td>\n",
       "      <td>0.5</td>\n",
       "      <td>[]</td>\n",
       "      <td>CN=Root,Model=The Brusselator,Vector=Reactions...</td>\n",
       "    </tr>\n",
       "  </tbody>\n",
       "</table>\n",
       "</div>"
      ],
      "text/plain": [
       "         lower upper  start affected  \\\n",
       "name                                   \n",
       "(R1).k1  0.001     2    0.5       []   \n",
       "(R2).k1  0.001     2    0.5       []   \n",
       "(R3).k1  0.001     2    0.5       []   \n",
       "(R4).k1  0.001     2    0.5       []   \n",
       "\n",
       "                                                        cn  \n",
       "name                                                        \n",
       "(R1).k1  CN=Root,Model=The Brusselator,Vector=Reactions...  \n",
       "(R2).k1  CN=Root,Model=The Brusselator,Vector=Reactions...  \n",
       "(R3).k1  CN=Root,Model=The Brusselator,Vector=Reactions...  \n",
       "(R4).k1  CN=Root,Model=The Brusselator,Vector=Reactions...  "
      ]
     },
     "execution_count": 15,
     "metadata": {},
     "output_type": "execute_result"
    }
   ],
   "source": [
    "basico.set_fit_parameters(fit_items)\n",
    "basico.get_fit_parameters()"
   ]
  },
  {
   "cell_type": "code",
   "execution_count": 16,
   "metadata": {},
   "outputs": [
    {
     "data": {
      "image/png": "[encoded data removed]",
      "text/plain": [
       "<Figure size 640x480 with 1 Axes>"
      ]
     },
     "metadata": {},
     "output_type": "display_data"
    }
   ],
   "source": [
    "basico.plot_per_experiment();"
   ]
  },
  {
   "cell_type": "markdown",
   "metadata": {},
   "source": [
    "#### Setting constraints for the concentrations\n"
   ]
  },
  {
   "cell_type": "code",
   "execution_count": 17,
   "metadata": {},
   "outputs": [],
   "source": [
    "#setting constraints for the fitting task\n",
    "# solutions with concentrations outside a certain range are rejected\n",
    "basico.set_fit_constraints([\n",
    "    {'name': 'Y', 'lower': 0, 'upper': 10}\n",
    "])"
   ]
  },
  {
   "cell_type": "markdown",
   "metadata": {},
   "source": [
    "### Running parameter estimation task"
   ]
  },
  {
   "cell_type": "code",
   "execution_count": 18,
   "metadata": {},
   "outputs": [
    {
     "data": {
      "text/html": [
       "<div>\n",
       "<style scoped>\n",
       "    .dataframe tbody tr th:only-of-type {\n",
       "        vertical-align: middle;\n",
       "    }\n",
       "\n",
       "    .dataframe tbody tr th {\n",
       "        vertical-align: top;\n",
       "    }\n",
       "\n",
       "    .dataframe thead th {\n",
       "        text-align: right;\n",
       "    }\n",
       "</style>\n",
       "<table border=\"1\" class=\"dataframe\">\n",
       "  <thead>\n",
       "    <tr style=\"text-align: right;\">\n",
       "      <th></th>\n",
       "      <th>lower</th>\n",
       "      <th>upper</th>\n",
       "      <th>sol</th>\n",
       "      <th>affected</th>\n",
       "    </tr>\n",
       "    <tr>\n",
       "      <th>name</th>\n",
       "      <th></th>\n",
       "      <th></th>\n",
       "      <th></th>\n",
       "      <th></th>\n",
       "    </tr>\n",
       "  </thead>\n",
       "  <tbody>\n",
       "    <tr>\n",
       "      <th>(R1).k1</th>\n",
       "      <td>0.001</td>\n",
       "      <td>2</td>\n",
       "      <td>0.744007</td>\n",
       "      <td>[]</td>\n",
       "    </tr>\n",
       "    <tr>\n",
       "      <th>(R2).k1</th>\n",
       "      <td>0.001</td>\n",
       "      <td>2</td>\n",
       "      <td>0.457557</td>\n",
       "      <td>[]</td>\n",
       "    </tr>\n",
       "    <tr>\n",
       "      <th>(R3).k1</th>\n",
       "      <td>0.001</td>\n",
       "      <td>2</td>\n",
       "      <td>0.434593</td>\n",
       "      <td>[]</td>\n",
       "    </tr>\n",
       "    <tr>\n",
       "      <th>(R4).k1</th>\n",
       "      <td>0.001</td>\n",
       "      <td>2</td>\n",
       "      <td>0.948480</td>\n",
       "      <td>[]</td>\n",
       "    </tr>\n",
       "  </tbody>\n",
       "</table>\n",
       "</div>"
      ],
      "text/plain": [
       "         lower upper       sol affected\n",
       "name                                   \n",
       "(R1).k1  0.001     2  0.744007       []\n",
       "(R2).k1  0.001     2  0.457557       []\n",
       "(R3).k1  0.001     2  0.434593       []\n",
       "(R4).k1  0.001     2  0.948480       []"
      ]
     },
     "execution_count": 18,
     "metadata": {},
     "output_type": "execute_result"
    }
   ],
   "source": [
    "basico.run_parameter_estimation(method='Levenberg - Marquardt', update_model=True)"
   ]
  },
  {
   "cell_type": "code",
   "execution_count": 19,
   "metadata": {},
   "outputs": [
    {
     "data": {
      "text/html": [
       "<div>\n",
       "<style scoped>\n",
       "    .dataframe tbody tr th:only-of-type {\n",
       "        vertical-align: middle;\n",
       "    }\n",
       "\n",
       "    .dataframe tbody tr th {\n",
       "        vertical-align: top;\n",
       "    }\n",
       "\n",
       "    .dataframe thead th {\n",
       "        text-align: right;\n",
       "    }\n",
       "</style>\n",
       "<table border=\"1\" class=\"dataframe\">\n",
       "  <thead>\n",
       "    <tr style=\"text-align: right;\">\n",
       "      <th></th>\n",
       "      <th>lower</th>\n",
       "      <th>upper</th>\n",
       "      <th>sol</th>\n",
       "      <th>affected</th>\n",
       "    </tr>\n",
       "    <tr>\n",
       "      <th>name</th>\n",
       "      <th></th>\n",
       "      <th></th>\n",
       "      <th></th>\n",
       "      <th></th>\n",
       "    </tr>\n",
       "  </thead>\n",
       "  <tbody>\n",
       "    <tr>\n",
       "      <th>(R1).k1</th>\n",
       "      <td>0.001</td>\n",
       "      <td>2</td>\n",
       "      <td>1.078017</td>\n",
       "      <td>[]</td>\n",
       "    </tr>\n",
       "    <tr>\n",
       "      <th>(R2).k1</th>\n",
       "      <td>0.001</td>\n",
       "      <td>2</td>\n",
       "      <td>0.544177</td>\n",
       "      <td>[]</td>\n",
       "    </tr>\n",
       "    <tr>\n",
       "      <th>(R3).k1</th>\n",
       "      <td>0.001</td>\n",
       "      <td>2</td>\n",
       "      <td>0.688952</td>\n",
       "      <td>[]</td>\n",
       "    </tr>\n",
       "    <tr>\n",
       "      <th>(R4).k1</th>\n",
       "      <td>0.001</td>\n",
       "      <td>2</td>\n",
       "      <td>0.896619</td>\n",
       "      <td>[]</td>\n",
       "    </tr>\n",
       "  </tbody>\n",
       "</table>\n",
       "</div>"
      ],
      "text/plain": [
       "         lower upper       sol affected\n",
       "name                                   \n",
       "(R1).k1  0.001     2  1.078017       []\n",
       "(R2).k1  0.001     2  0.544177       []\n",
       "(R3).k1  0.001     2  0.688952       []\n",
       "(R4).k1  0.001     2  0.896619       []"
      ]
     },
     "execution_count": 19,
     "metadata": {},
     "output_type": "execute_result"
    }
   ],
   "source": [
    "basico.run_parameter_estimation(method='Evolution Strategy (SRES)', update_model=True)"
   ]
  },
  {
   "cell_type": "markdown",
   "metadata": {},
   "source": [
    "#### Review fit statistics\n"
   ]
  },
  {
   "cell_type": "code",
   "execution_count": 20,
   "metadata": {},
   "outputs": [
    {
     "data": {
      "text/plain": [
       "{'obj': 21.74449507822359,\n",
       " 'rms': 0.23257425432896822,\n",
       " 'sd': 0.23374004736946635,\n",
       " 'f_evals': 23908,\n",
       " 'failed_evals_exception': 0,\n",
       " 'failed_evals_nan': 0,\n",
       " 'constraint_evals': 23901,\n",
       " 'failed_constraint_evals': 871,\n",
       " 'cpu_time': 13.59375,\n",
       " 'data_points': 402,\n",
       " 'valid_data_points': 402,\n",
       " 'evals_per_sec': 0.0005685858290112096}"
      ]
     },
     "execution_count": 20,
     "metadata": {},
     "output_type": "execute_result"
    }
   ],
   "source": [
    "basico.get_fit_statistic(include_parameters=False)"
   ]
  },
  {
   "cell_type": "markdown",
   "metadata": {},
   "source": [
    "### Loading data from a file\n"
   ]
  },
  {
   "cell_type": "code",
   "execution_count": 21,
   "metadata": {},
   "outputs": [],
   "source": [
    "# load data from file\n",
    "exp_file = \"exp1.txt\"\n",
    "exp_data = pd.read_csv(exp_file, sep=\"\\t\") # Ensure correct separator\n"
   ]
  }
 ],
 "metadata": {
  "kernelspec": {
   "display_name": "Python 3",
   "language": "python",
   "name": "python3"
  },
  "language_info": {
   "codemirror_mode": {
    "name": "ipython",
    "version": 3
   },
   "file_extension": ".py",
   "mimetype": "text/x-python",
   "name": "python",
   "nbconvert_exporter": "python",
   "pygments_lexer": "ipython3",
   "version": "3.12.0"
  }
 },
 "nbformat": 4,
 "nbformat_minor": 2
}
